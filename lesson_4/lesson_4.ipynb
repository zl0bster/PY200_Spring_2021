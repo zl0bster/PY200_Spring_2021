{
  "nbformat": 4,
  "nbformat_minor": 0,
  "metadata": {
    "colab": {
      "name": "Copy of lesson_4_lecture.ipynb",
      "provenance": [],
      "collapsed_sections": [],
      "authorship_tag": "ABX9TyN+ZE0vDofeQ4BkaV9wcjF+",
      "include_colab_link": true
    },
    "kernelspec": {
      "name": "python3",
      "display_name": "Python 3"
    }
  },
  "cells": [
    {
      "cell_type": "markdown",
      "metadata": {
        "id": "view-in-github",
        "colab_type": "text"
      },
      "source": [
        "<a href=\"https://colab.research.google.com/github/aeksei/PY200_Spring_2021/blob/master/lesson_4/lesson_4.ipynb\" target=\"_parent\"><img src=\"https://colab.research.google.com/assets/colab-badge.svg\" alt=\"Open In Colab\"/></a>"
      ]
    },
    {
      "cell_type": "markdown",
      "metadata": {
        "id": "m6vflN6KjSqm"
      },
      "source": [
        "На прошлом занятии мы затронули три ключевых момента ООП:\n",
        "- Инкапсуляция\n",
        "- Наследование \n",
        "- Полиморфизм"
      ]
    },
    {
      "cell_type": "code",
      "metadata": {
        "id": "O_Vetk_xQZt_"
      },
      "source": [
        "class A:\n",
        "    # def print_A(self):\n",
        "    #     print(f\"Вызван метод print_A класса '{type(self).__name__}'\")\n",
        "    ...\n",
        "\n",
        "\n",
        "class B(A):\n",
        "    def print_A(self):\n",
        "        print(f\"Вызван метод print_A класса {type(self).__name__}!!!\")\n",
        "\n",
        "class C(A):\n",
        "    ...\n"
      ],
      "execution_count": null,
      "outputs": []
    },
    {
      "cell_type": "code",
      "metadata": {
        "colab": {
          "base_uri": "https://localhost:8080/",
          "height": 181
        },
        "id": "tem-p2cARbFR",
        "outputId": "d242b503-8a57-49de-821c-87171c4c69d3"
      },
      "source": [
        "a = A()\n",
        "a.print_A()"
      ],
      "execution_count": null,
      "outputs": [
        {
          "output_type": "error",
          "ename": "AttributeError",
          "evalue": "ignored",
          "traceback": [
            "\u001b[0;31m---------------------------------------------------------------------------\u001b[0m",
            "\u001b[0;31mAttributeError\u001b[0m                            Traceback (most recent call last)",
            "\u001b[0;32m<ipython-input-25-e3a53f9a88bd>\u001b[0m in \u001b[0;36m<module>\u001b[0;34m()\u001b[0m\n\u001b[1;32m      1\u001b[0m \u001b[0ma\u001b[0m \u001b[0;34m=\u001b[0m \u001b[0mA\u001b[0m\u001b[0;34m(\u001b[0m\u001b[0;34m)\u001b[0m\u001b[0;34m\u001b[0m\u001b[0;34m\u001b[0m\u001b[0m\n\u001b[0;32m----> 2\u001b[0;31m \u001b[0ma\u001b[0m\u001b[0;34m.\u001b[0m\u001b[0mprint_A\u001b[0m\u001b[0;34m(\u001b[0m\u001b[0;34m)\u001b[0m\u001b[0;34m\u001b[0m\u001b[0;34m\u001b[0m\u001b[0m\n\u001b[0m",
            "\u001b[0;31mAttributeError\u001b[0m: 'A' object has no attribute 'print_A'"
          ]
        }
      ]
    },
    {
      "cell_type": "code",
      "metadata": {
        "colab": {
          "base_uri": "https://localhost:8080/"
        },
        "id": "uf701cQFRuKT",
        "outputId": "7dfef86c-0076-4c8b-89c0-3cbec1c99ec3"
      },
      "source": [
        "b = B()\n",
        "b.print_A()"
      ],
      "execution_count": null,
      "outputs": [
        {
          "output_type": "stream",
          "text": [
            "Вызван метод print_A класса B!!!\n"
          ],
          "name": "stdout"
        }
      ]
    },
    {
      "cell_type": "code",
      "metadata": {
        "colab": {
          "base_uri": "https://localhost:8080/"
        },
        "id": "MJwT4_2ER2Km",
        "outputId": "86d950f5-0c19-4a09-faa2-6f6b7e5df065"
      },
      "source": [
        "c = C()\n",
        "c.print_A()"
      ],
      "execution_count": null,
      "outputs": [
        {
          "output_type": "stream",
          "text": [
            "Вызван метод print_A класса 'C'\n"
          ],
          "name": "stdout"
        }
      ]
    },
    {
      "cell_type": "code",
      "metadata": {
        "id": "ILSxrH5dSZ5N"
      },
      "source": [
        "def func(arg):\n",
        "    if isinstance(arg, int):\n",
        "        ...\n",
        "    elif isinstance(arg, str):\n",
        "        ..."
      ],
      "execution_count": null,
      "outputs": []
    },
    {
      "cell_type": "code",
      "metadata": {
        "id": "B-QmuRksSn1z"
      },
      "source": [
        "def func(arg: int):\n",
        "    if isinstance(arg, int):\n",
        "        ...\n",
        "\n",
        "def func(arg: str):\n",
        "    if isinstance(arg, str):\n",
        "        ..."
      ],
      "execution_count": null,
      "outputs": []
    },
    {
      "cell_type": "markdown",
      "metadata": {
        "id": "UE2aGALpnX8N"
      },
      "source": [
        "Сегодня будем говорить про итераторы и наследование"
      ]
    },
    {
      "cell_type": "markdown",
      "metadata": {
        "id": "7Jcjt6msngXA"
      },
      "source": [
        "# Объектно-ориентированное программирование (ООП) на языке Python. Итераторы"
      ]
    },
    {
      "cell_type": "markdown",
      "metadata": {
        "id": "WNnUgba_pHrV"
      },
      "source": [
        "## Итераторы"
      ]
    },
    {
      "cell_type": "markdown",
      "metadata": {
        "id": "6v1dgSnEoBxk"
      },
      "source": [
        "Вы знаете, как внутри устроены строки? А списки? А множества?"
      ]
    },
    {
      "cell_type": "markdown",
      "metadata": {
        "id": "kHfa4BjOpw63"
      },
      "source": [
        "Чтобы пройтись по всем значениям этих последовательностей (пройтись - значит итерироваться), нам достаточно знать функцию, которая возвращает следующее значение, и нам не важно как устроена та или иная последовательность."
      ]
    },
    {
      "cell_type": "markdown",
      "metadata": {
        "id": "z_-otPpGrQTs"
      },
      "source": [
        "**Итерируемые объекты** – это любой объект, от которого встроенная функция `iter()` может получить итератор.\n",
        "\n",
        "**Итератор** – это объект, который возвращает свои элементы по одному за раз при обращении к нему встроенной функцией `next()`"
      ]
    },
    {
      "cell_type": "markdown",
      "metadata": {
        "id": "r63Muy94rT1U"
      },
      "source": [
        "Для работы с итераторами в языке есть 2 встроенные функции:\n",
        "- `iter(some_object)` – вызывает магический метод **`__iter__()`** и получает итератор итерируемого объекта \n",
        "- `next(some_iterator)` – вызывает магический метод **`__next__()`** и получает следующий элемент последовательности "
      ]
    },
    {
      "cell_type": "markdown",
      "metadata": {
        "id": "uHsPCTpbr93Z"
      },
      "source": [
        "От int нельзя получить итератор"
      ]
    },
    {
      "cell_type": "code",
      "metadata": {
        "colab": {
          "base_uri": "https://localhost:8080/",
          "height": 164
        },
        "id": "RM3KKnhxrzpP",
        "outputId": "ae4c4355-01ca-4a5e-f5c5-a15be4cdedaf"
      },
      "source": [
        "iter(5)  # TypeError: 'int' object is not iterable"
      ],
      "execution_count": null,
      "outputs": [
        {
          "output_type": "error",
          "ename": "TypeError",
          "evalue": "ignored",
          "traceback": [
            "\u001b[0;31m---------------------------------------------------------------------------\u001b[0m",
            "\u001b[0;31mTypeError\u001b[0m                                 Traceback (most recent call last)",
            "\u001b[0;32m<ipython-input-1-3721d64999cd>\u001b[0m in \u001b[0;36m<module>\u001b[0;34m()\u001b[0m\n\u001b[0;32m----> 1\u001b[0;31m \u001b[0miter\u001b[0m\u001b[0;34m(\u001b[0m\u001b[0;36m5\u001b[0m\u001b[0;34m)\u001b[0m  \u001b[0;31m# TypeError: 'int' object is not iterable\u001b[0m\u001b[0;34m\u001b[0m\u001b[0;34m\u001b[0m\u001b[0m\n\u001b[0m",
            "\u001b[0;31mTypeError\u001b[0m: 'int' object is not iterable"
          ]
        }
      ]
    },
    {
      "cell_type": "markdown",
      "metadata": {
        "id": "O6lfEHzSr7pK"
      },
      "source": [
        "В качестве примера возьмем строку и получим от неё итератор"
      ]
    },
    {
      "cell_type": "code",
      "metadata": {
        "colab": {
          "base_uri": "https://localhost:8080/"
        },
        "id": "W9jrpGXsr6MT",
        "outputId": "605c5e6e-e9e5-418d-88d5-0b0b3e55ee09"
      },
      "source": [
        "str_ = \"my tst\"  # итерируемый объект\n",
        "str_iter = iter(str_)  # итератор\n",
        "\n",
        "print(type(str_))  # <class 'str'>\n",
        "print(type(str_iter))  # <class 'str_iterator'>"
      ],
      "execution_count": null,
      "outputs": [
        {
          "output_type": "stream",
          "text": [
            "<class 'str'>\n",
            "<class 'str_iterator'>\n"
          ],
          "name": "stdout"
        }
      ]
    },
    {
      "cell_type": "markdown",
      "metadata": {
        "id": "_xB7jnPWsOnO"
      },
      "source": [
        "![generators.png](data:image/png;base64,iVBORw0KGgoAAAANSUhEUgAABnEAAALpCAYAAABsYQOUAAAAAXNSR0IArs4c6QAAAHhlWElmTU0AKgAAAAgABAEaAAUAAAABAAAAPgEbAAUAAAABAAAARgEoAAMAAAABAAIAAIdpAAQAAAABAAAATgAAAAAAAACWAAAAAQAAAJYAAAABAAOgAQADAAAAAQABAACgAgAEAAAAAQAABnGgAwAEAAAAAQAAAukAAAAAdGXtwwAAAAlwSFlzAAAXEgAAFxIBZ5/SUgAAQABJREFUeAHs3XdgluW5P/Bv9t57QELYIWFv2cgQVJxo3dq6a7Vaf7ZV62nt0WrVng5cuBUUB4qIyN4bwkgCARIIZO+91++6bnzjS0ggAYqM7+2J73rG/Xye94+e9+t13QAHBShAAQpQgAIUoAAFKEABClCAAhSgAAUoQAEKUIACFKDAeSdg09TUZCez8j3vZsYJUYACFKAABShAAQpQgAIUoAAFKEABClCAAhSgAAUoQIFLWMBerr2n/CVewga8dApQgAIUoAAFKEABClCAAhSgAAUoQAEKUIACFKAABShw3gnYnncz4oQoQAEKUIACFKAABShAAQpQgAIUoAAFKEABClCAAhSgAAXAEIdfAgpQgAIUoAAFKEABClCAAhSgAAUoQAEKUIACFKAABShwHgowxDkPbwqnRAEKUIACFKAABShAAQpQgAIUoAAFKEABClCAAhSgAAUY4vA7QAEKUIACFKAABShAAQpQgAIUoAAFKEABClCAAhSgAAXOQwGGOOfhTeGUKEABClCAAhSgAAUoQAEKUIACFKAABShAAQpQgAIUoABDHH4HTlugtrYWRUVFqKurQ1PTaR+GO1KAAhSgAAUoQAEKUIACFKAABShAAQpQgAIUoAAFKNCKgH0r7/EtCpxSQMObXbt3Y29iIgYM6I/Y2Fh4eHiecj9uQAEKUIACFKAABShAAQpQgAIUoAAFKEABClCAAhSgQPsEWInTPidu1UIgQcKbf/3rX3jkkUfw9ltvITMjs8UWfEkBClCAAhSgAAUoQAEKUIACFKAABShAAQpQgAIUoMCZCDDEORO9S3hfWxsb2NnZwdbWFjbyHPJ/HBSgAAUoQAEKUIACFKAABShAAQpQgAIUoAAFKEABCpw9AYY4Z8/yvD5S01letKa6ugoV5WUmyLG3t4ejg+N5ff2cHAUoQAEKUIACFKAABShAAQpQgAIUoAAFKEABClDgQhM4ozVx6uvrzcL2paWlqKmulsXtm2Dv4AAfHx8EBgaeNYuysjLk5+ejtKQEtTW18PHzhZu7O+ztdPpNzedpbGyCg4M9fH19m9+zftLY2Iii4mIUy3ouhQWFZltPLy/4+fnBSx7bGnV1daioqEBtbR3c3d3g6uravGlxcQkKCwvM3Orq6uHj64POnTvD0bFjoUZuXh5yc3JQWVEp1+YKb28f+AcEwOkkx6kT/0qZl87P3cMDzk5OZl41NTXIyMiQayyQChkbhIQEIywsvHnOlid6TepRmF8g11YDVzc3ODk7IzwsDE4/HsuyrT42NDSgvKJcqm/skJmegVK5dq3CqamuQU5uLvzlnldVVpldPDzczTG0Uqe1USBzKywsRJl8dzRf8vP3k2v2Nn+tbW/9ns67tLQM9vZ2ZnsH+c7pUP9Dh1JQIvNycXWR6w4x99ZUClkfgM8pQAEKUIACFKAABShAAQpQgAIUoAAFKEABClCAAheAQIdDHA1CamtrUV5ejv3792NPfDwOHjyIgrxc6GduEib06RODKZMmoXNEBJwlFDjdoecpkeBm7bp12LZli5znAIoKi9G3fz9zbDdXN3NOPb4GSLq9hkc333yTafNlfd6qqirs3bsXu3btQmLiXuzZuQsenu7o1qMHBg8egnHjxsLf399Ulljvp881cNi8eTMyM7MwfPgw9OrVywRA+nrDho3YGbcDyWJQXlaBmP59cc01MzBo4CAJfNxbHuq4101NjSaMOHw4FRs2bsAmOZaGI+Gdw9C7dx+MGDkSffvGmoBJW5e1HLm5eYiLi0OuBCjDhw9Hzx7dode5bft2fP/999gTt0tCNTvceNNM3H33PWZ3DXw0FMvKyjL3be++fdi5Iw4lEmyFdw6Hr38ArrzySgwedOL89Z5v2LABOTm52LFtu9wbDWCakJ6WgaVLliEhIREaIGl3tTFjxqBbt24n3P/Kykqkp6dj3br12L17J1IOpsg9bMKAwQPRJzpa3AYiqmvXk4Zg+n1bs2atCYmuuGKqCc3KysoRtzMO8z6di6S9SYjsEoXrb7wB06ZdcazdW0s8vqYABShAAQpQgAIUoAAFKEABClCAAhSgAAUoQAEKnOcCHQ5xtCJmxYqVeOedd+RH+3gJIUpNkKJVGjq0tZaOl6WKRLcZO3bsCT/kmw1O8S+tttDA4IUXXpDzJJgwRyt/dKxdv878gG85V319g8yhAdVSDRQbG4uZM288LsTRYOP5//kL5n/zNQ6nHjbBg4YZWiWi4YiHBE89e/bEG2+8gX79+p0ws8OHDuP1/7yOTVs24amnfi8BgxOOHj2CP//5zybI0rlqmKEVHxs2b8TX8+fjzrvuwu9+9yTc3VzbDBEOHTqEf//rX/j8iy9NVYpenzra6bzEUUOlKVOm4Mknn0QPCZtaBjmJiQl4/fVZiN+zB0/9/vdSQROKOXPm4KWXXkJ2drap0HGT6ppBgweba9JrXr1mDd5++20s+u47czx9T/9MFZWcU6tavvziC9x1993N87eA5ElY9M5bs7F63RoTBKmfBncbxWXz1i1mXRydvzrMmjULnTqFH3fviyQo+vLLL/Hvf/9b/I6awEmvWc+9as0qcz/69I7GLb+4BQ898nCr1UA6l927d+Nvf3vR3O+AAH8z54ULF+LRRx8z3wO9np452egTGw0NeTgoQAEKUIACFKAABShAAQpQgAIUoAAFKEABClCAAheiQIdCnHr5gX7psmV44vHHTfVHgJ8/hkgVS49ePRAllQ+V0kpr1aqV2Lhxo6m2ePXVV6W1mQ+GDBnaYRutfHn55ZexadMmeHt64bZbb8fkqVPg4uyEtLQ0fCFBwzqp0NGWWpMuv1wqcyLlHDYIDw8/LsDRsOC5557DsqVLkSnVJ1pFM2PGNVKp0QX50sJs+fLlUtWxGtuleuWpp57C008/jdGjRx83Xw0aymX9F61E2S0VPPuTkrBDqm800Ooh1S9aeeTs7ILEhD1Yt34Djhw5gpUrlqNf375yrhknhC968LVSSfLee+9h0feLzHEGSgXKuPHjERIcbEKVJYt/MBU1Gsro8d5//wOpOOl03LzqfqyI0mqlvNwcPP/8X/DNNwtMK7UJ48dJazc/+fPF0GHDzH5aNfT3l/+OZcuWmtfjpfqoe49eYhYGvcbdEgYt+OYbc76FC75FaFAI7nvgvuZzukrl04BBA+Hp4y0VWLuRkpwi97zShGD9BwxAkFRB1cicNMQJlZZsNtJ2zTI0wHnllVfwwQcfSEVTpgloRl52mXx/BsPT0xMJiYmY99ln2C6uJWWlOJJ+VK7neXNsyzEsj1pxpdVEGp5lyLFeke/ZVxIOaSu9yZOnwcHRAZ3COyE2JrbNAM1yLD5SgAIUoAAFKEABClCAAhSgAAUoQAEKUIACFKAABc5XgQ6FOFoJ4uLiImFCBMZPmIAhgwabUCRcKi7C5Ed7baU1ePAgfPrpp/j888+xXIKM6dOnIyamr+zX/rZqup7LihUrsHr1alPJoVUhd9xxB/rE9DGOeh5dx0YrQTQw0vVbrr32WmlBFm0qMTRE0KEBw8qVK818dJ+rrroKt9xyK0ZKm7KQ0BBZG6dYAqYhEsJE48MPP8SSJUswdOgw8551GzhbOZ6jg6Np8bVFKk5q5Vi6Bs1jjz0mFTw90DWqm6wl4yQhTjwapapkm7Qa2xm301S0XH311WYu1v/SypPFixfjk48/RoO0VLv+hhsw88YbxW6wWc9Hq1m0HdtnEmrMn/+VuYalS3/A9dddb0IZy7Fs5Pp1nnV1tVi3dh22btuGLlFRJowaO2a0zNFT1u9xQ6hcq1bM6JozrlIZpG3axkq7szESVum99JdqFv08ScIpX1nP6NtvvzWtyb748gtMu3KaCcb0nLrez7XXXYcGqXr6bO6n+DR/7rHqp5gY3C2VR9F9+pjqGt1W1wWyrNGj16uhm34vNMDp2aMnbv7FzRimLeCkAspdqoW0KilSgriFC781be/02kdJyDNl6tQTghy973rP9Z5+v2iRaennIFVEf/3rXzFQ2sBpNZGrfE+Dg0MY4ujN4KAABShAAQpQgAIUoAAFKEABClCAAhSgAAUoQIELUqBDIY5GI2NGj5GKiyDzg72vVGS0HBrmaGWFBgHa3mz79h0SmsSbYKTltm293r5jh1mDRsMM/ZH/nl/eYx4t2+sP+DdI8KFr1ayR9mBa/fLrR35zQqWKBjzz5s0za+UMkEqR3/72txgv1S6Woa24Jk+eZNad2Sdrw2jgs3XrVmyUipUJEydYNmt+1HAoLT0NgyVgufdX9+K+B+9v/kyf9O7d21TVFBYWYt++JGyUaiKtGrG0fdNtNNBYu3atWQNHA5w+Eny89to/0FmCMOsxecpkBAYFmIDmUwk0tA1ZjIQlw4ePsN7MHLumpta0SVOXe++9D4/+5pHjtrG86C9rCT300EPw9vKSsOrE6qiQkBBzDq0w0vZkCdKuLSEh0QRLrq6uJsCL+TFI2y0hlauLq1QZ2aJ7924mGIuMjLSc6rhHrYaaPXs2Dh8+jAgJjW679TY886dnjttG1zLSdX2CpRLplVf/juysbLz11ptS0RMqx77suG31hQY5aqnBm1ZfPfLII9JO7dETtuMbFKAABShAAQpQgAIUoAAFKEABClCAAhSgAAUoQIELVcC2oxPX4OOyy0ZKxcaJAY7lWBryjBs9Fg72Dkg9fAhHj6RaPmrX45FDh3Hk8BG4u7th2NAhx62rYjmAo6OjqfbQ1xrmpEglR52sjWM9tJrnhx9+MOGDtkobJFUarQ13d3fcd9/9CJMwIF7WW9myWdZ3aTGa0GSqVfpKVdETTzxxQoCjm2voNEpDrqBgs7e9VC5poGM9dJvXXnvNtILTgOpRqeYJDAyw3qT5uVYwTblimjnu7t17kJeX3/xZyycaFD3zzLO4Rtq3nWxo6zmtPmprBMhaRt27d28OntRW15hpOSzr6EiOYlqxaVVMa0PX5pkzd64JcPTzvhIkPfDwQyaAaW374SOGY8KEieaal69YKSFgnJz/2FpIrW2v72kw9bvf/a6tj/k+BShAAQpQgAIUoAAFKEABClCAAhSgAAUoQAEKUOCCFOhwiKNXaWlX1toVa+VJVnaWCU60SqMgv0D+jg8yWtvP+r16+dFeW4TZS1usThERrYY4ur2XVJRo5YYOXd+mpLjIPNd/5clr/bMMrfLQCqHWhoY4um6Mp7RIy83LNfM/YTsJK7TyIzDIH37+vid8rG9odYh/QGDzfHWdGa1CURPL0LAjJSXFvNTWZ9pGzdJ2zLKN5VHX+4mStXt0aBiia9+0HNoGTUeEOE2V1mMREZ1bbnLca713bd0/na+aVVVVmdZx+lo9alsJcY476Ele1NbWIC8n27Q+CxKbEUOHw9/Pt805DJf7cIVch2WkSgCoayC1HHrdtrY20LV/9N5yUIACFKAABShAAQpQgAIUoAAFKEABClCAAhSgAAUuNoEOtVNrefH6I3/8nnjsluqVgsICs96JhgC67okuel8nn+uP7bpdR0ZQSDACg4NQmFSE7Ixsc4zW9i+Vxe11gXsdGuhYhzQHDh5Edk6O+SwoKAhbt2xGmgQqGlBYD8k0ZNigrLzMhC31UimTnplhvclxzx0cHaBr0bQ13GTNGUv7NL12PZ9W3+jQ1xpI6Fo9Ospl7nHSOq6hoV7qfGSYf+mTY8NDQiWdt2UUFf0UUlnek2TJPNV2Z34SjnRkJMs9Stq7F3v37UW6rEOk8youLpYWagkmdNH1drKzMs0aQB05rvW2ZWXl0pYt0Ryvh1T4hHcKs/641ee6no7eTw2t8qX6KL8gH1FRx8Isyw4aqOl90xZwXm2Ec5Zt+UgBClCAAhSgAAUoQAEKUIACFKAABShAAQpQgAIUuBAFTivE0eBEq0kS5cf5pUuWYv269WiU9V00CNFF5e2kjVhFeYUJLbQ6pa3Kj7bAomXdlZ69emGHBBwbN27AoZRD5sd66+0zMjKxedNmVFRUmKoRrUTRFmuWoeuv5EkViY2NrQlVZs2aZebW+GPoYdlOg5Njc4QJn/T9qh9DluZtrJ40NUpjNflrbeh1OkhbMz2eDn2tFpbr10DnkLR9s4RaycnJeOmll+R1Xcv8xuyvx8q1qiaqkHnVSpWSo8OJt00DotbanpkDWf1L1ynS6qA9e/bIukNbsGHtOiTuTYQe29ffDz7e3ibI0ePpX1lpqQmZrA7Roaf6Xdm5c7eZm6+ETF7eXqfcX0MwbeumIU5RUaFUWBW3uY9WOVk829yIH1CAAhSgAAUoQAEKUIACFKAABShAAQpQgAIUoAAFLkCBE9OAU1yEVoMsX74czz//PPbv32+qV4Kl0mX82PHoP2gAukm1RUlRMRZ8/TWWLF/WXIVyisMe93FMTCwGDhiIuXPmYHvcDnyzYAF8fH3Qu3dvcz4NF76YNw9fffGFaV02acLl6BTe6bhjlJUUo7a6RgpVGpGamooMqTSxhCnHbSgvjtV0HAtdLGvCtNymva+1QuRYlciJe2jYUCQ2On8dul7Oug0bpJ6k9aHH0TlrRU55eTm8pTqltQCn9b1bf3f79h14+eWXsHDhQhNu6fH79+1v1jnq0zcWQwYPhgZec2UdG7U7Fki1NcPWz2H9rraPK5BKGh0enl7mz/rz1p6rj6V6qay0xARJrW3H9yhAAQpQgAIUoAAFKEABClCAAhSgAAUoQAEKUIACF7NAh0KcUqnKmCPBytNPPw19PmzoUNz8i5sxbdp0+Pr4wsnZyQQO+/btkwqa9SYAaCvQOBmqg6wFc+2115rg4sUXX8A///lPCR2+Re9evREcGIQ169dCK200IIiOjsZfX/hfxMTGHHdIX/8AuEiLMR26zezZs826MS3bqVnvpIGGhhbamuy/MRwcHBEYGGCqc/T448ePxzvvvGNCnZM56bz0c1/fjrVLs74GrVjZsmUr/vSnZ7F69WrTeu6BBx/ENTNmoEtkFzi7OJtKJr12XSNIQxRdk+dMh4uLC0LDwpApIVqRtNwrlr9TDb0Hlmomb7lmbx+fU+3CzylAAQpQgAIUoAAFKEABClCAAhSgAAUoQAEKUIACF51Ah0KcTRs2YuGCb02A06Nbdzz44EO45toZsn6J93EwGgRY1oU57oMOvKiT0CEjLf3HtVS6mXVPDuw/gD2y/o6GN3369MHIkSNx1VVXmQDH8qO/5RRdu3ZFUHCweakVL1FRUbJmjJ/l45/l0dXVxVQTWWy09Zy/v7+pJvpvT0jbzr3//vvSQm2zaU13+x134P777jMuLc+tlicLlay3l3wJtnZtt8zz9PSQqqr+srZNngQ4xSgtObaGkfUxWj7XoE3XVdLh7eUjgdOpW7C1PAZfU4ACFKAABShAAQpQgAIUoAAFKEABClCAAhSgAAUudIEOhTjx8fHYLSGKhjSjRo/GhIkTTghwFMROQgDLWjAtl6BpL9i2bduwYsUK9OzRA/fdfx/CQsJMW7Tc/DyEBoegk6yBM0DCge7Svq210b1bNwRIQKIjTwIEPd7ll19+xuFSa+fqyHvBEixpezQd6RJSLfpuEa67/ro2W7115Ngn21aDrOXS3k7XxBkyZAhmzpzZaoCjx9AQR6t/Tjb0vmrQo49VldXN7c9a7uPp4YkB/QdgzZq1Zj2gFFkT6GRD55ckbfosFVOhoSEICws92S78jAIUoAAFKEABClCAAhSgAAUoQAEKUIACFKAABShwUQp0KMQprShDsaxR4uTkhPBO4c0tr1rKFMq6OcXFJaZN2KnCgJb76usjR45gw8YNSD2ait888mvcdtvt0oYssLVN23zPS9aPCQ8PN59r2PDFl1+aypwB/fu3uY+l+uR05tzmQVt8oMeOjY1FckoKkpOTMe/TzyQQG4UgWVeordEo87c9RajS1r6W90tKSmRtmmOtzNzc3OD1Y5Bk+dzyqG3UKirKfwxl2g5y7KT6RiuKGuobcOTwEQlyKi2HOO7Rw9MT/STE8ZRHXZdo4+ZNOHAwGV2jujS3lbPeYd369Vi8eLF5S4NAXQcpJCTEehM+pwAFKEABClCAAhSgAAUoQAEKUIACFKAABShAAQpcEgK2HblKGxxbM6autg5x23agrOzE1liJiYl486238Nm8eaaawtI6rCPn0YDj6NE0ODk6miCoUYKF0xmTJk/GL265xbRfe+/dd/HtggUSLhW3eaiCgkKUS9ux/+bQKpcnn3wSoy67TM5VjpWrV+GDDz9ErlQLtTYaGxuRk5MLDXLOZGiIYgmnDkily9q1a044XG1tDf7vH69h2bJlqKurazOk0x29fLzgH+CPuvo6rN+0ARrctTa06mjKlMnoJpVReu2bNm7E4799zFRHtdw+KysLcz75xNwnXUvn4V//GsOGDWu5GV9TgAIUoAAFKEABClCAAhSgAAUoQAEKUIACFKAABS4JgQ5V4nSS6pvIyAjs25eEDZs34pWXX8H0K6eji6w3k5WdhXVr12LVqlU4cOCAaRmm1R/SdKvDkGGhoQgODkKVtNb6RtbgaWoEhg0fjoCgQKn8qDfH01DD2cnZrHPj4+ONCGmv1nIMGzoUpbL2y+4dO7F3/z7Men0WEhMSMHLEZejaoxuCpfpFj3P48GGsWb0a27Zvx7333mvWiml5rLP1WoOUvn37Yvr0aUjatw9Hjh7FrFmzkJpyCMNHjECnzp3g7e2DEql4SjtyFNu2bsWuPbvxl+efxwgxcHZ2Pq2puEv1Tf/Yfti6fRt279mDd999z1TSRPeJQWFhARLEJS5uJ5YuWWJMtFrHUpnU2gn7yH6xch1r5J7reOmll6ABXrSsVaQBUHhYmLknWhGlx3r00UdNcLN3715s2LABv/vd7zBk8CBEREbCUe5jrnx/5n/9jfn+6PF0raDbbrutzXZ5ug0HBShAAQpQgAIUoAAFKEABClCAAhSgAAUoQAEKUOBiFuhQiDN27DgclWDhP/+ZhSKpvPhs3qdISExAmIQ7ebm52C8VHvqj/YQJEySECcbrr78uC9mXmh/1O4KoVRsTZb2dDRvWyzEP4MOPPsLadWvhFxAArcqxxELO0tZNAw9vby/zY/9wCTkGDBhg1uzR82nlx8gRI/H4E0/g6wVfY9H3i0xbtW1bt8maOp3h6+snQUUj0tLTsTMuzkzxyulXSuVOrbSMc2yeckNjg6kqqpcASdds0ZZjJxs1NTXm40ppMdbWtnoeSGXT559/gfXr1+Hd996DthILCw+TAMxTqpxKkSbVSOlpUpEkwU2WtCLTc1uHOGqh7+nQNWS0aqet4Sn35f4H7kfJK6UmsNm4aZPZR0MUXS/n8OFD8roaQyX48vX1RdzOndgngYteS2thjt6jMWNGY+HCb6X93VFZb2e5Ce/0/TpxGiMt4m6aeZMJenROk6UqKl/aub3//vvYLOeeM2cONkqYEyphj4NUXBXk5SI+IREODg6YPGkSpolPX2k7Z6kesr4uvQ8VUjGlYZHOT+8PBwUoQAEKUIACFKAABShAAQpQgAIUoAAFKEABClDgYhPoUIjTvXt3sz5NXk4e1m5YZ9ZY2X/wAPYf2A93d3f06tUL1113vbTPmiI/rldjq1SRuDi5SFVFQIfctAVbpIQLPXv0MG3VHCVQyc7JMVUrlh/1NRypq6uVEOOnkGHGjBn4zW9+g/Hjx5sf/zV88PD0wC/v/SW6dIuCBhkbJCipkf0SpGpEQxANejQYiY6OxrAhQ6U6ZDBq5XPrEMfNzR3d5NqLy0oQ2aUL3D3c27wenZ9WBWmYpR5ahWKZs2UnnZdWLz3wwAPo2rUr/vrXemgrscKiQqRlpEHb1bm6upq1h6JjYjBpwkR07hxxwhoybmKuTkelmkePo2sVtTX0eLfcditSJKzRoCQrK/vYujzSus5V5hgoAdm4cf3x1FNPoVgqqD6RtmZNEgqZkEW2bzl0vZoRUjn0q1/+Ep9/8aWpsqmQ0CpOwjBHCWW6dY2SSqoqs5tevzrc+6tfIapLFF5++SVT/aSVWvHx8SZIc3f3MLajpc3crbfegilTr2h5yubXfn5+ppqptLRUXDo3h3bNG/AJBShAAQpQgAIUoAAFKEABClCAAhSgAAUoQAEKUOAiELCRQCFariOxI9eiFRC7du3Crt27zY/33t7e6N+vH2IkcNC1VzSk0B/YtTJHq0jCpNrCX354b+/QQOO1117DK6+8gp49e5qwQ4MgbdmmoYv+FUn1SJ4EO0ePpGHV2tWmqkTXUZkkVRzz588/IfDQc2u1SoqEFrt27ZY1aHKhFR0aPnWJ7IJBgwaa1mwaTrQcFRWVSJdKmIL8PAlnvE2w4SPVP60NrYbR686Ruemxdf4aYOicWxtqpdU0R44cMe3I9iXtk6qUPPSO7oOY2L5mLZlAWXumtZGTm4dsMSmVMETn3U/ugZ7rVCMpKQmrpX3cfjmXj5+/hDEj5foHwVfa0ukoLy9HhlyvVugEBgVLa7TQNgMiNTTfBfk+5EmljYuzC0KkCks9O3Xq1Op+lu+PtnVLSU42YdHAQYPlmqPlXkSK28mvoUS+WxkZmSiW0MtXvldhoVq91HawdioPfk4BClCAAhSgAAUoQAEKUIACFKAABShAAQpQgAIUOB8FTivE0Qupra01oYj+IG8nlTOuEqBYV4JomKE/8GsVhgYMbYUYraG8+uqrZo0V/ezzzz834YRWj2jrLEtVS0NDvYRFkDCnCB998jHmSOWIBiG9e/fGokXfQ9fusWxrfQ6dU2VllcytzoRNOjetHNFKlbaGBi1a+aN/eh2nuh410evX8+u8W5tHy3PpsTVk0kBH5+YsYYiLVuPI3Noaljnp/PRP/dt7rrKyMjlXldw7B+h6ORqAWYb19eq16t/Jjmv5Lpj7LT4OckwXF2ez5o7lmC0fLftY2rVp+KTXbG9/YojWct9j82uU+1Ev90PmJ/vYijUHBShAAQpQgAIUoAAFKEABClCAAhSgAAUoQAEKUOBiEuhQOzXrC9fgQ//aGhp2nOzz1vbTH+cLpJpj3bp1psJn1KhR0D9tr6ZDK1tajsDAQNx++x2yrsx6E+JoEKKBRFuhgx7LU1qsdWTosXQ/yzxOta8GNx0dGpTo9bV2jW0dyxKwtPV5W+/rflo9BRyrvGm5XUev91TfhZbH19ens4/lOMfmZ9euwMeyDx8pQAEKUIACFKAABShAAQpQgAIUoAAFKEABClCAAheaQOs9vn6mq9DqlVxpEaZBjg7ryp6TTalS2p3VSWWQjmBp5eXn53uyzfkZBShAAQpQgAIUoAAFKEABClCAAhSgAAUoQAEKUIACFDjvBc6rEEerd4JDQqRKxMfAJct6KbqGjbbe0oBH/7Rax/p5Wloa/v63vyEhPkHWbgnHxHETTPuv816eE6QABShAAQpQgAIUoAAFKEABClCAAhSgAAUoQAEKUIACJxE47XZqJznmaX+kbbJ8fbwRHh5mjpGZmYl7770X06ZPx7Bhw8yi9x6eXrIOTgFKZXH7LVu24KOPPkJcXBwaGxpx9z134w9P/7FD6++c9mS5IwUoQAEKUIACFKAABShAAQpQgAIUoAAFKEABClCAAhT4LwqcVyGO5ToffvhheHl54ZOPPjbr4yTt34+wsFB4SYDj4OCIqqpK1NTUQKtwcnJyMHnKFFwxdSqmyp+bu5vlMHykAAUoQAEKUIACFKAABShAAQpQgAIUoAAFKEABClCAAhesgI20J4uW2Seeb1eQevgw5n32OXbu3mnCmqKiIlRXVwNSrePm6gpX+XN3d0dkZCRuuPFGjB0zxrx3vl0H50MBClCAAhSgAAUoQAEKUIACFKAABShAAQpQgAIUoAAFTkfgvA1xLBdTV1eHPXvicTj1MMrLy816NwH+AfD395PqnDCEyBo6HBSgAAUoQAEKUIACFKAABShAAQpQgAIUoAAFKEABClDgYhM470McBW9sbDR/FnxdO8f6z/I+HylAAQpQgAIUoAAFKEABClCAAhSgAAUoQAEKUIACFKDAxSJwXq6J0xLX1tYW+sdBAQpQgAIUoAAFKEABClCAAhSgAAUoQAEKUIACFKAABS4VASYjl8qd5nVSgAIUoAAFKEABClCAAhSgAAUoQAEKUIACFKAABShwQQkwxLmgbhcnSwEKUIACFKAABShAAQpQgAIUoAAFKEABClCAAhSgwKUiwBDnUrnTvE4KUIACFKAABShAAQpQgAIUoAAFKEABClCAAhSgAAUuKAGGOBfU7eJkKUABClCAAhSgAAUoQAEKUIACFKAABShAAQpQgAIUuFQEGOJcKnea10kBClCAAhSgAAUoQAEKUIACFKAABShAAQpQgAIUoMAFJcAQ54K6XZwsBShAAQpQgAIUoAAFKEABClCAAhSgAAUoQAEKUIACl4oAQ5xL5U7zOilAAQpQgAIUoAAFKEABClCAAhSgAAUoQAEKUIACFLigBBjiXFC3i5OlAAUoQAEKUIACFKAABShAAQpQgAIUoAAFKEABClDgUhFgiHOp3GleJwUoQAEKUIACFKAABShAAQpQgAIUoAAFKEABClCAAheUAEOcC+p2cbIUoAAFKEABClCAAhSgAAUoQAEKUIACFKAABShAAQpcKgL2l8qF8jpPLdDU1ITSkhJk5+SYjQMCAuDr63vqHbkFBShAAQpQgAIUoAAFKEABClCAAhSgAAUoQAEKUIACZ12AlThnnfTCPWB1dTXeeON1TJs2DRPGT8DfXvgbGhoaLtwL4swpQAEKUIACFKAABShAAQpQgAIUoAAFKEABClCAAhewAEOcC/jmne2p19XVYdnyFTh06BAyszLx3aKFyMvLO9un4fEoQAEKUIACFKAABShAAQpQgAIUoAAFKEABClCAAhRohwDbqbUD6VLZxM7ODrGxfZGTnYOS0hLE9usLJyenS+XyeZ0UoAAFKEABClCAAhSgAAUoQAEKUIACFKAABShAgfNKgCHOeXU7ft7JaGBzxx13IKJTJ9TU1mLo8GHw8fH5eSfFs1OAAhSgAAUoQAEKUIACFKAABShAAQpQgAIUoAAFLlEBG1nMPlquPfESvX5eNgUoQAEKUIACFKAABShAAQpQgAIUoAAFKEABClCAAhQ4LwUu6jVxJKA6L9E5KQpQgAIUoAAFKEABClCAAhSgAAUoQAEKUIACFKAABShwKoH/Sju1mpoapKSk4EhqKmpqquHk7IzAwCDExMTKGiuOJ8wpPT0duTm5cPfwgKenJ/z8fOHg4HDCdhrK1NTUIjMzAyUlpfD29kaXLpHN2xUXFyMjIxO6tou+b1nPJScnB2lyjkPJKaiqqkRgUCA6d45Ar969YWfbeo6l5yovr0B+fj7q6mrNvIKCgmBjY4O8vDzExcUhMz0Dbu5uGDxkMKKiujbPw/rJwYMHjUN2drbsa4uobl3RSdqVhYWGmmNZb9vyuc4hJTkZiYkJKCoshrOLM4KDgxERGSnX16V5c91O59VypKYeweHDh2SNm2xUV1XDx9cHYeHh6NWrF9zd3VtujsbGRqhVWVk5bG1tzDUHBAS0emzrnVNSDqGouAhZYp8vNn4BfggP7yTn6Q1XVxfrTU94Xl5ebjxrpX2bn5+/3FMv2Nsf+1rqPU5MjEfqocOor29Al65R6CPfIV8f7xOOwzcoQAEKUIACFKAABShAAQpQgAIUoAAFKEABClCAAhebwFkNcSorK7Fr1y5s3boV+/fvl78kCQ+q4OLqitCwcAwdOgyXT5yA7t27N/9Qr6BpaWlYtnyFCQD0R/xbbrnFBA0tsUtLS/Htwu+wW86hIcPo0aOPC3ESExPxwQcfSnDgiief/J0JITZt3IRNmzchOSUZ+/cmQecYFh6G7j16YOLEibhs5GUICg5qeSpoMKLBz3fffYfiokI51yhcccU0JCQkYKG8t2rlKqRJSOLo7IBn//TccSGOhiFHjx41Dps2bcK+fXuRfjQNNrZ2iI7pg65RUebcw4YNazVM0ckckmBk2/Zt0P13yGNeTr44OiNcAqAePXsiOjoa/fr1Q7du3UyYZX0BGmZt3LgR69atx14JgNJkLuXllQgI9EcXObfehxEjhpt9vby8xPJYkFVfX2/mvHXrNjTJNQyRcGrGNde0GeLo/di9a7fxyMrOMmFVTlY2gkOCENW1m5xnqJxnhLmXzhLktTaysrKwbOlSHJSwavyEiRg9apSEcLYy93VI3LsX27ZuwYH9B9DY0Ijo2BjExvbFhAnjMXTIkOO+Q60dm+9RgAIUoAAFKEABClCAAhSgAAUoQAEKUIACFKAABS5kgbMW4lRL9c2aNWvwwgsvYv36daaSRn+4t5GAoLGhAdXV6/DJxx/jgQcexIMPPoC+ffs2uzk6OSE19TDef+89856fnx+6du16QjXOgQMH8Mc//B5auXPZZSPlh/zBzcfQJ7t378Y778w2710mYUBBbh7+/a9/Yd+BJOhctLpHA5aDEugsW74cS39Ygocf/jXuf/B+uLgcXzGi26VLuPTJxx8hMyMDzlJBNGDAQPz1r3/F/Pnz5RxNcjxHEwppZY710ADr/fffl7m8IxVDJebcWhXUKMHQweSDUk1Ug40SzvzmkUdwjYQklhDFcgytSvnn//0fPpkzB4USIGkI5uBgDxv5J/nQISz+4Qc0iOnMm27Co48+ipESlFiG7rtkyRLzvlbV2ElVi6tcm1a35OTlYOu2bfjiiy9MuPK///u/GDx4cHPFkoY4cTu2Y/bbb6Gqsgp33nEnrrr66hPmp+fKlWv+/rvv8dYbb2Drjm3m9BqeaRVUWkY61kqANEfmP3bsWDz11FPmfG5ubpZpNj/myhy//34RFn2/GKVlZSbUyhDvp/7fk6ZCR4+n902vN2FvIj6fNw9x114LnXtvqaTioAAFKEABClCAAhSgAAUoQAEKUIACFKAABShAAQpcrAJnJcTRiowvvvwSr736KvZK9YSPjw9m3ngDLp802VSJ5ObmYsOGDXj99dfx5ptviGUTnnvuOdMaTGEHDRyIm2++Cd8tXGh+uJ/z8ScI9A/EL279RbO7VmysWrUa2fKoLdduv/12XH/Djc2f6xNLGKI//D9w/32oqKiAk6Mjpk6agslTp8JX2rRpaLB162bM//obCURS8NZbb6JCWno9/adnjjuWtifT42nAZCsVNCkHD+HZPz6DJRL8dO7cCdOuuAJePr4STlVLuDPA7KvBz5EjR/DHP/4R33zzDRzl3KNHjsItt9+KgQMHoUzOs3TpEhMsrVm92uxbJ8HJtRLk6LY6NMjQkGXxkh9MgBMaFob7778fsTExJuDQ9m7r1XLWLGkxVm/2sf7X998twn/++W8UFBQgJCTEhChTpYIoNjbWtFXbuGEdPv7kEyRL5Yteo3UbNu3IZkITmUuDtC+ztDWzPr7l+fN/+Qv+85//mIBK28xdfvnlGDdunLRE88MOaTW3SKqV9u3bh+USlul34t133zWft6zI0fPrtet5t2zejNWrVsl1F8FfjjNGqp8GDhoMLy9vxCfEm2vWCqmEPfH4Zv7X6P00QxzL/eAjBShAAQpQgAIUoAAFKEABClCAAhSgAAUoQAEKXHwCZyXE0cqJf7z2mvmxXlt8/eqXv5LWY1Nl7ZkgU0WhYYO+7+npJUHOLFPJEiprwjz77LPNov379cdjjz2G559/HtukGmT1mtW4csaV8HD3MNts27Ydc+fOQb1UZFx//Q0YKeGIdQChG1le66MGSxMmTMBNUq0yeNAgafEVYsKC+rp6ads1Dt6+fvjqq6+QdGA/vv9hMW694zYJZzo3B0HmpPIvR6kCyS/Ix7IVy1Es677MnHmThEfXSygSY8IdDW40uNCh1/nPf/4Ty5Ytg6+vL2677TbcKq3htHWbti3TapIukRGmndorr7yCLVs2Y8GCBZg8adJPIY5U7miIkyrrCem6Obr/r371K3hJcKVBh1baDJLrGS6t2LQtna5vYz3idu7E+k0bTLiic73hhhvQr38/uLu5S2hUJesS9cHIy0aZgEsrWY4Pao6tq6NhjmDKn/WRf3r+4fsfYOWKleYNXaPnLxLoaEWPPneQQGaAhHLTp03Dp3Pmyj2bK2sYZeIf//gHdH0dnftxQ08jawXpPdsv98LNxU3Cm9H4zWOPSggVLI5+pkpK279VSWu+b8VLK6lWSthzn1R0+YkzBwUoQAEKUIACFKAABShAAQpQgAIUoAAFKEABClDgYhQ44xBHK0NWrFghC9AnStWLE66/7nrcefddEr64H+fVp08faaV2P7bL+i5anbFU1kF5/PEn4ObmarYLDAyUgGQmfli8GOvWr5d2XGvx5Rdf4u677zaBzOrVqxAfH4/IiEjcJNv16NH9uONbv9BqjfHjx+O+++7HtddeY8IP688DAgNgL63QUpJTpLpnpVSlHJQqoO9w6223mioi6221GkePl5Obg56yFs2tUlUz6fJJ1puY59pOTtcC+vbbb01AMkUqfx586CH0kn0sQ48VGRmJu+66C/v27kPq4VRZ82UrNATz9vY2QYaGNMkHk1FXV2fCnzHSjixUAijL0EoWrUTqIcFQayMv/1hrN61uGTt2jGljpmvM6NCWcZ1kTR39O92hc9U2aUlJSdAKnBkzZuC6666T+/hTqzR3ed5ZzuHs5Gyqj957/z0TbE2fPt2saePo6NDi9E3mdVNjkwn/Hn7oYYwaM/q4bdRH3XZs3w79zmVkZkDbxXlLOKbhFgcFKEABClCAAhSgAAUoQAEKUIACFKAABShAAQpQ4GITOPbr/hlcVXz8Hnzz9XxT0TF29BjTMqtlgGM5fEREBKKjo021i64jkyEVGg2yYL1ldOnSBXfeeYepFtGQYPbs2SbgmPf551i6bClcnF1wzdUzMFyqMnSNmbaGhi4TJ15u1s1p6wf+/lIZNHjwQFMhoy3MFkh7tSJp49VyyKHM0Gqbx594QtbhGdpyE/M6MyPTVBhlZ2ebKhxdp8Y6wLHeSatftHKle7du0O217ViZzEGHztdP2r7pqJTKkzwJLLQtXHuHpS2bVghpS7Xs7Kz27nrK7SorK5GQkGjWpmlsajRB0u2333HCekKWA2kF0AxZv8YShG3dug27du2yfHzCo1YvXSPbtwxwLBsOGzrU3C/L6wKxaa2lnOVzPlKAAhSgAAUoQAEKUIACFKAABShAAQpQgAIUoAAFLmSBMw5xsrNzsCc+wVSrjJLKj0gJYk42gmStmwA/f/Pje1FhgYQ4P63rogHGXXffI0HQeNNe7MCBA/i/f7yGl1/6GxIlPOgu1Te/efy38PA41mLtZOepkcqYmprak22C3r16o1u3rmZtmqzcbFP90tYOWmlynQQM2hattVFWWoKkhL3mGNqyrFvXrq1t1vyeu7ubrNHjY1qsJcqaMSXSRk2Hq6sLRgwfJq3H/LF1yxa8+MIL+EQqXzSQac/QKht3qYLStXr+9re/yZo/b0tIlNSeXU+5TZ20otN5WNrWafXUoEEDT2hBZ32gkOAgU32k7x09moqjRw5bf3zc80apxNEKpLaGBlSW9m+6XW5unnyPGtranO9TgAIUoAAFKEABClCAAhSgAAUoQAEKUIACFKAABS5ogTNup1ZcXAytqtEf1xP27MFnsm6Nt4+3CSesZfSHf63I2Ll7J6pra+DS4CpVIjkmzLFUj+j2GuRoCzUNNT7++GMTYOh2vaWC5y55PzKic3OIYH3803nuLyGEt8+xqhdLMNHWcfRzbUfW1qiQKpWj6WnQCpjG+kZslzV8cvNy0SDr5LQcer2bJaA5mpZuPsqU/aqqKs1zrfj57W8fR35eAT6XtXE0yHr++b/gjddfx1hpMabrAWmLtbbGTFkDqLa2TgKcF5GSkoL//Off0rpuCQYMGCBrAU3AVVdeedLraOu4+n5FRTkS4nebtXX0tbZTO9VwdXFF5/DOSEtLQ2F+IYoKi0+yy49lTyfZwvojrbgCOraP9f58TgEKUIACFKAABShAAQpQgAIUoAAFKEABClCAAhQ4nwXOOMQpLS1tvj5dbH7zls2ws7czlTnNH8gTG/lH/y8/v8C0DtPQp7y83IQe1tvp8/4SOPSVdmeS4pigR98bPmy4rG9z3VkLcPSY2pLNSQIVHdrW7GRVILrNsdBAn504tOXZ4dTD5oMDBw8iMysT2nKstaFhVmFhIYqLj1Xf2NjayXUdK4qylecRsm7Ow7/+NfrExGDjpo3Ysmkzdu/eLWv3JCNp/36sWLlSqnWGY9ToUVJ1c3xVkq5Fo2v76FpD27Ztw0rZdosERjt37jTH2CPHGSptyWJiYxF1iqqplnOvkvZuKcmHJMSpQUhwsKzVE9pykxNeOzs7yRo84XDc7oBsWcNG1xY6W+NUwdvZOg+PQwEKUIACFKAABShAAQpQgAIUoAAFKEABClCAAhT4OQTOOMRpaPipnZWPrw90AXqtpmkr8AgNDTNhSaQEFaGhoa0uSp+VmQX90+Hs7GxagzU2NqBJqlzO5tCWY7U/tu/SEEaraE422rom3Ucd9HgaLDTJPy6urtL2zVMcWj9mcHCIMfL09JQ1fkac0KZtxMgRGDpsqKnoWbjgW6xeuxoHJcRZunSZ+Zs4YbwJwSZMnGjW4LGed0Tnznj00UfNWju6BtHKlaukomc/Nm3aZIKd2L59JRC7FnfJ+kN6P/R+tWeof620qNNHR0cNwNpel8hyPBsJrJycHaGPNVKBdaoWd5b9+EgBClCAAhSgAAUoQAEKUIACFKAABShAAQpQgAIUuNQFzjjEsaxPowHHH/7wB8ycOVOqQNzOyPWzuXPxzfz5plKmV69epqXYsiXLEBoUghdeevGMjm29c2F+HoplXR4dXWUNG63MOd2h69BERUXh0KFDpm3ZY489ZqplTvd4up+GK8NkfRz92y8VOPO//Apfz/8acdKSboUEM9lZOSgtLcM9v7yn1dP07t0b+nfPPfdg0aLvMXv229gr6+/sjIvD0dRU5OVk45lnn0Vg4KnboukJnCRQ6xQhVTXilJWdhYysjFbPa/1mjQRb6UczpMVbLSI7R5oKHuvP+ZwCFKAABShAAQpQgAIUoAAFKEABClCAAhSgAAUoQIHWBY718Gr9s3a9q5UkltBmv6zfkiMts053aCVMXNxOLF7yAw5Ja7J+/fvjP7NeR7du3ZCZnYmlK5Zh/foNp2x71t7zFxeVoqS41LRUCwsOleqSY63V2ru/9Xa+UoU0ZPAgEwQl7z+II4dTrT8+4+dq8OhvH8Nb78zG73//B3OexH17sX7DemRmZp70+Lp2zc2/uBkLFizAk797Aj17dEeBtHOb++ln0tat6KT7Wn+o9zkmtp9ZU0dDmfbca610OpqRZu6Zj6+XrEHkZX1IPqcABShAAQpQgAIUoAAFKEABClCAAhSgAAUoQAEKUKANgTMOcQIDAtBbqmW0jdiK5ctNxUgb5zrl27q+zosvvogVK1agR88eePihh2QtnKG4/vrrESxrsMRJBcmf//xns37NqQ7m4OAA/WtrFBcXY+u2rTiYkmzano0aPRoeLdaXaWvf1t738vKWNWxioWv9xO2KM2vQtLbdyd47Wbs2rcpxlRZtAwb0x80332Qqh/RYySkpiI+PP9lhzb1xk301zLnnnl9izNhxZntdl0fXqWnvcHNzR3SfPrK5LG4kIz09HbtkjZ2TjVSp+NE/vbYQad0WFt7pZJvzMwpQgAIUoAAFKEABClCAAhSgAAUoQAEKUIACFKAABX4UOOMQp1fvXph6xVTU19eb4GLpkqVIPY0qFG27tWnjRmn7tdBMbfy48bjhhhtMS7Gbbr4ZU6dONUHA8uXLsPj771FcdPIKksyMDOTn57d6o6uqqvDVV19hy9Yt5vPgkGBMnjoZnl6erW7fnjd9fX0xQta20TWBdKxbvx5Lly0/5a7WwY0GYeq4d29im3PXA4aEhJiwyBxcwhHrdYkOSzu3xITENs8bIusQ+fn5m8/N+j2NTW1u2/IDJydHqYrqil69epiPkpKS8PbbbyM3N7flpub1zp078d1336GyshIuzi5SqTRE2rtFt7ot36QABShAAQpQgAIUoAAFKEABClCAAhSgAAUoQAEKUOB4gTNeE6dLlyjMvOlmvPHGmygoKMC8zz6DjeQC/+8PT0FbrWlligYV2ipN/7T1l7729/eDr69f82wOHDyA9957TwKJRgwaMAjjxow1lSe6Qc8ePTBhwgSsXLkSGRLOzPr3LISFhWP6ldOb97d+ouHE+rXrEBERCTdZqyYowB/2UpUjb5u2XvHxCfjHP/5h1q/ROQ4ePBhDhgwxFSvWx+nIcxcXF4waNQqDBg1CkQRMmzZtxHN/ehYBcp1du0ZJ+zPn5uNrUFNSUoKysjLjExERYcIqPd/Ro0fx8ksvYcTIkRgrFTP6mQ6txFG3ysoqqSDabuau7+vn/fr106fmvO+/9z6Sk1PE//foEhnx4zo/NrC1tTFhz7p165srd3Q9o6CgQLNve/8VFBiIW35xi7ShK8HOXbvw0YcfmrV/Lr/8cgmH/Mw5GhsaUClB2bx58/DJJ5+YiqjLJ0zE1ClTZP2dgPaeittRgAIUoAAFKEABClCAAhSgAAUoQAEKUIACFKAABS5pgTMOcVQvonNnvPTSy3jmmadlwftsfPjJR4jbvRNXz5iB7t26o76hHllZWSjIy8XH8qO+u7Tluv/++3D/Aw8afG2jtlZCl6/mzzdBxU2yfsuVsq/1mDx5slmD5cknn8SexHhs3rJZgo4REgT5Wm9mnmuIk7A3AX98+g948803MGH8ePQfNBD1dbXYt3evVOBsk6Aj2Ww7WtqoPf74480BywkH68Ab2r7tj3/8o7nWbdu2Yfv27SZ8uvbaazBWQiltJVZTU4MkWcvm8y8+R0Z6JmZcdTVefvXvZl2hzMwszJ//tVmr5pM5czF44CAJhkajd0w0QkNCkXb0CLZJC7ht23egWiqXnJyc0EMCrrCwMDPLuXM+wdfffI2ExESsWrMKv5C2a12iuiJQ2qi5SiXMbrknn8o6OHv37YOXlxdumnkj/FrxO9klq+1dd9+NpP37kSiWFRUVeOCBB3CdXOPQYcPNukJZmRkyx+1SmbXLzFMDqIceeQQx/fqe7ND8jAIUoAAFKEABClCAAhSgAAUoQAEKUIACFKAABShAASuBsxLiaEXHNddcI6GCo6mmWbVqFdasWYMDBw6YsEArcMrLy1FVVSnVIsUYM2YMAgKCmqfx5Zdf4tVXXzUBzhCpihk+fJgEPa7Nn+sTXc9Fqz00kFkpx589e7YJPn7/+98ft52+0IqVqyQE0hZtuyVI+Ojjj7F4yQ9mu6KiQlPNouvL3HnnnbjrrrvQx6zzcvxh9BhaMaMhhQ6tmjnV0LBiwIABePnvr2C+XNM3EsikZaZjzpw5WLVqtczXXY5ZJwaF0oIsz1QaBQQHSpXMsa52/v7+mDRpkqlW+kJCni0S2Ggg4+vnC3dZr6eyohy5EoRVVVVDK38efey3uEmqoCxj2vTp0O5o73/wAXbK+kFvvz0bXtLeTa9VK6Ly8/Pkr0CO5S4Bz82y/6Pwk3Nahl6zhkx6rVUVVaiW87Q2NKx6+OFfIzIyEp/OnYNNm7fgU6nAWrV6jTlPuexfIOvtuLu64cpp03Hn3XdhpARujrJfy9FQL1U70m5NrTXMq62tbbnJca8t90O/T3V1dcd9xhcUoAAFKEABClCAAhSgAAUoQAEKUIACFKAABShAgYtJ4KyEOFqd4SdBg65ho0GEBhla6aKtzwoLC0zFSPfuPSTEcEV0dLSENMMxSMIay9CAISYmBsOGDcO0aVfImiu9LB8d99itWzc89NCD6CSVP9q6TcMEs96KBBo6B8vQMGJA//7o368/UlJSsC0RNXgAAEAASURBVGLlCmRKJZD+6N9Z2o91Cg83FSzXXXedaUVmCVEs++ujvhcia+VcIev9aOs3PbfO81TD0dER48aOQZisPaNVMnG7dkLX51GLsrJSWXfHG/37D0BgQCBiYmMwYeJEcx16XEdHB5lPX3ONvWWtIa3m0fZqGlhoGzonF2cMlOqccJm/Bk+/kLZmukaNZWhru5slnAkODsayZcuQl5dnqpd0baBaCWd69YqWdmaB0vJtICZPniSve1t2NY96ff3E7MYbZ0rVUj2GS0s3a1frjaOiuuCOO25HsIRrsStW4ohUCWXJHCsl9OoTEyvBkQv6xvbFtCuuwNjx46x3Pe55gMxn3PgJ0vbOAz5SFdSzZ8/jPm/5Yoq0ZHNzczPbdZbvQXvuSctj8DUFKEABClCAAhSgAAUoQAEKUIACFKAABShAAQpQ4EIQsJHAQ1eaTzzbk9V2W/ukbVe6hBBa+dE7uo+0PvMxwYb1ubTyQ0MGrcLQ9mCdOnWWUKPtsESretLS0qQapcps7y2VJvqnYcNbb71lWntpAPPcc/9jnusaLPtlLtpCTMOQgIAA9JEgqVOnTtbTOOG5BkGVlRUSQhWZoEjnpqFBa4HPCTtbvVFeXmGCpIT4PciTSphQWcunlwQVGmadKoDQ+aamHjE+CfG74SBz0KAmundvE+RYnabVp+qUlLQfhw6noE6cYyRU6dGzl7RmC251e73mQqmUKi0pNtfp5e0Dby/PVre1frNC1uk5fOiQrLWzBwVyL/tKEKShXlRUlKkYst625fMqqZbS6iytMtKAy1vavGmY1dbQMExd9H5oKz39bnX0nrR1bL5PAQpQgAIUoAAFKEABClCAAhSgAAUoQAEKUIACFDifBP5rIY5epIYC1qOtqg7rbc7kuXWI86c/PWfapUVGRphDWs/lvz2PltdgfW7LZx2ZQ8v9z9W+lrm299F6nh2ZY3uPz+0oQAEKUIACFKAABShAAQpQgAIUoAAFKEABClCAApeSQNslL2dB4Xz6If/nnMuZnvtM9j+TfTv6FTiX5+ro3Lg9BShAAQpQgAIUoAAFKEABClCAAhSgAAUoQAEKUOBCE7C90CbM+VKAAhSgAAUoQAEKUIACFKAABShAAQpQgAIUoAAFKECBS0GAIc6lcJd5jRSgAAUoQAEKUIACFKAABShAAQpQgAIUoAAFKEABClxwAhdViGNZk8XyeMHdDU6YAhSgAAUoQAEKUIACFKAABShAAQpQgAIUoAAFKEABCvwocFGFOHV1deayNMSpqalBU1MjbzQFKEABClCAAhSgAAUoQAEKUIACFKAABShAAQpQgAIUuCAFbCTwiJaZJ16Qs28x6QMHDmDdunVwdHRE37790LVrV7i7u7XYii8pQAEKUIACFKAABShAAQpQgAIUoAAFKEABClCAAhSgwPkvcNGEOFp9Y2Njc/6Lc4YUoAAFKEABClCAAhSgAAUoQAEKUIACFKAABShAAQpQoB0CF007NQY47bjb3IQCFKAABShAAQpQgAIUoAAFKEABClCAAhSgAAUoQIELRuCiCXEuGHFOlAIUoAAFKEABClCAAhSgAAUoQAEKUIACFKAABShAAQq0Q4AhTjuQuAkFKEABClCAAhSgAAUoQAEKUIACFKAABShAAQpQgAIUONcCDHHOtTjPRwEKUIACFKAABShAAQpQgAIUoAAFKEABClCAAhSgAAXaIcAQpx1I3IQCFKAABShAAQpQgAIUoAAFKEABClCAAhSgAAUoQAEKnGsBhjjnWpznowAFKEABClCAAhSgAAUoQAEKUIACFKAABShAAQpQgALtEGCI0w4kbkIBClCAAhSgAAUoQAEKUIACFKAABShAAQpQgAIUoAAFzrUAQ5xzLc7zUYACFKAABShAAQpQgAIUoAAFKEABClCAAhSgAAUoQIF2CDDEaQcSN6EABShAAQpQgAIUoAAFKEABClCAAhSgAAUoQAEKUIAC51qAIc65Fuf5KEABClCAAhSgAAUoQAEKUIACFKAABShAAQpQgAIUoEA7BBjitAOJm1CAAhSgAAUoQAEKUIACFKAABShAAQpQgAIUoAAFKECBcy3AEOdci/N8FKAABShAAQpQgAIUoAAFKEABClCAAhSgAAUoQAEKUKAdAgxx2oHETShAAQpQgAIUoAAFKEABClCAAhSgAAUoQAEKUIACFKDAuRZgiHOuxXk+ClCAAhSgAAUoQAEKUIACFKAABShAAQpQgAIUoAAFKNAOAYY47UDiJhSgAAUoQAEKUIACFKAABShAAQpQgAIUoAAFKEABClDgXAswxDnX4jwfBShAAQpQgAIUoAAFKEABClCAAhSgAAUoQAEKUIACFGiHAEOcdiBxEwpQgAIUoAAFKEABClCAAhSgAAUoQAEKUIACFKAABShwrgXsz/UJL7XzNTY2or6+HlVVVaiuroaNjY350/caGxrQJCB1dXVAUxMcnZzg4uICe3t78+fo6GgeLzUzXi8FKEABClCAAhSgAAUoQAEKUIACFKAABShAAQpQgAIAQ5yz+C1okiBGhz7a2tqitrYW6RmZKCosxIED+3Hk6FETyuhnBfl5KC8rg4Y8WRnZJuAJ79QJffrGIMA/AAEB/ggLC0VwcAi8vLxOmKWGQRwUoAAFKEABClCAAhSgAAUoQAEKUIACFKAABShAAQpcvAI2EjhEy+UlXryXeG6ubF/SfmzatBFJCXuxbsM6VEnVTScJZTTI0SqcsLAwRHTuZEIbrbQpyC9AWWk5GhobkHLoEI4cSTX7+Pr6IiIiAk5SlaNhjw47eYzoFGEqeCIiIzF2wjh0794Dfr4+5j2zEf9FAQpQgAIUoAAFKEABClCAAhSgAAUoQAEKUIACFKDARSXASpzTuJ2lpaVISkpCZmaGeWxqhAlr0tLS0CShTFh4OGpqalAvbdJKikvg4eEOZ2dH1NbUoqSkBIVFRTh6NA2FUqGjQY2TsxOcpY1ao1TwaBWPnY0dMqWCx9PLE926dkVwSKgJa4qLCnHoUAqKZP+q2mo4Sbs1Xx9fREqw07dfP0RH92aocxr3k7tQgAIUoAAFKEABClCAAhSgAAUoQAEKUIACFKAABc5HAYY47bgrGqzk5uYiKzNL2qOlIz8/H1lZWUjauxep0iLN1dkF7m7uZm0bGzsbBAYFQdezKZPAxsPNA15+3hLUOCI7Pxd79yUhOzcHOdlZQH0THFydEC6hj7uPp3ne1NiEqrpqVFRVws3d1QQ8Hh4eyJP2a42ygk6pBDjJycnyvjMqq6tgb2uH0JAQpKenS6C0T6pzfBEYGITILpESHDk3V/O04zK5CQUoQAEKUIACFKAABShAAQpQgAIUoAAFKEABClCAAueRANupneRm1NfXmxDkwIEDWLz4B6xfsxZLly9Dz149Mfqyy3D4UCoGDR0i4U0NMtMzpDInC6vWrDbr23h4eiIqKgpdOktrNBsHONjZSxCTj82bN8FG26RJMOTl7Y1wabOmLdXsJIzJK8hHhlT3ONg5oNamAQ1NDab9mq6b09jQiBAJa1zd3OAlx3744V+b9msZ6WnIzclGXk4+jqQfC5SGDxuOGdddY7YPDAyEu7s77OzsTnKl/IgCFKAABShAAQpQgAIUoAAFKEABClCAAhSgAAUoQIHzTYAhzknuyKZNm7Fi2XIsWrQIB1MO4sYbbkBIaCi8fXxMNc7CBQvgIBU3mVmZqK6qRqh8Vl5TibqGetMWzdXVFV0iu+Bah/4IafKEq6MzYr27mDNK4zRpfWb7Y7giFTm29jhYlI70khwMD+mD123W4kBTLlzgYIKcnOxcCWtyj1UCSVWQl4eXBEFATW2NeT5m1GjceNNM9O3fDynJKfjg3fektVsTevbphQkTJ2LUqMvg6OB4kqvlRxSgAAUoQAEKUIACFKAABShAAQpQgAIUoAAFKEABCpxPAgxxWtyNyspKrF69RoKb77B79x44OzrBzc0VttImzcfLB4ePHoGuiVNeUYHktEPw9feDVuy4ObkiNrInhtl1kaAmEl5O7pA6Gri5uiHCxg+uEsY42DvA083npzNKNY5W5JghgU59bSWqGmrg4SLnQTZKIO3S5H3dpK66BnsyDyI1NwNFVaVYVrsX9baNKC8vN2vr6LEnXDYWo0aMlGodVxw9kobhw4cjJSUZhw8fRlhoOO6595cIllZvHBSgAAUoQAEKUIACFKAABShAAQpQgAIUoAAFKEABCpz/AlwT58d7VFxcjF27dmHt2nXYsGEDEhLipT1aJrp17YaePXtIazPg4JHD2J2wB2WFxXBzccPEgP7o3yUadRLXZDuUwyXUG9fajEQ/r26AhDqQdmjSK03OII9aNiN/jbLeTVvDXlqueUgY01hfjS4IkM1sftrUyR5dAnxR4lWOOrtG9GvoZ0KcyopK5Eg7tUxZo2dnUjLySgrQp1dvDBw0GJOvmIrvv/sOeXl50rrNCwcPHESGtH1zdHSAt7cPOnUK/+n4fEYBClCAAhSgAAUoQAEKUIACFKAABShAAQpQgAIUoMB5JXDJV+JoFU2utCeLi4vDiy++iPj4eLi4uMDDw8OsT6Pr0NTJNtmy3s3gXv3g5eqBuqZ6RDoH4pGIK9E/qDeKJDhZVbsPyf5leATj4NLkhEbZ5mwPW6nKkR5sPx72x/xNX0srNtg24aWMz5FQmgp/L190j+2NmOEDkbA3EX4+3hg7Ziy2bt2GLAl77Ozt0KN7D4wZM/psT5HHowAFKEABClCAAhSgAAUoQAEKUIACFKAABShAAQpQ4CwJXPIhzto1a/DZZ5+iIK9QAo8EXHX11XB398Czzz6DTpER6ClhR1V9DapySvB095kYE9IX3s7uqG9slFZndrCVEEXXt2mUnmdNkqfYQ4KWn2nUS+WPna0diqrLsC57D15KnQ8nX3f4unkhKDAIj/3uCURGdIa9vb1Zs8fBweFnmilPSwEKUIACFKAABShAAQpQgAIUoAAFKEABClCAAhSgwKkELtkQJycnB++88w7mzp2LbKlOGTt6LNIz0gFHOwR0DkHnoDDcVtEfeaWFaLBpRKRrEPLl+fCgaHi5+UF6npl2aRre2Og/WhEjHdMa5Z+fa9hKqKSVOk0N9SisLkVqRS7SKnOxrmI/Et3zcf0116Oxsgbubu6IiYlFv359f66p8rwUoAAFKEABClCAAhSgAAUoQAEKUIACFKAABShAAQqcQuDHnlyn2Ooi+LhJwxYNWmRoy7Q333wTK1euRFhYOCZNnoxdcTtxIOMwujkEYWTAUFwdPgWxhYEoscuTVmU2Etz4IsU2FXZ2EpQ01ErlzU9hjVbi6PF/7tGoa/DINPQ6/WS+fp4h6FVWgNCqACTZ5KJuUzZW5+5CQPdwuHl7orq6Cj169JT1cbyabX7ua+D5KUABClCAAhSgAAUoQAEKUIACFKAABShAAQpQgAIUOCZwyYQ4GmxUVVZi+44dmDfvc8yePVvaitnhammfNmbcOCxavAjOFcDVfYbjweDJ8M3wlfZo1fBy9zxWYdNQg67enSSsaTguwDkfv0gmVNJKIflzc3HFUPdYDK2rw+6sJOTUBsGxzguVRwuwTMKs3Px8DBk0GMHBQefjpXBOFKAABShAAQpQgAIUoAAFKEABClCAAhSgAAUoQIFLVuCSaqf25Zdf4N//+hfWb9iIXr16IS0tzawPExIaYta3eSziakwPG4pAd380aghykQ3T9s3OHmn56djeeASH+tnicGoKrrryKkyZMvUiu1peDgUoQAEKUIACFKAABShAAQpQgAIUoAAFKEABClDgwha4JEKcOqlC+d+//BXxe/bA288XHl6eeEcqcSoqKuAR5odrB0/CnwKvQ7CTN5ztHGFra3tetEc7218ty9o9TY2NyKwowNaqFNjMiEJA11C42jiZlmr9+vVja7WzDc/jUYACFKAABShAAQpQgAIUoAAFKEABClCAAhSgAAVOQ+CiD3HKysrw7ux3sGvXLglnbODp6YUGWc9mz4EEBOc6YEhAb4zvMQSDXHpI+7EGCW/qL8oAx/q7YWtrh/q6WuSUF8I1NgRbvbJREAoM6iMBTnUDggOD4OnlZb0Ln1OAAhSgAAUoQAEKUIACFKAABShAAQpQgAIUoAAFKHCOBS7qNXGSk1Ow8NtvsXjR94jp2wfFJcVISt4PR6m2mdJjBMZFRGGAXQRcnL1l+Ziqc0z/852uUcIqO3t7hPmEAMlN8HWqhm2NI0L9HJDsUIrMvBxZ96cJ3t7eP98keWYKUIACFKAABShAAQpQgAIUoAAFKEABClCAAhSgwCUuYHsxXn+TBBCZWdl4+pln8PgTj8PHxwfaUm3NunXYsT0OES6BGJIVgFj7TnBxc5cCnEsnwLHcbzXSdX8aHRswpKkzJsUHwm3eEXRxDUZlRSWyc7LFpdGyOR8pQAEKUIACFKAABShAAQpQgAIUoAAFKEABClCAAhQ4xwIXZSVOXn4Bbrv1VqxatRLBQUGmPdrcuZ+hBFX4Zd8r8X/hd6C+oR72NnZoaqg7x+Tn3+ka0QgbR5lXfRM8305GxA2hqI7yNJVLvr6+59+EOSMKUIACFKAABShAAQpQgAIUoAAFKEABClCAAhSgwCUgcNGFOHl5eXj37dmIj99jbl9JSQnWbVgH91Bf/CZyMu4KmwA7GyfY2dlKuNOIpkvgJrfnEptsZCvBsKlqgOfSPLg1OKD+shDk5Obiy3mfI7JLF0y5Yirs7ezaczhuQwEKUIACFKAABShAAQpQgAIUoAAFKEABClCAAhSgwBkKXDQhTk1NDY4cOYKVy1dgzpw5qCgvNzS10jLM1skB98dejV+FXI5A+yA01JXBRv7haCEgJE2OtrA/WgGHDfmo93RBVWcH7EmMx4EDBxAQGIChQ4e22IkvKUABClCAAhSgAAUoQAEKUIACFKAABShAAQpQgAIU+G8IXDRr4mjI8OmcuZg1axYS9+1FtYQ6mtOEBgbjjtHX4PHg6Qi08WWA055vkacjmlKKYf9ZMgKqHDFm9CjU1FdjxfJlqK+vlwqm9hyE21CAAhSgAAUoQAEKXKwCjY2NqKyshFa919TWXqyXyeuiAAUoQAEKUIACFKAABSjwswtcNJU4y5cuw7x587BvfxLs7e3R0NAAF18PjOsyGC8G3mSgGxtrWIHTnq+chjSu9mgsl/+H/KUduPUPN8MtwAebV6zFrl27EBYWBj8/Pzg66kI6HBSgAAUoQAEKUIACl5pAdnY2Nm7chLT0NAwfNgyDBg3i/za81L4EvF4KUIACFKAABShAAQpQ4JwIXLAhTpOUg9jYHGuJtnv3HixZutQEOKqm1SKugV6YFjEct4eMlYocWcelqf6cgF7oJ7G1sUV8fgqc7BzQwzcKjbXVwLsJGDe4B+wm2uDNWW9g0NAhmDZ9GiI6d77QL5fzpwAFKEABClCAAhTooMDOnXH46KOPsHDhd6YaZ+CAgbjrzjtxw8wbO3gkbk4BClCAAhSgAAUoQAEKUIACpxK4YEMcDXAqKiqwY8cOLFjwLeITE8y1uri4SLgQgUG+3XFj6GUY4R+NpsY6sAPYqb4Kls+b4OvsiaKaMqQUH0GkZzBwoABufb0QFhMFD09PLF68GF27RjHEsZDxkQIUuKgE9D8SKCoqktaRx/5jATs7O3h5eV1U18iLoQAFKHAmAvF74jF//nwcPZpmDrMoa5Gp1G4txNHq+HJZq1L/Iys7O3s4OjnBxdmp+T/GOpN5nO/7aru56mr5D6JkqIOn/O9oJ7l+DgpQgAIUoAAFKEABClCAAh0RuGBDHL3I1NRUfPDhh/+fvfMAjKu6tvZW771Ykq0uufdewb1SA4RiCARCgISQRv4kJC8hL3mB9NATUoAEO8E2YMA2xb13yU0usi3LktV779K/1pGvPBKSC24jex8Yz8ydW8797uicuXvtImtWr5aiwkJz3i5uLjJ85HB50HGsjPPqLd4ePtLc1HAhTK7rdZthtOzpGy5OlY6SUZ4nMT4QcbxcpS67TPwjPGXObTfJ9576jqxbt0769u0rPXr00JvR6/oboyevBK49AvWo7fAZojuLioqEr0NCQuS+++4TR8drpozctXfR9IyUgBK4ogQcMB66u3uY9GkcJ9kcnT4/RrJuDsfSlStXCtOvBQYGSp++/ZB6bbi4XQdpeZOSkmT79u1CJzM6BMyaNUtiYmIML/1HCSgBJaAElIASUAJKQAkoASVwvgS6rYjDm8KDBw/KShja8vLyjHcbT9rV1U1CAoOkv2useDf5QcDRQqvn+2Ww1iOzHh4B0sMz0HiiN7uIeO8uFe9KB/G4u79ERvaSFctWSF11rdz3wHwZMmSIqUNkba/PSkAJKIHuTIBe0y+99JLs2LHDeI4nJCTIl7/8Za310J0vqvZdCSiBS0pg4sSJ8vWvP4aUam/J4cOH5ZZbbpF77r33c8dg9M2xY8fkF7/4hRw9elTC4Pzz4INfkQH9+l4XIs7ixYvlxRdfNFFHYWFhEhcXpyLO574lukAJKAEloASUgBJQAkpACSiBcxHoliJOcUmpbN60Ud5dsliys7PNjRFFndDIcBk/cKSMzw0Tr1CcmluzCP7XduEEmH7OwSYHXbObozieqpSwNxvkZ9/7sTzzx1/KW7hxd4UX5bBhw8wBrNRDF3403UIJKAElYD8EOJadPHnSCDjslVV/zX56qD1RAkpACVxdApGRkfK1rz0CgfsuUxOHacICEGXTsVHEKSgoPDOeOjpcV2Mq5xM2RnJqNGfHb4e+VwJKQAkoASWgBJSAElACSuB8CXQ7EYc3Q+VlpbJz507ZjRQFFG+cnVtPY6h3rDybcK+EVruLp6MbokiazpeDrtcJgRabSkKOLi5SV1sjxw4cl2DnHjLUJ1YOeRyQd997V/r06yO33X67+Pv7d7IXXaQElIC9EVDB9dxXpKHhTBpOzjEUrLUpASWgBLobgcsx3nOfHBdZK6xjvbCOx2MNHNYYY7peNr53c3MVD0/P7obyovrLVGpkxrRqV7N1vD4d+3Kuzzuur++VgBJQAkpACSgBJaAElIASuDIEup2IQywsjpqWloZiqqdM/m16+UX69pDbI8bJEK+BIi4V0tLcZFKBXRmM1/ZRHB0cpLKuSnKqCyWzpkCOLksSh+BmiUeKoT27k2ThwgWSkJggEydOurZB6Nld0wQaMI7k5uRITU21lJaWSUVFhfj6+JiaT8EhwaiLEiouEDMvRcvIzJRi1AgoLyuXxqZG8fH2gUEL+fLhqWsrnrY0t5gC0BRIg4ODO/VeLiouloL8fCkrLcXYWCV+/n4SFBQkAQGBEFb9Ou0uI0vKy8owhmaIA7yifXx8zTZeXl5m/fLyctM/7pvGN28sD+0RJuHh4TBAuXe6z84WZuI8Wa+strZOqqqr0KcAUw+B/fMB265aIbbJyckGDyfxRt+Cg4PEEwY/GpeycY0KCwqkpqpa3NzdJR5jj4+3dzs2vH4lJUVSUV5hCkpXYM6glziPy3oMnQnOLDhdQoa47pxf6CBgNaZX27t3D/rgJXV1deY7wTo53GdnntUsZJ2DfnLdgoJ87MZB/GHspJd6GBi6nuN7xPMvRV9qamrMdy42Nrat9lgZrlsOIlBzkUaURsGePSOQnife6qo+KwEl0I0JVFZVST7+tusxdhRijuBYQgE5FOMNxw6OX2dreZgLSjBus3EO4NjJcYKNqYdLS0skP79AGhsa8bm/hEdEmNqGZoUL+IdzCOvgcH7geCWYuTg+sn+WqMPxi2Mgx9Pk5CSpwbmwNWC7U6eyzbIgpD+uratFWjU385uys/GUY3FxcRHq6eRJXU2tlFdWmHExNDQEY3mAhIaGmv129g/7kIGoSvbVB+M1x+22eQ5jfSbmQI7Vnh6eEhUdBRZh2PeZWyPeb3CsrUcfa3HsiopKzJmC6xGKudZfeiA9Gn8j27ampmZctypTB4jnTO5snL+4v0OHDkk0jsX5ibIWmfHh5uZm1uv4z6lTpzCP4vcC5uWGxgbx8fIWP1y7UKSl47xytlZdXYN+FKLf5dLU2GSuN39LsPHasG88/yr0s2fPnhIdFYU6R+c/x5/t2PqZElACSkAJKAEloASUgBJQApeWwJk7lUu738u2N94EZWRkSno6b8rqxAlebY5I9fXE0NvktniICPXlML5pBM4lvQAOTlJQXSInynOk2rFBFlZsxe5dxMfVS+JhPDxy9Jhs2rRZoqKi8Yi6pIfWnSmBy0mA4wmNO8XFJXIUOfvXrVsreTBoHDx0EIanE5IQGy9BwYEyfOQImTJlqgwdOrRLQ8u5+sljUQw4ceKELF6yBAJoMuoDpEoVRKP4mDgJiwiDsc6lTXzm+o2IBgmP6CmTbrhR5s2bB2PcGWMRDTDHjqfJ1q1bZfu2bXIYNcLSM05Kf9QZGDpsONIcDpdp06ZKEIxDjqeNeLZ9PHT4kPzpj380BsLevfvK7LlzZOSIEcaos379BhjYdsuePXsk5cBBiezZS8ZPnCBz0YeJeD6XmGWE9hPpsvT99yRp1y4IGUWScSoD9bMGy5DBQ2TkqNEyffo08e4gvlj927p1i/z7X/8yws2AAYPkZtRa6Nu3j6SkpMjyFStk57YdkgXDVgQEjGd/+Uvp26e3MVRS4GCKzT1798o+PE4cPw6DaIGknTwhvRMTZdjw4biGw2TOnNlGULJNk8Y+r161Srbg2AUwbNH4ZzUKKn/4wx/EBfMNryENn7fccquMHj26ncGLxkaKf5s3b5aV2FcpDI9bt22Hkc8Rfewrg4cNkRtwLQcM6C8hMKR1ZrDkMXfs2Cnr16+T9BNpxrj3k5/+j/Tq1Usoim1Yv958Tzds2GiEsHvuuUee/sEPrK7qsxJQAt2MAAVkRv7l5OZi3N0j27ZtkRIIOLt27ZYsjGeBgQEyBmPN5ClTZPz4CRIfH98Wgd7xVD/5+BPZsGE9xionjLNj5K677jTjxAGMnWvXrJXDh1IwJm2TyvJKjEMDZdqM6XLzzTcJheILbRQA1qxZY8ZN/u6OT0jEuD5DJk2aaHbF+je7du82kfOrVq40IgQ/qICzweYtW4zQwagUClV0EPj1c8+3G0+5Ltmw3s6GDRtMGuWC/EI5DlHI189Hxo0dK/36D5TZs2dDyI793HjKbTlmvvjiCxCu8mXQ4MEyd+48GYF5ju83btokH3zwgaxbu1Z6BIfKU9/9jtxx5x1g62TG/2KIYdtRF20T1uNYnp+LuST9hHEeGz9urPTtN0Bmzpwh/fv3bxPK2Geez959++Xjj1dAUCvCHHqAi41jQBGu63/g+LRr5w4zl3Cenz17jrm2EZhXbBvnGqb1XPLuu5KM70Jq6lEIWOUSFxMr/QYMkHHjx8voUaPwuzvyc9ys/dBRY/myZXLgwD4jID340ENy0003m9es+bZ+3TpZu3YNvnt5cjfmkscfe8zMNdb2+qwElIASUAJKQAkoASWgBJSA/RDodiIOb2reeOOfxiuaGGlUm4AbRj+vAKmqg9HN237gXis9aW5ulFi/SKlyaZSf5SyWiNhI3JjvkmZ4Gw4dMkQ+W7VSlixaYm4sVcS5Vq769XEeZfCEXfTf/8qCtxfInn17jJHFiCeIyqEBiIYeetku/fBDGGreke9+73vy5bvu+kLpUGi8WQLx5pVXXjERMBRhGEXI42RlZZmxjFExsOmYZok+A2AgCg8Pw/I5WA4XYDQKDCtXrpIf/eiHxsuZntbcFx/s83oY+APhhT192jT50Y9/LP0hGnRsmZmn5J1Fi43xh97avvDo9YKH79ceeViOHDlijtHKogkiTIHs2L0TBrvV8vDDX5XHn3gCRqvOp4+CwkIUuv6XvPDnP5soFFQ/kCaIG+wbPbZXr14DASNE5syaLT//32elo+GqDqLanr37IHS9CxHHQ44fS5NRI0cimKUFxbAfNOfLeYCPqLwoc80a4WFM4edfb70lSz/40Ahz7DvZ8sHXPAcaDv18/WT5hx/JL375v5LYO9Fg4efs29KlS+W/+D4w6ofiHlPfsFHgeffd93AmYI/jJiAKMS4+AWLZsDbjGfdxHKIRxZ7ly5cbL2yKRDTOkkH6yXRZuXql/O63v5Uv3323PAGGNMB1bNxP2vGjsvKzzyQZIloPeFs/8c0ncdw6ef2vfzUGSfaL34GoXpEwLpZ23IW+VwJKoJsQ4LiYeSpLln24FFHN/zECNP++OQ5w7KAwTHGa4/WixUsg4oyTR7/2qNxz772dnuG77y6Rjz76yEQJJkEQolj+zjvvyHPPPYcxrgj7bcJY3DomZiHacfXa1UY0+uY3viETLjCaOg3j3YcQQVZ8/LEZ3/v16SehGNstEWfNqtXyz3/+E44+qaavPBeeGx2wWqPpEQmKTxgFkgiR/Wc/f7ZtPLVO7pNPP5WXXnzRzD0uLq5mPCczCuBHjqSa5/cxVzz17afk1ttvszYzz5xjOSa/9/5SRPHkwunhOObFADgE9JWf//znZrynQM9+MdqF0TNeGPsp/Cxc8LYswPU4BucOzq9cx8wliI7lPJ2enm6iZpcsWiSPQfh4CPOi1bjPTRs3mjnQmn943mx8prC/Y+eutrkpLj4RgswEa3PzzH1QYPrTn/5kjsVzYR/4oHi2Y9dO+cc//i79+vWT73z3u3IP5pTOInkYhfQh5sTdybukCtGrY8eNx3eoWP799tvyR8xV3Bd5+vh4w3kh10RJteuIvlECSkAJKAEloASUgBJQAkrAbgh0boWzm+617wgNaUzdtX37dtxEOZqoD4b989E3MEpivGjoPJMCp/3W+u6iCOCmNdTJV25wSJBtjhni4ect7uKMG14viYmOMZELa+HRN3P2rE5TFV3UsXVjJXAZCNAYsnHjBlPXacOmDZ87AqNEOOZYbf/+/fJHRK4wooMRGFaKGuvzcz0vXrxY/va3v8lBRMzw2Nx++IjhJhXWgT37JOXwwbZd0PjP9CpsFBNoxLMaIz0+hrf1r371KyO2cF9sTFXWMzxCmAItJzfHPGhc4/vvP/19mTp1qrUL80zDDRvFEKapee21V2XRondkC4SOjs2qDpOUnCyuC9zk9i/dCfElvONq8PbdLwsWLIAQ8o4xhFkrMH1LeI9w2Z+y3yzKPJUpH370oUkh9/gTj8OjuZ+1qjFe1te3HpGpYJwhFq2GMbAEaYCScXwaN61GT+nwsB7iggimjYgGfBMiDlPZ2DambSMzGkTZeL4rPvlYho0cLvfed5/0QgoZNn5OgxYbPal5faxIGbKytufnTOnGfbacZk9DHa/rDxARw3pt7JfVKAhxf2JBxAfvv/eeqe32VXpF33yLtWrbM49XgxpkbEyhsxpC+V4IW8sgDvH7wAebO/YdHRdjXus/SkAJdD8CHBt2I1rxjTffMuOb7RnQKM/xzvZvft269UaIvmHyjRKG1F/WGGVtZ8YavOH4xDHp4YcfPh29nm6t0vbMeYb7f++9901UzoWKOI2NDRCTq82Yyp3ydcPpsZvvS0pKjcOCNV5ZYyrHS45x1nKuywhKay7je869S5Ysln++8Qb47Mb4yzG40ThQJEJAZxq3PJOqUmTj5k0SEBQgPojOmTp1Gjc3jedmxtLTUZXVEDH27zsg3//+943QZY331vpWGjhGfP79H/+AgHPc+sg8M2qohs5iNm3bju0SiQj0CZMmIUIqzlwPHpMiTBVS41mN0avsD8+Rc5Bt4xhPJlbjfP/CCy/AYe0Nw8V27mEqONv9mt8lEGP4PZg3d27b7wZrX02cS/Ado4DDxiim995/3whMjNKxGlOxxsUliOfplKrWcn1WAkpACSgBJaAElIASUAJKwH4IdBsRhzc+2+G99ve//93c1CQibQNTTJzCjV91Y534uXmLEx7Nja03KvaD+BrpCaJx/J085Sb/4dIMu3axd75klufJkdQjUt9QbwyOKQdTJAmpM6bC+1+bErB3AjRghSOfPQ0reGnSfPVHehnWkaGAQoMNU5msRBoYeunSkMIUXR/Bq5XREXFxced1ihy7DiIH/seffGKMdDwuDTH3QUCYC6ML95V6+Ii89a+3JCk5CYJNuRGmJ91wA1Kj9TN56hMTE9qMdUx19iI8k/fv32eOn4CxcMKE8TIYqWKCUV+A6dk2wgv4Uwg9RcVF8JJeAe/bsZ8TcdgPNhrWKIswZQ1bH6QmG4SUZzQQUhSnV/JniAqxDE+pqakmEm+q31RTK8dsdPqflZ+tlDffeNPUEOAipq1hypd4sAr0D5TDRw7LqtWrZDfGidz8PHkbEVCjxoxuJ+KwfgxrA7HRazkP630Iz/LCwgLDhftkOiEK+X6ocUDxyhnnwLo9/n7+4uHuIQMGDTTcKB7xc0bZbN2yFUbNFCmDwaysvEzeguDTq1cvuRce7WTBejnz588329FrmynReM78fvCzu+HpTEMcl7GuAqNoWKuCjd+Pf8Do9ym8xtms79YcXF+mKeJ35xhTC8FYSyMajXQrkBaONQqY+o79sG08Nyen1umZ3x8KgEyzxGOPRGq/vv36mwixfojSYoo4bUpACXRPAhRqwjAPUVBgbS9G9yUm9sYc4WlqvfDvnzVUOF5QoKFAQDH9kxUfC1MpdjS6WxEfHNe5/lqkCvOAo9N4jMN9EIHCOm8USJKSksx8xPUZ5bENzlEclzm+nm+zxikKCOwnxyxbUYmpN51RX+bY8WOyDWk/MzFOMoKQtcT69uljztUII1jGuja2tVh4zn/9y19MxAr3zTl51qxZJvIkkhGIEEmY+nIV0lZS0OFzIMbpCRMmISKldVzmOMz+kAUb59YtmAfSM9JRl8zVzJmcS5jKzdnZxeyb61HMaahvFD/UY2O9RzoZcA7gXE3h6fChwybFWgHmJL5nZDojoCgO8Xg8vxtvvAGcK0ya1gNwAKFIxfmDTgVTkBaPvx/InfPL5MmT2+oI8fjvIn3af/7zH/P7g/vjPMN1RiIildtzX7txTM7ZTAW7b98+efnll03/Zs6YwV20NV4jXmM++N3ZhlR6/J3OtK6DBg3CfN8H3D0QiQsnLfSZ9fG0KQEloASUgBJQAkpACSgBJWCfBLqNiEMDFvNC70QKAjZPGFjr6uolG2mIRvUbigotuElrPuPJZp+4u2+vmmHMdXV2lQREPN3W4iAnPXIkOeuwFGbkthUUZ4HYlSs/g8F4nElH1H3PVnt+PRCggYdGkVtQb4VRN7NmzkSEyR0wJoW0O/1vfvObiFBZZIQAGlM+/eRTmTZ9+nmLODScsG5AKlKUsdFoxxz6jNpgChm2cfibcXN3ReqUP8NotdMYnWjkeuqpp4xhxqyEf0phrPrwww8gMGwyRhknJ0e58447kErm2yblmrXeaNScqaupk4+Wf2QEBHoW792zV4YMHWKt0u6ZESXsV+/eveWrDz1oIm1iYqLNOqyLQ4Ma6xtYjdGQIyAeUDhhoyEqLe2ErIPAxCLQNFbRIMc0M4888kg7w96ABQPk17/+tTFAFZWgXgC8xemxzSLbnbVDEH7YaMRjXaAHHvgKBKkp5pqVV1QaDvycRrPib35Dqiqq5fY7vyRjxo4xUTz8jG3xO4tMapqt27eZbciEkT0UcdgozLCv999/PzzA34WRDIW4T3tw08DINHhdNYoz9JrmeVOw4fq3f+lL5nhcxsaC4q+9+ioinv4CI1wOBJk68FqPmgTrEY1zUzsjnu1x+P3ZunUboo1cjfHvIVyfm26+Fev7mtQ3NHBqUwJKoHsS4LhLsYOCPmX1m26+WWahRoobogutRlGZ6ThZ/4wCTDFeL/rvItSyueVzIo61DZ8pXnh4eMrsWTPl/gfulxkzZ0PQcTOCC6NK98IpwWrHMb6vwzx1ISKOtW1XzzNwXD44b33j8W9IPlJackzl2DVv3lx55ic/bRu/bfdBkYJz5rbtO8xizrsUPn7/+9+3S795J+r9PProoyZ6lOL8xo2bJBXn0Q/10ywxy3a/FF3oFEAuTOc5e84cpJCbaBwXOJewJh3bEKQJng8ni8KCQhkDB4hbbr1F6BBgteysbPnpMz+Rd1HzjSIOnT2Y+uxb3/qWmQOCggJRd22OeTAdHFPZ8Zz4m8Pf31+efvppiE0TrN21e2ZqVToEMI0bG+ePsaj984tf/MI8Wyt/hN8Bf/7zC7IGIh3PZwfmZDpRDDYOGKHWau2euV4yxDs2pgRlWlTW46GIxfp7FL+s+ardhvpGCSgBJaAElIASUAJKQAkoAbsg0C1EHHqM0cvtgw+WmpsVktt3YL80NjVKoIev3OU8XKIcArBURZzL+a2ikMMWFxwjA536SI/yA0bE4Y0hWzpuZFnHgumBaByncUKbErB3AhQavv71rxvjBY0sHRsFmwMoTMzCyhQrcgvykMP/TJqUjut3fE8j++GUg1JW2poSjem1bj4tHNmuO2fezfLxp58ZEYeG+13bd0rGyYx2Is5ipJdJggcuGz10b8V+vvSl29sJOPxsyLCh8ujjj8myFcv5Vnbt2ImaCx91KeKwj8Mhynz7O9+Ru+68s53oQk/dqTdOQfqvcmMAY9qX4qLCdrnzyeWvr74myfDwZePf/pMwaE2HVzD7adto3KLnNA1ebEz5wwikaR3SvVnb8JqQGQWc119/vZ23ti/y+Ftt0KDBEMcGGOMdt+l4LSdB5EnakywUcaxGwYV9t123Asa81pREZ9K2kQ+NdVbkjbU9nw8jimoDahAxJY41Fs6Ex/iv/u/X7Qxi/v4BqKn0fVzTTNTtQY0GiF2NSA+0ENFIQ4cO7VLEsY5FsfFJCIqT4ZFtNScIZdqUgBLo/gQYScHxgw/b8YhnxuiLRx/9uqkjQxGnAo+tO7ZJHWrLdNU4TlPI+MpXHjBiOqMurMYxefTIUTJh7HjZvqtVKGHqytLTc5S13qV6rkRaMWus5T6bUVeGUYVMC2alMLM91p6kZPngvaWm/5wL78Sc9N3vfq+dgMP1AwODMHc/JunpJ834y3Rua9eukajIXp3ul9twDI+JiZEf/vhH7QQr27mE0UE/e/bnXV6PAGQBuGf+vfLJyk+lvKLciGIU2ng+jLK1GucWphx2d2sdp/mec4nlHGCtZz2zbtuChQtNHR8rvRqjel6F+E/HD9t28y234jd3hqmbxrmHbflHyyQ6MkqefOpJ21XbXvP4bAMHDkQ61v+TmTNnnKnvB3FPmxJQAkpACSgBJaAElIASUAL2TaC9dc1O+0oDHtPP5KAOAW8+eQPm4+0DFzVHCY/qJePDkQLJzRf1CVTEuSKXEAXGxzrGygSJM4ezNYLSOLt+3VqTRuKK9EUPogQukgA9T2nY6Wg4KyoqRv2tHZKH+jJNEIzZ+F2nRy3rDVxIa0DUYPPpnPc8DkWOjuIGI1csL1gaeo4eP2YMRLbH2YNomhMwWLFx+3nzbjIpaWzX4WumF+vfry/OqfWTAqQTy8jK7Lhau/f0xh0MQ1/HftGoGBbeA0KKh1mfxqXcrByTCsZ2BydPZUhpWalZRJ73ItVPLMbqjo0RNSwsbbX0tBNyPPVMlI+13Hom83EoxvzlL9/dTsCxPree2U8el/23vZY0AtK7+Sg8mwvhwW7bOK/Q+HYx7WQ6+n+stf+8brHRMTIWkVD+8Dbv2HiNKWxFwtDGRkeE9IyTxqDZcV3rPc+HqXwo1k22EXCsz/VZCSiB7k+AcwJFF9uxi2eVkXnKROKlHT/absxtwu/d2tN1szo7+zaDPcb0jukauX4oaokNHjakbbznVOHoYB+3BCfS041IZZ3XMKSYYxrJjo1z0nhEtDAFKhuF9rycbJM2rOO6fM/xmRE1zzzzjIk67WwdLrPm6I7XownbHzueZn4XZCDNKOcWqzUiNWZnIhj3Zc3D1rpdPbP/BXm5RvDiOkwXOgFzX2fXj58Pgfh/4403mvPi+zw4mORi+64avxM8J4o4c+YgKgtilTYloASUgBJQAkpACSgBJaAEug+BbhGJs2zZMtw0bTdUaUCkJ2JVXbXE+ITLfdFTJNQTaXhw89nSoiLOFfnqoT5OP4+eMiVquCwrS5LsoydNUVampPLwcEf9hiUyc9YcGB7PpJ+4Iv3SgyiBiyBAY/52pK1i+i56xDJ/flZ2lhRDAGG6FFvjWleetJ0d3gFjU6/oKPGGN3U+0rnQ8EPhwhSisdngGIQAHpfN0dEBXsfhn0tLmA7jVnFxsVmHBinWMSiGcErDjGW04zONM6xlYy1rQAFqGojO1iiAME1lZy0EtQA8IKazcZ9MBcbjW437Zl0Yeoiz0ev6fRRP3rRpUztDFz9jX5nKjDy5L4piNIidrfXv3w81HcZ1uQr3Y12fRswRyUm7ZceOHcj7n27Om/UTyJZCjrUed1ZeXiH5+fkmnUyXOz/HB6y3U5Dfet3Yj169eko4rl1njczi4uPE77TRkfNZRmYGxKXCzlY3yyji0Ls6Nia2y3X0AyWgBLo/AY4PHOMPphxAnZUkk2aSadRyIEwUFOSbCEaOB1yPgksp5qhzNS+M2xxzOzY6DHBOssZDRssUooaaPbSCDuMh67iwHmZn82410rPlnx5/OQ/l5uSh1tgZcaXj+TBSZhrqNjK66Xwa59EdiN5MhgNF63yRZ5wBKuHIwcgb63qwfhzH8Zj66HYRm5wTzrdxf/v27W8T64IgOI0eM6bd/mz3FQMnCQpcS5cuNdeRvw2YLq6rxr5ERUUhXdzgLvfZ1ba6XAkoASWgBJSAElACSkAJKIGrT+Dzd3ZXv0/telCDlAsrPv7Y5O7mjSijcmg0o/ErJiRUHug1BdVwkM6rpeubtnY71DcXTaAZN4LObijAG95b5jZPkk2O7nLiZLpJI+Hl5S17kGd9z949KKLbxxTqvegD6g6UwGUkQMPHgf0HZPOWzSbl2JZtW9uO5gpDF409dTAO0VhjNY4/59tYt2bchPGy/OMVknYizYgKOxDhs2XzZlNbx9XNxdRIYd2dIyhU3Noc5IYbJpmC17bHoRjBxrGQhryFSL3C1rE/NMxxmSXcUDji+mdr/Jyexh0b9+UDj2DWZLFaKwv6brc2pnPhuMzGvjFVDusXsHU0YnFb9sdaXgNv8rOlBeI+WEeAETxdNfaRwhFTOu7YsVNWffYpagd9aAQuaxvOHYxQsr2OLCxdVVVtrfKFnktQWLqw8IzxMwD99PHt3EDIfgYEBLSlmmyGNz2dEopOC3OddYDbBAYE2o2XfGd91GVKQAlcHIEMjF1JSCO2fcd2zA2bZAPqu1iNYxeFeY6bHA/YOH4yBVpTUzPSfp2Zm6xtrGfOA52N/fwdZztvVFah1k5Jq4OAte3VeC7BHGelB+PxGWG5YsUK+eyzz9rmDNt+8XMrMpYiTxHGYtvzsl3X2h/nk3O1UxBvDqGO3SZch49XLJOdu3a3bcIUaS6on8M6Mtb1IGMKO2c7dtsOunjB/tPRwJq3ed0jkBrOOkbHzRipw1pubFyH3wnLyaPjutZ71vzrGRFhvdVnJaAElIASUAJKQAkoASWgBLoRAbsWcXhTROOYC4yCVrojepGlpaWZmgVhnkESGRQtLQ01whtSbVeQQEu9hDR4ym0uQyR4Tg9Z+OESKSsqNQZv3lSzAC8Ln9NLUJsSsGcCC99eKC+99KKkIhKGBn6mvGIL8A+QyTfcKHEJsTCobTRFkzvzaD7XuXGbqSjK3DsxUXYiOoQGmt3Ju1Go+H/l6NFjMnDwQPlg6fvyzqLFJm0k90fR5MbJU9qJOBQcbAUIrleHNG2M2umq0euY4ygNgBeTOoX7sESXjsdifQMWhYYZqe0jrktjlmVYavsAL7gvNvaNRsm4mFhEmkSbZV39cz6Gsf3798urr70m/4DHNhs9zXnOnDs4b9wwaZJJyfkeIoSs68j+dWUg66ovHZcXl5ZIUUlR27n6+PmJF9N9dtF8/fzFFamTWhuZtYBDE1KroYYFxs7O2tn4d7a+LlMCSqD7EGANrl//6tey5L13IegWGeGCBnyOe70Te8t4FLYPCAqQtxcsQMRjVtuJXYrxy9oZ55aO84v12ZV8roKoXQsxw2rWHNLVGMjllsBFhwtGhDvYOFxY+7GeOTdx3jlboxDywgt/ln/9+20TqUkuPAaPNRi118YgXaa7p5v8459vmOgoa18Xy4/b26Za5fHqMe93Nffy+0HnBdvGbehEYf2Osf2Mr7nNuc6/4zb6XgkoASWgBJSAElACSkAJKAH7IGDXIg5vaCKRmoY3s7wxsW7mahrr5J4+0+S7w+5CUQGkCFIB5yp8mxzEydlJmMqCN7rZJXni7Ohs0kDwOq1ZvVqmwHCtIs5VuDR6yPMiwDHlt8//xhjGKODQmzkAEQ8sonwLigYPGjTQGELqUXw+v6DIiDjnteNOVqJo8Oyzz5p8/C+88IJZI+VQijz3m+fEDQWFKyGCMJUKWyhSlz355JMyFoY7W+GFxh3mxnd1c4Vhp94Ye370ox9Kv379jZDTlaGH5+nj4ysxsbFm/5f6H4pIYT1C27zBaSBiseo///nPppYLvYs5JnTW2DcWp05ISOjs4/NethlRTa/95S+yZPHitnli+Ijh8tWHvmrGIQpGEaj58/rf/iYUcS5lCwkKltDg0DYBrgze7JWnC013PA6vUSk+r4ORjc26Ziyq3ZWA03Ef+l4JKIFrh0Auaq797fXXEam53Ag4FJ/j4uLkK195UKZPnybR0dFGkGYU5seffNpOxLl2KJw5k7CwsHZRl5xPHnroIbnrrrtQc6b0rHMJhYuevSJNtOOZPV7Yq2zU3vzvf/+L3wUL29Kb8h7k8SeekNtuvdVcG85vrP+4CKmD+Xypmjvm+OheUcIoIDptsOZRAdKjWfNEx+NU4HdDMSJBbRudFroScGzX09dKQAkoASWgBJSAElACSkAJdD8Cdi3iEGdeXp6pR0HvsR4wblLYaUEKmhGhfWR0xCBpQWFojcG5Ol88eo43OTRLTFS0OPm4SxluJpnWgpE46Save4oxTNOAqk0J2BsBGkmWI01LysEU0zVvRE/86MfPyKyZM6VPn97GcMYPEGjSVg/mYs4hCx7UGeknzS6YziUIglF5RTmM+qUS2bOXBAT6y9Bhw2XylKkyAenXmHarYwsPC5cARHLkoY4LG+vUjBw50tRh4fl0JpbQAETDoG06tI77vdj3FJuY1uXQoUNmVxwD+vTpAyFskBmzKdZ01tg3Z2f2zaWzj8972Zq1a2XD+vXG8EXB7KabbpL5998v01H7wDZ1Do1v524txmnA1jeAXLtKWRSJKJ+YuFg5isLjXO/IkVRT56ar4zCStOy0yENOHB9t+9jVdrpcCSiBa49AXl6+/BMRHRQP2Dhufutb35JZs2YZAcc6YxrnrQhCa1l3fXbEOMk5qbPGc6RoYtv4238MasPws64EDS7n/QHnOUbvf9HGtHbvv/eeqbPDfdJJ4p577pF7771HEhFNazU6VXD8PlfjPqw+c35gH/norLHvPcLgEHG6/3WoPVcMB5Ku1mfEDdNxslnH6Ox3Q2fH0mVKQAkoASWgBJSAElACSkAJdD8CX/xO5zKfK9NLZGRkyMGDB1Gc+oTQUDZw4EBJ2o281MiE4OcGYQB1WVqq23uhXeZu6e4tAiji6uGENEW+YdI7IVG8KwIk7djxdrnMed2OHz8ugwcPtrbSZyVgFwRo8MjOzpbMU5lt/aH36vz77kMKsx5ty/iCqVWqT0fJtPvgAt4w5cmyZctk1apVJt3L7bffLgMHDDSp1SoqKyQC4oyPrzeKGI+Vvn37drnnKBS4DwoKMiIOz2E7Cj5PmzoV3sGxV7VQMY1TiYkJkpKSIizEzfNlDQNG2Fg5+7s8qUvwwf59+4QFqK128803y7y5c9tFMvGz80kjQ8McjYg4pbZorE/HAABAAElEQVTGdJ21MKh5eX1+yoyKiZZY8Gcjh+NpJ0yavLaNbV7wc0YN8bvH5uLijOvdR0UcG0b6UglcTwRy4ajEWl5Wi4mJkfnz5xtx11rGZxrr6czULRscIUzfT3tc1dbVmjGwq1SgrH9GIcZy0NqLOotJSUkmqvJyn38+HCR24z6DfaPvwZChQ+RrX/uaRESEtzt0Fe5RmEr0XI0ODpZgxTm7rKzMpDvrbDv+BmHErCXalJWVy/4DrXNqRCd1bFKPpiJ18RazPh0lWOsmKjKys13rMiWgBJSAElACSkAJKAEloASuAQKft0jZyUnl5xfIenhW7961E0bBQhk3foL07t1bPvzgg9Yesg4EInK0XR0CzRBxvNx9ZJBLnDhkbzLpGzzcPNp1Jjc31xRpVRGnHRZ9YwcEGLWSlZXVLnKFBpY6GJesxvf0dKVQwsiyL9povGK9lp0YyypQPJrGGIpFUxElQqP+hbRBQwdDMIiTg4h4odFm3bp1Mn78+LYUL5bxh/tkpFwNDE08Bo1Dl9OLm8cYh/RvSbuTjIhDbi+99JLxXL777rtNH6y+kSvrAtXXs8aPk0kLd7F9s7yRLZa8vkxPZ6Wjo3jDYtkUls/VyIpCntVfrs+6BCkpB41Bzw3e0jwHNp43jWaJp9PB8T2vN42OrAvGdJJubqyxhDoMELaOIwrn008/laxTp8z2ri6uplYPjZbalIASuL4INDU1S1lpmTlpjh0cVzjuODFSg2PM6WV0JNi5c2dbys3uRskBv9c5rvKZjeLE9h07ka6s0KT65Hlz3LTmAdYBmjJ5qqxas8qszzGTUZTjxo0z61jr8UOO7dVVmOdOH8MSTMyGX+AfOpAxBagVZePs5NwWGcPdsa+MON+xc5eZw852CF7TkJBg8Twdjc45mynhjh49an5bkIntXMJ6PsNHjDRRuEzTVonfC1u3bzUOEXPmzDHZCCxWnENXLF8uW7ZsMUy4b/7WHjJkyNm6pJ8pASWgBJSAElACSkAJKAEl0I0JdB7Tbwcn5Ia6DzU1tabYd3l5haQcOGBuWHjzFtSrh/ii8Dfu+uygp9dxF+iFiBvn8Khw2X/ogOxP2d92E04qTB917HDqdQxIT91eCdB4EgOPZ1tjEA3//33nHck6HSXBiAoWkn76B08jgmZlm1HnQs+JxpX9GL9ovGGjkWjZso8kGyLShTZG3UyD+MMCzjTmcJ+///3v5ZlnnjFRb9b+6CF8+PAR+e1vnpeXX3nFRMhYn12OZxqr7rtvvgxE+jQ2q28//OEP5Uc/+lG7KBn2eR3Snz3/3POmjs0xROtdbKMwxmtqtSXvLEZ6tQ1Sg+gZej5v3boN/btPfvazn53zOlL4Ye0h20Yj6p9+/wfZt3eflMIASScDngevLVOhjRs7TsaPGde2708++UQeeeQRWblylZzCdWb6O9biYR8o8BivdBzADX3+6sOPSBQiTbUpASVwfRFgikZ//9YUj5Yx/zAE+pdffkkKEdHI8YXRjX9CfbEHHnhAmIrREhe6EymOqYOHD22LLqIAQUGd8+uxY8eksLDQpOLk+bJNmDhRHn70a+b8+Z6RnZwzvvvUd4w4TicBNjI7fPiwPPvzn8tvnvuNJCfvMcsv5p+OfLcgcvJl1LGjcMN+HD+eBgeFl+XWW242NXM6rt/x2P5Im2rNTZwn2Rb8e4H8681/mbkkD3MJo1d5ThRxZs2aKTOmTpceIaFmXQpKjz32mLz66qtw3jgsBWDFDAWPPvqoLEYNODbuNzg4WO5G2rd5SCWqTQkoASWgBJSAElACSkAJKIFrk4DdRuLQoFqMAtA0eIajIDVvnlhvwRl5tAeMGCQh4bjBaVQR56p+LVEPx6XZUcaX9pTlle2/SryxPYpi8dt3bjc32tbN61Xtrx5cCdgQYJovpiajEYmtBkaU1//6V1mOtGc0OlUikoM1uY6f/pwGpnMZbGx23/aSntWxSJFiGXJolFny7ntID5Ms3qfFGK7M/bM/FKh5nAH9+8mMWbMlIT6+bV98QY9cGvNefvlls5x9fB8CwT6kFKMRiMejSFCB9DtZSBdHr+dmeHz3R/o2F+dz5/Bvd7ALeMP6PEwDlJubB/HiM7Ml04YtXLhQtiGaibVf2Dcaq+hlXFhYgNowFRKMc+6LOhAX03ojlRvT3aRBeGNL2pMkz/7iWXn1tVcNVwoue/a0GvhsPb67OmZoaKgMGzxUNm3ZLEz9wz6vhFf48fQTJjVORM8I1Ei4V2ajbgVTrzHlztM//IF859vfRj2c1rRu/F799Kc/MR7kDg6OJqKUHticy2h8pFD07W9/x3w3uuqHLlcCSuDaJhAKY/3A/gPkSGqqNDQ2GCeC1177C+q1fSyM1CsrLzPp1ihGs3EM7W6NcxrTW/71L38xXef8xjH1jX/+Uz6F4M0xmSLEm2++aZ7pxMW6cE8//QN55ZWXTWRMfkGBvLf0fdmZtMsI56wRxCgciitpcARwdXUzka6jRo00osYXZdSrZ08ZO3aM7ECkEFtObo689e9/yZZtWw173pNQgOIz27muh7+frwzC3BsaHCL5mPN47ocOH5I//PEPsvCd/0gTzuGWW2+V2/BgzR3+TnjsG9+QQ6mHJa8gvy0FKNmsXLnSpE3l/VEqvi+c19g4pzzxxBNXJN2cOaD+owSUgBJQAkpACSgBJaAElMBVIdDe8n5VutD5Qen5fCz1qLlBotdeILzZWOyzAAbCLwdPkAFe8Fyubeh8Y116xQg4tsADsNJNnOtb0wtZB7ZEG+Z7r0KqC29v1DDSpgTsiACNJQ8++JDUwwCSjHz7TJlFcYQP23bHnXdKVUWlSatWUtZqNDmf2irWPmjkGYoUJ5MnT0adr5OSk5Mrp5BOi4/OGkUBRgjFxsbI1m3b5Ut33AkDzy1tqzKt5IMPPQTjVaVsQ8ouCgMUcvjorHmdru/CcdTF+UzKQysaxHqmYcjyhLbdD/+yeb4Un9hYH4gGuM7WnQgP6oaGRqQQc5VNmzYZIxOFHKsGjNmBzT8UMtwhmLVvSLfWUG8WWZxppDpbmz1nLqJ9TsEI+JZJQVMKg2cpUtjZtgkTJkhPGOiOQlzh9WZj+rzOzoNGx6/BE7wUBtRdu5k2p954S9Njmo2GOHpK3zBpkhFxKJ7NmDFDvv/000YE3LFjB7ysy4ywZjaw+YfbMuUN08zNn39fm7hns4pJvVZT02okJGuyb9b0obaI9LUSuCYIREZFmkiL3/7+dyZikWkg0yAS8GE1ivsPI7IvGekqDx5MkTqMRxQRWsdujtBn0nJyvLAax01rDLWWWc8tcBrguNY2rmN/fH8hjce3HUM5ZnU2VnM+Y6232267Xf4NQcQaR5mm1EpVynX27NkrEydOMGNiBJy3vv71R82499FHH5l5Lh+iBh+dNc4lznBS4HjOMZaNYjnP3xJcuIzny+VdtUTMr499/TEpLioR1pzh+qy3ZltzLSwszIzf/K2QknIA+6+xuR6f3/NURNCm4n7mzbfeMP1hmjTumw/T0J3BAwcZEYfvhw0bIo9DlPH08DS1gHjOrBHKR8cWiXSeN6EGHB0o+Lpjo0jEc7C+B7avO66r75WAElACSkAJKAEloASUgBKwbwJ2K+KUI094RvpJQ483fOE9wqRnZC+pKquQW5oGSo+mEGmSSptbV/sGfa32jqYDDxjDw3r0EKfqdGmpbWrnBdmEG2oKObEe0W031tcqCz2v7kWAQuOjX/+6Mej82/VfpkYODWAUXSjwME1WHOrPPP/883LyxEn5y2uvSfLeZFOX4EJqmPA4FAWGDR0qGzesNyIOo08ccBw2Gp1YL4X1D2hEswSSvUjdxQdrSw0ePEhiY2LM3xb7N3LECPkzUrz88/W/yYpPPpYTiBChQY3GKqv/bm5u5jxmz54lkyff+LkoHNYYYBoyRsiwpgxTetG7uWPj37i/n7+p+1KF9Xju5GJFFtmuz33NmzdXoqOj5I9//CPS2ySbWjTsGw18TqgvwO1Yt4Ap4WiYHD1qlLkGlvDriKiVHhhPGIHJdVjLhu/P1lgL4CsPfEXKEXW0dfs2w8Ey5lFgiY6OlieffNIYyVauWiWv4TpzXuFyT8+OIpKY/t197z2ScSoT1WxajEBmiT00ANKo6tDBDsjjPPXUU9IPxsq3335bNm3eYgyQlgGRbMmHx2SqtZuQ9oaCXcdGDkFBwcK6EPX1DYZBPGrueHqqEN6Rlb5XAt2dAMeShx7+qhyBQX8dapwVF5fglFoHF46TQRhvp0AE+Pmzz8qb/3gDUZfvmXW5nXGOwXhh22IwTzDFGMcaCiMBAQGdRotwfqBQ0r9/fzNeciyiyH0hzYytOF48okU5xifGJ0pwaEinu+C5fAMRJi0tzfLee++ZPlnzFcc8ChB03qpFCkzOEZzHGJnyk5/8xMxNS5YsMXOhNZewnpArzoG/Pzl3jUVNthkzZ7Y7NvfBuZfnyPGeQgadIMilq8aIoDvgOJFxMkM+/vQTI95w7GcfOYaHIoJ31uzZ8hAcKdatXSOLFi2WZIhPcXGxJhLWmsds9z9i5Ah54MEHkFoz00T+8rx5hXnlzDXCb42OwtK9SI02ZNBgeQURt4wCYiQWHS0a8BvBBf1gX/gdmAMHhmfAyMPdzfaQba99cP4J4FhdV2N+WyRgLgmAU5w2JaAElIASUAJKQAkoASWgBLofAQfcOPRHt1Psrevr166T//np/8j2XTuMYZNGvICQIEHMhywd/z8S4xslzY1nPA7trf/XS38ccBvqII7yb7ed8urOJbJtzea2G2TeMA8YMEB+/evnZObMGZ0afa8XTnqe9k0gE1Exa9eskb17ksUDxvLhI0fK+HHjIU625qUvhajMaJISpHikEYlexUy5dT6NxpkiGKeepRHujTeMmPnA/fPN3wMNWrU1dZKTnWuWM90KBZks1FGhAYp/Q3369JZHUDflu9/7Xtvflu1xS9A3egQfhEfwnuQk8fL2kd5ITzZo4EAjttDQ1plhyapDQK9lHofexRQYaNyzbTRgZWXnSD7E2OrqKggcrhIMQxbTzrh3YTji9tyOUUInT55E/Z9s1JPZI34wKPYBu4EYF2JjY42I0VnfGKXEc6KBi32jYfJ86sbQOMa0aXtQd4apZkJgkBsK8YzjEI2UFMnyUZ+GXtX0GKfBjoZLClpdNaZF2wxBprCo0Fx7GgWjo6KlHwyDvZBWrTODIFPxpcMJ4RBqFyTtRloeGADjExJlMGoGsS80sJ6tZYM3I6sqKyvM/oOQiqcnjsWoKm1KQAlcmwR27dyFVJB7YLAvNUb9PhAchg8f3hZhkY0ozry8XKmAsE0j/iCMJx3HEtbQoWDBcZ1jK4UQCu9WdIpFjoJAAVKUcSzkWM15jY4LFMTPtzHakGNVSXGR6a8vxP7w8DAz7na1jzL0/cSJdMxXKYiI3IW6YB7C6BfOVxQYOF9x7uvYeE4pKQfNue2lM0VllcTAmYBjKjmw7x0bz4tOAEeOHDHjPedi7p9zQmfzTsftmbKMjggnEDFEEap/v34yBHwiMGdwX0wLyrmKz5xf+mDe7ar/XJ9z0saNm+QkInI5V3GuDYOD2vDhwzqde9kfa/5NxTnswe+TzMwM6RUZhXSr/c15MwLpbK0c6eayMP/yGnFfPj6+EoZr1OM8f7+cbd/6mRJQAkpACSgBJaAElIASUAJXloDdijivv/668drjjZYRA/oPkMjoSMk5lS3vj/sfiVUR58p+U7o4mhFxHJ3l5arP5K+735cDu/a2GTV53ehd+ejXHjG1H3zPYijtYve6WAlcEQI0sDC3fg0MK4yQoWHM1jjGz2nk4oONBp3ODE2ddZbCAaNAPvjgA3jRNsisGTPl+d/9xhh7KCRQyGmobzRuuRQE9u3ba2oHMGKEqQjZjxkzpss77yzqNFKGx+R+mCaF/XeE8Y6ezKzr05nAYPWRBh1uZzUa+SzDn7XMeubfMtcnB47JPIYTOJ3LEEZePH8eh0Yr7v98+sbteEyr8Tw6GiGtzzo+0zhpUsZgHy7Yjhxo8LSadR15LryG3O/ZriXPm5FK7A+34frcHw1wZ+tTI45fi2vC9HN0uXZza70mtn2x+tTxubWP5N3qAe7oyGtzbt4d96PvlYAS6D4EGHnHiEWOHfjjN2MlxQFrnOVYxLGBz1zGecj6zDpLjrX83GpdzVUcy6z98TUb93U+45O1b2t763jnM55yW46lHKM5J/CYtnNCx/OxjsVnju3cltvxmIzE8cT43tHxwHYbrmeN3Vx+IedI1uwnj2v1k9fDauTGffMY/Jzz1NnmEm7HdHmcE802mH84R3GfZ5tLeHmYto7nzW0ZicMIJM5tZ+PF47GP1pzH9+yfNZ/wvTYloASUgBJQAkpACSgBJaAEug+BrnMKXMVzKEcdAnq38cbDMkLmwvuwvqlBPF3caQ/TZlcEHJAmIst4jne8oWQdB6aHsowEdtVt7YwSOE2A31tGWPDRWbMMNNZ41Nk6XS3LQTq0tWvXmgiQWESUDB4y2HjddrU+U4ht375D1q5bb1ahgScEkRgd/7Zst6ehjo+u+m+7rvWaxpyzGb+s9fj8Rc6b29EwRUMTHxfSN253NqMW991V4zmd7bwudN/kdCF9t/rljHOgVzYfF9outI8Xun9dXwkoAfsj4OrqAhGl66jAVgP856NUbM+E88D5NM4nFzvOnE9/OusL5xPOc3xcSLPGdlsHi3Ntzz5eiDBluz/yOdsYTobny9vab0cHEWv52Z5xGCN0Uey60HYxv10u9Fi6vhJQAkpACSgBJaAElIASUAKXl8DZ7wYv77G73DtzYjfAu81qvImiEJCdm2PqExi3ZutDfb76BHCDWddYjwejClo9Oq1O0SuUec5ZG0ebErjeCPDPgWlfmM+erb6hXrJyskxu/85YcNzbi1RgLGpNEZuNtWEm3TDpnB6+ne1PlykBJaAElIASUAJKQAkoASWgBJSAElACSkAJKAEl0L0J2GUkjj/qJlg1CigKsB4OvddqGuqQwseplXh7raB7X4Xu3nsINNE9ekmv0HA5mFvcdjb0gGQtkW2IKmA6Cm1K4HojQA/a4OAg43HM+gPMTb9w4X9QaHkgChLPNnVoOMbxwbQsm7dskTdQN2fJ4sVtog3r70yYqCLO9fbd0fNVAkpACSgBJaAElIASUAJKQAkoASWgBJSAElACJGCXIo6DA3P/nwkSohiQDwNoHUScQeNuQGoEpItArQBt9kCAalqzTJFEORU4XEqjyyT/FCKmYJTmdWP+bhY2ZySVNiVwPRJgKq7bb7tV3l6wACkH802h5Z///Gfyf//3KwlFcWGK1BRw+HfCIsysv8LGnPmspcNHXGzs9YhOz1kJKAEloASUgBJQAkpACSgBJaAElIASUAJKQAlc9wTsUsTJyc6WnJzstotDMaAZqYUaGxrF1cX1rLUh2jbSF1eEACUcBBuIrwNydVc3SGFRoTmubf0O2+LpV6RTehAlYEcEmMf/G9/8pvgHBMrSpUtl//79UljY+neSjbGuY3ND3vv7H3hAhg0dKnPnzpU+ffp0XEXfKwEloASUgBJQAkpACSgBJaAElIASUAJKQAkoASVwnRCwSxEnK+uUlCENF4thWzVVqmuqxRkROC2IwEGQhzY7I9CMwKmK6iqpr6j5XBF0CjrV1TV21mPtjhK4MgT4/Y+LizfCTAwiavYkJ0s6om5qqqvxd1FtotWYLjIwMNAI1LFxcXLrrbfKyJEjkT7yTETilemtHkUJKAEloASUgBJQAkpACSgBJaAElIASUAJKQAkoAXsiYJciTnlFhTRDrAkJCUFETo5JL9RQ3yAubq72xE77YkOA6dOcXfB1Ol2yyOYjk1otLz/fRBQ4O3eygu3K+loJXKMEYqKjhY/758+X0rJyKS4uknykV6utrTG1ceLj48XFBakitSkBJaAElIASUAJKQAkoASWgBJSAElACSkAJKAEloAROE7BLEcfZyUnKy8okIyPD1FW5cdKNkpObI+mnMvTC2SkB1u8I8PeXntFRkpeRbYQbK6UaBZ4SGKxprPb29rbTM9BuKYErR8DP10d8fbwlOirKHJR/K0wbqU0JKAEloASUgBJQAkpACSgBJaAElIASUAJKQAkoASVgS8AuRRwHGjNh1GSjcXP/gf1ShVRdzq522V1bntftaxqgKxBBxcgpmqItAccCQpGHYo42JaAEWv8+Ov6NKBcloASUgBJQAkpACSgBJaAElIASUAJKQAkoASWgBJRARwJ26fpdVVkp1VVVpq80dObl55mUao6Omoqr4wW0l/e8TnV19dJc09B5l1TA6ZyLLlUCSkAJKAEloASUgBJQAkpACSgBJaAElIASUAJKQAkoASXQBQG7FHEqysukorzcdJmxG4EBAeLu7o5IjmYTodMao9PFGeniq0KAUTZniyxwcXUVJ6TJ06YElIASUAJKQAkoASWgBJSAElACSkAJKAEloASUgBJQAkpACZwfAbsUcRxh7HdybjX4tyAN18jhIyUhLl4aGhpMSi5NynV+F9de1qK4ExQcAiHOw166pP1QAkpACSgBJaAElIASUAJKQAkoASWgBJSAElACSkAJKAElYPcE7FLESYhPlOEQbiIiIkyx71M5WVKK6Jx6iDjpGSeloREpuyAMaLMfAhRquqp5w8/c3VxxLfWa2c8V054oASWgBJSAElACSkAJKAEloASUgBJQAkpACSgBJaAElIC9E7BLEaewqFCys7OkoqJCBGE3jMBpbGw0IkF9Q32rWKAijl19t5oRMeXj4yN+IQGmX7aCDj/z8/Ozq/5qZ5SAElACSkAJKAEloASUgBJQAkpACSgBJaAElIASUAJKQAnYOwG7FHHq6mqlpLjYiDgtUHGqq6ulvr5eKAZUVVaaZ3sHe731zwHlilyQBo+1b6xmCTm+vr7i5eVlLdZnJaAElIASUAJKQAkoASWgBJSAElACSkAJKAEloASUgBJQAkrgPAjYpYgTj3RqsaiBw8ZUXLm5uVJWVibNDY2SkZkpjXhGbq7zOD1d5UoRaHIRKSwvkcKsPHNIXjeKbm5ubtKrVy9xgsCjTQkoASWgBJSAElACSkAJKAEloASUgBJQAkpACSgBJaAElIASOH8Czue/6pVbsxE1b5g+zWoUBKzmiNdORsA5s8z6TJ+vPAEHwXVocZA9wYVyJKC0XQcYicNUeLW1tRo91Y6MvlECSkAJKAEloASUgBJQAkpACSgBJaAElIASUAJKQAkoASVwbgJ2KeIMGDBAEhJaI3HanQL1Aiw4UJQm4V5B4unsIc0tTe1W0TdXgQCEtfyKEimqKm87eFNTkwQFBsqwocPl9jtuF6ZU06YElIASUAJKQAkoASWgBJSAElACSkAJKAEloASUgBJQAkpACZw/AbsUcVxcXGTQoIESER4uBYWFJorDNhqnqKZcahrqxNPFs1XVOf/z1TUvBwGIOEV5hVJaXNK2d0bhjB49Rr7xxBMybMRw8fDwaPtMXygBJaAElIASUAJKQAkoASWgBJSAElACSkAJKAEloASUgBJQAucmYLeFZWJiYmX27NkofeMgjOpobQ5CcaC4oUJqmuuxSFOqnfsSX941oN+Y+kS5+blSWFSI63XmKzVr9iy56ZabJTg4uN3yy9sj3bsSUAJKQAkoASWgBJSAElACSkAJKAEloASUgBJQAkpACSiBa4PAGYu7nZ2Pu7u7+CMdl61Q4+TgKM1IqPZixnLZUZYq4uRqZ72+TruD65Kbmyt1JVUGAIW2WyHe9O/fz7x3c3MT20iq65SSnrYSUAJKQAkoASWgBJSAElACSkAJKAEloASUgBJQAkpACSiBCyJgtyJOY2OjibqJjIyU+Ph4CQgIMGnVuDzzZLqUVaD+irPLBZ2srnxpCTgiDKexuUmO5R6VkurWejiWWFNaXCbHj6XJifQTUltba67lpT267k0JKAEloASUgBJQAkpACSgBJaAElIASUAJKQAkoASWgBJTAtU3AbkWckJAQGTZ0qPj7+0t9fb0RAhjRERYWJtIoklOSL01VxRrhcVW/n45SL02yxSNDipyrTU8YhcPm6+8nvIZ+vn6XPZUa0+2dSblnDq//KAEloASUgBJQAkpACSgBJaAElIASUAJKQAkoASWgBJSAEuj2BJzt9QwoAIwaNUoqKyslKyvLROF4e3sLH+LsKCnVmZJUkSaj/PsgwZpVM8dez+Ya7VcLInEcmuWAV4GUOdeZk6SI09zcLHGInho4aKAEmpR4l+786xsapAGiHo/B+jtMu0eRr6amRhrwWU11tfj4+oovHi4uGql16cjrnpSAElACSkAJKAEloASUgBJQAkpACSgBJaAElIASUAJK4EoTsFsRhyBopM/MzDQGe2dnZxONk5aWJtLULDtbMmR901EZ5dBPHFpYKac1AuRKA7yuj4d0as24FvlZuVJbXduGgtcqODhYPDw825ZdqhfFxSWov5MjFeXl5vsRFRWFrHoukpOTKwf275fkpF0yYuRIGTt2nERERIhVj4dp3qxUb5eqL7ofJaAElIASUAJKQAkoASWgBJSAElACSkAJKAEloASUgBJQApeTgF2LODTAh4eHGxGnoqJCCgoKxMnJyTyOHjwkexyiRWbdKQ4NrJ9zOTHpvjsl4OwkzXVNsmHjBiksLjCrMAJmzuxZcsvNN0lUVGSnm13MwtCQYHHGcU+cSJdjR4/KPgg3VvQPRZrZs+eYekmLFy1G7aQMI9wk9OktY8eNRXq+YYjccbuYw+u2SkAJKAEloASUgBJQAkpACSgBJaAElIASUAJKQAkoASWgBK4YAbsWcby8vGTqtGmyetUqE3VBQYdCjmmoi5NfWiSllfni4+opjvhPo3Gu2PdGHB0cpamuRo4VZkpxaQnqFLWqaF5enjJ37jyJjYu7LJ1hdBbrJMVj/34QjPIL8iUjI0MYoVVSXGTS7W3dulWSdu8WBmcN6N9fcnOy8X6XHDp40KTmCw4MkvCeEZKQmCi9e/cWV027dlmule5UCSgBJaAElIASUAJKQAkoASWgBJSAElACSkAJKAEloAQujoDdizjz5s0zIk5paamEhoa2O9v0ilx54+AKeWLQbeLu4iEtzVB2tF0ZAg5OktNYKGuqUqTFyaHtmEFBwTIStYw8PS99KjXrIM6IxgoMDDCP+Pg4CQ8LN4JOVtYp1MLxMYIfo3MaUSMnNz9XcpB+be/ePVKGFGwZGZnSIyRU+g8YIEOHDZMMROv4+/ma/nr7+EhQUJAEBARYh9JnJaAEzkKgrq5OqlGHqqQEQi4ao+Eam5qkHsvxUurq6qWpsRH1qVzFH3+zjK50c3U1taw8PDzOsmf9SAkoASWgBK5XAvwNV1VVhTmkTmrxYArdEqTT5bzCeYY1ELmcr7ke6yS6np5bvDy9xN3D3UReu7t7iJ+fn9ApTOskXq/fJj1vJaAElIASUAJKQAkoASVwbRCwaxGHRetZ2yQ0tIccP34ctVBy26i7oO7K0eJM+d/tb8k9vadLuJuXSHPbx/richNwcJbMphL5sGaP1EureMZUan379kUatSiT8u5yd4H7Z3o9Cjl8WK13Yh9Z3buvrFm9SjZs2mhu9nnDz+9TNPpWXVcrJ9PTpaykVNavXoOb/xYJCgmU+IQEGT5ipEyaNBEp21r/NCgYucAwwONoUwLXIwEax/j30wgxhsIoRRr+feTm5UthYYHkZGfLkdRUg4Z/J9UwqOXn5RoxNS833xjevLy9ZMjwYUiPGSEhqJcVFhaKmlU9jWBKwxsbjXF87eTkLI5OjnJGGjYf6z9KQAkoASVwjRJowrxSA4cAB0RbV1ZWos5hjvnNz+h71kJkfcxjR1LNvML5pxCR16fguMM5h59RyOEckogI66iekRIW3kOCQ0PwHCFDBg+WyMhIM9/QeeDMXOOE/eE3notd3wpdo1dcT0sJKAEloASUgBJQAkpACSiBCyVg13cuvNFiDZRevXqaIvU0wp88ebL1HPEZrXxM65Wcnyq+SKnmhUdzc9OFMtD1vwgBFzcpyS+UrRs3ilNLq8DB9GSz58yRq+1h37dvHyPq3Df/PknH96WsrFR279opu3bugnBTJpm48d+ZtEsC/QNlwtjxxoPT29tb6uvrZOVnn8jzv3lOIkLDJbRHqPTt31dmzJhpxKkvgkm3UQLdncCprGzZsGG97EveI1u3bpODhw8aQxlTG9JLmuLt8GFDjXGNy0xkTlGpMa4VFBZK2ok0yc/Pl7XYB0VUH0S8WY2GuwgTSecHz2kPmTVntgweMgTjfbh4XcZoPuv4+qwElIASUAJXn8Cx42ny218/Z36PpR5NlcN4xMXGCueIAP8AGTxosNx7/3xTA5ERNdnZWXLk8CEzz/D9uvXr5fDhIzKgb3/jZFBf1yDZmdmST0eCokKpqqiS5D175HDqEUmAw86cuXOld2JviYK4M3zE8Kv+u/XqXwHtgRJQAkpACSgBJaAElIASUAL2TsABKQv6o5Mp9tzRBQsWyt///jfZtGmTuaGjoZACTxMEGw9Xd5k8YIw8P/QRGRTYT5obquz5VK6Jvjk6ucvW+kPywr535Z31H5mbaN5o3377l+S3v/udJMSfiYq52ifcjJQcDfUN8OQsRD0l3MjDw7OouFj27dsvJ2BcrigrkxTUyqERwMPTw4iCzogEiI6ORmq1ACktK5fDR44IIwn6IMJnFFLFjRo9WuJwjkwLpU0JXEsEGJW2c+dOiOUnZP/+/Yi0KZIAvwDJy8uDSOMgTs5OUodonNqaainIKzDGsh7hoRKEOlOVMJIVQrShd/SpU1nGGOeLVIVslpd0QlyC1NbWYB/1MmjgANSl6o3xw1lKUVerDCnZmPqGaQ8bGhuMOBTVK1JG4u9t5KiREqhpDq+lr5qeixJQAtcpgZzcPNmxY7ukHT0uScm7JR11DX0h7k+dMlUOHzwkWRBonF2dTY3DooIik64zAOk4B/QfKDl5OZIHp4DioiLMK5VG1CHGPESGMkp08MBBiBLNlbraOmzvhejPcImOjBLORZVYn6k/6UgwcPAQRH66SEF+gZm3eE8xaNAgGT9hggxG5I7+vrtOv5x62kpACSgBJaAElIASUAJKwI4J2HUkjsVtxozp8ADfIuvWrUMdlECTaoGiAaNw6psaZHX6LjkYOU0G+cYiOMcB9exR0V7bJSfA9EYkW1NdJu8dXy8r0rYa73vrQJGRvexKwGG/HHFj7ubmatI4MZWT1caMGSMn0k7IseNHJQ5emdnZOXIKKTlohGY+9WPHjyFdh79JBbVl61Zxd3OXmspqGK9rkDrqCNJzDDEGBi8vT5OiIzgkxNTV0bzrFmF97i4EaPxKQ7pKej8zZSVF8mNIj5YD4YZ1CcqRdrC2plYqa6rEzd0N3/dAI6JTVHFD3QE3iJ9FZSWyF8LoqZwsKYJxTeoQEemO6cXDWXwQ5ebm5CmV5RWSXZQrtdW14tDUDENbHoRTb6lDBFx1dZW0YFlB/lEJQro1ikUUgkohuJZBSE1JOWBEnJDgEBkGr+lgrKP1DbrLN0z7qQSUwPVOgL+x0k+ckD179+L31XGpw2+p0pJiREZnoTbhSXFxdpFpU6cbAaeiskJiYmOMA44/6tmUoCYm54OWxmaTRo2/zyrgkMM5wM/HV8IQudmrVy+ph3BTX19vhJqKigqIPQJHnDJhWs9AOOUw4toZc0sx5pVUzHFBEIaYVjcpKdn8TmTNNiekajuUclD8/f1lABwNwiACcTlT62pTAkpACSgBJaAElIASUAJKQAlcTQLdQsQJDQ2VESNGyNChQ8UJBsZDhw+bGg3Mhd0Cz/G6okpZnbZD+nj3lKE9+sIY2HA1mV6zx3aAaMbop23lqbL9cLJUZBYaT3zWymAdnD59+nSbcw+B6MLH6DGjTXTXoUOHZf3adbJlyxYpKilCWo7Dko/InbCwMJk9e7YEBQTB4Mx0funy8ScfSzwiCpjuydXNRQKDg2TAgEGI3Ak0hgSKWazjxDRT5jsKQziN4TSOa1MC9kCAf7O1tbWoXZMvy5YvlySkGtwCobwKETb33nO38U6OhPdyKGoKpCNirRbGsQMpKRA7s8URRjBGqiXEx0swUik2VlSiHlmzNGdXiG+lkwR6Roirn4tERaM2FuoNsNUg+uZIRbk08eHUJBVSK1u2bZWNmzdhLG8UbxSdDu3Rw9REGDN+nMTExJjUmQXwqD5+7Khs275NmluaJTE+EUa5Uhj4YqUH1ufcQOFU/7bs4VulfVACSkAJnCHAWmpMr5mBSJtPP/1Mdm7bLkl7kvGbq1FGjxwtvv4+Mn36dETUVMvB/Qdk+Ucfyb4D+02q5NLSMvO7qW+fvsZRxsfXB2lyEySuJd6M/+UQetwhrrD+zaChgyEIlcqJY2nihPo20THRko66h3TKocNXWWW5lFWUmfsGOuLUYO4LgBPC0KFDpGdET+mBeaQH0ufSSSwr85SsTz1qtmN6z779+oo3hKK42BhEZHtDbHI2TgxnzlJfKQEloASUgBJQAkpACSgBJaAErgyBbpFOjSiOoKDpxytWyLo1a2XN+rVCLzur+Dw/p1HyW8PvlBdnPCPNdRVcpO0SE3B0cJL65gb5ccE7smjrCjl1IqMtldpTT31bnnj8cXPDe4kPe0V2R+9N3vQz1QZTaVDEOY4c7azDlNi7N2qCbJBXXnlZ9iKnOr0/aWSeMnmyqfexatVq46nJAvCMEOjXt69MmDBB7rv/AQmDoZl1Q5jmoye8RbUpAXsgwFRpKz9bKSthWFu9bq3MmT3TpAn08fUzadCWvv++MYDVwOCVBU/pWIgmzjCO8XtsRTqG9YqQGb5IP9MSKw0OzTI6tC9qk3lJY0trXTKmp2FzwrhRXl8l23JSZELoANnsflIWNyeJp7gY8aUE9XN4jIxTmUa4acHfEcUf/j1xH2Ng7PsyhKUZM2fCuOcgf/jNbxE1d0p6RvWSsRB8bpo3z4g5KuTYwzdL+6AElIASaCWQjDpqCxcukEWLFklOTo6MHjFKvvLQgxBhouWjDz+EOL/DiDz8Lc+5Ji0tzYg7PRE1Xd9Qb8b/YSOHIwLU3URTT5w4UXJzspEOzVc8Id7TOYZzBFOr1cABgesFI1qTy8oQvcM0oIy64XseIzc3R5J275IdcFo4gaggOjLQ0YaNYs+QQUNk1qyZQkeCpsYm1Nw5KKmHU3F/0SSjxo2RKUj31rt3oniifps2JaAElIASUAJKQAkoASWgBJTAlSbQbUQcGtk/++wzefr730f6nTPpEizDHUWcu/pMlVemfEcC3f0EVXPajI1XGuq1eDwabp2c3U0+tbFLH5PtmfvEAQFPrq6ukoiolD/86Y8yEze/3bnxO0bDMYUbfp9KYQSgkSAQ9T5Ys4NRCEw3xdo6rPtx5OAhWb16tZzMzGh32p5IL+ULIwMjC1xcXE1edkYujBo1UiZOmIgIhRjkZ/dDeg6NzGkHTt9cdgIbN26S//xnoWzbtg3RMyLxEGfcPN3E1dnViCjHYESjwSsz95R4oJ4AvZ+bG5qkd2yCTHBPlHHevSXWPwJiTqO4IE1hgJOX+Iq7GWt93XyQv5AGsdPpLPG309YQRVPZUC3eLl5S6VgrBVJpxmimv5SmFskoyZXknMMQ4BtlZf1BOSklIjhuFgx2JfCw7h0bLzeMm4iIt/4Ql4pk5IiR+FttkjVrViPVW5089PDDMnHihLbD6QsloASUgBK48gQYfbN+/Xp5++23ZS9Sp9Exhs4tk264QZKTkowTDH+3J+E1I2WY4ozCyID+/cUb0csc26PxG4nTSAmionsiIpS/yeg8w+hm/k6jIGOJL/yNVo+UnKznxmVcj3MYRRn2hQ+6EzjgmPVwqKlEGrZyOIHlQlQqKEBtHYg8hUWFcmj/QfPMaJxhw4YhumcIPiuSKBw/NiZWNiNSlfXbRo4cKSOGDze/6648XT2iElACSkAJKAEloASUgBJQAtczgW6RTo0XiGJBv379ZM7cuZKKqJw9iIgoQ65rS8ThXdr23IPyQvIS+dXEb2KLJmlugiefuX27ni/xpTl3Jyc3Ka4tln+fXCPHctJF6lv98R1htH3wq1+V4ahT0d0bv2NWo5GAhgfL0zMoKAjp0oJM4du6unrjVXoE0ToDUQg3AyIOv4tHj6bKsWPHjdGC+dqr4VlajiLtbEzdkbR7t6xFyjZ6ivoH+CM9R6ww9VoiirubSAccU5sSuNQE6OG8Y8cOWbVqFWqLbUVtAQiQR44ghZm3+KHYc3NxM6JnmiUT9Wwyc04iXRpqE/QYKhOjh5p6A2lVuZIT2STjXAbJPLfB4uTlCwMbFCCKNCbqBq/RGEHTAsNZZ41GNG9E6VB48W5yE2/x4hatq2IM6QlRM9YFdW4cnWVwywAplCoM4c1SHFkiJflFsqUqVbYd2C0lVWUyaMgQGTRsiNQiBc+evXskASJyVVWVrF23HvOBg/jB0NcX0XA0/GlTAkpACSiBK0NgzZo1smzZMtm3b59UVVRKyoEDJnqyB9LS8jcSfw/REYYCi6e7J1LVzpH+EG8SIeIEMZUZHGXo4BKK1Gb8nVReXoZx3MOIM3SwoXONlaKW4ozVKK44O8NxC3MS12GjkENBx/Z3HaN3WL+Q+6jD/UQl5g2KOhVI85l7Q64cQCo3ik6eqIu4a8dO6YN5JASp1pjKk3VxmDKYc+YepIRjRNAs9N/HB84L2pSAEmhHID8/XzZt2Cijx46VCGQh4L06HeP24Tebj48fnNmiTQrqdhvpGyWgBJSAElACSkAJKIFzEug2kTg8E974HT16VF5+4SX54KMPTTQEb8Z4s8b/GhobJNQnUJZ96bcy3D8BKXmccfPVuVHxnGR0hTYChq6ji6zL2SW3bviFVBWWSVNd6w30wIEDTU2NaNTEuV4bjQmM0tkGT80dO3eaNGwsxJsFYzmX04jORmMCv8N8sBlRCIVzx4wZK0Ph+RkZGYk0HZ7GWMAICHqEst6HNiXwRQjQoGUJNm/88w359LNPYYBqTZdWhILS7ogYC4VBK+XgQRke3U8Se8QgIgdezDjYgxFTZWqPIXjlJMnFqbI58JTMdB4gvZt7Ykyt+yLdOes2jhjDBWnXWhuf+R5PjOxx9pCNJVvl3cJt4uHoKmGxvSR8cJyUN1ZLfk6e3H7LrSY6Jys7y3hd85yYzpAe3tqUgBJQAkrg8hLIgTDDlMd/++tfZdXqVeKBdGP9+/STvfv3mhScvXr2Mr+DAgIDUF/GWwL9A1FTDdGdkyYiBW8/zEv+EE+KZdOmjeb3TwwiccLCw40oQ/HmcjTeN9CwbD3z9xnTelLEqYaDwOqVK424VFNXC+ecYxICp55bbrnFiDaHDh3C77xj8vDDjxgHncvRP92nEuiuBJjufBnqW/3+t7+XXz73a5k6ZQrEWDf8zRyXH/6/H0gAshvcc8+9Mm3a1O56itpvJaAElIASUAJKQAlcNQLdyvWfgk1ERIS4uLYaGkmNN2E0VvI/4+nTUCX3bHteFk/4iQwP7I9iOSriXOy3ywGG1KzKHNl2KkXKc4rMTS/3mZCQIPPvu9cUhb3YY3Tn7entyXRpfHzpjjvleFqavI+aIn/+059MPRzLGzQKQhdfFxQUmFzt9EzdgPRW6+Gtxu8wC+ZOmTzF1AOJi4+XOfPmyo033tAuosAyOtDwoE0JdEWA36fU1FR5+aUXJQ9CRxry/48bN07mz79fvv/974mnq7sMTOwv/v7+4ozEZl8JmyZ3RU2SCL8IpFmjJ3MzxBpGyjTJsOAEGdaSiCibFiy99AIOz8Ecq6XVgxqDNhe1Ng7fGNMnufeWSVH9EO3TKMkZqfKn1f+WAy3ZktATaW7WbpAnvvWkzENtHA94S3Nf/DvTpgSUgBJQApeXQEZmprz55pvywdKl4ubiJl++8y4J79VT3nv3XfFDxHFYaJiEIqqGc1L/wQNlKCIp+fuGwg0FGj4o4LDdcMONZj2+tpxd+PpyNPbH9hhM08b5kA/+vho6bKhs375NluK8WAuRaYNzIPKMGTcWTgITZfr06YjY8bwcXdN9KoFuTWDXzh0YE96QA4dSUK+qEM419UbEoVC6afMWKUINK97Lq4jTrS+zdl4JKAEloASUgBK4SgScnn322RAcm/nHukVjmqtapLPKzcs1nn2MVqDXD28EaeBmMdLSslJpHuAvUYGhEt4YCHlHhZyLubgObn7yae4W+f2RJYZtC9Ic9YzoKffdfa987+mnNVrEBi6FRqZOG4Q0a/TaZPoNRtgEwpixBamsWGiX61DQ4XeXqTys9B80KmQjRQcLvB9IOSDrUHCe6Um24qaHBeh379qF4vIuxsigqaJsoOvLdgSYsmbBggXywx/+UJYvXyE9UJuJKWlOIV1acspemTBnqvxi8FfkDpdhEtbkLd/rc4d4iIs4OThKiFcg86JZic5O75exeGyn05+dXnpln1r7wH4EuPvKlLAhMtl/oHjUOsrB5hwRTxcUoD4kWzZtxnxQKTEx0ebv7Mr2UY+mBJSAErg+CDTgt/aKj5bLL5/9hSxYuEAmIaqGv883bt4kW7dskblwQnn88W8gZdpsGYCI4+kzZ+J3Y4SJtKHDigcEEP7m6ax1tbyzdS/1MstBhn3gb7lRo0bDAWK8ifT3Quq04KAQOZmeLv9+618Sn5hoInQudR90f0qguxLgn/Qbb70lCxcslEnjJ8rjTzwh4YiqY+P4QOF0//79EHYaZciQoRKKdIXW31x3PWfttxJQAkpACSgBJaAEriSBbhWJQzA0gE+efKMxaB87eszcWNGDzvrMFYXkg0OC5aPtqyW20Ev6xN4q7m64WUQthtYqLmZV/eccBMjKyQFfDxcPWXRimbxyYKmk5WSaYuRMbjF12jS59/75mg+8E46WkEMDQBhywbN4bylSdEyfPkMK8DofQg7TcWxFcXmKj0yZxnzrzBf9/9n7DsAqzivrq957R6ghEAiJJoneO6a44MQ47j2978Zbs95s8ifZdYlTHMc1cS9ggzHG9F6FADWQEKDee+/Sf84nRjwJCYSNQOX77Md7eu/NzDdnZt7ce8+953IZPrNKh498NN91cXJWBKUtJEoYIImIiBDK17m7uYuXD6Sj5swVV8hk6TE8EWCwyXCCMzOz5C9/+TPImy0qSPbsc8/JgX37Zd+xg2LbZC5r3afJGuu5Em0eKOauTeJj5ypejj7iZIb+MWRI2povVeBcxpK/BT2H2i5/p79fqTlcCvjZItvb1tZJvGwwdxDMo9sDpexCnRypSpJs+xrxDQ6Q7Tt3SNho9JoaFaIq3Pp7fnr9GgGNgEZguCDAfhdvv/OOfPTBh6pvzRNPPMnSGTlxIg6JKgUyFzbJihUrJRz9bnhbaWxoUPejOvSgaYS9bmGBhKtLsrKmmN1K8saYhzEHPrPShpU5TLjha95naZOlwH5rx44dO3ZMSTwHBQYou4xBaj00AoMdAV6blILeDEm0GiRJxkyNkUWLFvdptw4fPiiHDh4UG8in3QulBj/0wzEGZRYfePBB+QzrPQRf5sMPP5CJE39jfKyfNQIaAY2ARkAjoBHQCGgE+oDAoPQ4GOhetnSpCoyfTjgNfV03OFLn1d8s16aUTk5qumwo2y5+rU6yNnSeOFjbgYCA9NotD0f24agMgK+wn1BTa5Mczo+XZxM+ktiMBJH6NrStsFBO7eIli1FtEjkAZjqwp8AqCD44Zs+Zoxr7pqSkKAfGG++zyS8d/0pUj7E5OwMHRnCDAYPGxkYpbCjq3Mn0jHSQP0ckOCAI60Wlmf8IqatrUMfEyclBkUA2NrbqbwYf9Bj6CPA8YV+muLg4Wb9+PRzjD1UvnFmzZknoqFDZuHWz2DSYyXKfKHk8dIUEVcGptgCpjUbQXlae0tbaKB72OFdw7rGB80Afao4tDWJmbiYBkH8LkCApLMmCCluj+Eq12GbWS1JTumSjR85UVCXFxEQP9F3S89MIaAQ0AgMeAdon7EvJJIGtqPJMSEgQD08PcXZ2Rg+ZnapYc9Wq1XL33WtVFTLvKazYYQUxbRk+W8FG53r4GOiDthh7GvIeGwoJOEv0jONONjU1SnjEeCkAoZOeflGKigpB8jigwjpAJeQM9P3S89MIXA0BnvcZqDZ78803pRA+yuOPPdZnEuezTZvk9KlTMm7cOLlt5W1dJAeplhESHCxTY2Lk1Mk42b59u/z0pz8VT/Sb0kMjoBHQCGgENAIaAY2ARqBvCAw6OTVjt4JgCIaMGiUlxUWQcZgvmZmZyqGiY8hKBlZD5NYUS1J5hozzDJYgR19kZFsNCsfR2Mdb9UzhIjNzK7lYnSPrjvxWzmSkIZUSBA4cWVaMsA/OXXfdqcrgb9UcB+t2iZ+/v7/qT7Ju3ToQYRMhz+EhNtY2wNxcVe1w30hGEm9W6vCZzg/PaT4zGGIB4qe5pQXnfIGkoaHwe++/J3v37VUyHykpqao5r3G86JDxuuCyfG+4DO7zcNnf2NhYefEPL8j773+gnGZK1ZxDsO348WPSVtcsj4Qtlx9GrJUgV39kEFMurYOsab9E2hCrwUhwc/7t7c3iZO8o491GyzSzACk9ky11nuZyvjATpGmFREZO6LyGhsv5MFyucb2fGgGNwM1BgPeIlLMp6BGzSd55521xdXZRNstFkBgHDxyQvII8eeihh+SHP/qxhIePV8kotF84uKwxTF8b7w2GZ9pRTJZwdXVThA4lotogLdyKKn++T7uMZBYrq2lr6aERGKwI8HxOTEySzz/fjOTICpk0cRLkEJdec3dqamrlmWeeUX1Bl0M+kVU3PdlcTbhWMtIzVK/GGTNmdPS6BcGrh0ZAI6AR0AhoBDQCGgGNwLURGJSVOMZusTHq6NFjIRe0T6wR1PaBdFUxZB46HSgErPOayuTZzI0y2w/9E8xdIKtWp+QdjHXo5ysRMLOwlrqGKonNOyv5mTnS1tQs5uiXQRKB/V2e+vZ3IB2hq3CuRO7634mKmgJd6IkqyFFXVyen0UA3+UyynEk6I6fiTsqxE8c7V8rzmg9W7rAxaFlZRzPgjMwMRfZkZWdJcvIZ5TTRcfLy8pJwZMOxEiEicqKwMsMflTvDYTBQ1AAJF5JhPG+H8nj91dfk008+FQdHR/n3//gPeRcyN0lJSWLlYCsho0Pl9wH3yxS7IGkhddPWMiShYHWOGSoHmek9M2CCIAIh/vOmiNPsEDlz5owKsjEzlLI4emgENAIaAY3A9SGwfv3H8sXnW6SluVXug5Tua7jvnEeigD0kkhbOXygPPPSgRKA629HRCZUqTV2Im+vb0sD+NokpBrlpY4Sh56EHknDq6mqVnUEJKioFOOJerIdGYLAiQMKyENVlvI6ZMNYTEdN93xoaGuXQ4UMqiTIoKFD1Be3+HePvqOhomTxlipyCv7N7105Iqk3oUrFjfE8/awQ0AhoBjYBGQCOgEdAIXInAoCZxfH19ZNnypaoZ/NHYY6rs21ST2hLB20YYlnHnEuU7Vn+WX0bcJ5HukdLaXKWJnCvPBdbfQC7NWjZXHZddRackJTdNmlqa0RvHQmVVUhbst7/7vdI572Fx/dZXQIDnq3HO2traKqIlMjJSqlZUKXnAAvTPiY9PkBPHYyU29rjk5uddsRU6WCR36HgxG9QY5jj/S0D2XDh/UeITkmTDJxtkBLJHJ4M0WrFyNa6N+iEbcGCg5eLFizJy5EhxQb8gBlz64oga2A2W55f/+rKchIyar5+PInGyMzJlVGSYTPQJlZiWQJkbGC0T7IPQ7wZkFipWBmsWdF+OByuJ+BtmbWElEz1CxarQQTIPVsketyxZMHeeFJYWQ9+9RkYGjLxM9PdlBuybmQAAQABJREFUxfo7GgGNgEZgmCJAu2LzZ5vk73//O+4fIjNnzJTs9EzxQEXK1HvvlYXolREUFCSsjqcNw3vvUL7P8DQw9o8JIkwMcMOjtqZGSd0y8E1JW9obU9FLRI+hiUBfbcoqSLoyocjb2/srA0Gp5aqqakgXeoq1Vc9ue2/z6e39q02G1WS8lqkOYI7z2NYOPROvMerr62T3jl3oiVUos2fPlpmzZva6BH8vRkFJg/7K+x98gIqdh1CN49/r9/UHGgGNgEZAI6AR0AhoBDQClxHo2Rq8/PmAfsXAdUhIiKy4bYVkZlE6p0qKi4s7g+I0Xq2RmW0Hh2r92d3i7+wlP4XcQaDlCGlvqR+U8kH9cUBopIsZTgU46FU1ZbKn8LRsyDggFbnFqtl5KzTNqQf+5JNPye1r1gDfoV3Z0B8Y93WddJz4MHX4pk6bJjOnz5Ck5CRJPZeKcz1LiuAosYFwQUFHthwDLdaQZLO3t1PXAQMpLcgWzc3NlcqKSslFfxBnJ2dU5cTIKFwzSUmJknExXTlowfjbB4Qot+nk5KSqV/o634H6PV77rFRiRixxaWpuUg3u2Zx4KIx86JR/8P77smfnbhw7b7Gxs5H4xAQxt7GSqX7jZFHYeJnWFiRuDtAab2+C5EsT6I2hP5QoHI69mxN6/FSbiU9NnYR52shIl1YpCzCXcsdqMcvJEX+Qe7x/6KER0AhoBDQCPSPAe+iXW7+Ul/76F1T2eqvfzQsXL6BSOFlJwa6543aZDjkkEhYMyNIOGU6DdhYrFUjm8DUxYvN24tDQ0IReh1XKpjJH/zY9hhYCPOfpb7IvVGpqqkyePBmk3VR1LsTjvQvnz3fIfMNWa4H0MVUM2Ec0OjqmTxXBJG4OHTgoF9EHMz09XfXMdHP3EBdnJ9VvKjoqSkZAmtkYnA+v1z27dqOKpgiyfy5qTuMjIoyvdHk+AQleVu5TAWDkSH9ZvmKF8hfOwcfIzc2Tnbt2STV86maQkkeOHJGXXnpJXeckKZnQNwNkbgASYoxK90YQVbu4THW1ImimTInqsr3ufwQFBomjgyP6N+YqHLt/rv/WCGgENAIaAY2ARkAjoBHoGYFBTeIYuzQTTqQVyBoSNm+99ZZyoBjE5YPvK7mDrDr5KHO/WDjYyD/7rhEfWzcENdFzBDI8w3mQwGlubZF6yMyVttWih9BFOZ+bIRU5RVJThoolfM4+LiRwnn76F8MZqlu27z4gV3yWLJJFeHBQgiAZclEkdRISQMagAWk5dKtdXJwQQLCXs2fPqnOfQep6OGi1tTWK2GQVTsDIAPREMVPO1lk4cCVFxaqCY+z4cTIO0iBjw8LgmAWKq5urIpMYkDCctFsGwFfYMM9bV1dXKUd/rJraOhVgoQSKL5xPTzRipszaYB0kcN588+/y7//2r7IIMjbc1wTIpx05fFQeWvlNmVEXIJPN/VBl5Q7N/ga1m8MthNSGPgWCu5unOMmyEheRzwrE9o6RkjfWUlXkMKN1qBB6g/U81vPWCGgEBi4CJSUlsgn9b/78pz/L2dSz8r3vfV/dR3fv3q2Sp2bOniWho0craTEGqYfroJ/B/aevMX36dCTLOEoLSBz2B6H9QRvK2lr3+xiK50fa+TT505//jOtkI66P76l+SCRFXvrrX2XH9u1SBDKF54cxZs2cIT/+yU/k9tvvUPa18b7pM7/PapZdO3fJH//wohyPi1Uf079tgg3LMSEyQh56+GG55551ihyiDchRXl4uH330sXy0/iNxsHeQn/z4J/Kr3/yPStZSX7j0D23hV/72irz2+uuotjGTJx57QpYsWSokdv70pz/JyVOnFGnE9dKP2LZju3oY6wgMDJQ/YG5+fr6d/kE1SKeks0nqK76QNr+Wjc3vTAWhte/gfiSZ5Uk9SCA7JLDpoRHQCGgENAIaAY2ARkAjcHUEhgSJw12MgcZuE4za8vIy2bTpM0XkMPhMg5pZTCzdpkH95x3vSHx4inw64z/F0dpJBH0UhvWAVFpuVb5sr4iXrXJWbCBFFF+U1kng0KH4p3/6Z/nmN78xrGEaSDs/edIkSKJNUlNi8CA3L1/2H9gvaakpkpOdrTJimS0XETFewsaMUUEWK2SLJiYny8cbPlaa1ays4vVBJy2/qEB27dmlvjd50mSZgnV7o7ojcsIkVbkTEhKsiLyBhMG15sJ9oyzd4cOHJSsrW309vyBfXNFHa+bMmWi8PO5aqxiQn9dDHvLZ/3tWnn/+ORU0IhGxd99+uZCTLjMnRMuzAQ+Ku40rgm3NIHCG+W8bjiCEfUQsQOg4WYrNF7niW+Iu9muDpLqmWuHHwJseGgGNgEZAI9AVgddee01+97vfqb4YK5Yulw3oicMMf0ol/fKXv0R/PWThw64YzgROV8RE2VAlpWWKtHFAVTSrqlm5ziodDl392R2xwf13HYi6BsiI0Y5obmqUV17+m8SdiOvsZTl39hycA3Zy7vw5VJzkyOEjR0HqvIBlGhQJ09Pes3r+N7/5jbz88ssq+YqEybRpU8UHVV6ZGVmSmZOlpIL/8z9/Kftg+7399tsqYYnrojLFL//7GTmOXppM7qJdv2DXQpk/f56aI79D34C9Nw8dOazUKKajyv8/n/kvscP5amFhDp9AFIFj+Adchq+Nc5g+ISWKTW2ntrZ2yYMfYmkBeWgHSyXTzOWuNuzsbcXDy135IOfTzkMOvVCCg4Outoj+TCOgEdAIaAQ0AhoBjYBGAAgMGRKHR5PNEh966GEEbo+oTCYjA4rSBjSgWRbeCFmlI2dPyrr238pfYn4gwe5hIvUVw6oih3lhFmaQEkKfjPyqPHknb69sKYmTmtZ6KcgvUCX0xJO6yD/72c/lwQcfUCQY39Pj1iNgZN1xJnSk2ET0DrfbUXWzRJ3j1dBmp7xDNgidLEivpaWel1hk8xUjs9bXx1dmz5wlhcVF6vP6esgKwiljZh5HKoggLmcJ3W0ef2sbGwkNGSV0RmfNnSNz8Rgsgzhxny+CxPXy8lRBpz3IbnSBpOJgJHEYLHvnH/+AXMYudQh43Pbs2yMuAd7y5KJ18vTIO8XdCg2VUV3IKkNKi+lhgoCludgkVYp7CyowHx8ntZD/+eLDj0HyX5Tv/uAH4gb5EdNry2RJ/VIjoBHQCAwbBDZ++qls2fI55MAqVQB3/6EDKjlk6dKl8t3vflfdSy1hexg29rABpo872tzMyqQGkDZmStJ1/cfrZdOnGxGkDpaf/PynSh2gj6vSXxvACNDGIjFHH/OzzZulpLhEwsLGyrPPPoeqrGnK3raxtZFEVMz/z69+parojxw9JgEgZlhJ09MgebphwwZF4KxZvUq+/4Mfqip52iYNSOKpA2n0F1THffDhh3IKFTNfbN0qq1atUnYt5xI6KkS43LvvvgeyJl7eeOMNmTNndifpwmodkkT0EcLHj4d/96CM9B+hpsL+VlOiohVJ9MJzz8ve/ftQHWMnq1etlh/86Afqt4C+An0Df0i5GdU2TJ5MTUlROERNmSzB6HlzrUHpwfERkbLps82ScvaM5Ofn4vq49nLXWq/+XCOgEdAIaAQ0AhoBjcBQR2BIkTjMeps1a7b87Oc/l9/99rdCOQgGuelosiKHgyXmzs4uEld6Tv75wF9kXdACuW3UDHGwdkbws1laVQB06B52c5I3VvbS0l4r68v2yd5Th2VP3mkptagXb2d3KYUTQryckWl1xx13yN13r1X9cIYuIoN/zyikQGKCD2MwWECJgnxkx8VAsiBy8kTltFE+rQISH7wemF3XIfVhra4T6mmT1KGsgelIO3dO0tLSZP+hg7J373Q4fCOVAzcV2YF2uJ5sbQauNFkE9MBLoFsef+q0uu4zKT1XVm66ewP+NZ1mktAH9x+Ud955R86lnVNkAzMjrdwd5J4xC+U7oSslxDoEP2F1uH5ReaLHFQi0W0EapKFNzM9WSvumbLFY4i+10ignT8bJ1i+2yF133aUl1q5ATb+hEdAIDAcEWKmen58vjUh2evXVV1W2PvebwWP251i9erXce++3UKE7EcHats7M/OGAzfXso5EI0IJekrV19Qh4N6Jpux/6l4xQPQ3zYJdR4lmPwY8AbW9KUrMSpbCwSKLQp+bRRx9V1wlle43h7e2jKk2e+dUzKrEqOztHXWvsLWNUZ9HOS4Qs7nbIsLHXTnR0lPzkpz+VefPmG6vpfH7s8celuLQUZM96+Qvk3KKmTOm0/+kHP/nUU5KNXjMbIfN2+PAhOXjwIKpx5is7/+TJk6jg2acIlxXLl8s37r67c71ubm6qiiYQ/Xvef/s9sTC3UDLlQSCdopEk2dtgH5ycnGz1m0CCyhNJU9caTujRyd6EvF5ygMdgs8uvtX/6c42ARkAjoBHQCGgENAL9hcCQInEIkoeHOzIFvyexx2NhwH6qsgctIflgZEvx2RUEBfuMbEs7LZmVBVLRXCMzQidJuB3kIcxJ+rQoIqO/QL/Z62VWvuFYNjQ3SmFFvuwrT5YXCrfI6eQ4kcZ2lS1Yb2WnZLPc3d3ltpUr5YH770cDS19lmDPgr8fgQYAyW2OgV88HxzfvuUf10KGe/VE0KcUJIVVoWlqNxrt0wCqrKpUsCvsfkdghQWBU6fA1iQM+9uzZLV4enjIeGXyr1qwWLzindCBDQ0epc4wEoOGUDgS0uP8pZ86o3wPq93vAsS6vKJf4hESZNHHCQJjiNedAffTPN38u773zrpxKOK1+08wge2GPbMh7Y26T7wWukjGWIdKK3zEGFfToBYF2vG8DCcFW5M9uyRArT0eZGhop+dOyZf/ePWjUO0MR1jyHjd/LXtak39YIaAQ0AkMKARI1JyAFdfDgAUh07utMfOI9ZRaqd++//wGZhp4vrAhtH+a9JK964GFbtSAgT7sJNxwpQkCeKgFe8Dk++2yTHD92TNlIYeg/aCpJddV16g8HLAIwF2hO45oQeRjVNd///vevsB9skOh0JxLi/vDHPygSh4QNZb490ZvPsJd5/X3wwQcq2Yok39Kly3okcAgEE6gWL16sSBxKBpOAHTfuskTwBBCtTMI7A9v3/IXz8gpI2RBIinOSn6IijBV2JJyWLFki3jgvu49K+AZNUK1gpVEblmlE1fLVBvenBvOn7cTELmtrm6t9XX1mZwc5NfiatLXq0LeysUHL/14TNP0FjYBGQCOgEdAIaAQ0AkBgyJE4PKr2MA5/8YtfKIPyo48+VM80FEnmdGQM5cgCaASPCR0jh48ekR8c/bMss1ss/+v/gIyz8VfSakMpiKf6QsCh5D5dqM6T38S+Le+f2aGcB0tkWvEsYGUGszCDg4Pl56hkogPg6OgIDfRiJbWlSZzB/XtBretJEyeqR9uPfoTAQokK1pwA2Xkq7qQiaOiA0amkA0ndbDqZdM7oZBrHn+/n5OVKFrLuvty+DTJlXqqh6z0giUj+kQDig9caz7eBcB01wAFtbGmSSVGTVaXFSQSqctAn58U//3FQHNSkxCRF4Jw4FaeyJ3k8bKBfPj4kTP7D9y7xt8ZvVosmcPpyMNsQfGw3A9HoZCVt/0iUyesixeuJJ+WF3z8riYkJKkDJhrvUfNdDI6AR0AgMFwScnJxgB9bK3//+d7XLvIeTsHFxdVPST+PCwxUx0UFODBdUrn8/WZnRwIpmyF55eHpJK2zv6uoaYW+TdevulX97+l9hW2XIXWvXqmqL69+CXmIgIUCig3aun5+fSgLpzeZ1cnToJGxoR5ehItz0WqIPtn3bNrxfJrfffrusXXu5Qoa2uengNnx8vBUBw6odkjLdB304JgD9y7/8i3z80UdY5x0qMYvVOyQPfwQ/YO7cud0X+8p/dyYQdZtrbytkryD+tnB07F/XfextOf2+RkAjoBHQCGgENAIageGOwJAkcXhQp0CX99e//h9VIfBbSKtx0ImiscieH28jq316zDQ0OZ8hs2bPlNKSMnkq7kVZ4xotDwQuEj8XaASripzWSwamWsWg+secBI1YSWVtqaRWZiMJ3Uo2tcZLfHuO2g/D2aCjzsDw2LFj5aWXXgJ2U1Swm1gFjPTvDOAPqp3Xk+0VAR5rb28vWYlqK8opUHJtyxdfQNP6rGzfsV0SEhK6LMuqHso+tCMYkYVrh/rfHFwPHci33npLkpOTka07QxYvWQrplToEf5ohITJCObXG9w0iqMvKb8IfSzAnZgd+9N77ymmOjTshDnCoU6DhPRrVOQxWDdSRmZmJY7JDjsYeU9chr0krZzuJDo6QHwatFldLB5G2jn5GA3UfBsq8+HuYXV0omVUFMmcEqrAckS267YL4ZDjJU9/+tvzhhT/IwQOHZM0da2R+DxImA2U/9Dw0AhoBjcCNRuD119+QZ9DgnPd1PmgXUu7oKUgzBQSwSt28S9D5Rm9/qKyPgXknSNsyuJ8IW2osKiTqYGMwgYDJAY89+bj84Q9/kJbWFk3iDJWDjv2gbcZHb8NIbOrtc543tPc4mExFUqi84kpyhp874/yqA1Fo2NQFBQWqsp7vG4PSaDNQORc1aYokJCeiv+lPpQ22e1Njk8ycNkOmTZ0qJG5vxCD5W4g5cP+Z2GU6j2uvH3JqSAwrQ68ePTQCGgGNgEZAI6AR0AhoBK6NwMCNXl577lf9BgmKMWPGqPL2BvT4ePHFF1UZO4PRQWi6yKynxOQkyczOVBUELP/OqSqS1zI3y/GcZFk+bYHMtgiVcMdAMbO2F2ltgAM7sHtN0H2wwH9iZoVHuxRU5Uuaa6XEtpyTo6knQFSViMuEkeLBDC7oKTPji466LySx6GhOnDxJqKdsBLWJofH6qmDrDwcdAswWtUfFDMeYsDFyr/M6qYATtQSNi9n/hv2k4k+fllzoanvCKRs3PlyRN5RVKEDF1vlzabh2soRVCwz4nDp1UpE/W7/8UjVf9cE5NXPGTImaGq36UI0ODRU3946su5sNlpubq6pAeuWlv+Jad8M5baEat274eINq1joQqy7o0J84cUI+37JFdu/e1QnZqDGjJcZ7rKxwnyJLRkSJrYU1yLWB/bvUOflb/QIBBjcbJ2lyaJaTRWky2tVfnOttpL20Uey9/WRcZITs3rZDdu7YqUmcW32s9PY1AhqBfkeACRaswP7kk0/l/fffx727Qdl8tAsptXTvvffKxEmTVFKPBYiIqwWp+32yg2gDtInoU9iiqX1VZUWnzCnxo4zVCL8RqgL67bfehtTtN5XdPYh2T0+1HxAoQE8dVuhw7N27F+Tpk0rKrKdNWVlaKX+W1y5Hbm6uqsbpTp5MnoK+Oj/7mfzoxz+UYkiucdD//dd//zcZNSpU/X0j/mlF/6empkb1+8Dzvk9+I0p36GPif2lobJAmJH7pMbwQ4O/h6fh45W/6+fpJRMT4AaHecD1HITMzS5GvZuZmEo3fdiY96nFjEIg9EQtyuhrJxAEShjiFHhoBjYBGQCNwGYEhS+IYu8jqkp/85CdKRo39QMpKy+BcWcu4sciOg9zB+fPnoRl8AU1H/SUc3y13rpQTtVmSl75dTlZ7SYxvuEzxDZMwuxHiYIusJTSwRNRUkSTMrBsow9zMHFOxlCKLCslpL5eaqhrZk3RETtnmS2Z7mZRWF6EXTqGMyWwUC3yXMll01J3RXJLN3+cvWAC982kKGzoSxEiP4YMAyRg+KJliBHbiQCKQxHFEtt7IwAB1vlC3uwgZdydiT8hnmzdLK84hGuI8Z/LyMtX1RAKCBBGzCg8cPqhIUpI4o6DJTck1anfT2XRAT5c+OXs34DA4OtgLe+JY21iKH5oMZ0FO7dNPP5F77l03IKWzSDKv37ABvXA2K1k7Ors8LoFhwbJyxBxZ0x4p7vZuwH7wVgregMN6Xavg77UjCHkSXwmN5zsCJOiR017fLJZHi2Tx/IWQ1zws+xBA2b9vv0SA1GE2KwNyemgENAIagaGGAO/dZ8+elXfffUfi40+r3zq+54jK1cWLFsltt61UJi8ra3lf52d6XBsBYkXbxg/VyOyPQ9R4/66rq1c9ORfC3s6EpNqf/vhH8fcfITNmztTBv2vDOmS/0Qa/kjYf7TwOyqNdvHgR1yPVFDi6Xne8DkmWTJs2TS3j7z+yR1vaGr14XN1dO9fLNTHIHDlhgtiAYLxRwwr+ogPktzl/+gjX6qHD7fK6oOQg94WJVA6Xkspu1Jz0egY2AjzuTCQ9sH8/fMUsdS6Hh4/rrC4bCLM3fGH2nKIfHAwCtHtsJC4uTvYgtkQZ8imTJw+EaQ+JOdTi93D/vgOSnZUFxZyZmsQZEkdV74RGQCNwIxEY8iQOwaKM2h//9Gf5EHJKb775hiSdSRY7G1uZOAGBUGTm7927D5JSeTIbclDR0VGqSeSx47GoyomVN7J3ytKAGPl2wAqJ8h2rgtNWqHaxbjUXK3NkJl46GpROuFmDZr6xNeQx4TUaT6Lnh5g1y9amePmkOlbKs0vkaMJRaa5rVMYFK5CcAkJUYL0RGVMOcNL9QVzNmj5TIoBD9NQYpY+ss0hu1lEcuNuhRMNIyKjw0X2cO3dOxoAMGT16DLjMdtm5Z5dyHkkA8fskc0jelKOqJ+5kHCp0TinZEGM9wcHB8vjjT2D5UCW3RjkzO2hj06Gkccxt0xGkgY//8egIHH1dsscWDuLK1avgMOwTaytryJ04yemEeCUDFwiCysbmxjm0xr5+1WdiSHKZjgGfSbgyC9rKylK8HN0k1G2EuDd7I6jW8FU3MWyXYzUlq9CifMYpeUCcXWJV1iy+n5eI9w8nysTxkZJ0Kl5+/9vfySOPP6qy0Unk6KER0AhoBIYKAry/8j5biiDasePHkYCRp3aN77Ffxrx585DU4aeCybx38vt69B0B4kVbxsXFtXMhA3MG6OfMmytJZ8/Ic88+K6+9/pqStYqOidEJA51oDa8X5sjiZ88cXn8cUyF19sijj4qHu4f6u7frz3ifwW9KsHUfZ5KS5I3XXlUEEX072pYVFRWyceNGue++b6mkqu7LfJW/7eFPevv4qvkXlxQrabdrrYdVf6z+5z74evmIi7PuQ3gtzIbS5yRI2Hf1fGoa7kOlwrjEQBtFkAvfunWrHD50UEaHjZXvQHaZZI3p4DV2Gn1lpyB2xH6wenx9BHhuFKEfMxMdMtIvSkhI0NdfqV6DRkAjoBEYYggMCxKHx8wOQeJHHntE5i+cL+vXb5D/fuYZ2b5rh8yePUseuP8+eevtd2QDJCXYxyMEgeaIceMlMjxCjsfFypaTe+RgSpx6P2YW+uhYhcqMqhES7j36kkxCm3puuwmOLkmbjiB3mwpGCoikxsY6OVGUIp+ZJ8uWxP3IrDwjNsjSCmIJKoLtzHY5FntcWO7rhUari5BhuXrNGpVp2djULFYIEFNyShM4Q+zq7ofdIenCERYWJhMnTpR/Ki+TtHMwwiHPRwdx2xdbpRHOGc8lR2TmhQQGy0FU41RVV6vl2I/qd7/7rQpwMFuV35k3Zy5k3JbJVFSCBQQEgGSBfjw+awJ5UVVVJbU1NWpbagVf8R8a10uXLpG3335LzqIXDgNVrLDY+OkGXNdBMmmAZFDVIlP3NIivDz94T8nakcDh4PxnoHfXoqbRMrIEjoJry2Um9ytiMpwXM5XGbLckEY4eT387K4/Ou00aH26VXz/9X+p3lhWbmsQZzmeK3neNwNBDgAHUHFTZ7tq1S55/7jkV2DUInGDYv4sgpcZsfXtUyzKgosdXQ8AIspsuXd/QKK6uLrJm9Wplm7/+2muQmvVQlQzjx483/ap+PYwQoJ1hnC+ssmHyIfvWcBjv9wYHbdnuFcMka/agqnjjps/UYo8/8YS6zjesXy//8i9Po/Jhqqp+6G2dapt95G7t7e1ULxzOoQwkTnV1VW+r7XyfvzdqzmYQuIC9z2okPYYPAjy/SkpKIaXXCGUGF6EEt0FiDhQUjh49KnEn4nBOl0uxS4FSozDmpuYPZZf6+gbxh986KWqK8ZF+/poI0OYoKy1R1XquUO/wAkGsh0ZAI6AR0Ah0RWDYkDjGboeEhMi6dfcoebV333tXGFTmYPCYBgSbK8ZCKooGNbP/GZy2hYHqEeAj7v7esufwfvmyaIuEOY+URbPmi4efp4ytdZdJLSPEzQOVCwhkw+LGGim1xgcgpnFq1iHBhjf6Ntog4YO+NlzOCDiaW1hJZV2lFNSUyFivMZJbkSu1zfVS0Fwhf8z6XGLzzkhuYb4icNgUk+TNSQSEq2uqlRMwcfwEJSW1cuVtcvfdd4s79pE3Sxoj3R2Avk1Sf2u4IWCcJ6ya8fL2Ug9WdDUiMMHzlI4hiZfq6holq9CM62HV7aslKTFRVb2UlZQhAzW5E7YaEDQ7du6U+MQEdc3ZoELOwsJcVqxYDuLVXi1z8tRJJb8WPi5cOZ1RMdHQ9Q5GNdn1Zz0FBQVKcWEYMoyrlKY4JcsWL1k6YEicBshLXLh4QQ4fOar6ExBvOrg2qP77f0H3SYiFpziaoY8LZNT0uDEIKClK/PafzU+Ttj12MrrFRvWBoBTgSy/9Rb7zne8MmPPjxuyxXotGQCMw3BGoR2P0EgRKeA9WAVsAwuSLVSAXZqAq3QOZ/TcjMWk4HAf6FqoKAv4FE1qyszLVfZ12Oo/DW//4B+wZe/ne974vwUgq0WP4IcDEIlbTUI6sBERIXm6OWMyY8ZWB+Oyzz+T1119XCVNPPvmU/PjHP1Kk7SewebmN9R9/JJ6oKhgFqePug1VkPr7ekB+2VsmCnNvVhi2q6T09PJUPXVpcKtWVHUlbV1umAT5DRUWlSkZydXcBYXz99vzV1q8/G9gI8N7Cqi1K6vkgSN+9wmUgzH4SEhUbkFiXDwnxyegZ7ARJNWMwdpKamqqIUcqDU+1koJFQxlwH2zN93lISZEg24T1S98MZbEdQz1cjoBG4GQgMOxKHoDLD6fHHH1fO0r59++RMcrIiMRh89oMsFA3WC+iTQ41iDpI5zfWNYt5mJi21jVJcXyH1Nm1Sm31EmrJbxL/GQca0ekqgm5/STDW3thR/MxfxFRdJaMsRa2c78W91Fs86W2klMXOVYXyc4VQtNg1mEtTkIi6OKN8FmdPQUCeJNZlyuPachFuXSX5DKXrdVMjFkhzZlR4rFcVlijCyc7RREkzMxKJz7oN9mj1njsybPRdbbsd+h4ijg6OaBY11PQYeAjRiKEnGc5DVYQP5ODmhmoYPDm9v704wqf9eVVWppMpy5s6Vi7imqkCexCckSMq5FMnJzpGC/AIpLCqU8oryzuX4oqiwUFWfZPM7hQXqs+PHjssJ9OkZi546PKcnIVM4OCRYZQB6eXn1qbfNEhA2nMM+SChyrtQ63r5tm0yaOAmB+4lqO7fyHwZ6CtCslrJ1dBJ4Hvg6uMv9Y1GpZIfGjvgtklYQZooovpUzHRrbJoHT0NIoOTXFUtZSK6dPn5ZUi2IZEzoasoAZsnffXgkbGybhyJDuroU9NBDQe6ER0AgMNwRY2ZmDIPGXkIoxCBwmLs1E0DgyMhLBZK8Ou/dSJehww6c/9pcJGbTjKsorJAv3FvY8KYBkTET4eElG9fzOHTslCo3oNYnTH+gP/HXymly5cqW8+9576E8VL9tgly5btrxL4Live5GTg2v7yy8lBVXnhr/LXpSswLvzzjvRD/JTef+DDxAcHdsjiWOG6hgbW2vlCxch0H4x/eJVN+0IKTg/P194l+2w1wulApKB1xoVsPnTsV7+/tAn9YQNr8cwQoAkDvyvmppaCQ11FF+/gUeCBKMqldcliXfKhfO1MeibZWdnYf7VSvbQAxUjetwYBKhAcf58msI2HH16/fxG3JgV67VoBDQCGoEhhMCwJHF4/JiR/9hjj6nsio0waBOTklGBE6uajAaheR3Lw8vLK5VOK+WhmLmUmpaqjNpA/46qncKsPCksKJSTyCRRw85CZuG/VvAi41u8JdJ8hHzSelocfF1kUpOfjKlwkWbzDuk1g8qBraykfDpWAEkfyKXxs0NeeeLf5iyLzMZJhPUo8bJwkpMl52RL5Uk5apYhW+sSxKwVjQFhCOfCYK8sKlMZU+aWFiqzj9mVJJ9CkWW1aPFi5RyEorF8cXGJ2CHjrxKElZdnV21XYw76+dYi0NLSIkk4Hw8fPqQy1Vg5RZmNwRZE5jXEBwcDRBNAunA8iEfcyZNyDKXqKcln5ejxo1IKwqoBGanMSiVxlQRi1Rg8jzlYUXbk6BH14N+hIaGokJgkY6EHPhbybpR4Y28eV1dXJdPWU/bgnLnzJAFVQdt37FDfI9G5fdt2kLcj5FdjfyW2trZc9S0bubm5qtF0NZwGldVlayHzRkXLkxGrpbUdvXFI7GgC58YdH0QrmtpaJLe2RCqlXg63XpCT1ekyst0HUpRhkp2TLYcOHpapMdNAhM/WmXY3Dnm9Jo2ARuAWIUB7NvbYMTl06JCqvrGytFJNmZcsWYzkBh81KyYR6HFjEGCgmvaIGwJ9xeizYIbkgVQkapw9kyJLFi1WdnwOVAH2Qf5q5aqVqvL4xmxZr2WwIMDG6Q89/LAicA4fPixbtnyBPqXzZOHChSob3TSRqw29IitRxcLrmBUMtFuVvYidbYQ81TvvviuHsA72emR/q4kTO2xv+hFPPfWUuu4pp7jliy9UlTF78JgOnp92dg7K56A/wv6RTCqjHW8MntPGNnluM2Pe3s5e8pF0VVpeanyt1+ciJG8lYL38nRkfEQnf+8oenL0urD8Y9AjwvCpChUtzc5PqTex7qafSQNoxEu88r/noPuiHlZSUKJ/VAUmMVKYwrofu39V/Xx8CTfgNSzlzRmrgB1NynT69HhoBjYBGQCPQFYFhS+IYMERFRQsfzIDf8Mkn8t6778GwTJCFCxbI5CnRUouAclFRgVxIO68yl2gg05g2DFiSJJRc4/vM2qguqYDWeI7EwsCmLJRB1uwxNqi65/AP4xPSOFeO5pZmmRA5QdLHgZzJOSQPW82UjbmHZUdZvDhYdhjsWVlZShbOyPAzXQuNaspcrV27FtJp30B2ZYQyyMPDe96e6bL69a1FIDn5jPzxjy/Km2++qSrEsiC98Z3vflcmT5p0ayd2A7ceHRWFrNMpnUYvHU6SOolw6mKhQXwRDS9J6pg6rqavOZXM7Ez1MPt8s5oZs3fmINBOqUA6v7w2WebO68MYFugLNQdVaZR3ew1a9BzMNNy7f6/s27cf/aIWqmCL8f2b/czsyU2bNqk5M9NrysTJMjZwrFQ21Hb+YtzsOQ3l7VEC0NnaUWaPiJSf5bwjNd4W4prjIJRSW7F0uZLb3L9/vwQgwECJIYNQHMqY6H3TCGgEhjYCW7Z8Ljt37lD3GWbq8/ctbOxYcUcFDjNfOXj/0ePGIUCfgYMVC+fS0qS5qUUWLVgoaRfPKxmtzMxM2bl7FySvdsvy5csUuXbjtq7XNNARsIbPNmP6dGV35OfmS3pmujyBPjbf/8EPIAG+DtXiExVZw/MoKzNLPkUPV/br+PZ3vy3R0dHqfGFfmfSMTHn1lVfwnUxZAD/26aef7rSjmQgWBdv7/vu+pfrAfgESh8TMZPSENE164utJk6d0VrezsubvkPxbd8896j0mCdIedwcpadjXlIIbhUTBuLg4VNIXXRPuAiRAnjp1WvnSERHjkYDVQR5fc0H9hSGBAM+hgvxClejn5+836GzrdtwfS0BE1oFIdXZxlhGoFtEkzo05NRsbm1ClVYK4WpM4OTspqdEbs2a9Fo2ARkAjMHQQGPYkjnEoadzecccdEgSHNhEB3ixkxbH5o4+Xj9x5153yyKOPyNRp0yU15axs375dNUfnsuypQ2eX2UQkVdhbh387OjuKOzKksmFs8zOWittB8zcb32GrHE9kbViigXtBXj6k0nomViohRZWC6h8a7CfMj0plc61UtyKwjXodboOZLBwGocQKomJkhjSDUJo1Y5Z8Y903ZQka1IagD1D3ALhaUP8zIBFoAYHHEnMOHudqGLtGg/sBOeGvOClTgzcmOkbGI3hUjQqxHFSjkAg9hV44O1AxExd38ootcFljeWJkjJMnT0lGRob87W+vKNIjYly4fPOedbL2G3eLNa43jilwWJctWyavwNE1BitgdqIihySQqTNrfH4znjes/1i2Qt6G2ZUkhOkc2znYi4+9m0S7hKn91VU4/XEk0BMM/y03C5dt7clSaF+sfseZxcrf1DOQutm+a4c8AnKVwQZN5PTHMdDr1AhoBG4GApQQ3bhxoxw8dFjZhfw94z0Pd1Rpxb3UuK8apMPNmNNw2IZhp7u5ewilrZhQwnv8hV0XZNb0mdLW0ippF84ru2T27FmaxBkEJ4Xyw5A8xGcm8l2reo3Jghz03Xq7vh5/8nGxtLaSl//6smTlZMnrSDbajP42zEinH8dtsGI9LzdPXate3h7Kx2M/K6oyPP9/zyq/1NnJWebMmq3kEU2hpPTwD3/4IzkdnyB79uzBY7f87eW/wsd9TG2D32VlDxOaQiErS3+Y6/2///1fefONN5Qv4o113AW/+Mmnvi0ODg5q9bSXotHcnUmQBaiwKEVP1qtJTLGKgVVpTDZkBb0ewwcBXi9VVdXqXGbjepdrVFpcuHBRUlJTVOVLfNwpcXBykNDRo0E+TlFqKgkJiVBvSFKE5G0rVnQC2dTUrPzJ48ePqURdc3NT+fiOXsC83/FapNQgq95C4HtxfsUlpVBnOS618L9HjQqVqVNjOtfLF7yG8/MK1H7Y4tzn9cfBa/M05BApl+k/wl+mT5/WRYZNfenSP/TrKd2fmJSEHrB2SKAYp5IPTb/T/TUJ1S+2fiEOqJSbNXOmqgCicsXZs2fVdcq+qraQffNAQsZyyDF6I9bU02D7ACpStIP4nYKEytGjQyUNyQUH9rPFwFmQta5y+523q6QOUxUQ7lcKegExubQY0okl6IHl4ekOIjkGMbJpXSTVe9ou3yPe9NUp6Uqy+Xxqmnj7esnMWbNUUjWrs0hIu7m7Yh7OXVZD3InZcRyb5uYWWYoYF+Nu3QePw/nz51WsztXFRd1zmbDS02jAb/fp0/H4rUuQcvQJzM8tUD26IlHBOHv2HCVJ2dNylTgWxJ1VtcWoQGQPYHv8TgdDJWQW9sXTw73Tnuppef2eRkAjoBH4OghoEscEPXvc+KbhJsQAKskZ/vA3IxPAHIbzju070QS2FBkBtkqaLDpmqpzFjZOGQyN+uGlcM7OkEDc1Gur8u762TjlpvGHxxx13LrE0txQPLw/Vx4M3GfZkMDKZTKYi7WiOwz4hvNFWQvKpUipA9vB/M7VuGuKUguI6jJGO6gUa7tNBNt1z7zpZsrSDwDGccuN7+nlgI8DAMbWx6RTSmbrrrruUYTmwZ/31ZmeDBqp8MCswEPvP8zoKDuEsOKFJMHDpFObl5Slyh8RnBQhOnv8cPL+ZBVgCo5tSbEYvq8CRATBqc9HA9WM5EXdC/FESHxQSLHMhL0Hd/6kxMcrh5PVbDYci9Vyqwpvr5DV7M6+blJRU+fvf/6F6/rB6aEzoGElMTkQFTg1+HyzEwsYRQZ5Lso2coB43DIF2SJNwzHIbJ+3VZlJvUSsHrEolISkR52HH+cTz79ChA7g3BHVmp96wCegVaQQ0AhqBfkbASDR6++235cCBg7BlHWQcqm+yEUihfTp6zGgJRDCE9z49+g8B2hWLIKHmBZvlyJHDqudJVk62qqqn78DAYQYSUUz7C/bfbPSavw4Czgh0BoeMklHBF2UMriXaoVcbrKYvRpVKgH8ACBOHHm3MESA17rv/PvFFo/QvkTB4CpUtTGpik29jsGolOiZaPRYvXNQpN5SBgGgy7GVfJB/etmqVrEFiYvfB8y8EFTMPPghhY1zq6QjK7tu7H8mKaztJHC5Dcubb335KBSJZjXwB38tHv0YOa8gvlpaVq2C3egP/sF/IAlSWbf58i+pnwXkvWbrU+LjLM6XZuD6OyIiIKwK1Xb6s/xhyCDBJkcefAXkPkNouzr3LZbGH6t7de5R6Qh38Qisk3JaWl6iE2ExUnZE83AYFAybixUzrKgvY0FCvelseh3QoSRpLS5A4vL0hlmJhgV7HIHkaGxrFDIS6q7ubiv8QbJI4pSAZjx05qvo7MQbUncQpR2+zevR99UVlpZ//5Z4tTIpIB+m0A9duBBRQJkPy27SXjunBpJ+7d+8eJAenSgwkDV0Qc7rWYL/Yfbv3Siju1za26H+Me8bB/QekvhEJvth2FVRgSopLQO54Sw3iR0uXLQVBg36qJoP3eM5//9596PUToEjUClyTVIHIz89VbQJCQkKUkgVjWRy8NyUmJsn2L7cpsoeYOTo5qn5BGYg9ZWflYNkCmY/qv9DQUT3GtbgeVuAdhi91IjZOLUtpyDrEysorStW809MzIBHpiWPQqog6325SdoyzpZxNwTmxV+Fu+rvI9RuDcYBTp05hW4dl+gz2+uuQlOTnpv49fe8jh4+ofqjFqKyysrbE3C2VJCSTorMzc/A7ukaRa6ZkVvKZZDl04BCOXYo0tUDq3KIjlleblS0J8YmSlnpOvvHNu+EzBhtT0s8aAY2ARuCGIqBJnG5w8gbMRvJ8TEdpe0Njg7pZMBMqPv60jAoJRmbCeJR4ukj6+QtCLdQWsPG8KZCMYXaRQcowo543QP7NHhf8DtfPwDwD9LwZ0aDuafD92kvVGFyGg8vTEecz18vsSStUF9DZ442YhkcoHIr58+fLwiWLxNvrcpP5nrah3xuYCNARXLNmtcqA4XGeMCFSGaoDc7b9MysavTQ8+VizZo3K2GP2zTlkvJw7myoXMi4qo51ShqxO8UQ2l7Nzvrr+KIHIrKawMWGqkqIdl1guAlVtcBiacf2MHjNGRsLovhvVOXn5efgsD7KJtZKBzCJKuk3DdW9cc/2zd5fXymuZmU0fffQhMqMPXSaAQR7kF+RLiHeAeJs7wavoqLq7vKR+daMQMEKWbk4eMt98vJTVV8pB62RJTTyLLLUOgocOzObNm5H5Ngsym1Nu1Kb1ejQCGgGNwE1BgAlB+/btE5I4DAoHoFEzA7W0WRkIY9CHgRvek/ToPwQYuKR0HW35FFT2j4GNcxLBJiYMcDA5hfcaJmrxeOgxcBEICAiUlbetlODAYBk1JvSax+seyJFFoC8Ng5SBgQHKj+tp75jI9ejjj0kkJNSOIgiZkZUBe7BAylDdQt907NgwJaFGKXBKmnE0IBjNDHwm7zG7niROzNSu1QOm27odBI8rSKjY47EIMtuKJXyN7mMFqhpI7I4fH47s+3MIiGdKEPY5Ev0tQxCoZUDdGPRrZ0OqmHNnkHXXrp29kjinkIUfj8x3ElkMMnMeegwfBGpra+Qi/DlWori7oRKnW7UFkSDBwd/HzZu3yDlUflggjhIG3y1y0kSQJ7VyHhL3JUXF8jl+K48fPQYpUI8rziPGURxxj+NyrO7oiM0gFRY+IW36FPQko1qKi6szqkimituliiDGUnit5SEJ0AzBeZ7bpoPxG1aRsXKViYEkXo3BuAzvoYW4Xu1AsrC/S0+Dv/8XQfbEHjsOMsYWVTsjrkkCc84FIEoK4LNyTlVIZmzCdd/a0obYVIj4Iw5UWVklp3F9ZSER4EsoO1DqjRV1prEmEh/ZsAHysR4f9CLKhO+bBxKMfbYY36KPMxL7xMoVxiDYj5bX6x6QaclJyQqncKgSBOM3oA37kQTSIv70adm65Qt13B586MFOYtl036mycejgQVQWbpJ2tNwLGRUso8PGiCvOgVLgeSL2hOyHrLkHjiXxCUE8y6tbHIuVSFS0IRk+Bn1wbUx+g0y3RdKOlThZIPrmz1+gKpaMz4kFsWQ8YRtIqSP4jWXMYSzuyyTlvFEZWFNdhYqkM8o/Z/yO8+HgcmehzrBp02aFMZMuI/D76Il52mAdPJ/Yb3A7iMUw7Bvv40a1orF9/awR0AhoBG4EAprEuQaKtja2suK2FbJw8SJ56623JCc7SzWepNPF7Gw6Wfzx52veuGkkGDdL3vyMYRA7/A4daGMY3zX+Nn02XYbv04ihgcD3DWOe8j4sJ33o4UdURp/p8vr14EWAzUr50KMDARpCfMxARg3JTxpnvHZYnXMG5czUJmaWTPKZMyi1vqiukey8HJkxe5bKOKQxxcEsIBq/rPqhYXcIxhudX15P5+CkPv3PT8v/Pfes6n/SseX+/ZcZiWwuzcAaM4dIHnEuBw4dRMJYuyyxGy+zLEZhEh0GZP/OZnivva0V+ssOHjJpxFgJbQqWzLTLfZlIyH8JY3/FittkJIIa18q4Hd5I6r3XCGgEBhoCxcVFCJDsVdn0vHcyKMxADl9PQ7CX1am2SH5g8EOP/kWAAUpnZF2z72ZBXqGkpqYoEof3f9r3L730kgooaRKnf4/D1127P5KB/CErRsntvgwSJ3z0dTD7v3sFQG/L2iJgPBXVOXz0ZVDq7K61d6nH1b4/HpUyfFxr8Lxl0HciiSckQ23bvkN+9T+/Vj5r92VJHCUg6Ovt7YvtfwPqFD1LPnVfTv89NBCg+kEJZKsYGHdDBUxPFSiU9vrbyy9LYX6RIgtWrlqpYh0GAvQDGfB/47XXle80NnzcFT6zk5MTrp+p6mEsZzxTBquiokoKIS86bvw4ufPOOzoJg5aWVhXTYcB+DHzHcKzbdHSQOEWKwCAB6YztmA4fX28E9T2U1Fhv91MSonuRVFFRXimLlk6V4D4Q9pTYp9qLJeJAGRfTQX64yKw5s+WBBx/q7BuDEJMkTEuU//1/v1VEU/qFdNxfUpWcmDHHKhA9rCDhNct1pkGFwgKKDz//xT+jpUCA8bXO58OoVNn06UYpgv88ffZMuRu9ltn/yhisuHsbShKfrN8gB3BMKEvXvR8tlWz2Y3+/hBRcU0OzLF2xXPV+M5U4GwWJPJJyTNRk/MzNzRWJ0h0ydca2mIxCIoeJJ+xD1FuVUyMSsEkMmaNiyB3nmNWlZGhjPZSJ/OCDDyHldk68fbyU5PrSpcsUJsZ3eA6mgSyMgWoHseJg24RXXv6bqjxait51a+9eqyQhjWVqQFCSUHv91deU1FoYCHfKp+qhEdAIaARuNAKaxOkjomT777/vPtUrB3kcKgicjSyNY8eOymlotJ6IjZXU8+euuTbeCLqTPVyImR90pjkMxl/9YfIP5aGmTp0m4ZHjVf8QH2QL+PuPRAaHX683MpPF9UuNwJBAgNrgDDhx0Diag+y/pqZGOIvWKgBViAwdBkVoLI4c6a+uVWPHTZunshnsy3ASNm3aKO++844cgqF6+NgR2YJmr364pphR2N+DxBOvexr0zEobiexoBnKyc7LFZYSnRAWOFz/nEXAWdGCtv4+FWn97s/iLi9wlE2V/y57OrHQeI/5uHzt6RDUf1iTOTTkaeiMaAY3ADUCgGdUfedDvLy0uU4EnZvMzSMKABH/XqEUfjp50vAfp0f8IKBkhJOmMhf3y+abPUPHfka3NgBSPDYNuDDIyyYMSs3poBAYLApRTOoZMdCYj7YfM0+zZszorGVjjVwvpJCYpsZ8Eq5hYFd/h+Q6WPdTz/LoINCHArnqI4H7Dni3dExbZk/goqmtKikolZPQo9DW9R2Yigc900A+MBsmZmJwkx48cE8rhM1jfl1GICp5/vPkPuXA+DcoLU+X+Bx7EspeTJpubGyUx4bQiOBwhUe/q2nW9JBHYx6YJ8+c2SViYDkdHJ9WTJhcSY0Z/W9PP+boQPVTOpZ5FhYinLFgwX4KDg7t/5Yq/KTvGylmOEPSwuf32Nbi+ZitCw/gyXBVV5Tc5OgoVSkdVzx72pzIdJDiKS4qFF148qnZmz50rD6B6htei6aBtkIGKntijx5HAnK0qSxgH4z3KdDiiH9B4JBSfQRIlq3viIKXo4eUpfia9rk6ePClHIU/X0twqy5AYvXr1asi4+ZiuBjgsoOSMvF1WKmUl5Uh0AInj4NjlOyRxuD9MaB6HChgmQ/Q0inGMC/ILUaF1ZaUXk65JJKfhPkvC7cknn5JJ6JVrEDXG+khUsd+O8T4l+0gccr0z8bu2CMnd7OllOhwx35BRIeotElfsaayHRkAjoBHoDwQ0iXMdqLJxXeioUNw8OmALQNZRcFCgLEMlDDMazyKzoQZll2zYlw+ZJjZsq6mugfSaE5re2an3z4HZJ2FDA9Z0sDqAWR/8bD56dpijhJfZHn6+fjIXFQOW+DsI22P5viuyE1hCb4MqIWs0wNRjaCHAc+Bk3EllLPD4LsL5Rb16axgt3Uc1zq89u3epChQaW6zmIBHgDqOTsmDTZ0zvdKC6LzuY/zbkzvjMjByRjkwoGtOUFwwIGKkMThrfhsHJ7C8amdkoHW9phhYzsv88PTxl0qTJKKtOUyQOsU9BqXRmZsZNIXGOHDki//jHP5Q2NI8Hfxco/2ZrYSOPBi2VSBcQSfhbj5uDQDtq/D2snGSh72TlIB48fUxaajt6U7ESbBfkBKKiY5TG8s2Zkd6KRkAjcKsRYDCDGbW10MBns9rBNihFumvXLjmGfiu8DzIQQmKaRA7vmYGBwZCUcevsJzfY9m+wzpfYT0dzantkGx+EzEweeo7QF2DQiFr++2P2yR19rPIYrBjoeQ8tBFYsXy67du6UN954Qz2mTJnc6YO0gkze9uVW9NaIl1EIQlPSmIlMegwvBFgJUohAOGXMmIza/RxIiId0167dKgZCSb8pCLD3NOgTN6LvDZP4XBDw90EfqWuNIlTefPrJJyBpElTgftWa21UFmely7JWTnZkttYzfoO+LZzdVjAZUUuYjoM9+NPQLupNQjqjMoWRiDtZBye5AxIlIOhkjOzsHJMIJqaqsluUgNOiz92XUQBGAfVo4ZuK+QdmzDv+369K28IlJPiRhHysqK4T7bDoagVcxKnrYD2gK1rFg4QLVKsD0O3zNhOIDB/arPluMRd2O/rx+3XrUGMuQBPMG/iRxWGnKa52DPjUVM46DwKGSDSXQ2PO3O4HD79LVZcJ0RVmF2jZxdUDczXRUo3KoDAQU7RdK0HFfuw/aNyRqOH/KsdlDUs90nDgRixhLHLZlo3rkUt6UpFD3QfuID2NQXm3f3n2oHnNV+xDRS4Ui+92xuqcK2Feit7UeGgGNgEagPxDQJM51omoQOFyM8ma8UfIxEQ0rFy9Zigbplar/DW8gFyD5dOH8BQkOCVKOMh20U6dYQu6tgrX8DoPuvLkz659Zd7z5fPMb34DWMIwTkDi+JHHmzVckznVOVX99kCJAwyMWlV3PP/+cykIJDAlBg7/QK/aGZb7vvfceyJ69qilfGc4fDgYAPKAxOwNGHvWmZ86cAYmDSVcYylescAi94QptYz44aPimg2CNAzFGPd709AvKsPTw8FKl/NRkzoBurjHSkJ2VAUJsHq67/h5JyOZi1iINRf4OUD+ZzTvtrW3lGyNmS5Ad+lq1NvX3NPT6LyHAYK25haWMdPaWVUEzxRqv49OSpRKSByTO4+FcnkTmWjrOl5BgEGx6aAQ0AkMeAQYMSOLkIlmHiRWUHmHgiPdqJhIwGG9kaw5EMMqQEcr7WiFkR3lf5L7wQcJg2rRpkH7RckY3+7ixGodBpNmQw2ltaYYM7AWhDccKBtoDzGZmDyNN4tzsI6O393UQoJ3E6nj2ddqy5XN55JGHZfGixSoxsQCB4zdef00FaW9bsVLmoQJBj+GHQCUSXevrG2REAOreu1VS5CNOcjb5rPCexd5LJBl4n+pp8B6Wg0byjMUwaG74fD19l++x+mX37t2yf+9eCYL9vmjJYvScvdzw3liO82PFGOMwzkjC7T5I4hRB8YEShiSOuvc8cYIvZxA7TOxlgq7pSExMQLLgWSWBz2vFlOAx/V7313UkcSCLyp5XoyE95n6VKk3OiXYKVLmvGCSnCiGNRluG1+D0GdOu+A7fYH8d9sJpQkxC7x0AAEAASURBVD+hCZMmQs58piJPevoyyS5KNNKHMjOj9FhH9iH3PQFkEmNhTqhqio6JRmKlX0+rUO+VlZWrftAuSFbuCfuS4hKQI1WK/OM2exqcd5GSUkMsxNOri1IN5dNJxuSDWGJ/3Dlz5vYJ/7r6OtUfpwg21IxZM7Bed3VcGcPrTLQE1iTVWH3DXkRM5iahpYdGQCOgEegPBDSJcwNRtUWfDVs4w8zMYBnmLEhUMEjLmy2NEGZDLIIxOx6NLTnYLI3lmdQEZZUPCRzqnY7BjUWP4YtAKww0ZtvkwgDgIJlniWCy6SgtLZN33n1XfvXfzyiHn4Yws3Jo1DEYwGU2f75ZjkD+6Xvf/Q7OqbBhReLQkGQfk3w0gTwF7e1dO3fI9u3bUGHTIR9jiqXxmkE4Zg2xKuc0DNe1a2v6ZNwZy1/vcx2cmDYca177dEZ8kZFGIpckTqCzj4S5o6mktZ20NWsptevF9mt9v70N6WPtMq85WNrGW0iVWYPEHjymjHEGbC9evIA+Rgc1ifO1QNYLawQGFwK8P1CGJAv3EDYirofzToeeTjqzYgeyxCJ/twzpTlam0s7kPYcJRWtuv10FnLoHmgbX0Rl8s6WNYomq/kAkcNGea2ttU4kCTCDhucZm0pQKonwOA4IkEvXQCAwGBOZAnunxJ56Q1159FT5wMgLlE1XmfTECsAn4m83Tl0BhoK/B68Gwz3qOfUOgCnGPcgTqeU9iT6TulSQpKakqLsL7FHuOXO0cIdFSWlImrpA08/ZBwttVBn3igwcPyWcbNyHmbqHI8RlQquj+q0ppSxIAHH6QF3PvofKWaisV5RUSFBKIYP5lGTZj8w4gcSizxt94+njG4N9UzyCBU99QJ1FRUaqvsvH5tZ6rESMqw/2A9w1Hh64VKqbLcjvc3xYkmbjj3uHj3bVCqaKisnP+o0JDVDKB6fJ8TWlVkq6lxaXii+obSpdZY7u9Dca4HC7NydLSAvewDmSZrJCKnjs87tHRUYoI6m0dldi/cuBK+yowKEAp2Jh+lzGzAvj0zVDS8Bvh26VKxvR77JdUVlqu7qOsHDIk2ejfF4EEKy4khlbCfQ8ODjZdtNfX2SALSSxyXdZIsjx27Lgih3jfNh0W2HfOs7amFnE/O5zfPROQpsvo1xoBjYBG4Ksg0Psv8ldZm17mCgRI2BgZmiR3TB19GidhKC01nDM24buawXLFyvUbQxIBmj7GOcMdNM4P05195ZW/yZ//9EdVejxrxiz53g9/qEqinZGZQqPpPKrAfv/736vGho889gTOqyuziUzXN9RekzB98803lCRdMgzmAmR30bA1LY3mPncY2W2dz3yPQbmt6IsTCEm2H/34J12OBT+/UcPezhbBGXdFHBnzqGmul8neY+TZed8XBysYfy1dM7hu1Lb1eq6NQLuluXyO8+Bo1ml13jC4xsx7SvLtQTbfA/fff+2V6G9oBDQCQwIBJkpMQsX11q1fqgxRBi2ys3Lki88/R7DBQebNn4/muZelNwbSTpuBFKAdYdxnSNh4IUN12eKlaEK8SGUS027Q4+YjwHsKB4N9fG1q+zGItvXLL+Web37zimDnzZ+p3qJGoG8IjBk9Wr77ne/IuLHjVPNyQzpp3Ngw+d1vfycj0EdiQmRk31amvzWkEGA1KxOhLEjiICbSvcqmrLxMJbSSCKHMVXepNQMM9qMpBtnC+xorSY1AvfF59+dde3YjmW+XmJtZyG2rVqkK1J7iLY1IbihHsJ4B/7E4f/1HBnRZVT0qOVgtQhLKC+RIT0F6VsG4unZUpZAQItnECjUSI4cPH5bkxGTsu6/MX7BQ3ZN78vG7bBR/8N7ApMRKEDChY0Ih09+1D4/p9/ldVt0yUYNy/vQzjcFKlCoQSWr+Pr6oNrIxPuryzLmWlZao7bpCqs7FuefeM8ZCrH4pBknL+xeTQ+zQQoCjra0VvY2K4FcTA48rpOuM5flMkqoSEmQkcSZMnNwlbkHbJTcv99K54SCewN70XtllPUiAKMHciSuPoUHE8ZiSiGmABJ+f3wgQUxF9xr+8ogL7gApmxAcoDRd79FinTWW6bW6T26E9NXf+PKXUY/q5fq0R0AhoBG4UAprEuVFI9rIe05sMf9xNb9bX+ruXVeq3hwMC3dODuu1zJvotUXaDGZqPPPYIAjHzOw01Gr2RcJCeeeYZlY3D/jAW6Kk0HAaN+t3oW/LJJxvkBCTpaEDTkKVBRQLHCJgYWLCR8FgQqcwQmhIVrfoCkABzh+TMwkULulyvxjI36pmVQmxgzOPIKhw6My0weL1sXWXBSDRZxH9trArR45Yg0NjSKKNDQ6XYtUkqisulGI4If8+ZZcWm06x4C0YWV3di8JZMVm9UI6AR6HcEmDU8b95cefP1NyUN2aUBwYESHhkhf0JCRRZ6rT366KP9PoevsoG4Eycg5XtKNeHlbxgTithQeoS/nyIHTO3Sr7J+vcxXQ4CBKQ42725pQ/JN2jmcR1mdwSkGPD+HLNVdd96pSZyvBrFe6hYhwD4fbLxuKpdFe3vVqpXqXGagVo/hh0AF+n6y4Tsl0Dy9PK8kcRB8r4IsvRt8MPai6c2+bkBAvRKBdQ72n+mJkOFn/I2ljP3enXuU0gHlvG5buULcepEio79In4zLMenWpRtZUldbo+ZnDn+S/Va6k1Dcph3ObRfIadHfpE9KAoOD6z59+qTYoQdazLQY5af39d7LxMRSVYVjhaojkC899HBRG8E/XGcRpONYLcwEE/a7Mwb702QiIU1VQnH+vVSKkMQhKdMM39lN9WG+vA5jXabPdXW1Sg6UuLnhuNmhCoWDBFZebj5INnsleWe6TPfXGYhrMLZBmTcSv90JvBJUBdH/Yq/bCCRIcx96GrU11cAKsnOYCyuijL45JFe4T0zUJPHnCym8vuJfinO2uKQYxJ233Hvft5AE46nOTW6j6+DfZuoeTvLIkNXr+h39l0ZAI6AR+PoI9PwL+PXXq9egEdAI9CMChs4qM2wdUH1j6ihxswzUDAdZvko4BCRdamC0nTuXJtnZOSpYtRPyaTSYTQcNajcYf6EIzFMLd9SoEGXI+yMrMCxsDGQPx6jMn4KCfOBnoYzIvhp4ptu51uuOSqkLMKTTVcNIOrbL0Az26JEj0lhRK1auaKZoDa1fVOVcaSBea+3686+LQDtEpM2h6RziNEICzf2lwAnOooOrcqDoBHDQoE9KToa284guestfd9t6eY2ARmBgI8CM2slTJoPEPS9HkFU7E7K51M4/hV5Zo4JDZP7CBQNqB0jgUEq0BDIi06dNl6zsbKlA8EslNkAehffF3oIhA2pHhvBkVC8HJO4wS5o9FiiryuPD59OQg9VSd0P44A/RXaMP0lOg/Fp9S4YoHH3eLcpg0b8zcKIP0B9+SJ8ndIO/WF0NSbBLVRKUuqL/YzqKi4rR86RSkRS99Tzh91mxcTE9vYNsAWnQWyUOSYHNn21W9+sJEyfIqtWrrxpY53rP495OW98VRE/3fjeUIs3O6ejDw2SInkgczs8VJI6zixPkMDsSCfleMnqxpJw5K5Mho8akQV4jfR0lJaW4b1eqyh9vVKH0ds/m+ZID8j8/F3LsZu0gmjzVw9gOK1Q6fFwmc5BE67kSh+ch+xO1gMzhPnaXvTPWZzyzr2w2ElmcnB0h33aZ3OKc62rrFSFjC/WJqw0myrFvkZWllZKBs0JCqjG4X5w7+82wMigAbQh6w68M8qSU7GPlj2lfHdo6+fDv61GJQ4Kot303tmn6zGV4XTqAFIuKjgaJc6WMnun39WuNgEZAI9DfCGgSp78R1uvXCPQDAoYsHxsdfvHFVmQsecqUyVPEHhk+3fvn9MPmb+kqaUgxsEEDLjExUQ4hkFYHEodZPBUo6S5HFpVB4DhDopBNp23t7MXRyUFiJkfLLDQSnjtvHkib0B73g6ROf46mpmY17/3790rymWQY+i5KF/nLrVvVZlWGIrJye+xI2Z8T0+tWCNBZsACJE+AWIC5tjtIGLhDxNfXgZxw8B9nvbD7Oo+5OqPqC/kcjoBEYsggsRkPkSmQL//rXv5aMi+mq1+GpuJPywgsvqIa7Y8eNHRCBN2bTbty4EWTTEaUBz8rBCxcvCrNx2XzZCTKrQylAOFhPOAaUqPWfhoQU2ivsj0kSh4MJA3l5+UqOZ7Dun563RkAj0DcEWlpacW+pVoQuqzlYccFqCMo4UXK9t+B939Z+679VgeB6BchpNrkfARLHlAShfV1ZUSV1dfVihp4qV7s3FSLgz0QKLuOFqtKeCB9KIFNCLQH+YkDQSFm2bJmEjxt3VRAolXYuJUUlNzBhw6GbFHkeiI1MEBY8Dj7ow2M6f9MVUw7OF31bKH/W3NykepsdPXoUx7VJIiImXFcvHK6XhD57xtjgXkHlht4qcUgyHcN2iotKJAS9mcPGjlFVT8bcSKJxXfSfmTDQ2/xJYtWhgoj4sgcN/dbeRiaqR5MSk6SyvFJmz53VSRox+aAGMQr2x2FynOE/9bYeJpqwusrTg72lvdGD5zKJw2VY1VQLEoc9fpwh79YTiUP1Dfa+VX1zUGls6p9x+/TdWtHHhoROY2Pf5cptIDvH+zRJLc7DzdVl0F+LvR0H/b5GQCMwOBDQJM7gOE56lhqBLghQ0iUh/rTs3LVb3nj9dTl94qSsvXut3IXHOBipPRk3XVYwiP9g5c0P0QOIQXRmC9FIY3XNvd/6lpyDPNnOnTuVccUgyJw5cxBgWySRaKw6a9ZM5QTd6l2nQcuspj179kIbOl3N6cMPPlDZ0faecGxQ3QFrV3M4t/RAAf/WFuWk1eRUy6Ejh9U5xeuKzk0NNKUTT8Wr8++WTlNvXCOgEbglCEREREAu6HZJPJ0gtnDw65CpuWXrFyqJ4kXIq/mP7N9kgL7sNGVhEpDoUIpnJnpkXMyQdNxzOPxwn+F9kYGyNt5v9LglCDCwRDkgZg2TdGMWNYdxr+H95tChQ6oy2EjeuSUT1RvVCGgE+h0Byk7hJ1m2bPlCYmJiVD+PjPQMJb0cFTVF9di4VlVEv0/ya2yAlTb1IGnGhY8TN5AkpoP3Ikv0laOEGn8LWXnhgd/F7mROOYgRyk6Wl5Wqxf18/a5Qo8hGxemX6F+3dcsWGRk4Uh597HHV0850ez29pm1fWlKmfDQPzK97n7tqJG9UoG+PhYWVkie1t7fvaTWKZPHy9kUVSp0iQPJyc+XC+XMyKWoSlCBCQawwNazvo6NXUEeFEnvc9EbmpZ07J/v378OK21F1dLtERcV02UgVsCsDbqx2YcJib/PnOeY/wl8RF9w2bQmqV/Q02Ofn/Pk0dW4uXrrscvUSjmdnLIIuLfq+9TRIqDAh83zaBampqoEP7A+CzxfLdsWoDFVNlCHnOWKD6ufugz7/bvQrPXvmjCIJKTtH2Ttj8LwagV44vMZIZhXhXOT9t/v5ZXzf9Jn3Xnc3d8nBeZWEuQbAviOpqodGQCOgEbhVCPS9lvNWzVBvVyOgEbgCgdWr18gvnn5aFi9epD47GX9Knnv+eXnwgQfl6X/6hRyBNBed/6E2WBr/6aefQjrtXGcA3RrG5orbbgMWS9AocoE89PDD8uabb8qOHTvkjwimPf7EE6qPwUAxuFpxXEphRNchI4g6zizJT0V/BVYPhYQhc2rCWBAIbTDB9bhVCCjsIUUwqdxLwiu6akHTEaAc0V44Sqz60kMjoBEYfgiEhYXJw7jXRE6eqCpdGmrqZEJEpGyHlOcLLzynghq3GhUGAxlEYdYuA2J7D+xDZmyNCsyEhY2VsZcSPtqHoK1wq7G/nu0zu5dVw75ePldkKzMwlZSYoO4517NO/V2NgEZgcCLA6oi5c+dIOuTCKNPJSg5KZ7/w7PNy+NDhwblTmDUrjFhlYwdlBD8QCD1Vk7i6uSgJrGp8NyE+8Yrfw1os//qrr8r7b7+rKj9I9rigKsI0EF8D4oTEQlJSgoSOGS0PP/KY6j9zLeAaUTlC+S8SJF7enmJn31XqjcuXl5ZDmrREVbd4QzbMdLum62fVhjeqSSpQnRIfnyDHj8eq6pjly5aDHEGi3nUOElasQqGE+PZt24BjR58d09V88cUWef/996WirFLCQJKNAVnUXTKsFLJsJKr8UCVEYqK3+ds7OEg4+s7wGF1ExRMf3QerWt7D9nZt36mqqwLRI3DypEmdx9Uay3pDso33MPazOX/+AuTSCrushr4WlTVe/durSmpuBHppRUyYcJn8Mfk218MEx0bIjhajP5Dp3Cmz9j6SIXds2y55OXlij+RO7p+lCYnD4zouPFwRPOw3l5yc2COOVPQopKwfcDLGKFQ1MfGloqJcEhNOKyLM+Mz0mRVAZeUdvZpM39evNQIaAY3AjUZAV+LcaET1+jQCNwEBBpJnz54j//5vlrJixW0q84YZKCdPnZQMlJDHw3gNh7EyZ85cWbt2LbKGhgZf64jSdl9k0rC5IQeziFauWCEPPPCAqsYZMcJPZqNHATOMemt0eRMOz1U30QxHIRml5/VwNFhJ1ArDdML4CXI66bTMtx4ndzlORTfIVlV+ftUV6Q/7FwGQOHZNFmLVtbWSchwoDVAOY77y0nnYvxPRa9cIaAQGGgIMIISEhMi6desQgPgbZDpqQYqMlcycLPnggw9l5MhAefKpJy9npd7kHWBxTRMCCmyIbAR8SD5PRPWNGwJlzKpltq0KjNzkuenNdSDALGDcUGDT+Ml4BMzS0tLkdGJ8l+zgNmQpF0BOjXJKemgENAJDHwES75TMoi93Br0XKd3JKoaq6krl65HomDIlatABUUI5LCQRMMGQhAQrRCmpZjomT5mC3irZkpGeKdu/3CaNTY2oehip7mEXL16Q9AsZYoFKjBH+I/CdDEXSmPp69Km2b/tSDu4/gN47ZZAUCxFKbB0i+YWkBvWbe2mD9MXY4J7EAwd78VBqjMTFOPwem66Xn7NipKamVkl1tbW3SS6qa9gzh/5496FIHMi8sb/mMciZeuI1++CwVy0/u57Be3RBXoFwvpQFz83NRjLjJyCmJqg+rsWoULkIgoQ9+kpAboQhOYPKHErVwWRDjZBEqwRBYYGer96odLnaPCjbFhISLKNABCXEx8uhgwcVqRUcPErZDazmSU5OAs4HVSXvIiSUUma2e4UQ+/Wyh0wsSKy42BMK24WLFoKksVC9eTIzMyQf9zdPkD08XiTO/HG8TQkaYxcCAoMk7dwFVYW14eP1EjNtqooBqConVvHABguGTdYGSUIew7AxYZ2EEtfB4xQUFChj0AM3Ny9XKIH7KfrkjkC8wN3DQ31OqbR4qCw0oLJ6Kta/ZMkStXn2+eFyJ07EQvHjHPosfSaTIGE/EnMl6VoFXzAL+5J6NhU5mG3yxJNP3DLbz8BLP2sENAJDGwFN4gzt46v3bogiQEOUBMZCSIXxMWP6NGj9hsthVOBQ755VKHwcO35c2GNl+bKlyvAa7HCwjJx9SBag4oZl1VOnTpW77rxDJk2cqHbNEQb1QB8MyrDpJPWCmUVG4y8SGsnn8i7KFItACWgJkDbRFR63/DgivuZobSdBfiPFq8JHKgrLlPNpOBd0CAoKChG8bUBm4dUbdt7yfdET0AhoBPoFgfFIlli+fLkcPHhABZXGjhkrR44ekXffe1fJxdyNYEr3YFC/TKTbShlkqkWiABsiczBgw3mwMW8kKoZGjx6t7kHdFtN/3mwEYMsxgDQ+MlJS085J2ycbOgNYDOa2wF5IReUxg296aAQ0AsMHAWb/Z2dnSVzcCWT+l0sgAtBZaB6/aeMmGRkQiObqnoMKDMpgMeDNyiKSDikpqR292UxkqRjwL8gvlKLCYhVkL0OyVHBwMMiXNoWFuVjI/Q/cr17noz/NmLFhnX1dSLLQ/z186KAiWOywrRqQRYcOHQB7IyAbqE5xSaILv7sMtk8CgWOQOJQMY6WFg6MDkgJHXyE1Rr/bytpS3UspCRcbGwspTA9hRU73YYX7rTd6t3B/UyHz7eTsJCtWrrjuwD4JLyZiFKP6xxbVJeER49X2Y+Hbp5xNQdWSqxQUFkgmqrZcXV1l2vTpMnP2LJk+bVr3KakqmHqQE87oteSBvjOGL3PFFy+94QoCZsHChcDOTNKwDx++/wESVcKF6helII4KCvLF2tJG5sydDbJjsQSBZOk+KHe+/LYVqgL45Ik4RcyxmoiVPly+EfMJDQ2VySAlq9kLDsfQ3a2r+gHXyblOxLG6eOGiHAVZtWvHTtUHl7jWgVgjWTZ3wTxU4NgrgrAJZB7Pm+7VXqwOmjl7plLCOANJ9j17duMY2StbjedLBQjTzIvpIMD8QJx2VTOJnBAhC0FWHT10BGTOCdV7h9JvtKtKQUAVFReACKwC6RioCL/uWOi/NQIaAY3AjURAkzg3Ek29Lo3ATUKgu/E1Z+48GFLzVBbRx+vXywvPPw8DOUVOwMj893/7V4mGljKrU4bCCA0dJS+++KIynNmYsTsWA30f6TjQ2TAywkjkZGZnKlk1O1eQUG2NA30XhsX86PB5O/jI0ij0nwqolPXvfoQMr7bOrDsev5SzZ3FtRSEba2hcW8PiwOqd1AjcYAQo51mLQEL8qQTxgYQKgzp08n//+98hEGQnK1euvO7gzdedIrN2cxEAbEVvLw5mDPsh6/nIsSMyJToK+vWBQ1Jy9evidiuW57FyhSRQYMBIdX8xpHBJ4tA+SETGc2FRVxmaWzFPvU2NgEbg5iHA+8isWbNBWOTKrldfURUWjo7OKnhPyehvP/XUFb1gbt7srn9LQUFBICHC5cKF8+gVU4+KmyxhEoSp1DV74MxFoh6luvahb2glyKts8C7evj6ovJguixctlsDAAGnZ34QqnFBhPxwjUM9l2FPM2dlZ9Z1hVQjt9Hb4Wxwd9A3YHAz+xjo6OCriQ72Bf5j0YG1jjYqL0aoHmbFe43Ouj5UcwaOCUBnZCKIoD+RErVxJ4YjqjecMEoT+KdcTEBDQSRYZ6+vLM31F7hOraT3/P3vvAV3XeVwLDwkWsKD3SgAkWMAG9t6bGkV1yZYly0WJ9Nxt+eVPHCd+thPHK2+tvMhJXCVZtmVLsmSrs0ii2DsJghUEQPTeG9FB/nsPeKCLwg6AKPNhXdx7zz3nK/s7dfbMHv8AWbBwsTpgvPH6q5J4PFHz3LHPkyZPlCVQ3lgMJQpGcXUsxKEGeWAYxTURxBcjoHh9uVZZuWKFMAplG2TK9u3ZqyoSxM4T5EksJGVnzIiXdevWdiK8nHo5duZyItFEx8WsjEw5gX4HhQSKH6KgaLegkymJrvCIMI3QCUBUTsfnen6fPGkSoo/ilPypqqiSMki0XWxp0kif1WvWyAQQb/v3H1B5vbHIe+OBqKWO9bBfs0EY+fn6y25gcOb0SeS5yZUiOOSNxjZh4aGyAPlz78I9HdVMXEsk7pkeQ+Q18wueSExQp51MRIyxDeIbizlYC7m8hSDSuA9aMQQMAUOgJxEwEqcn0bW6DYFeRsAHHixPQFqMnkU/+clP5K233tIbwOycXA0Zbr2J7eVOdXNzvJGm9AgjIbq6Qevm5rq9uoKCAtm+8xOV42Ll9NSaOD5WTqYnqWdYtzdoFd48Arg5r4I2N6UM6Mnn7G/OTftpyBaWFK8zEufmEbYtDYEBgQC9X/Nxbv/v//lv2XTvveqlexwyJN/97nfxgC8gcu7s1YgcyoK89MJL8BBtjcShkYEGIRbmZOOLGu/OsgExCf10ELynSU9Pk9Tz5yFzB+97GDcbQd7QyOZcc2igtGIIGAKDCwE63y1atFDze/JcTRmxFETs/d9//3eVGbvnnnvakSB9HZ3169dDQWG+KikwH6grgeP0PQJkNqNt7rv/Ps0Bw2gOrkdCgBKgbjgvLgK5RXkyRpiOGDFSN6WjwgIY0OPj49WozufdVsrGqbn9O8+trkTN9OnTZBIIDpIUbMf1N2fLtevWy1z0n9Kk7JOvr6/zU7t3Ok8wj00dcp3OnBUvC0EM3EzhnDMKpwH1+Pv7IfrKDwRMsPztM8+qdBqvC4yuHesxVp8lu+oz2+VYmcePRBrHR9yutG7HflICjtt97onPqeQZr1eMVqIaCD8Tq2uVNVAModQ5FTQYHcUIJgdj9mMyJOCio6LYUV3eFcHE9Tfeu0mWr1ip+PPZmXNORxlnH5gDBxXOI8frLOuqb3S8Y5T0pns3arRyfQMVFUZpv9j2lcbEMXMfXr16lRJrdN5pam7S/YDbtO6PNyaX11X/bJkhYAgYAtdCwEicayFkvxsC/QwB3ojMRyg1jQEsNAYU5OfpDccY3IAMhMIbx/5Y6nEjngUDDW9iWXijWYUQ8sOQS7joDqEA6ARb6UMIuA2VisoKSYfWMY2gnC/XwoehVokG16X22RAwBAYbAtSfXweP0kyc37ds2azSIEysm5mZKT/60Q/VeLFp0yY87HeWCukJrGj8oaHJIWlo8AhDPjnmXaHRhy+e06zcfgQ4DzQ40TNcDWsdrjPsIaV+6I1NI5IVQ8AQGDwIzIBc9H/97Gfy7tvvSOWIMuQ089aohn/5l3/R88X999/fFiHe11EZBbkrvrq6n3b6Tgc9Guf56kqqjOt1ZSxvNdyT1Lk5IzrPvdciNlg3+0QCquPzgNN/vtNZb/eunVjnkpJwc+bMdf35uj/zGaOouEjJIEqQ+YA0IsnA53xG9zA/55DLMUbXqpTPzTfz7Oxsx2uPLyTNr7c91/6Q4OCLOXK6mnttA7JkVyvEm3VcDf+u9ouu6uQ+RgzxD1J3nkpsdUUcdbWtuztJK1yv2V+EYXU1nq62s2WGgCFgCHQnAteOpezO1qwuQ8AQuGUEeFPHfDevvfaaZGVnd1lfOYw31J1laQaJw5uv4f2U+OhygP10IW/2LiJBKW8gWTgv9OaqqoEWMJJXXt1vTDexf72JAGyckIOWFlwpedxx/lj4MMHP+fkFKqPUm12ytgwBQ6BvIkCP1c8hEnbChFj1KCWBQsPAKWivv/LKH+TgwQO91nGeo2iQcgxNI4aPgISIn34nocOXcz7rtU5ZQ10iwHmgcWqU+yiVT+tqXnivl4ccEFYMAUNg8CDAcwHJDEbcLF++Ag5gF+QCyFzKR50+fVpefvll2b0bOV/6WXGuS/2s223dvVr/y8rL5cCBA3Ls6DGJmTBepoOEY7TIzRQ6iRUjJ05dXa2S/IxgcS03Q6i4bn+jn7ujvathd7396Y46XNu6XgLHdRvnc3f3xanX3g0BQ8AQuBoCRuJcDR37zRDoYwjwhj4PhuMf/ehH8tRTT+kNPA1EhYWF6qlZgZtHJnb8/e9/r5r87D71cZnE+Ga9k/oYBP26OzScMYmxc9NHAic8PFx1nUno3MqNZL8Gpq92HsRNgIePzAiLhYHNvW3eOH88Fo8lJKiEUl/t/kDpF4lPFse4yXfqa7sWLmP+CBrOXQk3Lnf9rvW4btjhs9MW62EbrJPbO4WfuYxRdZSycH01IJkqf3O2q6ur18+sk7mwnP6xLtZD4rZjPc62fOeL9bcSvCATW1rzaTl94Tu9853fneX87vTZGQ+/O/g56/F7x2XOb/3l/Ur9v6jz3kqaX2md7h4jz98zZ84QekgzGrYc12MWLt+zZw8idLZIdXW1cD/pjcLzlBM7yH2P/eF+4IYIQ7vW9MYMXF8b3D/VM/iyUwfnpuM+m5mRocm6r69GW8sQMAQGAgLOswLH8vgTj8u0GdNx/WhCLpIZ4odIT15TXnjhRTmbdK7tmj8Qxt2fxsBrqnO/RtmzQwcPyq5du3FOH67EG5/xbrY0NTRKYUG+OmMyD83Im4wyutn2bTtDwBAwBAyBvolA/9Qk6ptYWq8MgR5HgDeLO3fuUAkuGv9+/OMfyb/CYLRo/kKZAePRJYRu7927T1JTUzUSJzIyUr75rW9p6HePd84auCYCaoqGwcYpfECjEZaSO7MXzRMfb+grX2zNW+CsY++3E4Fmib0YIA+OmCPZ0bmSnJEqDbX1agClkY1yRU7E2+3s5UBum8lmq2D4DkFi2+KSUkQXIFktzoNpaWlIcjqtLaKgpKREsnAcefn46rIRiEIIDAzQbUiEjBrljuPLW6MTSkvL1JDN7zRu87xKkpvETUFhETweRyOXSIlqZTOagQllVToB0hXV8IQtLSmGXEahGuMdYzjroFSWB7TJSZzw2OY6lI8YDxKdxEoxkpN7o016U1ZV10BfvAQEfJFKbTnGGiZ1pcwD62PJQT6zmJhoGQe98MrKKjXu+kPSgt65xIZRmcwRFh0dpWOjMSEpKUkj/Ly9faQWYx+NsdfXN2ifiAP3XbZXDzKBpyM/9JvL+hvRz7FyzlQWA1g5hBg+Ytz1OiZ+5hwRAxIaJHcY9UDSnMUhwByZEe4P/OzMh650g//i4qbIZz/zmBTBuWLnrl3aPombHTs+kZ8jZw413WdCt5/EcE8VjrV1DK00TjH22U927dD9ijJv3pDkIRZWbj8C3IcpzzNn7lw5l3RGMkDY8JzlWuigU305utp1uX02BAyBwYPAM8iFEhQcIj/64f/RhPONuK785S9v4t6gQn7zm99cUX5s8CDU+yOl1CWfuXnfsOOT7XL0yDGQLSPlHuRbmTdv3i3lwuN9bT5ycnqAwKGUmRVDwBAwBAwBQ4AIGIlj+4Eh0McQoFnF9QGehirH1EJj1Lq1a2Gwi5atW7bKK7/7vZzPSFPjzP5DrVItNGRxvTVr1kLa5XHZuHHjLd1E9jF4+nV3KsorNCeBYzikkY0vGnGGDqF3NAxuzmT365EOnM4PQ56ioc2XYEzPUaP9rRh3exqV1NTzSJCdrobp3Tt3yegx1Hv2aG0W+xX3P55PWFqaW/Shk5ralxjpgl2P543hw4ZLRVUlyI9i/R4SFCzuI92lEssKQEJEhkXIKBjAaTTIx3d6kAcHBMJIPlpGjIRkk7+vJBxPVHLLByRCIIyT3K6xqRH85EVtk7k5uJ+7DXPT7VuJlEs4BobIBchGlIDcGIpogfCQMDXM5yC6kHIUNIQPQR9J4vDzpNhJupzykXnI+8WxFUJ6gtKRkZHjJAokNvMZZWPuakF4jET/OEaux3l0iBsSGFzOd/7GMbFP/KyYgMhxJBB5rPK3BnhIkmhBNa14YmxhSDpMgkaPZ9THuRgOcmjK5MkSHBgk2bk5qpXO5K40oDc1so0GrP9pPWyHyXL5Yv38rQrYk0SaNSNeI3r8/HwUh+KiEsV53+49mlw1v7BAvfVZPw0Kbm4kIwRYRCrBQ5xKYRTgmFgcoohEFfvMqE2STMQmIixcseTnyPAI8cW8Jp5IlJamFpk9e47cdc9dSG47Fu0MR+LdYiWk5syZo9Ee2ZB+asTY/GB04LWKpQjr1IGwZoLcWy3MK8a+MrcY+00S59e/+JW8v/kD3Q+c8bAd7GbYtYcAi9YxO3PNdfjZwcCZfy7jmPli3Xyngd3Hx0f3OY6NGPEY4H42K36m1jMWUZUk71KSkuW+B++XxUuW4jhskRLMUUl5qUbLnjx5Sl588SXJzW7dV2fPnt1j12ZKuny8YztIx2qF2w/706SJk2TXnt2ax4vjQsf1N/t3+xHg/kiHjsNHjuj9n86PS7c4XTxHWzEEDIHBi8AYOJhMmTxJYuEYwosbnVUy4LxCSbWvfvWr8r3v/aNGgw5ehHp35PmQuNy2dZt8iBedQ/LycmXylCm4P7pbCRyqLdxs4bU7HYR+FZx3gkKDZcwt1HWzfbDtDAFDwBAwBPomAkbi9M15sV4NYgSGwbC5bu06GPga9aZwJsLm1bgPTPhgz6R+fEXAsBY7frykwVBYUVWhBloSOPwtJCREaFCjsa23EikP4im77qFXVVXByJqjc5Sbm6sGWBpuHIMNDYhW+hgCMJw1tjRLBUiLi/gbBsO4a3ElXF2Xd/dnGpsZ9cPoHxqcPRHhwX2nvKy8jWhISzuPfsLgjwTZJEFohCZxc6G21aifDANzNR4IuW1QSLDkZOWASEGUAggSEjlVVdXaRklZqZI2bGdCzAR4fAbIUJyXmhBNkptHQoQyYrXS0NyIB0zIQ9XWiRvILmLh4+stNCCXlpZKHqJIMtGXfQf2qwGSBIe/r78UwrOQBv7MrEw89BbIBJzHvLw91RhPY3/iiRO6vS8M5zwkyitaZamGgOTUP5wHSXbs37dfgoKClGzJAFlDQygxIjnDxLJJZ8+qkSMp+Ryiakq6e0o61ZeRka4RHpwrHtNOlFbKuWREAflo7isSHtcqHAeJF9ZDCSzOOcvZ02dJucn8eXOVSMjMyJIaEDY08JK8Skf7nPOOJTExUbG5cKFGiYWOvzvfOd8kRNj3AD9/3ef52R+fSQayfhJxhw4dkqMJx2T6tOlKQvBcRhItIy1d5/QMcKd2PyOIwsPD0KeLGEOl7jOMgCFBxXMdx8X6SYpQapLEnCNBxt/5csgzfmb/uA4JVYdU4XJGlrz917fleGJCt0aXcB5I2LFw3yWRxv0qFJ7Q4Ugq7OfvJ+fT0jVKzAcYDUfemSCQSywc4/r1G6QR0jckMfft2yN7QLadS05W8s7Lx0tCcZ2egDw6PVF4DJCAJXHWoKTlUCXciDdJUB7vQ9xaZSF7on2r88YQ0P2d89LS9T1ANSL3SERbMQQMgcGNQGzsBHn66aflld+/os4a7ogyLYDM9nvvvadJ2r/4xS/JksWLBjdIvTR63reEhYXJtOnTZRjuF+ZBRnX6zOkSj0hbRkvfUsGlgPeNJIQondcdDjC31B/b2BAwBAwBQ6DPINDeGtVnumUdMQQGLwLDYJxcuXKFvq6GQkREuHzuySfaVmFINz2wqb9LQ42VvocAve5pdKUxkJ7yNNyoq3jf66r16DICnCM3GI89PT2l8kK1zpnr8UXjNA3WY8fe4gPbNRCnQZ8kCckIfqaUVj4MysyVwH2Jxu3W5Nju+K1GH/hoAG9sblL5xVrsd4wUqMZvQ4cPk9DhbpD0IqHjIW74XAMjIUnGHHgSNmEb5wGUdVVUwiAcFiJR0dGQiCoAOVEl7jD2h/qFSkFeoRJGzSC6eP7heSg0PFTzPNWB3GEEDvsXOS5SYqJjZAQiN2iod0MfquBpWFRSJHPnzoFR3luJnuEjhsOgP0rJhBIQQUos4EGZhwpPa40wqtOw3pb3Bcv4nYSWU/hgTUKb/YmJilFSi7iRQHCdO2d9LmMdToQOiQy2S0KEuOpxypXRFkmkrgrrYJ8cYoLrOAQESaiy8jLdjMucPrTVi1+4jPPHcwPJK+JfhzGwTi67hAS35ZXlSgxFRY9TuTQSOpXVlTpWkmbsL7HuWLjf8MU2uvrdWZ/bEzMWRrk4haScU1jHseMJ+lowb7544bgoAxnDMSYmHAeZVKhEDrEkwUYipAVjYE4g1s9+kmBgPcSWhfNFj1W27TqPTpvX+846Hcz52bW4Yu0s77iM23AOuC/wffKkycg1cFb7xVw2JLJiYmLEx8tHpk2dJvMWztf16BUdEhqK/WsM2h+q+wiPUUamrV2/FrM0RKO0ON7Nm7dIGsgw5jKYOGmiyuQRo+4u3IcjQDQx+oskTn1DveQV5Om+PAJSL8Nw/HUcf3f3weq7fgQYmcd5CQsNk6RzSVLHEx4K90m+qkGW11S3HpvXX6utaQgYAgMJAZ6zPT29ZNN998kZOHWU4bqbi0hlFt7z/O7ll1WmMxzEwjjcc1npWQToTLJy1SqZhXtYRpJTore7Cu+LYifGyoSJE+E8NlTvNbqrbqvHEDAEDAFDoH8j0Plpv3+Px3pvCAxaBBwJnkELQD8Y+FAYcGncYz4PPnBNnzodxu5g2b7zEzOo9dH5o8c6DZ6REZFtOXFcDcQ1ICKqQYb0NIlD43soDMWUkSJRwugH6qHTwM/+0Ig+ChE1jBT4+MOPNDLGP9BPwiMjYBx0l7OnzqgRl/mXSo6WyPZPtuu+SEMvCQtKVDHShZEWjGzgi0Z3RrHQoE8Si9EhavilfRw2Rhqjue35feeVdOA56Pz589Jy5JBGAzJ6gWXZ0qVyx513qbzb/n17Jfl8iuQV5mtdlJSKiIR0V34RZEEypLSiDA/CXjJn1iw1TtAoHh4arn2hgb6ouEgK8aLsW+z4CZJ4MlGSU1KUGNDG8I/HVh4MG+wr8eAxx2gPp/8djdeslxEyXJefiTNJFBIylM9yiAHWz21d599pk8uJBV8di+v2rr+xHr7YP84vCfhFixbKaJBYaWnpaoBft3YN5sJPicLszByVyEpOTsE+0JqknvWx7yQZrkTQXKl9177ws7M9+6TjxLJWU3KrMZn9ZHHGWo7oNMrf8TsNDowIJYlDEoRtkrAh6UFykH1k/SQsuD5f/OyM34k2IsHD31j4m1OcZc53553LXdfj8q7W7WpenDqcd46Pc08yicdWFCT5shAtRgKMddLbOTo6WopLIR+H/ZTnhNWrV3Vqn/WR3D2eeFyjlmiYr6uvk2DICHKOuW9SNus3v3kBx+wYuW/Tpnb7mNOfW3kn5h9t/1j3LQcf551GQL4czG+lHdu2exBo3dMv6XnOOeZca6aMpBOR7brcPvc8Al2dY67UKk9dLqetK63WafmV2ujqXNZpYzbYxTnTdb0r13P5Yn55Zecc4bqt8/lKfXR+t/eeR8B1fv7+e3+v9535uJ5Q1ovXXDp97N69SyXXvvLVr/V8h6wF3Ne4iR/InO4uvD/ifasVQ8AQMAQMAUOgIwJG4nRExL4bAoaAIdBDCPABzNWYmIZ8RpSUYnF9OOuh5q3am0CAxAaN0hmIeCE5wKic21m4/5AsIXkzHiQGIzRYKHXGKD7murnv/vs0GoA5Z9RQjm3qH39cnGgZkjJOFATrYoQKx0ZjNSMQ+KIxgOvRqM46WLiM69FgT6kwkh5RUVHywebNGnWxYvlyjRS6gAgcSrQxZ0gDcqNEhIepHBX7fucddyDpfKtRnPs8Dfvu7mivqVmjbEgccT139KGkBNElF1tkDPpXp4nqL2pfOeK8vHypR/QN87TkgNCiFySjhBgBwnw4/sjTcyIxQfvs4+sHmTc/rEPCAyRQfqFKE7kei94eXhIdGcVhqvwVCQga9SlPOS48UjFhREpBUUG7Y5hjoHGrEEnsiSOxcmTUtLKr/CPJRXzZDuvhGF999TWQVmESHRWtxMyrr72G/a9ZayFGjL5hG5wrzgWlxUi4kXRyjZ65SrNX/GlCzHiJg577SMqzQOYuKDhQ264EIRESFizvvPsuCI7WiCfOE6Nm2HfuF9z3xgH3zIxMxYO/k3BkH7nOpEmTZAYkR/Jz88UbknvEjFJ/IZD1C4KsGPfHCkQrEQdGd41BZJuXjye2BTmGZSXFpXIBEW/OnNFgVVxaooTKCMiYRWKOSGQyWonEK0kj18K+sG6nsB7m+nHkEXlsZOBc7Av5kuCAIPGGUWbNunUyflKs4k1Zk2ZEqDGvELGPBPnpicgcp072n/sM2+Xnvbv3IidSmox0HyG//tWvdG6cY4rnE5adO3dqbqM1q1d3u7HG1eBPrEhM0XmAhc4ETr91gf0zBAwBRaAc5zo6EbA416KkpCQlb3ndc0oVIld5PPNaOQbXOhZe60imj8J6zF3iFJ7/nPOWs4zvrJ/HJrcpwPUjANcsby9PXUXPqbg20omA55uO2/P8yXpZApBvjfKmJJ4ZEch8bax7NKLxRuFcXo3zZhnOTQ2IxnOOe27v6eWt12heE/ndC+e4oKBAvcdxrvPawOV/KXCWYHSlF+RYncLcZ7zmMt9cLa5fXjgnMhcYtx+Lc7hrIWaeHmNdFw2oz8589uagnnn2GWnGPdL3v/99ve6w7RMnTsorf/yTzJo9R6ZMicO1xatt3nuzb9aWIWAIGAKGgCFgCPQMAkbi9AyuVqshYAgYAp0QaIA3djkepln4MO1IF6mR/FP7YqftbMHtQ4DzRAMHPekvIUoFFo52neFvfPVmoUHH1aDUsW0f3y68An07rnVr32mwIGlAgw77QlIpKipKK6XhneQXgIExiVEmbm2N3Uii12AY953i4OwYs6LRFkmESVMmq5ELjcHIj0T3MCB5wXuRpEbBujVq0Kf020j0kbJePOYoHUdDumPQYj/V051zjT8a6kmKkTygkc0LUQskm2hMq4G8XNt2lzvHvjGqgSQO+8coCJaO63EZ2yV2xIxelqzf2X/4XoTcNsxpFBAQICUgKYgxMSRZx21puBs5EmMB6cDfKMNEsoxGM35n+2yXfSWxlAc5LX7nchIwdbX14uuH/DyQxKOxDz/p72M9xkDHfRaippbL5LhJUliAbUGUjQTBFoIcMBfR/tz5CyQjPQP1Fmj9M5CvjUY8joERXcRpCaKumIPJz4/RXH46Tv7OeQ+GAZB5l2hY5BFTD7JvrOdYGevhqXNTjz6DfZTqKpCHMAqS3CMmQ/DHuWZbDqbOGJmrimMPDwtXfNi2s2/SEMoX1yXWPM+yHuJAIsMTffK/HC1Wiui2ehzjQSDtiC+Ns9HI6cO6h4Noc8cyYs+ou2bMHw21lFLR/qF+rs/5Ly4ukRdffEGOHjkKYhKyhDBkpqamcurbyoL582Bgm41+1GlkDqXPursUgwB13a9IFvKYIMlUgzFQJpG4OOt0d/tW340h0HoFaT3f4BDo8+U8CMGzyH2lidVxTiBp6A1JTOZb4n7lnGuYm41SmTx/cl/jeYSF23Ed5lfj+YEEKX/ni8cvC5fzvIyF+p2/jQUJwOjMKpwjfJBXqqamVupBHtBhgQ4WQ5Gb7SKM2pRv5Hce/7wekVBgHqoCEPi8DvB8SLKBcpR+IPjHjBqNz1WSmZ2lEZ6VOK9Qqmrk8JE8JamsEY9xnheLSopxHqmTUuSO4zmBhC6Jd+ZzywLpwmuM12UyRs8fGCvPj3R64HWS9fAzfyO5zHN1BpxExo71wG8j9FzF45WkMKNunXOYgoB/bJP10AGDn3neJ06BuGaMixiHiNt8PRcSUxJEPM/zvNeC75gcpxrMCaRLcS7muYx41NdTOrQ1ajV6XLSeu8eMHa1zV1pShr7QqQK4AmvOEfvG+okv54TOBpTw4lxT9tQDfcyDgwWvUTxnNqD+CRPG67xye+LA3GvcX1jHCEipemOO+L0cBD9zjEWPj4HEYKiSRySLiAn7yohJ5v/LxzWKeT+JEXOTsPAaSueL7ijOfsS6OGe8bjP3zNGjR5U0ae17qyMD90+OndcZfmZhX1mc7/qli3/8nfPJczTnlPgQt7GI1KS8KqU8eV/D6w/bDAkJQ9RziizF9fZeRHIyJ95P/+3f9LjivcsRXH9++MMfyaZ7N8qdd90pUVHRXbRqiwwBQ8AQMAQMAUOgPyJgJE5/nDXrsyFgCPRLBNTbHIYBPqTxoY1GwJHQwaexloZKPpxZ6VsIXH4Wb30Yb7U/tesgjS3MZTDYCg1sjkfuxIkTdX/mfk2jRVsUAPZnVwLnVjDiseF6fNBQwvadPnRVN+XTBmKhsYxEEYlFf/8AqcQ5hQYuzgkLcaKBlAa0DJW8ayVxmFODBsaAQH8pLyP50YB1W9cn8RcKIxg9d2mI4/np1KnTavyMjo6GwaxK1q5bj4iYYo0eJGE2Ablg2A6PgQhgTUPahZpqNWJ5gNAZDmOf65z11FywrzfSTg36zPXZX3qOs9BLfCy85x2j25X72moo7Pg78aen+pYtm+Wtt95Sw6zrOmyPkVdMePz445+VpUuWqkGVxksaM7uz0ADIqC4SZzTw8juNgxMQuUcSpw4GXRqQ3WDExUR3Z9NW100iwCs/iVke1zQcd9qfMU/cz3ujcH/h/sEX9xsSIyQ4eaxrZAcM95TfZPQISRtKaFJWlLKj7DfPzdmZ2TjHlCuZ4RfgJ00gYFmUmMU786KVgmhsPQ/Vq9GdBnAayT1BgLAPrURzgx6TrJcEfVBIoJ5vcnPyJCpmnEZUVpQjLxj2d0o7MgqSESjc99l/Esk8xhiFcgkgjwZZQ3LHDW2RgDhw6KASCSTOSQCToAkNDgVZX61kPqP8KIfoB+Kb27AtRlCz/kIY9ZlvKioqSkKDQqQG22dAEtQh8XXAl/+RRCbRz3FwjCRuWJxjn/eGTuF5nIQw+3elwvMUIzB5zWW+NxYSRYwkzAfJTvx4ricGVyuc3/ExMRody3l09jHmO3PDvIdD6pTRN8lJyXqvmou8WjlwDGD/uxonCWn2nfWwDx2jUokb55m/8boREsQIyaE6DhJYvv6+6jzBfWMYsI+bNlUjOEnasDAakyUuLk7Pt8kpydo/kuzMTVYPHFNSU3ROHKcK3eAK/zgfPHc780FyjM4SvDZw+7T0dJ0v7jN0iuBvr7/+uhw8ePAKNd78YuJCfFg4L8TI39dfosaNk8BgfwkORb5TuD/4+MAjZ4ibkqiMfqXjxLPPPIvr9Sm9xuQiOvfA/v2ydesW7KP5iEoGuTcuqvM55ea7alsaAoaAIWAIGAKGwG1EwEic2wi+NW0IGAKDCwFK9/Ahlw9rfGin93govNw/3rFdk8nzgRxPaVb6EALXmg4PRBF4usiL9KGu91pXaIyx0nsIDIex1M/v09AqdxjZuir0el6+YnlXP11zGY1b06dPa1vPkfkJCwuFx3OrQa3tx7YPI+F93V5Cp+2nHvzAvt5IIVnTsdyKzA8Ne/v27UeOm1/LK6+8osYynuMdcokGORpC169fL0888aTMRyROTxYagf2xf0SDfDt37pwacuksEAjCj8Zfenijc3qp6R1aoCdHOzDq5rzwniArN1sNyK77NOeIES3XJhi7BwvuzyQGmLuJxvNhIGVysnMlGfnRmNOJv/Gat2LZcuRmy0H+jckqaal51XAsMpqxrLRcDd4BQQG6v5WWlul9z0h3fMd9zrnkZBj4SUTXQwazUCNSlJhH1M4UGO4pz3gq8YQUF7Xm0qKsJo8pBwMSITRyk/DhckbYVBa1EiwkK8O8wiUf0peMKgSFLceOHZNTZ07LU59/UqNYeGwyqoPG+9S081ov6+axk5yarEByDkiCVCZValskYek0QGKCDjgeyBPnBkKUfWEuN84Rc8exTm7rzCHbIuHhXCdJELDPbIu/sZDM4XhYuIwEDNe5UuE6DnnD9fidefIor+m0y/cr1cGxMlolCsZ9f0QiZeVka/QniaORuJ4zKon7Y9i4CAnEuSsrI0vbYD9ZJ9dj/522nH6SEHElpDq2z3G5FmcMrstcPx8EyUZnDPaXkpbBkI5jYbvMv1YEByhGokYhAon31mWQ5MzNz3Otou2zg7WzPb9zDCQUnfxgjIwi8c3XOJAnzCHIwnGHIDI4AxFTLF2NXX+4zn8cD9t3+sB3zj/7wv2Ekbhch5Kd3Kf8cO7mPsdjbfz48ZpLLTIiXPvE7UJDQ+SXv/yVYrAV8rZN9Y2yZ/9e5GVLlO3bt8usWbPU6eI6u2erGQKGgCFgCBgChkAfRuDKd4h9uNPWNUPAEDAE+iMCfvCcnDtvAR6sTqgXXTG8PpsocYGSDWNIRUiFiDe86Vuf5fvjEAdeny/bh5Vg68LiSYP6CLysGAKGwOBDgMa3/3r+Z/KHP/xBjcSOcY/nC75okHv++edl1apVGjXF80VvlGB4uI+PioH8XboaohllkJaZrn2iEboCuT8CuklyqDfGMxja4OXFMew64+V3LIQR11flypzlPflOMoXGbBqSmQ+GRnkldWAc5/5NQzllx45BUioBsk3MxRI1PgZRMsGSg7xSBw8dVtKChvACRAI4kRbsM43vlKlktBELjfwkhkgi5KF+kgOMhli1fCUiSvIRIUc5MJBbiPyJiY7BdxA/IEloUM/clqlRFD6IciHRQPJp/bq1MnXadI0sOX7iuOzavUeN4SQXKLeVm52nebQoxYVu6DgdzNluOGSq2Jd6l/wx7Ccx4XHj5JWiMd/ZjkQpDe7arV2nAABAAElEQVQ83mlwj0Y/KUumY8VySpmx/yTEGGlBQ30+EtEzcob1cj2OkXWyDn5n4WcWfneW6YIulnW1jrMu33U/cnlfungJpCODpLKqUlLSUrWtFSD8x4EwIeF0GPNKQmjP7t2SiX6RzCKhwbGwcD9w7Z8uxD+nHw42znLnnTixcFtne+c313euxxfrIZlIrEjaMPKGJAYL5c24X7Iv7Cv3IxIa7KfTjmudrn1y6mZ/HWy4LqXYnO/MR+T8zn3LlSBz6uqqHdbj/M7PLE6drI+FBBHl6EhqRUVFKRYcJ79zX00Gycn91RNOQnQCuOOOOzWKk/sXC9sNA3HDsfOYobRhAaT+IkDsBAQGyPRZM5XE4bqMDOV63/zmN5XY52crhoAhYAgYAoaAIdB/Eeidp8n+i4/13BAwBAyBbkOAOutJSWf0AZ4PaizOgyy14mmvsdK3EOD80NBCj9XMvGxpgr6864M7H7CtGAKGwOBDgB71b77xhrz2+mvq8cxzuGP084Lxbfny5fLQI4/IPffcrfkOehOhfBjPDx4+CImoVqMr2+a5jP1jzicasWn4ttI3EKDxmTmaFiyYr5J3JAxcrzPeyJfhiQTlvVHYriPzFQOpLfaNhuZJiAJg/hQatLnvM/fG8mXL9HdGqIxGhFsVSIGN927SvtPwT7KiAVJqzIHjgXw2JG2KEF1DWTW2QZKTL15jSc7wxXVIQnI/1bxgMFKThGxualGDNa+5k6dMRlvVmqdllPsoNVyXwyjO6MFISEyRJLr7rrva7q84JhqvuS5lKHn/5SzjO9ti7rFwEC2JJxK1b5RA49gpX3ni5AlEI2UriVFxWRKXN2yjIM82FvNGubFa9JF5TcIiwlRmjlJxzAPjDWlJz7GeUg2JNkZ8sE4SRhwryRsek86yjvOrfQPpc6uFUSocM88BnKujiExi3p6AgEDkAxojCYkJOj5GWDmRWFyX/XP2BfaFJBSXkWygnBsJKe4LHQvnlEQbo4P0d3IXLve33l7eMmniRM31UoH8N83AmJFMxIHzRLKm5nLUDpexPfaDZEgiokvmzJqNCKtW3Pg7C/e1ULQ5LW5qG2nC5byvBsRCyVCe85gjKON8mjBKjARIHfIbUTqORc/hrBk5nrg/FBa3Sqjpj/hHDFg4Z8ST/eqqcB8mzs71ICggCHmCGnV/5m+c+wkgoxhp09TQLIuXLQVZlq7Eju9lmbx6yANS/o8EaQgk/bg/ars4/pjzjMdTZkamfPjRh8jBdkSmTo2T3/3uZSWbHOk+9o1kF50MSMDRoYD7nhVDwBAwBAwBQ8AQ6L8IGInTf+fOem4IGAL9DIGh0P7mgycffPkwyodhR1ecRhvqzuvTZj8b10Du7lAI6btdRP4M5CtwvCmd8dLY4GiYO8vs3RAwBAY+ApRi2rtnj/ziFz+Hgfdkq/EPhj0aS5lXaOWKFSBv7pGVq1beFjBogK1gfhUYOGl4pMHRue5UwpBMhwImQ7fSNxBQYy+6wnlyrjN85zyyMA+Gl6e3fu7pf+yLU2g4dkqI8+EG30n2UErWqZbfKYF1rdIMI3oNjOy8L+K1luQP75cYjRA7MVb3a/5OboA5UbhPU/KMhBDL5EmT9P16/zn9Gg8ZSuZDcRw0uHxK3BQ9fhhFVMH7N7aK+RmJdknipIMUYF6eUaNHyVhPGMnxW0UFJMlA4rhdlsIrQCQJ7/k4Fh6TDvng9I/LXLHncn7nccuoJn529gd+5ouEC0kBbuu6v/AzyRO2wfYY1cF1SVqoLBiiVUaMGK6Svp5jPWT6jGmaT4brcptm5B8i2TXmMg7Mh0RJyIbGBs0FxEg+RmtVIzKqHCRMzYUaKYYsHnHj9iRK2K8QyAUz2ucS8hJx3phDyQ250mbMmClr16yRcESOlBSXKgHD/pIY4nZnk85K0rmktvvjUJAYgYgwGYr+8V55xrQZGuWVhYgwyowRF76HhoRCStIf2DiofkrieIEE9QvwR+RYE3I2ZSFXjC9wvQASpx74uWygm7ZG6BSVFCluDvacP2JNkorHKqNz+J24sQ8cA/MkRYRH4FrgrpE9rC4iPBLjcmslJTGXlOCLiYkWPxzXFy7UyTyQtxWIcKsFceONZZy/MkjF4U2CgHMgouK4jP1gfh5+PnTokLz37ruy7cMPISeYryTcAeTqIUHkFEZWRUVH63WJ88/trBgChoAhYAgYAoZA/0bg2nfR/Xt81ntDwBAwBPoMAnw4mzh5ihoZ+ABIgwQfqvgQWF/WqsONp8E+01/riEjTcDxMD6mV7OwcaboIgwmMUc7DNDXlabSwYggYAoMDARoQc/MQ5XLwgLzz1l9l7/4DSNreqEa8AJXLnCdPPvkk5G/uuK0EL89Nk2Jj5QxkdnitYVSEI4VUiUiCShiGaZC20ncQILmWkHBc58oxDJOQ4NwxcsGRUuo7Pb6+nnQkbDp+v1Itw0B+eGv0UWsEEqNcSB7QDM3IHhZXkmnUqGBddrP/nH5RRs61cPnMGTNcF3X6vBTJ5ftiIalAUuRqhYQUI2Ec8ovrVlXXKIlA0oKvEkR+xE2dimWlkDfLxbojlKxh3dw/c3KykcPopPgH+uvy7KxszU0TMy5ayivLW4mNsHC5CGLO09tTpiFiav6CBZD/igTpUC8pKSlyAeTGlLg47Wo9iIhsEDQpqal6f8x55vmVJI8vSBoSJlUarTZECSp+d+3/1cZ7K7/xXMox8/hk6YgviZILiOxhDjn2iTJnXNcTx683InMos0fih9J6JIJIyjiRTtffr0sgNyvlzT+/jijQ13VuWM8nO3ZoFWyPJBFJtocfelDuvvseYOaHHFBluvz627E1DQFDwBAwBAwBQ6AvInD1O7u+2GPrkyFgCBgC/RQBPsC14KHaKXzw4ssp1I5XC4WzwN5vLwIXh0rO6Bo5EFggQ9wwV4jIcQqJHHqcmmejg4i9GwIDGwF6OP/Pf/+XbNm6Dd7cjRKIZNOUBGLekAAYFh//7OPyj//8fSVvHCPf7UJk+LDhEhEWIamp59XISsMjvcVpdCwvrVDveddrz+3qp7XbKtF0AZEMlOniPHFeaABmJAjJOOZcofQVpZcGc+H+6wtJLCvXjwD3p2sV3Nl0IkA8xo4RvpziOK4EIRpm8uTOEU783VkHH/Q21vnOdxbX8w3Pj/zO11jI8MXPnPHp9lzZxxsRQ8Eyb948fmvb1rUOn8vyglzGfaM3CokX19IRXxJJXp6tmHOMcZdJKW7DfhKLSZcjxFzH4lrn1T5fRERTInJqvvCbX8sf//SqyvM5fWDdvCclKbQCkaD/8A//ILNnz1ZHI/7G1+2+Ll1tbPabIWAIGAKGgCFgCFwfAte+u7u+emwtQ8AQMAQMgWsgQM+4JUuWqDwDV8UzHZ9320paZZ4UlGVI8Bg/ledp+8E+3B4E8BDOnBKFSJ7LwoduPiTTuDY9bpo8+PBD+pB8ezpnrRoChkBvIEBv6v3798u5M0ny+huvy8gRIzXSZhYMZL996SV57rnnZPXq1cjHMV3zIPRGn67VBmWd4iCRtPfAPpHq9mvzPEZpTzPotcfldn3jfNTCe5+JzbOyspRoY18YbcJIBkYsrF+/Xgmd29XHvtLuzRi++0rf+1M/OuLs+t31c3eNiXV2rLfj9+5qq6frce2362e22/H7jfSlqKhIXnvtNfnzn/8sSbgmURrPIeZZD+Xknvvu/waBsxw5pYIkPDy8LcqH7d5K2zfST1vXEDAEDAFDwBAwBHoWASNxehZfq90QMAQMgXYIREWNk2WQ3qB2NeVtXD0IG1sge9Pc0G59+3IbEQCJQy36Asgn0YuRD8H0kKZ39HPf/a7Ez45Xffnb2ENr2hAwBHoQAeaG2AcC53cvvyxpqWmSk5cDIn6pkMBZimTUlFqaM29um3d1D3blhqpm8uply5fLh9u2abJsks+81vAcVlWDhPDlpVLLpNz4buX2IkAyjVJSRcXFek/gGFu9ICG1AjmVVq1ehRwiV5fzur0jsNYNAUOgpxHY8ckOJXB2796tTfG8wftR5mFbMH+ebLjjTvnc554AeRPW012x+gcYApQBzMjIxH1Bmea+ioyIMCePATbHNhxDwBAYWAgYiTOw5tNGYwgYAn0cAUodrF23VrW+L8CI5pAD7HZBY6VkN5RKlIRB4ALSC6atdntnE0ZPejtm52brTFDKgg/Os2bNkgceekAfoDl/VgwBQ2BgIsBIvBMnTggNZ86xPh35HGbEz9RcDJ/93ON9cuCjkKtr1sx4GPQiJO38eSTMrtMID0bgFBYXSgYSm5fDYMM8bTynOWPrk4MZ4J0iacPE8OVlZW2GM84HnQXWrluH60182/IBDoUNzxAwBDogQGevo0ePymuvviqnTp7SX3nOICnfGt2/WB595BHZeO8mzbPTYXP7aghcEwE+i27ZvEXOp52XtWvXSNS4cdfcxlYwBAwBQ8AQuH0IGIlz+7C3lg0BQ2AQIjAEBjMmOXW0tR0DGo1rHxQdkYC8AFkWPAv5Vy7CsDYIAepLQ4aTemVVpVQVtuYqYE6j2bNmy9o1q9VjejQMpVYMAUNg4CLAvBDMY0ajOvMd0GOVkpiz4uP79KAZXzMWfb94sUV8kBDeC9cTSnUNGQrprgu1+JytCbG9vH00OsdInNs3nbwHqK6qkpLionadoDzSJOQfSYeHdHBQoMp4tlvBvhgChsCARoAyi9sRgfPcd74taelp0tzUrOQNr0URiJb45je/KY+AwPH39x/QOPTlwTnXTieCsi/39Up9q8L1Z9eOHVJaUoqorvlXWs2WGwKGgCFgCPQRBIzE6SMTYd0wBAyBwYHAJRjTGhuRFBua1fx8EcbB7GxGelySupIqKcgvEHEbLnKxGYAYi3O79gqSagUlmXK+PLddF6oqqyQ15bycOXNGJkyYgGTTnuYl3Q4h+2IIDBwEaGB/7LHP4Fx9Sc6cPiNf/cbXZTUkrvpDIcncDAKKkjuOs4BjaCotLZbTp05IzPjxSuL0h/EM1D4yMXkmCDYmLHfmh2PlvJFALCosEG8vTyNxBuoOYOMyBDogQPnLd95+W1548QU5ezZJli5ZLIWFhVJRUaHngUceeVi+9a1vS0xMTFvemw5V2NdeQKAeEa61dfX6pObl6SE8l/e30ox9rbi4Ne+nXwAcPnCtsWIIGAKGgCHQtxHof1ebvo2n9c4QMAQMgasi4O7uLksWL5Z9e/dKZkaGMIydJSwsTHJLC6SsqkIKyrIlYIxPm+HtqhXaj92OQGuWiCFyckyRnBtd2q5+5imIxoNzZGSkapG7Gt3arWhfDAFDYEAgQDkrfz8/NaIxyfyoUe79YlwkbpYuWyZ5eXly7ty5dgQBo3EKC4r0GsP1aDS0cnsQYFRuaWmpStzRCEjyhlJJQXD08PLyUkPtmDFjbk/nrFVDwBDoNQRI0hw8dEj27tkrH320DQRuocyYPl02bLhDUpJTxQNOQ3ffc7esRp6suLi4XuuXNdQ1AmeTkmT//gNKtj/1hafEw8Oj6xX78NJ6kFDl5eXaw9iJEyU4JKQP99a6ZggYAoaAIUAEjMSx/cAQMAQMgV5EgDIIs5EUm8Z/GtcYik/DDY02I4eNkOKWKvmo5pQ8MHqRjBZ3eHiZca0Xp+fTpi4NkaxhlZI7rOrTZfjk7esjEyFxw3wFVgwBQ2DgI0AD+uQpk/XV30Y7adIkYUROHTyGeY1xCo029PAuQx4WSvHweuTIwjjr2HvvIMC8a5wHp5DEobOHI9dJMseKIWAIDGwEmPtm586d8stf/lIOHz4MucsSmTd3rtx//wMyfcYMeeKJJ2VC7ARZtnyZnh8GNhr9Y3TnkW9u757dMmZU/5VWroJkdHZ2ljoPRI6LMmm+/rHrWS8NAUNgkCMwdJCP34ZvCBgChkCvI0BjGj1vaTQbOXKktk9JtfrqWim4VCXv1CZIw6UmQQKDXu+bNUgEEIsD7/SSvCIpK2gfiRME8ibAP8BgMgQMAUOgzyPAKJuhl8kbR+qF7xWVlbLvwD5JQMJsRoO6Ejx9flADpIMkzvg6e+as5OXmtY2Kc8F8OIzCsWIIGAKDA4HU1PPy9tvvyObNm/X5gKNm1PfESZPFG+eDZ7/yrKxbv84InD60O5SDfB82zE3GT5zQb+Uu+SyahEhdPo/6+ni3OQ/0IZitK4aAIWAIGAIdEDALYQdA7KshYAgYAr2BQHBwsEqoUUaNnrc05tC4Vo7Eknt27dYEprCs9UZXrI2OCFBPbdhwOZ6YKOlnU1RyiHO0bu0aeezRRyU+fmbHLey7IWAIGAJ9DoFlS5dJFLxrWaKjo/Uaw3MZC3OzfbTtQymDEYcRolZ6FwFe80my7d+7R86dPauNc5kfpPv++Z//WX7wgx/0boesNUPAELitCAwd2irmS4P6pNiJcsf6DbJw4QIJCw29rf2yxjsjUAbpu+ysHDyrtUCCLFTP5Z3X6vtL6upqpbS4WEkcLx9fGW3SnX1/0qyHhoAhMOgRMDm1Qb8LGACGgCFwOxBYunSppKSkaK6CqKgoyc/PV6OawL5WC+mb8xW54jMSiTKHusnFS61Gt9vRz8HWJo1oLTByFpRkSHF1q8QNH6j5WgKD6IyZRuAMtn3CxmsI9FcE/Px823L4MOqT5zcWRntQYm37ju1y34P3S8z48fobz3NWegcBzgXJM+bAOJeS3DY3gf6BSrw5kVO90xtrxRAwBG4nAlOmTEHumw2SdPaMjBgxUh577DOy4c47tEskewdKaW5ukWJIxSUkHEVuyXEyGZFGjGbJysqSVMiTJUHmsxyOBaFhoRKN69KM6TPEFzLGVyuFyB2UlHROysrL5PSJU4hWGiEBQYESFh4hixdBmhqSoq6FOeBOnDgh55KTxdvbS9auWasODq7r8HMxyI3Tp89IeUW5RISHa3RkTU2NpCOfaVFhgeTkZAseDiQHcmRvvf22DIV6ghvGEg7nvJlXeFZoaGjQZ7+09HSN6p8xY/oVo3jYz5ycHEnGs+JQXC/oiBGD6CzXcvHiJTl58qQUFRdJVkam5GbnSFBIoMydN1/70NTcjPxKH8kYYBAXN1WCg9vLc9ZU10hhfgGuP0MlAA4Eo0eNcq1e0tMzJDU1VZpbmmX6tOnI1RbYpdMH5f/27tsnTU1NsgC5A4nXlQqlXM+cOS2ZwKCqqkYCgwI06mw68j+FX2W7K9Vnyw0BQ8AQGGwIGIkz2GbcxmsIGAJ9AoGly5bLzl275BAMOGPHjlWSQDsGT7wmaZbnE9+Q7817UqYGT4HLdG2f6PNg6AR8o6XpUqNsqzul0nYcMx+gmaOAuuSh5hE5GHYDG6MhMGAQiI2dICEhwVJUVKQGFg5MyWoYiEohB3MKBqCJSGgcGBQszTD4WOl5BBz8KyFrl5uXq9d/LiOJRuNfYKBJdvb8LFgLhkDfQWD48GGyfPlyJTTc4Ly1aPEiCQgYeLkXGfmRhMjDrZu3ypq1a/X5Jy83V/bt3SslIG9yQVqUQZHAw9MDagXhMhKE1qJFC7ucKEaVnjp1Etvul5TkFPjAXZS6C3WQEB0qqWlp2DZBapBzbMWKFSpR6VRCJ4ZCXA/3798vbiAvJoyfoOSIK1lGMuLokaMgQD4WDy8PGTdunPB8zQj9E4nHQTSVSS3aGuk+UvvMvrfg+hkO4sjL09NpqtO7G/qWhr699+57kMqbKOPHx1yRxOH1mLjs3bsP604S5rhzLcyldujQQTl44JBU11RjrDVSUV6BsadolFBVZZV4gaTaunkLSLEwEDDBnUiciooqaWhoFD9/P8XctX5+Tks7Lx9+uA2KEZfw/BOOfbLra1NmZpZs+WCzklgxIJu6InGYi+/okSNyYP9BKSop0vuN5sZmkGLnQeqcAWGVKytXrpDY2NiO3bDvhoAhYAgYAi4IGInjAoZ9NAQMAUOgtxCYOjVOJkIugYWaxPS4ohFn2BA3qW9ukj+d/UjuHLdApgZNYYYWMf9oharn/+GBrgUPgu9VHJOcxtZ8OCNGjJBp06YJH0zMO7rnp8BaMAQMge5DYNHCRXJk6WF5/c9vICpnlMp38npDgxVJg127dqqB6E54RRuJ0324X60mGhGZi4gGLUZEOYXzs2b9WhkXFe0ssndDwBAYBAjwXBwUFCT33//AgB4tz3vJiIBh1Eg6Im8u1F5AtMtpyc/JA0kQLPGzZkp1VTWInmQ5eeKkTEKEUuzEWPFHlIhrIcnCCJE/v/66pKacFw8PDxk/IQbbz5bGpmZ1Tkg8liB/ffNNla6eN2+e6+bi5+sr7iCIkhHBk4D1mHfIaYNzcezYMdm5Y4dkZ2bKHffcJdOmTpW8vDxxR0Srv6+flBSVqFOEf4C/REFNgddO9mlcZKRERES0a8v1yzBINV9khE1WNp7tLrU7/7uux89UaNi3by/6kCXsv2uUCgmRvSB4Xn/tVWlsaEKb4XA0mwYixksK0M9TJ0/JFpA3JGe4fQAcA4Zclutz2imvqFRiik5q46LG6f2B85vzXliQr3KfY0aPBSk2XElG5zfnveZCreSCiGM7kVERXUrLFRSSNNsnm99/T+prG2Ti5EkyDVFIYyHfdhJRUScST8iO7Z9IDcioZ555psu+OO3ZuyFgCBgCgx0BI3EG+x5g4zcEDIHbggCJGd5086acCYzTEVZeX1+vN7/gcrQkV+RITkWWhHsEyaWLLbeln4OuURg2+SB2YM8+qbwsp8ZIqXs3bZIQi8IZdLuDDdgQ6O8ITIYRbPacuUri0JuYEjH04CWRQMeBvfv2y+y583COu6+/D7Xf9J/Y18Lw9eGWrchJ1CrbSWcBSuWsXrXqmvJB/Wag1lFDwBC4LgR4Lh4MpaGxARE3JTJi5AjNyRYM2bQFiLR5FoZ7klh0lMoDefH73/1eDh84qPJgGZAvcwgWByOSBi/85tetkTarVsjKVashzfZppMrsWfHyPoifrZs3K0lEYoW5SJ3CZ68pUyYriXMm6azEz56lbTC6J7+gUP782p9BEiXL0mVL5eGHHoLE3QiJAlnDVy2Ip3/7yU/kyOGjMnXqNPn6N7+uzhGsm/N4rblkNAslxIpBBNXVfkriO33jOzH4+OPtkp9bIIuWLIE82qckFIn/bdu2yvuI5mmoa5R1d2yQ9evXabSQU8fuPXtAmHwgOz/ZoYTIDCgJBAW2j+yqriKJU6G/T58xs8uIoPKyCqksr8I1yU+l1Hjt6lgugHiphOQcJVtnxs8Wf//20TpViBB675135Z23/ioxINq+8KWnhf0ZM3qUOpKsRb7R9xHF8+7b78iJ4yckC5Jw43EtpMyeFUPAEDAEDIHOCAwckdXOY7MlhoAhYAj0aQTmz58vGzfeq6H1tbWfSqbhEUA9pl4r3CPvlRxBAgP3Pj2OgdK5ocA5vSlf/qn4Talq/nQ+6KW2evWadnIMA2XMNg5DwBAY2Aj4+/sjL8BiiZ8Rr96ylITpaIjJgBNBIiRihkLG51oGqIGNVs+PjvjS07usrFS27/xE8y2w1bFjx8is+Jmd8jf0fI+sBUPAEDAEegeBRuSEKUY+mYZ6RmNMlvsfuF9JEkoVO5Hu3nBsm4lz4SgY+YtLioX5VlxLRmaGvP3OO5KWmo48lfF6fz4JkqCuxc/PX6bExckwt2GaLycrG/lrXEpISIhMRYS9t6+XnEIUSD6iV1iqq6rktVf/CKKpSFatXi2PPPqYSr65bApp0hKsXwDywx0RLq0RQoxs5et6r5+8BvB14UKNa9Vtn8ug0HAaUnGe3h4qrecqMUaCZu+evYjouYTIzXVyzz13tyNwWMnSJUtl/oJ5iMwZq3WShBnVITcQZd0yEWlEgoq5bvjuFPaN5EsNIqfcRyH6KMBPSRrnd9f3XGCXnJKq46cU6GjMm2vZuuUDOXr0sEbfPPWFL0IytJXA4TqteA1RCbUoRAM1wJmxFPPd1NToWoV9NgQMAUPAEHBBwEgcFzDsoyFgCBgCvYkA9Y3XrFmtBjVfhPYz+SZvnFmo05xSkCaHc84g3L5clw0OPz0daq//Y9LQpvoa2Z9xQl47ukUakcSTD2QsNIJOmjRRRiAJtRVDwBAwBPobApSjeeihB5HE2VulOymn5loOHz4sf3zlFWjjd+0V7Lqufb41BCiZlpx8Tl555Q8aFUXPbxYPDy/ZBCmlMYj8tGIIGAKGwEBEoKb6ghQi0oWG/uUrl8vKlatUjcCV/OBnEjm8Bx8+fARkvD4lF4jJ2dNn5RiiYMIjI2Tp0mWa0811e67jjlw1lECmw0JNTY0qHXC5a2GuuAmQta6vI3FQiuiXPM1VenD/AYlCxM2y5cskEvJoroVRMJQ54zg80Ue+brSMQMSKB/LmsM91ILM6ypiWIjoz8XgiiKJ85MyZoH0ZASkzluqaC8L+ZUOObVz0ONmwYQNy3oV06gKq1mcX5uxhPhs/RCWNxrXHtRQVFeIaVASMh+N3/zYSzVmnvJx5f2pVam4SCLeOzh9t6yGytwDYcb5IFo2E4xsLr22FhYWScDRBmhqbZB4cF+Pj4zv1g+sGI18Pc/YQi8ICkHyNRuIQFyuGgCFgCHSFgJE4XaFiywwBQ8AQ6AUEGHrOXCvLli2XuClx4jHWQw1s2jTvwOugy5x5Rv6cugPKyZcQnWOh5T02LchFdLYhT3YVJEpxep5qVvMBhLIHCxcuvGqi0h7rk1V8TQRIevIBlS+HAL3mRraCITDIECARvfG+e2XWrFkqWUOjjUPk8HMBjCYffvihnE9JUSPKlYw1gwy2bh8ujXbEnQmzX3vtNTV60fDFV1zcFPUo72ho6/ZOWIWGgCFgCNwGBHjuI2lAAsQ/0F/PeR2jNtgt3nuTPGhpblFpSRIMTikAKZCCqI8KyHeNj52g9bBe5tpxfXHZ0Ms5YPjekeRhfZ7IHzMLOXQomXwuKUnef+99lTAbjfwvixYvgfPWZKfZtvdGkAuMorx06aIEgzzxD2gvUda24lU+kKgPgHQcC/vckbA4c+Y08vQc0yiiefMXKAHDdesRxXQav53H+D09PSCTOhsEzzj+1GVhbiFGPI0a7Q4Hjs5kU3lZOaTSKsQNEnbM7TPchSzj/XReXq7KrXl7+8iECROvSOIweonRMyx+uNcYdZnEoTT1yZMnQfAUKNZh4RGaA4hEmOtc8Xt9Qz0wbR1GI6JwLl12bmhdYv8NAUPAEDAEXBGwnDiuaNhnQ8AQMAR6GYGQkFD58pe/rNrFuTk57VqntMDxohT5wcGX5MEJK2QMNKRF2ntQt9vAvtwCAsPkcHOG7G5Jbfewxwe8z33uiVuo1zbtSQTyYXwuLi6FzAPkICDj4AnvRjNA9yTiomQZDSQsjgG6Z1u02m8VAV5LJsMgtWD+PKmurlJ5GebGYXHIz3oYUrZs2QzDVCj0+oPaSJ5bbdu2/xQBHi/paenA/6x6hnNeaLCcO2eOPAhZIU8Pi8L5FC37ZAgYAgMJgQLIqGVD1oyOAwGIunCD1FlXhaQGc8KQBGBEjisBkYn8OIWoZ8SIkXoOPY6IFQ+QIs49iVMf26gAQcHIjmHDhuu9ivOb8877xenTp6kKwq6du/Te0cfHR+6+d6MsWLCgyxwxzF3KSCLWGxMdI5HItXOjZczoMRLgF6DPGpRNqwWRM8ZF6uz8+VTIuRVDfiwWkUZLtH9so7q6Wnbt3AmZs2osXypzkcvuSqUBhE8eInmqq2okbtqUTtFM3I752CorqyDFFiUBIF+oSOAU3hecPZuk0aKMkPH19Wn3bOSsx/eKikph7pyQ0BCMy7cNa87fmbNnpbauVnwRCUSi5+DBg1qPc9/B7YdCeaIaeXU4t5R0Y2QRnRytGAKGgCFgCHSNQNdXz67XtaWGgCFgCBgC3YwAdfDnwJvqF7/4uTRfbJHQsDANJXf1GuPyEyXnZVbgRHF3GyEX4QFmpZsRcB8rqeeS5UzCCXFDxBMNa1GRkCpYt04WL17UzY1Zdd2FwP/7j/+Q559/Hl6CE+R73/tHufPOO1Qyqrvqt3o6I0B9+vc/+ECNJsuWQcokNrbzSrakzyFAAmHylKmyF1IsQYFBMmXiZNmzf29b5E0x5vWPf3pV1m+4Azr/gZ0MLX1uQP2sQ7ymM79awtGjkphwvF3v58ydIw8/8mi7ZfbFEDAEDIGBhAAjQ8oQ/cFrUSAiWHg+7KpcgPzZicQEjdrw9PJuJ1lWVl7eGr0CMuXAnn1y5MAhrc+VFGCdTtQjc8Ctgmx1RHh4p6a4TROifVpwv8+oHzovLFi8UO8jSfB0VSorKhBdkqgEkxfkScd6eHS12lWXjR4zWnPMcKVSkDg1kEhj1D+fOw4cOCjHjiSAmPKU1WvWtiMzWkCKtOYTqldSJehyNE9XjZEwK4fMGeXUGC3EaBuncNylmIdayMjxGTQgqLOUGtctRdQUc/ZQAtQHMmmuz6VOXdWYK5JLnMvAoAChVJxTOJ4SSLbxPRVRvsy9x7nvVMAdXUI0PeuhtDjbIglnxRAwBAwBQ6BrBD49o3f9uy01BAwBQ8AQ6EEEeENLr6PHHnsMHla7NISeCTadaIIhbkOltL5K/n7fr+R36/5BIgNi5VJ9hUAcoAd7NXiqHgoZNUL563N/kvezD7YGOmERH3Luufde2bhp0+ABox+OlHrb9DhkgtYqSDp09Mbsh0Pq011mEty//OUv8tvf/laNGOl4KP/sZz4DWZS4Pt1v6xzyrCE3wMqVK2T3rl1yAcY05sehUYZSnfSE5bFDg9Jvfv1reeZ//S+ZN28+vHQrDbpuQIDXeXpunz59Sj76+CP1Tib2XDZ79mxZs3YdcuLcuDGwG7pmVRgChoAh0CsIVJHEAQnDaxElPq9E4jAqNCszWyNtGIXDaBynMHKFkmw09j/48EPiDtKA9+uXlbic1fSdT0kkL2LGx4Bg6Cx7VlRUJJs/eB+ROkNBdoyQRtxLNjc3aUQ3K2C9HYkLyoCxb5RV80XUDqOAbrRQMpO5Y1h3ESJiGYXCwsiVhISjwKhUZsXPgoPfnLZnQf7e0NAoBXkFII7GIGI2+Ir4cV1G2TBCZsyYsTIF92eukS0kVUpLS6SuluRRoExElG5HcuUi7gcKC4oQzVSp7YQiyqbjOmynEm0w5xBJr7ip0zSShstZiFVebj62GyLLVizDeObq/Xrrr+3/AwoALhjbWEQGRXbKz9N+bftmCBgChsDgRsBInME9/zZ6Q8AQ6AMIMHz8fkipXKiuUQ9dPjjwJps3+MNAMtQ21cvOrAT5Q8Z2+bL7KAkc6Y/fG/pAz/t3F5QIQ1RTcW2F/Pzk23KyFFJq+CP+gZDmWrd+ncTGTujfgxzgveexw0JPQUoTdXzgHuDD7/XhMQrnWEKCnDhxQts+Bt32NavXGInT6zNx4w3y2KDha8Xy5TAE5UviyRNqNKIH7KUhl9qMJoyyip04EZ7LEZp8mUSDlVtDgOcm4rht2zY5CiNdXX2dnqvobfz444/rnNxaC7a1IWAIGAJ9G4GqqkolD3gtCg4O0vu2rnpMsoc5cSiT6+XVPiKGxEMNIjYiIsbJRsie3WwhgfMhzsd74NSwaMkSkA15IGcyJSudcm2Fmjuuq/vJSvStrrYOeWZGderb9fbFHferdKLgs0YdpMYc5yM6IyWdOYscOL4yfeaMTiRNBZwqGLXj7euFa/PVSf9yRAzRsYmEUXRUdDtyhe2WIUqH4/CBTFoUfu9YqvA8Sqm1MWNaCSM3OCJ0VXJzc9T5g+RLzPjxbfcRXJcOVlWV1TJs+FCJnxUvK1et7KoKW2YIGAKGgCFwgwh0fUa+wUpsdUPAEDAEDIFbQ8AHiSOZPJKh6DT40LhDryf6lw2DvNcweK798OQr8kLmVpFh8A5j+IiVW0JgCHCtaqqVj/KOSSESb0odiDN4jPHh6sknnpDp06beUv22sSEw0BCg1+bUuKlKBjAZcNyUOAkLCx1owxzQ41m5epVMmRYnZ5GXheQnX07kJwdOsmH79o9l8+b325wJBjQgPTw4GgIdz+ePP/pIiotacxHRODZ37lzZsGEDnAY6e4n3cLesekPAEDAEehUBSpFVUOILzzlhoWFdkji1IBZKEG3Da1JYRFhbVIzT0WF4NuLzUUtLsxIRzvIbeSdpQgLn7bfeAskxRu6+Z6NsgBRvSGio5GTnIhomQaW9OtZJAoXkB9sPCQ2W0TiH30whIeKFyBU+65FQ4fdqkCZ79uyVfDyLTJs2Q+Lj49tVXQ9ChJE1fC5kxM7VnCtYZwHyRZZXlMtwODr5wHnD9RrP61E+HDkugBAbjVw8HfPdsP4CEFlsY1x0lERGjWvXF+cL20lOSdYcQaPgYOiHdlyjddgmiTi2R4k8K4aAIWAIGALdg4CRON2Do9ViCBgChsAtIxA/O161m8eNGyfj4dFEI4/joQW3XWkoqpK3yw/L74YzMeRQGWpEzk1jrtILbu5S1FQp/57xVylrbpUz8Ib+9rrVa+Vb3/6ORCNpqRVDwBD4FIHIyAj50pe+KK+88oq8+uqr8o1vfF0mImrDSv9BgCT1gvkLZMXS5bJm5WqQcnFqKOO1hoQD5zMlJVXefPMvqmPP5a6Gmf4z0r7RU5JkBUjS/adX/iCpqSkqw8NllMr5r//+H4166hs9tV4YAoaAIdBzCBQVIscKiJDQ8BAkuvftsqFaEAvM5cJr0dSp0zWfi+uKzJfi7eOrUmupqan67vr79Xx++513ZPvHn4B08JcvPv0liYwIV0J9xsyZGiV56vRpqUEumI6luqYK8mKtOX0Cgq4uZ9Zx247fGUkTEhaM+sqUMKqurpLTp04g/48HSJypnYj9ESCORo92V9KnML8I0UgXOlap33m9PnnypBw5eEhys3MQzTMSOfAC2l3Duc4p5PWh5NqYsR6Kp2tlJHFKS4qVKKMj4aUu8rDyGSq/oBAOcCCDgBUdEH39/GUoiBunUCI0ODRIqqtqEOlUIM0g3qwYAoaAIWAI3DoCRuLcOoZWgyFgCBgC3YLA1KlTZdnSpeIDIoGlDrrQ9HRi4XtYWJik52bJK++9IemVuczciRvzT2+YdUX7d10IuLn7yL7io/L1oz+XpIyUNq+2cfA4+9o3v6F5iq6rIlvJEBhkCDAB73JIcq1atUrCu0gWPMjg6JfDnQ0C4W+eeUb7HhQYhJwDrdIuvM5QSoZa9snJyfLyyy9DUgU52HCt0eRh/XK0t6/TzBNwGMa0n/3n8/L6639WXNkb5nmIj5+JSLYpQuOcFUPAEDAEBjICFxBhU4tnGhr7A4KC2sluuY77AmTUystbrznMYzNmzGjXnyENFqX3HSQgPkZ+sSvlbWtsbJIKyIE5z1CshJElBw4elO0ffqxkTfycWUreMLKGuW2io6NAlIySxGMJIN4Rnd+hXGy5qI51vB5yHJRFu9nCNoNDQjUSJh0yanv37pO8nDyNCpqE60LHQkcKfz8/8fX3UezyQZ4wF41r4VgZRfTrX/5KMiALRyk6/wA/jRxyXY+RMbloi9sz3xBJntZrfOtajBDyxHLmyqsEadUxioYk0MEDB+Tf/+2nkAA/obJsjLgJxny5yq5R7njylKma742Rv/v27XftRttn1sfnXeYZsmIIGAKGgCFwbQQsJ861MbI1DAFDwBDoFQR4kz533lz5whe+IFu2bZGw8DDJycmVs2fOaCg8b7yriivkQM4x+b9DXpWvzLhfJvpEqNzaxctkT690tB83MpTGyCHDZF/BAfl/p/8im5P3ypCaZn3QozzUksWLZcmSxf14hNb1nkKAD8iuD7o91U5/qJcSHDdaWnD+cn3Av9Htbf3uQyAgwF/WrFurWvbHjhxRQxj163Ogb08dfe7nfKeRjLkLHn3sMYmMHKe5CPBj93VkgNbEazlfZ8+ekbfe+qu89967UoF8EI6kTTySVj/6yKPqJT1AIbBhGQKGgCHQhkBWVqZGfowaNVoCA4LaRYa0rYQPxcVFkp5+Xhf5IOKGUYuuhSoFM2bMkBQ4GSQmHJdtW7fITJxP/f39VaaNDgg5OTnCXC1ubsNk48aNSmLw+YmOCe+9865GvsxfsEBWr1mj2zj1U9ZyHEiik8dPov4UicJnHx8f52cZ6e6uxA2vlblZ2cKcgPX19Up2kCCKQESPO9a5njIE1wfWV1dXj6iYU8ixM1r80f48RMn6urTpWpcHnALGT4iV8tIKSTh6TCNoFy5a2CrXiXyFWdlZyOuTpfJplO10G+YmfsClY2H/ayDfRkxqaqqlCOvynsC5v6UEWzAijbx9vIXzdurESYwtArl6AkCwlUlmZgaWZ2Fu3DXvDUUhPEEYUSbPtZDEWQCck/AMm56eLls3b5aLiMYJCwvHuu7S2NSokU1JZ5N026nTp6ljg2sd9tkQMAQMAUOgMwJG4nTGxJYYAoZAP0Tg/Pnz6iFFz1eGcFOKrD+WIHioPfuVZ6X6QjVuqIdKYmKiJJ87pzfX9JDmTXb9xRb5n+N/lQAPX/mS+10S4RkGF7OG/jjcXu1zq/wc9KSB1U9PvSbvJO0UAYHjBq8zPoCtRtLNTZvu7dU+DebG+ADJxKlMUkv5hirISdAbj4ZOL3gB8kXpp+t9KHbFkoRLbW0tDALF+pDNcwIj2boqXLcUXp2lpSXaNh/kSejRCOtaeOxxP8nIyGg71zBRfMcHVz7UV8MAfgHtsw80KtDjkeNhPzgmRrO4FvaByXzL4fVYj6TnJEkiIyNdV+n0uRW/SuikV8glYMmHaH//T+uld6Mmt0UyXHqrVgNntkOjBMfHPFzcxjEsd2qgiwXcnvXwXMT2eb7ieLoq9KqkLjvXrwQeZWXl6vHJczOxIHYdDTRd1WPLegYBet9+/gtPSQmOEe5Dw4ePkDIYaGjgYeH8cp5/85vfqNFl472+6gHM/crKlRFwzhs0dr3/7jvyySfblcChdzPPHzExMWpYXASHASuGgCFgCAx0BHjfQHKhEkS2h8dYJQyc82THsZPEIUnASBUSMx2jXXj/MHvObMnNz4Nk2GH5CHnGzp1LBuESg/sKT3U+SD2fopJsMTHj9TrGNnjftmvXLhASJ2QJIok3brxHZatd2/dFpAsJobTzaXLy1CmZEDuhHYnD58tQ5M3h/UsG1nnv3XflROIJzW9DQobPD9d7vwreQ++96i7USWZVukRABWDx0iUS4O/n2qV2n0n0zJs3H1E0uZKcdE6v28Ugb4hVWlqq3nfy+vLQww/Jb194SS7U1UpQcEi7OviF1yHKubmXumO7NNm5c6c8+OADbSQO+8Y8OVExURqRdPTIUXXwmDVrjpI6JH4ou/q5J5+QX/zPz8WtxA05gjq3w2ve1KlxMn/hfNwLX5Bz6HNOTrbExU3DfuCp97olZaVy/hwIs/ExkF7rXEenztsCQ8AQMAQMATESx3YCQ8AQ6PcI0Ej4jW98A6HoubJ48RJNULl+/bpOxtX+MtDm5hZNbLl18xZ4e+Xg4SRKvZ5oRObLDRJqfAD6Vc5WmR46QSK8mHSy1fDWX8Z4W/oJUqyhpUEOFZyVTHisKYFzWb+ZxugHHnhQ1q5bf1u6NhgbTUtLl80fbJZPPv5YsvBgl4EH91IktCUpQgJjzdq18tnPflYlBm8UHxIIJ/Cw/sMf/lC9Je+66y751a9+pQ+7HeuizMeLL74oP/vZ8/rA/r3vfU+TjXdFTpCUePTRR9W4/ZnPfEaeffZZNco6dTJ64QgiGz7+6EPZv/+AnDl7VokkEiUkqsbHjJfPPPYZ+fZz31byg8czC/u7e/du+eUvf6HbL1q0CDlJ3mx7qHbqd30nQfTHP/1JXsWL1Tz80EPyta9/o22VTHhKMncNDQ1J6EcNyCSeN2hQmT9nnjz0yMNyL4wOEyZMaNvmWh+ampD0/pMd8v/93f9Wcoz4Pvnkk502IxFAL9Uf//jHSNa7R0ksaqWTbCJ5s3btOvniF78ISbaVN0QidWrIFtwSAp4wqFFSJik5SXKScoT52GjsUu/iyyQmCcCXX3pJM7A9gogcEq1WrowAj3Umv/7www9lH84BJFJ5nPO4Y/n85z8Pg9mDV67AfjEEDAFDYIAhwPMi8+AMR3QIyZkrkTiU8Bo7dgzuj3w0CnQYtutYovBM9PhnH9dokcTEBMlKZ7TIKXUyCA4JhORYAPKLrpOlkKfm/SSdhY4iciXh2BElJu7DfQ8jejoWP5A4s2fPkqNHDuF5Mkvy8nLxfXbbapS+nDZtmqy/8w7ZinvXgtx8Kcwr0CgaXkcZbXy9hQRHCAiWyKhIKUH+mQD0efnyFcLolSuVMSBxVqxYLgWFBXrPmJ+bp/fPwSFB4oO+b7jjTlm2bBkcomrEDzJq4aPDZWJsbKfqSEbFgwirxb1vCUig1JRzbdcnZ+VWAma6ZKRlatRTRVmlJCWdQZSPnyxfsUIldXldCwkNRlv+uI+c6Gza7p3rPPjgQxIeESnv8l701Bk5iOsir4fuiOQJjwiTu0CozZk7B/fHMe22tS+GgCFgCBgCXSNgJE7XuNhSQ8AQ6CcI0IP4DRg7mciR4d0FRYWSjTD6QHgZMyy+vr4Boe5yTa/2vjRcelWtWbNaw9xPnz0tjDLiDbVj8HUMQvnZefL9oS9JQUOFfCX2UZEmhMcjCaWVzggMdYPOdV2K/KJgm2TlZkt2XYnmFHK8yn/wg/8jG+/d1HlDW9KtCKh3f1GRPP+f/ylbtmyR7Oxsldhg8lQ+bPNFAiAlJQVyGLnQ9U5TY//DDz9yQ/1gPXxIp254EdpjfTw/8OGfxgTXknA8QQ5CJ50SHHygZVLbufPmdRlhkgeddNZF4pjHIb0enfLWX9+S38LYffxEopJRjl45SQs+sDLK5nzaefnt734rqfCa/I//+A8YKYJ1cx7zs2bFq2cliSLKfpxDBF4sHsA79tdpj8QPH4oPQJucxgrKbDjl0KGDSky9+eZfdEyUxxgHYszL00sJzENHD8vR48dk24fb5Kc//Sk8I+O6JLic+px3Gl5IHrF/HBO9QEnsDB/+6e0kDdgffPCBEjj08iR5xTJ75izJhGGE0VF/+tMf5Thwf+D+++QZEGHh4RFOE/beywjcsWGDXj/fe+89JB5ugdxJSzsDG+ec+/Qbb74BktNbVq5eg7kXTXrcy13t081RHodGthOInv3gg/dAxh6V00yQjSg8Hit8ffvb35FHHnmkU9LqPj0w65whYAgYAreAAO+VFiyYDwJkqt43kUS40n3NYsgZxyF6g1JojIq+UuG1aMOG9SATlun9Fp0NSPgEYBuSA6PcR2vEMbcnKbR27Rr0YZ4+SwUEdF0v5V55j/jt73xHmhqbxKuLKGN/RMrcd98mbbewsEgjfRi1wvs8kkDXWxhRRGfDZcuW6D2UO+5ZSZBcCRenXt4rbrznHllOsgZOQ3UgYgKDAnDv7K4KFIyy5uvLTz+tdXki4qVj4f3xo7gOLV2yRO+3/UCudSTV+H3R4kUyZcpkvXdtbGgEtgHIBTRCxo5pbYPXtC99+Wm9tjHK/EqFdc2KjxfmM2J/eY/IMgbzwn2Bked8jRhh+eGuhKEtNwQMAUPAFYFPn7pdl9pnQ8AQMAT6CQI0CqtcD27gWWi03bt3t+z4ZKHcCe/7jIxMGIs3q7c5DZj0opoFT6ureTv1haEzJH8pbtJp8OTDydGjR7VbJHN448yHomDoE6eUZMtvk7ZIdHCE3DV2rgwFHi0XG+E1PaQvDOO29oEYDRkCg/2Q4dJUWyUJxcnySfYxKcjIlbqGWgGQ+pD21a98Ve6DMZkPYlZ6FgE+zPFhjdEqJxEpM3HiJPVKDw8PV2kuHpckMfbt24d8HB/j2N0KgmCErFu3AaSK1w11jt6eTjQNiZx9+/ZKSEiItu9a0bkzZ+V8aqouYgTCzh07ZCU8DTt6BZKw4HFIkmkMdN2jELXgWkrxO5O3kgxav36DGiwYUcQ+8DyVijbe/Mubcub0Gdm6dat8gnbuuvNOleYgLpR7mwgihpEr7C9Joaf/5ukrGgZI7hJDSmNEoB1qjztl27YP5Y9//CPOjTXCKKRVq1bJBJBaxLK8ohznyL2IFNqnOTko7XYtw4FTLw4oPW54DmJh1GDHfFwk1H/725eVhGKbq1avkgXzFyr2FZUVkpuXJzu2f6IykbGxE/ut9GUbJv38AyXtKKVSh4TSr/7pVcnJy1G5QNd9gvtwGgjIl19+WQJBPE6ePEWvoTwWeJ4dzKX1OkOpxSY4XKSqrE0eCGhGApLAoaMAjWobQJY99dRTMmnSpMEMl43dEDAEBiECNPJfzdBPSHhfQZktvq5VeN4lAcAXI+l5j+Wciztuy2sZZWRd89t0XMf5znvQkJBQ52vb85azgHXxesgXI1d5KzQM0UU3WnjPR1k2vm60uG7nPA+61kGih5hcqRCn68FjLIgmvnh/3lU7rOdqRJtr+3ymdZyWomOiXX+yz4aAIWAIGAI3iICRODcImK1uCBgCfQsBJsmcPWu2zJ8/Xz3tm+EVzuicHTs+Ecr30CC8GV7hzMng4+UtS+CxTqMib759kTSThl7qII8e3T55Zl8YZRi0lx9++GFNfvmTf/1XyUHUAsP1nQcVakX7tMA4XJ4rPz3zugyPvCjLfKeK+/DR8KZu7AtDuG19oCRDC3IHVTUif8eQakm/UCBHis9JSRZydCApKB/43N1Hyd0wcH//n/5JRpoHWK/NlRceuleAJBkHeYWFCxfJXffcpTrjrh3YA5KBXobU6j58GIQP9Mnnz5urkTqu613tMx+SZ86cqVEG1FknOXPPPRs7kTinQDqUQcaN5wMmWj18+DDI34xOVeeDfDh0sFUGgrrkMTHj260zOW6yPAyJsvLyCnkMslMkVVzJYiciJTUlVcf217/+VXXF57jIdaxevVojgQ4dPiRvvvGGPADjelfenZSdo5HY8WicCEk0Z71syEomIOEvCRw+qH/jG99Uj0/Xzi5dukyOoA16VVLj/foLLBYuRvuh+NzRhH8W0m3MA0LC+a6779L2XSOW2NZSyF7u37tPHoQEHA3cVm4vAlPjpspzzz0nw4a6yYsvvyR5yDfgWjhHjPw6jigTyvfdu2kTtO6nKQHH/doh9Vy3GQyfeY7hq7q6Sg4iIo4RalXI+8A8WDx/ERdK8CyBd/nXvvY1mT592mCAxcZoCBgChsANI8Bnm5stPA/3RLlan1wdHXqi7eup82r9u57tr3ed3mrnevtj6xkChoAhMJgRMBJnMM++jd0QGAAIjELYPDWCRf5RvV7z8/LlQ3i5p2dlyEuQNqLOcNyUONmGHBWUM0rLSJff/+H3OvKF8xYgBwp0kxGOz+SLJHTc4FFFs6RjnHEg6soLyfmtJ9/pTfXgAw9ILnK4vPDiS+rl70Tj0NAcEREho/HwsnvPbnli3Hl5ceF35K7QxToGSlQNxtL6GDhEyuqr5JOCRPlzyzGpH94iOZVZUlpY3BZ1wCSkzz33XSNwbsNO8nd/93dXle+izMPcuXNVKqwJxMquXTtl0sTY6/b6c4a0es0aOZaQIHuQbybheGJb0nbnd74fhk46o0nWYt1zKcmSCEM1I2E6lpLiEjlz8rQSgLGTJ3ZK5LpkyVIYa5d23KztO70jKelxEtJU77z7nnyyfTvy4zwmriTOWshrHE04JiRx+M7E8kwg27GQxCGxxfPSnPjZMgWRESz8ngEJs5qaav1OI8OsWfH62fVfFJLo8tUThSQ6SVKeQ2fOjG8jl1zbokwHX1b6DgJ+kIn55ne+Jaehe89k0YxwdWQ8GV3GiC0ShYzGKYIm/5OffwpzuKTNA7rvjKT3esL9vA7Jo89CNu0/IRFJ8oZSNZQc5LHHKLnFixfLl5D/icS1FUPAEDAEDAFDwBAwBAwBQ8AQMARuFgEjcW4WOdvOEDAE+hQCixYtVAMmakrodgAAQABJREFU5V3WrVsrtTCsJCWd0wSKNADTmMJCwwoNnSyJJ0/IudRk+cWvfyk+CI1/7NFHJAykSAQiBKZPnaoSRVyvAR7ITADpc4NyTty2OwrD9r/wxS/JYUhQFcJ41oLoGxpIORbH2MzIk6KsfPnqpeflH2aXyZcnPyZD6iuQSLxl0FE5Q9zcpfJCqXyQf1h+nrVZGqRZ8oFbRVm5Tgflbf72b/9Wnn76b7o0cHfHnFkdV0eAhMa1yv/P3nvAZ3le5/+X9t57LzRASOy9h8EYPIl3HDdpmtF/06Rpkraps9PPv22SJs6OHcd2bIzteA+MWWaDQGIJDYT23nvP37lu+ZVlGWwMaHJuePWuZ36f9T7nus91wqVOSlBAIOoa61Erta4smSyfNN7w71nUNej9ujNFRUUmuGr5nvsBLc5amlsQGBSIeZLp4+HpLjZg2cjKypbzR7bYRiVYBjfZCawlwxYvwgqt2T5ti46ehsSZyXjt9TdMrRoGyoc3iraJcu6h5RzPZSzGSxFnpDUG1+VtqWHC7Igly5chQWrasLG3pK8UmaV1BRuDzFwPBuDHqjHwb2mH5Ny7SLIkr8YyxDINfR47AszceljEGYo2zEizNF5raOvJ7BJeey7KcfOUdCq4kHUBW+/eKt72g374lmurZbyp+MxjjAwo1mRmZmDnO+/gqGSVRYZHoFrsT4ulwwVtXclio4iy3/iXf8HNUnBamxJQAkpACSgBJaAElIASUAJK4FoIfHCnfS1T0XGVgBJQAuNMwGJbxMAKPZLZWGOCGTZr1q5GyokTppA4e4mzMRDT2dWJjs4O875Wgi/PPLvNWPuw4CS9e1ns2xK88paCk5vFGoj2TJZ5mRHH4A8DRrR/+/a3/03snnqxZ/duE0TiOlCcYrCIgdMgKejZZd2H35x+CefzsvHP8+5GtEeYWde+fqldIP+maiMLKxt7Mad2wBtNh/DG+f1IuXAGBb21iAwJQ1dH51AWxq233Ya77tpq9o2pymOyrRdl1TKpI8HME2bMFebl44033jDim73UcaksrwQLq37aNn369KHsHda7OXv2nBFEeIzz/cED+03dKWb9zJbCqxQ/XKRoa5Fk7F2UrByLiEOxpETsDC2Nn1+JFzhFFI5XKKJLUUGhqRNzTCzZuL/yuLWIy5bp8pmizQqph8WaQIcPHsRisWUbKeJwmhSg2BYvXiTnqsFMHL6nddns5FnYt2efsVv7j+9+FyslQ4h1cRZL9ssn+dJzGtfSkpKSjJVcSkoK3np7h9TgaTL1QNavX49YEdW0TVwCvNasXbvGiDWPP/44Dh06aK6B3F8penKf5ev+/gGUlJWi7u03UVxWjC/9w5cRGRVlhuno6DDDTNy1vPol43WW4ipr3lRVVuAVsUTcLzaNPJckz0wy569ysV3klZZ1tZipxE4h2pSAElACSkAJKAEloASUgBJQAtdKQEWcayWo4ysBJTBhCViKXjIoOn/BAtOTn4HFqqpq09uewRg2Bq4YnCocUQdjn9gdMWDF4sQMTM6dO0eKlY+fp/3q1aukaHI+ci9eNMvK5abIxOAag8VsCRHTUNvaiBeKD6M/rR+rZizCSv8k+Nn5An1dYhs1OJwZeAr8YQYS5NHT24XShnIcqcrAXxoP4MjFU+iubTV8GpwaTLCcmRO0tHnoc59DrFhzcZtrGz8CzKwpKyuXWk/FOC3iCvfrCgmMNoqIU1tdgxLJBqB4wqyd1tY2U+PoapaWloNs3PdPnUrDHBFrXKJcJBjbKUHqQ6ZuFgWZefPmGYHDWQSeXClQnnMhB7h1cI55eXlD5wd/P/+PrSPDjIUyCXBnZmZJofM8I+LkFxQgL+ci2sRmiXV3eOxaguKDc/jgL89XG2++Gbt27RIbuUPYvGULFkumoaWVV1Qim8smLSI8HAlSKJ3nKUujkH3L5s2g5drrb76OI4cP41Rqmqz7Kaw7t14yYxYZcco/wN8yynV9Jsf/75/+yQS7MzMz8frrr+OM1Oghj5ViXclzaWRk5FC20HWduU7smglQ5NsqtZh47OXlXpQMtAozTR6HlnMmM3KCpJYSM6zSTqbhjYDXRaCLM3WieG7luLwmWYa/5oUa5wnw+OL6U6wpFkH2qNTsOn78qNQIOmdEYB7PF+WcwRp8zJy9SWxa75XMXj+/AGHkaY51Xqu1KQEloASUgBJQAkpACSgBJaAErpaAijhXS07HUwJKYFIRoJf/T37yEwmyVOEdsT95VuriXLhwwfQ4thRmZu/8AQn09vX2oVeEEfrbMwjFBws7s4f7ldhAjSaYLVs2G0uoH//4R6aXPQPB7B3MIBItcJKlcPLK6UuQ652Px46+gwNuxfiGfTfudVsMGxnG3trO9BKW8NpoLuaoT3swq2gAnb3dsLexRXlnPZ4rfA+P7P+TmbeNFOgmF247BtaipJf4/fffb2zUmNVQU1snWVidcHJyGvVl1Rl8lAAzUFLT0vC21IbZv+89nDpzCn1y7Lk4u5htMm3aNMzwmC6iZQHq6+oHM8/MnvvRaX3SJ/ESXF6ycDFST6chI+O8HDd1kjUQKSIDC7WfM6NT4OM5gvVjaK147tw5ZIkNmaUViMBLIYZZeOvWrIW722C2n+V7yzOFpwPSM//A/vckk+hNY6/EoDgzfBjEZYYfA8IUWC7XuH8uXbzYFI2vqasxto/MZrHYOZ6W9UhLSxXLNScTKPaX4Ue2RZKd4x/gZ+zhXnr5FWPv9O7uXeBj6aIluOf+eyXjYi2mxUyDk0znejbWFvvM1q0miL9jxw6kiQ0kM4d++9vfmPPu1q2fwWc+8xmpeTQPtO/S4Pb1pH99pkU7vw0b1ouwegHPbX8ezC7htYbXGbba2lrMkWGYJXbWzsFY+4majpsk2+rzX/yiOffy/Mt9nefgydq4/Gz9Ykva2tplxNlUsZk78N5+HD52xNTRCw0NNfs3mfD8cMcdd+A73/k3TJ+eYJhxfN3HSUGbElACSkAJKAEloASUgBJQAtdCQEWca6Gn4yoBJTDpCAQGBojn/+dwzz13Y58Ej3fueAcnJDunvbsTd999Nzrb21BRXoGiomIcPX7MZO/Mnj0LDz5w/7hm4VhAM2OAyx8TE40vSLFkChQUmBj4pb3Sjnd2gkFr9rb/8ue/iLqaOjx2cQfe7jmEb0/bivl+8bCxtYfVwKANm2W6k+mZgTUrKykaLRkNadUXYDtghdPWZdiNC0NBRitrWv70myAi2Xz/+983Io5FhAuS/UDb+BHY/txz+NNjf8IRqSVhLdvzjjtux6ZNt0hdmgUIl8wZ9vDfJkLr7373u6G6T1e7tNOlxsyS5Utx7MRxpEpGSo0EW9lYj6ZQxJm4mFhMjx+0I7O3d0CkZIlQxMkTS7daEZB8fbzF3q0ABbl5JlPnpo0b4C2fjWwUnGhB9bOf/a8J3iYlzpQ6W/dj9do1YsOYbAQcZuls374dp0+fHjn6h94Hiqi0esUq7Ny1U+rzZIGBY9b6Yks5nmIyAZhpuFoEJYpPl2qRkVH4/g9+iK/989fxyssv4cknnzLC2fGTKWBtn7hpsfjsg5/Ffzzy3UuNfk2fURx98IEH8IAIpwcOHMD255/HHsksKhUbqief/AteffUVU/D90V//BlGREeY4vaYZ6sjXnQBtwP7zke9hoYh+P/jBD5AuNeQsIg5FCdp6ZqSfxwqx6lsnguC58+nYK9mrFF033rIJScnJ5nhhVs5kbVxPXkfqRXTdu3ePeeb5o6K60lgDsvYNBVleV4IlM+mhhz6H++671wg4XGcVbybrltflVgJKQAkoASWgBJSAElACE4+AijgTb5voEikBJTBKBBhAZDYKhRBm3bBGxGypcZNfkG+KfzOAO3NmovQntsLOne+CtSvYLmd7NEqL+YmTZc/+lStX4le/+pXJLsrIyDBiU7hYKzHDoV7sqN7a8bb0cvc0Ad72nk6cqCnBF/Mu4qaVa7HRczaWOE6T2kFip9TbiQHpZSz5Rp843/EagEtmI9sEsJMXtmhsrsZ5u0qccizHweLDyJcAu0eoLzzD/U22FGursC4Dxa25s+cgLiHevGatFUsdE0sP6/Fapxt1vqxBRfH0ib88YQQcP7Em++Uvf4m5kgFD4YLChCXwyewVEzS+xl0zKipySIBlRgiFFLa0NLHckwBzbEIcQsJCzWfcL5LkHHD48CGpzVNv7NAo4qRLgDpPzhOmzpbYgXHfGt56JXvvySefxK8ffdRkHnz5K1/B1rvuQuKMRLjJOrm5fTD8lWR/UZh54KEHkSYZShSZDx48MCTiFImdE22dKHTNnTtXMnKchy/K0GuuC63VmP1z7333YakE25l9uFuC79u2bUNmdhZefOlFBAT54+577jUB96GRr8MLZmKwLVu2DNExMXhYbAwPHTqMl19+WWoTnTFWdt/59rfw3//932DmlbaJR4D7+UYRLbm/MZPq6NGjZiFpUchjk1aje/btAS0II8MjzIPn33//93/DFrH023LrFsQnTJf90NGIIT3dPVdtizjadJgxZCP7rINk0wxap3XgZMoJHDt6TH4D9OLNt99CgPx2CAkOMYvCzFfW2ONxFi81sr4mFoLOkknIekHalIASUAJKQAkoASWgBJSAElAC15uAijjXm6hOTwkogXElQGs0BpYaxX6IwZUOyaypqpZi6XUNkl1TZALFrC8RKb3tXV1dzCMsPAzx8fGmVk6nBJkLxDYpvyBvaD1mixCwfPmKofcT4QVFKNq2dHZ2ScbCszh39qzpERwnhcPpwV9eUS7WURlSY6RSsgBmIXJeBIrKSrCv+iyyc3OwxykUC6KTsMwjASGuAcJKBJK+HikQJHKO9DyeKKLOYM0be3RatSPFOg9d7V04fiENKfXZKHFrRWdLB2qs6uBc0wbP9gYTVKOAw0Dc9PgELFi4ULIV1sj2jhgSBybC9rtRl6GjvQPv7d0nmShnjGjwgGS4PSAZG1bU6EY0U+fpUl+MGO6T3tLiiEFniifcN9hzPicnR46ZM0agnSNCSMy0mKHJLFmyFLv37EFxcQmOSE2aJKmDVV1bY76nCBgl5w5LRhc/ZPA3/fx5HD5yGO0d7eZc8sW//6KxCxua6PsvKBpdib0Ug+e0O4uIiJDaG8fNsdzb1y9ZOZnmPMbJ0Y7M2/ujGUEj58n3Pj6+5jFb6gHFybmOwF+TouwZUrPm1Vdfw82SBUVxeDQauUdHRZlHrJyfgoICxVbtWbz33nt488038ffCSkWc0SB/faZJkXCzCDIUBIODt+PkiRNGCJ0twiuzT45KNl1hUSE6Ozoxb64LwiPC0S3XkoOHDprOEbPnSC25xCQRCwPlPBxpLMhYj85SN+f6LOXVT8VKxChmA/I8wYybE2K5WCF1pzrkWKaAmpaaZs4fzNzrFgvGmppa85uCwpaPtw/8xD4wcfp0U+uJIg7tBLUpASWgBJSAElACSkAJKAEloASuNwEVca43UZ2eElACY0qAPeAZbGluajb2SBQvWEx8sMfvgNSJKcZ5sYGpFxHHSXoDz5KAEnsNmyCsBF9NxoYEL9lbne1Pf/qjCSwWFBSarJY5Mvx90os9WYSQidYYVKO1WrLY1jwhNk47d70rFmO9pnaGr5+PETRMVooUU48InY3wkFDpAZ+OkzXZ2N2VirD6FHwlZCOWhyQj2CcATvaOcO22hYuto8R4pQiz8Bmwkoc8j0Wj6MZ5MZ7P12ydPRLsQxtSegvwm6ZdqK+pR9bFTHmuhaeLh7G1CvD0NfWBcqvyTOYRBbnE6YmyzZIRPyMBi6U+iAbWDM5x/8PjMif7Atql3tSKVatwiwSH39/UH1k2ZpVxfzY7xEe+HfkBLfYG95mR3/A9M1vi4+Nw5sxZUx/mrIiemZkZ5hhPSkpGmNS1YOM0Fkqdj8ioaAlWn5SMnMNYt+EmE6Dm9/FxcSKcePHlUOM+m5Z2EnXv27QxWycpaab53uzPw5aL69Qux+OVNNoAzhLRJU1qBzGD6IxYsDEjp7i4GLGSuXKniLhX0+bIND8nWTHlkjHB+mCs9UPxeywaaw89+OCDphg8RRwG8mlP1SPb2c5Of5KOxTa4mnm4u7vhrrvuxHyxO3z8j3/CM8/+1RyXtFxbNJ/WnP0okv3y3PlzIuKE4aYNG/D6a68ZMfTgwYOSETkX0+Jjjag+XTJz2AnBR8QOXsN4zPE4oWjL51FvMj+KNmycZ4/sg3zukOPyvGTcPb/9OZw4mWpEfy5Pj9h2lldWmMw31gaimENxdZHUrYqJjDLZnQFBAUYEmjFj+ocE3lFfF52BElACSkAJKAEloASUgBJQAjcMAb1jvmE2ta6oEphaBBh0aWpuFpGmDBnSC37n2zvQLO8rJNiSdvoUNqzfgOaWZlwUC7FK6VVL65dlS5ahra0V+/fvxb69u2FtY43igmLMmz8fX/vGP+PNt97ECy+8aGpQkBaDS9+TWiobb755QsNjMfZfPvorbJEMh0ce+U+xSHrJBJYeuP8+vPzKq1K8/SxyRdiKkt7wUeGR2LBqnbGGSjl5Av9R8CeTnZQ0NxlLopKwpCIAiwMS4e7oin4JzI2ly5olgGfCePKH2UBZdYVSzycdb1ak4OTRFLMdGAhetXQl3Fxcsee9vcbqx1OK0S+WoNrtEti+/bbbJMPKDR3SU9rVxfmKsxUm9EaeIgvXK7ZEZZXl6JUi6b0iHLSJmHOpRlGhvKwSjQ2NQ3U4LjUcj9HB9vFiI63HFklWVlZWtmQNFJl948zZc2ZU2qUNb35+fvCXB/fD0vJSc35h9k5ISLDYl835SKCZ+22TWPWxZz4bhRq+tgSozYfv/2E2YFZ29vCPPvb1TTfdhFMi4lC42b7tWTmXSVZhfQPmzp+LZZIdaLGeGz4Rzp+BZi7X5TJ1HOwdJOjsYEZjBsIHHIdP6epeMxOS4jiF00tNl1wYxLc0rgNrWGmb+ATCxXbwJ//1E4SGBeO3Uq/qD3/4PTasXY8lUjfHRqwuaU369F+fAa09V6xYLvaWUTh27DhOnko1dZieeeYZqTHlg/UyzsOffxjRIkba2dmb7E/ZWcYGgBwX/fLgvkmBpqa6GrW1kp13IVsE01TJqsswdbho9bhEOgB4enrgr888a4Qe/u6IEyH369/4BlavXiNiTjicxPaRn1vsA8dmJXQuSkAJKAEloASUgBJQAkpACdxoBFTEudG2uK6vEpjEBCjSMAh6SHqjp506JfUdcowFGgMxzMTpk9oupve+BDEPHzkk7/tNT28GaxhkOXb8KA7J5+xF+/nPf97YHt0rhcenixWKjbUN3nrzLdPjnYicnZzFGmYuEiSrg3V0JnpjZtHatWvwn//5iKnNcfToEWFw1ARLGXRi73/aqxVKIXcGbWlnY2dvhxDJQIiNmYbaymr834E/wgvOWLtkFaLioxFh44OFdQFICIiT1ZfMHAnADzY+M1NHgm4UeqzlcaVtQFgyOi7jsBYPxyT7fnl9tuoiEr2j0N3fg+yGYthJUPAPZTuxpzgVZVUVJpgfGRlpAtRpp9JMb2oGy+Nj4xATHY05EthmUemgwCAToGMtI257SzHuK11EHW70CDBgH+gvWV9isXVexNe9Yls2MqPkzJkz+PnPfy61c/aZrBk3sRa7XGOGDRuP9abmQQtFvqeAMVxAoKCwdt16I2oeP3bMCCx1ErhdvHCRsUTiOMNb4vQZpr4Ha8js2bVbBKVSydYLQoJ8biz+hg3M+Xh4esHRydF8evFirmTMHMKWLcwyGgxMc3kekwyGv0oQm/suOXD//KS2bt06k9Fw8uRJHJHlZpZhV3eXWLwlIUHqcIxsnM9zz23D0089DVfJMPzhD38Eirwj24svvij1TY7AUbIT/X38LikGjRznSt7X1NRI7ZTf4o03XsffPfww7n/gwaE6VJbxDxzYL1Zq+yxvRezxga3w0DZ5CNx3//2YPWcuXpIOAzxWef2h+MksSJ6Tc3NzjRBCYaNVhFpef2+V+jjMeOM+zJpt5XJOHxT0XDFDrC9XrlmNGYmJpt6UsVp7vxOB5fzNazvrzVDw42c8spiJayOdMfie+z6/t6YgKMcdv+dnFIT5TNu0fjnmGurr5fjcL9dGVxFmQ1FcUowdb7+N9PR0Y7VosTxkTax9ki3GZee8eU6gNVyoZBpxmJDgILi8X4/KsoyTZwvqkioBJaAElIASUAJKQAkoASUw2QioiDPZtpgurxK4wQhUVVUZ26OMjExcvHjRiBCFYv9TKlZA9RKM+Uhj/Eb+MUtneFsg9SOCgkNNPQYGilaJlRN72zOrg429hU+JMMRe5Gz2DvbGeo09+CdLozizfv16BAT4g4HS/e/tN9lJ1dLTmD3f10iQLDMrCxXlFUOrVCe2ZAG+/hjokZ7EIuq02vbhdMNFpJ24CJvWXkR1eSHA0RNxMbHwlmCr84AdFltH4UxfKZpcehDq6INpjVfGyEZEnxIXqVdk04G4eg9EeITCRoJ/vd1tyG0uw46udBxtKjRB8oquWtRK9sPu/BMorC6DFFkwgUJmGFDMY6DQR5Zn/eKbsFIyEjxYPN7D3fTqtqzcpbIULN/p8/gQYK2X226/3YiwrFW1Y8cOfPWrX0VkZKQRGmlXRKH2tFiHBYqdGIPDVZVVJpDKzKyRLVIE2djYaRIYzhcbpO2mrgsLqluOa8vw7rJ/zJs3zwRyeR5hcJnHC4Oy7rLfjGyRUVGIjY/D7t27xRJqt5xvSsHaOQslm2dk1giFmtWrV2OPCFLp59JRKdmAv/jFz+WcclSOxQDJCGxBQX4+3t35LrgctPmjVRsbg8sf1zzl/DMzcaYRmrJFUGqSQuoxMdFg7avLNZ4fT0iWXWtrmwSbe4RthKldQvYUb2nNxlo0FFwoeH75K1+Gl9eHLeIuN22eXYcvMzMahq8Ba4nwPErbut+2/E6E8xRT74a1U1ylXsh5sbA7KcuWKnZVbFu3bjUC7OXnp99MRAKsu7ZIbAe5T1EwyZbsMu7jPDfzmvmZu++WmlPnpKPFB1ln7ETAfW7QwtTV7Ifclxvq6/Dc89uRKhm0XmJVyDoz/v5+krHja64FdSKmUCSJlbpV7iKWss4da9fQgi9SxPvy0lKZbwscJSPGw9NNsveazH5PwcbewQFJyUnmWOd+yuy/qqpKZGdmm3p41XIOSjt12vyu4HWSmYGcFx+8xrC2WlRklGQehUpWzhJEy/K6yDqz9g2FaG1KQAkoASWgBJSAElACSkAJKIGxIqAizliR1vkoASVwRQQY4KmVGgms5UILIfbaZSHlc+nnJNBS9KHe68aGRwJI7NE+FFiUSA17xHtLUNJdgkm01YoID8OmTTdLsDce8QnxH+kZzl7DL7zwgglwMnjDnre0IVqxcsWoFfu+IhhXMZCbmyuWLl0KevMHSZ2f8yJ+HZfizC0SXGMvaK5fdGS09ObvlqB5m8lqKSoW4USyYdxd3U2v5sbqehm+BQ3NjTgtPZ0hV4o46xnwavGGdWsfNlpPx+G+PNR7dCPaKRBJNV4m2GYScxiUNr2e2Q/6w8223xoX3BrQ5tqPmzEDifZtiBsIQnVTHV4qP4JDVnloa5HC7zLPNglAV0hP7frqWliJgGMtPfW5jRloY6Ndz8qVK3HHnXciUUS5Pukp3dbWbgJ73B/U2ubD7CfKO1MkXTJUTqSeMJlvBSI4/PGPfzTbi73d2Zgpt2nTJgkSLxQh5Jj09n9ZgrB2so99dJ9iFh0z5pj9wmwVTj9EBIORIg6ny89iRJxhAJjzYubAfJnHpYTaSLGBSkqeZYQZCjhsDOZSlBnZKOJME1uoW8XGjyLUmdNnREQ9YB6cNvfFrq5OyXoLw8N/93dGMMnJzjGZQzweP6lROFq+bDlef/N1M+gCqUsyW+raXK4ly3Lfd9/9OCKZeHtEhKKFHZeRbBiY5vHhKqIu6/vcLJzv3HqX+f5y0xv+OWufcFrMdmDWg52sm8l8eH8gJzn3Llu2TGzfKkyNFJ5X2Wih5SUB+It5ueZ9YEAgVq9Zg3/9128hVM5L2iYnAZ57f/SjHxnRlZlztP7jNZznZwom/n6+sJF9hGJfrQg4J0W8Y2ZMlByHzKKhSMvhC4sKzcNe3tMak2Knq4ubydCqqqky1qdJM2dKDTRfESdbUCViYVdXD2YkJaJQBNwGsTPk/u3j6y32aLUmu5PHHX8LtIitKr/jpalbsthKy8tQJsdpvxwX7Z0dxmKRAhCH5/FoOSb5npk6q1asxArpAJGYOMOIOtz/PeX3Bb/XpgSUgBJQAkpACSgBJaAElIASGCsCegcyCqQZaOzrY4HWwSKtA7RikKAJA8OWxptAi0UDh+eDAWnewNLyYTBIMvjMz3lTyc+0KYGpQoD7PI8ByzNFhioJ0LOXOO3S/iY2LTk5F4dW1yLYWJ45nqXRkoVBfgZ5GfxhQHXhgvlIFMuhBQsWmuCLZdhLPdNG5fXXXzPiDgNKnPZ8qZOz5ZZb4DysdsOlxp2on3lKwPTvPv8Fs3jnzp3Ds9u2YfeuXVgsQetZs+fIermKIFKFlqZGvPTyy4Y12TLAxu3C4uyRnhFmezDg5gQ7lGYXGHHtmM1xWBG/BHFPyWnpJdrXyGvTeJriucryfvDTD/7KYF5e3uha0YvtZSew2SYJ3S0deKx0J5ys7U3QjvVHmIFlCajZSW9oNi4Xg34MpK8Ta6yHxa5pvmRYDa+v8cGM9NVEJMBtyqD9T3/yU8nAiMHTTz9teudTVKHlGY871jW679575VpoA1upl8HzwLS4aXBwdPjIKk2fMQNr1q5DRmaW2Ve72jvR3Nj0keH4AYOu99x7D2jBxiLskZGRWCkBWgaNR7aYmBj5boVks+2TILQNvNy9MOdjhBOOf8/d9yAoIAi//+1vcFiycFok2Owmlma0M+Rxd899D2CWZAUwU+bAzZuQlZNtMg9Gznvk+1mzZ2HNujVDIs6y5SuxeOmykYOZ9/ydQGHztjvuxIH9B/Cn3//e2FZRLGtqajKZExxm8+Zb8AU5P6xZu/ZT/bbguZFZb3PnzjOCULBYSlHIsbRYyRD693//d9wr2+8vT/wZKSdOyvbLMVmTVTXVg5lIcl6+4/Y7cMfWOyWrKMYyqj5PUgLOkpGyTDoO8JEv2TjPS125V195RY7vKDz0uYcwa9ZsI5rymHv22Wex6913xZ6wzPwuLhErM+6PvPZw31qyeKnJgs25mIP0jHRzzuf3fJSUlJph+NrymzjtdNqHqFl+FwRKBwZml1k1WeGgHAccno2ZaEWlxWZ+7BDAa41l3pbpchp8hIWFYVpsDKKmRZkMvNDQkEsKyR9aAH2jBJSAElACSkAJKAEloASUgBIYJQJWcqMyQ6adMUrTvyEnW1lZiYKCQlRLwILWEXW1NTgr1iIXJJDBAKQlCM2bStpBlJaWmBtL2khEhEUgJCgYgcEB0qPQV4Jd4SYAzZvJSwWabkjAutKTngB7gtMKrUJ6a9fV1ePIwUPYu2+vsdrhcUG/edqaUFCwNAZ42ZilM7zxmFq5bAWmz0zE0mVLpYf6HASIFQsDi7byHS2TeMxdrp2QLJ+3xQ//6OGjSDkpGStifbRx40b89Kc/HbRfkoDRVGjMEGCmAou6P/mXv6CstAy33XorHnr4c8buKVts1o4cPow3xGaJjVy5Lbit+MxzELcHz29RYmFTIdOjdQ6tZcLEaqaoqFhsbtrh5u4mtUMCjSUWhx9eP8ToPjI9Cm3RMo0C6X1t1SV1a+RfW1+neWbwzCLuMajG+TODgtuRNlsL5s4Xq57P4BbJ5mBNkI/btlNhu03VdeA2pmDK440Whtzu7C1PQc5BesWzWDgbaznxwe3P70Zub06HgVnuiwzKMoOOIg171o9snAenxeG5X3FazJQZOU3LeMxa4fKZ4K6VtbFPcnL+eAslc+6S9WmXdWsU6zMKzFwmHk+0X6KQxHlTtO4R4Yoiz6WW1bIMfC4uLsETTzyBH//4RybD8MmnnsJtkvXzSc1yHiUjMuZ7ris5c558JtdP08iQWXytwoWvaad1KVspztNyDrcsB9mTBedteVyO/adZJh124hDg8VIo1wKe+8+ePSN2hLuQlZFl6pat37gBcfFxKC4sxNNPPo2Dhw+hW+rZ8fiy7AfcHwekAwDtTGnBx3M+9xteMyj+cr/iw0c6AtB2Lb+oYGgYXqcszTI9HnfTRCisqqpGo3RYsFzTuO9yOnzm/Pmaje/5YKMY+qUv/QPWrF4jxy9/R3wwfTOA/lECSkAJKAEloASUgBJQAkpACYwhARVxrgPszKxs432flppqeo8zkETbkMiISAlStUsvXmsESFCTRZHZ8vMLJNhUiR4JhDC4cTzlhOmx6y91KVigOyQ0WIKhHSYYGhAUaAqnFkl2AoOuLPA8W3o1RsZEI1p6x7MXq/ZCvw4bUScxKgQ6O7twSnzuaa3DoGVDfaMcC/7SC75IippnmKwOHgOl0sO2RMRMS/CEC+MmmSLJyclSRDjcBIQWL15s9nXateTn54llUihipYd7bOw0sUiKhqeIoAFi0eNxifoWH7dyjz76KF6RXsOebh7YJbUvOsX26Otf/zp+9atffdxok/I7BrrrxXYmOztLekKXo13sxwrlfFQuNTwcnRxMDRJrGzucE9H5ZOoJVEo2DIPODHBZzjMMbDOgxgAttx2DZAzkctr83N/f34zDuiP8fnhgjdC4jTlNBnEZWGZAW9QbI/bwOwpAzMqgAD68OTk6IUGKZj/42c/ipptuMrZ4DJBrUwKXJMA47CTRX7nfM5B8ufbyy6/gv/7rp3LOPC/F4W/FI997RLKC5lxucP1cCYwbAV4rukXA4XWBv4ULCwvk+k/rs26ps3bS2Om1y+9iZwcRQ0UToUBTJDapFps9LjirLNmLaEKBk9cICkIWEdd8L8cLz/2O8miR7ykc8Zox/BjiMWU5rnh9omDM65EMZLJp2DGAYq6lUwjFXFq+McuMtm2slUVLx7li1Wi59o0bVJ2xElACSkAJKAEloASUgBJQAkpACHzggaE4rogAA5XsgV4ihVRpT1IjWQGDvdMrcFqK+dbU1Bof8E65YaSdEHv+0ZYoJnqa+Hu7Gs/vxsYGU4S1S4KhvKnkjae/n7/5vl4KuPYO9Er2Tr25maQdi62NrbGKYaF2Fnt1cnJGm/h4N0gmA3vW94mveJQIOvQgDw4JnnQ1PK4IvA40oQkwcMPgPgtpl4o9SpkIBA2yn3d0dBqhJisr03wu4RPY2duanuWF0sPW0hiMCZXjhAXGfXz8zHPSjERT9yE4NMTYrsTETDOC5tIlS8WOKA+BkrEWK6Knj4+3ZTJX9VwvmUAtTc1il+RpakcsWbIEq1atuqppTfSRKLLwwWLwbLQ52iXF1vMK8tHW3irisyecnO0kKNZsxBcKLdyuFF0o2rBRlGEWFZ/5YPCM73ke44PDMzjGfWJ4UM2MLH/4GcfhuZS9pTltBtuMmCPfM6jH6TKAFxgYIJmIM41I5OHuYeysVq5eJUJ36KfOILDMX59vEAKX10QmHIBLHSeWheSxckys2U6fPm2OFVrNRUVGWb7WZyUwoQjw3M3rORtrsvHBxsy0ftmXU0+lmgzczbdskXN9m8ns7JNrBa8B7nLO75RrB39TW64rvEZwmvyM1xlL4/BsPHb4/chjiO8tn9FG0DIdXpco1vB6RvGH486bNw+srcUOCMEi7jDDc5ZYJzITSJsSUAJKQAkoASWgBJSAElACSmCiEFAR5wq2BG8em8QWpVp6hrMoa5FYAGVlZkjNjpdN4HGtFOedNStZvO6TzQ0hewy2trQZ/+7GlibY1djj6NGjpt7HsePHhuZoY2drehPayE2kq5sr6hvrTSF3ufM0AhBticJrIhAsGTzsHbhIMhECJTPH0rs9MyMDe/bukWXJxi3ir79qLZdjFiIjI4ydjLmZliCsxVZiaMb6QglcJQEG2rn/McBiI+KinezDDLozIF9TW4eTYk1G/3lmejQ2N5lAflR4JPJFJCguKzHBx2LxxWcAhkF5J7HzsZV6E0sWLZa6EbFg5lliYpJkWSRIps1g5pplUXkcss2W+hB8XGvjMhSLGOssomi4FBzvEPGBn7GWw4YNG6518pNifNbq4CNJeDKTsES2zaFDB1AgPaO9xZLKT4JaF0XoYWCNbBgUYxCM5xY2fsZmCaIxyMYaAxzO8pkZ4P0/luEt43B/4mcUctxc3YyFDsejHVa8ZN2wsP1DDz0kNjphwyejr5XAlCXAcyuPi37pBNLV1YE9e/aKiHPcrG+EiK9rVq9Wa9Upu/Wn7oqxbs4Dn31QMnEDcC79nJzfp2Pvrt0m68bV3VUsM4MRIVm3eXl5aJBsUV4HeCzwemNpFlHG8jzyc8s1is+Waw2HZdYOfz/wOsOsHFqjOUp9LRf5/REn15kvffnLiJNaTszAsdRfs0xbn5WAElACSkAJKAEloASUgBJQAhOFgNqpXcGWOH7sGP7858fxwot/M9YOd99zD7betRXHjh5GUEgoqiurcPzoMaSI/RBvGOnbTVGGGTTMjimWzARmzwRKMW56yRcWF5rpcLh5c+eYm826mnpTaLmypgoUdRjoZoFmK/Hgttyw2lhL4Ve5oaW1w/o164wFEt/HxcVj1tzZpmd6VkYm2iQbYv6iBcYvfPHiRSZL5wpWUwdRAp9IgAEW9givEpuUkOCQ9z3rC8172p787H//19hk0RaQIk2uZMwwY429XrkfW46P4MBgzBG7krXr10kwJwERkeFwlYAKe8hagv+W/f4TF+oqB2Bw6Lntz+OCZAnl5ubizNmzRpB67LHHTE2cq5zspB2NWYUU4wJEuKlvaBQ7tZM4duSIsVY7cOjgoBXN+2tn2ZZ8awmWcbtZ2shtZwmukbll+OHj+km9o5UrVmHmrCQkJyUhTM6bvr5+kp0VbGx5LNPVZyUw1QnwXFRSUmoyFM6dPY1tz22X9yUmO+AnP/kpNm/eLL8nPlrvZ6pz0fWbGgR4DaCgwmxNZnqyk9HFi7k4LPXYmL371ltvmc4EFDL5O/hSzXKtYRcC6/d/V/C6YrnO8Nki/lC4iYyMlI4JhYgSEXTr1rswfcZMrJVOTwHym5yNy8BrlmW65kP9owSUgBJQAkpACSgBJaAElIASmGAEVMS5zAbJy83DW2+8aWpkFErmDYuqr1u3Dq0SjO7t7hG7szocOnJQeg5GoqSiDGWV5Ua46e7tkcBjKILDQhDq7odlreFoF1El0lMsGvwi0TcgxZzFCq1XblCdpcaDg4sjTlXnIMzRDx7WTujs7hJ/COBkaSbq28UCQoop80bVwdoOL1cexcnGi3CU1z0d3WY6dta28HB2lfo57rj55o1SwHWaFHO3RxeLxcp4leUV8PPzw02SWTBXBCNtSuBKCbSLFRptAc+cPoXd0mO2urbG2G+Vi50gLbmWLVkmWSxOKCkrRT5976XgPTM5GDRhNho98ekzHzstBl1SG8dGaq2sWrMKayRzjTs5xciEhHgjcI5HwWAGiZh1w0wgWhvufW8//vGr/4ivfOXLJuhzpZymynAS90Jff5+IzzZmlSjo0IaGz9kXcuScVyPvB4vH51zIQk11rdnOnl4eMl4/0tPPG3Gagh0t1SyNwTHuL5zWYsmsYS0Cfs/9Y/OW28z5yUOyDincsJc0HwzucT8aKQZZpqnPSmCqEvj+978vNbpeleOuydg9NUoW8LRp0/BP//Q1fPGLX5TzpvNUXXVdrxuIgEVw4SpTcOH1geIOxRy5ZMDZ2QUHDx4y14AmORZ4vfb28hKhpxHsrMSaks4uTjh95qypn8Y6lOFhYSgtL5OMmkTMTEqW64iTqTfJ3+6+kt1Ju1Bf+T3sItbGXl6eNxBtXVUloASUgBJQAkpACSgBJaAEpgIBtVMbsRWLpE7H4UOHsPPdd3Ey5YRkBvQP2i/Y2pl6H319vTiflYFjJ1PQWi92UU62iLcPwIqwWPgFiJ+2s9wounnCzcsN3g5uiLJ1g5WHFfycpdaEo4d0WxdrCGfpsc67VEZN5UbU3qYXwY6+sHN0NwIOFynKMQAdvV2mlyHf21nZIiYoAvmdVejr6cWJ3LMY6BtAvXMXCq2lpkd9M1LPnYavLAPtqxok+2fRokVwl4BoVVU10k6lSS9DK2Od5CwZD9qUwOUI9Mj+xYybne/uRLEcDxeys3FWAiVNUieF2TZsDMB3tneYXbhVaqk0SC2ndnnPxsC7j6+P2JPEYabYkyyYP98MT/u1mZJlQds0Ns6Hdmzj0eiFf/DgASMuODjYo9TYqjlhy5YtpobVeCzTeM+TpySLgMNlofDCB9uMGYmSTdVqMqoYbCsT4S4jPQMuri6SbRgmweZWpKalSeDNWUQ5J1MHqUbsJ/madQX4nJ6ejg033YQwCbTRko+9nxcsXCS1b1zNPPSPElACg+dP+XFg6ooES50wZvCywPpmOTepgKN7yFQhMFygZwaMlwg0bBRcKOLTAi1WLM44XGMjrVn7jI1gsWSpVS+vNL8deP3Jy8tHZVUl/H39JfvcGxXyOjZ2mmSgRxtrNNq90jKU1mnalIASUAJKQAkoASWgBJSAElACk5mAZuLI1mOPQNa7OX/+PA4eOIBdErw+LgIO23qxe5oWHWNuFHMKciFmQLDp6Id92wB8RKyZM38uVrrNQES3CDQSBF0cMlu8GewgZt6Dgo0182ikiXhDQehSzdpaAtkD4oFPUef9Zi3WaUOKjvlMvpMMHPPo68aFujyZRz+KPdpw3qka9RW1SM04g5CZ0QiKDUN7cwu+8uV/ND3eWby8vr7B1JlgwVZfCbDzJtkSoLXMU59vTAK0NamqEnFQeroy8E4Lk6ysLLzwwgvIkLpLlsZgCoMtfLDnLIcf2djbNVAyLVZLts1tt92GqMhIUyyYReo5Pj3umWEx3o3HxCP/+V0pXjwH3bL+2bK+vVKD4vHHH4O3BIK0fTIBWjxRtGH9mg7J2KqoqDACGINvbNyPPKXns+U8Uyh2NrSQnAjb/5PXTodQAuND4IjUz2PNvT45V/pLPTwGsmMlE8dyXI3PUulclcDEIFBbVy/101z0eJgYm0OXQgkoASWgBJSAElACSkAJKIExJHDDizgMRhdLMPJvf/sbfvHzn5se4iwezMB2fn6+sfrx8vZCf1+/sTZr7+vCJt95+ErkJszwixadxUYElXzkNpbCxc4JiwMT4Whrf1nB5nptW6kuMjQp06NRBKDTFTk46FyAHPcGONs4YPbc+ci5kC2BViesv2kDvLx9THCeNhTTxOKKWRLabjwCFC3ZuN+0SGbNWakF8+Lz21FTVYNjKSmmVyvteyjWMEOFdj7MmrhU4zT4oKDDjIoH7r8fQVIrZ+myZVhrbNMuNdb4f3by5Ek8/PDDWL5sqdgdtosdoQduu/N2rJdewMwy0qYElIASUAJKQAkoASWgBJSAElACSkAJKAEloASUgBKYCATGv0v8OFKgpdKzzz5rBBxaMcxOmoX46QlobGvGX596CnMXLTDF2Tv7uxFk54WfBt8DJ2t7qUljDx97t8ElF4uHSPdABLn4iPWZNewk2H25jJvrvqqi41gxHs+HBNJn+Ech2joMlV0NSK3Lwa6qnUgvvoDWJrGOSjmKv3/oC9Jr3huRiZI5JEKVthuTQEVlFXIvXsShAwexd99eI9rMTp6F4lLJrJB6C6z/xOLaFG6YOWMRcCh48jG8TY+fjjvvugNLRAzxk0L03K/sxZ7MSbzoJ2qjHVitZBwtXDAfEZFReO+99+AgQufNGzcaQWqiLrculxJQAkpACSgBJaAElIASUAJKQAkoASWgBJSAElACNx6BG1bE2btnjxQPfgWnTp02dWe8pDh3drZYKjlaYX7wdPxh1TcRERUFW6nZ0d3bAzcbR0x3Y+YNrc/EKq2/13h0c5dxsLGHg61YCImY0i+2aGPRBjizwf8yu8EXDpIB5GDlBHdZFic3G/j0eWBzUAJKbStQKfUsmrvaUJVTZYrP10ttkjmzxfpN25QmwAwZWqXRnif9fIYplE2BpV4sSVqlxk13d5epX9LY0IjGpkaTfUMgzEQb2Vhw3luKBwcEBSIuPt7UuokW3/kZIgqGS1H6yZLBkpWZaWpEzZs3Hx6yPgnTpyMyMkIFnJEbXN8rASWgBJSAElACSkAJKAEloASUgBJQAkpACSgBJTDuBG44EYe1G44eOYJHf/0odu/ejcQZM3HTuvXIysnCheI89Hb2IN5zGT6/+E6gu1P0Eck8kCwXPg+IldoAuj+y0Uzmjego490Gl6MfVnbWCPcMRrj8ExUKvb4NuNBTieYmd7yRew4t6EKXiE0MyjtLwXHWtGCNHG2Tn0BzczOYacJ6JZWVss3ff//ee/tQWFBo9D5XVze0t7UhODRY9m2YuiUusi+EhIWiU4oA19bVGXs02q6xnomfny+CgoKlUHAUwkJCES7ZNsmzZ2HunDmTEliziFfMLkqcmSy1ouqxdMlSxIi9oDYloASUgBJQAkpACSgBJaAElIASUAJKQAkoASWgBJTARCNwQ4k43VILZo8IN//z//8PUlJPmOD1osWL4Bvoj7d/9X+IDI/A/VFrsNImFuhsAIPYE0Cb+dT7jFluZgtBHiJE2TjYIdEhAsgCzva5oz1SsnWsnYyNnI/UyVm1aiUSEhLM+pr6Op96jjrCeBCgtRntzvol26ZL9u2ysjJkZGQgQzJN3nrzTZw5c8YsFrNkCgoKMG/OXPj7++NiXq6pdXP2/DljjxYplmL/8A//gPCwcFSUl0l2Whoys7LNuIkzpmPV6tVYIkJHQEDAUJH68Vjf6zHPEqnx4+cfgM2bt8DdwxNt7W2Ii5uGeMks0qYElIASUAJKQAkoASWgBJSAElACSkAJKAEloASUgBKYaASsJOA/QxYqY6It2PVeno7OLvz4xz/Cnl27ERQQiMLiQhRLtkKrBHHdfDwxN3k2fhbxEGY5RaBfCs3YSH2bqdQk4cK09oEeONrYId+6Dr/q2ws/nwAkT5+JpKSZEsQPk3omDmorNUk2fElJqQgup5CdlYGXXn4FF6XOjaWODQXLnp4esyb8jLZq1tbW8PLyQlhoGEKDQ+QYKDKfBfkHmjo2gcEB8JDv4+MTsGrlSri4uMBJMrUcZJ+wtbU1w052kW+XHP/e3t5mf29obIS7m5tZP0vdn0my6XUxlYASUAJKQAkoASWgBJSAElACSkAJKAEloASUgBK4QQjcECJOfn4+fvnLX0ktmCIJYntKoNsWz7/2EtrqmzHNPQRfmX0HVsxYgHnO0SLe2Elhmx6pbTMZc3A+ea+1ho1Yalmhs68DWTZVKF7mCO+EUAR7BsDVwQkBkqmhbWIS6OjoNHWb0k6mIuXECeRKRs2gXVojioqKTVbO8CWn4EJxghk7bJZnfubo4Gis0dauW4e169bIceENDw93ODk7w0tEjqDAwOGTmjKvz51Llzo4HoiQ7CQKXfb29lNm3XRFlIASUAJKQAkoASWgBJSAElACSkAJKAEloASUgBKYegSmvIiTlZWFbdu24bRYS/lKoNrR1Ukso8rRdb4aHjYuuDl6ET4Tsxrujl4ibnSjT2rfWLJWpt7mHlwjylM2IuTA2g6VSVaodexEl4cNbKd5w2HABj4SxPf09Jw0heqn6naqra1FcVERymV/rayqMs95eflIP3sW6efPo7ePlnmDzZIhw4wZ1rFhhgnHb2ltNQPY2dmJlZofQiQDJzgkxGzf+Ng4LFq8GHPmzYGnWIvdCK25pQV2wogZRtqUgBJQAkpACSgBJaAElIASUAJKQAkoASWgBJSAElACE53AlBVx2Ms+Ozsbr776Kl5++SXc/8CDKMwvwKm0U/Dpc8L3pt+PZUHJgJ0j0NMhmTeD2QoTfYNd7+Wz7rNBXnkeyoJ64HR7PMpa6xAQFIhoKWLv7+en1mrXG/jHTK+rqwvt7e0mu4b1bdLT03HwwH6ck+ecnIsmc8QyOq3R+GBjDSSKN3xmZglr4MyamYyyinLk5efBTQSd0NBQzExMlNo2S7B0+XKEipCjTQkoASWgBJSAElACSkAJKAEloASUgBJQAkpACSgBJaAEJjaBKSni0Dbqrbffxi9+/nNcuHABDz5wPxwdHbH91ZfgU2eDR9d9A/P84+BgY3/DijfDd0sG/9HbjwFPB3R9IxG5NSUY6OpFZGSkydgYPqy+Hh0CFG9SU1Px3r692P78CyLa5BhBhtuG26FVMmoqKiqMPRo/s2TecGlY74YiDcUa1sGhuLN5yxYsXLgQ0xMSEBsba0QejsPv+Dx8/NFZI52qElACSkAJKAEloASUgBJQAkpACSgBJaAElIASUAJKQAlcKwHba53ARBu/r68fJ0+exK8ffRQHDx2Cm6sr0qT4+7kLmfCLCsJnlmzCIpeEoWD4RFv+8VgeE9i3tcZAax+cn8hF2GZ/9Cd6wLnfYTwW54aYZ3NzC+rqavH6q68hMzMTjc1N6OzsRENDg8moYTZNb2+vEW5KS0vNZwTDzwKlXg2t0viaLTkxCUmzZ2H+wgVITkqCt9gG+vh4G1s1V9n/WQNHmxJQAkpACSgBJaAElIASUAJKQAkoASWgBJSAElACSkAJTD4CU07EuXgxB08//bQRciTyjfbuTpw8cxpL3eJwR8RG3By8GDbtDpKB0zP5ttYoLTEzO1giB5KQY5XXBI9Ddui3d0ZfnCsam5rx29/8xtRTuf32OxAQ4D9KSzH1J1tXV4dzZ84aUTG/sAAdkn1z/OgxtLS1gtljbW1tsJXaNazZwkZRh58zS8fSYqKisUzs0Dy9vGRYW3hJ7aI4qW0TKBZ4EZKxEyHijzYloASUgBJQAkpACSgBJaAElIASUAJKQAkoASWgBJSAEpgaBKaMiMMMhtzcXOzbtw979+4Zqh9i0wfE2gfgu0s+h9V+s2DV7oi+gS5Qs9A2goBAGXCxhU1qDax6+tEt5YJa7bux9729sLe1Q1hYGDZt2jRiJH37cQQ6O7vQ0tJssm4yM7Pw6kuvYOe7O1FbX2dGs5YsmTCxQqOQ1tzcbD6j1ZmLszPc3N1N1o2dCDuseRMUGIQlixdj8dKlmJE4AyHBwR83a/1OCSgBJaAElIASUAJKQAkoASWgBJSAElACSkAJKAEloAQmOYEpI+K88vJLeOHFF1FQUAgHBwcT9Oa2SfSNwu9W/4vUwImHlQTC+/tVwPmkfbbP3RZWWfVwahBW/zwDjz3+GHa+tQPnzp7B+vXrQVFB26UJUIxhjRrWpuHzqVOnkZJyHDkXslFbXYfS8jJY2VibkSnMREVFgZZnjY2Nhiut7WiXljRzptS0WYDEmcnw8/NFpGTZsO6N1rK5NHf9VAkoASWgBJSAElACSkAJKAEloASUgBJQAkpACSgBJTAVCUwZEedCzkWcPn0GTU1NJhhOCyq/yCCsnrcSC/wTYGtjiwGxptL28QSsrayRXpsHycfB9KZIOPw6A5FfmoGYOTOQsucQtj//PJYtWybZI2Gwt1cxZyTNvLx8pBxPwdHDh1FWWY6cnBzU1NSY+jUUdmiRRnGHjTVtmH0TGRGB+fPnwcfXDytXroSPt7fUtfES8cYPdvb2pqYNhTMVcEbS1vdKQAkoASWgBJSAElACSkAJKAEloASUgBJQAkpACSiBqU1g0os4FGsOHTyA48ePm2Lv3FwMlvtHhWBd9HysdZ4hWTn24hPWJyVfpOiLto8nIFZezd3tcCQzK1tYV3bA5tUiLJgfhY7lHXj1yRdM7RzaqjFDZKq3ru5uqV3TAU9Pj4+samtrK7KzsyRD6RyKS0pMTRuKiAUFBUg/l46GxoYhWz+O7OjoaAQwbx8fsfOzgre3F+LiEzBjekMfx/AAAEAASURBVAJCQkLgLvZp4VLTRjOdPoJaP1ACSkAJKAEloASUgBJQAkpACSgBJaAElIASUAJKQAnckAQmtYjDLIajR47gT3/6I9LT080GtBcrtYjwMNw+ax3Wu85EslWwZOCogHPFe7fYgQW5eKO9tws17TXwdvSAdWoV/FwjMS86Cgd9vPHqa6/CxcUZt99++5Bt3RVPf5IN2NnRgaLiYjQ0uKK+vh4VFRUmm8ZPsmYo1hQU5Bsh5/CRo/ARNnZSO6hchqmqroKHu4fJpvHy8kRQUDDCRKBZu2atvA4Ea+Ew4yYsLPySAtEkw6SLqwSUgBJQAkpACSgBJaAElIASUAJKQAkoASWgBJSAElACo0BgUos4ebm5ePLJv+DtHe+Y7Bvy8fDywJZbt+A7Nhvh1+sjn3Shf0Bt1K503yGraK9wlDRVIKu+GEuDZsLK0wE4WoqgMkc88HefxW1bbkO/WIL5+wdg0aKFYqsmWTtTqNHmrEPEG2baFBUVmbo29Q31yL2QgwsXLqChqRERoeEoqyhHSGgwQoKDRcDxwfJlS+Hk4ISMzCywts2alasRFCz1bZKTsGTZcri5ucPdzRXOzs5TiJauihJQAkpACSgBJaAElIASUAJKQAkoASWgBJSAElACSkAJjBaBSSviSMII8guLcPrM2aFaIbSjoi1Vh2SRdKDbWKj1QwWcT7vzDPT1mGwcf2cvWIu9Wr/AtrIagK2zA4IjArFp4804mXICv//979AvdYaWiXhhaztpdyWDh8INhRda8VGo2bdvL45IltdZsUorLy83NmfhUgeItYB8fXxRUFyIwIBAtLW2I+XESYSHhMHN3RPLV6zAP33963B1dYGTk5PhQza0UhOIYqKmTQkoASWgBJSAElACSkAJKAEloASUgBJQAkpACSgBJaAElMCVEZh0kfcBERROnTotdUjOYte7u1AsVlcUEtjcA7ywbO5CfMlqJfz73eSTHvO5/vl0BFg5yMbKBrbWFHAG2Vo52MKmugfBr9Ti7+9+CC2dbTh27JjJKlmyZPGnm8EEGrqwsBAXJaOrvq4WqampSEs7ZWrTONjZo6O1AxFidxYfF4vmphbJPuo3dmr1UusmKjoSyUmzEBMTg0CxRwsKDBIRxw2+vr7w8vKaQGuoi6IElIASUAJKQAkoASWgBJSAElACSkAJKAEloASUgBJQApOVwKQTcQia9l1Hjx7Fznd3oqurazATx94KswPi8JDfKiS3R8hQffKvXzMfrnLPHID8Y7qTNGsra9R1N6OltBwOJbaoXd6FkLBQ5GRk4a233kJycjLuv/9+sVfzv8q5jd1oJSUlyMvNQ11dHYpLipGRkYHKykrY2FijtKQUVVXVSJ6VjL7uXrSInZqtrQ0C/AMRFxsPb7FMs5FaNgOyX8XHx0vWVxiioiInxXqPHWGdkxJQAkpACSgBJaAElIASUAJKQAkoASWgBJSAElACSkAJXC8Ck07EsRJLKh9fH9TV16FRapPQqspaAvBhIaHY4jMfi7oTJMTeYvioddV12k2EeWtXOy60laGmrxkvPX8C7uG+iImORl5ePn7605+KmBGF22677TrN8PpMhhZpLS0tIrpIZaTOThRI1s3+9/bjyKFDoJjDjJrGxka0tbXB09MTkRERWLN6DeYvWoCC3HwUFRehr78Pri6uWLV6NWbMnInIyAjYipCjTQkoASWgBJSAElACSmBqEWAHJt5raFMCSkAJKAEloASUgBJQAkpACUwkApNOxKF12gvbn0N2dpbhSAEnJDwMX4rchA3es4H+9onEd0osS78IGREeYeiw78Mfyg6ioKEcXRX58PHyxoZ1NyEn76KxIWN2Ch8TofX19aGoqAhvvf02rKTWTZpYpe3dswfV1dWmvg1Fv5UrVyE4LAQv/e1vyMzMNLZqLq6uSJ4zCxtvuRkzExNNjSWuj+WG3vI8EdZRl0EJKAEloASUgBJQAkrg+hBgp566+gaxyA2AnZ3d9ZmoTkUJKAEloASUgBJQAkpACSgBJXAdCEw6EaehsQnPv/Aiampq4CP2Vq1trViydDHWui9CFIIw8H59nOvARicxnID0SuyTnJYmEclCQ0Jw7sw5dLZ3IjgwGOXl5XjuuW0ieASPm4jT3d2NKhFoWpqb0dTULBlCucjMOC+ZOK1Yu24dwsPCEBgQiEP7DyA0PMQse1lZKZxdnfC1r33N7Eve3t6mpg2zclxcXUwGjoo2w3cCfa0ElIASUAJKQAkogalJYOe77+KHP/gBVi1fiW988xuYFhs7NVdU10oJKAEloASUgBJQAkpACSiBSUdgUok4zKL4zW9/i/PnzyM4KEhqlQSgsLQYRVVlGHDuA1ycMNCrmTijshf29yDI1gNf9l2PHR3n4ODmhL6OHlTVVKOjowO5ublISUnBHXfcKTVi/EZlES430Z6eHiPWULDJzctDY0MjmLEVnzAdnZ0dqKgoB4dxcXbGgkWLMH/BPBFoXMzkKNjMkIwbPz8/WEvGzmRol7P6uNznk2GddBmVgBJQAkpACSiByUugtrYWtLENDAycdCuRknJcMrKz8PIrr5h7DD8vH/PbdtKtiC6wElACSkAJKAEloASUgBJQAlOWwKQRcTqlpsm+ffvwOxFx2tvb4ebqDicJyjvZO8KqpA19ft2AK6ufaBsNAn0DvfC29cR93iuRW1qBysBwVNZXI78gf2h2mRmZOHjgILZ+5q4h+7GhL0fxRVdXlwQOeuAqVmjubu5wdHCEn78/AgICRNCpx+HDh+S5Ad4+XkiePQvz5y+QbKLgUVyi0Z00s4OqqqpQLHZxbXIsxMTEmHW1t7cf3Rnr1JWAElACSkAJKAElMIIAf5dXyu8SWxvbSSXisINPZmYG/viHP+DQ4cMoKyuHg4MDWiTLv6Ojc8Ra6lsloASUgBJQAkpACSgBJaAElMD4EZg0Is7hQwfx16efNoXoiau2vhYVdVXorG3GzzZ8AYnu4UCfCDnaRoWAFVjktRd9ff3YbD0Tff79eL2jSW54y2BrO7gbFRcX48B774l92RrQmmysGn3L3dzc4Cs33uFhoWa2ra2tqJFeocywefDBz5qbcstyjtVyjeZ8XnnpZfz3f/8PKqoq8K/f+ha++pWvmFo/ozlPnbYSUAJKQAkoASWgBIYTYOZzRkYGbOS3oH9owPCvJvzrkpJi/PrRR/HSy6+Avxv5O5Hrk3oqDafOnEHSrFlwcnSY8OuhC6gElIASUAJKQAkoASWgBJTA1CcwKfyjzp49h3d37UF2draxvLJkIlRKLRbrAWssCEiAm6OH3HiJpZq2USPQPzBgMmzmBMTD19kTHf0fiGa0IisX27J3du00dhSNjY2jthwjJ8wMFCcnJ9jY2Ax95SJ2aWGhoabWDV9PJQGHdiXHT6SgWKwE+fpvL76IkpKSoXXXF0pACSgBJaAElIASGCsC7ExTUlyCgvwPsrPHat5XOx/zW+p4Cl6Q31AUcNj5iA+KOGw///nP8Mxfn77ayet4SkAJKAEloASUgBJQAkpACSiB60pgUmTi1IslVl5+Hook04NiQagE5xvEHmvAwRrJSbNFwBmsb3JdyejELk/A1g5zbcIxqy8I2ThnhIQgqVHEm+CKigqkppzELTffDNabGYtGUW9k42dTSbgZvn5cr/j4OASJ73y3WIGsXr3GZBwNH0ZfKwEloASUgBJQAkpgLAg0NTWjqalpTLOwr3a9urp7sHPHDmPRfEjsdtva2jEtOga333G7+U21bds2qbPYgjyp9Xjq1Clj4ews9s3alIASUAJKQAkoASWgBJSAElAC40lgUog4x48fR/q5c6Z3HIPzfPRK1k2Ihx9ujloEGytJKNIsnLHbj/p7kGwXig3B83G4JRtttU0mC4aWZt3d3Th58oQR3EJEbNM2OgRu2XSLWHw4oa6+AbfeeitCQpT16JDWqSoBJaAElIASUAKXIzAgWdrV1dWmkxUwYDrzsCYhO11NtMbaPa+8+ir++tTTOCQ2zZ1SU5E1cObMnYvNm7egUYSo/WILnJNz0Sw6HQCOSK2cmzZsmGirosujBJSAElACSkAJKAEloASUwA1GYMKLOJ2dnXjzjTeQKz3iaNdAyyzWYenr60OU1DvZbJUIeyuuxsANtunGb3X7B/rh4uSJFQnzcHdUs1h7ncC58+lwdHA02Tenz57BCfksNjZWM0RGaTPNnjMHfGhTAkpACSgBJaAElMB4EqiurkJAYAC6RBTZv/8Atm69C7S6nUiNYtMZqXPz/e99D4WFheB7S0uYkQDfAH/JLJcOYkHBuCj3HGzZWdn42wt/w+zZc+Dn72cZXJ+VgBJQAkpACSgBJaAElIASUAJjTmDidZMbgaCjowORkZGm5glFnKioKCPm2Hu7ICEqFjP942BrZQMKC9rGkIBVH7xa7bCsIggxIZFw83BHfX09isXyjkLb8ePHkJc3eBM8hkuls1ICSkAJKAEloASUgBIYIwImE6eqEl2dXcZSLTMj3XS0GqPZX/Fsdr27Cz/+4Y9RWlpqMvotlrs9YkubEJ8ALw9P2NjZwC/AD9aS8c9WXVONV19/Df/6L99EWWnZFc9LB1QCSkAJKAEloASUgBJQAkpACVxvAhM+E4d1VVj/hmKOo6OjEQi6+3txi998bA1aBny0HMr1ZqTTuwwBG1jDpnsAxRUlaJF6OGz9/QNioWGFt956C0uXLMXixUsuM7Z+fC0EeExUVVWhU4ImIaEh8JLjxBKQ4HQZVLHUCmoVv/fU1JMolwy2zo52cxzFxsVjxowZcHHRelLXsh10XCWgBJSAElACNzIB/tYIDA5GQ2Oj/Mbo+FCGy0Th8vqrr+Hxxx/HkWNHQKu3yspKU89xrtiofevb38YtmzbBw8NDflN1YlpsHHol25+N61ZbV4sdO9/Bg5/7LIJCgocEnomybrocSkAJKAEloASUgBJQAkpACdwYBCasiNPb24suqa/SLzdSzPBgdkd0VLTZKv0i4iz2TsBKv5kYkNcDaqU2Lntrn9Qh6rXuFwsNfwQ2BaKyt9xYaXBhWCg2S7zEa2pq1FJtFLbOYfFof+ONN6W3ay9uve12rFq1Et5eXkNzYuCB3u6pqanYvXs30tPTUS1Biw4RceztHRApGW3R0dFYsGABFi5ahMiIiAnpXz+0QvpCCSgBJaAElIASmJAEmptaUCdiB0UQG/n9MdyqbDwXuL29A6+88jKe+suTSE1Lg7OzM2LkXoK1NJOSk/HZzz2Em27agOKSEkTIckdFRWL58hWIiY5BzsWcoVqcdfV1eO655+Dr64t58+aN5yrpvJWAElACSkAJKAEloASUgBK4QQlMWBGnta1N6uDkoaiwALW1tYibFotZSUlISTsJ9AJ+zl6wc/VFf3vDDbrpxnu1B2BrbQtvJ3eEeoSgpr0R7S1tqBKhgIIbW3l5OTIzM0VgWDXeCzvl5n/8+HH8+c+PG9aBQUESVJj7IRGHK8xivP/3y19i3969xpve3d3dZOFYWbWhsLgIr732mqlb9G3phfr5z39eRZwpt5foCikBJaAElIASGF0CrFGZef48unu6pTaigwgfg9nAozvXT556dXU19sjvn+9//wcmE9nTyxOhoaHw9vRG9JpofOGLf4/lK5YjNy8fO3fuxNq1azBv7jwsWrgAd2/9DJ7Z9gwKpHaOtbVkncvv2hdffBEJCQlG/LEXe2dtSkAJKAEloASUgBJQAkpACSiBsSQwYUWcNrHnSnk/UM0CpMuWLYWDkyMKCwoNnwErKUgqmSDaxodAv7D3dPHCLOsYfO/os6jraYGN3OgOb7TvypWejCriDKdyfV6zYLCTk9NgfSh5bfFvt0y9oKAA27dvNwIObQjvu/ceybhZjJiYaSLkOODsuXP4xS9+job6BuSLWDrcis0yDX1WAkpACSgBJaAElMDHEWBNmbKKcslycYKrWLT29o7/b3N2/nriiSfw3e9+1yz68qXLzW+misoKU0PzS1/9stj9LjYZQ85yb+Eg4pO19WAHJGdZh3/9zrdQWlGGGhFu2qRTGRuzjPYfOIBZs2cb+zXzof5RAkpACSgBJaAElIASUAJKQAmMEYEJK+Kw1xt79+Xm5hr/6q6ubpw+c8b4U8fPT0Kw1AGRO8UxwqSzuSQB6W7pINZci8SS67X976CiomIoC4fDswdj+vmMS46qH44ugcOHDyEzI0OENRusXb0G3/rWtxEl9mm0WWOvUtqILJTt1ipiaVBg0OgujE5dCSgBJaAElIASmJIEurq6kJ+fj7CwUATL74nxFnFowfzII4/gmWeeQWRkpOkE1t3RjXaxk125cgUefvhh8xuIG4O/ifjYsWOHsZWdIwIN3zNz+dvf/g4iIiLx/HPbcTHvoqnB+d6+faYUp5+vH+bMma0dYKbkHq0rpQSUgBJQAkpACSgBJaAEJiaBCSviNDc3o6io0NRYYZYAMwuaW5pNUPpm7zmY5hQomTgq4ozrbjUg1YisACcfN3T19hjvcAoEbBTh6urqjAjH+kaa6TG2Wyo35yKqqqrg5e2F5OQkzEhMNIEJy1Kw1+kiqYXDNlG86y3Lps9KQAkoASWgBJTA5CDAzGAvqcnnJFm/pkmi/Hi1jIxMbNv2LBoaGrFp0yZZjAGx+a2SWjfRWDdvvfzuWYjkWbOG7GOZRcTajfXye/Xs2bOIENGnu7sLyUnJYp0Wj61bt6JesnqyfpNlVonD0872qaeekszmH8Pb23u8VlXnqwSUgBJQAkpACSgBJaAElMANRuDD/lcTaOUbpCddbk6OCTw3Njais6MTjmIfJRFnrLOfjigbP1laFXHGd5NJXRxYY3qPPwKd5EZW9iaLIMCejGwNDQ1oaWkd38W8AeduY2tnrEFo/0H7ENYmulyzbKvLfa+fKwEloASUgBJQAkrgUgTYKYT2rn19/dLxqntIILnUsKP1WVNTI44dO4a33nwTR44cwcyZM3HnnXfC08MDLm5uWLxkCe4SQWb2nDkfWj5mEZWWlopw023Ge/IvT2LH2+9ILc46s6gUcu7cehdWr14NT09PU1ewX7LQ9+3bixy5R6FjgDYloASUgBJQAkpACSgBJaAElMBYEJiwmTgdItrU1zcOMYgWKyhvXx8cP3IUCb4RcHT2QH93+9D3+mLsCfSjH84DdngIK3A69BzyG8rQXFn/IUu1/v4ByaBqgYeH+4dunMd+aW+sOc6ZNxdxh+JNTZzntj8Pd08vPPjAA0hKSjJ1dJgZpeLNjbVP6NoqASWgBJSAErjeBChqVFZWwlbsW50dnOW3+thnp1DA2fbsNrS3tWPDhg1wcXXFqbRT6Ovpx//8z/8iLi7W2KCNXHdmilOwKS8vR35BPqolg3lW0iw0NjXBP8AfdvJbiXUd33jjDXzpS19Camqq+Q3lKtM/ffqM2K1FIChILWlHctX3SkAJKAEloASUgBJQAkpACVx/AhM2E8dW7Lh482RpNbU1qKmrQbRYItja24mVWr/lK30eRwLGNaOvR8SBmYiLjR3KxLEsUl19Hfa9tw8dHR2Wj/R5DAjcumUL7r5rKyLDIkD7jz//+c+45ZZb5LEJf3niz0OFesdgUXQWSkAJKAEloASUwBQlQPvc1StXwcnZGVk5WSguLTH2umO5uoFSi2fR4iWYO38eci9cxJNP/AVl5WX4znf/Q+4bIi8p4FiWjx1auA4tzS1iQ1sN2sP5iBXt8HsQN8nm+eY3v4mFCxea9XzgwQcRHx8HijnalIASUAJKQAkoASWgBJSAElACY0HgA5VkLOb2KeaRnXMBp8+exoBkcvAGi73leuThbO8gN2Ni1TWOntufYjVujEFlc1Ck6ers+sj6dsrnJVLbiNtP29gSuOOuOxEUHIyjx45i1853cebcWRw4cBAVFZV4591dWCO9SzfevFF836eP7YLp3JSAElACSkAJKIEpQYC//9xc3STb2grt8podR8aytbW1wdfXD0nJyUhJOQ5Xdzc89JDkiK9cYYQW6/ftfS+1TLy/YC1HS2ZyU3MTyirKTbbNyOHnSYbzA/c/gO3PP48XXngBPV2daG1txTTpwBQrj+Giz8hx9b0SUAJKQAkoASWgBJSAElACSuBaCUxIEadTPKorpBAp7Qxo+8Q6K5aecrRtMArOYMmVa11/Hf+6ELBCq9S9oY3FyNbT3SNFYevGvFfmyOW40d7zmAkMDMTtd9yO+QvmIykxCQcO7sdJsQK5kH3BeLmfPX3a2IfcfvsdWLNmzVAQ40ZjpeurBJSAElACSkAJXB0B/t6oqqmW3xDWcHd3/0hG9tVN9crH4n1C/4AY/Mr9gZ+vrxFuli9bDh8fn0+cSK/UtKEQM3hvIaUdRdDh67q6Onh5eX3IBtha7OKWLluGjKwsbNv2LKxknt4+h8RSLRJr163FXVKDxyIGfeKMdQAloASUgBJQAkpACSgBJaAElMCnJDAhRRzeCPKmzNLs7OzMjRELj9rZOlo+1ucJRIDbDNILc2Tr6OxAcVGJZuKMBDPK74cHEkJCQvDZz30Wt91xm9TI2YeXXvwbDh45hMKiIvz6179BVlY2Zs2adUUBj1FebJ28ElACSkAJKAElMIkIODk5gRks7mI55i3193r6xzbz2sHBAY0NDagX4WXu3LlIloyc4b+BPg5lj9xX0Kq5T8QcNmYUBYs1W35+vukIQ1FqeHOTLJ85s2dj6dKlkvWTMjReWloq1q1dC09Pz+GD62sloASUgBJQAkpACSgBJaAElMB1IzAha+JQCrC4H7CHHwuH8oasWILOA8ZH7aNiwXUjohO6KgL9sl36ZVsNbxTimiSbav+hA+js7Bz+lb4eBwL0dL/t9tvwh8f+iOeeew6zZs8yS1FQUIBDhw5rnZxx2CY6SyWgBJSAElACk5kAf58vWrgA02ckiIVrICJCwz+UwTLa65aeno6urm4sXLRI6jMmXbGAY5aLdmrshPR+47pQ0KmVDPIuEXhGNtbrXCdZN48//jgCAgKGvi6S+5O0tDSt/zhERF8oASWgBJSAElACSkAJKAElcL0JfHDncr2nfA3Ta2ujNVebmQJvqCoqKlBTUwP2tgsPCRevasnSMbZq1zATHfU6EaBw04/liMZ672QEhAaZ6VJ8szRmUGlNHAuN8XvmsUSrEIo57EW6cf1G+Hh5o76+HmmpJ9De/lE7vPFbWp2zElACSkAJKAElMNEJ8LdFa3Mr6mrq5Ld7B+zt7QdrV47RglNMiYqOQpBYyPI3zrU03mscPnoEFGW6xdr5Uo3zCAsLw6ykZJN5ExoaipvWrxcbt3gwK0mbElACSkAJKAEloASUgBJQAkpgNAh84Fk2GlO/ymmWlpairKzMjE0xgDeE7BlnIz3g3Fxdr/km7SoXS0e7BAFKNVaShRNi7QnvPie0i33ayMYb3r7esbXXGLkMN9r7i7m5oE0I6+J4e3t/ZPW5Tbq6u6QIcTucXVxMj9PhwttHRtAPlIASUAJKQAkoASUwgkBPTw9K5Hd7bl4+rMRWt7ev19So+X/svQdg3lXZ/n9l772TZrXp3nu30ElbNoIIqAioIOrrQHmHr/707/u+LkRFBJXhYAmUWWiZ3Xsk3dl7773H/75PeNIkTdukTZrnSa6DT571Hed8vt+nnnOuc193r82G7K3mvtE+jYpJV1qaW5pRLPl9QsNCLyrI6KKyh77xDay89hqz3VyxcQsPD7/S03N/EiABEiABEiABEiABEiABErggAasUcfIl8qZc/K1VtNESHByMyspKNDQ3SgBOmyRNvWB7+MUwEWiz70BFTRVqSitNPqPeg+mGxr5XNA5TdUf0aTXy6eWXX0J+XgHmz5+P9evWwdXNFe7u7qbdDQ0NaKhvwIGDB9AgNncBQUGYOm36RScsRjQwNo4ESIAESIAESOCyCGj0SpEIH5XVlZK30gk1tbXSV2+/rGNdzk6WscLl7NvXPirQ+EgunO65OXtvp4vLbrjxBvPo/R3fkwAJkAAJkAAJkAAJkAAJkMBQELBKEUcFAE0OqhYFGpGjUTi9860MBQwe8/IJaBRHb+HGcjT9rkJEOB3U62pJlqEj0N7egfyCQmx+fTNOnDiBN9/YjA+3bsO0WTMwb948c+IjR47gVMIJZKRnmPeBsop108aNxmZt6GrGI5MACZAACZAACYwkArooJD09HS2tLQgNDkWARP4GBAai4yqKOIPNU3M4frBtK2bNnAlvEXNYSIAESIAESIAESIAESIAESMAaCFiliKMT/dXV1cjJyTHCgK6ysx8EmwRrAD4a66AiTllZqUn46iHWXSxXTkCjbXTyRJ/1YRE57cXKJDwsDD/4wQ/x/PPPY8+e3Xjtjdex9aMPjBWhCm11km+qpqbGrDK99dZb8dBDD/VpuXblteQRSIAESIAESIAERioBzQEzY8YMk7OyrqkW4q4LR+mzOzo52WyTdcwREhYOF1dXm20DK04CJEACJEACJEACJEACJDDyCFitiGOib2Qlnw6mioqKxPapAW4enXZQI+8yjPwWtYpn+tW01xjpRBcvXoSvfvWraG1tw4IFC4xAY2mzs7MTNkpkTXR0FI4ePYozZ84gKzsbpWJ30tjQKHlyQhATE4sFCxfi2muuwUxZbcoIKQs9PpMACZAACZAACfSXgEbOd0gUsJe3F1zcnI21mq3k2NMsOqb/022hmNa9ob7OuAD0lwG3IwESIAESIAESIAESIAESIIGhJmCVIk6jRhg0deZQ0cgBjTRobWkdahY8PgnYDIGlS5chLm48GiXXUMSYiPOs0Pz9/bB8+XLzyBYBJyU1FcVFhTIxUQ9XWV0aN36i2KvNpXhjM1ecFSUBEiABEiAB6yOg0b2ukkdG+xaNTY3IzMq2mUU7umCsrq62h/2bLjiqlLycLS3N1gebNSIBEiABEiABEiABEiABEhi1BKxSxKmurkKN2Klp0RVxUVFRqJScKvVNDfKJrptjsTUCutLxQjlzbK0t1lBfPz8/6KM/RX8/+mAhARIgARIgARIggcEioH10tT8eGzsWOdk5SE1JR0VVhc2IOC0SJV5eWnpe1I3ps3K8MVi3CY9DAiRAAiRAAiRAAiRAAiQwCASsMsu8v38AfD6boNYB4pjwCAT4+ZtBoeb86OZ6MAgIeIihJqDijX9AIFzFO52FBEiABEiABEiABEjA9glo/y4oKAibrr8eZZXlOJt0VqKE44wVsi20zkUiiEJljOHo2HNNm4499D8WEiABEiABEiABEiABEiABErAWAlYp4gTIhH9sbCwCAwNN9EZpWRnqxJ9aV8zl5uehpVWs1ajkWMs9ZOqhA3kd9PZV9Ds/P1+T7Lav7/kZCZAACZAACZAACZCA7RFQAcTTywtxY+MQHRUNZ2fn8yJbrLVV2m9tFUu1erGatRSNwgkMCoazCDwsJEACJEACJEACJEACJEACJGAtBKxSxKmtqYE+tKgAUFNbgwbx2W4Tn+pq+by9rZ0ijrXcQZ/Vw66tAx5u7nDxdj+vZjpI9vL0OO9zfkACJEACJEACJEACJGC7BDSHTFZWJkJDQ8RWLRYlJSU2Y6fm4eGBWTNnYuXKlV0WtTru8PD0lIVHPaNzbPcKseYkQAIkQAIkQAIkQAIkQAIjgYBVjlAKCvKQnJyEUvGpdnBwMINBI9zoijmJwqHFgfXcepYMRbUOzbDzdEKAvz+K6wt7ROXoqkwXF1frqTRrQgIkQAIkQAIkQAIkcMUEdKFOakqyLLKqkkj5ZuTn50OjWWyheHt7Y/26dabPWiG5Nw/s32+q3SbROX3HlttCq1hHEiABEiABEiABEiABEiCBkUjAKkdZAWJjEBAYZHjrirjc3FxUyuCqtbkFGRkZxlZNRogj8XrYYJtExumww/GgcuzvSEd+Zm7XddPVmSrgxMTE2Iw/ug1eAFaZBEiABEiABEiABIaNgPb1EpOScPLU6fPyywxbpfpxYhVrqqur4e3lDVcuNuoHMW5CAiRAAiRAAiRAAiRAAiQwXASsMhInJjoaYyIiupioGGAp+trRzkHs1CjiWJgM77OsVbTrwJyaEEys9ce+zyqj18nTyxMBfv4IDgiCg71cMxYSIAESIAESIAESIIERQ0AXW02ZMg3paRmoq67DmMgxcHJyson2abS/j4+PsYCrq6s1ddYoouDgYLg4MyeOTVxEVpIESIAESIAESIAESIAERgkBqxRxxo0bh0mTJnXZMegA0RR9kkdOZSFiPENgr1ZrHecEnlFyzaysmXJBRFBLLMpERll+V91UxBkzJhIrV6zE3Dlz4O5xfq6cro35ggRIgARIgARIgARIwPYIaB/d3g5eEs2igoiDo6PN5MRR2K6urggKCoSbm5thr2MOFXAcHLhYzPZuRtaYBEiABEiABEiABEiABEYuAascoegquClTp2LatGnQwdS5SBw7kw/ncJPYdrVVMhrHCu5Lo69JZNQ7BQexo/SERNycu6XmiHjz5Xvvxe13fh6aPJaFBEiABEiABEiABEhgBBGQnDgVFRUoLilGdm4OUtNT0dzcbFMNjI2NNQKUVtqIOC7OXQvJbKohrCwJkAAJkAAJkAAJkAAJkMCIJXBuxt3KmhgdFYV169ebXCoWEUdcu0yi0cOBRch3F9uDdqutvpXRHOLqyArMyuIyoEoG7UbVgaxqDMLqVauwaOEC+Hh5mUHxENeChycBEiABEiABEiABErjKBBwl+uZsUqLkxUlEQX4BGhoarnINLv90HSJCtba2di0Y04Vk2ofVPD8sJEACJEACJEACJEACJEACJGAtBKxWBWnT3DcyKFRrNRcXFzPA0oGVDraOxsejoKAQsoG1cBzF9VA7NQdxuZNnKXp99DFv7hz4+vqirr4BmjiWhQRIgARIgARIgARIYGQR0D5fUUE+6mprTMNUEElKSkJjY6NNNlQXjhUVFaOpqckm689KkwAJkAAJkAAJkAAJkAAJjEwCViviODs5G/GmtLQU/v7+5qEDKx0cpiWnoqqyCpBtWIaPgFpOtLW3obA0G7XN9T0q4iE5cGpra1FYUGBEnR5f8g0JkAAJkAAJkAAJkIDNE9C+oIenl0SuuJi26IIrzY3j5ORkM23T8YWKUVr0WQUoiwuAzTSCFSUBEiABEiABEiABEiABEhjRBKxWxAkMDMCkiZOMaKNXQAeJGpmj0R1obENJdTnQXNcVATKir5KVNs4O9mhGG/Z3ZKC0Q+ztuhVvb19zrVxdXegr3o0LX5IACZAACZAACZDASCLg4+cHF1dX0yTtr6sVmYo5tlC0vl5i+6tR/1r0vaenh9g5M9rfFq4f60gCJEACJEACJEACJEACo4WA1Y6wvL29sXTpYkRGRpqEqWVlZXCVAWJYWJhE4NjjdEUmTpWmws5GBokj8obqsEOrXTsO+uSjzLnTNkNXMOojduw4zJ49GxERETYzkB+R14iNIgESIAESIAESIIEhJNDa0tIVuaIWuvn5+TaTF0dFm+DgYLi7uxtCKj4FBgaKqMNo/yG8ZXhoEiABEiABEiABEiABEiCBARKwWhFH29HQ0Ijk5GQzmFLxpq6uDmlpabBr68CW0iN4pWg3YO/MaJwBXvRB29zBweS7OXzwMMpFZNOBsAo4akGhXuKtrcyFM2iseSASIAESIAESIAESsEICZSXFqK/rjMi2t3dAYFBwV2SLFVa3R5W035qVlYWqKrFpZiEBEiABEiABEiABEiABEiABKyVg1SKOu5s7Zk2faQSB8opyIw60yGo/ezt7lJQWIT7jDHLLs9HW0W4EBCtlPCKrpdegobkWxwoTkSRCW31tvRFwdPXid77zXdxyyy0ID5eoKRYSIAESIAESIAESIIERSaCyshJHjx6TtkluHA8P6Y8DoaEhYkfmYDPt9RQ7NbWA06ILkUpLy2Ts0Wwz9WdFSYAESIAESIAESIAESIAERj4B6xZxxNpgwcIFRhzoaO9AQECAsebSiA+0ABk1hfi44QxaOlpl6GjVTRl5d5KIOM1tLSirr0JNbQ3Q2m7a6Obmho0bN2LGjOldA+KR13i2iARIgARIgARIgARGNwGNYtEIltNnzqCkpMT00VUEKRA7tTYbicbWMYWHhyecPhNxtE0a+d/W1jq6Ly5bTwIkQAIkQAIkQAIkQAIkYFUErFr5cHF1wTwRcTQ/jiYc9fHx6RR0ZIClJb+1Aluqj6K1Q2y7RFRguYoEZNDb1N6CkpZqQS+imvxPi69cI39/P3OdOj/hXxIgARIgARIgARIggZFGQLvjTc2yoKe8HJq7sqamRqx0W3HgwEH5rMwmmquiU7NYAHcXnRwcHRjhbxNXj5UkARIgARIgARIgARIggdFDwKqVD7VluFVsuUJDQ83AMDs72wyqdNWco6MjqorLsX/3PrS2yGo58eBmuYoEJBfR6dps/CbzLTS0ieWEDOTDw8Kx6trVmDVrFpycnK5iZXgqEiABEiABEiABEiCB4SDgYH9uONGmdmRlpSLu2IYdmYpOpaUlaGxs6EJnZ1mZ1PUJX5AACZAACZAACZAACZAACZDA8BI4N+oa3npc8OxqzzVj2nTEjR1nxBy1Oeheatoa8LTjHuTai40DHLt/xddDREDz4VTVFCMhJxEZWZnQAbuWmNhYrFi50qZ80IcIEQ9LAiRAAiRAAiRAAiOagLob24uAo9EsGjXv7+8PF7Elu+H662Vhj23kRdRFRxMmTDD114sVJvXeuX07iouLR/S1Y+NIgARIgARIgARIgARIgARsi4DViziK87oNGzBp8mRZKVcqHtVtXVZdGpHTIlZqW1L3oayuCnB004AQlqEmIFE4x9tzsbcxRXw0xMruM+pjxkRg6bIlQ312Hp8ESIAESIAESIAESGCYCbRIJHxFRTmaxVJNF11pBL1GtuRJTpyGhnORLcNczYueXscVubl5qK2tM9uVizXcsfh4aVfFRffjlyRAAiRAAiRAAiRAAiRAAiRwNQnYhIizavUqEXEmoaWlBUGBgXB0cDBCjq7+a5PBYlLCGRwtSkJ9ewXExfpq8hud52ppxJ6yM9hflWTs7TraO6WzmOhohISEjE4mbDUJkAAJkAAJkAAJjCoCHdC0iJ6eHqaPrsKNijgJ8QmorKy0CRIq4qSnp6OqqrO+NdXVaG5pNu2xiQawkiRAAiRAAiRAAiRAAiRAAqOCgE2IOF5eXli0cBGuW7seK5atMKv9dNClkTjtbe0oKywxuVleKt8rvg4uo+LCDUcj7YW32tkdKUvGzqP7kJ+YaazTOiQSZ86s2ZgxfcZwVIvnJAESIAESIAESIAESuMoEnMU6LS5uvDziTOSNRsw7OjohIiLC9NWvcnUu63TahrCwULi7uxtruHHSlrjYcXCSdrCQAAmQAAmQAAmQAAmQAAmQgLUQsAkRR2HFjY/DylXXIiQsGKLedPFTIcdBInPOxp9AcmIS4Oze9R1fDDIBO4lzEt5P5m7FkZpUc3B9HxIcgvseeADrxfaOhQRIgARIgARIgARIYOQTaGxsRHJysom+0b64lvb2NhQUFqBBvrOFoouT8vLyjRWc5sPRSCLt22q0PwsJkAAJkAAJkAAJkAAJkAAJWAsBmxmhTJw4CStWLDfcAsVSzdXV1SRS1Q90sAVJzbKv4iy2Vu+WgZeD2DvYTNOs5V64aD00Cqe9vRUZ1QU4nHES5dXlZntHR0dMnjQJ8+bNRWBgwEWPwS9JgARIgARIgARIgARGBgEVQFTIyZccOHV1nTlltE/u4+0DJyfbiGTR+kbHxEgfNgh+vr4IlYVJJWWlKJecOO3SPhYSIAESIAESIAESIAESIAESsAYCNqN0uLq6YOzYsfDz80dsbCy8vb27RBwFaSf/xZen4akzb6OsQXytZeCln7EMEgEHZxTWl+MvJ99BXnEh0HruuDfeeIO5Nuc+4SsSIAESIAESIAESIIGRTEBFHM2DU15ebux2ta0qiugCH138Y0ulprYG9fUNZiFYRmYGcnNzu4QpW2oH60oCJEACJEACJEACJEACJDAyCdiMiKP4XVxcMH/BQsRERsPNxbXHFXFwdEB9SRUOHz6CbZkHUdVcBzuJyGG5cgJGDLN3RHJFDn51+CVUNtfAQazVtERHR+Pue76IoKCgKz8Rj0ACJEACJEACJEACJGATBJqbm1FSUtqjrm3t7SgqLkJjU1OPz631jdqnffzRh4g/dgy5eblIy0hDcXExqqoq0SLtYyEBEiABEiABEiABEiABEiABayBgUyKORt+sW7cWmoS06bPBYVub+Kh9VlTIKWqswEPbf4ucmmKTH4dGCBY6l/9s5+CIytoSnC3PAuSOsROrujbxPF8wfz6eeeYZiY7yu/yDc08SIAESIAESIAESIAEbJHB+7hiNv9F8MrYSh1NTU4N3t2xBVlYWVJTKy8tDREQE4uLi2L+1wTuSVSYBEiABEiABEiABEiCBkUrApkQcvQhubm7YeP0mTJ85AxHh4Vi8cJGxcNCVdCYPjlg71DTW4dFTz2F/4WE4OHmP1Gs35O1SSwx7icCpaqjCM6ffxa+PvWwicDra2jF9xgx88ctfxuLFi41txpBXhicgARIgARIgARIgARKwOgLtEn3jK/lkgoODof3xcskpo4KILRTNsRkcEAg3VzdTXbWC27hpEyKjoros4myhHawjCZAACZAACZAACZAACZDAyCbgaIvNW7ZiGTKzMuEqlmo11dWIGzvOWCDU1dcbyzUfHx+xVDuEEO8A+Pv4YaJDODokcqRD/mPpHwG1UGvvaEd1Yw3+fnYbnj31HjIq8rt8zteuWYPrr7/erLbs3xG5FQmQAAmQAAmQAAmQwMgh0NGVn1Ij4/Whgk5edi4apE9uC8XJyemzanaOEfT9uHHj0CwR/5WVlfD397eFZrCOJEACJEACJEACJEACJEACI5yAzUXi6PXw9vLGTTfdjJXXrERFVQXmzZuH8PAIc6kcHByM/YFjXRveSt+DP2a9J6sCm02iVZPbZYRf0MFonlpgqIVaY0sz3haGvzr6MhLLsuDwWY6hKVOnYtmyZYiRfDgsJEACJEACJEACJEACo4+A2qapxbH2vdWWrKyszEBoaWkVMcc2Fk51SAR/fmEBauvqui5gS0sLdGGYxbq56wu+IAESIAESIAESIAESIAESIIFhImCTkTjKKiIiHBoNkpqSDHd3d0RFRaKqugqlpaVIS0szOCtyirGneS8OuszHvJBJcHFwEWuEczl0hom51Z9Wh912Dk4orC/Ht3b8HrXN9SYCRy0yXJxc8KUvfRkLFiy0+nawgiRAAiRAAiRAAiRAAkNDQAWc0NAQI+JYzqCRLLPnz4Wvv+3kSzQ5fMRCWIuKOhpNNF5y4oSFhVmaxWcSIAESIAESIAESIAESIAESGFYCNhmJYyEWKzZqn7vj82YVYJvYpWkOFx186UOLnb0dzpRl4uEdj2NX7nE0tTbBXsQJlr4JmGS0wqeoqhRvF+zCL8rfRX1bk4C0Mx7nzk7OmDdnLq5bv96IaH0fhZ+SAAmQAAmQAAmQAAmMdAKa96awsMjYqGlbPT09ES1R2pUV5WhqbLSJ5tdJBE52djYaGhpMfXXBUtLpszh75qwsDqu2iTawkiRAAiRAAiRAAiRAAiRAAiOfgM1G4uil8fLyxMyZM3Fg/35jedAoA0YVcvShxdHeEc1tLThenIpnMj9Ah5MdlgdOg5uLu6yyazXb8E8nAXu7Tj0vpzJfopeS8U7hQXyScggO8nm7CGRukvh18aLF+M53v4sJEycQGwmQAAmQAAmQAAmQwCgmoBEsGg1v6XerAFJdVYXCvAKbEXE06qb+s/w9agunwtS+/fsQHBqMwKBAY9k8ii8xm04CJEACJEACJEACJEACJGAlBGxaxFGGvj4+mDV7NoqKilBeXoEqGTzqoFKLxOSYPC76fmfVaXjlecC+Q4Sc0OlireYkETud25iNR/EfezsHAdGO8sYaZFcX4ZPq49iecRQl2QVdFhlzJQLna1/7Gm648YZRTIpNJwESIAESIIHRQ0AjmzVZvU7OOzo6mj6BZcJ+9FBgSy9EQEUPd3e3LhFHF1PlFxQgNy8PjY0SyW0Dpbm5pav+em/r/Z6ZnYWE4wlYtWqVDbSAVSQBEiABEiABEiABEiABEhgNBGxexNFJhU0bN2LB/Pnw8PDAL37xiz6vm7e9Gz4uPY4KESqc2u2xMGwqXB2du6zX+txpFHyoMUvi/o3c+hLEF6fA08kNiWIjUZSbayZsFEF4eDi+/JV78fkv3DkKiLCJJEACJEACJEACSkDtpDIzs1BeVorIyEixUo0wkRekM7QEWkVI0JVGugjJsjBpaM94eUdvampCfn5Bl52apa65+XloaOy0J7u8I1+dvTQKp6Ky0uTA6X1GF8n34+goi5xYSIAESIAESIAESIAESIAESMAKCNi8iGNhGBQUhC9+8YtoaWnB448/bgZkKvDoqjpdSZqTkwMJwsG7bdk4m5GCp1d/H4tCp8LZ0WVUWquJ6ZzkDJKIJXt3vF25C3/L+RhFYn/h6uqG1IYCg1W5BQcH49e//jVuuukmC2o+kwAJkAAJkAAJjAICu3buxI9+9COJdC7H3XffjS/fey+mTJ48Clo+fE3UaJZ33nkHlRJZPnXqVLNIycnJOvM5Non1WH5BvonUUmKmzy3PGs1iyU85fCT7c+ZO+2XLllpnFXY6S8/vLNvwmQRIgARIgARIgARIgARIgASGg0Cn79hwnHkIzjllyhTceuutmDJpMpxEwFH7D0tRj+vmhkbYOzmiyq0Fj+5+Gh9mHUJ7awvs7Vwsm42KZ3t7B7SLfVp6RS5eq/gUr+bvRk5dCZyDvZCQfRbFlWVmIB4bG4tvf/vbWLNmjYlyGhVw2EgSIAESIAESIAFDoKamBhnp6cgTe6yS0lI0S+QFy9ARqKmpxfbtO/CHJ57Ab37zG/zpj3/Etm1brVYQ0b62n5+fRAt1RqyoeOMgC4RmzZoJX1+foQM1aEcWX+VuRSP6x4wZY6KfNB9ku4g6LJcmsG/vXrz4wosor6jUADIj4iUnJ+PNNzYjPj4BtbV1lz4ItyABEiABEiABEiABEiABErgogRETiWNp5Yzp0/Hg1x/E7/7wO6SmpZkVdRY7Cl1bp7lwnJ2ckdhWhL8mvo8S+zqsnrAAUa2BJi9MhwzaNJfOSC32dnLJZZCdXlOA13J3YUt1PLJL8uFu7wInP39UlpSbyYLY2LFYt24dVq9eLQNx35GKg+0iARIgARIgARK4AAGNaHaTxPUNEh3iLPZSJoL3Atvy4ysn0NTUKPZ1Gdi7Z485WGNDA+bMnXPlBx6qI0i0u4MIOPJkikYMqagT6B8AJ+lrW3uxs7OXeupQqLMBGkmkYwaNyNHIdBeXwVnkVS22hFmZmWZ8ERMTC29vb2tH0+/6pctY65//+CeSkpIxa85s+Hh7mdxZZ06fxi9/+SssWrwE3/rWN+HpOa7fx+SGJEACJEACJEACJEACJEAC5xMYcSKOp5cXHv72N3E2OQlVr/4LpbJy1FJ0YKYDKY3QWb9mHY4cOozE1BJkRTXjoeal8HF0h5O9JO6VQV37CBNyjH2agGi2b0FyRTbeydyHP+d+gLysHLS1tJrImxQZtGqC2sjIKGzatEks1G42A1mNYtLJGxYSIAESIAESIAESIIGhIaCRIHFxceaRm5uH6bIwacLESUNzskE4qvYPi4qLuiLftf6hoaEoyC9EQ339IJxhaA+h4pPmvrGIULW1tWacoCJOgNg0+/j6XXEF6urqsEdEuRf++Q+0yyKq+x74KlatWtWVd/KKTzDMB9i8eTPe2/oevLy8TaSexUavWeytDx46hPSMDGnvtRg3jiLOMF8qnp4ESIAESIAESIAESMDGCYw4EcdyPf77x/9tLMCeeupP0AGUZWWdrrJrk2ibs2lJ+Mm8LyO/sQx//+hNvO/wEf4t5gZsCl8AX88AiVYZOZYhRsARYQpwwGtOB/HnjM3Yv3Mv7J0lZ5AEHelKWxW2VKi54frr8dA3HsaiRYvMSjrL5xaufCYBEiABEiABEiABEhh8Am5ublixYgXeePMtNIl1XbAICRER4WahzeCf7cqPqPErlv61Hk0j2TWnjPa1LdEt+rm1FrVLq6tvMAuWetfRX6LTvUWYuNKyZ/duPPWnJ/HBhx8ZmzFHF1eJSvHEkiVLrvTQw7q/ijXFJaV4/Y03UFNdizvvuBOzZ8/uqtOcOXPwb9/5Dp5+6ilslm0iIiIwd+7cru/5ggRIgARIgARIgARIgARIYGAERqyIExIcjH/7t2/LisAQ/PjHPxY/5loEy2dq9VBQWID01DT8oehfCIuKwMTYOGhy1hfyd2BnczI2xSzCTT4rgJZmGZE2Q1yxPzNaGBjc4dzaDJ/FIg2OzmhvqMbRimR82pGMVMdStIue4xPsj4rScjP4VqFGrR02XHcdHnzwQSxYsKDLQkIFHhYSIAESIAESIAESIIGhJ6AWXlOnTjHCguaXseaiE/kq2ERFRZkFU+1t7aafHRoeKnZkg2NFNqTtl/qr6KS5fLR4STS/WghnivWZv78ffHyuXMTxDwiQ4/qgRSJTLOfQ8UjvUlVVhU+3b8f2Tz/F5MmTsXbtOonIst7oFV0g9+47byNVct/Mmj0LN918c48mxY4di8/fcYcRcT788EMsW7qUIk4PQnxDAiRAAiRAAiRAAiRAAgMjMKJn6MPDw3HPPfegoqICr736GkpKSlAv9g5Ojk6IFsuwE6kpSG7Ix2zHmfASD+dqjzZszT+E00VpqBtXhfDoCMx3GQuPNhnEtYmgI3JOhwz2rDVnjr1G24gdHOycRHxqwc66kyisLkVJZRmSa/NwqCMLriLqNFTWwU4SBOnAVR+BgYFYsXwZbrjxBsRNmCAROTYw8B7Yfc6tSYAESIAESIAEhECb/P++tYsDA71Q7e0dsihFl68MbxkstvYayWKiWfrfnsE6d//P2LmlCjlqnaX9SY0eKisrg9qs2UJ2Sc2J4yqimZ+/P3Jycky9GyX/kxZd9KWPKy3jxsXh83feKbml3MzCqVtE7NColN5FRZwPtm7Dyy+/bPrj8+cv6L2JVb2vrKzEiy/8E7V1tVi4cCEWLlrYo376b4yKUQtlYdi+fftw/Phxc49o5BYLCZAACZAACZAACZAACZDAwAmMaBFHcQSJFcVPf/pT+IglgobzJxxPMKsbJ02aBA+xM0hLT8Ox4/FQwWfypMnoKGuQgVw2fop/IdYhFl92XYoljnFwcHeGH9zg4egq42oHEUlk9Z78N9zFRNzIQF8Hy02tzShrKUOjCE61bY34VfZmI0i1N7XA2cEZzlLvcsl/U1RUZDy/NfpGRan58+Zhw4YNYoMwR1YjtstgvBluDq7D3TSenwRIgARIgARI4AoI1NTUiNVRjURJ1KJKcgJWVVWjUSbaQ4KDECARAv6ShN5HIg8up2gUry6O0VyDascaLhPTml+kr6LR0AUFBeYrHx8fiXDw6Yr47b19UWGRRE/XwFEm0P2kfhod0WnP1bmlCgS6OKehoQE64a6T3+XlFfD08kSgtMnXxxdBIcFwdJC+WrdSW1sHnXiur68zNrKRkZGXnKSvFn5Vso+ex1VssMLF2syh23H1eNr+Msm/WFpeLiJAi/Q7A+El/Uutt7+IA+7u7t1qcemXGrGhgoI+az9Nj6HROb2L8te8jyqaaB3KKyrFpssDfnI9la/uq1El3dn1PsaVvtdjq4iTn59vBBA9nr4uKSqR/Ci6+Mm6i+pkTs6ysEsiiXKys000kd5beo2V+WAIDhrRc9NNN+L66zf1uHd6k1EBLCcrG9U11fKV3SXvzd77X+332cJr1+495t+RKSLW9BW57+rqittv/xzHFv4fAABAAElEQVSSJFpHRZxDBw+K2LNoSO/Jq82B5yMBEiABEiABEiABEiCBq0VgxIs4ClIHmd//wSPYsGkjnnjij3j66adwNikRt0uYvw7A33n7bTNgbpTolYfGbcKUabfj+drd2PH+DnxQuwWRMVFYO28FbuuYiaXB0+DjJuJHR6f1wtW6UBc6j4o3KuToIDqpPBtPZ23Fh+UJcOlwQGpamrGQ0wkAXSGpJa8ozwz21ev7mhUrERoWAr8Af3jJpEdYWNiQD/hNJfiHBEiABEiABEhgSAmowLJVVvZ/Irk4Ptn+CfJkct0SWaACwRzJX/HVr34VX/v61wc8Wa19jkoRhP73//5PIp1fxQSJ4v3TU0/LYpiJfU5U79q1C9+R/BgdHe343Odux1133Y3p06ed137tq/zy/36BDz/6EDFix/TQQw+JrdQaIxLpxirg6GTwC//4J44ePYq8wnzk5uSa46ioERoSio3XbcB3pc83ceIEibw+181NSEjA888/h48++gghISEm4iEuLu68OnT/YOvWrXjppZeQkpSMeXPm4vd//IMRlnQbFaZelO/efPNNJMTHG2HJXib/NXm9ik8rV67E/fc/gDVrVnfVv/uxL/RaxS6NIs8US69bbrlFrIH/zfDtvr1ySpaJ8ccff9ycX/uy2tfVz1XAmTFjhrG3uvuuu0w/sPu+g/1az2sRtiyvVfxQgcTai94zDQ2NCAsOxdiYWNQ11BuO+vsIDQuHu4fHoDXBwuhCB9T8lSqEdLKzbnh6j+7ff8DUd+6c2RgTOabPZum/NytWXoPoF17EieMn8Pqrr2OBRO3ofcJCAiRAAiRAAiRAAiRAAiQwMALnRrcD288mt9bom5/85MeSNHY5vvSlL+FXv/yVDLJXSC6Y9di5azeyJALnyeJXERYYApcwHyxfsgxHE46hQgbHR1JO4v30bZgcOQ7RMdFYFDoVXw/Y1Gl3IYNAGbWLlZnakw2duKM2bg52csnULg1yTnsHFFcVIae6yNhBPJn7Prak7UF1Qx2iZIVpdHS0eJK7Qlfi5ubmorW1BRPHT8Q3HvoGrr/xRoyR6CM7sR/RQaMOVL17rXa1yYvMSpMACZAACZDAKCagQsezzz6Lv//979DV8qWSfLxF/v9fi0aHqACj0QbHRHjQhS15OXl45NEfmMn//mLTSdhAWQCi4oFG9+r7pKQkiWiINOfofhyd8E1IOI6UlBTz8ckTJ5C7fHmfIo5GlOzeuwenz55BsOQ0nC25Niwr/M+cOWNEmC1b3kN2VhbqJRJHi0abqHVTmUTCFBYVYvNbb2Dnnl14/He/xw0S/WApS5Ysxiv/esUs2tHonYMHD4mdbJDs72PZ5LznTz7+2OQo0XOMF4HKUpf09HT8/W9/wz/++U8jtujEuwpDYSIi5RXkGyZvSPT3qVOnJC/jT0y0s0Zk9KdorpE0WYRTXFxsIp16T3ir8JCYmIiHH34Yhw4fRuNnHGZOm2GiflIlwnznzp1QXknC8euS61AjrYei6CS9Cmdx48ahQeyKte6aXyYnP7fr+gzFeQfrmHZy3dzcXCVyKxDz588z99Bp4abXubKyAtVyn2hE/2AX/Q32vq4ukkMoJy/HCHHad9dIqoEWZZ+RkWGOPU6uyZUWHTs4CAt//wCJsjtnLZeVmYXtH39irvWSpctEZJzY56lUuFJB0U/ufY0w2rN/r4hUFHD6hMUPSYAESIAESIAESIAESOASBEaViKOD7NDQULOy8Re/+CW2bHkH+Xm5RuDQFauT4iYgMy8bCdmJ8KnyQbiswmsROwhdMKaRLTeNXYojLZl4J3E3jmckojqmTEJggNDIcIz3icDYam8E+4YLcvF7loGUzJRAZhY6L4HYlMnITL6yDF7kWb/Xh+UzPZHUsauIxztMxE+bEYcc7NyQ3ZSPHTWnsdguFj6O7kh2LsUOh7M4fjAB+yoTUVhZAscOmcwoLjUTNWq1oSsKdQJiugykfGUCZ9LkSZgnFmrdB2Rd5+QLEiABEiABEiABmyWg1mbFRcUSPZICDw933PH5OzB+/HgTkeEpNl86gXzs2DG88+67OCOT/E1iFbbpxuuxSGyOBlqixkSKbZmjRPjWYNf2HZgr0T0qFHUvSYlJOHzoUNdHZ86eNVa2XR989kLFp7NnE1FcUmw+UVFErW4tRe3TVJRSsWjR4sUm10ZMTEyniCOTxdrf2bN3ryRbf8eIINu2vo/xkhheF/Bo0T7gjGnTjN1ZZWUVdkgSeY1GupCIUyORNqdPnzYLYTRJ+4YN18mEv5s5lkbeqFCm0U1Tpk6VxUDXYdHCRXDThTNiXadRMgcPHjDXITo6ylwHs2M//uhEvPbbtOjr3pP9OrH+5JNPYs+ePca+buOGjbhO6hYTHWMswNTO7MDB/SYPSVzceLHM8+/HWS9vE4vtWFlZubG3U8Z6HVWEUkHH2ouKfx5id+chC5myxcIuR9hmiUCo7XIW8UI/v9KiHI4cOYJ35fem11MXkc2W+85SXpVINhXlNPIqS+5vLYcOHcTPf/7/GWFQf6+az3PFCnEEuO02y25dzxp9te39rYiXSLPM7ExjLagjDbVL1Hti/rz5WLNuTdf23V/oIq/dch/pb2GSCDG33HarEXM1yub1119DYWGh3IutxgLt61//mrEJ1PuxQgSuxOQk055p8psaM6bvSBzLuSZPnIwPtn1gREm1/VMbRxYSIAESIAESIAESIAESIIGBERhVIo4Fja5w+/73vyeJOOfjn2LJ8ZGstHSVFXD6eWxkNCq8fMxKuIzMDOODbu/siIaaOkyPHYsCGdRnlucjrTwLz7ltNwk9g5uCMcUrCjPKAjEtSMQVD2+4SgJTtfHQgZcOsNSr3c3VzRxP66HajaOjg/HibmxoMlXTQXtjU2dCVf1Afbq9nTwQZucNL2dP1DvWYXttIl6p3I8Ob4n6KW9ChkcV9jel4uOk7eYYDhKd02bXZlZwqp+3u0w4qO/7nDlzcLPYcmRJm3TColm8tyniGGT8QwIkQAIkQAIjioAmGr//vvsQLLlhbpB8HBMn9lwpv379dWLeZIff/f53SJd+wb59e030rtqqDqTMnjVLxJSFOHDogJl41ugFIKbHIc6IEHLk8BEzIa59Eo3cSU5O7bGNvlF7svj4Y6afpJZgGt3RvQQFB2PN2nUiEnlj08ZNWLtureSA8ey+CWZKfXJlMl6t1vbt3QONvrGIOLqhJl+/+eZb8Ne//tVMXN8kSeYnT5nc4xj6RoWI06fPSGRPkflugoghc+fONYKKfqc5PlTA0fKFL3wBD0q0i+bjsRTtz+nEfWpKstRhiRGQLN9d6lknyVUM0dJbwNHP8vLy8OKLL5q+5TyZoP/a174m1mk36VddZZNEIL377ju4TqzlugthXRsM0gsVGLSPq2KhRq/oexURVXBTwcIWitZf89Gckeut19Tb20vyNxWavJkDzWfUV3t1HKCRUY899pj5evr06T1EHLXre1tsnbXoddfophMSraaP7kUFld4ijkbC7ZJj/16iznbt3oVWYe4s++sYQ6PvnB2dxM5vLRycHLBYhE8d53Qv+pvbJpaBTzzxBFYuXY7Fcq9mZGTiN7/5Dd56682uTQsLC8R68YGu+1HzMGnUm44z+vNvxnixLRwbG2sEIT2+5ozSdrKQAAmQAAmQAAmQAAmQAAn0n8CoFHEseJYtWy5h/jNxVAban3zyMZ559jlMkNWqmyR3jg5sjhw9ZvLK1Iq9R3pRDr6Z9bjYlEUhxD/ICDKREWPE+iAXafFJOFZ5UKJuZO2bRM8EhgaLt/ZYSa7rYyZHdHA4efIkkzg1NzvXnL5dtvPy9oS/2JHk5cpEgAy4yivLUSCDIh0Iq12GX1AA5gVNxK32M7EyfBY22x3Hey0n4G7vjEN+BTiWmYCSpBK0t7aZfSyDfR046+AoUuq6QOwhNOpmurRz1qyZMvgf/1mi4J4THxYmfCYBEiABEiABErBtAhqZoY8LlRARd1Zdey327t6D+BMSySsRLMulT9SfCdnux5whosnsuXOwV2yS8mWit04mrHuXlPRU5Iq9loog48fG4cOPP5JIjVSJuClFUGBA18SwTnafPHkcddL/mjZtKqZKhEv3Eimr/R+4/3589YEHun/c47VOFm/ctMlE0JyVCKAsSRTfvcyYOcsIQc/89Rmo7dhJsTtbvXq1sdTqvp1GKOzYsR1quxYTFWOibCx9rHKxbdPvLWWJTI53F3D0c+2D6aS5Pga7qEBkOf/kKVMwTtrcu6gF2H333d/740F/3yZR5hq1crMIhbo4KFOiWNTGS6/lYAggg17hXgfUvnZZeQUK8gqRnp5hRM91koNJ8ztpuwaj6H1jieDS46nw0b2oQ0CwCJQ67lCBUEUlFVv0HrLUQcUajUzrXvS3tu2DD/DoD39ohD2Nhpko0TRq6adimv4eEyX/5wcffSBRM4l44YUXzrsfVTSyXCc3iUhKku11YZsKOCqkxorwonWaP3++GdPo+eslh1CasNIIoyly/6kwe6ni5+9rxh5Z2Tkilp0WgXbsgOwbL3V8fk8CJEACJEACJEACJEACo4HAqBZx9AKr5/TSZcswRyYX7pREu2++/gZ279opgwtf3HP3PYiQQZGnp4cZIP2/n/0U6WIR0SECjA6wkmWFZZsIKBo9o/YhmthTtBhjP5BwLB6OTp1ijC6JKy0uwT4ZEHbI4EwHaPKRDM7sjde0HkOL5qxxkhWM0VHRKBRhp6m+EQlNHUhCGt5yOIWcikLkVxQb0Wb77h1mpaPWRQdrWmLEVkT95HWVqw7yg8TDesH8BVgvEzk6qNbBmrbXssLT7MQ/JEACJEACJEACo45AYHAgwiJCcew4UFJcaibeBwohTuzKJkwYb3ZTq7Oc3Lweh2huaRUhpNr0oxYtXCD9pCg5X7yxrtqzZzduvOEGswhFd9JJ4UOHDhshSMWWeTJx3L1YRJTun/V+HSb2a/OkP6cT4Doprnlluhe1mZoo9V22ZCl279sj0Q7HceLkCWPN1n27RpmoPn38JGqkT6UizQKJ4LEUnUxXqypL0aifWSJm+fsPnW2Z5Vz6rP3PUMkXVFhYhMOS1+f4sngjenXfZjhet4gg4uHugVgRvc6KGNDeIRbCVl7s7OyNiJidl4Oq6iqEyCIsXUgVJRZ4KmJcjfK///u/+PWvfy2i4Q7cKPkqtdx22+fwwAP3S96o6SaiSRdn9bYpfOvNNyXf0o+h9nlTJ03BIz/8Aa6/4XqzKExzaGrZ/Ppm/O63jyM1Iw3PPvNXc+90t3LTbSxC0R75PRw8ckjEGl98UcY/3//BI0Zc0jFDd+EpMyNDovoz5TfmKL+b+fD2uXTunnFiVx0jbgZnxUrxpIjGa9asump8tY0sJEACJEACJEACJEACJDASCIx6EUcvolo/6EMHbFXik+7t4yWDOCecPXMWieLPHhDoj8CgQPz7Dx81fs67du2CPiwrIXViQVfzafJgLY31DWZFYousXtPvVLTxdXM35yiW3DuhMgGgg3DdXy0JTNGZBRlztcuqxgIZkDU1NolAVGESxbaiHUnFWWhtbEZbc4sMjDuMWKP76eCrUxSSVXeyn06CqCf7ckkavG7dOqySFaZxskrTMkijgGNo8w8JkAAJkAAJjCoCpZK3JFsmXzPFPq1ahBW1eDokNmfSTTE2UprXZqBF+xQRERGmT9MouXUSEuJNgvhxkkNGy7FjR82Er6+vn1idzTa5+T748EOcOnkSJ4+fwA3Xy6TzZ0UjXJJTOm3WoqOjTd/F8t2FnrX/c0YS0VeJ2JIjUTdpqWk4deaUscfSfWpqasVWqtXY21qOoVEPq9asxvFTJ7B/3z4j0ixcsMDytXnW/Do7xZ5KoxDUjm3uvLld32u/TiMQpsrjtJz7z3/+sznvtddcg+kzZ8p359uzde08CC/CJF/jHXfcKXlx/oh4EcSeevopZOfmmKhrzZvSfcJ9EE530UPovaMLiYqLSkxuGRUbNKJcrbzsRSCx9qKLpyorys39ohExKurExyeItXJMj+iZoWyHRfzTe95SdMFVtOSz0Tr1VRIlL9S2bdskeijd2OX9x3/9J9RCr7fQc4OIpGXyu/qP//h3vPKvV7Fk6bIeVm56bL2ftdTK+EEGEWJVuBH/LeLQ+M/EWfNltz863tHxjZOTs4hdmoepp0Vbt027XgbJGCpAnAeaJM9odlaOjHGau77jCxIgARIgARIgARIgARIggf4RoIjTi9P06VNl4BRlIlk0akYjW1rbWkVYKRCbhRARYlyMb/wsGairZ3ZdfZ1Z7an+3/rQwZBOauhKvu5F3+vKUEcRXVRQ0Yd+ps+WAZRur4PhiooK87lOHuikiJbaimrzbDm+Dvos1gv6WajYJ7i4OhsriOnTpuPLkjh1htQxJibGHMvszD8kQAIkQAIkQAKjhoAu7siXHCpqG6YTv7qCXiOKWyVCRqN2iyRSRfsl1bU1aGruzM83UDhq3TV58mSTw0OFGT2+RcSJP3ZMcmxkiJWSPxZInp7Jk6eYpOYqkqiVrYowWrSvo9vVyuIWZ5kc1lx+Fyq6WEXzg6RIXpoTIgapiKMCUIm0pUaEqCbpO+lEsxYVE+rq6iW64Fy0gL9E0awxlllPmST2CZIQXnOJKActNRLBE388QaKKcqB5BseLzW5vyyi1p3344W/g+b/9HYcPHxZ7uDST92e+RButXLlCrHpnGCuq7jZa5uCD8EejcO655x6pe6YR4vaKEKXXd7kIOBoVNF8EKU02HyJi1VAX7X/qo1byRrpK3kddZNQm7H1EhLBcg6Guw5UcX0UnvZ/UNk/73KZvLn31VlkwZYlyv5LjD2RfHUNYirLr/t7yueV5y7vvSh6rfdLvd4UKdzfceIPJOWX53vIcGhZqckf96le/NGOLHMkX1btY2qnXUReA3SX31oUEHN1X/53Q35iOdVzFSs3+s99N7+N2f6+L5LzknmhrF/cCcRmw/O67b8PXJEACJEACJEACJEACJEACFyfQU2m4+Laj4ltvbx+xHOu0UPjmt79l2qxCzttvvyOJP/9gomemiU+7JstNSUpFZk6WrGrNNIMtja7pa9CqAx0VZnSgpK8LCgrMcS2D395gdRCpRb+3vLYMsnTAqZ/p6jy1CdHBp66CXXPtaoSGh8BXJkqmTp0mVgWrex+W70mABEiABEiABEYBgQ6xskpKSsY777yLTz/+RCJuDqG6ptpYqmqkRows8JgkESN+sjo+ScQde+lvaJ/jcoqKOGqVplZJGr2sETGWcubUaRTKgpely8ZhpggbWvwkKkeLCiUakaz1yROh6cSJk0ZIWbp4ieQf7FvEUbFm9+7dksx9B7ZseU8id1JM9IFGU2tfaNLkSSK4eKBA8oHopLy2yd6+Z7tcZFvNz6N5gUpKipGamgoVm+bMmWP6V6lyzJ07dpqFNsuXLkfc2HGmvt3/aDTMffc/IPwC8acnnzQC1unE0zgafxQvvviCscX6whfukhwki+Dr62v6ft33v5LXymu+5Dv80Y/+W4Sisfjoow+Rk5OL97ZsMQ+NEvr6gw9ivURjR0VFDWlEifZNtd+ri53qZVGTRmVMHD+h05pPo8tFpNN+r7UWrZveIyoKqrCoC6Ri5bexQ6LU9P6x1rJ//34ThTNWrJLXrlvfJTipiNZV5KXe+5qfc6xExqnAp9aGVSJ0+nh7dW1meaHX8kuyAOyalSstH/X5XC4OAhWVFea6Gn59btXzQ08vbxGZOnNx6r1iGdP03IrvSIAESIAESIAESIAESIAELkaAIs7F6Hz2ndoa3CRJW3WworlmdGWnTnqcSTprVo7qANbT09NMIKi1gQotvQetOki0TJD0/u5SVdDBjj4sK9e0DrpCb0LceJmImIe169eZiQK1UTADqsuciLlUPfg9CZAACZAACZCA9RP49NNP8ccnnsD7W7eZyeiVK5ZLvowbsHTpMkycONEIC4ckguQvf/mLEV+uZFI1XPLQXLtqNV586WWkZ6YjKSXZANK+0L4D+9HQ2GAimC3UpkuUyJiwCFOv05LkfKVMGpeK1Wyy9Kmko4RJ06YgqI8okhLZ5nXJ8fFfYh2lC2NixMrpy/d8CavXrZV2LUWYRKh0wE7ssOLx3tb3zCIXyzl7P+timNtuvUUsbUtNdNLOHdsxU6KX9fOSomIknZG6SFkuUTWxMlHeV1Ex5XO33YbrN23CwYMH8frmzfhALK40N9DLL7+MrVu3GmHomWee6dH+vo51OZ/Nnj1L+oBzzGS+LjR6RnKemL6pRCb98Ac/wE/EEkut3jZJ/Tw8PC7nFJfcp1n6oyqYZWZnmkgvjciaNXc2MjPSJTI86Ly+8CUPOEwbWPrl2odXQVEt9yyLqIapShc9rYpOWtQ+OVhE1PLyCnEGaDDjj+47aiSYijaap+j48ePIzc01kXJ67/RV+iP6VYj9XKWIqeouoC4A6lBwqeIs+XNcXZzNZhlyr2guURYSIAESIAESIAESIAESIIGBEaCI009eKuRs3LhBRBzJUCN2AKtXrZIJgFvFbiPXDNiTZPXpmdNn4DvTBwknj3f5sV/q8CrsXGryRBPoBgcGiSf7PGORpoOsyMgxJoGsj68PAgMDjYh0qXPxexIgARIgARIggZFLQPsT+w8cwLPPPmciiHVd/n/+13+Z3DPjx8eZSGOdfNXiJYtPnD97bT64zD/aP1L7LhVttNTW1slilzbJE5OCyspKydkRJjZqk7qOHitRAbFxY82k8ukzp40AoxHKCQnHzWKXyZKDRqN7epf339+Kn/3sp0bAWSa2T1+5916sXbNWbJq8jChl2d7N3b1r0Yzls97Pamd7u+SV2bV7L7Zv/9SIQw9/szP6Ok0EiP2HDphdFi1ahJiY6N67d73X4+giHhWRNCri7rvuxgERrv78579IhE8Kjohl3OOP/Rbf/Na3ECf8B7NYRIZxct577rkb11yz0og4r732Gt566y3TD33kkUfMKe+4447BPHXXsZpEoCvIz0NoUIhEQLmb3EgRYyJx7MhRY23XtaGVvtDfi+W+1Srqa7X2U1FHo7ussag7gCVKKCsrC4888n3D3bJQrHud7aQdTdKeXLFR0wVn2jbLvt23s7y23FOW9309q11em0TT6Pn035K+ztt7v1bJ99kq/yZo0fNfatzTe3++JwESIAESIAESIAESIAESACjiDOAu8PPrtACx7KL2BIvlTZkkC1Zv9pPizd4mgxT1US+UxK7qsa2e87qiTwf6+jozPQNhYyKM77tajNQ31BtrET8/X2NPoEk/16xZI9s7GNsDT08vLFq0EL5i8TZ+wgSMk0kAndzoaQ5iqRGfSYAESIAESIAERjOB/Xv34cD+AxKVAqxevcqIHXFx5wsImgdGZmAHBZUuJpkgNlrxCfFGuElMTBRBIdHYamnkzdw5c7vOM1ksaafIQ3N6nD552mxfKP2jDLGm1cnzqWIHpv2m7qWgsAjHJMJGIxC0L/aVr3wFX7jzzj6twvozqWzOM3UKZs+aZUSclNRUI4BoMnnNb6NlnFiVxV5EwOleP7XTVRsufahgZW/vgOeffw6nJFfNK6+8go2SdH6wRRw9v2gQ5hIqL33MkvaMGTPGLO55/vnnxWYtx0Qm3SqLjrQfOthF26m5cDTXiRaNFC8vLUGdCHkq5ll7URFCF0pZ7hm9L/R1mViGaR/eGotG5Vsi8/Waql1fpzBrJ9XVX/25oveHp9iYRUSMMSLOsmXL+hRILXtYjmt539ezh4iW7nJM/fejqrrKCDp9bdf9sxqxcqytrTEfaeSQRUjuvg1fkwAJkAAJkAAJkAAJkAAJXJzA4I/oLn6+EfltgHjKB4jv+SJ5VFRWiW2FO1pkpZlOSKhH/CSxLlHbjdMSqbN3127MES/zMrEFMcl4xVc6SlYtjhFhJzcvVxLq1uEHYoOhKwCLxNLD3d0N6m/OQgIkQAIkQAIkQAKXIqA5Xcokv4dG7K5dvdrkRelrH+2naF69S5Xuq+Z1mrivon2WpUuWmuiTIlnEckLy3aSkpEKjBiZKZM1syTdjKePjxmGa5O7TCeNjR48Z0URFHC2akyQmNtayaddzbk42Soo7t9GcgMsk8kWtorRulgl43Vgnli05CLt2vsiLeWJJO2fWHKSmp+LTT7eLPVQIUqXebiJMrBaLOB+ZIL9Q6X1uy3YqCtwpApPaTqmIUyR5dzQiaTCL5j7pzGPU86gqQmhyeneJRnruuefMlypGqEVYdHR0z40H4Z2KCDqprxZZNTJJr20+evSIubb9ieoYhCpc0SG0/ip+Wezm9F7S+1Kvl+ZfGq6i2uqF9FW9tvrQEiK/hYe/+U1ER0UbYeRiIoxGGUVEhJvHlbTLzz/A/E713w8VVS8W2WM5T738O1NfX29+qyEStTUYEYCWY/OZBEiABEiABEiABEiABEYLAYo4g3yl/cTeTIsOUHQ16USJnrGsfoyURL3Lli01g5/+DG51exYSIAESIAESIAES6A8BFRYKS4pQK0nmvXy8JU9GvZlk7csaKiM9A2dPnTYTq92FkN7n6f5dz3X+57bUlfXTZk6Hr4gwKuLESxL1jPRMNEieDs2Z4yPJ1bsXtShTMeaA2JbtksUt2WILpX2la1dcI7kzXLtval5XiRhUU1trXutktIpDWrrXTd+rbdQnn3xsIkL0/aXKTMkNMm/BfBwXG9wdn3wqFnNeZoGNf2AA1ki+Qc012FfRBPHlkpcnOiqyz7wvNTU1PQSy/vT5+jpPX5/pZLhGJkWJSHehiIampqauXfXcg3n+rgPLC53AL5AFSDlZ2caKTHOzHD0Wj/CQsB4Wd933sbbX+ptRm2LNZaT5Ji33lApiw1WkSibKqq/z629ZBbk9e/aYjby9vDF//nwRNc//3fS1/5V+5ufrJ9fWTyJ7WiR/lIo45+61Cx3bMFVVStqlQpO2j4UESIAESIAESIAESIAESGBgBIZvhDKwetrk1jpo0QG2PutDV42q5chQDaZtEhIrTQIkQAIkQAIkMCgEtK8xTazKNApHoy9efuVfRpTofnDNo6ERv//xn/8hFmXHjAih+/VVVNTQCXktVRJl0S75MPoqGm18zTXXmKiG7Owc7Ny9G9t3bsfkiZMwIW78ebuESPTD3DmzjXDz6quvYufOncYmTYUgF9fzE6V7i5iiOXy0aP3f3bLFtM9y4HaZFN78+hv4tuS1+f3vf2cm4y3fXex5ypTJ0CTvKgzt3LML2z76ACmSy8bTw8NY0Wm+m97l8OHDePTfHzV5EV966SWUSNRT77Jt2zbJSfS2ad/0KdMk+XxPe7je2/f3vYpXymvDdevxja8/hP37OnP3dN9fI8BfefmlLjFCo5vUYm1oikQEidgRHRNjBC+N+smUKHSdqO9PhMbQ1Kn/R1UBRyOaYqNi4CO2xfreUvSevpql+7n1OldIpP6FSlBAoLFiLi0pxfaPPzGCyoW2HezPfWWxmo8IxJojtKiwGM1NLZc8hYqeNdU1MiZyRFBIIJycuYbwktC4AQmQAAmQAAmQAAmQAAn0IsBedC8gQ/32QhMlQ31eHp8ESIAESIAESGDkE7j++huwV/LiZEl0RKrkevnZz35mVuprpEtWdpZMvBbhyJEjJip44eLFkj9nv5lw78uKKUAiUsZPnICTZ05hz969GCOihU7az5TcK92LLk4ZP368RIdEIv7YMZw4ccIc85prr0V4RET3Tc3rAFnQMm3adGz74EPJ2XLMiChjx43DsuUrxNrqfOFkypSpZnvgZWiUyb8kz0xSUhLiZB+NlklPz8CO7dtN9MucOXOxV6MUpKg4021e3nzW+89EsbydNGkikpNTjPigE9SWqOne2+p7FW20fVrvX//mN3jvvfegORI1X6HmhNGIju1Sl/T0dLP7/V99AHqO/hadzNfjaOms/zlhQRPTa37FFLHMy8/NQ1pmhtjVTRQBwtssElIbsJNSt4OHDpocKMuFp9qrDVVpl4T1lRVVxn7MUuemxibDUetu7UVZN0ouysqqSjT1iii52pE4GmGjVnyaj6empgr1n0We9cVwldgkHjl21ETjfPjxR7jvq/djxowZfW066J/pYjStp/57kStCcX/Euhz5dydPIrbcxAZuggi7bm6ddnCDXjkekARIgARIgARIgARIgARGMAGKOCP44rJpJEACJEACJEACo4eALhSZv2Ah1q+/DlkSEaH2Vioy6EMniXViXSdgF4t4s2HjRiOIJCcmms9cXc+3Y1IBRu3G3t/6PnJFNPjb3/8mE7Fu54k4SlgjGqZNm4aEhAQUS04/tXmaJzZPYZKHo3fxl7waM2fNNpE71bJKX4UZzQ84R6JzXPuIxPH09MC1116Dm2++GQnx8UbAURFHi4onDQ310oZA3HLrLVizZg1KJQ9NUmKSsUezt+87yshSpzjJ0XP3XXfjF7/8pRGBpkq+ng0bNli+Pu95jDDZcN116JBJ7PS0NMn/c9xsY8nRo0KLshwnApNOrN92++cQHNL/SBwnRycESls0GkNt6JzkulmKRofMnj0b9913H/YfOIAjEhW0ffun5mv9zmKjFvjZNX7kke9j4cKFlt0H/blaoiv0vijIzxcRpNlE/zg4OkieHA84StSFtRcVcbTexWWlPazUtN6tF4g6G6o26fVTEVSFOBUAE44n4NpVq0wUv55T62pZCHbtqmtFwNltRJyziWfxj3/8A7d97nOYPn26iSLrXkfN7ZObk4uw8DAT7WaxeO6+zUBeaz6eEMkdpUVF4TqxbrxU0d+q5upyd/eQ3/icrhxEl9qP35MACZAACZAACZAACZAACZwjYP0jrHN15SsSIAESIAESIAESIIGLEFDN4oEH7seE8XF4+cWXsXvfHhNpEDc2DiuWLceUGdNw5513IkBsto5KRM6mDZvg4+eN8LBO27Tuhw4PC8eKFSuNcKATsTqJXFpa1n2THq+XLF0q9krNyMrIhE5Kr1612uTE6bGRvFFLpnlz52Lj+g0mb05zSzOmig2cb6/cOd33U+Hp97//Pf72/HN46eVXTMSLr68vYsTKS63Zbr3tdqwUS7dWOdbZM6dxPOEEZk6fASeJQLpYGTMmCmtF9PrNY4+ZzTSqZoEIYRcqKszoQ4WU5559Bvv3H0BiUrJwKTH2aRMkF+K0qVOwcdMm3H77HUY8u9Cx+vrc28cb69auQ2F+AebPWwDvbkxU1Fm3bh3Wrl2Lf4mt2tFDRySq6jCOJcSbCCm18B0XO9aIUHfe9QUjqg2lhW+JtDk7Nxt2Ep2l51GRUCNYAoMC5PqfE5/6aqd1fNZpd+wgdbYIJJZ6DZWIo2JMX8XN1Q3jx41HmgiDaWnpeOWVVyW6baKx9SstK5f7yAkxkgtHi9r8LZff8gG59w4ePoTH5N49eeoUvvKVr2DpkiXwlsgsvQ4atbVbck79S34vX7jnLlwn4qNFgOmrDv39LEKETM11lS/inUYOXaokyr8dmWKDOGnSJPPbUcGThQRIgARIgARIgARIgARIYGAELj6yHdixuDUJkAAJkAAJkAAJkMAwE9A8KCoiqJ2Z2h3pQ8UMXQmvERKWSdQZM2fiD08+YaJo1Oqod3FwsBexZQ7eeustaISJTgx7eHj03qzr/bUiougkcptGMYjgo9uqsNBXiR0bi9/89jETYdAhGc/7EyGguV2+9/1H8NA3Hu6ycVKxSCe4XWUSXAUsjTj65re+LWJOC5zlO/3+YkUTs1dK/hG1h1IhYvLkyZJTKPJiu5jvwkT0+u73vo+Hha1O+OtDRYzO+jibiCKty0CLTrL/4le/gFqV6bFc+0hYr4LDzTfdhI0SMaQ2Znp99fxaf+WtkUB6jYdSwNF26fEzMjJM1JFGkJSK1ZwyKMwvksiWxoE2fRi27xRU9L7uLeL0lQ/pcivY3n7OWu5CIk5IaAi++OUv4lPJJSV+aiIMnsU3vvENc29XVFTgtttuM9aIKlpqXddvuA5+Af544ok/YPPmzfjwgw9w+NAhc+31uuh59J6oq6tDrVizuXu6QaPOeos43evT/fXF2qo5reZILqnCwkIjpurxL8YrJyfHHE7r7ufnd7FD8zsSIAESIAESIAESIAESIIELEKCIcwEw/JgESIAESIAESIAEbJGATvKqAHApAUMn/DWa5WJFt9E8GP0p/Tmn5Tg60ewjETkDKTrZrpPFF5sw1uNd6vvu59QIoz89+aQRqZaIADVdomz6Uyx16c+2A9lGj6sRN5cqKtT0ZYF3qf0G83sVilTMUpGhvr7eiAsq4mSKzVZb6znhYjDPOZjH0t+JChcaUaJih0X80HOoaDkYRYXEkJAwEyHVKky8JYdTX0UFz6XLluH//fSn2Pre+8YqTaO7tHh7esHJwdGIMZZ99Xe5YMECPProv4s4MwG7duwwNoMFBQWWTYyl4cTxE3Ddxg1YuXIFJkk+mu5FxT8v+T3FREWLiOoEDxF5+1NU5NR8S+9v3WYs/RYvWtTn70bvBY3C0YggPc/UKZOHXFjsT/25DQmQAAmQAAmQAAmQAAnYIgGKOLZ41VhnEiABEiABEiABEiCBKyZwSKIXtmzZYiJxNHJp1qxZV3zM0XIAFUE0gklFHC0qQLV3tBv7Pn22/tIp4lRVVZmqWkQdfaMCxGAUtUmbK9aB3/ve94RVh1iKTb7gYTVK5Utf/CJUeFkg+aSycrIRGhqKAD9/TJw00eSu6r6zCjmaI8lPIu/UnlCt2MrKy1BcXGzEWc2tFCvRL9dIDh1LBI6KVtpOLe4e7liyZKkRe/TaRUZdOgJN9wsTK7VFi5eYqJpPPvlEBKKVfYo4Ggm0c/sO5GTnYMLECVgt+apYSIAESIAESIAESIAESIAELo8ARZzL48a9SIAESIAESIAESIAEbIiATszrxLIKDx0iMuzffxAfffSRea+REIsWLkSkWLax9I+A8lRLLS1qh6dcJcsMVLjQPDNWX0TLsBcPPnuJCutdBivKyUnsC6dPn2Yevc/R13svidRZs3aNefT1fV+faa4cS76cvr7v/plFwNHPAvwDJI/USvPo2kYd5jo1nq6Per/QY0wUUWbatGnYuXMnjsXH4+577um9mUQ31eOTjz5Gmdjsbdy0EWvWrOsSkM7bmB+QAAmQAAmQAAmQAAmQAAlclABFnIvi4ZckQAIkQAIkQAIkQAIjgYDaOqWmSrRCWSnOnDmN119/HQkJx6ET59/69rdlon36SGjmVWuDCh2xsbHIzc01kSsa5eEotl/RkVEm/9JVq8hlnshexAgVnPrSLC5lRXiZp7T+3fqC0Uet9drfcOONOHnyJJKTk3HsWDzmzJndtaVqQVnZ2dixexc0l9WiBQslXxOHnV2A+IIESIAESIAESIAESIAEBkiAvekBAuPmJEACJEACJEACJEACtkfg2JGjePrpp3H67BnUSvL40rIykzj+tltvwQMPPGAmm22vVcNX44CAAGzYuBHbP/0UWVlZJi+OvYM9QsNCJF+Py/BVbABnDgjwR7REsuTl5fWwUBssO7UBVMWmNlXh8/bbb8df//IXfPzxJ0YA7S7i5AvPt996A+Vi73b77Z/D8hUrbKp9rCwJkAAJkAAJkAAJkAAJWBsBG/A6sDZkrA8JkAAJkAAJkAAJkICtEXBydoYmmncQoSFSJu5vve1z+OlPf4YHH3wIsTExxupJIwhY+kdARRyNxpgseV7c3d3NTppbJSQsFC5urv07yDBvpRElPj4+IuY5Gzs4rY6+Hyw7tWFu3pCdXq9zVGQkrtuwwVjSaV6pkydPdQlhhw4fxt//9neEhoRi9erVJqfPkFWGByYBEiABEiABEiABEiCBUUCAkTij4CKziSRAAiRAAiRAAiQw2glMnjIF937lXuRKwng/ESDmzp2PCePjemDpp5tUj31G6xtnZxeMiRiD6KgoeEpOoVLJfaKT+14+vnBydLIJLC0tLaiurkZTU5OIew5GjNIoEycn26j/cEO++667UFxUjLS0VOTn52PChPGGY2VFJZqam3HjDTdi9uxzNmvDXV+enwRIgARIgARIgARIgARslQBFHFu9cqw3CZAACZAACZAACZBAvwlERUVCHyyDQ6BGLOlOHD8OTy8PeHh6nDtoe/u511b+qq6uDjk5OWhtbYVGFgUFBSExMRFVVVVWXnPrqN78+fPxwx/+AJpvas2a1UbA0ZqtXbsG3t7emDFzJsZEjrGOyrIWJEACJEACJEACJEACJGDDBGinZsMXj1UnARIgARIgARIgARIggeEg4OLqjLDQUFRVVqO+rsFUQSNxIiQ6x83NbTiqNOBzqm2a5sTRKJx2EZ+0/lr0PUv/CEydOhUrJOdNd2ZhYWG47rrrEBsbAxeJ2GIhARIgARIgARIgARIgARK4MgIUca6MH/cmARIgARIgARIgARIggdFHQBIINTQ24MDBgygoyDftbxYLreSkRGiUji0UjcBR6zR9aFROXl6eqbZFzLGFNgx3HZVdb9FOBR0PD3c4yrMdPQqH+xLx/CRAAiRAAiRAAiRAAiOAAEWcEXAR2QQSIAESIAESIAESIAESuJoEGhoaRLBJRm5eLholp4ydzNZ7enrCXSbvu0dlXM06DfRcWmcPdw8j4mgkjubIYSEBEiABEiABEiABEiABEiABayNAEcfargjrQwIkQAIkQAIkQAIkQAJWTkAjV1JSkhAdFQUfbx+4uLhg2rRpuPMLdyNijG3kQXF3d0ek2L+5u7nDzd3NWKsp9o4OCTNiIQESIAESIAESIAESIAESIAErIeBoJfVgNUiABEiABEiABEiABEiABGyEgJOz5MQJjzA5cTIyMuHh6YFFCxcgMMAf9jbmoWUcv0S30WgcLRRxbOQmZDVJgARIgARIgARIgARIYJQQYCTOKLnQg93MJvE8T0tPx4cffYR9+/ajsrJqsE/B45EACZAACZAACZAACVgpAS+xTpsxYwaqqqtRXVMtCeydTW6UmppatLa1WWmte1ZLxZocsYOrrq0xdnBqAxcYGHhejpeee/EdCZAACZAACZAACZAACZAACVxdAozEubq8R8zZNPHrli3v4ZNPPsaCefMRHh4GX1+fEdM+NoQESIAESIAESIAESODCBBzsHeDs7IIaEUA0l4w+KsorUC+5ckxEiwgi1l40J44lf0+bCE/6etzYsSZPjrXXnfUjARIgARIgARIgARIgARIYPQQo4oyeaz2oLc3NyTECzrvvvAM/H280NTYO6vF5MBIgARIgARIgARIgAesl0NLagvLycjQ1NZlK6nNpSZkRc8SPzHor3q1mKjaFhYTCz9fPiFH2dvYmv4+TE4dI3TDxJQmQAAmQAAmQAAmQAAmQwDAToJ3aMF8AWz29rlTUBLZOTk5wdJSBro15n9sqd9abBEiABEiABEiABKyBgPYDQ0NDoNHZGoVj+oNSsdKS4i5hxxrqebE61NfXo1ksgoODgyWqPBzNLc1Iz8xAnXzOQgIkQAIkQAIkQAIkQAIkQALWQoAiziWuxEhJbHql7ei9f2NjA6qrKmFvb28G7R4e7pcgOThf967H4ByVRyEBEiABEiABEiABEhgIARVxoqKiEB4RYXZra2s3C3xmzpwJLy+vgRxq2LZ1d3fHnPnzpA3hpg7ar9UII2MHN2y14olJgARIgARIgARIgARIgARIoCeBy/YKqK6uQUpKEoqLio3/dVpGugx6Wo0lwYQJEzBh4gRERkaas+nEu3pO97d0376qqgrHjhxFVnYWyisqUFlZiaCgIAQGSNJRV1e0d7NraJVVgH5+flizbm2f50tJTsbJU6eQn5+P0tJSeHt7IzwsDHHjx2PW7Nlw7MO7W+utVhGnz5xBcWER5sydg9jYWNMU/TwlJRkZGRnIyy9Ag6zaGzd2HObOm4ux4qdtWZF4qXafOn0aeTm5yEhPR6GsXgwNCYG3pxemTJ0qjyniN+7c5yF05WNKcgqqJaHshEkTMUHaoYPPs2fPitXZJ6gQXvp+0aJFWL16dY9j5ObmIjk5CVlZ2SgqKhLXiw4EBATA19tHWMzCuLi4Lo9w3VE51NbWCofTaBfP8N27d5uVl7pfphzj7bfeQUx0NBobm0xQzrwFCxAhA2KLz3j3kxcUFODwocPmGpRXlMs+jSaJ7JgxEZg7dx7C5JpcqGg9srIyceLECbQ2t2L+ooUYI5MHuooyPj4epz67vj4+Ppg7Zw4WL1liGFzoePycBEiABEiABEiABEhg4AS0j+nr64t50jfWPqz2E4tLSySapWXgBxumPbSfmpqWigyJvtH+sJubGyLHRMoYw22YasTTkgAJkAAJkAAJkAAJkAAJkMD5BAYk4uiEfW1NLTIzM3Ho8CHs2rUT6anpZjI/QybWtXh5eGLp0qVYvnIl7rzz84iOiYYmPh1I0Yl6TS6anZ2Njz/+GJtf24yziWdRVV0FFXVcRbwZEx4Bfz9/EXHaRVRoN9vr4HHqtKlYtWZ1D/FArRJU2Hj99dew9f33kZiUbGwe9DyavHSJTPRff+ONWLJ4idhChMq+PQOUckTweOGf/8QRER5+8Oi/w0cGrOVlZdi6dSv27tmDY8eOISU11TRx8oRJ2LBpI26+5WZz3L5EDAsLFV+OHz+O115/HSfiE3Dy5EmUV1bA09MTwYFBuObaa3HTzTcZnv7+/ucJUykpqfin1EvFqbvuuRshYgWhzP7yl7/g2Wef7bKyePTRR42IYwbXxcVIkvYfOXII+/buRULCcRTKoFWLCmARoeFYu34dbpTzLlq40LC21LdMRKtXXn5FRKt0pKeLcJVXYMQfrXdudq4Rm1pl9aL6if/0f34uwkwAdIWjpej5z549g08/3Y43N79pBszFIlpp0RWb06dNw6brr8f69esxceJEw8Gyb/dnZfbbx36LhroG/N+vfmnqfTwhAX944gl8KuJVSUmJEYW+/73vYdHixd135WsSIAESIAESIAESIIFBImDpk3tLP65Y+pjar9P+rS7IsZd+trUXHUOckH5lWkoampqbUFdXhwlx4/u9EMva28f6kQAJkAAJkAAJkAAJkAAJjAwCAxJxNOplr0z8/+J//w/7Du43wonmRFExxDJZ3yyT+Ns+/ADbd+5AaVkpHnrwQYyXCJGBluSUFDz91FP405/+hFaN8JHB4MwZMyTSJwyf7txu/KotwpGuBNSHJlT18PY0woLlfDoY0zr/7Gc/M5EaGvXh4eGByZMnm4icLBE90mT14D9EDPnJT36Ce++9FzExMZbdzXNNVTXOnDyN+OMJEulxUs5lh50iYGn9tO3KQFfuqciVnJaCs4//1ohOjz32GCZNmnSe+KIHratvwOY33sR//+i/zMo/k1hV2jg9cgzS0tKQm5+H555/Dh998jG++93v4v777jORQ90rVt9QD2VwLCEes+fMkuiU4/jrM8/ixRdeMOKL1mvKpMkYP66Tf2JiIn7+858bYUy5aISPcrNcu4aGBiRKdNWps6dx5OgR/PjHP8GqVdd2RbI0C98MEe127N5pBugWgUqjmspE1LKIb/qsfugaHWM5ttb73XfewZN/elKuxz4zONZIJeWm26uX+uEjR7Bv/3688MKL+J//+R9s2HBdDxHJ0vaSklLEi2ij4lxxcRG2iyj0yisv41+vvGJsPHQ7vediRKCTg1t24zMJkAAJkAAJkAAJkMAgElARJ1+i0WskQl/7lNr3jBwzxiYEHMVgJ336SeMn4uTxE8gryDd90qycbGgfm4UESIAESIAESIAESIAESIAErIXAgEQcBxmc6eT/2eREEyVx++23S7TIKuOHHRoSbCbtNVLj/2fvPOCqutK1/4D03gWUDvaGBUvsPbFGTTHJpJk+JZn0mczc5N6Zm8l3k0y7N8lMuiXGaJrR2HvvXRERRKVK7yCC3/suPAQRFI0F9Fn+juewz95rr/3f5+yz13rW874zZ8wUceEY3n/vPXSXMGWXK+JoyLT533+PD0QkUQFn2rTHcP/996OjhBZTsUMH7z8VsWL69OnIysnC5EmTMGnyZAnfFmw6jxZxQSGrS+ahhx5Ceno6Okl4sqlT78XkKXfViAs75f0vvvgCX8+bhz/96c9oKaHMnn766QvOj3ZMVXT4178+MG1QAWTK5Enm+DX2t3Zid4gI8dxzz0HFkLjYw5j31Tz8/g+/r3c234zpn+Ptt982Ak7nDp0w7fHHMVgEEw93NxNebJu4fv75z39gy5Yt+Pvf/iZiylAjYtVtmAogoh4h61Q2nnn6GZw4eRL9+/c37XB39xChRuOVV4e18xZ3jzqGykvLMG7MWAwSp0+0hE5rJeHI9PgOHorF7159BSr2qNtlxozpGDRoYI2IExAQiJd/9yoefXwavpj9BRYtWowKEWp6de+JCXdOQJiIJiqSadEQbiqWadFztmz5cnz2+edGwNFld4hA88AvHoSy02M4IeHkPnz/Ayxbscy4dV6VdrTv0AHt2rbR1S8o1hL+QsuPCxaKsyoOqWkpePihBzHl7nvNudVQexrOrTnMAr3g4LiABEiABEiABEiABJoDgbNyG1p1FvIkikhzaPD5bdQ+wwhxgG+VCANpp9IRHhYOb3H628t9PgsJkAAJkAAJkAAJkAAJkAAJNBUClyXiaKM7SLiyV3/3O5NLppOEvwoODpFQWC41x6MCiAocf/jjH4wzZuvWrTKg3xeRkRE161zqxV5xvGzatNG4M9q3bYe7RSwaMmTweZtNe/wxcbOU4O//+Lu4Rnbil7/6NXr16nXeOvslb8rM6TOMgOPr7YMHH3wQj4ijxcfHp2a9VjJb0EESs8YeOISD4kDZKPsdNny4yS9jWUn7pDpTT4UOdZy0lm1UVFIRKzQ01OSS0XUDAwMlzNx2/DB/vnEKrRQXzSu/e+U8EUfdOiqSLFu2zOTS0YSwr/3xNQwdNlzCgnlYdmn2UVhYiEIJQXZQ8rzMEmHMRVxNEXU4qrBUIq6eLVu3GFeOtuk3v/mNiDPRsBchQ8NEaNu1+Pu3xLPPPlctvPTsiSARd1S00uPSoixKSorxlzffNLllVADTGOeaM0jXcXZ2Mvl+bGWfRyWU29bNW5AhoTNCQoMxREUmEWRUYFNRRkUtnY2pRcOoqWtp9erVJvTZeAld99hjj0kM9R5wECeOlvCICPhKTh4bOxvM/vJLyTUUj//31lt45ZWXjZvJrFTrPxUUtSwV15eKRaOlA/7Ciy+KYNjG7FfD8SlrI3LV2o4vSYAESIAESIAESIAErhIBucX08vESZ3X1PadO3NH7r+ZSdLKYtNj8sxIVysvbC5PunIQAuadnIQESIAESIAESIAESIAESIIGmQuD85C+NaFVUZJRxqtxzzz3ijOl4noCjm/sH+GPc+HHwFdeHlqPi/DhyJM68bux/8UfiRTw4ZhwV/fsPQCcRjuqWsLAwEVuGGYFEc7zEiTBSt6xbu07y4HxtRKWpU6eK6HL3eQKOrq9OjdskJ86dksPGQ5wrB0XM2SIhvS4oOtNQOqXubm7i5pkqIc6eRw8RIbxFeLAUFUSmiCMoVNqmRcMxqBBTu2gd6iDatGmTyQMzatRoTJx053kCjq5vL8LShAnjJa/QvWbzL2d/acSf2nXpaxVXtOuZKAlZBw4caM6N5iTSMGYqdNja2sDmnGtF3SkPiyvpl798BjG9Y6rjlZ8TQ7QuJxFU7pNji+7eXf80gtU+yXej7istKojozETdp7fk6HF2rHbaODo5msS2Kii5CR/Nb2MRcDSk2j4R09avX29cVSr8PfPMM8YtZBFwtG5ta5euXXDX3Xejt+Ti0TJr1kxs27bNvK77n0WcyZRQbrf1vw2/EhGvQ4eONfvVmZXaHhYSIAESMo0dZAAAQABJREFUIAESIAESIIFrR8BdXOQ6gUvv/Tzc3ZvVBBrNrZmcfMJMONIJQDoZ6baBA+DrW92PuXbUWDMJkAAJkAAJkAAJkAAJkAAJNJ7AZYs4NjYtjHOl7i6046N5TbRUnK5Arx49TWcuPy8XRYUFdVe/6N9FhcUSW7vIdAjDo8LRooHBeBcXF3GX+Ju6UlJTTUJ7S8UqHhwW8Sg3P88IGk8+/ZSIK6GWt897dhTBY9KUyfDx9UGy5MhJEgGpblHxRWcXDhjQH3fccbs4WPzqrmLeD5eQYq7SLi0qdqRnnEKlbGcpOuNvnoRu0+SvnTt3NqHeRIOpt6go1K9vX/NeioQLy8zOvHA9aZcWFX1UHLEIIBeuWL3Ezq7aHVP7fT0ubZfl/Hl6aBg2O5yW8xkr4pg6nuoWM3NROr5aLNvXXUf/zszMxJKlS2tmZapzKSYmpr5VzbLh4oJSx5Ty1n3Eaag0Obd1i76vJSgoCJMmTa4Rnuqux79JgARIgARIgARIgASuHYHTct9fIfdsjg6OaOn7k8P72u3x6tVs08IGhfn5cg982lSq95z29o6cCHT1ELMmEiABEiABEiABEiABEiCBq0DgqlgVdBD/0KFDyMrKRmLCUWyXkGLHZVabDrTn5eYjJzvv8poq24npAyoMpUtnSgWZ+oqG6UpOTjZveXl5w01m/1nKfnGQnDxZ/V6EhOpSQaShoo4Nv5b+IlzYIzsnG+mnMhpa1QgLZ86JVXVXUtFG88tYcsFo+7OzMkXUEiFKXDBacnJyYMnZ4+fnh9tu61e3mvP+ttSlC1Ucq1uUvRZ1Jqko5HguPFnd9S72d0ZGBk6IeKXCUuyhg9AwcMr8rNR9KiNd9lt+sc0v+l6ROJEO7Nln8gSFBoeie7foi66vwpwKYZZSWFgkbqYiy581z1XmM2IlIdm6m9B+NW/wBQmQAAmQAAmQAAmQwPUhIPdjGWkZKJPQviWlJUg6cdxM7rk+O//5e1Fnt3+g3Lu7uJrKrKx0flt1jh/pirCQAAmQAAmQAAmQAAmQAAmQQJMgcFkijooyljBWOuC/b+9ek+dk85YtyM3NNSEI8vLyxHlTiDMiYKiTQl0mFqGhsUccGNQagSKGaEdwx85dDYo4aWlpNVV6eXmel4RUc7UUFVWHMlOB4vnnnzcizwUCjPbQpI2lpWXi+EgxppikpKSaeut7IRjqLcpGBRoLI12p9rGr0yUlJaWai7ynQtOvf/1rYVXNqW6l6q45JmHSLCW/oEDqOysOnwu7lSpEWUKYWda/2LPmC1qyeAk2Sy4dbZOGTNNHbm6OnL+fRJMqOY8NHe/F6re8V1JaKqHeEs059GvpA1+/S4en0JBsGsZCXTwqCiYJg7Zt21iqrH4+1yhl1ELcYSwkQAIkQAIkQAIkQALXl4DeEluc3Hrfn5CYYCZhXd9WXPnetG+TI6F5y0SA0nJWXObZ8vfp8nKT3/HKa+aWJEACJEACJEACJEACJEACJHD1CFyWiKPihHbU9op48+2332KriDc7d+6EigsxMb3RWkJb+UiOmDIZuNdcKkeOHDFz2dRVczmlV6+e6N23DzZv2YzY2FjM//57yUNznyQZDTDVqMNl+fLl+PHHH83f7du3R3Bw8Hm7yBQ3jSUfjYoBa1evgZ0M+NcWVSwbaPPURePi7CI5cqwlRFvDrh3LNg09a2dQH5ZSW9Aplw6huoMqKkS0kZIl7Vq+dJnp7P60hWVLyUEjLzUUW6uAQCOwaJgK7SDXFxJN91nfsf1UW/WrA/sPYMPGDVi7dq1hoqKbv3ANDQ0z+X00x89WEXZUYNI6a7e/bl2N+VvbWyCinrbNU9xSniK2XaqoEObp6SnOrizkSji+fGljQ0U/C2dF2GIhARIgARIgARIgARK4vgT0PtHD0wP2DvZmxxqO9+feO17fI5D7bZkcVVn5U+jjuhOyrnd7uD8SIAESIAESIAESIAESIAESqEvgskQcHdTftWsX3nv/fcycMcPMUIuKikKfPn1w//0PoJ2IKS3FaZEpLpg//em/cPz4cREdKuvu85J/a2iw0aNGYZ0IDbq/f/7jnzKQn4/Jd00xMaqPHj2Kjz76CMuWLRPxJgjPPvccIiMjz6tXQ49VioCgRZ0dI4aPMMKAZbbgeSvX+sPJ2RE9RUS6FkX5Ve+/WnTw82uJMWPGoKpWx7H2fnUtFcBUWFIBqIPwbWFz2WmMTJW675zsbLz/3nv48ssvkVeQb8KWjR41GoOHDEEPOeYwCWPm5OiA1157DYclF46GU/u5RTvCTo5Ophp7CSnn0IhwbyrMqCtI26xOGzt7u5/bDG5PAiRAAiRAAiRAAiRwDQi4uDqb+3MVbzSssE6Mai5F29zSP8CEXdY8jDqFytPLy+SGbC7HwHaSAAmQAAmQAAmQAAmQAAnc/AQuS8TZtGmTEXC+nD3bkHn99dfxyCOPmI6PDrhbSqHkqlHRQZepCHElpW/fvnjxxRfx6KOP4vjJE3jzrb/grf/5f2Z2n9arOVs0qf1DDz6I+++7D5pLpXbp2LET/MXBAuyCCk2v/9cbaN26daNCPFyrGYSa36Zzly5GmNC2tpEQYf/15z8ZMUz3WZth7WOxvNZO8ZW2rUDcUn//+98wf8F8FJUUY/yECXj33b8iREQwDcNWfa6qT1ZZWVl1W67w3Fnaq8/qHgoNDoEKb5ofSENWXKqUlJSYEG+6nrePr4hvXpfahO+TAAmQAAmQAAmQAAlcZwJ6/5iWmi4hjIuNo6UxrvDr3MRL7s7TwxMxPXtJbp90ZEtYYT0G7dZcaR/mkjvkCiRAAiRAAiRAAiRAAiRAAiRwmQQuS8Q5fiwJcYdiTd6X20ePwsgRI4yAo/usLS7o2L91C5mFpy9+0nZ0tUaXbdu24V//+pdxz7zwwgtwcnLCPsnjki/htTQsV/cePdCrVwzatom6QMDRnUSKcNPS39/sT3PiaEgvLeoMuVFFRZggEZIsSAol90xCQiK6dOl8zZukzpYvRHxLTU1D//798fBDDyNCnDeWDmrt89foxpgOrpURgerL06P12NrZwtvX2zzHxR1B/NGES1afl59fs06IhMkLDgmp+ZsvSIAESIAESIAESIAEmgYBc88vjnG9v1Zn+bFjx3AyORnt27VrGg1sRCtUiPLx9ZG+QyRcJZqAm6uEV64n/2QjquIqJEACJEACJEACJEACJEACJHBNCFyWiLP/wAHs3rMHru6u6NGzp+SoUafLhUWdHYX5RdW5SiwqwYWrNbgkW8J+rZYcNjt27sDkyVNwzz33GLEoKSkJpeLScBJHS0hoKHx9fBqsw1c6YwHnRJx8EQW++nIOnnzqKQSey6vT4IbyRm1XysXWu5L3HCVcWURoOBITEow75csvZ6NTp/++5qEncnNzjYCjbQ6TcHXdu3evEXDqHkdNPHOL2lR3BflbGWnRnDfx8Ucl/Fl1QlizsNZ/Hu7u6BXTC/N/+MHkuNFcO3p+NfdOfUU7/9u2bjVv6YBAREQEWktoDhYSIAESIAESIAESIIEmRkDu8zMyM6Auai16P1hWVm7uD21sLqubcYMOzMrcg6elpyPpeJLJW6n3qcHi9reR/gwLCZAACZAACZAACZAACZAACTQFApcVtLpIwqSd1X+SSD47JxcV53LO1D4QdXxs27bd5FTR/C9XMpMtPj4ehw4dkpw2lcYtovG1fX19xXnTCwMHDUJPEZAuJuBY2tO1axd069bNhF77YtYsLF2yRF6XW94+77lKjulUZqbJxXJFrpTzarv4H3feeSfatW0nokoKvv/+e2zZvNm0sb6tVCRJz8ioEU3qW6cxy7QeiwtJQ6tp3qK6Rc/XwYMHxR2UYHL3XIyDdsw1V43Wq8JeVgNh0jw8PTF48BAT0k73p5+NGTNmQoW1ukU7/YsXL8KiH38UgckaMTEx6NChg3H61F2Xf5MACZAACZAACZAACdxYAnrvWFJaau4HtSUt1IkvxTLZx/zRhP/TuWZ6v5uTnYM0CaemfZ1Tco9cLmGbWUiABEiABEiABEiABEiABEigqRC4LBEnuls0OkuumaLiIswX8SHu8GFzHGcqzhgRQgfmP/v0M7zx+hvYvXeP6dC1sL788GXaGaw4U2GEhM0bNiFJ3BlaNA+OdhbrPs7IuvXF4B41ahSeEveNihcJxxLx4Yf/wuwvvjhvexUhVHiKO3JExIUZ2Llrl9nXtfpPQ6o99cxT6D+gv9mFOk9e+91rWLF8BUrluFW40jbpQ49XnSufffYZMkTI+TnFS5K02tvbmyp2bt+BuXO+MhyUW6UykBmUu3bvMTmIFi5caHIHWUlbGyoadsI/oKXppKvLJ+5IvJl9WVlZadqt7dcOvIo9KsTcf99UE1ojIeEo/ix5gNatW4e8vDxz3nQbzcMz7+t5+Pzz6TgoAp67u5vkW3oUHTt2bKgJXE4CJEACJEACJEACJHADCWgOzOBWQXB3czOt0Hu6kyeOm9yYN7BZjd61Gsv1XthPJou1jWqDYAnja7lfbnQlXJEESIAESIAESIAESIAESIAErjGBy4pz0DW6G7pJGK79Bw8gXcIOPPDAA4ju2g1RkVE4eqw6PJiGPHN2csbA2wZg87YtqKyqvOxD6N69h+SJ6YqFCxZgw+aNGDd+PAICAqD5UQL9q0O4WRxBKtD4+Hlj7PgJiBbXTe3iJh3KEZK35+lnnsG/PvgAW7ZuMzlZ3nn3rxhwW384OThJAtNsHJPwCSaG98mT+PWvf41ICeEV2ECouNr1X+lrnfH36KPToI6YuXPnmmM88PBD6CQCmSZW9fLxQl5uHnbs2IGdu3cZMUTDyD3yyCMmFNqV7NdZQtBNunMivv76GySLA2jW7C9wIPYgwkJCkS/tOBJ/BJo7SHn2iO5hnDUpaSn1imO6/wHiiNp/4CCWifikx/PHP/4B33/zDdpIBzghKRGTJk3GHXfcjtaSA0iFnAd+8SAOHDyEWBH+cnJy8MQTTyA8IhxREVFoIa6btRvWGR6Z4oZydnbC3XdNwbhxY+FTT8g8FYeqzoVz09fNZbbnlZw3bkMCJEACJEACJEACTZWA5qw0Tm+1tEjRCTp6vzpLHPC33357U212rXZVhwfWSWfWcj8qN6UIlZDNet/MQgIkQAIkQAIkQAIkQAIkQAJNhcBliTidOnWU/DR34+TJE1izZo0JN7B0+TKsWbtWwg6UIzQk2HTcevfujeKiYqxZvxZZmVkmNvblHLCHuDCGDxuK1SuXY/OWrSa0QUpKihE1nBwdJUaD1CadRXW12NraiGvDHStWrZZthmOiCBWdxL2hwoIWnVH3zNNPm9jWs2fPxh4J/aWxrhMTEk2YrqKiQiMIaF3DZPuBAwdBXSu1i4aNU8FF3SWFhYXGwVL7/dqvVVDQUAxatCOrrqH6RIZoEcReefVVEau6GFfMvgP7heMa7BYnkKOzI4oKi43jSY9tyJAhUKYXtEvqLpD2aFEXlM5+bKi4urri1795VrhYY+68uUhLT0Pa4jTY29nBzs5e8gw5iRgXiaeElYos6koqPFIIJxeX6s55nYp1xuXIUSOxa9dOEYa+Rq5ss2LVSmzYuAFlMiszSLj36dPbiDi6qZ+fH5577jnjyvlx0SKsWb3aCIHbtmwz50qdV1r0WO+aMkXOw0D4n8tpZN6o9Z+jgwMcbO2RX5EnId0c5FHtMKq1Cl+SAAmQAAmQAAmQAAlcYwJ6v52eIWHIxKUPufXWe2W9j1SXdnMo2n6dbBQbd9hMburcubO559d7aiNONYeDYBtJgARIgARIgARIgARIgARuegKXJeJoeAEdXFdRI0gSfqalpRmnhq0IAW4iEgyQEGHjxo1DaGiYJLuPF8fOftjLYHtHEX8up2g4NXVkODo6ITw8zAz8O8jrwoLCakFEO4kiYGgYtCwRZE6KgyTp+HEcOHBABJRCvPnmm6bjpeKJdszat29vxISWLVti/fr1pmOp9WtHU2faqdtDHSO3336HybfjICJB7RIQ4I8JEyegXcf26Ny5E1oHta799nmvdX+jR48WYcQOEeccPbqsbtF9dI+ORicJNebv1xLbxXWTKsJKiRxTqYQWcxXxREUMbXvffv0QI/mA6rZLBaqxY8agteQM0tceHh51d1Pzt60kZ+3atasJl9ZS6t29e7dJQqviVWBgK7RpE4lu8v44cTQlSoi34pJiE8pMRS0VgOorHTt0xPPPP28Y6nnQkGgVEgLO5C+SvEUqQNUuKlhFilAUIQ9NGKsilybCVaFLt9HzMHbsWOOeUn4NlfbtO2DatEeNg0pD5ul5ZSEBEiABEiABEiABEri+BPReOzc/TybwlImGI/9EFNFlZy4ysej6trBxe1PRRsOqad9AQyyrI7+hyUSNq5FrkQAJkAAJkAAJkAAJkAAJkMDVI2AlHa0OUt3BK6lSw2+p6yIwIBAuLpcIOyAdOunZNWo33333Hd7961+NK+WF53+Ll156Ga7i/Dglrh4VHfShYk1KcrLkcdlt8vPs3LnTzPxT4UTdNi4iglysHJawXio6qHhTX8guy7baEdUOad3S0PK6613u36mSVDU3J1vEq3ARscR1dJmlse3S/DuJiYnw9PKWUHX+OnnyZ5WS0jJx1oioJ51gFWoaW5LlHGpboqKiGrVJY4+vUZVxJRIgARIgARIgARIggSsmoPkbJ06ciDXi0Nf7ar1nVjHko48/wUMPPQjbeiYyXfHOrsGGKt6sXLkKq1aswNatW5FfWICxMiFt8qRJZhKZToJiIQESIAESIAESIAESIAESIIEbTeBCi8hltEgFEC31iRwXVFOPEHLBOucWzJkzBxs3bMDIkSNrBBx9y9fHu2YTDbkWJPtXd0kvcX389re/xaZNm0xb0iRfT0R4hIg9DUsTbdq0MTMFVRC6WGno2BpafrG6GvOev39LtPTzveIQDo1tlwpE7dq1g5Ucf8OUGtPi6nWcHB0knF5I4zc4t+bl5h5q7PFddkO4AQmQAAmQAAmQAAmQwGUR0PsynWCjj9pF7y3VmdMciopObtKv8PTykFyZOciU8HAaupcCTnM4e2wjCZAACZAACZAACZAACdwaBC6uYFyCgcUVc7UG1rUTdUxCeaWLCKNFk6WqA8dSdD+Wh+5bX+s6AQEBNa4VDc2l+VcuJuBofbq9xrq+Wm23tPHnPlvLMV2vGNy6H93f1SqWz8Pl1Hcl21xO/VyXBEiABEiABEiABEjg2hBQ901Qq9bQXIm1hZyqeoSda9OCn1er9gO8vb1NaGDpFJjK1J1jY/uz5rn9vEZxaxIgARIgARIgARIgARIgARKoQ+BniTh16roqf1pEGq0sNTUVCQmJF623qKgY8+fPNzl4rEWU6D9ggMnPc9GN+CYJkAAJkAAJkAAJkAAJkMDPIqC5DYvloblkahcncXzbNhMhxFHc5Kat58xEOsEoNTXNhIerfUx8TQIkQAIkQAIkQAIkQAIkQAI3ikCTmmamnaYgSXgfHBxseGjemlmzZkms7QlmmQo8ZpafPJ8Rx01ubh52SC6cv/3tb0hNScGYO+7A4489dqNYcr8kQAIkQAIkQAIkQAIkcMsQUNdKSWkxKuqIOCqMNJeifYvTpyugbn4t2t/IzMxEbl4eAvz9m8thsJ0kQAIkQAIkQAIkQAIkQAI3MYEmJeIoZw3xdfvo0UhMOIqNmzbjT3/6L6xYthx9+/ZF69AgEW/OwEaSpB47mig5cDZi247t5vQMGzZUBJxpGDRo0E18unhoJEACJEACJEACJEACJHDtCKioUVpaCnXZaKgxFTUaKhrWuE/v3oiNPYyCgoKa1TTMWnMpVpJDMzcnDzlZOeZY9fjDw8Io4DSXE8h2kgAJkAAJkAAJkAAJkMAtQKDJiTjKfOLEieK8CcG8r+dh9uzZ2LBpA7Zs22Ly32iMbbHjoKioSJKOOmJAv/6YcvddGDxkMNq0iboFThkPkQRIgARIgARIgARIgASuPoHy06fx4YcfYuGCBfD09MTwESMwZsyYegWNM+LCycrOETd8GooLi65qY3JycuAmeXZ04ta1LpJxU8LBVcDJ0Qle3l6okuOys7e71rtl/SRAAiRAAiRAAiRAAiRAAiTQaALXvmfU6Kb8tKKjzuoT542XzP7r0aMH0tPToZ05jbmtIdec5X07Ozv4yPtt27RF1+hu8PX1NRXo7LmLzRj8aS98RQIkQAIkQAIkQAIkQAIkoASqqqqwbOkSfPP111i7dq0RcWxtbDFk0GADqO49to24591FaHFwsIeXjzfyCwvMJCuz8hX+p2HMkk8mwz/g+oUx05Bwrm6u8Pb1hp2tHSKlb+Hi4nqFR8DNSIAESIAESIAESIAESIAESODqE2iSIo4eZosW1mjfvp15WA67uFhEHOkwOkpnsaFCAachMlxOAiRAAiRAAiRAAiRAAg0TyM7KRnZWllkhT3LC7N61Czt27EBgq0A4OjpesKGPiDcB8l5AQACys7NRWFh4wTqNXaDbHktKQp7kvAwLDzMTtxq77ZWup/0GewcHODk7S16ccjNpbKD3YBGmmk9Onys9dm5HAiRAAiRAAiRAAiRAAiTQfAhYN5+mAs7OThcVcJrTsbCtJEACJEACJEACJEACJNBUCKjb/a577kVvccNrUdf7wdhDeP/997Doxx/rbaa6d3x8/YzocebMmXrXudRCrSM/Px/r129Afl4+unbrBg8Pj+si4mjbvLy8UF5ajgMHDmLj5k1ISUmBhpVjIQESIAESIAESIAESIAESIIGmQqBZiThNBRrbQQIkQAIkQAIkQAIkQAI3GwFnJ0e8/h+vY/r06Zg4fjxGDhuBjIwMbBM3TmlZ+QWHq04WPz8/yVvpbMKxWVawt2/YNW9Zx/KclHQc//j731BWWiJ5cFyRmXlKctRcmSBkqbOxzxoiTp1HSSeSkHEqw+TgaRUYaPJv6nssJEACJEACJEACJEACJEACJNAUCDTZcGpNAQ7bQAIkQAIkQAIkQAIkQAK3EoGgoNYYLwJOWFgYYg/FSp6cZUhPScVyyZczavRo1BVoNI+MlbUVKs5U1GBSF8+lSkJiIpYuXYotW7bAwc4WUZKLJldCqZVIDswO7dtfavOr8r6KUM6S/0bz4thIG/xb+qOouNjUzRDNVwUxKyEBEiABEiABEiABEiABErgKBOjEuQoQWQUJkAAJkAAJkAAJkAAJ3CwENJxZTEyM5IpxMuGMjx49ihkzpmPTxo3nuWTUrZKXnwcrMa34+7aEv19Lg+D0JcKRaciyJYuXYOWKFUhPS4Nfy5aIOxyH+CNHJC+mzXULpaaNdXd3g7eXN1ydq8WclOTk847xZjmnPA4SIAESIAESIAESIAESIIHmS4BOnOZ77thyEiABEiABEiABEiABErgmBE6Xl+N40jEkHEvAnn17sXP3LpMnx8HRET179oStra3Zb2FhoYRBc0P36O4ol23mL/wBZWVlDbYpMzMTc+fNw67tO4zoM3TYMHHg5OJIbBxcnJ0RFNy6wW2v9hvqtrFp0QIaQs3V2QXxiUdRIKLU9QrndrWPh/WRAAmQAAmQAAmQAAmQAAncnAToxLk5zyuPigRIgARIgARIgARIgASumICjkxNuv2OMbG9lQpxpyLHvvp+Pe++91+TM0Yqtra1N6LNu3aPRqVsXdOjSCeHh4fD19a13v3Fxh/GXN/8bm9ZtQKugIHTu1hXZ2dn4YtYsjBg9Ck898wzCQsPq3fZaLFQnUVVVFTw8PeDp7WGOJ6BVa6hQxUICJEACJEACJEACJEACJEACTYUAnThN5UywHSRAAiRAAiRAAiRAAiTQRAjY2Niga9eu6NmjJw7sP4D8gnzjUDlx4gTmf/89IiMiMHjIEHTq1AkhISHIysrCnj17EBocIo4al/OOQp02y5ctx7atW41o4mBvj2XLlppcNL169MLbb7+Nvv36wcXF+bztrvUf6sRxFMGmsKAQlWeqEBwSjOysTJSVll7rXbN+EiABEiABEiABEiABEiABEmg0AYo4jUbFFUmABEiABEiABEiABEjg1iHQQkKNPfiLXyA/Px8zZs4wThUNNbZp8yZ4fuYJfwlDFiHOGx8fH/PQMGpB4rBxcHSogVRQUICZM2di88bNKJLQa7YOtkg4moiTIgZ16NABQ4cNxdixY2vWv94v1I1TKqKNCjllpWVQ8UodRiwkQAIkQAIkQAIkQAIkQAIk0FQIUMRpKmeC7SABEiABEiABEiABEiCBJkage88eePChB7H/wH7jtFGBIycnF4sWLYa3jy+mSni1zp07G0dLoIg67h5uNflyNP/NggUL8L04d4qLimErAsmx40lGFBpwW3889thjmHzXlBt2xCrgaB4fze9zVv7l5uXB08sb9uIUYiEBEiABEiABEiABEiABEiCBpkKA08yayplgO0iABEiABEiABEiABEigCRLo2bMnXnjhBSN2aA4ZdatoLpsP3n8fX82di5MnT5pWq3NHQ5S1aGGNiooKLFy4EE8++SSCWreCnb0tNoqDR0OrTbpzIt78y5s3VMCxYFYhx02Ep9DwUISHhZv26zGykAAJkAAJkAAJkAAJkAAJkEBTIdDijTfe0Myjv2wqDarbjsTEROgsPu1gOUmCVRYSIAESIAESIAESIAESIIHrR0CdKe7u7khJTjaCjYYfU0eO3p9nyX1623bt0Vly42h+mX79bkNZWTn++c9/4N133zVh1hKOJuDAgYPw9PTEk089hd/+9rfo2LGjEUyu31HUv6fTp0/LMSWjSo6lXbu2CAsNQ5s2bSU/z/l5ferfmktJgARIgARIgARIgARIgARI4NoTaJLh1PIklMGaNWuxePEi6Ovy0xLmwMYWbdu2w+TJk0ynz87O7trTaWZ7SEpKgpMkkvX19YFVM2s7m0sCJEACJEACJEACJNB0CQQEBJjwZ3FHjmDXrl2moS2sW8BV7j137dgh4kcI+vTpIyHXdmPu3HkSQm0+UlNT0bJlS2RkZMBPnu+//3488cQTiIqMbDIHqkKUCjgqMPn5+aGoqEhcRKebTPvYEBIgARIgARIgARIgARIgARJokiLOihUr8Ne//hWbN282Z8hKJAmNU926dWv07ddPZsm155mrRaCoqNCIXlu3boWdnb0w6ovhw4bVWoMvSYAESIAESIAESIAESODKCWjemIGDBmHKXXehsLAQ8fHxgPQkrKyscfLEcRyXXDddJDfO1yLgzJw50+S90fBqKuB4+/jgvvvuw+OSA6cpCTga+k0dRS7OzvDw8ICjg6MJE1dZWXnloLglCZAACZAACZAACZAACZAACVxlAk1KxNGZcNop/OSTT4yAo51FDaE2eOAgaNgGbz9fdOvWTZKN3vwuHGWhHUiNya2dS0uM8frOf0pKKp577jkkJCSYtwdJB5siTn2kuIwESIAESIAESIAESOBKCWgunJdeehk5OTl45+23zX3qjl070Cq4Nby8fZCWno7MU1nioK/uYuj9rN7LP/LII3ji8ccRFRV1pbu+Zttpf0PbZSOu/1OnTiEwINCEhbtmO2TFJEACJEACJEACJEACJEACJHCZBJqUiKMJUJcsXYp06QBq8ff3l5Bqi40Dp/JMJaysreAm8bhV1LjZS15ePnbt3iWzGo+jdavWGDBggHQoHRo87NozBs+cOWMEIBV+WEiABEiABEiABEiABEjgahGwaWGNQXJfun3rFqzfsNFUW1ZSjBPixMnNycXKNauQlZ1tlmuOnF/9+td46sknERoaerWacFXr0X5FREQESsvKsHffXkTLhDEHh4bvua/qzlkZCZAACZAACZAACZAACZAACTSCQJMScVSI2LF1OzLSM2Bna4fevWJM/ptGHMdNt0qKxBD/5utvsHHjBowYNhy9evVsUMTRWOP/8frrElJtDawlLMQwCaVGAeem+0jwgEiABEiABEiABEigSRCI6d0bo28fg7Xr1pv27Nm7FyWlZfD29jYCjoYpGzNmjHHgqIs+JCSkSbS7vkaou0iLsziGXFxcbonJYvVx4DISIAESIAESIAESIAESIIGmS6BJiTgaOiw7KwvFxcWSWNQXHdq3v2UdJWlpqdi3b595tImIgrprGioaw3vqvVPRoUMHCVnhiNCQ0IZW5XISIAESIAESIAESIAES+FkE/Pz8MGToUPTr2w979u6RvDenkJmZBTc3NzjY26NTp864//77MWnSpJ+1n+uxsQpOWpxFwImKagNnyY9jWXY99s99kAAJkAAJkAAJkAAJkAAJkMClCDSpuGQazkDjUmtXyk7y3rh5uN2ynSjNDVRZVSkdYQfJAWSPFtYXD43m4GCP3jEx6CydZldX10udd75PAiRAAiRAAiRAAiRAAldMoEvnTvj9a6/B09PT1KHCh7rqdVLRL37xAG677bYrrvtGbKi5e4KDg9HSPwB2dvY3ogncJwmQAAmQAAmQAAmQAAmQAAnUS6BJOXFaiIhjZr6dmxGnLb4V8t/Ud2Y0HJq15ACyFGuJP85CAiRAAiRAAiRAAiRAAk2BgOa76SxCjp2dnWmOt5c3Bg8chOGjRppQaoGBAU2hmY1uQ4lEAsjKPIUePXqYSWWN3pArkgAJkAAJkAAJkAAJkAAJkMA1JtAkRJykpOM4fPgw4o8cxopVK5FfkA97cZasXrMWxYUlOHv2LIJCgtG7Tx/JkdMBe/fuw+ZNmyR3TjrCIsJwzz33GrdKfayOJSZi+ufTUXmmEr16x0gdvaE5ZCxF6044ehRzZs+Bg6O9xPe+HZ06dzZvr16zGocOHMI+ifMdn3DUzM5r2yZKOqZj0aVrV0sVl3xevGgRNmzciKOynywJFxcQEABfH19JnBqN0XeMltBxfqaOjFOncGD/fiQlHcPq1WtwXLioiJV08jjefut/TJzu8vJyCffgjBHSQW7bri0cHRxRUFCApcuWIf5wHFwljEXPmF7oK6wuVrKzs/DNN99g/779SDx2DBrKLigoCH7SrpGjRhlO6gBqqOg527J5s2HXu29f9OvXV0K5OSFd8hkt+nGBJIbdh4TEYyiXJLGaLHbKlLvMjExHRyaKbYgpl5MACZAACZAACZBAcyFQJffQZeWnTfgxT3cPTJbQaS++9BLcPdxr3DnN5Vi0nRqeWF1EGhWAhQRIgARIgARIgARIgARIgASaEoEmIeIcO5aIr76ag3Vr14igkGT4aDixTSLUbN+6DaWSKHXg4EFoGeBvRJx9Ent73rx5IorEo0/fPrjzzkkNijhpIvR88sknOH36NGzsbBHdPfo8/irinDiZjM+mfw53d1e0k85bkCRf/fijj7Bk6VIkxMfjWFJ1m6xEUAkVMemwiCVT7roL48aNO6+u2n9UVJxBbOwhfPvtt3Jca7H/wH4RcLJrVnGS2YtRkVHYtWcX7rvvfsSI8HLyxAkjOO3YsR0q6BQVFUFjy8XGxiI+7ohsa4Xy0+Xw8/VFKxFcQkNDjYhTWlqKnTt2YMH8H6QD6mk6nw2JOPn5BVi3bh0WLPgBW7ZsRpzUq2wsRcWlHTt3Ysy4sRg7dizCZB/1lSQ5ZwsWLMD27dtxVtoYIOcmJTUVs2bOwo7t23A0IQEVFRVm0y1btiBRBJ0HJLTGKBGfWvr9JKLVVzeXkQAJkAAJkAAJkAAJNHECZ6uFj1/+8pcoLSlFn969ER4R3sQb3XDz1FFkcRU1vBbfIQESIAESIAESIAESIAESIIHrT6BJiDjAWVRJDO0KcctoPhcVJdQZonlg3GQ2n524ctzc3YzTQ0WX9PQ0EXsSRHw5iVatW5t1G0JXJk6Q5NQU83ZxSfEFs+uk/4nikhKpL9HUv1GEIxUc/vKXv8DGxkaEHXdER0ebfaSlpeKYiEz6UMFixIgRcHCo31ly8OBBfPDBB/jww3+bffv7+0vIic7Q0BN6bHl5eTh0OBaxcYfRTRw53bp1FQZV0FAOp0X8sLayNi4cXVfwwMXNFRpiTZ04rsJC22YpyqRUju24OHZycnIkFESW5a3znlVUWSrC1DvvvG3EF3XxhIaGyTFW5x4qKiqWpLQZ4upZin379yE/Lx+//OUz9c6mzM3NRdLxY4gXIW37tq04c+aMqXORuI7Cw8NFbOtoQuPpcZ6U87R8+TIUFxfBWdw6kydPPq9d/IMESIAESIAESIAESKB5EdCwv36+PnjqqaeaV8PZWhIgARIgARIgARIgARIgARJoZgR+UgJuYMO7RXfHH4ND8dDDSXj99dexdetWaFzt8WPH4RcPP4gWNi3g7uZuwpmpYKEhxuxsq+NvXyrkgcmxc+7YGsqvo7l4tJ4SEXPeEvFGhRYVIZ588ikMFgdQq1atkJGRIe6cDzFjxkycTE5GSkoKdu3ahZ49e14wa0/fmzVrphFwVHjp3SsGd999N8aOH2cEDm3OGnHnzJw5E7GHDmHAgP6mjo4SV/ytt99GjoQ6+3LWbHzz3bcmtNyoESPxyGOPwtvb24g42tbWIl45OzvXnDU9Nl2uD91n3aICzp49e0ScetM8e3l6YcSw4Xj+pRfRs1dP8fhYIe7IEcydMxszZ80Sl1MC3nvv/wzz8dJuDTFRu2iOHsdzAtbCHxfhhwULxaUUil89/Uvc94v70alTJ6iA9uOPP+Ktt94SYSxRwuDtFffPFoo4tUHyNQmQAAmQAAmQAAmQAAmQAAmQAAmQAAmQAAmQAAmQAAk0QKBJiDjuksfFU0QCHy8vRIZFYO+evbCzt0NwSJA4VLoZt4s6UtR9UimOnWtZVPTp37+/uFXeEZdKqMlDowKJvn755VckN04CTn41F7m5OVgh7pK2bdsacaV2m6ZPn445c+YYJ1HP7j3wxn/+J/qLUKM5ZiyiUj/JI9O2TRsjHAUHB5vNNcRaRHiYCdn2w/fzjTvpbFW1aNWpYycESIJYS+gzFWoaEqVqt8XyWsPT/fnPfza5hzxEEJs4YaK06w1Tp7WVxEOTEhUVieeffwFOIg59+umnEsbtMF555WWEhYWK0DRAV6m36LkZNmwYHp02DWMkp5CjuG00HIW6qsaMGWPa+ZLESD8lIeI091GShKfTY76c9te7Yy4kARIgARIgARIgARIgARIgARIgARIgARIgARIgARIggZuYQJMQcSyD+Y5Ojkaw0b81RIMKOeqKUeHDso6eCw2Bdq3KHSI6PPfcc+jSpcsFu3CT0GrhoeHGJVQisb/jj8QbZ4xlRRUz1MGyYcMG49Tx8/PDk089jX639TPHYVlPn1XQCQwMrL2oRuBRsUqdMZow1vyTZwcJKaflSmJ1q3vpSFwcNm/ebNwxvSVm+ZS7piAoOOi8/asjyUWEF3UNqdCiIk665BRat349IiIiLmiv1qvF09MT906diikSJq1u+3wlf8+QIUNqjl/DqyUnpyBIcvqwkAAJkAAJkAAJkAAJkAAJkAAJkAAJkAAJkAAJkAAJkAAJNEzAuuG3rv876rJRIUTFAX3o6/qcN9W+kWvTvl49e2G4uEoaKr4+PvAS0UJzwJSWlEGdMpZSnRdmG06cOGEWaR6ccRPGnxf2zLLupZ5VvKl9nJWSL+dKS1Z2Nvbs24eCggJTheb4GThoYIPVBQeHICamtxGaVDw7JPl9LMdUeyPVcFRg01BrXSTfjwo4FmGn9no+wswS4k3Pp4atq2+92tvwNQmQAAmQAAmQAAmQAAmQAAmQAAmQAAmQAAmQAAmQAAnc6gSalIjTFE6G5nEpLStvsCkenh5wdnU2ApMRnGr5glSgOBJ3GPn5+Ua0CAsNg4e7W4N1Xa83cnNzcUTy3ajg4i5uosjIyEsKS5rfpm9MH+OAyso8hSIJx9ZQUQ7KTYslXFxD69Z1VTW0HpeTAAmQAAmQAAmQAAmQAAmQAAmQAAmQAAmQAAmQAAmQwK1OgCLOZX4C1CFjbWVtwqgdO5FUk6NGq1ExIzMjCyXFJXCXvDOtAltJ7LefnDqXuaurtnpZaQmyRYi5mLup7s6cJLSdb0tfI8rslhxFSceT6q7S6L/pumk0Kq5IAiRAAiRAAiRAAiRAAiRAAiRAAiRAAiRAAiRAAiRAAjUEKOLUoGjki1qaTEVFxXkbqYhz9FiCceK4e4iI0ypArSnnrXMj/igqLELyiRQjMgUGBEo4OK9LNsO6hbWER7M1Io6GPysvP33JbbgCCZAACZAACZAACZAACZAACZAACZAACZAACZAACZAACZDA1SNAEednsNR8MbWLhgrzlPwwdvaSG0YEHS2XCi9We/tr9drOzh5uIippWyztutS+Kk5XoLCg0Lh3PCQEm5OT06U24fskQAIkQAIkQAIkQAIkQAIkQAIkQAIkQAIkQAIkQAIkQAJXkcD5KsRVrPhaVqXhufRfY0pdoaUx21zpOjY2Nujeozv8/HyRlZWNxIRjxv1yRfXJ4ekRqo/HCEE/w9Dj7eONjp07mfw2x0+eQMapjEs2qaioCGmp6UbECQkOga+3zyW34QokQAIkQAIkQAIkQAIkQAIkQAIkQAIkQAIkQAIkQAIkQAJXj0CzFHFqH35TcLpY2qNt8fbxgbOLK4qKi7Bh80YUFxdb3r5hzw4OjvAREUYFrfLycqSkpFyyLbl5eTiZmmxEqHYdOyCwteT3YSEBEiABEiABEiABEiABEiABEiABEiABEiABEiABEiABErhuBJqdiKNCiaeXN5ydXQykEydONOh2iYs7jHlz5143mDY2thgwYBC8vKpzzuQXFGDxkiVGONFGqIOoscXbxwtubq4oKS1Fcmp1PpvGblt3vYAAf8TE9EKp1KVl9+7dWPTjwrqr1fydkXEKu3btRnp6umEbGRGBgADJ78NCAiRAAiRAAiRAAiRAAiRAAiRAAiRAAiRAAiRAAiRAAiRw3Qg0OxFHyYSHh4vA4WYg5ebmYunSJTh9+vR50OIOH8YH73+AOV/NqVl+rV07LVpYIyoqCr1jYuDq4oLMzEx88MEHWLBwIcrEAVN3/6mpqfj2m29x6NAhI9bUNFReeHh5wsXVFZWVlTiWdAwlJdUCTO11Lue1tuvee6fC0dERW7ZsxuefT8e+ffsuqEKdOtOnT8fcuV+Z9zp36iQCUAxatmx5wbpcQAIkQAIkQAIkQAIkQAIkQAIkQAIkQAIkQAIkQAIkQAIkcO0I2Fy7qq9NzSqEdOjQAeFh4Vi3bp24S0rw8Ucfw9bWFl27RaNQ3C9paWn4+ut52LljJ2xs7MS142zCml2OE6Yxra+vPmvJXTNh/DhpQyrmfjUX66WNdnZ2yJPwZH1694aDvT3KRXDSnDMrlq/AN/O+xviJE/HwIw8jNDSkZrcRkVHwkdBsWjIyMrBQnDMDBwyEo4O9EYTU7ePr62vqrtnoIi88PT3x8ssvS66eTCxfvlzq+xFeUv99U6eidavW4ripREFhIQ4ePIgPP/o3EhISoA6cR6c9iu7du5tQbOdVb1xF1c6i+jict6780Zh16m7Dv0mABEiABEiABEiABEiABEiABEiABEiABEiABEiABEjgVibQLEUcdYUMGTwYe/fswZ59e7Fy1SocjouDh4eHEWuOHz9uRIMnnnhCXCS98c7b/2Per6qqqvdcNz7ImWXz6i00x0x9ZcDAQRJC7TQyUjOwaetmrFq1EitXrIAKKQP69cfx5BNIPJYoglOhEZi2bt6MiRPHA7VEnIEDBuAHccEsXboUZ86cwa9/9Sv0iO5uHEhZOdmYPGUKHn3kEQQFBdU04adobRcekY2NDbp164r775uKIhFrNm/ZIuLXR1i8aBEiwiJgK+8fPZYADU+n+wsJDsGEcRMwbdpjcBVHUN2iYprFWaQcLK/rrmf5+1LvW9bjMwmQAAmQAAmQAAmQAAmQAAmQAAmQAAmQAAmQAAmQAAmQQDWBJiXiqFujpKREHCEFsLWzRVlZWYPnacKdE2HdogXe+Z+3sffAPqSkpJiHbqAulWeffRaPiMiRl5sHb09vU4/WXZ+Qo6JFRUWFWadU9nkx18jp0+XIzy8w6/p5+4rTp36EQ4YMRevWQfhs+udYKOHUDonDRUO/LRBHzVn5p8JH127dMH78eOOGiRDXS93y5JNPmkXvvvuued65e5d5VkEkWgSZsrLqEGvaXs13U1CQD1SdRXlZed2qav6+d+p9iIxqI+HS5uHLL2cb0UaFG0vRMHUDBw3CVHHojBsztl4BR9d1cXWDrb2DYeUjfNVh1FDR9np7eyMxMVHY5dewbmh9LicBEiABEiABEiABEiABEiABEiABEiABEiABEiABEiABEgCsRADoICAONgUYKqZs3rRJQnklwl7ChnXo0B5dOneBVQOOl+ysbGzfvh1xR+KQkpoCO1s7tGrVyoQZ6y2hy9SlUlxcjI3rNyDpxHF06dLFPJycnGoOVwWQk8nJWCaOFxWNNP9L9x49YCMCUX3lsOTaOXjwAPLzCsQ4E4I+ffvAScK1NVTijx5FgjySZR/p6enIzs42gkZgYCCCg4Oh4k1YWFi9m2vbVPhYIS6eXBGjsrOz0ELaFRoaivbt2iG6e7Q4c9xRKuLUHnElxR05IgxsTbi5btHR9dapCyuEc6KES9u/f7/J26Nt05xCAQEB0HZpe9q0bQtPcTY1VDTE24EDB0z7NBxbTO8Yc1z1ra95fTSEmzqk1EXVq1cv2VegCFkSe46FBEiABEiABEiABEiABEiABEiABEiABEiABEiABEiABEigXgJNSsSpt4WNXJiVlQV7cYPUF/qrkVVc8WoqtjQmXJgKJSri+Pn5GTHmcnZYKQ6bbMlno8fo7u5es2lj912zQT0vCiW8Wnl5eU0OHssqDdV9ucst9fGZBEiABEiABEiABEiABEiABEjg5iDQUL/w5jg6HgUJkAAJXBsCvHZeG66slQRudgI3jYhzs58oHh8JkAAJkAAJkAAJkAAJkAAJkMDNRUCjFuhDIy7oo6kWHXTUiX8a6ULb6+joeMEESl1Ho2voJEF91gmIGq67MRMer/Zxa1s0ZLqGMVeuN6INV/uYWB8JkEDzI6CTuTX9geV6pBPPbSWCDgsJkAAJXC4B68vdgOuTAAmQAAmQAAmQAAmQAAmQAAmQAAn8PAIqhmi47pUrVyE+/ujPq+wab52Xl4dvvvkGffr0MSGy//CHP1ywRx2s3LFjB4YPH27WeeKJJ8zg5QUrXocFRUVFhuvOnTuhbWchARIggRtBYNWqlXj4oYfQTlIiDBkyBNu2bbsRzeA+SYAEbgICNjfBMfAQSIAESIAESIAESIAESIAESIAESKDZENB8rDqY98YbbyA1NRVDhg7Fww8/jN6So7UplqqqKnHhlJi2avtycnIuaKbFrZOWlmbe05Dnuux6l9jYQ5gzZw4WLvzROIKmTZuGBx54AF5eXte7KdwfCZDALU6grLQMmZIaQVMrqDNQHY0sJEACJHAlBCjiXAk1bkMCJEACJEACJEACJEACJEACJHDDCKioUFRUjNS0VFhbWcHX1w+enh43rD2Xu2N1rSQlJWH16tVmUz2ebl27NlkRR8ORaVgyDaNWUlICOzu7eg9ZBykdHBzMexpO7UaEMUtNScXaNWuwa9cu0w59njBhAkWces8YF5IACVxLAnrddDh3LdTrp14jWUiABEjgSghQxLkSatyGBEiABEiABEiABEiABEiABEjghhHQ3Cy79+zBDz/Mh4+3D0aNGikiTvcb1p7L3bGNjQ18fHwQHh5uZmiHhoTA2cnxcqvh+vUQ8PT0RFsJXRQbdwSlIjgFBwcb8ameVbmIBEiABEiABEiABJoFAYo4zeI0sZEkQAIkQAIkQAIkQAIkQAIkQAIWAhmnTmHRjwvx/nvvYfCggejVs4flrWbx7OTkhIEDB+LNN/8iYcqK0bFjR0RHd2sWbW/qjezevTteeullhEdEwsPDE0MGD4Kfn19TbzbbRwIkQAIkQAIkQAINEqCI0yAavkECJEACJEACJEACJEACJHAjCJRKvpDy8tMm7MjZs1XIl8TkmltDwzjl5uaZEE1h4mDwb8mB2RtxfprKPqvkM1FRUSF5TypvSO6Vn8vBxcUFt99+OzSUmqOjQ4Mhyn7ufm657SX0W2hYGB595BHY2NjCxcX5lkNwqxywZlwqKCiU3worFBUWyu9GmXyfziIzM8t8ryorK+Hu7o7OnTvdKkh4nCRAAjcRgUq5PyjUa5yE5dPQfHo/fPp0ucn3lpWVbZ4DAwPlNy/UhJa9iQ6dh1IPAYo49UDhIhIgARIgARIgARIgARIggWtLoKSkFHl5uTgcGysDbplGnCkuKTaD8bnSST1TccZ0WHWA++TJE9DBOB2wL5Ukwba2NvD08pZZ9u4m1rzGmHdzd4Obi5vkRvFFUHAQPCSkUlDr1nB25gDutT2TN6Z2zYNTUlxkhD47O1s4iAjSmKJi4OXmabmSbS7VFkudbm6ul1r1ln3fwuhKANjIYJdeCyzl59RlqYPP159A+ekKI9BkiShzJC4OxyWPVIsWNsjOzTYOtnLJLaWJ4/U34NSpDBF0Csz3W/Nl6fdcz7sKpCESrtDWVgU9F/nd8IC7qxucRdxzl9ct/f0RHBQENze363+A3ONlE2hK3+XGtEXX0fuYhkpj6mhoWy6/OQgUF5cgNTUFKSkpyM7KQp5MVsovLDAHpyJ1aVkpIIp1Xn6eEav186SfG91OX6tQ7eXtBUfJR6dCj973thT3aatWreTe2N04UoOCWptr381B7NY9Coo4t+6555GTAAmQAAmQAAmQAAmQwHUhoJ3MoqIiFBYVoriwGCeTk5GZlYksEW82bFiPs5VnkZ2TgwwZhNMwU5o0XWfQa6+1tLQUx44dE1GnQvuwKBeXToks00FaGxmUqxJxx8rKGlFt26BtZBuEhYch8XgSTpeVIyoqCq1btzKJ1h3sHeAqA+Ze3t5wlYE8luZHQActTslnRgWc2NhDOH78uDmIIglHlnA0QXKfhJgBXf28+fr5yiCti5m1WpAvA7syU9/Hx1vy5nhd9MArzpyRbfKRk50tny8b83nxkEEQLVnnBldatLA2A7/6WT0tg8y6bk5ONlR81IFiRwdHGURxkm19jNBY3w51gPm0DEAnyaC0fra9RJT0kTbr5/pipVDcBmmpaWZQR78bKm5qO9xcXREQGCCvGxYti8XJViiD3OpYKJCHbq/ttZek2/qdCA4Jle/dxfd/sbZd6j0dYM9ITzdOCQ9PDzOgpPtuqCijPGGampJqBqZ0kEoHq/T6cLFyRs9hfr5cX7IMH+WieXLqK+Xl5UhPSzeD/2Xi4iiT64smH9fBfm+5VtQWgurbnsuuLgH9jhcWFonrslgGNVORkHjMnG/9jh3Ytw9xhw/LZ9YOp7IzzeClfhb0c6I5pvR6oL8pOmNdBX89l/pZ0Pf1c14pjj0/+Y5FRkYiUkLttWoVCCv5vOv5bhXYCm3btjUH4+BgDw93j3ODnx5X9wBvwdr0eqwhIzMyMuTabQ1vuQ7r91ivf3m5uea6qdc1PV/uIqS5ykOFNn3UV/R86vpaX6WcX/+AAFOffnbSZVmmhNrU9/Wc+7dsidYi0KnIV7vkygQSvc7r9TBfHrqtq1xD3d3czYQQ/e43pmhb9LN2SvZZLMJhTm6OqUuvyfo70EbuSxzk8+Uof+v9S31F69DrnE5mOasD8hIC0lOuj/Vd57Sdyk2vifodcZP26qSVSxXlUnRODNDrvrZZr4mW69zFJrvoutnmNy5HJtvkGq4OIhY4y2+NnsuGzlPtNiWfTJZtc6Ciq+5fv3P2dvZy3tzMb+nFfgdq13OzvFZXuX5G1VWTcSrTXOv0t/Hw4djqz6VcA5NOJMFWJ6jIvavy0WtZrEx6qqw8I58TuReW365yceRo0fsGvS7q77fWHSjiTc+ePRHdrRtspI4yuR8Okfdp5UgAAEAASURBVNxwbdu1Nd9B/f7pOdDvmlcDv403C+ub7Tgo4txsZ5THQwIkQAIkQAIkQAIkQAJNgIAO3OgAs43MmtbBtT2ShP7goUM4sGcfEpOOySBy9cCJDmCMHTcOnbt2NgMEga1aIzAg0AxgFIrwk56ehswMHfitkiTlZUhISMSadWvQr09fBPgHmI6sDtB06tbFdFrtZOBm0+bN+GH+fCMc6YCeo3SCQ2WAv13HDuh7Wz/06N4Dfr4+ZmBHt607wNME8LEJ9RDQwaRvvvkGiQlH5ZGAgwcPmQGzhMREfPzxx/ju6+9QWVUpn5NSPDztEfTp1w+bNm7E/G+/B6yqcNfdd2PqfffVU/NPizJlQOWHH37A4oU/Iig0RLa5C4Mkd42WZcuXY+EPC+Akg3OPPfm4fI66Y9++/fhR1l21YgXWbVwPH3F/hAQFo33bdhh5+2iMGXOHCDT1C0c6aPfqy6/I5/sUJt01BQ9J+C8vGbxrqOig5bp16/DFjFnmO3RMvkc6YKNiZffobrj//gcwaMgQuNRyn+mgn353dIB03br12LlzB/bt3YMdO3cZcVTbpo61zh0747cvvYiOHdqbAaOG2vBzlh84cAD/+uB95GTlYODgwRg/YQLayaDSxcraNWvx7tvvGJfEg488hKHDhsJHxLGLFR1oXLVyFWZOn2HEmRfluMZPnHDBJjqYuGPHDsye+QW2C5fUtFSkpaVBQ9No+K1Ro0ZhwsRJwqeVGbi8oAIuuCoENFyQfJHN4LQKpbt27cb+fXuxRz6n+h3Xz28r/0ARGYNErI8yvys9eveU34lWZtBdv/MqDsTFxZrfCytYidCZLoOgx2XiQIF8H0SgbB1srhVu7q5G6O/YqQsCZPB/187tWLlypQyOxqGFDICekd+sCAnF17NXT7Rv3xFDhw4R8dfHCEH8rbiy062Dzfr7/+8P/iWMbTDhzomYMH68WbZ61SqsX78eu/fuFWEiBT2iu6N7jx4YIHnOpt57rxHn6tvrfhH03nvv/5CXk49nn38ew+S6oPcKH3/yifnt37Vrlzm/Tz7xOF559VWZyOFoqtHroV4zv/9+PjZv2CTnfyd27tll3uvYvgN69YpBrz4xeOjBBxvt4j0k9zVz5sxB7IFDWLl6pfwGVSEiPALhoWF49Q+vQW4wjDCjn/GGyqZNGzH9s8/NPc4oCbE5bvxYmZQQfMHq+l1IFgHnf/7yFvYKU70evvnWXy5Yr/YCdXd8Pn069u7agyT5zTgmk1zU7TF44GB0kvuukXKdu330aCOU195OWen92d69+7Bk8RLzG7dm/VrzexYi91Nt27TFyNGjzG9cQ2K3Cg8nRMB5/3//D2vWrEbaqXQjQOk1NlDu32JieuO+B+6D5jFTUeFmLZWVVXIdqzSHp9e4ffL5PSSCzIG9++W6ddhMqggLCTVum7DIcLkf7oKI9DD4CSNl5SbOQZ0ItVc+q8q0RBw4ySdTcCLlpPnbz8cPoSHB8PLxwsnjyQiWe5eeMb1EnA7EbvmcLF2y1NyH29rYmskpMXJ9C1Dhul07jBg+3JxTFcL1fPN+uGl/CiniNO3zw9aRAAmQAAmQAAmQAAmQQLMjoJ3MjRs24isZ2NCwaGkiwhQVFUqnPVDcBt4YOnwYdAD6u2+/Q5uIKOzcvh3qEtBBA5092/+2ftLx3IstW7aamYXa+S0/bS2dVcjM2wrhcQbJMkh3XAbp0tMzYGdvh7Ub1pnBZx3k0CmvOsCug3mRMsDdu28fU/fWzVvwX6+/YRw/bdq0wSgZuBg3diw6dOjQ7Bjfig1W19Xenbsxf8F8OYenamYqZ8hnQN0p5tyfA9O1ezczENhGZtdv3rZZPifpcBJ3xcBBg8ygiA5W1FeOHUvEByI0HDlyBNOmTRNR5ScBJl/Egf0H9skgYClCw0NFNPoWq2Rgaq8MOKvApEWdAPo4dOggVsiA3gkJBfjAAw+YWbB196czcddv2ICs7Cy06dBOZuYWNCjiLFr0I2bIQNzyFavMd0lnY1tKnISZUrfadzIwOeWuu/D3v//dzK7VY1RRYunSZZg3by5URNEBpDIRLyzDiTnigNPH0aMJpr0fffwJxorwdC2KOqj0mNfJMcdKmwPFCXExEUfbtXXbVqzftMGc61df+90lBRxtt846TkpKgg44qgPg3tSpFxyO5tZavHgx/vjHP5gQNjrQrMVPQtCoA0QfKnp99NEneFUGgVWMa+zs/At2xgUXJbBy1UpsWLseqckp5jscn3gUtiL+9+/fX76Dj+HzTz9Dogi1++TzqxMDTpw4gSBxV0SGhqGliJBlcu7Wb9xgJgHoFPWzss4Z+X6US24cbxFFrT1OY6UMtOvvi7X8vtjY25vPk34/1I3gKyJN185dzG9TRxEzXcSRkSjXARUJXhIBMDwsHMOGDsPwkSMwYED/ix4L37yQgJ6zDBGqt8h3WV1W6niLiz2ET0W0OHnypJmIYdlq5+5dOCjvrZbr6q7tO/Hq714Vp0ZLy9s1z3r9N9dOyQmi4u56+a7r/caMWV/IAHexWU8HpX18/WRg+icXzr79B/B7qVMH0c21UMRtS9H9xiccxarVq7Bnxy785rfPolOnhnMp6e/NzOkzMWPmDGzfsd1cV9XJqeXAwQMyaeWg/PZsFTEmyLhPNMxVQyVZ3MlrRcxSYdnb10s++/3qFXGUZba4mPW6qL873n4NC9oV4jxbLtf+Tz/5WOpeZ9w+em9mKatlMsyW7Vvx3XffYbCI6v/+97+Nq9PyvooG7/3z//DNt9/IOYmVtpWYt9SVow8VWZevXI5tWzfjySefQldxfdQu+hu1detWPP300+b7q8empfY1du/+fVi0ZBGmPfaY+Z0MlbCHN1vRc7Zq1Wo5F0uNy+ZkSrKIlnvQp2cMOnfrKo8u5nd6mbwf3CoIG2Xiid43hIaGyuSjUBTJ72Ba8kkskAkkVXLNkttanJVzWyHXvTPyGdTf8mT53O7fvaPahSgL1KU+56s5RphT7jpJo5OI0jrJ5O577zbCz075fn328af4/au/Q7++fUU46iqi4BDc1u+2m+0U3FTHQxHnpjqdPBgSIAESIAESIAESIAESuH4EtPNYeyhcXTJLlizG/v37zcBwQW6+cb7INGkcjS82AxSxm2NlcCPWDKhJjCskJefI4EKBCQuh/VOtMTSsUMKP+Ekoku4i4thKR7UFRvU9gXZhkiun0kaW+WHVjjZISnGCu2cq4o8eRXlxlcQQ14HYs9JxtcHGLQfhYFeJk6knERcfBx1cKZXZixoqp1+/vugjTh4PCVuyeNFi464ICQ1GTO8+CAsL00awNEECOjBx+5gxCI0IE4FvC9aKK0VDgwW1ao0eEjpEZ+mraKgD8oMGDxK3la8JaRMVGWVEnFgZpNu2dYu4K+40M07rO0QdVNQBPi1txU2jLhdLUTFRB2TUWTZ79mwky6Czhr0ZJ06yfjLw4e3tZUL9bdq4CcuWLDH7/OD9942g8uijj17gcNG6NA+UFnXKqEhVt+jAs36nPvrwIyxYuED2XwWdRTtoyFATFspWBipTRcBaLQOPOjO7hXynNLyNRaTSgTQdAFfBQvOADBs6FL1iYsxAmob80YFMdffo+yp0zfliNloKt14yi/dql/CICAwZNhzfz//BhFZMFOHpYmXP7t1mtr6uEyED6eqIaEw5KwP5pytOGwFH17cIbLW33b59G/785z8bNhER4eK4GIbevXubfWjYtyNH4rFs2VIJb3PYDKZqqCWWq0dARceVK5bLgPkaueJboYW1tczEd4Cvtx9OySC1OgU2ijshVmapnxIBoEJyQpyWQeQz8t22Py0hNZNPINbdE7Fe/tBhzLTQNjgTUA5b+YzYRbSFY1Ao7LJOoYV8FkpF+D+zcyvOWreAw/EE2CQnoUL2p9+tEyLWZWj4NBns1/1rLorT8h1TMbe0pARDxNkW3S3atO+rL+dgs3y3Xd1cxC3SXT4vfWqAaF2W71zNQr4wBJSNigd6jdO8Rep82rxpkwlvN3bMWHOtUYE0T8KbbRQxbu3atSIqH8XX38wz7it1ULYWt2DtovVpPhAdoN4gYuupzFPYINt2FQfdsOEjTb4jrbOnuHpUzNGyXSaLvP3OO+IIWWPcODqRY9KkyWjTJsq4JJKSTmDRokXiBNuJb7//zoSyeuzxxxHdPbr2rs1rFXBmzZiJzz771AgkunC0OGh0MFydE/oblJCQgKXiYDkcexilIlxdLFSmhuXUsKAqlKhT6IyEzKq3nGNp+d2wCCP1rTtjxnTMmjkLW8WZrPu/4447xPkSA3/JAaWh2vQ7qL9jer3Twf3aIpOGd/vko48x84tZ4hg5JIza4G45D3p/pNuq23G3XJ/nzZuHr76aK+FLW4oo31rCT/50jdZr5z/+8Q9x0x2Ep4QnvP32O0QkGIbWIt6rmK98Vq5cJW7I7YiQ34abLaxXlgiM3373rbiYFou2LA4wCbfXTYQuN8nlqK4zuQCZcMJ2Iiq7yG9xheT4O3UyCUXC1kruCwpF7EmSCR4n5Z4mNzgcpXc/hKrEeJyVa6GNnz/s27SHS1AYKuUetzw+FuWZGZAPMtxi98r2RaiUR4XsQ6+txw7KPY1c/7wlvKCzq7NMoqp2Y6kzZ8iwoRg1cpT5/KnzddP6jfD09sQIWaYh2FiaFgGKOE3rfLA1JEACJEACJEACJEACJNBsCKjmop1xnfWugy5rpAO4VQbXdQBDZ9nrDFpb6fDrQLIOTujAx+7d+2WrShnQdpEBlq6Ibp8vgwLan3U0g2o6ENYmKkvCj7iL9hNpllWcscaYgVXwinCSEVmZzWp1VkJdOSE5w1PqbiGhcKoHwnVbfWjM8JSUE9h1wE4Eo2QJB3JQ9mklseldZeA7BJ1kkFvDSGl7TkmIKj2GM5UVEks/yySH7dhZZi3KDFzt/LI0HQI6yDRi1EgZLBslIXN+QLwMtB+Rc6dJyydPnow7xC2hA2A6aKix/lWk0G1GDh9hnF/x8fFYJAMqEyZOrPegNN9OnDhwtGj4EnWJqOhnKfrZ0gEsFV9iZYCqS5cumDBhvIg44yUMz0+iR78+/eAng8kff/qJcXmoQNJV1u132/kzXLU+y8CZhjDRv+sWdYR8KiGCFi1eZGLejxo1FFOn3ovhI0aafA+6fqkkdu8m4Vc0X0ibNm3P+9xqzgQdONIBxu5du4n7bJSEiup13oxrzQWijhUVc9TxowPU10LE0RnYgwcNNgNDx8VNcVhmd+tAXzsJ6VJf2bNnN2IPHTKh1EbKgJLG8W9c0euAtWGr50rZ1i0a3klFPS2TJ03CY489jigZqLQUHdjsKjOT90j4mu4yiFtffgrLunxuHAH9XdABbQ0jpAPlO0RIi48/KqJkjMldViXfWxVwSoR9uQxoJkh4tEzJZxUlTgZr/1aoDI2EjYTS83PzwFkR6YqCwlEiYo2VDOh7icBrJeKLtVzX7dp0gG2IH07HHpOBTHEPyCC+d7cYnJVrgWNSPBxloPSsLLOSz0WmOApyjiUg5+RxVJVWIE9+v/IlwXiBzHQPlsHukFatTDi97BzJoSJ5lvQ7poOgmv/qxImT6NCxo/xeRTHc3kU/AtW/y+qy1aIODw1ld89dd5vrUnQPFck0lF0V+vbtbZxR877+WsKGpeATuYaqgFBXxNFrpdanAo06DdXdEyxhLF988UVx+o6Q/DZuJtdY9aSOFmaAWq/D8+bONW3Q8F2PPjoN99xzj8mVpgv1/IZLTr3//d//NQKFChytRDzq2KnjBd9/FbynizNSHS4aBkxF4F/96pfi1BpQE4ZNr93du3XHvK/nYp24bPQ+o6Gi1ygVeTT8rP4m1PdbYLaV49b3LMKU5fejdr16X6P7nvvVV3JPttrUN0zEk9/85je47bb+8ttYnTdNj1evyfo8TEJqWa5x+vup4eg+kd8dFVGV1ZNPPmlY1b4G6zVURaS5wnS+/B7rb8/9999X0xR1iM6XsLZadP9PiSNnmLiwLaXIiBrR2Lx5E4aKWOom+Vmae9F7XRWn9kp4wAMHDmL5smU4mnDU3B/o/UiZ5LDRSQUuklOoTNzpu8XFlCe/3wFyr+wU1R7lXj5o0c4e3vZy3+HihgKpr1AEnKpuvRAo17ry2P1ynSqBjbjabcOjYO3iiiq5VlYcO4ozEqrOWmZWue4XR06p3BPLd0o+LObzkiznMVeucZlybc0VV666l60kt1+kfLei5d5BBc9y+Q6peF5cVIJwqzDj/FFRrp2c164SrpWlaRCgiNM0zgNbQQIkQAIkQAIkQAIkQALNhoB28rXzroMFy6STqvHgdQBYwx91l1nLgyRkVYCIOCcl3Jl28OPijphBhwhxUAS3dkJ2TpkkI26FwX398OcXJCyUszgQKmoNYFfqDH31+dQqIuRUZUiHVAQgLUN6H5VOqqwjnVTTWa21KqxksMghEh9/6I/vl5bLrP80M7B9/EQSjh87iCQRnVatXidhI/qgtzhyOspAnO5v+qefS26M7RglM0ZfeOEFE9pKj1UHSiyDJrV3w9fXl4AOXjk7VcfN1zwufj6+4sKKlzBpjmjZ0s8M8tceZNLW6bkbMnwoFi1dIs6ZZDPzV2d815enZp8MvKhDQ8/10MFDZGDF/4ID1Bm1WnTQ4x2Z1T1cBr/qDrh1i+4qDrHfYIM4CXaLELFj23YsWbTkAhHngsrrLCiQwbUNEnpsydLlIlZWSEivkeIe+W8RZbqet6Y6CMZIWEB91C1eXp4icE0SZ9JgCUX2U2i42uv17z9AHDnZJvRNbn4ejsQfMcKrZVCv9ro/93VggD+GDRmGuTLLfqfko1kqLqOGRJzYw3FIEtdTkAzOaigrFaSuRtEQcxoOyFIGirBUW8DR5TqgOGXKZPOwrMfnKyOg4o0OFOv5/Me7f8XS5ctQJQ6Z6OhojB8/DqHiskoXN9k6mQSwc+9uI7oERUbBOSQMhXKuWnj7orhHX1R07wPH9p1xtn17ueYD9mJWcJDomfKj8FOR67Umh6/MP4MqGTS3loFT27BI2Ee2NT8pZ2Vcs1w1vXM/Lx4yL8BpbzyKFn8PKxk4ddm2AVWO+1GcLSGM5Ds34/vvEbhmHTq2bSOu0r4y4O9rQrCtWye5mt59F3eKAKi5W1Rk0MFZFRbqEw1/auCt+0pOjSmRkZH443/8B+6W0I+1i40MKqvIoKKITvqYLc4nzYm0XwbD67u26XVXH/EJ8bJdPzz77LOYNHlKTZUt7GV2yLmyVEJVaUgrLSpivCOfwyHi1qxd9LfjQcmFo6H6pk6dalyKyyXXmeboGS3it6WowKtuSw2JpWXgwEH405/+JJ/n8we61ZFz/y/uh29LH3M8y1estFRxTZ9VJNMcOIdEANei3zMVptrr96ZW0eP91a9+VWtJ9UudHKEOZRVwtDzxxBPmUf3uT//rfdO0aY8ZwWevsFgoTtHaIo66eSzh224b0N/kmfpp6+rzoJMg9NHci17jdALJHrmHUPHv448+MoekAsgkcf5GyvXj0L4D+EacSymSu8lGRMZwEVBatAyEtbjIcmSCUeWQ2+HQqx+snV3kuuUC2zaRpg4XueW1qpTrmlwznVqJM0avd/KoKihE+b5dsGvbUbbrW3NNOzP+zup19Pt2bl2v48lwOrQPZ3duhvPWdeJy74B0ubbuE/fZgU8+FdFyjwiYoWgjEypGjhqNTjKR6XcSdnC/5EMaNXIkAltL/jH5vFi+c7wfNqfmhvxHEeeGYOdOSYAESIAESIAESIAESKD5EtABuVlffIHvJZa6hk7TBO066PnYtEfNzOoVK1eYWZ3agT8UK/kNbO1lkLQLBvbvgt9Ps8NXS8MkvJktnnsgVnqi0sss1J5mrXJWR9nOL5b+qGXpWRF1zFZ1NrW8j9Kz+MWEDNx7h3R+IbMapdjZtMaGA30x8wdvrF+zUBIQ22j0CTMDUQflX3nt92YATmexbvz/7H0HeFXXlfVS710IFQQSvWMMMdU04957i0tc4jiOU5xMZpKZTOJM2iR/ujOuiR0njns3uFMNmN6bqKJKqPeu9691xMNCCJAAVfbhe7yn++49Zd17z3l3r73XpvE8hUSUpKqGDRtKaS0aAa10GgSUPFoEm4reRCg2V2RsmMQIGK/Mizxl58yd6wwTTSWylOR+wfwFLkrlggtnIoHSI02LrukQJsm+YNoMF4kjo0ZzRZ7givjZS+JIpMEqGadbWXbt2o0Xnv8nDWE1TopNHtFNCZyWVhlHMud4JSoq0kkMer265TGuPivC6UyXEBrVRcgoH8OOnTuZO6LB0Ni4HUXPZDBqSnmJVGR0nT59Gj3caXE/AyWaeY4iG0X1aKwipbtzYu0zANspVVFKw+a//vFPl//sQNYBympuJ/aRGMNor568v/5OSaqpEycxj9QhEjhrxc0g6tpb4Jl2EXzobZ5AYqSS93bwsFEIZPRNHb3NUUHiX9FVImy8zEAzvQtgvjVZMT2854+U2qPv1/pKckbJqYi662tu3/ob70Q4P6WXFDOSZz0q16/Gwfkfoufe3fCMPZfRIfvQi0b+h77xsMuZpbVCslKLFy9xxK6itpRnx4icI4gf80EkSVMCp/FOw4aPIGlzFV7414tu8zaSypLkanC2+GJPnXu9ZFy+4YYbcSMje45XtJ6LoI/i75SbbroR/fv1bXZXzYGKsJw+ZRo+oJziUspvvvjiv44icfYyivAfvG4lDxdE4k/kTVMCp3HlMvBrTmuvovn7z3/6E6XrDrlo0ps53tb8fslgBI0k6kRIfoUyoFo/myv6/gJKcUm+U2U/I6fUtnddVeSJt8hJoJikg85Vdys6t28x4ug1Ro8pEl24q9xIJwD9Qln8+RIo1xMvAlQW5sO/ZxJib78HVeeOQ3hAIMI4x/kwcjhoBPM48u8jhZGB3uKd55TvyzEznMZEOusYzYUeEs7uh5AOaOY3iYjw0InTgHGTUfvV76COv4vC92XCj/NbzeplyF70KXrFRaOG6+DezN1OJvYHP/ihu771+16/9xVNHEqCNYbRjq25ntQlK2cOASNxzhyWVpMhYAgYAoaAIWAIGAKGgCHQ7RH4bOFnNGA8j0+Zg2ME9efT0tLcg7uIHRlkSykRUVBY7mTURlG+6d/u96MkTQWCgmsQF5uBhEQf3HxJLvPcMMl0MI0wVUcb1VoDoDPhu/+aPyoohLJtUg7RQ6328w/GxJF7kRKfhXsvD2TOlG1YtD4Mb76di/raIibBDqK2eyz6DxhIT8ThCA8Lc8ZdGSusdGIETnYhsOuTJk7EypUrUEx5pk8/+gTjKOHkNTZpZAqw2blzl7uWo5nnZjJlcXowT0DTIkpQBtpgyqEENja4NNlRBiwZdMMOG7IkHVMkI1Zky3OrSOJMibaraQRUJE1jybYmzZ30z+bIJhlnlC8nhwZ0eV97vablyX3oUE6bkDhhvKdmkiD75a9+6QybImpk/JO8ktfwLaPnAsoAyVgqo+uF3F/HnakSQok8eUgrl5KSTP/qV7+C8u9cfc3VmDJ1OoIC7X4/E1ivXLkK/2DSd+WvklTUEMoTrt+wHuVZ5cjO3IPYIObA4bnYSi/0mhlfQo8bv4LgdEqTpfaBL3NseCSFlrUfftzmy/xlvrwu5KXuynFI26P67afzyBu7MdHT+LN3Z0pY+QaK6OfdzXubSnzwp2Sbb0QU/CnN5jPtQmSWFuON4nykfvwO6rJJysYnoLy2HokpSfgS83GJHC4vZ64KGketnBgBL1l8vL2CKFmZSgk9r+Fa+VdyKPPUXNE+I0eOcGRFc997t+3evdtFSoiYlrRkc5GY3n21LlzEyJs169a6SE9JxTYuyl0jiawqkjjnT53CaN7xjb8+9rNbn47d3FZb9FvMK90miTOtHd65tSVtbqcc2OfLlzoD/vmTJ2NwkwiexnVoXZEE3bJly5xMnuZy5ZHTOU4j1srftmz5CifNdpAyhTcy+kr53DQHd/Wi9XINI1jeZrTeK6+9ytxJ51J6bzj2UrZPpZq/NTSn1JK4qfcPQOlw5nicfCF6DjsHwSRTfOjooXmnPicLdQX58AkNc5EuiiR0c1Zzc5WrWXOa+wAybfJgadj/8Kaj5jvvNs1rmpt8GcnsS2KbP4n9gwYhrAdzipFM8lx1EzaXFCDj4D6EbMzAeRxXJImlMDo3JfdJpVzgDBI4oW6eC6YTi5WOQ8BWmI7D3lo2BAwBQ8AQMAQMAUPAEDAEOjcCeogUAcKiiBR5Gn7y8cdYv24dCouLXK6A8oo6pKQOcgbv4uJSBIcmYebUKIwZVo70tFpcMS0SPjHUsKmsAmpplKvypw57Puvls2cVtd/bEAFPE69rT7UPQoKyacD1YPAweTwW0al7C3zrdlIKrgSL1iTik7n5uOgiaoL36+eknGSs7w5a7W0Ic5eo+kJKgqxj1NgL9Cj9lJFiX/v615yhUJ2XIVCe3pmU/1MZ0G8ACYzezqDiNjT5T0SOvG/r6o/vXR1I44pkwAIOEz01jKaRh244o0lOZsT0NlfEe0ye/8oV0p+Gsd6nmWQ4n3k9du/eBXlab+B4JSm2d+9e169CGkpliFapqal1ea28/TjT7yLHzqXEzwaeDyXXnvXeLNzGXArKY6Qi49hnixZhP6McFH10Ec/dmS4ixL7+9a/jKcreKIfB08884wy2n1EmaeSw4c4w2yu115lu9qyob/++/cxT8iHemzUL+0jEaQ0Jp2HcQ4msSSTHN1fWYm90D9oTIxF6/W0o7JUOv9HnIXbkufCNDyOxT5hol6z3L+LFWA0/yehpLeK95BtE46/zRm8BlJQfalHhfh4SMt7i7KPssw/zTQQyNxsGpqOMkZ2FO7aivKQM+yspY0SZRKxdidFMZD+I8mAifyqZcFxrRXOEqbdue2+Yb0+GgxwoRLRIolWyXAV8b1q8JE88Dc1hNIA3V7SPyGoRQSpBXM8HDhxMgiK4ud3dNs3Pg4cMRsRhwl2kdiGJkejDUSSSzdq7b6+blwf0H0iyIu24dbX3F5o7tc54yURFu4nIaU3Jzf+CMFN0qos4Im71TdY75TESvooYVXG47N2H9HTez8KQ0lwPP/xN/OnPf2IU1Aon8babZNoiRq2NpFzXyFEj0Y+/s7x9dZV0kf8UvfnOO+/gg/c/wC46QlSSwA0mIRPGKLx0RpoVjByLHXTg8CduntQBqBeJMn4qQgYPR1ByL/jo2tKcw+2ojmngZHjuNI80S8IcD5eWkNk6VvOn5s3Gcyfb8otjDp6EHvAMH4TCQ8WoyNwJH87N5ZvXooa/DfyXLsWE9N4Yd+4Y7OOY45jrrwf3t9JxCBiJ03HYW8uGgCFgCBgChoAhYAgYAoZA50aAhqxaSj1soyfqrFmz8fjj/+cMrNJ6D2ZukpLSakSFleGSGYmYNHkKVi5djoDgWFw5vQgTpm0DyiiVRKKmPk+5bETXHH78qCGpw9KWBI5roMl/as9Txz7I9l4pU3wAzhmWg3PG1MFTGoqgl6Pw6TwmuT60kblIUmlE3oshg/o7Y5KMc22RI6RJF+3PNkJAeQHGM/+RSBxFt8hwr8T1KpJim0uJtZ3cFk+jxvSp0xB8AiNfS7ooI1Y4jcB+zPOgovuohKSM1/DYkjrkUS0DokoUDdmq71SKcnWILFnIKLo5zMvwOeVdMvfucdEt8jpXlIszXB+uXEbotjZEX3nVlZRe3IYljNJ49eVXcMWVVxwhcWQMXLduvSOV5NX9JUZNnenSmySdEm3LY33OvHnYztxKH330sXsN6Nsfd959Ny69/DL0Sk5Cz2ZyI53p/nSH+mRA1n2l86lcaIdyczBy+EiEMbLiEHHO5Lw77YZbUBvRAxnVddhNQiaU5E0wj/PvkeA80esLv5A+86Hntz+TeqOOyW9khFTR3N0exRk9aVRVeySVAnhPBPQbhLxhg7H/YC6jdYIQcfAANpZWYuHizxHAHUMiwjGcnviSjLK14vROkgz7is4TiVNKabsS5qE5XtF1dzxCXWS7iGpF96n40XAtQtE7LzdXp6JWRCB5I3Al3ZnFRPCRPE7fac7wRrqE8neQHD06S1H0pqJhvOuM5vbWSJjVEq/qqoZ7UOviO5QJE8kujJv+YHO/pzhwOQDo9104o+S0n7dtGfxvZr4o5TeSvOiGDRuwYOFCJ2faN60vrrr6Klx62aUkdEY6YqClzg0dibXWUs1xbyr6hnPcHuZsG8jcNkkky0pycpnrJgJD77gPGZfdiEOUKvMjkRPMaD6RJ6HMzeXDKE8PnSQ8lY3mufBIRv6RLBbB4p3n2mOQPL8u6keqbZSVDGRfg0aeA8/Qkchh7rFKykli0VysLcnHWwsWoZRROqNIwkdTDtOP51ZSglbaHwEjcdofc2vREDAEDAFDwBAwBAwBQ8AQ6DIIzGOy6Ud//BMsXb4MDzz4NZxDY/iqlSvx5BNPUB6tD/7nEV/mq8hGfdkbuGmKDG173MO+J++LR432JmtaCq4zQohQcqRSLR68cRUeuqMW8xaV4cUP1lPyo5a5cQ46I9CECRNd8uS2Nm63tO+2X+sRGEZZmAnjxmPZiuV4/4MPKAPTlzlmznEkzscffURD/nYX+TF95gXwD/ji+m19Sw22GBnBvOSIrpvWSNqoTRmMvCWaEQGRrZBi8x6n9zVr1uD+++93OWaU+yWVSdi/8+1vYeiwES43iXJAyPAnA7Q3Gqfx8W3x+eJLLsM8JoxfvGQJliz73BlrRQ7LhpW5Zy/2MIJDxlH1KSEhoS26AMnm/fwXP0d+YRETTr+GZ556CitWr8QOeiP/6L//C4899mdcefkV+PVvf+PynLRJJ7pJpTLeykh77733Yi1z21x00cX4zx/9iDJKz+CTD2ejbtRYJP36d5g7YLCLqOnBe8MV3hfeclTuGm08TKR4v+/Qd/WF0XS+5FRDaZDG7feh+trbsJ2GzvVLP0ZCXhZ8aMR+gUnNp1N6aCDJx5BOZNzvUOxOoXERAd48Mpo3fQ+T4adQlYv08K7beg8OCjwhSe1LAj4mNu4LEofXdkF+HvuT7uZwkczeUl9PZ5CWRnx5D2rDd0XN5OXls08NK09r1xwRODUibA4XRaWKBHIkjndjk3e1pXVl6LBhTk4sgKStt4gIu/+rD+B65itaMH8+XvjnP0iAvI1dmbvwhz/+gffLC7jkwovxox//yEWbes+T9/jO9r6Sv32/+tWvulyQV119Nb7yla9gy6aN+Pvfn8f0MZRPveUOrLz0ZvgzqjWmDwloFe8cR5w8hwmyhi8O/6/rp73I6aMabvKHfq8c7l9IWj+EsP8+lFk7sHc3fvOvv+Ky2mIUfPwRtmzNgCKb5QTTFYi3JqPs8n+e3i/TLj98G4AhYAgYAoaAIWAIGAKGgCFgCBwPAeWKeO655xihsJMP9jX02qvDB7PfowF8AZO+p+FnjxRg6jgeTdkyXz8+hXofVvlM6pHodhcrvn40fHj88KXhOejbq9AN59W55yMgNJmSGTuwbOkS3P2Ve06op9/FhnxWdbd3Whr1+Ke7JMMf0xgxbepUR+IU08tbkSoqIgxmzJh+xIB3qgDJM1yRN/XyrmURIZGSktIqo0fjnD276fG7j0RLc3l6TtTHjyl/+JOf/ARbKaEmQ9yDjD554IEHXFL5ECYp9uaakbGtPQ1okpU7lwRar+QUF7Eh41jfvv2c1/bixYuc5/zQIYORnp52ouGd/necs2JJ5tx8y02MJpyIrRnbMOvdt12i6uxD2Zj9wftI69sHd911t0tof/oNdr8aJMv3rxdfxGN/fszlRBs7ZixlK4Px7LN/wwpefz4zL0X8g99z+WXqJYnGpcGHhnlnaD5sbHaoNP7cmWHSOseXD6McAoaOwPo+aahmkvA+B3ZjvG8lskhCrmckWa9eKW6O6cxD6ax901y1m9JbKr37pHNu6O8+t/Y/GZk172quUxExLimsOEqweSNtmtbpoo+Zq0tRLSrarz8l87z7N56XC4sKUeRynzStpXV/19OQL9L/dEt0dDQGMDJE95eKZOQkr9ZSIlyRRZKyUxEBdO3112Lq1GkICw9jQFzzTIPWDfVfa1wPrp+KdmpaYikzJllMGf4f+NqDeOP11/D662/gEKXuPvjoAyolBuCR7z7iSKCmx3aGv/Ub4aWXXnK/hxXVlUrJtAjKf25Zuwavvfoq/M+/ADvv+iqyJk2HL4k99+PRi4N3XvO+d4YBnawPmuNc/z3wS2Tk/W33YuH2zbiygM4eIX44yJxmH3JtvIHknKJlrbQfAkbitB/W1pIhYAgYAoaAIWAIGAKGgCHQJRCQF/wLkp1iZEIsjR0HmJC2pqSGhs2PKKMWj4nj+uOu66pw/pdq4BPMB/iKtpdfag/gPPVM+ErVlbCwKoRF09uWRNRVU7Zg8XpfrNsUSRKrjF7m65GcnEhjejzJnLj26Ja1cSIEaC/x9/cjidgg0XeiXZXnZuq0qfj1r/8XmbszXfSJ9s+gwU7GLhmwlKT8TEghVdBbeyXzCXi9tn2YLb21BEyo5E0oWSKj0U7ei3tpOBlN4qM1ZcsWXr+LFzuC5oEHvubywCi6pWnxer033d6Wfw8ZOhQTJ03CG2++gQWM+Js6ZSoqqiowe/Zs59k9lnlrBg8e0pZdOFK35BKHsj/KHzGgf18kp/TCqzTOCb+//vVvOH/KFCNxjqD1xYfNmze7PGlLly6jFGEsysrLcGDfXpRkHWRUVxUC7v0Gwq+5BaHnjOGNygiIugYvf962XbfIGEtylmZOyiWFoYTyQpXh0diX1AsfVZUgbd4sRFZXIJ87bCF52r+L5v3oyBN0gFJ1iipRiY2NaTEJ0bTPIhjiKf2k+VdFkYb6XSPDs5eUaXqMCKTNmzdChnsVzdsifbxFxLfmZs3txU7yssT7VbPvPmQtT0aQR1JSK56/J/Zz3JKSO14EjbaLLDlefVovFGlZxzGo5OTmYsfOna3Cr7H8mof4KTdYY+Kq2UG2YKMwS09Pd6+UlGTmHexPIud1ynt+jjfeeAOXXHpJpyFxRDB7Mc6kA8WLJKkVaRjPa0HXRR5l/rauWIbg1D4ov/pWxF55A6rGjEcNiR0/r1RaVyJtmp4/9Z0vya25a653GkpDwrC5bhhK9u1E2bJFGF5XiYKsLOQelh6M4hpqpe0ROJYibfs2rQVDwBAwBAwBQ8AQMAQMAUPAEOikCChPhbS+ZUjt2TOB+SjG0gjSk2ROEmLCMnHRZF/84FtDcPsdPvAL8BI4nXQwp9AtOSB66uglXknt8ip/9B+4Bf0TlyAlNgMTRtfRqzUbe/YepPxTgUsAfwpN2CFnAgEZGGRo4PnKJwHjzR1zoqplHBtKSbW0tDS3m3IlbN5MkoPJ7EtKSjF58mRMmTrlRFW472iSc4aN4xkBtVMxo3DefvstJxOmv+WV39oir2rJvanfGzdsQgZlTFpTZGzav/+AO0QGqVtuvcXJk7Wmjsb7Cu6TFXdOTrbT4e8HDh7E6JdJLkJo3tx5Lll4zqEcfE6JNXnQKxeO8g20ZxEhOHz4CNzFnDgXX3yxa3oXIwJymO/AytEIbGPU0rvvvI0lJAkZRgDJ8pHTx156/u8OCELgzMsR/8OfI+yCSWQ76D98mMA5upYu/hfJHBltw4ODUN6rNz7oPRiLw2Kwp+8QHIyMwxZKGcrQb+ULBI5HUHj3kNH888VLjhAZPZlvRE4Tp1O8869y2SxatOgIud5cnSJ6Fi5Y4CJYwmmU70cSrnGfReIMGjTQzcvb6ACgKN0Tlfq6epJHX0hjNrdvGAmO6Khot6bl5uYdyeHTdF9FEu3YvuO432t/SW/2iG9IPp/JuWvVqlVNqznh371IAimaR8T+rFmzHHlxwgNO4cshQ4YyKvTruOWWW93RhVwvD5AQaM36cQrNtvgQrZfqSwZ/D7/44kuYM2cOgniPn0fHAskq+tOxIjswFIfOm4qk7/03wqZdiEDKKfpVNOReanFDXWFHzu2SugwnWZOR2htv9kjDp+E9UDXpAmRVViEzYyuKikuOkn/tCsPqqn00EqernjnrtyFgCBgChoAhYAgYAoaAIXCGEZDxRB6Rz1FC7ZJLL0UADW+76MUpL8yLpk/A7H+Ow//9voLa32vgKeJDbp08TM9wJzpZdZ7SEEwcXYBv3/U5rp/yMQamByAxMYVyJf7Yf+Agqvhwa6UDEOCFpzwJMq6to3TRzp27WtSJiIhw3H7brS7HycZNm/D6G6/j048/oXROKaVeznGvE1UkAkc5EGToKz8st9Pc/tu2bce7TAgtcmnypIm4jF7GrS2SAZLuvgyJ2TnZLi9VVvahI7kiGtcng5MidrwJvPXdTt67ynXjLYoOaq54pYtOJufjKx2sExQZvkS+eD2YT7Cr+0oSO+eee647hzuZI2H1mrXYTulGYSaP7WHMsdAWyZO9WMmgq7E3VyJoqJUHv7d0RKSSt+3O+C6Jpp/+5FFsWL8BKamUqwoLwWeffYZg5ovpe8W1iPreT1D3u7+ijpEqnnzOkTQEducij3U/5pMIpozilhvuxT8vvgmzUwdRndOP0RB5KCws5LV2YkN+d8an8dhERJyoLPt8Kd556x2usYwCIaGgyMHG0SEnOvZ4311y8UWYNHGCI9Xfp4OKoo2PVyTj9tbb75DYLyGJPABjxzKKrFGJY8TZxAkTXDTOZkbqfcT1Q/tqXmmuHOTvBJHTGs/xinfu1By8YuVK7Nv3xbztPUb1b92yFX9/9jnknoBUVsTLRTMvpExkLDZxjVO+N0keNlc0r2kt08tbhPcll1zixjPrvffw6aefntBArzm0uflRa1ERCczjne8wSmomJvb0NsuoDw9q2Z/OUhRl+PTTTzMq/Z8uQmgAI4e2bt0CD+e088ZPQNqPfoX6H/wX/OITHMnh0f3djX8Qe3hu/MuqEUcJ1Ogv34e/jZ6GRfUBKKcDjOb3XEZ9KXruePdBZzmvXb0fRuJ09TNo/TcEDAFDwBAwBAwBQ8AQMATOAAIffPghfvjDH2LhwoXUub4Rc/jg/sc//REbNu3F5ZdOwB/+6wBSkyqAMj5CdMF8N6cFkcZbq2S9tRiV/DsUZr2NnbvLUVZRj6eeepq5SvadVvV2cOsRCA4JRlx8rCMMZPRvzujVXK0REVG45bbbkZiUhDWrV1Ob/3UsXLSQ3ssNUS8nkzxTVEw5kzh//OnH+H//7zc0Yq8/phnJcH3zm9884r09YeJEXH3Ntcfsd7INInFuu/VWpKWluV3nzJ2DR77zHWeYa3psdnY2/v3f/x0/YjJ5b+lLD/JkytaoyEg4n97lexh91LgcOHAA//M/P3NGOxkij1dEpsgb3uuR3lyicSflw1wBInK8haI03o/NviclJeLGG653OSueePz/8Pvf/87l6bniyitp4Ets9pjT3Shj01NPPYVbie3HNMA2Z4BcsvhzzCYJpxJDsknXh5UGBJYwUuqmm25yBvFYemdv374DL/3rX6gryIPnB7+A/+/+hvALL+d0SYKsm5M3zV0TPiRyQslZbfYJxJ8CYhDInCqfkjj44MOPnExgc8ecTduWLl2K6667jjJfxxLvb1Fa8amnn8LaDetcDpYvf/kOjB597mnDc9XV12Dy+Q1RliJwHv3xTzCfEo5Ni3KI3XfffY7UkKzmxRdfgjvvvOuo3dLS0nHPPfcemefmzp2Lb3zjG8dEg1ZwnfjFz37O31F/wmYa//0VjXacksR5esDggbxd6hn1l8NoocVHEfA6THmnvnzHlzHrg9kopdPB8UpkZBS+873vOvlHzW3z58/HbbfdBkVZNy3KRab5/6c/ftS1re9F4lzP86MIKJXHH38cP/3pT1FJkrK5Mvv9950kWmNCXPKkf/7znx1J//QzzxzJL9T4+BXLl+Ptt948simGuckCuL52hjJ3zqf45S9+4bC7kXOdonaf5Nr07vzPUPGtH2HnL59A3rgp8Csl6XQc8q4zjKNN+qDxMrosmNfqKwFReLPGF1UH9zli9P33P3D599qkXavUIdA57hA7GYaAIWAIGAKGgCFgCBgChoAh0CEIVFSU45133sETTzyJfHoMjxg5QrEGWL58GXr1ORe3X5+G2y7fgZ5JfIDX8yqjb5yGVYf0tmMabXhGbzBG+/rlY2DiHNR6NiMsNBXTpn2Z+ujlNNRlU3f+C6/Sjunp2dNqet++jBa7nPlU3nKDlnSZJMxGjxrNCKl9GEzZtPPPPx99+vQ5ChTJZQ1i3pPzxnwJ7816Fxs3bnTRGJIt60XS5GTFG2UiCbe//u1ZLF223OVSEeEgD1SRKctpnJJ+vsoll1yKK6640nltn6zu5r6XJ7oMhI8++qgzJM2a9R6NfIdclEpvSpvIQKw8Csrd8j6NaUOHDsPKlasowzYKkYygk3xcj7geyMnLwctMzCx5nVGUvYpkxEQ261nBvD2SxYoiuSWZICX9VqRR09IgITToCOGxbs06vESZmQtmznT5IrxROiLBEvjazrwT8gL/xc9/TgPirS4HRXO5hhITk3A7DbVzaVCV57OKiIGZrDfhsBGxaV9O92/NbW+9+Sbm0Ph68GAW3nvvXaSnpSEuNh4RkWH4jHJLny1cxMig1a6pBx98kLl5Bp9us13+eJF8H9Gr/69//asz2n759tt5DeVg5/p1CJcU1I9/Cw8ldnxiw+FbSQme40Q5dXkgTjIAH84DvvTKr+U9trffUDwaEIabBg1Fn4pi7Ga06+BBg1ocrXaSprrk14pKepP3XwHfhzPark9vzWOBWM0k8WvXrsX6devcuGbMmI4bSPD269f3mHFqrvVGDurzybz/Q0JCcPnlV7iozfffn40PeR3n5OZgPCNqBnM90Fx4kHmcVq9azflzpWtPxIfIJuWgaVxEZA/kObzp5pvxIslLRbm8++67jsTpy3VJc6UcC0SafLbwM4Tw+N69UikXdtD1ubm+jho1ivnaprncK2pL+OzbtxdDOH9rnLpuVlMWTdEtIuuff/555ipskMps3Dd91hqn4x544AH88Y9/ZM63rU4OTOvIIPY7OSkZEYzuXLdhPRSNKrw1Z9//4Nd4LlJddSJyHn74YTz55JPYzTXjGRIxyiWk9TSpZyLCOUbNB2vWrXWRQ1pn7r7rLlx+xRXueM3/InsVDfr73/0OH37wAYYNHcZ8YwMQERWOXbt2Y/68eViwcIHb//rrr3fSoe6PDv7v1ZdfgYin7OyDJKHGoJDSuRvYzwMRMYi892H4jZ+CauYv8mHkkE8NfxfTQeKsK/yN4KvIqZRUzKtNIEFZh6/VFqL3gH6oJ/mZX1DISDBzfGiL68JInLZA1eo0BAwBQ8AQMAQMAUPAEDAEuggCq2i0eOyxxyiFs8g9YJdQ23ou81NERafgjpsG4J4batEzcT88ZUcbMrrI8M54Nz11IegZR6kTzxbANwHRwybQINGHjonBzsAtI75kmJozWJ/xzpzFFcbR0D99xgxccMFMLFgw35EGMhyl90nHLkpzXXnlVUhJ6XUMiSPI/CjDNnXaVGzYuAErV610Ca4nUGonKbkhauVEsMqgJiNeWu8+6EWDl8ga5VhQfhwRPF5ZGhER59Pz+6GHHsKYMUfL8XjrV11lhyXZZJzzGiW93+tdUS0yJOq6UhLorczh88knn7hXQo8EBNFgIhJHx6YyCmbKlPOPMhBLw/8Oem+/+NKLvE53udcsRphIyqyE3tzq8+RJkzFj+gzMmv2eI3FKS8ua7Usy8RlCMmMRc6AsIxHyxz/8gXNDEsaPP89F0qi/Mpaey/FKZkjyjE8++QRSiVNCQoJLEK59GhcZPCdMnOSItVwSAvU0yEazbyOYl0Z5Ik6liISShI83wqapnE8UPdXHUCKplNhv3rQZq1evcqRWMqOzIiLDObYVrlklM58+fTo98e90sk6n0pfudIwInL/85S9ONi2SSawV1VVTkA+/pFTEXXQlam+4jZE3HHFJFYM1z0LDZqOTLUO9ItPqQkIxm17rqenDEFOchZTyYnfPFTFflZLP637R62wqIqbHco6YRyP+PBKpMYxyC2XS9P0HGyTEFAEiAv7WW27ByBF0KmnmWlLEhogf3eO+nCMD/ANOCqGkGx955BGX22TVipUk4Je5V9+0dGRlZ7kIS1WSyv6NIql///33H5dYkGSZInZUvPJskqJV0dqvqBQR7MNIhszkGiVy/Pl/PI8g9tm/UaSiO4D/qb7JkyZh6tSpWMM8Srt373Iv1aUx6iV5SfXpLpIliv4RiaNon+aKILvhhhuchNsL/3yBMmyUfeP9q1dMdAwimL9lz/6GqMy0PmnMBTeN61pDHhjhrcjD20nSaq2Tc8Dnny9xTgAKrEzqyXmSxxcWFeJQbg7XPn8MITmk77xFEqDjxo9365bmWDkK6TVk0GBERkVwfdhKp4tihHL+v+CCCxi5+i1K17GODi7rGVn7+ONPYO78uW7NUj6rvcx7VJjYC+FX3Yy4274CH97THkkC8h7nxdnBPe7A5jl+kfc5Pr74oK4WA+uCEc11YWB9FQbV16CG90A+Cc4IktmhoWfXHNeWZ8XvJz/5iTJePdSWjVjdhoAhYAgYAoaAIWAIGAKGgCHQ+RBYt249PTr/jtdee911LjAwiFEMWc4D9O47rsT91+9Gcq8MeMqNwDnq7HkoF+WhgZkPqih6A1E9xiMydgQ9cgtpqHjbeQXLyCkjnpW2Q0CRJv369ydZsNtp78vwVFFZ4Yyi8iSW0S4tLa3ZDtD8QgJmo4sWkQHtO5Qpk2yPDFLHK4rg+JxSQJUVlbj4wovw05/9j4saUX4QGW3lsa38UUkkAy677DL8+bG/0NN86HEJPeUL+JAyhiJwpkyZ4gyXTXM/yKAmI6+MmkMHD0EBPVzLGT0XzG0ibmQoEWEkD2sZKEUapaenHZE9U2TMAOZ1KKA3scgZFX+O0ePjcXln5AH98Le+iauuupKJvLOdLF3//v1oTJwCkTZNi/J6yINekmSBQYH40tixkPf5Ud7q7HM2MVE+Ho1Hxke9onhPNFeCmTB6E8/FTpJM1fRsHk/j31133emIseb2P9m2srJyZwBVJJAwuuaaa3huRx85rDc9/6dNm+4MxMr7JSKtsqrSGXHz8vKdAVP7yAgqeTolNm/OkHykwm76Qde0d9ySR5LcpghEXY+6xlfSCN4jKQVx938TuV/9KnxLOR/WMlyT599KAwI+JBRDGNk6n5JDtTTqX8QopTAa5jcxAnAtIyCEq0gNGcu7axGxragUXTtFNPyLqJDkZGV5hYvmKGZERx0l6CRbOGDAANx88y0uCkT7NZZmbIxPPuezPbsz3Vw4jQT0BEbUnEwKMzAwwM1VF190MfkGHyhHmHLaVXL+DeEaEEbiQVE5N15/I377u9+6OfV450X3hebHoYwu0ZxfUiJyztfNgwFsRyT/9ddez6iZ7+NmklEiOBaT7J80YSIuuviiZqMMNf6xnE+1nii3iKQ7vWvKlEnnu7n9vq/e7yIsRfSIJB9BkutGyt82V0SQa34+77xxKC0qRjnHq35LCrOe16Xm5onjJzisv/8f/8FIxJgj97vGre8nkVhSdI5wymWktsiZWhrsNV/6MeJHfb6ZcmNf5f0/Ywaj8A7f+zoX5407D+eMHAV/5g+s4HgYm+f6kEvDvsgpzbGXc5381re+jcmTJ3HbyYm45sZ5prZt3brVReAo2lXXrNYFbfNn1E3QQ99HyDU3wy884qyNMGwWZ64RQVxjlVnuU58QvFwJxHN9mBYTijLe12+//Y7LHRhPKVZzbGoWwVZvZKSnZyiP2tjqI+0AQ8AQMAQMAUPAEDAEDAFDwBDokgjoAVVG2F/96ldOt1zGAhV5j/ZMGoA7b7sI/37PGsRY8BlEAABAAElEQVTF0MuzXt6ZXXKY7dRpguOpgk/yD7Fz7+V45OE7nQHm2498h3Jfl7RTH87eZuShLIOXjHpZjFYpZGSACAMRG4qOOZ4RUJJjP6fU15vMwSDCR3I4acchfLzo/t9fHsNjjETIzNyDa6+6Br//0x+c4VCGWBnelGtBcjPyJJfxTUYLr1HLW0fjdxEM8qSWsVx9Pdn+Gqs3wuRgVrYjSfxpkFP/dbxeupebtqn6q2mozMvPd30UadSHY41npIna1DEy2mleUP36rO3NYac54gATdStHQA0Jl5GUZhN51tjYqXEdzMpybclQqv4pqqW5+oSHxvVvj3wPfyehHBMfh+9+97u45ytfOWUSVOPVODQeFZGpwqZpUbu13I9iTMSmgHgeQFFhAT3CB7rrR8d5sWl67Nnwt65NETZZjCL4/ve+73Jx5PMa0nn04zXSJzoKgb/8C+quvQmeysOe6WcDMKcwRi2h1bTkj/atw98CSrBx/UY8xrxMhbzetA4PHz6MuB6fQD6FJjvNISVMfD6bOYEkA5ZJwl0E96xZs3jv1TrSVnOJXunp6S6KVaS6rrHGc0rTweje1f2td+/cd6L9Gx/vnR90rOZtGerjGdWYwrw0Ipo1f55sLvbWp7lO9WgNkqzabkqPyYFDYwllxIYIc19fP+5D4oP7aFyaV47XV9WnuUskuPK8VdEpQUSNCBnv/K62VZfmYtV3skgu1SmstL+iVUVUKydcYs8Ed6wXP++Ymr5rfDpW68Y+zpFZlIWTRJwiPzX3e/ulvjQt3mOFuRwQROwXcI1WvjetkyLAdFxzxzatqy3/Xr16Nf727LN48oknHPGva6CeY/Zn1GbiH/+G4IlT4RNJeTBiYeX4CGie469hXBjqD2aPxLV0EvHhWnHf/fc5cvb4R9o3LUWge64SLR297WcIGAKGgCFgCBgChoAhYAicZQhIq/2Vl19yuTzW0RNYHpMyQush/et3xeGBOyLpgbkNcdF0qRM/oacyKydAQF7nBCn3GSSHZOK/f/p7vPrK351ncR1ldOS1KlmVpob1E1RoX7UCARl/ZODSKykp0RnATmbUUvWKmFqyZDFi42LpGX2x8zpuRbNuVz8a51TkjayXPItb0rY7iP/JkKd+t7Q0Nnb179eXsj8pRwyOJ6pD114QjW7yHNf9LqNec1FiMlzqdaIiUqM3PbMTibWMXKq36bWtcaWwLcm9KXJHhFbTfRq3If38xZTryadBeyRz+cg7W4bBUy1qq+lYZERs2ofGeKYkhzj5HJE6rTmHp9rHrnCcIgvepgTS35gDR5KBkj9SCWTUhKQH/X/2R9SePxN06ofywFg5PgJaJXwoV7XJNxAPVofi+5Sw+s9vPIh1e/ZhFQ3IPZhPLZn31NlURHDopSjC1s6dundP9T71zg/CWqS7pB4DOO81J3N2svOhuU4vzVciJJQbTZ/Vv8ZF86aiWE5WVJfm5t4kSFRXPUmDo6IcD1fQ3Lbj1a06vfuLEKrmHBfMNprOh8c73jtPql9DKI3VN70h0vNka4Xq8x6rz1qfezAiQyTVydYE7d9e5e/PPoeXXn4ZGzdvchGGItCqSJKF9B+EmG98H4HjKFHKnHH2Y/jkZ0TShpUeH+Qp6qu+BL/99a/xOn9riaStJmkbyPvdyukhYAieHn52tCFgCBgChoAhYAgYAoaAIdClENAD9KxZs11eiwZPTsq80BgbEpaOmVNiMfICyrrkZNNtmJJLfBiz0gIEfEJRX7mPhokPce45g1FVMRmbtmThmaefRlp6H+bVmHFS43gLWrFdToKADGV6nawomf3ChQvpUZyF/v374+qrrnI5CU52XNPvJUnTuJyqUbFxHa353BwRc7LjT4ccaVy3iElaKxtvOuazpOlOJE+nAyRZ8+brbyBjW4Y7fsjgIc6ge0xlp7mhJQZL5dnQy0oDAiL8FzFXmnJZeEs4I79imHcqiNJC9TMuA8JoDC6rIkNha4UXo2bfZegvLkQVr/f5zCHUKyIRD6el4YIeW/C/TzyFEspdTZw4EUOGDmkVsdtsW11wY3vPnY0hOpNte8mSxvWf6ueWzLGtrduRX00IptbUodv8dMbY0jW6NX06nX0rK6vcb4EFCxY4ab5ejBCqJ4ETEBOL8MuuQcTVN3HAzOcikprOD1ZOjEAt81oFh4bhEKPRnq4NwTfPHYOKkiJ8tnI1/v7cc5QfHOIiyxStZuXUELBfKKeGmx1lCBgChoAhYAgYAoaAIWAIdCkERN5I2mIbjaUbNm5ycmr625d65T17JuPSmUPRO4XyaXkFVAezx4TWnVx6+fvRU7MmD569/8Hkva9g9ZpsfPzBbJfUfTx151vitdq6Nm3vliKgyBNFFdQzgkDJ2F995VVs3rzFHT506FCMGzeu2ciUltZv+7UOAcnyiFTRa9nSZXj6qSddNOD4ceMxdcrU1lVme7cJApJSk2FzDaNEVJzxlYbMWEYuRFx6NcpuuReBim6qYDYEI3BOfg40/xBTn7wcRDCvxjPB4QhmiqprfLj+xkRh9rsNeTiUO6I10Xknb9j2MAQMgaYIyHGpkLndMjK2YffePczXw98I3Elyb4HM8xV2waUInc7cSRHh/D1sUpFN8Tvm78NrQD1zXgUwZ9++oGD8MSAacXuyMTG9H/pm5eDF115j3rudLtrJSJxjEGzxBns6azFUtqMhYAgYAoaAIWAIGAKGgCHQdRHQw+mSxYvx/vuznS69DNsqCQmJ+PLt1+Hf716D+IRieCqOlgHpuiNu755LTojY+UairLQE0y+YSsmSanz4/gfIZsSHHlpbEg3Q3r3u7u3pOt+zd5+TvFHOmrfeehOP/fnPTt9/xowZuOfee43AaceLQOSA8g+IFNi8aZM7HytXr3I9uPraa3DN9de1Y2+sqeYQEMk259M5ePTRR7Fu3doj0lC9EnvC77rbUH7T3Qjq1Zue6ZzzmkSjNVefbSMClNX0S0yGLwmc6s3r0WPQMPy1NAr7evTDk8wHtX3HbubzKmRur3ykMULHiiFgCLQdAvo9/P7s9/HJRx9jNfPjVVYwXxGb82UUScLP/gD/5FT48F711DAHjklFnvxEHMYocMhw1OzeAd9tmxE4bBR+GBCPXwRXYeboUShhXqZVK5ejuKjo5PXZHsdFwEic40JjXxgChoAhYAgYAoaAIWAIGALdBwElff9kzhy8/sabLiJHOSISEtJw7WUD8f271yI+thyopZSalVNGwOPMAB709P0xeiT9EBti+mPVmlX4zf/+BtfdcB3GT5jgcqeccgN2YKsRkFzXv3//+1i3fh0kD1XI/E8yUp87ejTuvfceXHnFFS2uU4SQPHhrqmvce4sPtB2PILBm7TrcededzDlQ5TA8xHlJc9FDD30DV115FYICTyzRdqQi+9AmCIhkW79+PT7+8CMmfaespgojNkVRV975IEKvvhkBKSRwnNFOW620GAHOHz6UZgocPNy9h/Dv5VU+uI2RrzMuuQyv/vF3br345S9/hVGjRra42s6/o8fl4VJ+LBXNoVYMgY5EIDcnBytJKHw6bw5KSkpcV3x79ETUdbciaMwE+MXFw6PrlXOflZYj4OGc5sfIfr/4BLdGBPHQ31UFIis+DbeNqsDjf3kMFZSru/nmW/h7eCLCQilVZ6VVCBiJ0yq4bGdDwBAwBAwBQ8AQMAQMAUOg6yGQl5fndL8///xzlDPhqHTRw8OZCD6ZydGZpLxH4gpKgfnBUydBCSunjkADfv4+e2mp+juGp43F5VffiVf+9RSKiouclvx0Rn9YaV8EqqsqUEwvdyV4HjJ4MPr264frr7sOF1xwgdvW0t4EUiIkOSkZgf6BSEntdSRCoaXHn+37iUQ7eOAAqsqrUEHJlYjICEyZOhVTp07DDTfcgAED+p/tEHX4+HNyDmHevLn46JOPndyQ61BoKEJp2PQMGAJPdCz8mAvJQ69qK61EQMQXZdV8mBxe+TUkR1dSW4fVDIr9wdixWMcInE+WLcfTzzyNa6+9FuMp89gdpNU070byXk/vk4biwiI3h7YSOdvdEDhjCCgX3oqVK7GWDgWFlP8Ccz9G+/shNCYatbHx8OF85xNK+qGKsTm8T620AgHi5RMk6iaY2NUhkPT/oXofvOcTgloSORNmXID5s99jxGGB++01ffr0VlRuuwoBI3HsOjAEDAFDwBAwBAwBQ8AQMAS6KQJVVdXU+N7HPDjbMG/uXOzYvt09OCmiICV1IMaP7YFRQyjMr4dVK2cMAQ+i4FO+GENSivD1u2/EnI8jMH/BZ+jNfBLDR4xAjx49zlhbVtGJEVAuoptuuhkTxk+Ef4A/kpOT0H/AIIwZc66Tt1MUSEtl7gYPGYLrr7+BkTjVGMQEvaeT4PnEve6e32reSaIk18MPfwPK0RUaFopBgwdh5oUXwSXx7p7D7hKj0rlRFM5KSgu99+672Jqx1UVPhJCXDqEMWPBVNyAgMYUGz3qS/eadfuonlUTOYfwUxxQgfP18sd43EGMvuwIFXLPfnz3bOVskJyVhCOecrl4CSPr1I3F+6623krCdipEju1OUUVc/O2dP/zXHSUZtOYnSBfMXYBt/D/v7+bvIsJC+AxA1dSaK+6Q35PiqIXnD/a2cAgKNcNMcF+Xng5103Ph7cQ3+cu112LRkMebPm4ce8XEYPny4/R5uJcRG4rQSMNvdEDAEDAFDwBAwBAwBQ8AQ6CoIFDP6Y8mSz5mceiW2btniZKQUhSOj9Yhhg3HHtfWYNGEjPGWBXWVIXaSf8riOprEuEwn+f8StN16Gx554E+++9y4G0mh99113QeSClbZHIIheobfedttxG2opgaMKppx/vnsdtzL74oQIKC/UhIkT3euEO9qX7Y6AJK6U5Psj5ohY+NkiF2WmXNURUVFIGDwEZcPOQcDQkZQBo4e1yWGdsfMjg1w1SeFHtu7Df6UPwMwpk7GSeYjmfPoppk+fwUjZ3ggPCztj7XVERVrrBjMCUi8rhkBHIaA5bu269fjk40+wYvlyF2mo3GxyYao+fyZqHv4BIigFJhk1j81xZ+w0icjxK8hF8K4M1MX4Y9Lkydi+Zy9efe11fOm88S7qMIZRUFZahoCJXrcMJ9vLEDAEDAFDwBAwBAwBQ8AQ6HIIKOLjggtmYMPGjcg+dMj138fHD8kpffDQrTswaexuoMJyUJzpE6uHVoTXYuuOYDzyiz4oLvOjASsdBynj8fvf/57Jwte5SIQz3a7VZwgYAobAqSAgQ3t1TTVKy0obDieD48OJrIxGzcLJMxEwZAR8RDxT/svKGUKADhX1JcWo3rAGYSEheP6FF/Dm629gMCMFDx48iKcefwKfMDeRFUPAEDh9BBQRNo4ShZl79yBj+zb4cY6rZ1Rc+CVXIezSq+HPiEOXB8fl+zr99qwGIsA5rjZzJ3z270Upcwn+949/jJzcHKT1TYNknp966kls3LSpIcWaAdYiBIzEaRFMtpMhYAgYAoaAIWAIGAKGgCHQ9RAoYBL3WbPew8aNm1xSd0UlpKZK0msiUhKpWx1YSXUcultbOaMI+AbWYfnSPnjqtTQsX7MPr7/xNiWI6tGTpNr2jAy8+vIr0LmxYggYAoZAZ0Hgww8+cFJe6k8dPdFDzh2H0Muug68IHJfnQN84ilofrJwuApQd8gkLd8bj8BefRuWiudi2exc2bN6ImJgYrFy1klFRC5202uk2ZccbAmc7AnUkbN549TUXlS4sAhmFk8rfZJHnUWo1jfnY9FPYCJwze5lwjvPrmQQfEmgVq5aigPLOn37yCYqYG2vk8BHMS7QW773zNnbs2HZm2+3GtRmJ041Prg3NEDAEDAFDwBAwBAwBQ+DsRiCDuXCeePxx7Nu3DyJwkpNTMXxoGm6/2gdx0XxirTQCp02uENo5mSeXNoFqFJccwp49ma6Zgf0HolevVLzzzrtYxdwTdY20w9ukH1apIWAIGAItQGDjxg2YM2eO846OJYEQGxWJ0EHM+zRmHIL6UwZLc5UZOFuAZCt2UT4urst+CYmopae6JzoOBVGxOMD1euzYMfDjIjKXuSPee++9VlRquxoChkBzCCi67fnn/+4caIIZVegJCkbg2PEIGn0e/OLi4ampbe4w23Y6CHCO842K4CsG8PWDZ/BwbN5/EMUFhRg0cBBCQ0PxNkmcpUuXnU4rZ9WxRuKcVafbBmsIGAKGgCFgCBgChoAhcLYgkJeX75K3riBZEBIcgp49eyIqKgEpPYNw++UbEBtfgvpaqYFbOdMI1Nf4YfS4vbj5kt0IC4+jlNpQ14Qki9L7pGFLxhbMYvLqjK0ZZ7ppq88QMAQMgVYhkJ+fj2effRa7du1iBEisS0KfmpqKwPo6Z+j0T0lqqM9InFbh2qKdGR3gIa5lF1+DwplXoKJPP4TQaz05KQnx8fFYvXo1/va3v5n8ZovAtJ0MgeYROEQ54dn8zbV67Rr+Do5EMn8P1/r5ozh9IHz6DoRfZHgDUd384bb1NBDwVNfBPzoGQZOmoXjMRAQl9wIo3VlSWuKeS7Zs2cqIw8+Qm5t3Gq2cPYcaiXP2nGsbqSFgCBgChoAhYAgYAobAWYKAZCOkNf2b3/zaReDMnHEBfKn/vWHTBuzeuxeVlXwM8Pg69YizBJJ2HaaLb6qsJ4ETj4njJ2JgvwHYsXMH3pn1Lj5bsgi+vr6UW1uKDD68WjEEDAFDoKMQyMnJcQTOP/7xTyfbNWzoUPSSkY2rg/JFMFyQkpsd1buzoF1i7ENZp8gb70BQ3wHwr6pCaWUldD7279/vAMjMzHSyQzU1NWcBIDZEQ+DMIlBPkvRdRrN97WtfQ0VFBdJ6pyGuZyJ8SgoR98m78M/L0c9hK22FAOc438hoBCiik3NYn5RkVFZV4pM5n2L79u2u1bUkq9+fPautetCt6vX7yU9+0oMjeqhbjcoGYwgYAoaAIWAIGAKGgCFgCJylCFTSALR4yRK89OKLzvAjwqCwsMAlEw0OjsOIof1xzYXl8A+k5pflw2mzq8SH2EaF12BQWhky9qdh/cZdKClu8DTUOZG0R1R0FIYOG0bv9+g264dVbAgYAoZAcwiUlpZi4cKFjsTZsWMHqkggyDt6/769yN69G6Ff/TZCL7qyIQ2OReE0B+EZ2+YTGMDI2DqEHOK6sH0T8svLXYSOonSqq6tx4MABTJ06FREREWesTavIEOjuCNQyt9e7b7+L55/7u3Ok0W8vzXGHKFlYS4mvsIe+D1/m/kKQInFIWltpMwSUFyegT1/UUlataO8eVBzYBx86l+l1MCsLVZznJk2ejEjOcdpmpXkEjG9sHhfbaggYAoaAIWAIGAKGgCFgCHQ5BJwsC40/K5evQObuhjwsispxD0hV1Rg1xIP7bqa0gT+HZs+rbXp+6+t8EBhSg6EDc3DTJftxzrBQ+AeEHXk4ra2rxfLly7Fk0eI27YdVbggYAoZAcwiUlZUxofQOrFmzBjJ2KtIjNzcX2ZTirB0yAv7DRsE/LtiMm82Bd4a3eaprENCrDwK+NBGe4efAx49SpyRwZHQuLi7GJ0wGrnNlxRAwBFqGgH4PF/HeWbVqJZTzS/eSXprjqunslJDaB7jkauaiigVqLcqtZaie4l7KqUbsA/v2RlVCEgLi4hB/mKzROdH6s3HjRny+eLEjrU+xlbPiMCNxzorTbIM0BAwBQ8AQMAQMAUPAEDgbEJARLjNzD1YxD86hQ9nMI+qHsLAwBNADDgjAOUPrMPOaXPj7eSiRY55ubXlNyJHQU8PHLZI5E6dsx/BBfggIioFINZUgJrTeT2/QhQsXOA/4tuyL1W0IGAKGQFME9lBac9OmzSgpKUFwcLCbk2QgCoyMRNT1t8E/PgH1ZTrK1oqm2J3xv2lw9o8MQx3Js/IvTUZoWDj8uE151HRuROQsYt4Ir8TaGW/fKjQEuiECmzZsxNZtGSgqKT7iQKPZLDw2BtFDhiEwgbJq8mrivWaljREgxh7KDPsxAiqakp3xjERX9FM9CR5/noMqEmuzZr1H5YDCNu5I167eSJyuff6s94aAIWAIGAKGgCFgCBgChsARBGSM++STjzF3/lzKp+U6WQIlqJY0QURUT8TGMUF1qT2vHgGsvT5UKvSJBjlyafI6lIdo7969UVZRjvkkceQJL8kcK4aAIWAItAcCRcUlNJjNwhtvvO4MaJqPJNWl9Dc+/gEIYhSOb2QUPMyJY6V9EKivqXe5I8LPGYs+/fsjKDjInROt4TJyvvn6m1i7Zm37dMZaMQS6OAJymHntlVexcMFCR1R7JbpkBK9ISUPB2Mmc3+hUoygRK22PgEgcRtyEXXQBgiZOcw5NWmuUsygxMRF+nONef+NNZGRsYyo2OyfHOyFG4hwPGdtuCBgChoAhYAgYAoaAIWAIdDEE8vPz8eorr6CgoMD1vJjeh7uZ20AEQb/+w9C37xBGhpiOWnueVj6fApXAf37dg+f+OAJXXnkjiRxK5bDIy7qQ52re3Dkuqbjb2E3+k3eliq4986zsJifVhtFtENi6ZQvWr1sPrRmSstmzZw+K6QQgL/X66ioEMiLENyLS1ov2PONcm/1InPmPHIP88y9EzxHnwI+e6ocOHUK/fv2weu0a97KYgfY8KdZWV0UgJycHn8z9lHLCB50jk+Y5Ff0y8Y2NR9CI0e5vsggN7/Z/uyDgUwXUjB6P6u//DBH3PAS/uHj4UEVARLWIt0WLF7mcke3SmS7YiJE4XfCkWZcNAUPAEDAEDAFDwBAwBAyB5hAQKdA7tRf8KKPWu1cqBvYbgMrKKvRNH4y7r/PBRRNz+fRk0jjNYdeW22QjiErzQ4/oChoUcuj42WCYq6ioQB6NqK+8+iqUn6Krl6KiImdwLGdepjzm1dhLuaZ9lIwrKyvv6kOz/hsC3QqBAQP6I1pyNixjRo+hvKbHydkEM/F0zNcegW90jIIHWczAKRTapZDxd7lwKKVWExXLSJxg+NGoWcq1QUR4DfN2bN26FZs3b26X7pzJRryk/pms0+oyBE6EQHh4OAYNHISQ4BDEREfj3HNGw49R6YF9+yNs+sUI6DeIYYf8PeyxqI8T4XjGv6utQ11UNHwSeiJu3274U0Ytn78d5VCgKPUPP/gA+/jb0UrzCBiJ0zwuttUQMAQMAUPAEDAEDAFDwBDocgiIxInmw6q82SSNEx8f77zbhlEaZ+bEaiT1O4D6WnsEaO8T62izah/k5pWS5MiBjAulpaUQiaNIlVWrVneLpNUrV67E/HnzGrz762qxc9cuZGVnIyQ0pL0ht/YMAUPgBAhofVBerkDmS0vs2RMB0npkCRg0FNH3PUwywZ/SN5bs+wQQts1X4sy4fvtUVaIqJh61fNUxgkDROCqbNm3CYib/7uzFKw9aVVXlIoO11hmR09nPWvfqn+a3KOb3koRtQEAgkhKT4MsI4ZAJUxFy/gz4RoV3rwF3ldGQOPPRHFdeBt/CfESGhqKGf8sJSHPE8uXLKamW0VVG0+79tCe4dofcGjQEDAFDwBAwBAwBQ8AQMATOLALyXlPJy8vDws8WOeKmuLQEuzJ3MyrHF3E94uDxDaOsFx+eLBDnzILf0tr4cBoRHoH+fftR1q4vQvng6j1vMjYs4nlT5EpXLBrHrt2ZmPPJHJI4C1zy7Wp6V1YwIicoMAixMfTqt2IIGAKdAgHJCi1atBiZmZkuziZz3x7UUM5GS4M/5yi/nrxfafi0ZN8dcboa1nJfSguVjByLyv6DIXpN0bUyRm9Yvx5LOimJo+tKZE1xcfER4mb//v3YQuk+RWd617uOQNXaPLsQkCPTwYMHXc7BMpIFzMaCjO0ZqOX2QEYb+vdMhqfapIU76qrwoZNPbWg48ifPRMKgwYiNjHCSd+qP5oqNGzdiH+cOK8ciYCTOsZjYFkPAEDAEDAFDwBAwBAwBQ6BLISDpqs2bt2Du3Lkut8FXH3gAgwcPdsZ05V+Jje9FaRaSOCYb0aHntYaJq+vqA9EvrR9CQ0KcUUvJdmXc2rJlM3Jzczq0f6fauLyuH/7GQyilsWTqjGnUNF+Mf/vuvyGAhshzxxzWnT/Vyu04Q8AQOGMISNrwo48+xrKlSzjv1GPI4CGcj/o6kiAhKABJPXqAao9WOggBT109fBhRGzx2AhAZjZioSPRJTXW90VqhyJbdzHOXl1/Q6UiRzxYtwv89/jhefe01VFDGdefOXe43iCKE4+Li3DXWQbBas2cRAiJvli1bjnXM+SVCYMr5kzFp0kQX7SzhNB861DRMcubR1FGXhSN0udD4HF5smp6JTOZoy+Q8Z+VYBIzEORYT22IIGAKGgCFgCBgChoAhYAh0KQSioqIwb95c/PrXv3ZJqgty81BCb1gVX59qXDd1EdKTspkPp0Eyp0sNrrt0ttIX559XiX+7dxdWrl6K/IIS+DJKykvirF6zGtnZDZI5XWHIXq9q6Zj/7je/RUpKirv25jIaZ9P6jbjuhusxcuQoevc3fTzvCqOzPhoC3ROBKsp0rVyx3OXh2ro1gzJDAcjNz0U9idjqAUNROWg45by659i7xqgYiePDdSE0DNEbV6F+9TIcYj4cFa0VKop02bFjh5tv3YZO8F9BQQE+Z3TXzu07XJTp0qWfY+3atU7GSg4liiKyYgi0BwKa07Zv34ZHH33UyRD6+wWgrqYO9XSWEYnjl5QCv8Tkw0ROe/TI2miMgIfRUH6xcQhI6w8PI0APMuKmqKj4qDliz65MkjiZjQ+zz4cRsJnULgVDwBAwBAwBQ8AQMAQMAUOgiyNQy9wFki1REnkZepT8OCuLpA1LTEw4hqXvokyO9Kbt53/Hnep6PqQGkVWLQHFJiTPAieCQcUuEiAyq+/Z1HfkIXWc5zO/z8osv4c233sI5o89FAPNobKV0jqTiLr/icvRI6NFxcFvLhoAhcAwCyjlQVFSIDM43ImCrqquwbft2vlejbuAw1A4eznwFJBI4J1npCARE1FD8qaYaHv8AVNTUuvWicU9EmCxh1Is370zj7zris2TUnn/+eUbe7HTymQe4jq1gXgt/RmL26dMbYWGMArZiCLQTApq6lENq5coVLv/gwawsbNywAZIoDO7bn+RBP/goTZ/Nce10Rpo0Q9x9goLhTyItkOeitKoaFZxDvCS1fhNvZmT6Zub/snIsAvYUdywmtsUQMAQMAUPAEDAEDAFDwBDoUgiIwJEGeEJCguv3vgP7UVpWgojIHujffxBq60OBWouJ6NCTGliH1Ztj8Ow7w9CrVx8atoKOSvQsg5wkJIpLSju0my1tXMTTq6+8gsf+/Biqa6tRS4/K4OBgDKLX9eRp57vPLa3L9jMEDIH2QUAkjvKWyFvdh8aysrIyFDLSQzGaof0GIjB9AFU3LRSnfc5Gc62IPCO5TyNn6YgxqOD5aGq0y2Ok7WcLFqKaxs+OLpKrUiLyV199FaER4QgND8Osd9+Fn68PRo8+B0lJSR3dRWv/LENAJKeimkUG6Ddxbl4udu6mI1NIKCJu+DL8k1PhqTzLQOlkw1U0Dk8Q/FP7wI+/GxvHa+u8FdLRYEvG1k7W687RnabrQefolfXCEDAEDAFDwBAwBAwBQ8AQMARajICkCDIz9zjvQx3UEJHjixEjRmDsmLEIpMHOEh20GM422tGHOQE8CAqoc4SbSBCv56G3wQMk47qKDvhzzz6LZ/76DEQYKqfGp8yzERQchC/f+WVcd+21zkjsHZe9GwKGQOdAQATOks+XkuQvQwEjcfLy8jBgQH/0652K6EFD4Jscz7VCokNWOgQBYu/D9Tpg6EgaNxkuwEipxkVrRiUl8fZnHWB+tY4l22pq6/DRx5/gwQcfxPQZMzBt6jTmdcvFmvXrcM+99/G6GtC46/bZEGgXBA7yN0nG1s2uLUWHhTD/YO/kJNT7+SFo2Dnwi46hZKTNce1yMo7TiA/PhYc5FCuWLEB9SdFRJI73EMlGSlVAjgdWvkDASJwvsLBPhoAhYAgYAoaAIWAIGAKGQJdEwI8PRI2fguT9WlJWj/CADHz3rk0ID61lJI799O/Qk1vlh1EDs/HNL+/AqHPGIzgk+piH0717M7Fr144O7WZLGl+9eo2Tz8nYtg3pfdORkpqMkNBgnHPOKJx33jj4U1bNiiFgCHQ+BLzyjd6eySPal7JdJeOnojqlN6XUvN/Ye4chIJknvkIuvQZJF16OXuGMpGVRjI7OX2VlJXYz6bfeO7JI0u2ZJ5/Cho0bUFxUgLmffooaRgf94Ac/RO/evTuya9b2WYyAUkfpPlGRs4x7cZ6r5xeBQ0fANzIaLhLkLMaoo4fuoUykb0QUIm68A1F3P4jAgUPgoaRa46L5LZdRhzp/Vr5AwJ7kvsDCPhkChoAhYAgYAoaAIWAIGAJdEoHc3EMoPpz8WAPo37cfvQ8j+KCah4Q++TTS1fNBqLFgQZccZpfudH2dD4JCq/ClEfn4zl2F6JV4rLV0O3NTbN7c4EHaGQcryb7ly1fgf//3f/EZDXgR4RHok9qbHv2FuPSySzFu/HjmQSChaMUQMAQ6JQKK2szJyXE5udRBXxo2JatWFZeAOkV+mNNz5zhvh4kcMGdE/ZjxDX1SlI4s1CwlzKu2gXk+OorI2Uji5oUX/okVK5ZjYL8ByDqQhcqKSpw3bhzuvPMOk9NsOGP2fwcgkE85tcw9e4/cK9FRUeiVnIKePRPhRwIH8jExYqADzkyjJj1caAIDEcBnlUBKPvtF8bw0KUVFRdi+fdsxzk5Ndjvr/jQS56w75TZgQ8AQMAQMAUPAEDAEDIHuhsCypUud7IB3XEo07OMeUvm0WsWXObJ5oemwd2d7q/VDfa0HKfF7EBxYwb58QazJc1Q67vv3H+iwPp6s4XXr1uGpp57Eyy+/5JJWx8bEoIYelQk9EnDZZVdY/oOTAWjfGwIdiEAhjWIrV67kPJPtJB1FCNQwl1VZaRlQUw2felsoOvD0fNG0Fgu+6jJ3oLKk2BFs+vKL1aJh160Z25jPqOiL49rhk7ziMzMz8czTT+ONN95AFa+bCeMnoKqyGiPPOQeXXXEZjeU926En1oQh0DwCGbwv5AzjJTw9nNcUrR4aGso5ro45v5o/zra2MwKcSzxVNcxPVNlsZFQRHdO2Z2QYidPktFicexNA7E9DwBAwBAwBQ8AQMAQMAUOgKyEgj1zp0m/fscMZ1tX3pcuX0dO6Dv4Bx3q3daWxdbu+BtYj50AQvvWzFGTsyuTwjjbAichx0nidcOB79+7FP/7xDzzzzDOuj1Mmn48d1Js/mH0QTz/7V8TFx3XCXluXDAFDwItAxtYtmD3rXSc1JAOnv7+/I3Ey92QiimSOD5PRW+kECMgBg+fHExKG0L27EbxkHgrYLQ+3fXGGmGON64XXUN1evVaUwyuvvsrXa0wYn4e0tDREx0YhNDwEEyaOR2qvXu3VFWvHEDgGARGMW7ZsgXJ/aX7Ta0sG86rQsSkgIRG9Gc3mx5vI6OpjoOt0GyoY2ZebQzk1cy446txYJM5RcNgfhoAhYAgYAoaAIWAIGAKGQNdCICIiAn379nXyJYrAUTl/4mQa1dNQVXV0UuSuNbJu2Fsa5/xoVEhKSSTBdrQ/nQic0tJS7Nu3r1MNXEllV6xYiW9/+9v4y1/+ggAm3e7fvz/lSvagb7++uO/++5HCHEztbUzsVCBZZwyBLoBAYs8kjBg5yvVUERWDBg7CeOaw0j1eX1tDKTW6qH/BEnSBEXXjLvJcBHBd909Mhk/1set4PSMKNm/agIKC/HYDQQ4j7737Hn7329/iwIEDGDhgINL7pGPe/AW49777ce6557ZbX6whQ6A5BPr06YPk5OQjX+k3cXx8PAalp7k8TfqdJY7USudCwKM1qFGX9HuytKwUew/sI+FmJ6wRNDASpzEa9tkQMAQMAUPAEDAEDAFDwBDoggiUlZU5bXw9oKqUV5YjPDwMPXr0MO3vTnc+fVDvCUECvULDwkKPkYoooKfz/v37j9neUcOQLvk///kPzJ8/H9XV1a4b6l9SSjJuuvlm3HTjjR3VNWvXEDAEWoFAPXWEapnXyluqKYUlj3XlxAkaOBR+sYym++Jr72723kEI+AYA1alpKB40vKEHh63PWueVn2zJ5587abz26J4iHJ566mn8lgROVlYWhg0ZisjISPgyrOGGG27AoEGD2qMb1oYhcFIEvL+DRQSkpKQ4BxM5yISEBJuzyUnRa/8d6rgOxTBvUU/K88q5QEXnUM81u3btomRkYft3qhO3eLT7VyfuqHXNEDAEDAFDwBAwBAwBQ8AQMASaRyA/v8Eb1xsNcSg3hx7V4YjhQ5EJRzSPWYdsrfdBUGAtxg47iO3bwmgMi0B5uXLjfFFElOTm5iIxMfGLjR30qbKq0iXPfv/99+nxXeAMIHrIVvTXtdde615xsbEd1Luu2ayMr17JvHrKhPhSwkqYeu9djUoGJ19fP0bXBTljhvKWKKquQR4mwHnfK3oiODjYgaBcJ6EhISTZqC9PQ30IP+s71an9vPWLkFMJZEJh7zZdby6Cj/tyI6JoTAkKCnLfa5/KyipnMA5g5JiOk9E/PDyCEWV+qGW/1JaSq/v4+Lr+VVZWuH2CuT08LMy1l0fZJfVdfVLd3qK29ZLBRvkK1A/1V+2cqSLSwp/5EE5UZDZqbQCKsNbcqnGp/xqHzqv33J6ovY76rqS0BFkHDx5pXpEVNRXlDeeuVx/4hkcyN0Fjf+gju9qHjkCAATi1qemoOe98YNmSw3nuGjqie7OkuNTJ4bVl19SO5v6XXn4Zf/3rM9jGfCO6xjW3REZGYPyECbjnnnuOzEVt2Rer2xA4GQJanzSveYuuVa17PlyXohWpbkEdXmg6zbtffAL8oyj93EjO0/t7SHNPeTlztlk5goCROEegsA+GgCFgCBgChoAhYAgYAoZA10NABlQZPhsXPxqAqbbijK/AiQ2YjY+zz22LgKfWFxHh1bjzhk34dB4Tipc3b1HwPsC2bW9OXHtxcTHWrVuHN996y0nneK8xEYNfufsuXH/ddRCBI4JB38lYIoJCLxEJ9TQGNxjHG8zjksTQfjIKnqh4iQdve033lZxbGMkBGc+9JEjTfVr7t8iDhvrY70b3krapv97x6bP21Zjr+O7LMXu/92arULSDDPrCQcZ9eZFqf/Vb5EQBE5HHxcW6OnNychFG8qKchie9R0SE02BRjn3MPxRIwqNnQk9nKM0vKMSh7CxnOPXzD8AWJm1WP2KJf11dLTZs3IjkpGQUFReRWKmlnEySi8JT+zovARyHyIxVq1e7ccbHxbv29f2hnEM0ehU7Q77GMnTIEHdevREbhw4dIilT5SL7YmNjeC0cRDplnkS6lLA9ydccOLCfWPhzWxhyDmW7fVJTU7kfDdDEYvny5W7/BCY879EjgXkzUpyhTXmWcnJyHDYjR450UoLCbvDgwY4IUhsifdRP9U0GOuGqoneRXcJVL32v4iVTRC7p/Alj4R4YGOCIMJFUmjNVVL/KgYNZtB/5IDq6gcAKDgpmtFz9kbZ0/spKyzhGX0dM1bOtwqJiHknSi9EIqlP3iyIT1G5nLeUcQy7Ptxcrd31wrXDlsJya4/I66wDOtn5xLvKPjkVQah83cs2hmk11/nS99kpO4bzRQJS2FTS6nz5mzr3nnn3WETjeOXHDpo343mWX4jvf+Q7ns+6bD817rzRdk0937fHW2/S8NW2n6ffN/d24L6rXW4e3jcZ/ez83V0932KYoYa9Tk8Z/kKS11urI0BDUB4e6vFLdYZzdYgw8P5zMEDJ0JHLfCUJhXr5bsxuPTb9fWu9i0biG7vfZSJzud05tRIaAIWAIGAKGgCFgCBgCZwkCMuRmbN16lOehDM56UG94WD+xwfwsgamTDZNmuDo/7MnchcryYj60Hk2yKfLh0KEcDBnSQIx0ROd1Db3z1jt4+umnsHzlCmc89/Zj2LBheOS738OmTZuxmWSCCBUZylMor7aPBpTt27chn5FEWQeyjxAFOlYGlb379zrCQsbj4xU9tCsSKTs72xnvvfupTzLWTzhvPH74nz/EmC+NJQGRQ1IszPXBu19r32Wg37RpE0aNGkXcDzkiQe2oveHDh7uxi2yQXJAS7a5eswaLPluI7VszkJKagqLCYhTToK8x6Z47kHUQO3bucFIg6enp2L17tyNm9J0MoCI9ZOiXoUn5j7zkl6QPe5LkULspSSkkXgIQGhaCnkkJNNj6oiCvwLWtJM2qV+0JJ5EgwlZ/e412+qyXI0QGDcYQvrbt3I6MjAxHNCjKq44kmx9JCfVBfWkwlpDyZR9lIPYW9Uf1qv+q03uc/va2q324wxEDs9rtxQTngUGB2Ltn71HXgaJx1H9hIVkmnWe1rZerhw17P/dkP9P7pCGRZJZIm88Wf4Ys7h8dHe3yHuyi1IrmQO/+Ol7tikzRZ/UxjQbwIpJUuXm57m8RML2Ir/p+8NBBJofnvcj8TvLWDuO11De9L9J692HEXNCR/qie3XsyERsXgxG8JhQVFRvfg2MIQAyJnxEjRiA6Jpb9UuRj5y2SpzmUlXNkXJ23p9Yzh4C/L2r370Hl6uUN17O7wxqkhnQd796bCUVXtWXRvawIHN0jKrrfVH7zm9/g9ttv7/YEjkh1EbohwSFu/tBco5LDubdnAuVqDxcvaa+5QkV/iyzWPBMeHn54r4Y3rTmN8xVWVjWQ/qo7lJJfXnJZe+ue9UZcettuXFltbR3y8vOQwPVD50ZtunpIUIv0Vvtao711hZDM0JzXXcuWLVvcmqbxufk/LQ35XJNLY3qgYPJMhHNt962zLCud6vzr9wOv0+aKrt8K/ibWu/feam6/s2mbkThn09m2sRoChoAhYAgYAoaAIWAIdCsEJGEUERnlErauW7eWDzm+zrgp+aJ6hPNhvXMbFbvVyWjxYPiwymdWRSX4B1LuqrbIGce9h0uOKotRF16Dtnd7e77/8/l/4LnnnsOixYtQxwfsqVOnYODAQSQyBmPcuPOc4U7GLRnhZTDaz0iMNatXUqop2xlQZDCXQSk7+xBKKW0iw1FiYhJ27trpoieaM0Z5x6cHdRm4jjf+T+Z8ilpPnSMCChnVcoiRH0pkLIk3Peg3LdqmVyJzECkZuKQGRUaoeNtSFMWwIcO4X70jFXLYfxUl7tY4D9IINGTQEB57CBsZ9bJ9+3YXmRHKcVXTIFdDaS3VJfudomoUIaKi+9Ab9eE28D+RBWpfY5Shz1u0XYZS1VPcrwhJxCu6JpokUSHWrF+LgvxCR0RoLIVFhSQrUpFHQ2Jj6RhvXY3f129Yj8zM3Yz6Kndj0f4if1SP2moc3dL4uNP5rETSMZRH0XluiIahvOPhorHrXMlD+mR9jyUxkkuSaseO7Tx3Hmwj7lGc75KJTQAjf5J4TtduWOdqTkhIcNvjGLlQRomwnDy2ycuh/HC+sFK+qy/CNTQ0mBFRhdi/jxFE7I9IukhKxPWkrIs8uZ0GP48VRjpG+2wleSZyL4cE66BBA5FKokcnPIfX08pVq1zEkIsa4rYARv70Z7SSjq1hhEsQI3v6Hv7bi0NHvNfR4KuxpNGwqTGrKLrISudFoJ4kCuPM3DnLOnAAlfxb51Dzo/LUeOeathjB6tVr8Ic//B4rVqxwc4faECFw5VVX4fLLL0cc7/Oi4hI3j5SSKC3ifFzJeU0Skbw5eI8VOCK5lvdAAedC3k66ZY4UzT8FjDIsLy3nPRPA+uIQzrlhMKMBhzAa71SK5lXdtzVcf0TEKgJPbcTERDvMtm3bhkzOswMHDHBzseYh5YQqIBGSl5OHCsqb6m9NHtE8RvN3YUGRu5ezsg+6ekVsqZ2xY8dQftDjnAm0Rmg91HnRvKexeed3zQMqOm+KUFSbKpqz1Nd9nIcqOGfpe80xabw/vUS/SO7evXsfqdO7dop817kQQaS+TJwwHstXrHTrr44XUR2fEO9Ib1cH1wuRR36cN/3YjtYt9VVOJOqrImfFEaoPaqOsrJwOCQfoUJDs+qR99Z2K5mKdRtWRnZNNpDyIj4lzc3MVsVH9Ihk1NslwRsdGkzw+1HBuhw5BOvs3cOBA166r8Az+J6nPFBL5ihjW+qIoTJFWHo6pjkRcQ+GFaKXTIKD7JI752MLoEJFVUnrUdaHrrqAg3127OpdWACNx7CowBAwBQ8AQMAQMAUPAEDAEuiwCenxukHiSh7y/PHdpvJBROiAo4KiHoS47xG7ZcR93nuobGfG9w5SMlQw6MoB0RBGZ8Morr2D+ggU0Zvng3HNG45abb8ZAEjhJNOj0Su3lutW/fz8nC6brLoEeycWU1gqhXEkujXUHaMySB7EM8K7QmFdKXfMSGvz0UC5j0vGKDEoyFnkNX43307HFNBYqR49ywAgrtaN95a2s7/VqWoSljAQyFuSzL5IXk3e1YkfUnl6LFn7mpIkqmAdIns0q65LXOiO3iJltjLzZTaNpNkmjkxXVJ0OYjGteg573GBkA1R/t03iM2qb9tX0vDXQBATQ+sQ7dyxkZ21yEyeTJk/i9Lw7Q6CcptZSkJPf9ARoFRTzIg1vY6RgdKyxUnwyrIqP0WfNDY/y17Qvj3LHYqd8hrFdybzpO14f+Fv76W22pXRlYvPjrXQSW5OZkTG1c9J0inuTZ3oNG4GB6nntoFNS/sLBwGn1rHDkVzqiY0aNHO3Ikj0acCBorg0OCEEdjYS8mqxa5KEPg1OnTaJTNdGRNYs9EZGdlNxB1xCmWhjydb8mdKcG12g4ODHYGUhkgdU1IQk2RSZKYC+OYtu3Y4TCSAVQYHiIRKXJPBKbIyHh6vKem9nbnoar6/7P3HmByVWe29qrqnIM6d6ujco5IKIFIAgwM2RiwZ5zHxvOYseefmWc8917mTrDvJN+5zja2sYkGzNiARbBJMiihnHPnnHOsrn+t3SrRCEQQre6u7m9DqSues897qvY++1tf6OV7fdx3lzMYSsTRZ8SiXSItDaY6x/HxEY79cA5jcV+/Z1lf9R3Qeddvp5/fbT13+p+x6Jbt81wE3HmhnMDvrc5ZYNzQ23VfN40nI9203RdeeNFF4Pz2t7/h73zApTjkT9QJsPfccw+/Lh7seHMHUxFWo56/kWoa/Gv429M4o/FEUX6tHBuUTlHjdCt/h/o8P3am6TvY2truhBNn7Kdooui7devWoYFjhMaCmJhoZ/wf+r4OieNK2yihVGmyOimYx3Bs0NiutJDavxxbqpn2MToqGnPnzcWpkmJE8bdZUVGOzZu34DCjNRQRqc8q6lW/izaOn81NzRRthkQoMUhi+ki3XdYeUr9rmYpQv+8Uik36vESr0pJS7N2710XqacyT8KwxsY/F2t+tSXQJCG+KKNSYpPcPbxJwNIbofdq/HmscUZ/0fjUdp5rECqU1raXjx5YtW924KxG9ML+QkZBhzsGigeKUUnPqBGh7cRQ6FLGo9J3VnKt1fhM5Ruo1CW8Se8MYRSkBrORksTvn2ldAdFd/VK9N80oxI02bOD6LdTadKSRMiYvGSo3rEsFmzZnltikBUuKTBCN9nyVuS/Bz8wfPj8Z4iVgfrQ0do45FTVGmclTQ185z+jkb6xyacfOPzo2PDjb6TpzddH2pOVjXRibiDNExEefsb4k9NgJGwAgYASNgBIyAETACQUJAi/oWFv7UwjiwAJKHtZ6PiGJ6pSA5jsnVTS5Z+X8LjSWDPgkQb/eEd8YGGqDHoslj9/nnn8ebu3Y4kSOVKUiKCotouE5zBp5TTBMmY5FSjxUVFb2ji8XFJeilcXzv3j1o44Jc3s/OQM8voow8Hv/QsesYJYwMbzLSqckoKQNM4LGe0/dZxrOAgUeP22ngChi09FjGIn0mnOLHUHv7t1/ij7YRRbFHBjBtK/D5KAoJFdWVrp7M6Q+7PzKySQDQe1soUnVSiJKBUvtT0+u6r/4qBZlSkWmb6ouOIyCOBN6vzww/Lr13+Gt6XY9l1CsrL3OpkgJ9LCoqxKpVqxDK49u3a4/jmpI2Bf2siSOhRAZ59UfGPt3XeKD9B46hhMY2bXv4/rU/tcDzjp1OAw9Phk1tS/tXzQsZCiV8aTspTCWm+jhKL1fF6ABFQskrXPuToeXEiZNooBAm3qoZk8R+qT/at27a5qVrL8GMWTOckVb713OpFD7klS/BLDM7gynLUmiIjHAe9anc59Gjh914p/dqP5euv8yJK8eZwm/js8+4/YnHIH8+8fToT09NpyhznN/VQhc900sDbXVlDT3DEyhIZrq0dRlZ6UhjdE4fxbsaGn4lVKqvM2l4lJB2cN9+x2g2jcGKFFBfJf7od+Dt9pJFClKnsMYQn9f3XUZn/cATaVzlU/z+xLu+uI2M+T8U8Wiw1Xyh45AIJ4EglL9Na+OQAO31XhrMfTR2a17XrODhb2p4e7ff8/DXz+d+NcWY//f//suJ5RoD9Fu5nUK+otUG+J1Zs3o1tm3b7tJG1rCe1OEDB1FeVYE9TDWpKL+P0pL525Ln/dYtmylWV3NMSEEGxxellFS9LbUpHAsk3Gic1XNpFCh0X9E0SnGYScH25PETbi5YuepiJ7w3MmJOUThKAxqomfK+/Tz5zndINEli2sQiRtYl8K/fX+rGSYnEiphJYzRfRUU5Dh894j4cGFsDW9Lco3FRTYK4mh4PP48yWAfmM8092kZAtAk8lvChccqJFRxTdVwBQU+CvqJGVRRec4HaqZJTbszUdjVm5eXnIT4xHlUcx/ooRqsPEqHlxKAoxtgwL+awVklJcSmng0FEULTxdDCFJreVxMgapZ7sYI2tqf106uCcIaYNTQ3Iyc1x84AifDQfaLsax7NZvymcx6L+6rj37z/gxnzNvfp+pVL8kSOGju+jtBZuW9GUmkP13VV0lAbiSPbF2vgkoO9JI7+rrfw+6ZwNb3Kg0Pd5uOPJ8Ncn4/23E5qMBOyYjYARMAJGwAgYASNgBIxAEBPQAki3QNOi2S3sA0/Y3/FFQJZd/i9v/ujYanR3Dnn3jnUntVB+5pln8KUvfckZh/Q9koftMxufxf7DB1lbJBdZMrZkpGHX7t249NL1rg5OBI3pEgrU5Lmr3Pwzps3AFVdc7oxG9XWsRcL/rrnuY/g9vbsHB+ltSYFg69ZtZ4z6+mzAwK+UYgFPZT0faPL+VSoaGbRc32g0CqSlkQFNRi0ZoVQDRU3vCzTdT0tPpdEtwRkENtNjOS8nl1E97fAxNdtFy5dh2/Y3oXz68jZWX/SZnKwcbjcKpRRUtM98Gr7kbS5DpYxNN934J87DuLG+iUaucBoPGRnDGjlKr3Xw8CH3mUAfzvU3sC+9rn3qt6zUW/Lq1vHp2GTYeO21Tc7wJYOXft+FeQVMM3YK1RIT+Jn8/Hy3i8D9U6dOOeOYzo3eX1BQ4LY/3FjoPsB/nChCwSI/L5/RI0Pjh1hK4NBx6xzKiJKZlYGLV650H1NfQ8kgnQKI3iODory5VUdI3u3lFeVOMNNjvVep9eSdL0FI+1NtJfVN999puHmn2KR+K63f8KbndFOdmkIenwyUEt30XZH3dUUlowPIMDMzw7EQB31Pho+X2p4MkDqfgVo6ei7ASX0f/jhwP/B84LF707v8E9jOu7w06k/10Tis/uj4xUJ/JeJYG6cEFF2bmYOIBUvcb8xPgfJCN32vN2167YwYo9/EP/3TPzshVGKtxmA1pdVcznFT3yd9lxoZxfIP9/0vbNz4OxdhoXpVej7w/Q/8fb/+K6JTESV6f+A3dq7P6pc5JP0PbTXw/uH7ePp3z7j3BF7TX403gceB955rH4HX9Vef0fyg8V03dtJFGqmO1kVLl7mIo1fJTjss4HikMfjsNnzs0bj5bi3wHo2Neo/mA4l4GqM0H4irmt6n/mg/gf7rOX2uhGL7ujXreKys+cWxWMdcQjCHZgAAQABJREFUxOgcpeJUStETdMg4RvE7l/NgaHwIistK3Jyy4eoNTB15DJvfeAObGJ2q8xgYVxW9M7TvoejvCqZR1f5003irPqq+XGFhkZu7YhgxdcnatUylVs1UdXVujlC6vEWLljD6kZGK7JOE8rT0NBddefY88G5s3u85OVOoP4Gm+/7TvALP2d/xRUC/Y4m0b521t/dv6HwO/6W//fXJ9shEnMl2xu14jYARMAJGwAgYASNgBCYMAS2oK2moDHhpBg5Mi2144gIP7e94IkAjg4w8lZUVjDpQrv23G3K0oFXEw2g3GetkWL+S4ouM4Fvpaa0oC33HimkkqqZ3q6IfZGhRxMmbFGHuuvuTkNEn0JRK5eabb8Zll13mUl8p9Zc8t3XASk1z0UXLUUFDj8STj99xJ9Nm1bv0KzIAHaPhSJ+Xl7DScLW3dzDqoonF5FOYbqfTpc/KYpSE0rj0shC0+hEfP1QHR4KDFvq6RfK+2pDp3d11D1RzQayV/kpROZGsl6BUHWItb+AqRmHIa1kpfNSfJnp1K2WYvK3FQP2ToUzRSqojsnr1GtdXmRYkgMmbWRFKMmQVvvwyMl//I9PKME3OWZZGpZKZzggUeTarXtDcufN53KmOrfajY5g2bRqNqPXO0zkrO4fHNJRaTcepm96n49SmdV/9ChjxdMQyNkoI0/mS4W/ICKJXzt30+Uh6/OuvPq/PSJTjE85QqToISs/DPXG/SuUkwwsjn07zViSKBCBF5Cg9j3hoGxJN1AKetOqPth8o1n3uHr3zleHHOPxVbTMgCAWOVd/hgoJ8TM0ZEsHey0AoYSmw7XMZVofvT/cD7z/7+fH6uJsCVxkjcEqYek7fGRl69VuL4DmqVkQAf088Ye68jtdjmHT94jjjq61C36Ghuk/67Z3d9Fsaqaax7RcP/BwP/OKXjLIZEgY0Jn7r/3wLSxcuxlUbNrjoub2MuPnTP/1TFw2jfeu31cbvkFIVZqZR1OU4qzFRUSmK4JNwsHf/0DGMVF+1Hc1ZgVRk+j3mM8WZ9lnF2jUah2OZnnHenLkoryxnZOGQ4BGIflkwb4FL59hK0Ui/CaUBFd2zf//iq9+LmgQURbfoekvXWLnZU7GHtQglWGucU/2rgvwCl0pNdeL0OaW9lNASGP/chj7APxq/NJaJv4QR1RHT2K/+q08Szadznli4YL5jUFtd5yJrlIZS866iX5YvW0Zxu9ClRlPUZCJ5af7U/Cpe2o4iU/UVUvo3jf+qA1TN6KqSW29z+w/ld1DpL3UsilLUnBAfF08BP9Q9p+0EIoK0PfHTeKxoIn0vdPyBaxxF5ep1RVFpbuJHXV/1vvcanz8ArjNvkWiv+ktq6pvOUyujtRSP5Ge/+Kzu8WYtGAjoN6DrowheA1kbImAijn0TjIARMAJGwAgYASNgBIxAkBLQgjg3d6pbqCqKQIY5LXpkSK1v7KY3fzvXrEO50IP0ECdgt2VA8FA4kHG7mwaUoTRggQNVyhEVb5chZjSbvjdz5szB3/zN3zqDirxxX3n5Fd5eRmV1lTPKDO/Piy++6FKiNTY34vrrrnPGGhlvUlJT3G34ewP3ZXRTJIlEknhGTEjEUNor1SdZsGCBM8rJ6KO+SEzponijOin9NDApZZgMZapno/v6O5ItP7/gzOa0/S4n6NCwRSOXUvSof2oy4MmYpnRyKuIsQ5TS2Kj2g8SAdKYES2U00urVq1hzYahuwZkN847EjgxGhohVT083DYM57rhlxNLvV4YnRZPI+1nb1fEHjGDDtzOe7xMZW+zbuihmF7rpezO8SVTS7f2amE/0JqOpfpv5BXmu/kB9fb37DqpWCAthoP/UcfgWLkVYAlMEDtmsJzqS8X98/DoPcrzxUThw7fT3VMZyfWc1HsrYP1Kto6PdpcJU2kFFbanJGH+cc0FTQ6OL6Eji+FzByESle7zxxpuwjELBkBE+BGvWrsGs2bOcgV61VVSTqquz26Vdmz5zBse5BH7Vmpw4PTTHwQn6EqdUK0bHJWFegoeEeqUi1Hyg6xzdNIZIMNA4KVFDN0VFaj6RyKCxOoECg8TKE4wyEZvZM2fjJFOJtVOsqaLDSzO/63kF+az1xugmjhcSpDUXPck6cBJktP2zmwRipVArLGS0H9ONqeXnF7j6NwVFhU60UpSSavWorpZm+HbOH6rRo+jVekahKBJRY34sU9JJUNKxOhGcoojmOokichrQe9QHpW3TMStKUMcrDjr+gKCk59Lp9KC5RvcDdWj0Hn03YjnXpnA+klArDppjdbza5vs1bXPmrJkuOkK1iiRcaT5K5vYUeTueWxFr9alWmq5fxFHfqy6mVgvj9y7+6AHWxWFtKXKwFhwE9F3Wb+LsuT04en9hejmyV74Xpo+2VSNgBIyAETACRsAIGAEjYATehYCMJwUFBS7FiRar8tLUYkcGAnnGNjeruG4Gb+Z5+C74xuYpnQqeHxV1j43vR2f7Wzny1SEZolSEWAV/R7tJPLjk0kvdblevWYNL1l3ictlv37GdRrETTKtV54oZ63ungvHPsA6JPI7V0zV8v2oC6LX3ahIYdVOTYUpNabmUMmZ4k8dvePhQmjYZkoa3kRZwhm9b97V9sRjeZMA7u0XRq1ktEP2j+zKszp492930+HybDG8jaaA9337Y5yYGARlwsyge5ufmOSO6IiVkEJaoyJxq6C85gUFGTOD9bbwTA0gwHIXmCp43DyNbzm4ybko0Pp+ItrO3FXisumVLlixj9MoC7DuwH3v27nHChyIXGxmZuJl1agLt0OHDrDFzAp/+9Kexbt06JyZcfuUVFAoktoS76xBdi5QxIqa0pJRjWaSLtFR0ZxNFgTTWWdMxKG0k/7i5QNF+KSlTnHDU1dXtPPAl+r/fnKI+SeyQ2KBrH323FVmjyx5dFy1lRGcTxR4VSNc+5syf6wQYRQhJCFq0cJGr9/Pqa6+i5nR6ysBxah7IpkCjmi5TUhhVwrnKiUUUdQYYeTMlmU4LnMsTmaozMSkZTY1DqTYVwanjUxSl+hWo0ZLEmj9KK6l+6DepyBhFyUUwMvRCzvlyDvkwbbhYo+OVIf3DbuPD7G+k3ltQWIRp06c7EUwRRIqC6uE4h7YmYNdW8KQNBeOM1A5tOyNCwEX3vsuW3G+I3z8Tcd6C8/ar4beet3tGwAgYASNgBIyAETACRsAIjHMCzgOzrd15ouq+FjyBJm9PW/gEaIy/vz6eL52zs5sMJqn0mB8P505erd/61285o9oPvvd9PPDAA9h/6KDrsgxrMgIfPHgQ3/zWt3D11VfjMzTozZ8//+xDssdGwAiMAwKd7Z2orKhykQ4ydr81X3DeYLQZBx3T+8fBefqgXXjr/H3QT7z3+9IzMnDPV75yRhh67dXX8G//51/xx82vu2sMfVrfm8Dfp556CgcOHMA///O/uBpoilg5u+VR2Nct0PKY8uxCNDkEBJwCzmf7f/HVv4Buaoo+EltFrzmhk/O0RIwP0uKYzuzsJrFNt3M1pTQbzy2YnAlqmAqugVFjurbSd7WCUVk6l/ralvK1PArWIRzuhr7F45n65OqbztG7xUcpckx1uEYjkjdYiJuIEyxnyvppBIyAETACRsAIGAEjYATOIqCFagNTdRQXFzuPw0CqDAkAStVhbfwSGDpH71y2KpJDi9bxIOIE6GkB/eWv3IPFS5fgJ/ffj4cfesi9pD4qZYlq5nz/e99z6V2UZkzHYM0IGIHxRUDCvtIqab5QeiTNF/oNy6DpD4g446vL1huen0GdG9eGTM+a9yUwrLjoIqZvTBsxRvouDI/sWb16NYp+8iPs3LkTb7zxOjb+7nc4eOjw2yJjqlmD5Ac/+D5qWLz+uuuvd3VpRqxDY7Sh4QZj/UYC11Vj1B3b7Ycg0MBIqOKSYn4fa9z3VCKcahl5WaOtmtFPLAhkkTgfgudovHWQa5U0pqFNSJ2C8qaWYc4FQzWqPoo4Oxr9H+19mIgz2sRtf0bACBgBI2AEjIARMAJGYIQIyHstinnYA0Vz9VhNC9geFrINC2X+8kimj+h/p1gwQl2wzXxYAjpFPE91LLbb0d7qUqtoE4GoHP2V12/gXH7YzV+o98touGrVKle/ZeXKlXjqiSexZesWl15NfdbtRz/6kUvp94UvfMGl+btQfbHtGgEj8OEJ6DeqWieBSAOl32znWCQZJ/HgLkQ01MIfYpF0H57shfmEn9a6iJoKxB3YhQ7uws86aZo+FGGgOT88PNSlL7swe1dwVqirtycj6sKFC7BwwUI88uhj2Ljxd26XHqb8lBi4Y8cOVFZWooN1YO68807k0gnBmhEYCwKKGvIOqycoYVIp1TwUcTxRrK/HtJFe1pmjwqOLrrHoou0zQOD0emXg5DF0nzqJnvaOM9e9gYg/1bsyETUAbOiviThv52GPjIARMAJGwAgYASNgBIxA0BDQ4kY541WIVk1GOi1alRNeCSNa2uNxbF86CnMauWb1sfSBRec4UGP5j05BuJ+FlnWOurhoHVqSyQO6nwWOU1NS3+bpPJZdHb5vLaolLi1evNjdcrNzMOO5mXhj8xsupY7eW1JSgscff4L1D6KxYcOV9IDNcWlkgikdy/BjtvtGYCIRUH2PXKaz2r1vjzusThrd9bsO5TzSv28Xwupr4eVwZKmGxslZ57lQQfbIslNnOqQ5PoyROarTkpubPypRj4qszM8vQFZWjvOYV82bPbt3M1VVpROTJCip5stDjNBUms2777oLGUzNZs0IjDaBQtaITEsbuh7WvuUMIxHHr99NZAx8rHnkL+qGNz7BPTfa/bP9vZPAAOed1upK1obqPXPtq7WNaicuWrRoXEWlv7P3o/+MueSNPnPboxEwAkbACBgBI2AEjIARGDECysGen5/PwrqJZxY7Ac+1kqp4/PQ3c9DVzXQsIeZ1OGLQz3NDtCcAPg86G1lPZlDijXK1D9WmmDZtGi6/7DKmyFnxgfPvn2c3zutjZ0cG3XDjn+A73/0OvvGNb7jCzhJqCmhAiYuLxW9+89/43ne/i5/97Gf00t7p9qe0awHvyvPqgH3ICBiBj0Qgn7/PSy9b71JxSaqR4K+5QqJNRVcP2hm9yaesjRMC/r6hqBs/oyADTSKOUqhdc/U1uPqaa6A6NqPVwsPDcOWVV+LRRx/FFz//RSxYsACxsbHu+yTx5iDr49z/k5/giSefRAlT9gUihEerf7YfI6B0rvln1V3SOOeGNV5/eVTbiI952WVtnBAIHehHKE8IE925phR4WRSpb7jhBnzu858fl9fDY4luyO1rLHtg+zYCRsAIGAEjYASMgBEwAkbgIxFISZqCwoJCNLc0o7y8/IyxnPY5REd66I34kTZvHx4pAozAqa8Jw9/9RxaOFZdwq35XOFlGhjvu+AQWzJ+PvPy8kdrbBd+OInO00J4+YwYee/QRHD54iJE3KcgvKsRzGzfSmPdr7KbHtlp0dBRmz549Kp7jF/zAbQdGIAgJJCUlYfacOU70P3nypDOya+xR078eTRgBS5p71v4ZMwI8L/2nSuCtqmB01FBNHAk4Ek2WLluGuz91N+afFlFGu4+qGfP1v/4r3HbH7RTsf4Nvf/vbUG0cNaVxfeO1P2Lzptfxpa98BatWX+wivUa7j7a/yUtg3tx5mD93Pg4dOeQgDHdA8SuNmktL6LeIw7H+iijtnX8QiW/+EX1Mc9fBhYqmHzn73HbbrbjrrrsRx4ipgFPaWHd3vOw/5L777lOs2T3jpUPWDyNgBIyAETACRsAIGAEjYAQ+HIHomGimsirG62+8cUYU0MK1s6sXzU2VuON6piZI4PKI5XGsjR0BT7gHzY1+fPcXnSivqMXAAOsWUQjJo+fo1772NaxZs8alxgsYVseupx98z+p/OovSSqCZQ+PJgoWLnJF4985d7jtZzBRrhw4dREtTM19bAKV0smYEjMDoE3DGMHqgb9uyxYn9vawToeaMnBQIQuITEZqcjdAs1jThY2tjRUAhA4zSbG1G+xuvonHTSxigwVMijtJZqu7M9RTPJaaMVdMcJVGwgNFdc+fORW11LUpKS1z6TNVMU5rNjc89h1OnTmFKSorzrB+rvtp+JxkB/nYaGxuxddtWJwgERBwJBGkt9QiZPR+DU7NZK9I3ycCMs8MNkesAHZt+9F9oO3kcg3QiUJ0tCdV//ud/jssvvxyxjOxWuk9rbxGwSJy3WNg9I2AEjIARMAJGwAgYASMQlAQkAsRw4aM0BHNoTC8rK6eA08kaKx04fvwEQr1zWcg1ynkeWlDO2J5iPz0P+3heBv1DBgQZVrVojWGx3R4WHfcx7ZiMY8HUQmjQy83NxdSpuZBhuK21DddcczWOHj+KYqbVef3115lepwQ333IL32NFr4Pp3FpfJxYBRcRFhEfQ2J6MKN7XnNHa2gpJNgM1VbxVImLx8ol10EF3NFTa/IygjYxGL73SOwZZt2goYMrVNMrOyXHjaW5e7ph7qav2zY033oiwkDDMmDkDkfxOLVy8yEUFP/3003ji8cdRVVXlokxvvvlmKG2oUq9ZMwIXikAIv18xNP4nJye771pXVxdU/8vX243Wl19A7Ke+jBBmKPR3Xage2HY/CAGPInHCvejo6UEPP+DlWOf1hCCX15FeCnF9fX1DWQVsvHgbThs934bDHhgBI2AEjIARMAJGwAgYgeAjIE9DRUREs6B8fm4+qmtqENqnuishfN6Pitp4JE/hIsnTy0WRyThjd4ZVA0ciDhenpz3dA+eup7cHNTxvHi5kg03ECfDk1xCR9A6PZGHhG2++Ca9ueo2CYpmrvdHHvOcBz//A++2vETACo0uA0gASKRLrFhEZiR4a0CTiRIaFwtvTDV972+ncavwxcyyyNgYENJDSI91TU4GQ5oaheh6nuxEfF8cz6MHhI0eQmZU55iKOuiVHhBtuvAFrL1nr5jDVwsnJmcrvVRuef/45/Oqxx9wtOjqaKZLuctGmY0DVdjlJCARqMamuikRqPdZ3NILXyDXd3cjiGBffrxgQXQvbGDcmXwuOcX5eE/rqGuCh45KLyeF8o+vhnKxsdDMtY0VFhRPiwlkTLBBNNSZ9HWc7NRFnnJ0Q644RMAJGwAgYASNgBIyAEfiwBJTOat68eS71wO9f+gMGfAPIzs52C9fa2jp8+6EF+PqnKzFvTjmT1tsS4MPyHbH30zA30D/ANGMlFHKGInEkehRQeJuanYOMzNErUj1ix3SODSky5zOf+Yz7DpaWluLee//SpQI6x9vtaSNgBEaBQCxFgGs+di02vb6JUZrH3e9TqbHyWBC8btdWtKdlIOHuT8E/lGltFHpku3gHAYk4NDpHPno/wn//DINyZGweapEU3mbNmnlmfg88Px7+yvlAN6V9q66ppUgYccb4KieTk0ytVldXZyLOeDhZE7gPM2fMxOrVa/DfTz3lrrV6GeGsqJz09DScPHwE/cUnMFBRA29KGhj6PIFJjN9D83A88NXVoO2hn8DXUHdGTpNYMyU1GXPmzEZhYeH4PYAx7Jmt4MYQvu3aCBgBI2AEjIARMAJGwAiMFIGMtHRkZ2Y5I4kWQk1NTS4VgQwq297cg7qP0ddtgeWWHineH3Y7cmpXTRxm+XDROAEPUBm30tJTEUpP+InWLl2/3tVL6Kb3qzyzlTbOmhEwAmNHIDQ0xBkzNe6oaX7QfCGv514KzBEd7egrq0ZoUjKjQThnWDTO2JwsTgfyTleKoeEtLS3Npa4c/tx4uy9RMItRQqppcWD/fuzdu9dFQyxfvhx5+fnjrbvWnwlGIDw8DFmnHWIGGOWhpnRq5UwzrLSREnH6K0oQmZ6B01lt3Xvsn1EmwHnHE8p5iH/V/BzrdJszdz6viSeOQ9NIU514K4WRJmTbMwJGwAgYASNgBIyAETACQUBAhrjIiEjnoStvV+UBlzHF6w2hx/UR9HSnM9dVHPwdXDMFwfFMtC56I4Hje/y4/7FBGk65eOX5kn3OS4/rounTXTq8iXbMsTExiC0omGiHZcdjBIKWQEhIKL3SmVuTs4Bqk6Sw6Hx9fb2bL2TgjCk5gYjHfgrfZ7/KBxRdmfLG2igSkEGTKaAGqxvRUF2NNhqfXe0IdiExPgEpU1JGsTPnvytdY1xxxRXQHLB7927OeX6sYXSEHlszAheagNKnKW2taja1tLQ4EUdp1XRN3PXai4iYswBRq1fC33ehe2LbfzcCHmo3g91d6HrlBQy2tri36NwkJiZyDZPFGpHR7/Yxe44ETMSxr4ERMAJGwAgYASNgBIyAEZgABGIY5ZCekY76pgbEMWWORBwtWuXZ5utrxbGSfFxRl4jw0GbWY5GJxdqoEoj0YNvuHvzbj1oQoqgczyDCw8Ixd84crFx5MaKioka1O7YzI2AEJh8BReKkMa1QfHycG3NUb0BNBjR5RA+WnETf048j5DN/QWsR5wnLNjS6XxKeB39fL3oP7EVjWQl6pax5hjzUb7nlFixcsACKLpAAN97b1JwcTL3tNtzGWzdrL0UxFZw1IzAaBDSuTWVK11rWGdTvRdfBvRR11Pqqq9B7aB8GLWXkaJyKd+5DDkycV3w1Veja/Jp7XcmFkxOTsG7dOkybNs2uh99J7cwzitC0ZgSMgBEwAkbACBgBI2AEjECQE5g5axZWrlqFU8w7r7z0CQkJp1PlDB3YEy9OxVN/yALCZRWyNuoEGBHV19sOf38ld+13nsnz5s/DJz7xCYo4KxAwpo56v2yHRsAITCoCKVOmYMaMGW5+KCsrc1GBAuClca2DAnNZQyN89JKmzmxtlAl4OE8whAB9e7YDLMAug50M0BLZvnTPl7F67ZqgEHDOxmYCztlE7PGFJJCSmoobbrgBDQ0N7vejupF+po5UkwvTIJ2dBiiU8kU+YWZxB2aU/vEwSsrH6M++44eh2jiBlpWVhU9/+jNQ2kVzagpQeedf+7a+k4k9YwSMgBEwAkbACBgBI2AEgo6AUhDMpyigGgclJSWuJo5SdqkptcTm11/G5jdeZYocrxyurY0iAdkJEMFsdhEC/xb8NNYxKpo2fRR7YrsyAkbACADz5s6BIiXUNGcEmkYnPwWc9l/9AgOV5azjNRSpE3jd/l5YAn7VwmEKu5TNryCChmZ5qCvqRgZOqyl2Ydnb1icOgZjoaFePL5LRX0ovXFlZORRtyEPU5Vj4js2I+cm3FYLIH5jVihzVMx/iha+uBn2HD7jdBtYpXq+HqT6TuD4xmeK9zofReS869poRMAJGwAgYASNgBIyAEQgiAnl5eZg/Zx5lAo9LqaZ84PLiHVokdWHnwQi88uI8DPgo5Hi1lLV2oQnIKOqlgPObBwfxsyeGjKUSdSSsLV68mFE4Ky90F2z7RsAIGIG3Ebj62o9h1uzZ7rlcph2SUODmCqXzoojT+ssfU8RhlI5leXwbtwv6QOy7etHHwus1Rw+jt6vT7U41jBSxmZSUfEF3bxs3AhOFQDRFnMWLFiEzM9NFpqvWisY3NdUh7GhqQs2eXeivrmB0NOt+mWfTqJ16L8vd9B49iPbfPu4ioXw8Lwlx8Vi2ZClmc04KCxv/qSJHDda77MhEnHeBYk8ZASNgBIyAETACRsAIGIFgJJDOyI4bb7qRxUETztTDGX4cJ8tC8OTzgwjx0r831ESc4Wwu2H2pOKzl/Nvft+ClTe10/GQ+cP+g8xJdsnQpIiOp8FgzAkbACIwigfnz5jkROZ710wLGTbd7eabTqNlXVoz+Kho4VTfCDJyjcmY8NF76W5vRzXodTSz23X96ik5IiMett95GY3TiqPTDdmIEJgIBpVBbftFFyGQUm8/nOxNxKKemHh5ga20NQlj/y9vSzNCct9J6TYRjH7/H4GGqTmaMVO212mrXTQ1zM2bOdPVw4uPjx2/Xx0nPTMQZJyfCumEEjIARMAJGwAgYASNgBD4qgUQaeW69/TYWrk5He3u7ywf+VqoCL5qbanDwwA7UNbHAsC/UbHMfFfj7fF62Tzl/9jeEo6mxie/WbSh90frLLnNeh+4J+8cIGAEjMMoElixajAXzF6C0tJRlWPpOR2yyExRypD0PHmbx71Mn4Qk1A+eonBrNFUxh17P9DYScFnC03+TkZKZKnUsPdTsPo3IebCcTgoDSRF577bVIoDDQ2NiIiIi3HGZUlyWkrQXen38X/spShkZPiEMe3wehC2Kmrhs8uB9+ijiaYwJt9pzZuMii0gM43vOviTjvicdeNAJGwAgYASNgBIyAETACwUNAKXHmzp2L/Px85LDegVJJBLysVRi5r7cVBw434N9+sQTl1Qn0PhwInoMLxp4y2qm7x4u//tcs7DgQ644gcD6WLVuOaUXTgvGorM9GwAhMAAIzZs3CylWr3JHI4BkYm5y6z/ki8rGfIeIPz8LP9DfWLjABL4t9N9Sh69UX0fbkw/CzLo7q4WRmZOLiFSsRHv6WAfoC98Q2bwQmBAFd815OZxmli1RTumGlsdU456Wg0DcwgOLqarQfOYjBhmZI2LF2AQlIxIngvPLEA4h44Tfw6/HpNm3aNDo1zQo8tL/vQSDkvvvuS+Xr97zHe+wlI2AEjIARMAJGwAgYASNgBIKEgBauSkkQRu/putpaVNfUOA/rQEROb28/jp2owe3X9iG9KIw5+FlB5621VJAc5fjvpiJwPNFehDF12l/9w3GcKm4g535E0Bg3e+ZsfPZzn8XUqVPH/4FYD42AEZiQBKZMmcJ5IhQH9u3HrBkzKTj3oK2tzRUA13zRy/u9NGx6UnMQmpUzVARcA5u1kScQE4bwJx7GwCP3o7Wh3p0DCWsXLb8If/6lLyEvP2/k92lbNAITnICi1zSu6bo4LCQUZeVlrAk54B77ed07yOEstaEaEVPzMTifIkKvpFNrI01AApmf56HjD8+j+fEH0VF8Cj6eE41xCxbMx8c//nHMmjVUo22k9z3RtmeROBPtjNrxGAEjYASMgBEwAkbACEx6AmvWrMG0wiIn5KigqxZKuskLcXBwAPV1xXh5eyqayjLgDR2c9LwuBAAvHafryoDv/nIAZRVV3EW3S60WxYK7X/zzL6KosPBC7Na2aQSMgBH4wARmzpqJ9ZdfhqjoKETHRCMmJuZMRE4Xt9KyfTPan3wInvBw81T/wFQ//Bt9bT1of3MzOg8fcpwHKZalpqZi/fpLsWLlig+/QfuEETACjsCSJUuwktFsEnGUmlAOTqqR4/F4nZjT9uY2dB3co0s0axeEAJWy8BB44UckI3B6SouhuUWOAnI4+9SnPuXE6guy6wm4URNxJuBJtUMyAkbACBgBI2AEjIARmNwE4rgwSk1PQzZTqhXk5yMtLY3pWMKdkOP1etzC9aHfxOCVreFAtHlWX5BvS7QHh08M4G+/1U5P0LfqDxUVFeGTf/opJNGYYM0IGAEjMJYE4hMScOVVVzG1UL+rHZHFIuAS/NVC6MXuY9Hv7tdfwUB1Jfw0fHLyGMvuTrx907GCwOHZ/Cqajh9zVdMUGDtI1ldv2IANV294Wy2PiQfAjsgIXFgCmRkZKCoqRBIjDwvyC4aEnGH1peq5+4ad29Gz+RV49LyFpo/sCaFYNtgzgIHyUoTteROh7W1u+1qTzJs3D9dffwOysrNHdp8TeGs2A0/gk2uHZgSMgBEwAkbACBgBIzA5CYTSMCTv6ptvuRlTs6di3eq1SKeQM+R9OCTi7HzzWezZs52WOgo51kaegN+L7q4udLaV0kbnc97tM2fOwO233YpoRuNYMwJGwAiMNYFYRt5cdtl6XHrJOsyZPQdJ8YlnInEUOugEhY52tP3yR/DV18LD9GvWRpCARJz+PkT+5D8RfmiP804P1Ca6/MqrsHjJ0hHcmW3KCEw+Aoq+uXjValxFQTQ/Nw95vOk5XQ+rqZZk54vPounf//eQgGNC9Yh+STwRYRgoPo6Wh36MUyXF6Ozvd9tPYJaAP7nxRncuRnSHE3xjJuJM8BNsh2cEjIARMAJGwAgYASMwOQkkJyUhvyAf8Ylx2LxtCyqrqpyBaDiNXz7lwz/8I9NKxNITmLY5K3cwnM753/ck+fDYI4zC+TcZCRTpNOgioZTm7q6773Zp7c5/6/ZJI2AEjMDIEVCazdlz5qGfhb4rqircPCEDp8QE1TLwNTei9Zc/Rt/+3fB3MxGOGTlHBj45qk5Eb/EJlB4/jvYupdz0IyoqCp/57GeZAuoiyCHDmhEwAh+NQGJSImZTpPYyKqSqqhL19Yq/eXsb4NjX/uuH+ZvsZkSOOTe9nc75PvLDGwsMVJSi9eGfMiKnB35GOqlG0fRp0/Bnf/ZnSElJOd+NT8rPmYgzKU+7HbQRMAJGwAgYASNgBIzARCcQERGBQtZdWc7CyA2NDU5EkPfhAA11aqGhISzy2opH/rsBjz2egY72UHjDLLXaR/leeDx+J9ns3j4bj/8uDHv31VCw8bj0RCtWrMC1134MWVnZ7xDTPso+7bNGwAgYgY9KYO3atW6+CAj5qWmpLo2XmxEo6AwwCqfhP/8RnayR451i0TgflbfzmIjnnNvShIgHf4iepkb0nd6o0p9+liKOUm9aMwJG4KMTiOT1cEFhPvJ4k1gtsTQ9Pd1dm+m+0gz311Sh6affRX/JScDH62RLq/aRwXujI9B3vBrdWzbBx8h0F9lJ3rNmzcKnP/1ppJqA86EZm4jzoZHZB4yAETACRsAIGAEjYASMQHAQUH2DNTTO5ebkYgrzgSew/oG8fNVkrAsP96Guvhf/8eMudHTyySiPe969wf75UAQ8XgKNoDEg3IufP+HD69tb+PlO2gG8yGa+79tuuw3r1q37UNu0NxsBI2AELjQBFZhOTU3BUqbuknCgOaIwvwCRkZFDKYcYDeLSqO3aDu+zT8B7sBSQp7oZOc//1NC46a1oADY+hd6nn4BH3v/0Thd/zRUrLmIUjqWuO3++9kkjcBaBlCnJWL12DSNApiOF18NJjFaPYTpJRYX4eZ3m5W8w/Mh+dD7xIPrKSuCJYX0ca+dHgEzpwcRaanXoeOpRdL30nBNwBugQoMibm2++Gbfccsv5bXuSfyrkvvvuSyWDeyY5Bzt8I2AEjIARMAJGwAgYASMw4QjIOBcXF4fy0jK0trW5xWoi81A3NTW5iJy0tHS3iD1+fA9uvy4WWRkR8AzVtJ5wLC7kAcm7cMDHtEN9oWhv7cPf/fMbjHKqdbuMjY3FV++9F3feeScy6PlpzQgYASMwHgmEMDqzk97SDQ31rB2Rj/qGBrSxCLXmEd1yGNkZe/wgfKeOw7/hT9xzpvqfz5nkjOEJQQjr4HT/+30oa++Eb3DQ1Ya4m+k2v/nNb1rKzfPBap8xAu9BQGKNHGraW9vQ3NSMbqb2Sk1NRRuvjXt4P5ZOTtk5Oah67mmEFkxD9LIV8A/YBfF7ID33S5wv/J0daH/sAbQ++GP0HD3oUnMqVP0v//Jr+PznP89IqLRzf95eOScBE3HOicZeMAJGwAgYASNgBIyAETACwU8gLCwMFzG3vo8pJMLDw5CZkYF9+/a7NBL9LDDa0dHmUks8+OsWzMgLx9zVTGDdyZWWtQ9MwBMxgJ0HC/BPP0jH1/7HJpRX95GvIp3CMY15v7/85XswY/oMM8x9YKL2RiNgBEabgDykZeSMjIxCVUUlU92kOuG/rr7O/e3o6KADQLMrTO2Jjkb4zLnwRkUy9dBQgfDR7m9Q7o/RNZ6wUET8/V+g6dEHUN3MiE0alwc5YaxlpKaicGbOnBmUh2adNgLjnYCuh+fM5bjlDUFlRQUWLVqIEydO8jq4w/0GW1tbXbq1pGMHEN0/gIEr1jFKzoScD3NePRHhGGyoQ/uvHkDLz76HgdJTrArJ62GmtFu+ZBnrfX0Gi5cs/jCbtPcOI2AizjAYdtcIGAEjYASMgBEwAkbACEw0AvKgjqbBTTnBi0tK8OabO1CQlw8tVjs7lUNNWXE86O0bQHlNLKZExmL2cj7Xy5RrXHnxJWvvQ8CT7MfObYP44YNNKC0tpbMhoRGe0nXceNNNuOnGGxEfH/c+W7GXjYARMAJjS0BpNxWt+fxzzyOU6XDCKER3M81QFyN05AgwyDycvq5OGuaKERIbh9D0LHgT4k3Ieb/TRm6eqAj4e/vQ8fuNaHnwJ2grLUE/BRxFCOj2uc99zqUYUj07a0bACFwYAkoT6eXY1tzcjIb6BrS3d7gxTtE4ElM9FHj6WymuVlUgtrUL/mWr4KcDFMPX7YL4fU6Jh2k2/eTYvfk1NP/XNzFQXuI+IRFH64yv3vtVXHb55VCEurXzI2A1cc6Pm33KCBgBI2AEjIARMAJGwAgEFYFZs2djCWseJNBA19vbyzRr8YiOiT5zDCEhXmzd0YFv/6QZrz6nSBzVd9G/1s5FgGnU4SHCsn1JePn1VlSWH2IdA+ZXH/Q54UzFwj/+8Y+zHlHSuTZhzxsBI2AExhWB6dOn47rrr2f6Gy+qa2qG6uKwh17VjaAnu4x0PQf2oPnn30fP3h1wbtY0ilo7NwFPZAR8be3o3/46Qp/5FdprqkE/Cc4Vgy616a2MwLnqqqso9lMQs2YEjMAFJTB9+jSsv+wy9PFaWCK1j9GEEhkkpspxqZP/NB47gpYHOMbt3u7EV4+Jq+c+J4LGOUACfz8jb3r37URv8QkOcH4M8KbaQ9deey2u4S3N0qidm+MHeMUicT4AJHuLETACRsAIGAEjYASMgBEIdgJKI5GdnYMwpnJ5+JFHXNFqFU5WGomhhStzWPu7UFbZh+37onDF6iikJKkWAn3o/BaOM/z8a73qCfG7SKWGOj++9cNE/OrpJrS2lDuW4noFvQ2/+IXPY/369WRovnPD+dl9I2AExi8BzQdLly3Fmzt2YMvWLS5q009DnKtMzW57ZOj0chCkp7qX0TghWTkISU7hCzZPvOOsigl5yYu/641X0fPITxFP4auzpRm9fE6si4qK8N3vfR8LFyx4x8ftCSNgBEaegFLdpqam4OSpk9i9ew/q6+vPXAdrb/pdaszr5rDn4zVyWE4eQlJZ01C/Z42F1t4icHrc91MQG5R4s+2P6N61HQOsnaYIHDG7nNfD/+t/3YcFHOMkllk7fwIm4pw/O/ukETACRsAIGAEjYASMgBEIKgJKI6FUOT3dXayLsw81NbWMHAk9cwxu4TrYS2GnC8fL52H+DD/S83qAPhMhzkDiHY+Xi3hG4DTW+nHLlwbw3B8Ooq21yr1FDK+5egO+/ld/hSuvvGr4x+y+ETACRiBoCERFRSOeEZt9Pb2oqKp0Rk0Z4GTcDKHXdREjdtq3bGJasGIWAV8Jb3zCkGBhRs63zjFTM3nCQ9H14rNo++n30Pb802ihUXhg0O9SN81lfY77778f8+fPe9tc/NYG7J4RMAIXgoDGsJypeUw1HIba2lp30/WbmiJzEpOTkZOejprNm+Brb0dYeibCCvOBfqsB5iCd/sfDNYSfgnTf4f2Iuf//ouvJB9F08IATa3yMNLz6mmvwla98BZdecsnwj9n98yRgIs55grOPGQEjYASMgBEwAkbACBiBYCQQFxeHhQsXouRkCUpYI0epJAILV+UDV67qrKxsdPX4UFKVhCTm8c+f1wH0mJAjB0JPQj/+uKUQz706B7sOT8HWnXXOi7O/X8lxgGQu/O/7h3/AZUzVISOBNSNgBIxAMBLIzMyg6J/kojWLS4pxpmbEaSGnu7sbCaz1FdHchMad2xG9ZAW8SVMYpchxj3PJZG6eUKad6+tDX8lJdP7xZfjqatBfcgK9p04wsNXjUqgtX74cX/va17BhwwYoMsCaETACo0dA171KXzhnzhyUl1dg+/btZ66FJVYPSJjgbzgjNRVdJ46iu45OT8lpFHKKhqLT/RJzJnFUCcV6T1IEx7QSdL32B4RnZKHhyYfRduI4+jn+az2Rn5vnBJxbbrnFInBG6KttIs4IgbTNGAEjYASMgBEwAkbACBiBYCAQWLhmZ2ejvqEBBw8dPLNwlYe1InN0a21txJGTnWhujcDU5ETkFPXBw9e1bpWYMZmaHMtVHwhhHrz6SiIefTYUL7zWip17KijgVKKzs915bhYWFjqj3E033eRq4kwmRnasRsAITCwCEqFTUlIRFRWFGnqqnzp50tVTC4jTEnXCIqMw0N6K9uNH4GOKsLCp+QjNzIaHaTs5KE4sIB/waDwR4fDRAKzUQiFP/hLenZvRffwoesuKMdDYgEFOKKo79IUvfAF33HGH4/sBN21vMwJGYAQJhFDIUb2WlJQUXsd1Yu/evWciDZ2I09+PSI5/nRRwuivL4WvlGJfJ9JFMIekJD2NUzsAkuyDWxTCjCxm9hNhQeF9+DZ7HH4B/y2toZ/q0tp3b0NfZ4RyYCgsK8ReMwLnp5ptZgzNuBM/a5N6UiTiT+/zb0RsBI2AEjIARMAJGwAhMUgLZOdmIYLHlgwcPorq62lGQwKOFa1tbG7q6utDV2YiSikGU1SSjILUBmSmhCIlkRM4kss2p9o0n3AMfA2127wX+7SdJOHysHdVVB3Hs2EG0M82GUm9IwLnrrrvwd3/3d67e0CT9WtlhGwEjMIEIhIaGIDMz0wn7Rw4fQn1dvfOwDhQB1zzRQ0NmiJT9Q/sodIfCE5sAb0wcPDR+TqqmCCTefE2NGDy4B6HP/wZRv3sSkRS5mvfvRkdtjXOYyMnJwZfvuQe33367Mx5PKkZ2sEZgHBKQU5NuL774orumUxRJQKzW9fAgr41DKVqH1FWhn2J1FGuBhSanwh8bM7miDkPD4aew5aupQkh1HUK/8y8I3fwyBrluqHn+GQycFnCKGK1015134qt/eS+SkpLOpOIch6c+6LpkIk7QnTLrsBEwAkbACBgBI2AEjIARGBkCGRkZzgtx48aNbpElESdgnNP9IVGnE0eOl+KnjzZhw6XxyC2KZI0ceuNNkjY46IE3AtiyzYc77+1FY1MTpmanIjwsAhWVFW6hLy/Oe2iUk4AjZtaMgBEwAhOFgCIzZ86YgUHfgEs7VFMzJEbo+AI1csIjIlDA9zRvegnt+3YhhJ7XEbPnT64aORKyaOhte+JBhD30I0Tt3obB6Bj4Key00su/l4W/JYjd+5d/iU//2Z8hnfU2rBkBIzA+CChaJJfpvzZv3uyEnMC1nP5K1JnC32sK0+XWbn0dCa/8DmEZ2RhcuoTXw4zGmSRp1RRh2XfyKDp+/n1Ef///IKSiFF3zl6B59iL0UagelENTfgHu/MQn8Hd//40zUYaaJ6yNDAETcUaGo23FCBgBI2AEjIARMAJGwAgEHYHIyEhIyElOnuLygSs9TsD7UAejqJzcqblYu2o1crKn4gcPHEVsWDeWXZPkUqt5uHb1s/TBRFufufRpYYzAifTjh7/Mxd9/sxE//MVhVNW0cXHfAhkxyyuYWoML1iWLFuPv/8f/ZF71uc7AmZ+fH3TfA+uwETACRuC9CMiQuWjhIpSVl2PLli1u7JNhLnDz08jZ3tqKiD+5HYOsldPxu1/DSwEjYv5ihLBuAnwUt/meidg8YeEY6O6Ef/MriPjnv0H9s0+h9SRTC5FHM29NFP47Ojqwdu1a/APrpYXz/XGsxREbF4uwMKYlsmYEjMCYE9D1cG5uLjwc606dOuV+twEhR+Oc0oR1R8Ui9o4/RZzSqm3fhMHjx9E7bTZCp6Twc4zEUwrJiXZBrOMJYYRlYijCH/w5+v/pb1G7eRPaa6vRwkj0tqoqdB3aD19HO1ZdvBKfoICzimuGdj5WjUg5AVgbOQIm4owcS9uSETACRsAIGAEjYASMgBEIOgIq7JqXl++McSdZ86CVRqeAkCPvQ9XJCWfu7/y8XNY/yERHVzgO7+rA5q1+rFoaBm/yIDw+GucGJ0YEiifMB0+8nwvScPz8sUT8+KFyvL6lDG3tXVSsfOhnKgmJXYmJia6ewZe/9GVcddVVSEtLQwS90ZOTk4LuO2AdNgJGwAi8H4EQGuMk+kczTVpVZRVaWltY32VwKPqQ84TGRj+NmBEzZiNqzeXwdXWg478fQ/+JYngTkxGSy8iTfkZxSswJZkOnakLIYCvjZEwIawJ1IeQPz2LwFz9AHSORultaMEAWfXSCEBPNC6p9c++99+LSSy91hk3NE6o1FMooHWtGwAiMDwIScgqLitDOFGonT5xwETkScCTm9HNs6+vvg+rohEybhQFF4rAeYtjhfS79sDeb18ip0fD38VjkCRTsTeOc6v74PeivrULfvgNoe/h+tLzxGnp7ujEw6OcY56OA3Y2Ivl58/M678MUvfsFdD+fm5blxT9FNASEs2HGMl/6biDNezoT1wwgYASNgBIyAETACRsAIjBGBhIQEFlqeQSfCAZSWlqC5ucWJNxJ4JFhU0tMuiovbnJwUlFYO4Jnft2LPoUHERbXC05dEb+JExCR1M6EEBR23dg2u1Ake6k8eRd5EeFnrJgmnToTgjR2DeOi3GThy7Cj6+pppcxxKNRcdHe1S0K1cuRJ33/1JXH/D9a4GTnR0lAk4Y/T9td0aASMwOgSUAmz27NkUa/ycK0pd/TRFJHopRsiDvY8FwL1T0hC/YjXCTh1Dx+uvoPvgXnia6jluMoIzayr8UYo+4aAbTIZOiU48Ph4k/L09GKTR0k8Ry7trB/w7NsOz/XX4jh1CB9OmDfC4fBSqwsPDkUnRa87cufjGN77hInH0nAQcFVM3AWd0vrO2FyPwYQjEU3hIS0ulWBOC+oZGNDQM1QGL5m82iuNA+6kT8GXmoJvjnIf1r+J3vuHGvd5m1sLyhyE0aQp4UQiPBFqNccEyzgXGOI1zEm+Y/tHHKELf8UPwbPoDuo4dRu9hRtxQ0PHpoplN45nE6PmLFuGv//pvsGHDBmg9oee0fjAB58N88z7Ye03E+WCc7F1GwAgYASNgBIyAETACRmBCE0hMTMCKFStoXIrFyy+/7I5VBrvY2Fh009OuminE9u3bj87ONmRnJdHLzoufPVqG7YemIyqGhqqpLPjaH8mFr7wWKYgEgY6jPmotOjDgQVcn02V09eHhjbPwH/eH4pkXa5GZHs+oJPD4e3jcnc6zMI8ehpdfdhlWr16NLBbCzc/Ps4XqhP5l2MEZASMwnICMdKvXrEZtVQ2qqhmR00Yx/3RNCIkT/cVMMfTC00jraofnmpvQQ7EDv3sKift2oH/VeoD1xDwUQjhZnBZGxvlkoYlChlg6OXDGQB897wcoUHn4N/yf/xoRrzyHjqQU9M5eiPSmWpdGbYDCllKRXnn5FVizbi0WLlyIKVNo3LVmBIzAuCegiMMVK1a6COstWza76z+lBktlxHUvHZv6jx9Bz67t8FSVIS4lFVFMtdbw60fQfvQQImfNRWhElItK1IF6mIrs9PA4vo9bEZK6cezyMP1j35H96N78KgY3PoW4559CL4WrBDpqRbU0obWj00XvZ2Vl4WI6NF33sWuxYuXFiGOKSBNuLuxpNhHnwvK1rRsBI2AEjIARMAJGwAgYgaAhIK+6goICzKXn8OHDh3Gc+b6TmDZs/bpLkceCrzW1tWhhqhgvlQ/VgrnkkjUoPnUIDzz0ezzy217Ud2/Agpn9iM1s40KQhi/dxnHzRLJzicCxQwm49x+T8P/97+3Ye6iZ69geJ0S1tTOlBlPMNTc3u7ze+RRwlrKQ7a233YY1a9e5tDhJSYluMTuOD9O6ZgSMgBEYUQJKuSkhJzY2BhUVFaiurqbO4ceff+lLSElNxYEjR12UTsebmxF3611IvfVu4KWNKP3FjxD51EOIbG1Eb9Fsph9KpphDpZy2w3HpsU6vdKUU8ncxwqb4hPtb981vwPfT7yCl/BRTifoQwujMtpJTqNv6Bpob6phyqR9FBYX0Sr8a66+4HAX5+ShiiiZFcVozAkYgOAgoDWI+f7tTKcaqrpWuh9XuuutON1zpWrijqwsdPb0YuPZmhK2/GgON9Wj/r39B8uaX0Vl6CoOpGYiYnkNPIY5x4/hy2BMaBl9NJQbqa4HiY4j4n19F1Q/+E56dW5Haqyh7Zo5sqEUjRarK02N9ZmYmLr/iCtxy66249NL1iI6Jdqk2A+mYHSz7Z8QJeDjRzuFWD474lm2DRsAIGAEjYASMgBEwAkbACAQlAdXF2bdvHx5+6CG89NJL6Ovtw5pVa+AN9WDr9m04ceIkRZ1cXEIhIyQ0BEeOn8Chw6eQEJ+Iwux6zJqWiktWF+KOOxtYN4AezB1+FrtmqrUxXsTKmdobzn9ieVr6Q/Gv/+nDvkO1KC7twNGSBORNzaEdsQdNzQ1OuOkf6KdhEZg7bx4WL16MjPQMpoqIx7p165hSaI4rSh0RER6U59g6bQSMgBH4qAQaGxuwc8dOPPf883jwwQcxc+ZMVxy8jXPIzl27UE/hPyS3AMlXXIv4RUvRuGUTBl5+Hn56fPvnLACiohF7yZWIveZGhM/Jga+bPWKQDovKjLKow1gizmWq6SNrq7vPmg8DFGV89Lbv2fwaOp77LXwUnOKqy5Hk60co+15Vz1RLnFhaadDV9DZv7nxce921zhs9IX4oYmnWrFlISko6U2uOb7NmBIxAkBBoamrGkSOH8avHfoWnf/tbhISFojC/wP2my8tLsWXbdoTkFSCRY5g3MQmDe3Yg9dgB1LJWZHdyKiLnLUbcldcifDpF64Jp8MR4MdjBaBdeELvxRhemo9FOp4N0EYUSzrl/pcDUwDVIR6Xm73wLnUx/qWve0EN7gFWXYgqPNfrUUVQ2NmGA0ZN9/QOYxjH+agrUErlSUlLo2LQUF1203I15cgTTcVm7cAQsEufCsbUtGwEjYASMgBEwAkbACBiBoCSg4q5KG1Y0rQg9zIt9/OQJ1DCdWkpqCj3topkquw+tTKHT2trmClsnUtiIjYnEgQO7UVI+gJLqKWhoDkdnYwW2vt6GuMgQpM1gjnCtF8Pp2UxhxxNCUcer9A188nTzsKCOJ5zPD2oR+NEXgp5QbitMNy5WQ7jtqEFUlEZj06ZQvPxKDb7903b8cVsvahp8iIrwITUlkcfUgvLKCnTTwzIjLQPXX38D7rzzTlxzzTUuJU4uxauMjEzomLVgtWYEjIARmKwEFF1SNG0apvEmo95JCvp1rIsTFx+HqTlT0cOolPbSYnTVMlKnkHXXKPqEMh2Pr6oc3cUnEUUDYW9FGXprquCvqEM0Ix99MXHw0BjqiaKhkcZGjwpsaz6QcdBNIppITt8ChskPagjV55TGTX8Dn9E2eH+wqYH7ZLQM++xrbYafaZNCX/wtujb+N1pefBY9+3YhprYSaSlTGH0Tg9qGBueh39/Xh2ym1rz88svx6T/7NO644w4Ucu5Mz0h386g81i3F0GT9hdhxBzsB1XeZOnUqigqLGIXuwZ49uynatiErKwOZTCfW3sa0kXU16GW0Xi/HggiOWfmR4ag/cRx9ZSWILDuBToo9vYzk6z24j3Vm2hCWngl/dxdr50TBExnGoU1jEsc3jUWBprGPETIepiiWsHL6n8Cr7/3XjYv63GmBiCnd/N2d8He2wxsXj8EWjm8d7Rjk9W7fiaPo+O9H0frYA/AzTVxsWzO8PGZMLYCPaeKaTx5Ha3s7I21icdWGq/CZz3wWN998M+bRuSk7O4vXwxkuVWRYmI6D+7R2QQlYJM4FxWsbNwJGwAgYASNgBIyAETACwU1A4s2DjMj5wfe/z9oxA8jJymbe6zimVKhCZWWlS6+WzefmMDLltT++5jzzVBS2u7sPR4+e4sH78PUvpuNv70lBSytrCnCRFxkRSQEkgjcPEuPpds0aOmqD/SFobo9AUhzTmVGAGWqBReHpxeg5xR2+7t5y+n38WDu31dXtYXq0Ia/H2Bg/Hn46Cf/+o06cOP5Ht/msrEwuQFNc3Z8TJ064tGmqA6R6QBctXY6vfPWrWH7RsnPu9Xqqg2QAAEAASURBVHQn7Y8RMAJGYFIT8DGK5cc//BHu/+lPmXqzht7aV2Ev66gVl5Sgk5E5nEDcEJ1Jg2gf7zc3N2H69Bkor29AG98fR4NjOqMhuz93L7wr1iI8OcXVWPNRWPHI2ClD5NAgP8T5zHhPiYcCkgyhb3v9rLPhPN8p0Ph5U9NnnJjDT8mY2bvnTYRNm+nEm4GyYoTSKBv+o39H3e6daKJXfTjfrwhUGSuVXqmxsZE15GJQUFDAOeIiCv7XszbEx87aqz00AkZgohDopvDy3e98Fz/7+c8RyvGoIC8fitiubahHdVkZmijsRkVH4eLV67Bj10537ZnEaJWy2jp4mZ5Xokr4nPlI+Pr/5DjTjahpsxCaxQjEMEaw8LpYzcPxRWKOnw5UTugJDR0a//S8Xuft9FWue3z2P26cY9SM9BtPwNGID/pZx8tHMT189nz0UaxhiD1F9Xp0vvIC2p98GAOMjlTdH4nOg7xfyuthjdNxjCKM5zX/nFlz8PW/+jpTqF1+9i7t8SgSMBFnFGHbroyAETACRsAIGAEjYASMQDASkHhTz7QxX/nKV/Dss886b7vp06e7vP+NNGadPHWS3td1XDTSGMbF36yZszCbt2P04JNhrbGxFk1cLHrpUe2joLJs8VLMmr0I04vC8dd/upNefzSqMVKmqjQR//XwAnztk3uQnkOjX99QygfHTCtStXN5+ul1d9N7eD/Mjwefmo8/vBGJ7vZaeOnVGMpbXQNzm588hfLycre5gIe0+q7jXDR/IT5+x8exfMVF2LFzJ9PjzMWyZcucqOM+YP8YASNgBIzAOQlo3PzhD3+In1HM0bgqo6DS7mh8lYFR4r9SdkYx4rMgPx8t669BBOeHkC2vMoqzxo3xg3xfYnw8sqZNR8OqyxG2fBVCU9KG0qy5PTMVkUyZnG+Y0xMRcxfQ0BnJ9ESaJxh1+W7zRIgHA2WlGKBXvEdOBEzn5omJgo+G194De9C7Y4tLb+TXa0ypmfj6SyjlHNbVrRppQx7y2q7EKjkyqM7N8mVL8bHrrkcbPdW7u7tx0403ujRLgfefE5K9YASMQFAS0Dh29OhR/OAHP8Ajjzzian8VUMidVljkrn8Vua4xTu/T+BQ2NQ8Jt38KyW+8hIjWJrRwPCmvquax+5HLKJbwhcvQuoo1ZRYuddewoUw/6U1MRu++neje+keKPFMRuWwlQvMKeWmr8W3oUve9xrl+pn9TysrwmXPdm/tLTqBn1zb0S7w5LexIGO8/dhhtj//SbTNwbR0YO/spdi9YMB8fv/12rFq9Brt272a6zFlYdfHFHONYTNLamBAwEWdMsNtOjYARMAJGwAgYASNgBIxA8BE4yVQ3ZWXl2MVaB79+/Ans278PG669mmlzcrFj+3Zn6CqjONLY1OgWkFoUakEYFRWL1NR0TEmawvzhW91aMTY2noWevSjI7qRnoSJlgO7ecFTUxeLipQlITgqnoa/dFcyWrS6LaRskENXQyDfcQCZDnvaRmpqG+fPmuvQOvfRgbKirR2VdDNo6wmlc62DkUCUX1lXo7Gzj4roXPUyVowKs2qZuahuuuhJXXbUBV1xxJQoKC3isZUhLS0NiYqLzvg6+M2Y9NgJGwAiMLgEZ/yqrqnCK88Xu3Xso/D+DstJSzJoxC1k5WRR2BnGMRcIPHz4Cpe5sCglzXukhjIbppkASf9MnmLpsJwaOHEQkvdp7YhPgYX0ZeahLn/cyHdogI2OmMK3ZlClTnLG0qrkVPUxllMSxOpnPlXPsltjiUhGdOXxGZba3IpTFxmNYo8IflwA/vd+V0i360F40zV0CH6NtYksZkUmDZ83xo+juY2o1zg+aY3TTNpVGcxFrpCnq5tprr3Fzj+YSReio9k2oPOc1oVkzAkZgQhLQOFBdXY1jx45xjNuNF557gWNepUtBrBqKW9/YwrJe/WhghE4FU0h2RkQjhtehHgo7kRxjEplukmo1WhjN187xxZeQBC+viUOU6pFjkp+isZeROplxsYhg+jOlQPMxtVpFRQX6OM6lcIyLp8it620J5WeGG46PfkYGRS5fjbBZFHD4GeaAQ9wf/wAf39Q+fQ68jMBJ2vsmWopPooE1y/xMIynRPHBdrWNTW7RwAe686y5cd90NdGJKc8K7otQDY5x7k/0z6gRMxBl15LZDI2AEjIARMAJGwAgYASMQ3AQUlfP7F36P3zz9G9ZBiEQEU0E0cTGaR6/q6TOnuzQzmzZtwnYKO21tbc7olZOTg7jYOBw9dtQZu6JlnOvpdzVowiKSnCHO72O6CbbwyCR+JhI99Fgc6G92z4WGJ8nx8PTj4QYyPgkv0jMLmbO80C0wZURsowDU2cGi075eV3haEUNKf6MFqgyHWojqsYxv6fSGXLxoEW666SasWLECuXm5LuWbtiPDnDUjYASMgBF4fwJDBsW3xueGhka89tqr2LVzlxtvS0tLXGqeDEbnZLCeRBb/fuc//xM79+07s/G4dZe7aBnVkPBwfE5h/THvoKyTg0xdNICmzi5Ido9n0W0ZFTVON3d0gn7vUEKiuCgKQ5w79J63esIHbJotwukZn3T35xF1ZB+8vgEMVJaj59QJdM9ZiEFG4UTWVsFTXowGblNijER8Nc1lisxcuGghVq1ajdVr1mDGjBmcY4aEHRNuHCb7xwhMKgL1dBh6k9e6z73wPOp4bTyFUTRVjMSZzrFh+ozpHDda8AQjdrbv2eu46JpT0YlqDYwC9HBcS+K18SDFlybWmYyg6BJBobippxcpiQmuDg8vkN04U9/V7cawGH42htfQDacfDx/nNO6lLViMeIrmgxSC/BzDYhmJw8o9qE9O51jqQ0zxcXSyDlnHgI86TzgjJac4kUYOUKpxo+jzqzdswKXr17Pe2XQnEqnf1saeQOjYd8F6YASMgBEwAkbACBgBI2AEjEAwEUhNTcWdd9+JRUsW48XnX8CRw4eRnZONjOxMt/iT8JHCOjNRrGVQRe9EpZYopSe2BBQZuiSgJCQkQAvGThZazUyPdd6FdXUdzhsw1NuLXnotKj2avA3VFE2j9BTych7eAkbDiLA+VFcdpwf2UMoeLThVz0cpbtS034Cnoe5LyJFHYxYNiUoPcd31N2A9F6wZ9DgMNBNwAiTsrxEwAkbg/QmcLWTIOHjLLbfg4lUX43nOFa1treijcTKVqdEuWbfOpVnbunq1S/HTx/mgubkZNZteYmwmx2x6o2scj01KPjPua85o6a1waYU6GI3T1d5BRwLWtuG8EE3Dp+aHTs4THv59N5Ojn6/JItnPmjfR+3cjtLcLHV09qOV+Q9541R1gJ/+V4VNFzBWlqXlD/YiOjsbatWtww5/c6Oa5gLijfVszAkZgchJIZQ3Ia6/7GLJzc/DyS6+ghOl6M1lrMa8gH3MYHS7xWY5PERRq5EykMU4RNYGm6+E4ppvUtWwrI/8iKUyr1lYzo2zqKeoo8k/jqq5XY5nGUeORxsF6CtUh7zb2cDveqjJ4WxuH0k1yRz10tupghHwXo+eVGJJX104g11g4QPFI+9DYqeviRXRo+tznPo8VK1dwnE4JdNP+jhMCFokzTk6EdcMIGAEjYASMgBEwAkbACAQbAYkyWniqyPORI0ew/8AB7Ni2nRE03SiaPg3zFyx0hq+NGzfit7/9jVvIDj/GgABz9l/VGlCUjFKeFRQUuI9o0dvS0uKMacO3EbivbZzdzjYo6nUtgPW83i+v7qtYpPWKK67A3HkLcOWVV7iF7NnbscdGwAgYASNw/gQ0V8jwKGFcKda2b9+GPbt3YSvniyuvusqNwWE0Ij77zNN49LHH6KHeeCYKMpDuMrD3wLiubUrkV5TnCRbhVt0d3TRvFBcXn3EaCHzuzF/NFbxJqFELbO/M68Oe03yh/cioOnPWLFx//fUujdqcOXOc4XP4Z+y+ETACk5eAxjeNFxqvDvBa+BCdmzb+7nc4ymvj9esvxbUfu471tbrx61//Gr944IF3XGsGroNFMHBf29L4pu3KGUrXxhKtJQopndt7RcecfU18rnEuMMYpAkeRhhdfvBLrL7scS5YscePe5D2j4/PITcQZn+fFemUEjIARMAJGwAgYASNgBIKGgBaLWsDqJm9BGek2PrcR27ZuZfq0Y8jOzEJhfgE6OjqwZftWF4mjxacWpVpAnt3kFSjDmRawuq+mlDlnG/OGf+7sBate03PDP6Ni1KtWrcLyiy5i7YQkzJg5E9OnFbGmQarzQJSntTUjYASMgBG4cAQ0R0hoaW9vxymKLb9+/Ensp4d4W0e7m0NSk1PQwoiddkZpKneQojgVhSkj5NmGSM0f8iDXNvVX84rGfT0+d+NGmZ5tuIijz2jOUYumYKM0b1npmbj0sstces3k5CRkcB7TfKEoUu3r7L6ce3/2ihEwApOJgMYfXQ93dHbi0MGDePLxX+E4I3QOHTrkUjzOnjUbFYxSL2e0jaJfkpOTUVJScka80XgUGF801qhpDAxE5Wis0uP3atpGoGlbeqzr4cDzEtQvumgFbrvtVva1j/V8pmEmU8BlZKRRvIl1/Qr0IbAd+zv2BCzuc+zPgfXACBgBI2AEjIARMAJGwAgENQEt9LQQ1U1t+fJl9DjsQj9TQ3yMxZ/1VzVzGlngVenNdNNiVAvK4SJLYMEoA5/u6zY8HVrg9QCswGdlyNNNQs/wpvfn5+Uhj7c4emxLvLmYqdOmc7Eqb8Yp9NoO50LWmhEwAkbACIwOAY39uimKJi09HYf2H0Q8695ojO7s7EAv061t27YNxSXFrg5NQFwZ3ruAB7rGfBkzA+N/QLzR47Ob5ovAHOLj/bPbtEIKNInxrO1WwJRCi7Fs6VIXfZOUlOjmC80Zgf2e/Vl7bASMgBEIEAiMcXIciuetlWnRMg/sx5o1qzlWhTCSpsGJxqdOnUJXV5e7zj1blJF4ozErEOGjsUvXxmq6HxjLAvsMiDQao/Saxs2AYBN4T1paGmvcFLGWWBzmzJ2HSy+5BCuZNm2AtXHcGMxUbtbGNwGLxBnf58d6ZwSMgBEwAkbACBgBI2AEgo6AFo5KfVZcXMKUDItRWlaGN9/cjpamZrz08suuVo1eb25u4mKT4gtFnq6uTnSfFm8Cws37Hbg8CWWs0yJXLZ0GwVQuUtWyWesmOzsb06dPcykoEhh5s4Dp3YbXvHFvtH+MgBEwAkZgzAgcOHDQRb9kZKSjgWmCFJ2zdcsW57Wuwt/Hjh5l8e0wDPQPMHqnzc0ZdfV1zlApQ2dAuHm/A5AIc2auSEtHRGQEZGSdMmUKpk6dikWcH6akJA9F3Eyf4Yyd77dNe90IGAEj8F4EJMS0tXe4sSudUd+dFG1e2/QayopLsXffPpw8ddJdL0vEaeY1ssSXvv4+VztHY5bGt7PFmHfbn66FJR4FhB6lgCwoLISP281kZKGuh/PycjGbaSHjeT08i3+LKFxT77EWRARMxAmik2VdNQJGwAgYASNgBIyAETACE4FAbW2t87Tevm2rW3TWVNeijGklmijqaCFaRtFHqXbkTRgSEsoF7ODQQpaLYS+NdqH0NNTCVgtTFYVVuh15M95xxx1Ys3at+9zHrr3WpaiYCLzsGIyAETACk5GADJv/8e//RpEnllE57Th2+IiLhnn5tVdc5KdSm508edIZPoeiZIYKdetzEnjkJKD5Q0ZQGS2bW5pZ2NuLS9auo+CfgmlMH7R69Ron9k9GvnbMRsAIjC2BiopK7Ni5w9WB3L9nL9oYtVNHMXvLti0cl6Y7gUfXzBKDJOpoLAtEIGrM0zinxxKkVUNS18PNzc24mKmDP/nJT7ooH10Pq7aOteAnYCJO8J9DOwIjYASMgBEwAkbACBgBIxBUBLQIlUe0hBh5Du7buxddjMKZMiUFUfSOVm2avVzMNjY1MeXDXJeK7ZVXXkJdbR2KuKidP28e9u3fjyxG28gAl8x0N53MPR7LVBDyPtT2td2z000EFSTrrBEwAkbACDgjpMZ0jfGtra2M2OxFBUX/3NypTsg/wVoT++nRnsu0mRr39+7ejX379mD6jJmMzsxwDgH1DfX4xCc+gUwW73bzTlg4wsLDnAE0ENFpqI2AETACo01gkPW5+hl549IBqwZYWSlKWB9H16+zZ892ws1eXiO/+eabuOmmm5zD0uY33uAYtxc5uXlYsngxqqqrXVrJG66/3qWp1PW1BB45OUn80bj4bikmR/tYbX8fnYCJOB+doW3BCBgBI2AEjIARMAJGwAgYgY9AQOnTZKRTTZ3AQlORNTK2xdPTuo8LUnkiKk2EvA0TExPpUd2CyIhICj/JH2HP9lEjYASMgBEIFgIySKqejeaGGIr9aj7foPNWj4mJ5vwR4tJ0ttATXTV2NKcoKkdzx9TcXFdUPFiO1fppBIzA5COg8UrXv4qwkUOTWhevkRtZV3Iqo2mUbq2ekTotjCqMjo5xQo3GNz2fQZHa2sQmYCLOxD6/dnRGwAgYASNgBIyAETACRsAIGAEjYASMgBEwAkbACBgBI2AEjECQEvAGab+t20bACBgBI2AEjIARMAJGwAgYASNgBIyAETACRsAIGAEjYASMgBGY0ARMxJnQp9cOzggYASNgBIyAETACRsAIGAEjYASMgBEwAkbACBgBI2AEjIARCFYCJuIE65mzfhsBI2AEjIARMAJGwAgYASNgBIyAETACRsAIGAEjYASMgBEwAhOagIk4E/r02sEZASNgBIyAETACRsAIGAEjYASMgBEwAkbACBgBI2AEjIARMALBSsBEnGA9c9ZvI2AEjIARMAJGwAgYASNgBIyAETACRsAIGAEjYASMgBEwAkZgQhMwEWdCn147OCNgBIyAETACRsAIGAEjYASMgBEwAkbACBgBI2AEjIARMAJGIFgJmIgTrGfO+m0EjIARMAJGwAgYASNgBIyAETACRsAIGAEjYASMgBEwAkbACExoAibiTOjTawdnBIyAETACRsAIGAEjYASMgBEwAkbACBgBI2AEjIARMAJGwAgEKwETcYL1zFm/jYARMAJGwAgYASNgBIyAETACRsAIGAEjYASMgBEwAkbACBiBCU3ARJwJfXrt4IyAETACRsAIGAEjYASMgBEwAkbACBgBI2AEjIARMAJGwAgYgWAlYCJOsJ4567cRMAJGwAgYASNgBIyAETACRsAIGAEjYASMgBEwAkbACBgBIzChCZiIM6FPrx2cETACRsAIGAEjYASMgBEwAkbACBgBI2AEjIARMAJGwAgYASMQrARMxAnWM2f9NgJGwAgYASNgBIyAETACRsAIGAEjYASMgBEwAkbACBgBI2AEJjQBE3Em9Om1gzMCRsAIGAEjYASMgBEwAkbACBgBI2AEjIARMAJGwAgYASNgBIKVgIk4wXrmrN9GwAgYASNgBIyAETACRsAIGAEjYASMgBEwAkbACBgBI2AEjMCEJmAizoQ+vXZwRsAIGAEjYASMgBEwAkbACBgBI2AEjIARMAJGwAgYASNgBP5/9s4CQIoj7+J/dHH3RXZxt+DuEmKQAAkhQELck4td5Du/5C4XN+IOMYK7u7vr4rq463zv1dKb2dlZF+xVssxMT3d19a97qrvq/UUErlYCEnGu1jOndouACIiACIiACIiACIiACIiACIiACIiACIiACIiACIiACFzTBCTiXNOnVwcnAiIgAiIgAiIgAiIgAiIgAiIgAiIgAiIgAiIgAiIgAiJwtRKQiHO1njm1WwREQAREQAREQAREQAREQAREQAREQAREQAREQAREQARE4JomIBHnmj69OjgREAEREAEREAEREAEREAEREAEREAEREAEREAEREAEREIGrlYBEnKv1zKndIiACIiACIiACIiACIiACIiACIiACIiACIiACIiACIiAC1zQBiTjX9OnVwYmACIiACIiACIiACIiACIiACIiACIiACIiACIiACIiACFytBCTiXK1nTu0WAREQAREQAREQAREQAREQAREQAREQAREQAREQAREQARG4pglIxLmmT68OTgREQAREQAREQAREQAREQAREQAREQAREQAREQAREQARE4GolIBHnaj1zarcIiIAIiIAIiIAIiIAIiIAIiIAIiIAIiIAIiIAIiIAIiMA1TUAizjV9enVwIiACIiACIiACIiACIiACIiACIiACIiACIiACIiACIiACVysBiThX65lTu0VABERABERABERABERABERABERABERABERABERABERABK5pAhJxrunTq4MTAREQAREQAREQAREQAREQAREQAREQAREQAREQAREQARG4WglIxLlaz5zaLQIiIAIiIAIiIAIiIAIiIAIiIAIiIAIiIAIiIAIiIAIicE0TyHxNH50OTgREQAREQAREQAREQAQuAwGfz2cHDhyw8+fPW86cOS137tyXoRVJ2+U5tPX4sWOWIUMGy5cvX9I21trJIsDrhLxVREAEREAEREAEREAEREAERCAuAhJx4iKj5SIgAiIgAiIgAiIgAiKQTAIUb0aPHm179uyxevXqWZs2bZJZU/psRjFh/PgJtmnTRqtYoYJ16tQpxTu+cOGCHTlyxPLkyWOZM2vYcfDgQdu6bZvt37fPcuTIYbVq1UqRuHfx4kVbunSpRUZGWq5cuaxMWJgVL1bMMmZUsIUUX7yqQAREQASSSOAi7qOHDx2yrFmzuj5efXESAWp1ERABERCBeAnoCT9ePPpSBERABERABERABERABJJOgBPrH3zwgb3+xhs2bdq0pFeQzltQEBjwycf26iuv2K+//moUdVJSTpw4YStXrrShQ4fZihUr7MSJ4ymp7prYduGiRfbnl16yjh07Wq9evWzDhg0pOq6zZ8/a888/7+q7p08fGzNmjPP8SlGl2lgEREAERCDJBHjP3BKxxYYMGWoTJ06ynTt3JrkObSACIiACIiAC8RGQiBMfHX0nAiIgAiIgAiIgAiIgAkkksHfvXvv5l19szZo1Vr9+fWvSpEkSa0j/1RnSq3//+61cufI2Y8YM+33IEDsDkSC5ZezYsda7d2978cUXnGAxcuSo5FZ1zWxHq+zMWbK446GldkrDqHF7z8MpK+qV1fc1c6noQERABK4yAnPmzLa//uU1e+GF5+3uu3vZV199ZfvgdakiAiIQRSClxkHieG0Q0HWQsvOouAYp46etRUAEREAEREAEREAERCAGAXpY0AsnU6ZM1q1rV2veokWM76/EDxQAOnRob2PHjnGTT++//761b9fOQiA2JKdEREQ4TxxuS68k5gcKVk6fPm3z58+3Y8ePuzBuFRDK7VotFF08ocV7TemxevXwNaWiUErbou1FQARE4EogQC/FufPm2cmTJy2sTBmrWLFidN+bVu07itChvO8xbCbLnj277cyZM2m1O9UrApeVwNYtW+BxNsHWrd9gx5BLsWzZstYCz7oNGzZ07Vq7di2eJ8fa3LlzrUiRIvb444+732Fgo0+dOm0bN260/PnzWTGEg/UMUwLX0+drhwCfVWfPnm3ffPMNvPRPWJu2bd14o3Tp0rEO8sSJk65fLVs23IWojLVCOi04deqUrVq1yn766Sfj+/zIG1qtanW7tdttliN79nRqRdRuJOKkK27tTAREQAREQAREQARE4FomwLBkDB+2edMmq1unjt1Qt266P+Anly/ztHAAzrBc8zDwphhVF+1PjjhQuXJlDOhbYnB/1MqXL29VqlQJ2qzdu3fbJwMGuEmAvggJdi2LOEEBaKEIiIAIiECqEuDE4GeffeZCmvXo0SNd7itlwsKtLQwfjh0/4e6ZdeveYPkw0aciAtcage3bt9vgwYPt22+/tR0IG0jx5QKefavXqBF9qLvwbDdu/Hgbi+dJ/g7uuOOOWCIOBc+ZM2fa8OEjXH7Abt26WqNGjSzLJY/l6Mr05pojwPEFvRWZOzMTcmZyvBQo4ixdusyGDR9uO3fssAaIasDcomXLlb0sLOg9dPToUVu2bJkTlc5AfCxVqrQdO3nCevTobvny5k23dknESTfU2pEIiIAIiIAIiIAIiMC1TmDF8hW2YMFCNwht0aK5FShY8Ko65Dp16lprDJR+GjTIJk2abCVKlLDixYsn+Rg6d77RqlWvYTNnTLdGjZtYWFiZWHWcx+Bty5atNvi338yHCYDWrVrFWkcLREAEREAERCApBOjhOeT3350nTvly5SzDgw8mZfNkrUtDhYcffsTCy5azggUKulCquXPnTlZd2kgErmQCI4YPs08//dTWb9horVq1tBu7dLHatWsbf2teyYKJ+Vy5crmPFHGCCTPr1q2zHwcOtF9+/tmtlylTRufRExoa6lWTKq/0iKN3Hj2Ws8NrwvNgTpXKr9BKKDqcO3fOHTejAoSEhFxRx82Qwvnz57dDhw5Zzpw5nZDjj/Ls2XM2dtxYhKj8P7d4KsYjvKbSQsSh8R1Z8Y+eYLxWycy/ZMuWzRmj3de/v61ZudomTBhvc+bNsW3bt1rDBvUtX61a/qun6XuJOGmKV5WLgAiIgAiIgAiIgAhcTwRWwgtn7uw5bqDYveedViYs7Ko6fE5E3XDDDfYtwhxMQXJmhlRLjojDwXgZhEYoddddbuAYbNB8GiEJDh06aBzMsQQOmq4qcGqsCIiACIjAFUGA3qOctGQ4NU7KpVcOhqJFi9rdvXo5T5xg97wrAo4aIQIpJDBl6jQIOBucZ80gGPwwXBpLUr22M2KinPn8vMKwbIcPH7bUFnHmwLN8HsL2FoJRVdfbbrMCBQp4u7xmX89BtFq2fLkLK1m8WHEnthUqVOjqOd4Mhr77j2uD/XlahdqjkLQcrFYjjymFyNoQZIrCu8y/sD+nx1l3eJRlvjOzlatQztZtWG97kfds67btVqNGTYx10Oh0KBJx0gGydiECIiACIiACIiACInB9EFi6fJmtWbfGqlevbuVgkZs5wJorrSlwsiqpA2n/NoWEZLVyGMTQQm76zBm2OWKz1albx3+VBN97beCAJmPGP4Yb3nKvAlpp0rrNay/fp3UJbENa7y816r8a25wax606REAErk8CKe3zzpz9IxdNMKvqtKLKe5n/RGNKjyOt2ql6RSAlBJgThCUMRkqc2E5uqVypkvW79154fIcirNZ5u/nmm9Mk9OHECRPsnXfescowUqLH9/Ug4hxHSEmGqnvr7bedMFG+fDm7mkQcinudO3W0s2dO2wbkTGrTurW1atM6uZdavNvt2rXTfh/8m40eO85uv/12K1myZCwRhxX49+9FChex0GIlbPWRNXYgcj9y+xx3IQHj3VEqffnHqCqVKlQ1IiACIiACIiACIiACInA9Ejh+/Dhc67e7Q69duxZCBORIEMPevfuMA4jdu3YhtvguWCEeciEo8ubJ6zxgKKBQUAlWGEt6f2SkLUb4NoMBWJWqVSw8PCpe9KbNm237tm22Y/sO24n6WUexYkWtJqzFwsLDg1UXvawYrCqrVauKAeAsW79+vR1Bwua8SYj3zIEO27UeoTIORh6wUmVKo13hrg5OajEO+u7du/D9eps6bZqLic0wBvORiLpi+Qou0Snjq9OqObxsWdfu6Mb5vVm1ciWS6q5HAuk9ro08xuKYUKA3UUVMDgQrbNsWJORds3q1Xbxw0W5AnG1yYbgNWi2uhSUe62N8a4YHaXApSa9XFxNX78X32xGjm+txMoMTAiUQcq56jeqI6R07bJy3beArw3qw7ERM+Y0bN9h2nKu9e/daSNYQJ6QVceerRtAwJIF1JfbzWXBetnQJYnpvce2npToH9lHtrxErJnli69V6IiACqUtgF+4Jm9AvnDh+Ev3Ndtu3f7/zLgkvE2blK1SwspiUy30pXFFK98x+bQP64/0HIl14G4YjoxECJ2grVq7owoPFtQ/e99av32BbUMdR5EDbj3bmzZPHwsPCrWiJ4rjn/JEnI646Zs2YaTt27LTQkqHWrHkzN1l2An3TRlj7b0TIJhoTMGcb74ulMMHWsnWrWFWdPHkKfftm24376Jq16+w8+jqWzbgXjhwx0oXsvIj7T+48ua1MmTKujw2sZIfr13e7PnnXrt0uVxvvfeRcsWIlq1e/XuAm0Z/Zl26HRfY6JHQ/d/68W5f78S/MqbB5U9S9uWTpUm7CmsYM7JeXL13qci3swT3AJc7G/Yx5darivu7dK/zrCvae7ScvJorft3+fE5TK4J7EvHTlK1Zw5yXYdmdgtb961Wo8L2w3tqt6tWruvrMT52QOEpBHbN3iPGZ5T6zfoMFVk+cv2LFqWcoJ8DmOhb9JhqJKrtcZf1tNGjeG13YZeMtdRI6RUtGe2Slv5R818LmKv0/2Jwyrdj0UPrfzOY/5ZC5irMDjv9oKc2vy+ZTP2/SQSascY6eR32bHzh0ulymvFfaHCZVcCAFXomQJW7thnbumOB5LryIRJ71Iaz8iIAIiIAIiIAIiIALXLAEOajlxcvDAAStcuBBEkGpxDmzPY4KHYSM4eT8RIcuWL1tqq1avshUrVrrJGwoNJWGZWLVqVet2x+3WqVMnWIaViuWqz8Hzloit9sYb/7EMGc0ee/wxJ+IsWLDAhgwdaosXLkLdy2z33j0u5nTlShWRXLa79et3rxUrHrf1JAdK9RBSbf78BcaY5Zsw6VQ3id44nDj7+quvbQWEkQ4dO9pdve5yIg7bvBoCytAhQ2zq1KkWAUGFPPg3evQYW7l8pRN1KKo0atzIeiIcG0UWr3B7ikArELZu8G+/2pQpU11YD26fNSTEKlesaO3atbWu3W53IowXk93bnq+LFi60Dz74wM6fPW+v//c/lidvHluyZIl9iGWTJk1yk5DFwedPzz7rJqzYlkiIUmvBYir2t27tGpfclNaBLNxHjerV7OZbbrFbb+3qQoxkzhwznrZb0e8fTnq4wSImS0eMHImJslm2eMlSJ6xwtaaNmliFKpWsF46/aZOmliMRgqBf9bHekttOTArPmTPXhg/93RheZPPmCLce28+Jwttuvc1uRaiRshDO0sMrKlYjtUAErmMCnBc9d+6sHTl8BCLEGps1a5bNnjUTVr4HbSnuEafQV7BUrVzFmjRtajfdfJO1a9/OcubImWxqFGBWrVplo0aNtmlTpjjBYwdEf5ZqVapaZfQLbdGfdurYyQm8gSEv9+zeAyF+qo0bO94WQITftXe3E4GyQYhu2LCRVa1Rzbp37261atZ0E3BxTfYyQfrYMWPdvYIizgGI/5MmT0a9Y202jAk4Ucb7Yijuiwx1cxqeNs2aNXP3NbaV998DuC/88ssvNmnCRDt29Hj0ZO3iRYvtH3//O0Sd8y7nQXjZcOuK+yo9TlkomDCE09atW23y5CkQM1a6+8sq3Kc4MccwPkWLFLWWLVrYQ4887MKNBusfD2PSlCy++PRzI9fX//OGE4vcTi79s2/fftznRqMPHmYdOndEQuweMFYoZpPBfsSwIQh9NB/3201u7TwQwm67rau7d3Lf8Qk5Z06fcQYXI0ePsum4R9EC/zgSbrOUhZjWFKzad+hgbWHJXhx57sjSvxw9esyG4ZlhLO7BHbt0dhOme9HWQQMH2ReffWbrN21wqz/66GN2Q736/pvq/XVMgM8VnqCTXAy8rukl4hXWF3h9et8l99XzjuPvNlhunuTWeyVvx+dWGkexkPHVdty8Dni/oTEX/9KyZMDzeAb8x+uE/X1iWGXKEpVnKC3bFVfdEnHiIqPlIiACIiACIiACIiACIpAEAmtggcuJ+RyYVCtYqHCcIg4njEaMGGGvv/66mziiAMHBCgeuXn6YPfv22nZYho2fOMH+8pe/QnjpG2tCKFOmzC4ExdLlS50VYwQEnblz59l9993rJuNYLyfNWCetDxctXgJr513OWvid996N3lfgIebJm8+qVqvhvt+8aSOsc7clWcQ5fPAQBJkVtmjJYkwaFbOOBzq43dASmsLNZAg4SyGceINrvh44eMAOIkcOCwefufPmgpfSDvfZ+4feL4MG/WSvvPKy857h8TF5dGnk36E1OSfelkPg+errb+y7776zNm3aRE/0eXUwhvWixYudcBSJMAiTMVk4EMl1f/rpp+jBW3jZclYGXk08J4swCfjll19gonOUE3O4T/9zxcEyJ9+W4XjJ/51338O5Km2ZsF5chdsPGvijrYHnz3RYoXuDRp4rDl7nLpxns+bOtoVz59tTTz9l9z/4QFxVJWo5hbjPP//M3nzzzejrknHsCxcu7MRHCnarV6+xGZj8e/XVV91EJQezKiIgAulDgJbo+/ZH2scffAgx4mfbFLHZ9Y/sK/z7m/XwzlkNkYd961EYA1DoDRRXEtPi0whT8/Ogn+3jjz+yJRCJ2K/xz7sHefuh6DCuwzj7/vvvY4SLocfN/736mg0bMdx5ffj3YZjatVlzZtnM2TNtyO+/20MPPWT3ImxSoGeK186169fZdvT1K2HMsGlzhL37v7dgiDDEdsJjk/V6/eIeGCSMHL0Df6Mg4E+xVgiNxMI+88TxY87wYCY8R/zvK/vRx0fCw4iF95VTp09Z4x2N3Wf+Qy+iH3/8Ef3/IHiI7nZ1kQOZ8o8T1bvQju9//MFGjBqJZNvjrV69G2L17xRSdsILaOGSRa5ub5/RO8KbsxDpaFSxaOliCy1VwuaHhblt/u//XnPsuT+PPy3nv/vuWxgprLdnnnnGekAMi6vQIOJf//inzV0wzwlP/vXwOeL7H763MWNGW5fOXeytd9+2gsgN4l9OIhTQRtzrFy5eZGFo0wEYo3z99df23nvvOUGK54DsaJyQK4UGBf771furk4D3+0qN1vO36xVOpLOvi6twXf/1uZ63vvfqvy3X5XXr74XCz17x6gq2rbdOSl69+r1X1sVj5P/ufTzHGrVGVN/G9zHquLRdsHZzPS4/f/5C9DZcxvFAXPW4L9LgH+7Xv93cBdsWrN2Bu/fW8d/eWxa4rv9nb33v1fsu2H65DpcfwZhsz669rq0+9PeeF6d/HYH7pqHA3t1R23hjAm9faf0qESetCat+ERABERABERABERCBa54AH/ZXr1iFsGi7rTQm8BmOJK6Bbm5Y2NJ1ZgMTwyJ8WCvEem7UpLExPji9YE7CtZ+TSp9gco1hbQZisr86PD2CToBdGswdP34Csa/fsgEDPnGD1ocffsRatGjuYjvT64eCAT1ddkMEoYUzPVlqwjram3jzP0EMcVEFXkD87sD+A84y3P/7xL7H8M2tGjUQinpPYaNF8+ZWBOLBUoSPYaiW8YhXzuO88cYb3UTfCcTypgV0EVg/V6pcKcbuxo4bB1Hr/5yAU++GutanT19nYcyJL0620Zr4m2++tpUIDfOvf/3LhQOqj5Bp/oXt4aCL+xgxbLitQFg2Tg727dMHnk/dnSUeQyWEhZVxmzEc3aJFi2AdHomJtDvAtaWLrc4wDxwYM+Tcyy+/7ISzZZgMHfzrL3b/A/cjhF3s5LkZL52vbQh19yU8lcqVK2sPPvgArMqbu/PBMHIL4Sk0BPG5x4HLyjWrbDC8lsJhqcqY4IEDSf/jius9PZc+/XSAiwnPde7EpG/Pnj3dNcrPDPEzaNBAeDb95iZGyYcTeCmJdc96VURABBJPgH1SwQLMRTbdCTj0xLznnj7oAytbaYQZYnhO9hvv/O9tiCOzbAmE6I8+/NC6oN9MTo6Hr7/4Cr/zb2wxwiuydIdXCHNSVLvU9+/es9c+H/ApPEM24N5U0YVO8o5mK4T4N/79hhM1GLYrFCHO+vfvD4+dju4eRhFg8pTJ9sH7HzjPRhos0PP0888/96oI+rpy5QpXB8NLNkaYpaeefcbq1qmL48vvPJN4X5wLL0IW3jcYfokeNewXS8DD5Pnnn7cO8DhZCe+iQRDmOXnL+8p9993nxAjeI9gvV8K91isUz9i27QglVqdWbbsdiasbNGzgrL95D6dnDD2Fhg8f7kJ9fvT++/Zn9PcMX5qcwvPMMhFenzPgZcTwmU0aNraWbVpbc9wbiyME3Zo1a+1VGCrQMGHunDn2GcJW3QpPz2DC+lRw/uKLz23egvlOZHv44Yetc+fOrv+m8QY9hL/66itnhDB+0gSbNm26tYcHF40fvMI+nwwvXLxgmxGS7sknnnSiDq/Bnnfe5cK+8f5XoUJ5bxO9ioB7jkoJBoatWohwwL/+/LPzlOt3371xhiw8Am+xzz4ZAGMZeJfv2e0MpvhMXA2/w3bt2lvrtm0tC36vLKchqK6DMDxpwnj3DLsEBkwspxBy8b133nNhBfnbyAYPlcrVqthNXbokqw91lcbzDz3O2Q8yvOMeCMQlS5W0EsijUhUhf1viea7+pfCM3u8vWFUTJk60pTAkWoz+fgW8BOkpXRT5WNhXdO5yI56Ti0RvdhhenOwfGVZyPgyLZqPvYGH/xuMeNXyk8zxkH1SvQX0XujI0NDR6+9R8w3DOP//8E7zclyKnzSYIJBddX12rZg17HP0LQ/ElVBiS+Td43EfuP2ht2rVx94RAAdq/Dj7LLlq00GbBGGnpsuXumZx9ZkWEH70B44Wu3e7APaOk24Tnf/SYMbZ2FQypENZ58bKoa2QePErPYAzG+wmFsDMYm3S9vau1hMEAxXH/wvPGkr9AQWe85/9dWr6XiJOWdFW3CIiACIiACIiACIjAdUMgYksELFgjXW6U8PDwWA/8HogQCA4NICy88sqrVgcx5hn3mYM7/7wz2RH2gcZ67777jhMJKHh0wUAzWBgXb1LoyKHDViq0pD0AUaBly5ZuwORZ9TJXzEZ4Y1DE4aQbJ344AeY/APTalyVLZoSPKeLazzwMDFOT1MK2Z4BQxYkhvuKTq4Jt5X75Vxx5ZPbBKyYDBqlcr169egj3docTFTg4yoQBedYsWaN3PWP6DIgbv7uJNA7InnrqaYQUujlGnOz7+t/nJrregiU3B72zZ89xfP0nrLgvTs5xH2MwiAvJFoKJv/b27LN/cnkPMuP4KfBcMpa0G+rWtccee9wOIV9RO3j2hOHc+g8kmYOHQhAn+rZu3WY/wGK7W7duQUUcHKg7Hk4uNmnSxIkpHTt2cIl9vTYy9ncYPIsOHjhk8xcugNfQIjcBx4S8bHtSCy3of4c1PLflBOWjjz7q4tD711WkSGEMVs/Ye5ignA1hjWHXGMYve/ZsSd2d1hcBEUgmAYa96Q3hpiN+e+x3aiF0WCF4dYaERPWDFB9y58qNvupZeP/NdQLDtOmYlG/XzoV1TMxu2bcx3OVQCN4LFi1w+dIowDChM4V9b3KNE/h5EGqR9zROaPlPYPF+9Nvvg52HS506dax373sQNo0TZKWim8D3hdH299GnrIWXKsPDTYRnacuWrWIZD3h9EfvFHTu2W//777euCO3Ie4IXSodizdkzZ23blq22F/ewJQsX2dY2baNFHIaFbIowcxUwYZcP+WR+wcQwC9tBIYcW+OzzM8M4wbsv8ntOBN95552unkbIgVazVk3jxKbXJvbv3JZeTxPGj7eRCH95O441LhGH23E/3vbch1fYe3M574MMYZY7t8+FaXsMYcrKhIfBo7QMOGe0cNxjdsGD5uOPP3bniqHeKOCRgXe/5z4Yto2hU3kueb988cWXrNvt3Vw4NG+fvGY4kUkBix7A9FAtV66su7a8ddgm7/wyn94CGBIwlFv/+/tbQ+TAyY+8b5zM9PbtbafX65MArz0WPr9575ND4jRCGa5ZsxpGJIPsNDyam7dqEUvEYZ+wAEIPhciZM2ZAoIgwenSzMBQkl02ZOs2a4FmuZ4+ers84f/6cMxJ66623XZ9xEvvJiN8VvQ8HweOOv0P+pvnMRSMqGhYlRwh3jQjyz04Yc73x+r/hGTjP9X38rbOwvXgidv3LtBnTEX73FrvpppsguBaPVQufJemJR6Mr5tliiMlzOC6GI84ML/xZEPLpjckQhxRX+fs9evSITZ40ESF6R7gcYxQquJyvXJYVfd959P80pjoHwZZ5HFNbxKFn+lR4Bv4GoyCem40QwT0vIBooUTAhH/LPCWOpQ4cOxTp2bwG9Az+BcHcOoTALFioIY7bqMZ69vfX4On36NNc389mV4jeFK6/Mnx8laE2YNNl69eqF0MG3umd8euDPxLiCYyLeFzkuoFFWBPpARjrw+tiwcuEQvFpE95Gs1z2JX3oc53a8vtKrSMRJL9LajwiIgAiIgAiIgAiIwDVN4Ojxo873hEILw1QFm8TxAFSrVtVefe01y3Zpcs5b7r0yRwnDz3z77TcutAkncPhXETlf4ipMOswJ+j59+8Tad1V4BtWoXgNWuNPc4Il5Am7FJE0wEYf158qV003Y7IvcZwxHk5rFmyyi11EIWLEw/j+Zee/dG79/OOCjlw1z1uTHBN39mHTshklHb8LRW5VW1hR2Fi1cjBAy39kMDCKZ36dps6beKtGvHKAxbF2fPvfYE48/4fIYeV9m9rO448RZ2bLlnJWy/3JvXZ7vu+++27Zhoo2CyfLlKzC5ecDKIZl0YPEmPDh4vR8Tlb163R09QeutSxbMI7R40RIMLvfblq1bbB4sKhm+yJvQ9NZN6JVeOBRwOKitgQTjTzzxBHLsNIm1WQnkmmiPfdLq0024wpKR12h811usSrRABEQgxQTu7dcvVp/gVcp7SmN4bTaAFTVFHE48zYflMI0CguX/8rbzf6W18s8//wLL46VuceNGjTH5/6JLIO2/Ht/Xx34CC0NAMneMFy6se/ce9gA8Dz0R2luf4siDDz5oKyFwsx+jZfZnyK9Sv36DGAYL3vp85T2hQ4eOCOn4moXBo9W/sF+k9flUhFEbM26s69PoHeIVCgwUZ3gfKYRwYd79l/cbimP8C1Z4P7kZ+YU6duroJjkD12E9HdE3boF4RBHn0JHDSLS93U1McvIuqYX3AO8+cGPnG+3pZ562RjgH/iUvjrVv3742bNgwJ+LwOwo5JeHx5B0HJ0aZo20qJrA5MdsInku8p9Bryb/w+Nl+hoobM3aMTYB3wj339I4h4nB9jxfDvdLLlAYV9FDwSmbcs1REgAT4W2RhrsCUFF7Dh2Ecs+/SM+YxhEQMLEuXLoMX8dvut0ARgs+yNHyipzCfiRlil33M+nXrrRUEYvaJvOZz4PdeGLlUTkEEOg+x6eSpk84oqFz5ck5EZmjDXDlyuTxbwTzSA9uR2M985hoFofdDeEmyMNRvq1at3esu5CXk95s2b3KGOWVKl3KiNg4lRomI2OKMgt56638Qoc5YWTyDMgcYj5kegwzbvBz5JpnbMWPGTPbMs89YGeyH/RGNwQrDU+ckvI4Ow7CLx83zRTGb9wgKQZmwTWjJ0Oi+JMbOU/iBQvEXX3xh49FXsp8rX74Cjr2Ue1anxz3PF59JWbx+MK5dHkL7d1wSY5hzjGJOYOH5Zu7OTz75xAbDyItjBXqutmjRIvo6JXNGPhiJtlXAczm9Gtnf0VguLDzMcubO6aIoUIDKnz+fM5zg2ILtY2SAAryfZLyk2AQ2AJ8pvGd0xmpBvkyDRUm/66RBI1SlCIiACIiACIiACIiACFztBHwXo6wDOZDiIDKhEkzA4YCEf5yM4sCA3ioMTcNwaYcwuRJfqQuxoidCZXmTMYHrukTVFSu5nDSHDx1x4SsC1/E+03LXs7rlACgtCieeaB3MwlfPWi9wX+TBicMFCJPAfAYcdNFaPVDA8bbjILZFq5YIQzbYliAM2mpYPwaKOByckRMH2JyErA1r8vgKVoX1Y8xzyjrYbravePESVuRS8lWeu8gDB10oBuYQ8C/eoJWTcbQy9yzs/dfhe9Z5e/fbEVJtnBNxOJClFSePLZg3VuD2/MwBM8PmceKAhcfKBNlxFVp/t0FIEloibty43oWPg4oT1+paLgIikAYEgvUJ7DfYJ7Dw/hJWJszKhZeDCL3HDiGXmBfDPzHNoeXzD8iREglhpXy58ugTWgYVcOKqa+H8BRAzJrh7HIUaCkqBAo63Le+DFKTZD1FQHz9+IiZtD8cp4lCk7t27txUr+keIIK8uvubJm8cqVqlsY8ePs10IqXQYlueBhZN4/vcSr49O6J7MCWL/4t+/U3QPDS0R/TWt4iPxV6xY8hNu0/K/C6zwAwUcbycUUjyuPJ79+yNjHNd5TGjSM3UzPGw5MclQn/ny5fU2j/VKQb50qdJOFKIl/Jmz5xDKLeYxcyPevx6BMUjTprHF/liVasF1ScDzRE6OiBkIjCKEVyguBJapU6c4AYdCS6sWreyZPz1rnTp3il5tHcQbeumsQqixJhC46T3M3247eCfSK4+5Kj/66CMXYosixjvvvOOMYU7jWTJTpizOy4zhfVOrLIPoxDCUbC8F5SeeeBJC7TN4fozy1KD3HD2PaPDT7fY7YnnCsO3Mz/Xmm/91v/d2bdrZn577E8KJtY1u4saNm4wCz4ABA5C36l1r2KihlcAzKPvPPv3utR4Il8u+YeDAQQjBtsItf+WVV9BXN3Dee3z25boUsFOzsG9nGGN6anL8QCMxGgjcAtHEeXtDJKGnzNdff+W8Mnfv3uPuI3GNWbwxCNvI/jvYetsgan2F8L/Dh49wAk6dOrWtX79+8DrvAYEuysOJ4Tm/wToTJk6yhvC25NiB91OG3+RYhx75//3vf53ARK8shhatDqM3ejBxPQpgXqg+j5cb7UUN+dCPZkXbvG/S/lUiTtoz1h5EQAREQAREQAREQASucQIceNEqkCWhyaK4UHCwwPj7jOe/GxPvaxFmgp9Zjp847sScuLbl8mghJCRr0NXyFciHMDP57GLExajBUAKDDtbHEmzgFHQHabSQbA9AFDlx4qTlzJHT2rZqE6/VOa25OeHGCYY9sFiMxCRnYOGxcYDYADHJkzsRR3GN1tGrEN5i9YqVNhWhGrxyEN85C0i/vAPed3z1Jhb9l/m/5zXECQhvEo/rc9KQE5RJEXF4LR3DpEEx5Bdq2jj+SblCBQtZcYT1IO/9+yIdb/826b0IiMDlIcC+ht509MZbjcnK6QgBc+zEMaPhwO5dezAhfzbRDeMkIq25WarBqr1xEifr6Ymye+9uN0lJr8dSEIfjK02aNLVfy/xqUHHcRBcFeU7ueR4l/tuy72Ef5917/L/je4opDNHGexJzvcUXiidw26R+PgLL7x07drj7cSQs+efMmR1dBS3E+X1y7x2siMfqLzZFV+73hmHseKy0EGfeNv/1mXNu555d7tkgvGxZeBJ1jja88Ksi+m1+3BfLhpV1Is5RnMPjx45aCCzMAwvvizdDXAoLCwv8Sp9FwBHg74KFIm5aPh+eQfjEI/AcZOF+HnnicWvdprX77P1THp41r732qus3vJDEXJcCBUUbipIFLokVnrBAQZO/P/5xXX+xwKs3ua+7du+yhUsWuc3vuquXC5fmCThcyDZRqGb4Sr4P9AL6CfkJ6THCMHJ8Bnzjzf84L2r/9vCYu8NTbjPCjU2CV+SIYUMh6ocjl1dDJ1zweMLLhkH0zu1Cz3FswXNFr3KvD+E6qXncFHCYx5PGASzMq/n99z/ADqgCntuj8t9QMKE4TOH/yy+/tL/97W9O1Od5SG6ZD6OCDxCyk4JLfRhGPfLIw9YXQhaumOgqw8PL2kt/ftmeePKp6GdqPmPTo4vjhCVLlrjrh+3Ig36S6/M7f1bRlV16w3W9+9TZIB5Cgeun5meJOKlJU3WJgAiIgAiIgAiIgAhctwQ40cKS0KDWGzhyXYa2YUzmKVOn2vIVy92AhhN2XM5B3CnE8mZJaNKf63BSJ77BkHP5v2QNyPXjKxzc0XODMc+9gUp866fldxyAcuLyGCadKIxMnjrZHn/8ceQ2yGwXL0QJTd7+yZ7rM2QDJ/n4mYO7uAoFEcYXT0xhklNaGI5EbHF6xXAfPE/0VDqEP+/8Rw3uLmCCNWbbAvcR37ny1vUsXTmY5P7iOxZvG++V18+UATnYAABAAElEQVQShM07i1w35DZk6BDbj/wW5OO/bzLifjgxw8Esv2d+p7TywPLap1cREIHgBPgbpIC/cCG8XiZMjJp4R19DAYb3B3rZsb/JkR0WxeiX/H/PwWuMWspttmzZEj05VRIWxpysSkqhkMQJOwoqnBjMjYnI+Eph5DJgeDAWtnPPnr3uvhZcxImvJt5bM8Ywkkjte9Pq1WtsKXKpzUJeMFqwMxE6j5fcyZwTfzw33G9q7Duh88Z+mX9cL7DfZv9OIwIW5jj631tvITxrSNTc5aU5Ue9ZhBPFNDJZsjQqeTeNIngOPY8Kf+rchudWRQSCEeBvwXs2KIqwXWlZ+Bzq/xthDh3mKvEv/E1SDAlWeN37e5VzHa7Pa9z7bQTbLiXLuE+vnzh86CCeUWOHAGPfF6z/436HDRtusxE+l94fz8CDh4JTsELP+253dLep06bbPOR8iUC/ThHHE2aY+ysjQ4Ch7yBD71nSew1WZ0qWsT/59rvvXfgzits3wluqTu1asaokH/4xNJzX1lgrJXIB815OGD82+rn4JoTFvB3eTYH1etdI4HXisfBeuVt6hrF9LP7L3QK/f5gnjLlyFi9bgtB2yxCmuHGqezb57S7G25i/gBhf6YMIiIAIiIAIiIAIiIAIiEBiCXiJUf0HncG25eDx9KnTLtHznLlzbPzYcbZs2TLkXLno8qgw/jWtjc8gCStz2Hhxx1M66GS7Emqbf3u9SaqkbOO/fWq95/73IXcNefD9bogZY0aPdhN6wdrGAVxGMCbDnLlyxhtixk3I+eIXW3gcFG0mIl/M3LnzMMge6gQaWqBT6KJ1Iy1AGTJoEcK3saT2JAHPBePFs72JLQy3sw8TpucxiXAOIhATVh88iCSyvA4CKuFgnyH7TiL+N8NyMF56jlxR1pMBq+qjCIhAGhKgSDMV/T77uMWLF0FYXerCnVWpUgUTe6Vdf8b8W6vXrLYTx09G9TWJbA+NAjgB691LOFmfF5bHSSkUrllYR/Zs2WNNqgarywtVxn6MYrRnnBBs3fiXxbyHeccR/zYJf8sk2MzhMHfuXIRdmoU27rZsCMvEhOM1a9Z0/Om9xHsACw7d/SVcc8rW4P3NMwYIPFbmaqA3EAs9kubMmu3yfwT27fye255DDhCWAsgblyNH9jhFKO7Ts0B3G+if654AQ9/ug1fzCuT74zMrfy91kIOxCfLrBV6XqQkrCwx1ihct5nK40ICFiejP4zpuiXC57AsTKryWA8VP77k2oW2T+30xhECmmDIHQvD0GdNdHisKC+Flw+MUm7x9nYUXIp/TWBhyt0+fPk6E8r73f6XHedOmzRz/zZujvDT9v+dx4vCjS1of90H0Qcw7w1K7Vm1r36599L6DvQk8L8HWSWhZBFitWbXaiTah8FpsDG/zPHgWT2rxZ8Nrxv9zXHWVCStjLVq2dPeEUaNGuW3atGrlPJA4HggUkuKqJznLJeIkh5q2EQEREAEREAEREAEREAE/AhzIeknnEzPRPn/BfHv15Vds7oJ5lhXhz2rVrGXtWre1lq0xCECIm9KlSjqL67bIUUIRJzGDCr/mpPgtj8ELmUFLxstd6DFDxrRerFSpktWtVcdZO170H6VGN5Ij1yhLy5w5s1vVKlWjv0nOG+aUYezxTz/9FFaVF6wwQgF1Qp6HmxBypj5ijPO8k9FbsIT2RJzk7CfYNhxQsnBAyAlXWhQmtlCYIS/WQYvrOhhYV2IYEYRg8hvbR1WHdbxBJzlXqFwR61ZK7K60ngiIQCoQoHfFUCSzZ3gYCvvsWzhR2q1rN+SB6GxlwsIsV84cTkj+35tvwgJ7QZL2SstifwtwJrk+e/YMEn4nflrIuxexX+HE6sWLCQvL/v0NxXgaLFwphaIWJ4cZ2ofCCENYtm3Txrp0udEqVKxstWFNzkm56dOnR4s4V0LbeR68PrtggYKwBG/q8rax//bn7dqKc8XlTM5Ncb9unbpx5iW6Eo5NbbiyCFB0nTp1ur2BfCcrVq80Xm8MB9YFng+8rtKy1K1b14X3mzptqo0YMdzWrV1ta9f2sBtvuhm5wUobwwRmw3NOWrcjscdYFmHNbu/WzSi0b9iw0d5/731btXK1de/Z3eog9yJDSfJZLtDLg8/cW7ZsjX7W52eKtPwLNqZgP3Ugcr97vmPbPHE9se1MzfV4H2B+Gz4H81oJA4OE8kx6z7YpacdhhLWkZydD5rG/pvdSepViuDfzPjH4t99s5syZNnvWLJsIUYf3kcaNG7s2pVVbEn+3TqsWqF4REAEREAEREAEREAERuAYIeJNbwQZc/oc3ffo0e/fdd13cbA7oXnnlVevTt48LS+MmWi4Nijl48+pM22Gyf+ui3nuWuAwrwDZezsKJqiKwiM6O0EEcIDLW+X/fetMNhJk/Ib5Cnt5EV3zrxfcdE7P+Nvg3F7qoY/sO9s/X/+W8b7iN//lKvnV58L0zfI8XPo0iVu1atZIU5obnrngorFgh/GTLGoIE5i3s5VdfcRMC3nUVfM9RolFKucVVt5aLgAjEJkAB4UeICe+8/TYmKddaeSSr/+KLL+wGhM3xwluxv2FhmC9ax2NaPnZF8SxhOJnQ0NDoCc8TCI10GBbUuTCpmNjiiUCchNsLD8mT6JPjK+xrvL6RfVEt9GNejor4tkuv75jo/MMPP3Th6Rge7oMPPrBOnTpFC+Yec4aRupIKhXmvbUURmqh7j+7WrHkzFwoooWcQ9u3q36+ks3llt4VhzDZv3ugEHLaUXg/lkDeEOZvSutDrpnCRwhC237OBg36y9RBG/oMk9B9++JE1hyfKXXffZe3at7/sz6keB3rQ9L//fsuIvo59OT34hsJ7e/TY0VYcXjr0yrn77rvh4VfD28S9Mv/PGuRXZO5HFt4DaCjkTG5iqbJRz2jsV73fOg0ALleh9+j6deuiBSX2TYULF07z5qxdv842I/Qv74/5ICxmhYiUniUU5/q2rl1d6FN6pzG8JfNQ8p5NYSmtikSctCKrekVABERABERABERABK4rAiUgNIRkyeqSTB89dhwWvbmCTrEtWLDAhgwZ6iZbevW629p3aG/5goQA8CZoLgdEhkaglwsn4BKa8E9u+zgJ6NXNCaW4vEz4HUMJMXwECwdL3kSiF7s6uW2IbzsOjtevX49418td+LuaNWra3//5D5dsNth2qXm+KKKtXr0mhnUlQ7clxSuK1qlVq1Z3luXbd2x3g0u2m5zjYh3suLRMBEQg7QmcO3vOVixZZjuRm4oCzqOPPWaNGjUK+punlx37myA+dQk2lCK4Jw4z38s2TDJy4jGxpXzZchaKkIvMr7V2Ffoo5EKIr6xfvyE6JCj7VO7LE6Xi2y4l33n3FdYR373lNCZO2ccznwO9nv73v7esVavW0TkR/NuQmv27f73JfU9L/ob1GtiIvSMRIi8Sk8Vbca20ddVJoEkuVW0XjACfve699154pdW2H3743oUc/PzzLxCi77w99MhDaS4I0vv6pT//2W69rZtNnjzJhkMUWYd+ZdyE8chdtRKedIPspi5d0JaHo4XNYMeRXsv4PN8bQk3zZs1cvpohQ4bYJIRiZJ6zL7/8Al5NU61+/Xr2Mgy4ShQvdqlZPvA8ByEkykuRIYFDMmd1fTwelWMVyveZc+Sy2vDiP3r0GLz3Ew4vF6uSVFpwAbkp/Q2q0lLA8G+yt0/2zewPySy9CkMTjx4z2j6Dh37unLnthedfsFu73gbvsDLR45O0aotEnLQiq3pFQAREQAREQAREQASuKwJFixaxPEjgfOzYMduKsAhVq1YOOlm+c+cux4WDjgYIx1Uqjgk0ChTeZEyQMVyasaUl4KaNmxB25ZyVhNV20TTyxMkKwYu8OACj15GXLDfwwCg4MAwYLchZ9iI2+8gRI1x4obQcLDIJOAfdxyDIsTDnUaXK8YQYS8IAkuc1R47YOWcobJEHj/k3hGnYHBHh9l2hfAVnaZqUiUTWf0O9G6LDdmzYuAF5NNYgvFwVV6e3L/dB/4iACFxWAqcRZmzmrJnIfXXc6kOwrYawmnGJtmch+NAbJyn9gXdwFFBoRb9h00bkt5hrw4cPtyYI/5LYUgohjKpUrWo7J01EAu7Ztm3b9nhD54wcOcLlC2P9FICY0Do57U5s+5jQO1eu3NH7oEcjJznz5MkdowoKSmvRH+7bt98tp2EArf5pfBGspGWbg+0voWWZkIC7FibV5y9aACv49Qg1NdJu797DefQmtK2+F4GkEOCzKJ+/+EcvujX43cxfOB85HMvZgw8/mJSqkrUun4fKlAlzfxUqlHf5eGbPmYMcVnNs4cJFtnXbVuTs2YcciLns5ptvtnz5k5bnK1mNSmAjeqLwryIEqAoVKlg9eGesXLnSJk+ZbPPnz8Oz5UaI2bns4YcfsnCEH+MzIZ+HOS5gKVEi1F548YU4Dak4JqBkwe2YS4eh2i5XyZYtBOEZ80Tvns/O6VHIi4Wi/fFjR2MISWm9/927d9nMGTOcx9QD/e93+YuqVa+W1rt19UvESRfM2okIiIAIiIAIiIAIiMC1TIATPCVKhlr+AvntEGLsr1q1wipWLB9LxDmD2NH++QCOHz8aNIkwLaRnIcYyBSGW9JxAOn78GJKrbnLW2pxILI9Bc1oUJlcuUrhI9LExBw8FpJzI+eBfeOwMz8AQBUw8TRFnwIBPrBAGyMwXEaxwgo7hiShkeIPiYOvFt4wiBydLvcLJQIav8LyAvOXHj5+wVatX2coVK92i+M6VZyfItq1GQlaG72GoNK942y5csBDeWr/bLngdVYBVfqcOHYNar3sW5xkwkOdx+nvYcOKFFqw1Yam5ZcsWF+rh888/t8cefdRZ+nv78vbNV1o2nsTkMCcyPQHR/3u9FwERSBsC9L5jaBiWQ/AM2b5tW6wdsU/as2ePLYXHzh7kIOBEflILcyn07NHTPvvyc9Sx24YNHWq33nKL1UHuiWwB4Wg4GRe5P9Ldo5jImaUCBPV6Deq7yUiGU5s0ZYpVq1HdypUtG6sp9HKhFToTXnMCuFu3250YHmvFVFzAYyiA+wVZsfBeuhECNnNr+Bd+zzwS55AonYX3DPa3hQsV8l/NhVljrooZmLD7o3g9+R9L0vtdpsyZrHGzJjZx8kSXv24yrPvHj59gLVu2sEI4/sASdbzHcE/M7u4Vwfr/wG30WQQCCTRp2hTPFZXhobzC9u3fF/h1mn8uV66cC2fbDXlnBv8+2H788Ufkq5ppCxcvtLfhScccVvGJOOl93edBf9sB4d74R+GJIbhohMRcix988D6ea+s6EYfPa6WQCzNL1iyOYcFCBa3r7d2SxJO/8ejjc90f/4ny2oxenqQaE7cyn7ML+fWbh5CrJvLAQfRDBeKsgO1JaZvYz7G/Popx0ubNmy01Ql4mtl0HEUJuS8Rm98zdDtEUKlaqGOexpvYXGVO7QtUnAiIgAiIgAiIgAiIgAtcjAYauKoYwM/QoWY0QD15eGX8WIYiTzESsLJyAnzBhgq1bt9Z95iQSl3Ewwrj8Tz/9tIunzS/TM0wAJ+448cX2h8NyulQahWmgGFIEsc49sYBh0hYuXOj2Sw4eDwcH/9x88y1IXnqTExrGjB1nnyNfBAfFHLhyXf7xPS3ZV69Z6yyTPa8nr46kvEZZn5aAyBIVZ5tMxmK//gNFvh8/frzd26+f/fTTIDcoZRviKhRbWDiA/+c//mFffvGV7Y+MtAtgfRHtZ5k5Y6a98NzzGCBucZ9pbX3b7V3d+8B/PNGG2/K8eeElvPWYA+Pll1+2WzBJy/Z/8vHHNgDhH9ZhcpXFnxsH3kuWLrNRo0bFCOPm1aVXERCBtCPA/qYqPFz4ugoW22PHjo2+h7A/5G9748aN9ucXXrLvEdJoDwQUTuQntVAQ/9MLz7mJQ24bAW+/hx56yObNm2+nIFR7/Sn3ydCfb/73Tfv3P//l+heuXx6TqEzczZBvbOtXCA/0FiZPdyPBNNvI7VgoUv/p6WddOEp+pvfOw489GksE53epXfLBKtwT72nxPhXW7979mK9sI/vO6jVqwFo+KucbhfWhw4ZF33PJgccza9Zse/TRR+zf//53dJ2GIEeXu/D42rdrZy2Q64wW6cxv9MLzz9lvv/6KJOO7XfP+6N8v4trZZCNHjnJhqHieVUQguQS8XDg0vInveSe59SdmuxAYvzAc8Ztv/s/uuutO146lK5YZQwH7l0Ch4HK1l22ix+OAAQPsH+hPWWgUtA65ZPbt2+f6IwpUueCdw8IQj3PwfOuFvnQLE/jH/1ihkVwSSRB0E31ZWh53tmzZYcBWMPpZnv3Pxg1Rz5hxNTk12lSoYCHkZwp1/TQ9smjgldLCewNDSSdUaOx0MDLqWmOuI94L06vIEye9SGs/IiACIiACIiACIiAC1ywBDp5ooUxrtBPHjtuB/QfiPNY6mJRvUL+ezYe3xejRY+AlsdWqVK4CcSe/bdm2BblQVjshiHG1q1aqYrPnznZJrOOsMJW/OHL4iK2ClSUHj2EI8xBaslQq7yGqOob1YYx1htehxxHjhDN8Gb1HSpUoaXnz5bEbwImJYFmqVatq3e+4HaFj1tiUqdPs559+sokQwUqXKmWNGjRyA8j9B/ZbBLxOODFJC/IPP/7IhTnIjAk7r3Dw6E00utc4xmsM1UZPJOZwYPgQJpqlsFYZIdUYjojjvHUb19kyCB8li4faDXXq2o5dO925CzZg5r44qcbCOldgovaFF5+3jwd8bBUweC8bVhYTbKhvxXLX9jNnz1jr1q2t9z33WNkgVu4Uv+rA6nTVqpWufW8i2S/rp4WqvzV5w4YNYHnfA5b9W51Iwxjes2bOtIoVKlphDILZ1t379jj2myAgUhAaOXJknF5OHke9ioAIpB4BhgDr37+/E3i3wQuH4nCtWrWsRdPm6P/P23qIEZsg4lDsrl61GsIaFXBhhJLTAua4ePHFl+yNN15HaJ/57p5zT+/eRm8b9m25MZE4fdYMY8Jq7i8sLMyWLl3qQvawX6yKfvG99z+w5/70LPqfVfbtt9/YtGlT3XoMmUbxfAHCfEVCoGbCbXr59OnTJ07LbK8/xm00ScXbLnAjHh/zxUxBmxhCkm2dOm26hZcOs50Ig1O5SmX75z//CYb5XL89B0LN3v177UMYT0yeNMkqlq9g2TExuWnLZluyZInlwbmpf0M9J5wxUXmw/j2wDen1+eFHHoW4lAX5fN50BiCvvfaaffXVV84zqnjRqMnF5StXGP/Ytzes39D+8re/XNbwS+nFRvtJGwJ89vAXDILthRPhvkuCrmdsEmy9lC6rULESno/KRVfjea97CyguZM8e5d3N/oKejOzP4gpV6W3HEGUXL/rgnZjVW5Qqr+ziisJ4ySvsI2n4VQRhi9m31q1dx1avXOUE+3/A0GfgoIFuubd+Yl/zYjzBY2fZgmdiCkaJKXyGPAGBIk8cYSWD1cEcbXwOp5jBZ/i1yOc4b848l9Mt2PpcxuPmH6+NhK6luOqoWr261W/Y0JYuX+bum7Nnz8GYog7GFEXj2iTocjcm8F107ViHtu9hyGuMTRJbkiK0JbbO+NaTiBMfHX0nAiIgAiIgAiIgAiIgAokkwIFZGeQLOIPwLHPnzXPCRLAEzs2aN7Mnn3rK3nv3PVsAzxNaO9MDJScGmpmyZDYmsO8Hzw6Gf1kE67LJ06bYIVgXBnpZ0BqYVsXMJ8NCS+L4Jpc40IgKH3POtc3z/Ag8vD1799is2bMtBzxlyoaHWU6EX0lqYVuPHj3i2sfwbJ4VdGA9xeG59NKfX7b333vXli1b5pJMMwQP8+UwpNfdmAD0RBxu2wADtldffQ2vjeD58pMLEUZrUC+U2VHsi4UD9LZt27pY5P4CDr/LFpLN1c/Bfggm6rJg4BxXoSfLY48/7gS2sWPGIP/DVveXBZNmtLzLky8vwte0Mk6AbkTIIHpQ8djpFRN4LngteJOOzZs3d7HSly5ZahPGjYPV+ipngXn8xB/5d/re0dcdO0WYYIUTKS1atLSx48a7vBTk9gW8k+rXqxdDxOG2HTt2dGHbfv1tMITDUS4sHUPT5c2dx4X3434zZsholSGgtW7bBvHYSwTbpZaJgAikEYHs2bM5b8PNmyPs62++dqHOKOgzPxkFXf7eGXrnvv73QWgpZyOQa2bt+rWuL2di6aQW9o8M5TgU4dTGw+tnC/q27du32Rz0/SFZQ+zkqZPGfq5D+w52W7euTnj2JmN5b2DYrtdff90GD/7NRgwf4YQgtjcX+rnjuBex0NvyEYRvZJ4KhsOMqzAcDwuTRfM+Fdh3etux/+RkpDdpFtdELD1Tnn/hede3j0J/R1GMfznQ3588fcqaNG3iVWndELLo5MkTED6+dkLO9OnTXeJ2tj0rJnDLlitr/fr0Q0jPAvbpZ586Tx3mSQtk7rXNazvvAYGFE6QUtXiP4D092Dr+2/Cefh7b0Cqf4Ty9uv3XKRlawvr264swdfmRR+1XhH2b6SZH+VxB8YnFuy82w3F37NjBGU7418G2c18sbJ9nbOC/jt6LgEeAk+/BrkXve77yN80cNSz0PGb/ldRCT+fff//d5ZK5//4HEKK4Qqwq1sOTfe3aNW45Q0V6eVK4gOJAfgi1mfFczcLf3bx5c53xUGDfwePh+rz2P/vsMydu58yR01rh+e62brf5eeG5quL8Zx6e/SnA00OOz3mBx01haOvWrdHbU2gpAGMar/S6+27kK9sET8wxzhPno/c/tHsggJfG2CKwsC+kyMyxgn9YXq6XG30gebDw2Nav34A+u2Ws9rgV8M/pM2ftS3hVTp40GaGKC8G76S73LBlsDONt4//K/vGOO7rb559/5u5Lw4YPhVhe0Tp26uy/mhuD8J7z088/x1ienA/MQdMJz7a8f23Fveu777511TyKe06gkEMvnR9++AHidV1r1aoVOFBOiyocE+TPk88Owxt9G0T6AwfjNsLztnFbX6ri9OnYfb23Xlq8SsRJC6qqUwREQAREQAREQARE4LokQAvlkrBIW4OBJZOY5kcS2MDBYkEM2G655VY7jwHlOMSwpwjBSRQOuJgjpWGjRtapUycrDg+VfNh+f+R+F0e7FLw3YhQMOGm9x8HWXlgXNkV+mCyXBqsx1rv0gV41Xbp0cfHMa9esjUSkeWOtxgEs8xdwn40Q+oGCUnJKCeQ/uOmmm6xy1SpWr94NVrRocMs4hirrDQHkNCYMp02b5iwSOYlEi0QOxitVrhy9ew5EyagNJh8ZBofHvmjRIrfNocOHsE0IrKezueNiWAoyZnz0wEKPnr4YFHPQx7r8Y3kHrsvPDEWWP28+x2LFyhUunBqTZzPBb2W0r2vXblYfHkNrEcJtL5LrRmyNiA415F9fydCSCH/T3iWe7nnnnc7LhtvQ6nv5yuVuUo/XCsMdsd57773X1cM6vAkG//o4OVAXE6O33nqrG8AzvA6PJTCsA7ctiOVdkY+iFM5nuXJl4c20zvYfiHQTogyFkRXHUzYs3Jo1a2Zt27eLNcnnv1+9FwERSH0C/D0XLVoEnne9LVeunDYVnomcuGcIxiz4bZdF/92pcye7BWElaeXOUGq8h9SDh0gev6TSiW1Znjy5rTPqq1KlipXDb3/xsiWuDzp16jRE93OuH6qC3Bc3IoRlq9YtY1XLvpbiTCgE33BsT4MEihKceOWEIpN60+Pw6aefQd9ZKtb2/gtYDyd9eZ+gIYQXCs1/Hb7nOtVhfU1vQ76np1KwwvsHxWiKSSUgcqxHaB+yZP/Key0nV3mvoyhVFfeD3n3ucfecxUujGLBO3h95H2mKHCBdcC/jfB3FlAKYdG0IY4LA+ycFfyYXZ3/MexiTmQeWvPQQatDAmE+BjIKt478Nc75RXOG9sDqeLQKfJbx1w8PCEPLtUTwzFLVKFSvZDnhPccKa2zoxCjzCcf10QN/eAc8WnJz2L5yoZd9PjwDef/jcoiICcRHwDIf8BZPAdUvAQKckngNZKDbMmzvPef8yX01iPS9WrFiBkLNf2HTkozoDkaE9n03QR/B3wGcwtuMXiAGTJk104gSNWgINUDKxX0VfxMLfJcPFFipU2Ak5eLDi/wj1WMX1J1yHxj00xqH3NctavDZo1CBRz8KH4cU+BsY+//rXv1zfSO9t9q/58PyYNYTtPQqPxmU2HKI3S8ECBawawkwWgWjilUaNG7lnziVLFrvwYJ988glEhYPWAeIrxwTsN44glxfD4/JZnbkzn3jiCXi9NEYf9kdIr9IIg+zvoUTvat5jatSo7p73eP8oWbKU+72zT6Sw9P133zuRi22JRP1v/Oc/Liej17b4Xvls3qtXL5uLEHDTpk+zmWhXtvfeQ96kSIhvFZ1BAMURik4/45xFbI6AZ2Yh5H875J5v46s7ru94XySvnj3vtK++/sodwzcwgOD9oykEa4au5rHtw7HQUO7tt9+2OzFeCodne/ilHG+sm/cp9ukb4O3KPE8T4I3JvGrFihZzolNoyVCElS7l2Htt4XO1F1WTIZx574urf/a2SbVX7Lwq/lREQAREQAREQAREQAREQARSSGDR4sW+Pn37+jCR7nv6mWd8GzdtSrBGDJ58iIvtwyAgwXVTewUMcGJUuXz5cl///vf7MBjx/fv1132YDIrxfWI+BNaZmG28dWDh6WMbEMbHW5TgK6yy3Tbbd+z0nTt/Pt71U9I2VowBvg8TC0lqX7wNuvQl2wUrdh9C9SACScxzktD28HLyIQa5Y7Bz127fGfBITCFjst6zZ29iVtc6IiAC6UgAk/Du97lt+w70CYnYcaJWir8exPn3bdoc4fqi+NcM/m1k5AEfwkT6YFQQfIU0WJqY/tLr63h/ia9gstmHiVdfRESEj/1qSkti2paYdZLTDkzyuusHwkxyNtc2IhAnAYiumME2HwTLeH8n33zzjVuP61YoV9731ptv+eD1G10vf49vvfVW9Dpffvll9Hd88+03X/tatWzpnkeRF9IHwx1f3dp1fV1vudV3T++7fRXKl/dBsHXbIwyvb8iQoe4ZLUYl+DDox0G+Jo2a+DC579aFSOmrVbOWr03L1r7WLVr5INhEb8LncYir0W2CqOkbPny4D+J09DpxvUFoSd9TTz3lg9Dig0Ds6oAQ4Lvt5lt8/fr28UGwcWMD8oDI7Xv6qSd98OCOVd0uPMe99dbbPrbTO748ufP4Onfs5Lu3X18fvK19CBHn6uf3//znv3xbt26LVQ9ybvpgEOTaw32yXQij62vbqo2vR/c7fBC/3Da810yaNNkH76Ho4+b6kyZNilVnQgve+u//fLVq1IxmzXoqV6zka960uQ+hk30Qknw8V7fdepuvS6cb3ecHH3rIB0/8WFUPGjQouj0vvPCib8OGjbHW4W1vw8ZNvltwLfL64P74Fxoa6kMoUl/9G+r7eA65jOfkjjvu8E0MOC6I3T54B/kKFCgQvT2MBHztWrf1IUScD3klwXdrjH2PHzvO16h+Q1fnp58O8MGzMsb3afkh01//+lfKko/hT0UEREAEREAEREAEREAERCAFBJjfhRZyw5AgmSEnGLImIW8WWrDR8jXQgyIFzUj0poEWkVMQSmHgDz/a0RPHYE34T1j1Vkx0Xd6KgXV6yxPzSqthepPQyjqx9dCamtvkAUe+j68kts646uA5Smr74qrLfznbhQGks7imtWRSCtcnL1q+54Y1eFxW7IF10qKTx8KQJynlEli3PouACKSMAH/Xrl+Dx4x/6Jc4a0UfktJCT8688OqhN0ZS+yHumyHhCmFbeqWkV5+SmP14fV1C9xX2nbwXM6dOQveSxLBOTNsSs05i9hW4jncv5Wta7SNwn/p8fRAYOHCgC33L/IU9e/aMs684dvSYrVi23Hbt2W0HDx10HoON4eHN3xgLPWPoITFx4kT3md7b/mEXq8HrjiHA6M1y/OhxhOlaZzuRd3AdQscypyBzdtHrjp7rzz33vPMs5G88sNDThvlaNqxb77anVx7Da0Vs3WJb8Ne9e3cLgzcbC/uKSHhjbI7Y7Lxy+LksPPKqog18Vo+vsL+mJz1D7B7Ytx+eIVuc1wzbzfbu3bfPeYZAYLBnnn3Wec+Vhvd9YGEo4erVa8D7pqOdAEN6yRw9dtQ2wlNkxYqVztOOWgVzNvaDx3afe/rA0y4ssBrXj9EziaGKyYphjekNE7ElwkKyhFjzZgzrW9GdP/LZs2uPbUYotyMIhczSqfONVhWeQhDQYtUd1wJ68NMDn16QDBPMEol9b4PnO893t6632Zv/fdNaIKTZOnhILoY3PT3ryY3jJ/8CMd3lZ2T4zPr16zuPd96b/AubxnsWrwGGdNuFfDZ7cG7pUUVv+13IgUZPMJ7fp5562h577DHnDelfh/dcnwn9Pwyb3Pr0ZNwMTvQspRcjQ9b5RxTYt2+vLYX36gbkqWOEA54LXivpURROLT0oax8iIAIiIAIiIAIiIALXBQFOltSsWcMaN2po8MpxIRkYEiW+CbH4vktPaMyXM2XqVAy4d1mXzp0trExYeu7e7Yv8kjN5lpxtknNwyW1fYvaVkmNIzjWUlseSmOPVOiIgAvETSEmfEH/NcX+bnL7Eq+1K7VOS0q7Lwdzjl5qvSTnm1Nyv6rr2CcB7zB1kQn1FLYSzfe+D9201wortwIR6jUthcD1CDMcGzwiE+K3kxI169ep5X7lXiqoMaUhRtS5ymeyDCLIPoX4jEaKLeawoPHDin4ZSnKSPaxKdv2mKQQXff9c2I4zXjp07LGOmjAhjVsQJzpyA9wpDYj38yKNWCs+/337zjcG7Bvkhka8yU8JT5/zNMcxuC4RrLAJB54l9T7oQjAxTSOMutpVhGPnKUIpsf1yFQk59hCJ++ZVX7N777kWI40gXmuwwxDBuz20paFAQ4l+wQm6d8SzPMM0REVtsD8IuX7x4wYUGY7g7CjReIbuHHnnIhfT88IMPbcXqlQi7iONOolFRBuSaaQRBpgiMiu5GeDV4Z7rzxtDJPM8MrVkJYTrhQINQm08jPOjNrn0USgILQ5wNHjzYiT/ly1eIFSrPW5/nl0ZQFOMoAu6EkLMf+43EtULjLoZLIyteS3Ex5/YMYcyx2+7dexBa9DCEoKPuuuL1USZgPMR9eoZ3/D3A88ZrTpq/JnwlpnkTtAMREAEREAEREAEREAERuHYIVKhQ0RBSzebOm+9iP3Nw2b59+yv6ADkIGTdmrE2ePNlyYdBz9929E7Q6vKIPSI0TAREQAREQAREQARFIVQLehDVz0sQlenIdijRNkJuEXhaHjxy2EHjN0EvPK/Si4cQ6/7zC7SiG+BdOwPt7YBw/fgI5rk45T0X/9eJ7nwuiCL1E+MfcVmy3v2eN/36Z/6Q0/s4jbxbCdTmxgznEElsoWNSuUzt6debfopDDY0hI+IreCG/YRubs4h/LaeQFOgYvGXpdJ6ZwXxQnmO+Kf8zJ4/NddKKYt73/cTPPZEUILaeR34X5YAr75erx1k/olfUxXxqFD/5R2jiEY6dHIP/8C/N88c8r/m3he7YnKWOnIkWKYpuo/JvnL1y0w4cOufxycYl73n75SlbMO+rlHj0Br6FT+KN3VbDCc3ri+Ek4RPmcJzyv5fQqSfPVT69WaT8iIAIiIAIiIAIiIAIicJUS4EDtZiSfZjLPBQsWIFHovCv+SDhgmj1rtgtBUA9hC9q27xBtZXbFN14NFAEREAEREAEREAERSHMC9CZhQQ4/Q/6roPvzF2IyweulIMQEfwEn6EZY6L9dXOvkypUzzsn1uLbxX04PFX8Bh9/575ehtEaNGmWL8PxeEknta9SoHkuA8K8vofcUYyi8JEXACVZntpCsiRZwgm3PsGM8dv/if9wMuTZm7BjbsGmDdcQYoOglQcR//YTe+9fHdSnHUUgKFHCC1eO/rf/7YOsmtCwzrrlChQrG6Z2V0Pb0Qgom4HCsxMKwbVu2bDWKOfkLFLScOXMmVGWqfS9PnFRDqYpEQAREQAREQAREQAREIIoAhZzHHn/cxcD2j/F9pfLhgKlarRrWP08uF/s5Z46YFnNXarvVLhEQAREQAREQAREQgfQhULd2HZs1c5YLk/Wf/7xhvXrf44yWKDJkzRqSPo1Io70wrPCnAz5xIg7Dlt11Z88YXkBptNvLWi2FiUPwTvr73/9un332mfOAubtPbyteIu5wb5e1wZdp58zNwzBtFC9HjRlta9atcS3Jly9K1EyvZmXACaNvVlTGofTaq/YjAiIgAiIgAiIgAiIgAtcwAQ6KGD6BFn1MtMqwEld6iUTMbbaXFmVXQ3uvdJ5qnwiIgAiIgAiIgAhcSwTogfDRRx/Z+++/B++SDPBqyesSy/ft19fatmlz1R7qrl07IeB8ap8MGGD54LXSr18/e+TRRy1//gJX7TElpuEnETbskUcesR9++MHly3nxxRcRUvlujQP84J06dcpmzZplzz33nMsttHfvXmPOppdffhnsHkWeoqgwbn6bpNlbeeKkGVpVLAIiIAIiIAIiIAIicL0SoGeLfwzvq4FDsNABV0O71UYREAEREAEREAEREIG0JxAWVsb69u2DJPHFbHPEFtsN8aNc+bKWPyBUV9q3JHX3kAHBv1zuHOTwadmypXXv3v2aF3BIkOOVXLlyW4+ePa1Vq1bWrWs3CTgBlxZD4TEUXc2aNa16jRpufFehXHnrctNNQcOuBWyeqh/liZOqOFWZCIiACIiACIiACIiACIiACIiACIiACIiACIiACFy7BE6eOm0HD0QijFpWN8mdngneU5sqvS22bt1qhw8fsapVq0LIyI289b4Y+XJSe59XQn3M67Jo0WIrVry4lS5V8kpo0hXXBl4Hp0+ftv3791tOCF4FC+S/bG2UiHPZ0GvHIiACIiACIiACIiACIiACIiACIiACIiACIiACIiACIiACIhA3gYxxf6VvREAEREAEREAEREAEREAEREAEREAEREAEREAEREAEREAEREAELhcBiTiXi7z2KwIiIAIiIAIiIAIiIAIiIAIiIAIiIAIiIAIiIAIiIAIiIALxEJCIEw8cfSUCIiACIiACIiACIiACIiACIiACIiACIiACIiACIiACIiACl4uARJzLRV77FQEREAEREAEREAEREAEREAEREAEREAEREAEREAEREAEREIF4CEjEiQeOvhIBERABERABERABERABERABERABERABERABERABERABERCBy0VAIs7lIq/9ioAIiIAIiIAIiIAIiIAIiIAIiIAIiIAIiIAIiIAIiIAIiEA8BCTixANHX4mACIiACIiACIiACIiACIiACIiACIiACIiACIiACIiACIjA5SIgEedykdd+RUAEREAEREAEREAEREAEREAEREAEREAEREAEREAEREAERCAeAhJx4oGjr0RABERABERABERABERABERABERABERABERABERABERABETgchGQiHO5yGu/IiACIiACIiACIiACIiACIiACIiACIiACIiACIiACIiACIhAPAYk48cDRVyIgAiIgAiIgAiIgAiIgAiIgAiIgAiIgAiIgAiIgAiIgAiJwuQhIxLlc5LVfERABERABERABERABERABERABERABERABERABERABERABEYiHQOZ4vtNXIiACIiACIiACIiACIiACIiACIiACIiACIiACIiACIiACVwCBCxcu2JkzZ1xLsmTJYvxTiUnA5/OZ95cpU6aYX16ln+SJc5WeODVbBERABERABERABERABERABERABERABERABERABETg+iBw8eJFmzlrttWqVctCQ0PtzTf/Z6dPRwk61weBxB3l4cOHbenSpTZt2vRowStxW165a8kT58o9N2qZCIiACIiACIiACIiACIiACIiACIiACIiACIiACIiACJgPDE6cOGEbN250NPbu22sX4XWi8geBCxcu2pAhQ+zzzz+3rFlD7NZbbrau3bpaeHjZP1a6Ct9JxLkKT5qaLAIiIAIiIAIiIAIiIAIiIAIiIAIiIAIiIAIiIAIicH0RYHiwkJAQ52FCkUIlJgF64cyYMdPmzp3rvgjJmtkaNGggEScmJn0SAREQAREQAREQAREQAREQAREQAREQAREQAREQAREQAREQgfQlcPr0ScufP58TunLmymVlwsIsF16v9iJPnKv9DKr9IiACIiACIiACIiACIiACIiACIiACIiACIiACIiACInCdEwgNLWlPPvmk1a9f3zZu2mR39uxp5cqVu+qpSMS56k+hDkAEREAEREAEREAEREAEREAEREAEREAEREAEREAEREAERKB06dJWoEABO378uBUtWtQyZsx41UORiHPVn0IdgAiIgAiIgAiIgAiIgAiIgAiIgAiIgAiIgAiIgAiIwJVIwOfzWYYMGa7EpqVZmy7XMXO/FG3y5Mnj/tLsAOOpOC2OXSJOPMD1lQiIgAiIgAiIgAiIgAiIgAiIgAiIgAiIgAiIgAhcKwSY+P3kyZPOS+H06dMud0jWLFktZ66cbtI7W7ZscR7quXPnjNufOnXKjh496oSJkJAQC8ma1XLnyWt58+aJV6y4cOGCHTp0yO2feUry58/v1mc7Dhw44JazbrYnD+riRHzOnDlj1Bms/Xnz5nWeF1nRjrjK/n377dixY5Y9e3YrXqK4W+0EPDUOXmrPmTNnLFPmzJYdx587d24rVKhQjP3613v+/HnUdRx/R428uH9yOHv2rO3Zs8exuXjxolsWHh5uge3ieuR3HHWcPXfWePxch/vNniOHFQCXxBTKQp6XyZEjR+zEiRPujwzZHh5rwYIFHcPE1Md2HTxw0E6cPOGOhZ/ZphxoE195LuIqPC/8y549G9gVtkyZMpl3vtmeYzjeC2DCNuVCPQXBN0uWLHFV55Zz/7wuWC+vPTLNwe1zgVPOHJY/X75Y21MsOwoWBw4edG3Ih3XYbrYnrnL69BmcD/A7juPG+eC1kD1bdtfWkJCsVrhIkbg2dcsp2kRGRtpJ8GceHl47LKyH55l/PDc8x1kyZ3HXduHChd06if1HIk5iSWk9ERABERABERABERABERABERABERABERABERABEbhKCXBi+7fffrPFCxfZ3NlzbPW6NVahQgULLVbCGjRsaJ1u7GzNmzeL8+hWrV5tv//+u61ZscomTp5kGTJmsPLINxJWOszadexgnbF9qZIl49z+yNFj9u3X39qcOXOsVdvWdu+991pOCARz8fn777+zRYuX2Jo1ayy0eAnr0L6Dte3Q3jp16gQBISoxPcNj/fzrL7Z4/iLUMdtWr41qf4eOHe2ee+6xejfcEOe+v/j8cxszaozVrlvH3n3/XScwjBs3zn755Rdbtny5bd682TjhX7VqVWvZorn1v/8BCw0NjRZJ/CumqDB69BgbOXyEVate3brd3tVq1KhhK1assNdff91YL4UZ1jV06FCjkONfli9fYWOw/eyZM23n7p22bv16K1OqtDVv1txq1q1t/fr2dcKQ/zZB30PFobBBAee3wYNt4bwFNm/eXFu+coXLA1OzZg3r06eP3XzzLUE3919IwWTZsmX24/c/2oKFC2zHrh22a+cua960mdWqXdtat21jt9x8s/8mMd6PHD7SBv74g1WrWc1eeullJx4xJw35rl6x0iZPmWwnIOZUr1bVGjZoAL73W7Vq1eMVV5YuXYbr4nsbMuR327t3r1E8q161mjVq1Nhq31DHut9xhxUJIrBMmDDBPvnoEycS9u5zjzXH+WR4tbjKggULbCzOx/x582znnl22YcMGt5/qaF94+TDk2Hk6WpgJVgcFpgGffIzf1Fxr2669Pfvcs261xbiex48dZxMnTrC58+dZSfw2ihct5q7tZ7AORcpEe2hBKaqKPxUREAEREAEREAEREAEREAEREAEREAEREAEREAEREIFrjAA8b3wjR470QRDxlSpVypctJJsPs8wx/nLmyOmrW7eu743X/+07ePBgDAKnTp/x/fv113116tTxwXvGlzFDxhjbZs6c2Ve0aDHfLTfd7Ptp4KAY2/p/2LJliw9ii9t/hw4dfCtXrvS9+eabvmpVq/rgKRGjTnh++MLDy/ogiLgqtmLbRx582FesWDEfJr7/WDeD+XJh3dtuvdU3fPgw/93FeN+je3e3DcQW34wZM3233dY16lgyxjwWeLb4SpQo4evYsYNv5qzZMerwPuzctcv3r3//2wdvCl+njh19EBl8ixYt8lWrVu2PdoFvqxYtfVu3bvU280Fw8X3z9Ve+Nq1b+3h83jmAp4gPHj3uuLjve/v28y1csCB6O+/N+QsXfGPHjffBy8Zt++qrr/pmz57tzivEjFgMc+bM4atcuZLvxRdf9KoI+rp//37fRx9/7NoPT6TodvFcZ7AMPniQ+MqVK+fr16+fD55GQev4x9//7raD8OXbvXu3b+DAge56gsdVjPPFc1eoUEFfo0aNfMOGBT9fEMB8n332qa958+Y+eO5Et4eceOw8R/B28UEU8X3z7Xe+M2fPxWjT/3BNkW3+fPl977zzrm/nzl0xvvc+RO6P9L380svuuoagEr0f77xkzZIF13VRx5e/H/6OghV42fhq167ltn/ggQd8R48e8/31tb/4eK155+qPOrO6665x48Y+/h4SW+SJA4IqIiACIiACIiACIiACIiACIiACIiACIiACIiACInAtEqD3zLvvvmtLly513gzt2rWzBvCGoOcJy6ZNm+E9MtYw+W55scw/9BQ9Sj748EP77ttvbe3atc7D4r7+91nZsmVdyC6GR1u5apUNHTLEho8c4TxQMiJ0Vfce3WOhpCfFqdOn7PSZ07Z48WJ7+ZVXbB3qPH/+gvXq1csqVarkQqrNhIfK9OnTXfizb7FfeojQQ2fwb4OtabOmVqVKFedlsX9/JDwoRtv6jRtsFF4Z8qtz5xsNolKsfZ9ACDmWzRER9re//dVmzZrlPG3uuKM7PGXC3Da7du22KVOmYH9LDcKG5cqdB2G8HrdWLVty0+gCNcaFG2N4tqNHjtq4MeNs6/ZtthqeSl26dIEHTjUXwiusTFi0R82RI4dtHLwyPoNH0Gx4QeXNm8/69+9vlStXNggFCLl1zGbOmmm//fqrDf59sJUqU9qKFCsWr2fT2LFjHUd6ktSrVw91VYFnSmEXumsqjmMRGK9duw7h0CbAm+RJg0AUfQzem90I/zYYXjwf4Rzz/NbHddGieXMLC4tqO6+JieMn2KzZsw1ChjVt2sS6desGz5aCXhXu9Qw8eVh27doFT5yXnLcVBCxr3bq1VQGPggXyu1Bz8+DtwvZGRh7AOZ5hzZo1i+ElQ88icvzyyy/hVTTfIDrajTfe6DzG6HXD0GS8jmfPnuXC0WXPFoLwezHP9+mzZ1xbjiBEGkOasc7Asn//PnfcgwYNtIitW1x4t549e7pri9cRr+u5c+fapEmT4Ekz0YVL47LevXsHVmUQYnC9RLrl06ZNs8cee8xGg1UxhO3rdvvtVqF8BRdmbsmSJTYN1/VeMCcHXoMMKUiPnIRKzCNMaG19LwIiIAIiIAIiIAIiIAIiIAIiIAIiIAIiIAIiIAIicFUQWL9uvf34w4+2cOFCJ3LAA8YefPBBN7nu5STZsWMnBIBKLmRVx46dXA4UHhwnwBliasAnn7hwY6VLl3Zhy7g937NwApuT7efPnbcJE8bbhEkTnY9P/Qb1nRDgVrr0D0NHMScIC3OdjBg2zOCRgInuO+yWW27BRH15J44MHDjI5d3hpPeYMWNQ7wQnGNVv2MCee+55bNPI5SvZs3efFcPE/icDBtj2HdttMdbfsmWrE2X8hSjuz/t8GiG9Zs6YaW0QHux2TLB36NARYa5CuYqbuKeQ9P7779m6desgGv3mwsUFijg8DuaiYY4TihHj0b6t27a6Cf6HH37Yateug1BzGSEAnXX5X1j3mjVr7f0P3ncCDvOh9OnT15544nErU6YMv3aFggf9o37++ScXhiwU4bcefOAB7+tYrzynzMfTo0cPu+uuXk7IYeg5Cm81alQ3eDlB5FniBIjZEAw6de6MfDJRoem8ykZD/PoE55cCDgWlJ594wnFh7hqv1K9X3955+20bMWqkff31104sovjiX7zcPORM4Q0eU9YHYeEoetSpU9dyI+cShbFfwZRso8SYJTYHglaXm7pEV0WhZAGOa9GixW4Zz89f//pXV5+30s6dOxGObjTEmQvWENdEYMmUMSr/Da9vtgunK1aZM2eufQ5BjQIO23oXRMS+aG+tmjXduhR+KOAwDBvFMrJmaLgWCM1WuvQf58yrmNcCy3qExuNfVYSNe+DBByDq3eSuIX5H8Yl8fvn5Z8uKnEUjR41yYfgYii/Bgh+awqkl1m9J64mACIiACIiACIiACIiACIiACIiACIiACIiACIjAVUAAni++xx95zFe4YCFflqxZfK1atfJFREQkuuUrViz39ezRPTqk1SOPPBLntgwb1rVrV0gQ5oM3j++jjz72MUyXf9m0aZPvrrvucuswpNuNHTv7ZgcJWfb/7Z15eFXlncd/hABZCEnYkpAQSMCEJez7ouxILQqotAq28IylVgZt9ZlaOj6PMx2gjBUtCE6x1gVnFNGO26CgFQQXVDbDvkUgLNlXkpCQEO78vm848ebmnJubhFRSv+/z3Nxzz3nXz3vyz/t9vr+fujlcjz/+eHV4MIT1+sUv7nflFxS6d2euEcpqzJgxps8bbkhwvf76G67i4pJa9VQkqppbu1DXXbN/7Dpx/EStOrihwpVLD+1d6lIy9dV14lIXUI26KiK4fqfhwzAvrDcoKMiF/tWZU6Oe9aO0tMy1Zs0zpi7qr1ixwqV5bKzHNb5PnU51qZBk6qqrx1WpIdSs4hlOTQUG13333ecqLS21qtT4Xnj/QhPOC/Nc9M8LXenK1SoI7Yb5Tp8+3YyF0GRvvPFXZVdsVanxvWHDhur5r3p6tatMQ+y5l8cee8w8V+HEpS4t1zoNc1apY3gWvCcI26dihqtrdIwJO+ZeJyUlxfXrRx4x7xxCnKmDzP2xT9eal8jMBaHM/vCHJ1znzp2r0Q5hzBYtWmTqYB7Ll/+nskmvUcf6gfBx48aNc6m7TEPKxbuW/35ZjT1BPTDTvEemP8wZoQIR5q6ivNzqpvr7tVdfcw0eOMiEhIuKiqoOF1hdweHCr06VhxVIgARIgARIgARIgARIgARIgARIgARIgARIgARIgASaDQGcKJ/X8GCf7vhMsnNzTEinn/1sgQnd5esizpw5K6+/8VfjipmuSe1nzprl2BTOnHE33iTdusYK3C5b//aRZGdlOdZv3aa1/OZfF8twGyeFHm5r0vu+xuWDDiZNmixz586VsNDaYadUQKl2/FzSMG1Z6vaorLzsOG5YeJjM+6f5GkqtdmgxNIKjor+6MRAuDiVFQ7V9+sl2c+30Z9iwYSaEGOZiV77Q0F8fbN5kXBi3z5ppXFBOIbS6REUajm1atxEVenT8FF1PpV23ctddd8u//fvvRPPp2D6PjIgUFfCMoyojPVOdQd9yQWi7zRpCDw4izYMjkydOUlfSVBMGzq4zhIYbPWKUeXTq5Ek5p84nu4JQdpqDR8PaTRM/GwsM5jpS9xzrz8rJlrTM9BrdqOxTvV44nioqKmo8vxY/Nr+/SbZ/XLWnmsNHJk6cIJHK3a4gtNoPp0+X7uqYQtjBt95+2zid7OriHtxM99+/UN1Hg8RfnUCeJSY2RnomJph3G6wsB5NnPc/fFHE8ifA3CZAACZAACZAACZAACZAACZAACZAACZAACZAACTRjAhBSkG+moKDArAIhvKZMmWzCkPm6LIQKU2OAqd4vKUkSEhK8Nk3QUGS9NF8NwrBt3fax5GjINKeCA3rMCeGl7AqeWQUhwKz8PdY992/0gNUnqAAAE8pJREFU4dfST0OxXdJ8I2km74/7c/dr1EVfLfUA3akglFhsTKyKG4GSn1cg58+l2Va12ED0QVg4pwP5o8eOaqi3vUZsmTBhkjnot+1Qb0JEQmi7jh07mNw2mZmZ1Xvg2SY0LFRz4HT2vF39u3PnjgLR6krlFanUvEMuxGq7WiAM7d29VzLSM6Srhge7afw4FVZCrMe1vuN7xMtYDSUGcQlh0fI07JlT6dixY62wbVZdCBddVRBRl4wRaCAmuZdozdujziojHELEQr6epUuXyrZt22xz27i39fU69cwZOXM21YQXvHnaNJMbyakt5qlupep8QvifUCdPtdDk2Q71EYIN33YlPLy9QFzDu4P8QRev5mqyq+t+z/ltda/FaxIgARIgARIgARIgARIgARIgARIgARIgARIgARIggWZBAEIKDputQ/KIiAivB/6ei8rNzVMnz/nq20gwH6W5Q7yVThGdJeqqwyW/IL9aQLJrg0NszNGpWPl68Bxr8ObICFGRJyggyNS7WFwsLptE9tY4GBd9WQKMdd/9GwJTjK4jKDhICi8UmlxB7s+ta/QB902HDh2sW7bf58+nCT6oCzEneEOw2QvPNUFgwr3de/eYcUPahUp6RqajeAFnDRgGBdo7cQKCAqVNQBsj3mBN7gU5X745kSIlygvumL1790o7dTq1btW6lkABYUlDkslxdSWVa56fXHV2FXgRccrLy6vfO/cxcQ2hKzAw6GqumqrcQu51wGjkiBEmL8/WrVvlyy+/lBMnTsgend+uXbtk+PDhmm+mr3RSoaihJSs7S/lekAh9n4cOHVqdA8quP+xJb3XXWM4p7PkZFYG6d+9u2w5csYeVKpz5+9cWKMHSck5BSPP2P+A+H4o47jR4TQIkQAIkQAIkQAIkQAIkQAIkQAIkQAIkQAIkQALNnEDF5Qp1TGSpO6XcuDsg4tSnwAGSpsKDVeD4cHIXWHXahbSTUBUerFKkAkFDizeRxbPPzp06m3HLykvVkaMH5x6ChWf9un5DaGjfsb0EqJsiLy9PMnOcw8Lh0N4Sypz6haMEBXux7qV1sknDecFdVHmlZpg0CC2uKy7RPCxSWlaqIkGgOlIuehWcnMbEfczNSdAC38xcDT3nuiJnz56VtWvXysaNG4244sm+pfIoLimRLA2P10qdNJCDLpWVeRva6zPMy1uJVHHliSeekFWrVonmJzKOlbffekvwGaYizvz58+XGsWMFwiLEFScHlNMYcBKh+Ou7EtI2xNEN5t4eYg4K9jo7O6fOPXdv637tUt7u6/d17hRx3CnymgRIgARIgARIgARIgARIgARIgARIgARIgARIgASaOYGK8goNLZauh82aU0TFAfeDY1+W5udX0yVhHWJ7axum4b3CNXyXVeAyqNAwXq1sHAlWnWvxDeEDh+PXshgBxHSoHFo0LiOJJYrAXXTT+BuNE8Ob8NM7sZfJK5TUv58kqevEF/YNWTty1iDUGvK+xHWPk5gu0bYijtU3mMA9MnLkKInR3EdNVSBsdNOQaytXrpQjR47Km2/+r7z44oty6tQpdePslK/VlYOQeA/+8pdG0OkaE1OvqVj7gUbu1750gn3LyMxQR9K1z9XjbXyKON7o8BkJkAAJkAAJkAAJkAAJkAAJkAAJkAAJkAAJkAAJNDMCyOvSq3cfE7oqP7/AuCjqswQ4RdxzpFwoKqqzeUnJRSkuLqmuhzBjTS3gYLBvM71UD92oC4gVyIUDt0mo5omJUKdPYwpyxMBlA3Gi/6CB8sNbbjE5VuDMsSuoe0VFqeAgDbumIeqaQsTBGNGRXUyOG4hvN0+bKnPn3mPcR5dVePMsWt2IgRA94LYK79Des8o1/W05VBITE+Tee++VqVOnyuHDh+WDTZtly5YtkpWTLWtWr9ZQcoE677kC946vJTKqqi7CnuXl53kN1Wf1aYmgcKMlam6oQA1B9/csFHH+nrQ5FgmQAAmQAAmQAAmQAAmQAAmQAAmQAAmQAAmQAAk0MQEcNnfr1l2s3DIIC4Yk6sg54kuJioqqkfA9U3OzQAxyd9p49pOpDoW0q3l0kPujnTo8rrdiiSne5oUDe+SIyVVmiQmJEt+jh7fqdT7roInuEfLtQtEFKdJcLD169pCYerpH6hyknhUgkkAgCtB8OnAyhbULkwEDBtSzl6avjnlCoMGnX79+0i+pn/TSHDUvqDMn9UyqbFZRp4+KlT+45Qc+TyaiU4SEh4WbfDQpx094zUuDdwHh5oqvhgbE/9MNN9xQndfG50EbWbFxXrBGDs7mJEACJEACJEACJEACJEACJEACJEACJEACJEACJEAC15YARJTo6CgJDg42Hefm5sqnn3xaK2m906hwf8RqzhHkDUFJTk6WY8eOOVU39w8fOij79yUb50j//v1NmC6vDb6Dh3CSVFRcNs4Yp+FPp6bK/oMHzOPorjEyYNAgp6o+3Y/WMGXxcfFSps6eL3d8ISeOH/epXVNWgjjSo2e8hiULNTleDh48JDk5OU05ZKP7DlD3y+Ahg+Wn8+fJ0MFDjGvo5DffCD71Kd01VFushoMrLiqWXV/tVHEy37E5XEnbt22X7KyqPDoQQSEoNYU7ynES+oAijjc6fEYCJEACJEACJEACJEACJEACJEACJEACJEACJEACzYyAvyag760OBbgW4B5IPX1aXv2fV+SCOkHsCsQN62M9x2H1hHETBK6ed959W8NYfWQ9qvGNdsh/89GWrXLw0GEJ0WTzt82YIZHq5rneCkJopaWlSWlpme3UvlFBYMOGDdXP4uLiZOSIEdW/G3LRb0B/GT12jOGbfGCffPrZZ5KZmenYlec+OFZsxAO8HxMmTpI4FZculV+SLR9vkY0b3/MqaDRiOJ+bwvmCMHNW+DK7hsjzFN4hTFqoEOXv36rabWZX1+7eMN3PwUOHSOWVStnx1Rcapu2I5o6qHUIObS+WFMuWv30k6enpZpyePXuafDx2/TblPYo4TUmXfZMACZAACZAACZAACZAACZAACZAACZAACZAACZDAd0AA4s2cOXNl4MCBkl9QIJs+2Cy/fvhf5NTJk7Vmk5z8tSxd8h+y8o9PScFVZwJy6jzw0K9M3RLNdfO6ihtP/3FVrba5efnywAMPyocffmiedYuNlblz5kh0ly616n7XNwqUw3PP/VkFi/9TQatmnp/s7BxZv/41eeaZZ6SkpEQGqwNn4vjx0rZtlZupoXNH+K1bNNzXwP5V4crWrVunc3hO4I6yK3v27JWvdu40YpPd82txD06c3r17y2233Sq9NO9MVlaW/Pa3i836CwtrC30Qlo6rg+jo0aPVocWuxTw8+0hJSTHv4axZM1Xs+tzzsfldpA6anbt2qxBXKu1CQ6RtSP32p3//fjJ69CiBWw1lydIluu715tr9T2ZGhjz11JPywUcf6v9PvkzRvDxLli7z6uJyb38tr5kT51rSZF8kQAIkQAIkQAIkQAIkQAIkQAIkQAIkQAIkQAIkcB0QQP6XKVOm6MH7EUlNPa0H9dny5ttvSU5+rowcOVJiY2LV8VApKeo++XzH56ZedHS0TL/1NgkLD9f8OYHmsHvBgp/Liy++IPsPHJA1/7VGjhw/KoMGDhI/vxZy7nyatk9RUWSjFKpAgrwqCxYs0Hw83a4DArWngLxA27Zt0xBi2fKJhpcboGHf2ga3NYf0Bw4elO3bt2uYrSJ1ePjLnXfeKeMnjK/dSQPuQEj7+X33yZIlS+SkimjP/+UvAtdPYmKiyZcT0LqNccRkZGXKxx9vM/mE7rjjDrl7zt0NGM33JjNmzNR9K5SVK1dJhooWa9aslgMH9kufPn00T06oChZ+UqxulG9OnZSjR46YXDCLFy+WIUOG+D5IPWqeOHFcXnnlVTl56pQUFhbJsGHDpHv3bhKnn+Lii3r/pHz2+WdGUMIeTZo8SUaOGlWPEaqqTpg4UX710MPy7No/yYH9++XJJ1fInj17NARhF4nsHCFp6WmyZ+8e2anh1uCaio+Pl9tn3S69eyXajlVZaTl5Wtg+b+xNijiNJcj2JEACJEACJEACJEACJEACJEACJEACJEACJEACJHAdEmjXLkRmzpyhIaoumXBZhw4fknfeecd8kvr01TBSl+Xo8WNm5nCMJGnieMuhgJvtVcxZtGiR+LX0k03vvy+n9XB97dq1EqN5XhDO6uy5s6ZtGxUhxo8bL7N/NFtmz56tAk/tAFBwcyBUFgryw9jVMQ/1D8JpWSG1KirqCK+lIdJKtT+EBUO4NIzjVJAjKCkpyYg469e/Kq+9tl6iOkdKemaGXCiqcqAkJiTI6DFj5NbbZkgXXadnQf/gBicI1oMx6yrt27eX21UUOnP2jBGKvv76a3nppZcM6+ioaAkKDDRiCUSclsp6xPCRtuuAWIDQdSh1jVupcyzTuqiPedpx6ap5j2bP/pEUXSiW9za9p6HFDssRFWtCQ0MlKiJS/FTEycrJlty8XAkMUFFvzGjbfqy5gAnmaDcW5lzNTvcL9az3Ac9QQkPDZJAKRK01/8327dvMp0OHDpLUt68Rm5L37zP1IlRowR7NVGElPr6HuWf9seaCdWOf7ObSQ0WZhQsXSklxkWxXUW/fvn3mg5w3sdFd5ZiKSRpg0IRQG6SOrHnz5snkKZOtIWp8QyxFyEGUsrKq9etKa9Sxfly5gpxM374v34o/Vg37b4o49lx4lwRIgARIgARIgARIgARIgARIgARIgARIgARIgASaPYG+fZPkscd6y803T5Nly5ZJcnKyCYmVqoIChJTgtm1l+NChMl8Txv/kp/NqhIvCAXViYoKsWPGkTJ40Wf78p7Xy1e6dUqCCh58+w2F/gB5gjxg2Qh5Z/BsZo7lfnAqSwYerKIQSpflyIKg4FYSCg/BRXFysOUjCveY9CQkJkciICLmkYk87zcfjTRyK0HpPP/20pKvr5IXnn5fNmzdLRnamEamC1ZHTq1eC/OSee2SRhodzSl7vp+toq8yQ86dchQKM70uJ6NxJli9fLjt27JC1zz4rb735pllXrjqjcvOresD877h9lvz47jkyfPjwWt2CNdaA8GcQ6LA/TgWCRKdOnbR+nuHutJ4E3d8ly5ZIr7695d1335VkFZhycnLkvLpR0D/EtJ49esq0qTfLgw8/JPFx3WsNaTHAvgaqIOW0B+Z9033HfuH9CQsLq9HX2LFjZZiuG3mJ3lWxEWIX5rJn717TZ9VeR8rUyVPMXHr2qCngoDPsDQo44dpp3d1iu8rq1avlv19ep4LaOtm1e7dxYJ3PSNO8TiFmX+Ese/TRR2W4OoL89Z20K1hTf3V0wbGDdxaCjtO+wD2EPcbeXbpUbpxNdn163muhSlQfvXnI8wF/kwAJkAAJkAAJkAAJkAAJkAAJkAAJkAAJkAAJkAAJ/GMQgAMAuV4QUuz8+fMmWXsndTQgdw0OlQPU/YCPU4Fr4iLaq9vi0KGDmhheTNvIyAgjRkCUgfjiVOA6gCgDtwYO1nHg7XTADgdFXl6ecVFAFIAggQNwu4I1oU84Lqy6niLCjBkzjECBsFgvv/yyOXRHHQgE6RmZpm1nFTzatw83h/AYz6lA1MB44IgxsW5vgpRnP9gHtMe88zX/0OnUVHW5BEhMTEyVKKbXWIe/fysVA2q2xh4grw/mAIEC4zoJBmWYo37AEsKCN0EDo8Adhf4LCwtNaLX09HQNq9de9zjKiECtdD5BwUG2e4a1FGkYOjCFSOEkZICXxQ5rwPuG+p4Fc4GL6LKywnsAd1C4vi8QZsJV+IEryJe5YM0Yw/N9cB/PjKXjIUdSmq4ZuXBiVeDBfuCdQx/e3musCczg/IGLDXvi7mZzHwv/A9be4z5ELMvF417P85oijicR/iYBEiABEiABEiABEiABEiABEiABEiABEiABEiCBf2ACOHiGCBGgYkFLPXivb8HBN4o30ae+fVr1MTcnYcKqU99vS8SJi4uTdevWySjNo2KJQpUqJiD6FcKYNbQ0Zs441IeY5XTw39A5Naad9X60VvGnlYN4ZvXfmLVbfdT1DZGotYbsa9XKXsiz2jd2LngXIH7VR5Szxm7oty9z9r7qho7MdiRAAiRAAiRAAiRAAiRAAiRAAiRAAiRAAiRAAiRAAtclAYgkjTmobgrxxgJ1rQUcq1/3bzgiLBGnISKWe1+4bsyc4bq53kp93o/GrN3Xdfv6rjZ2LngXfB3L17nXVc+XOTdcXqxrdD4nARIgARIgARIgARIgARIgARIgARIgARIgARIgARIgARIgARJoMAGKOA1Gx4YkQAIkQAIkQAIkQAIkQAIkQAIkQAIkQAIkQAIkQAIkQAIk0HQEKOI0HVv2TAIkQAIkQAIkQAIkQAIkQAIkQAIkQAIkQAIkQAIk8B0TuHz5splBxdXv73g6HJ4E6kWAIk69cLEyCZAACZAACZAACZAACZAACZAACZAACZAACZAACZBAcyIQGREhbVq3kZioLoJ8OFc0gT0LCTQXAv7NZaKcJwmQAAmQAAmQAAmQAAmQAAmQAAmQAAmQAAmQAAmQAAnUl8DECRMlJDhEukR3kfDwcPHTBPYsJNBcCLRwuVx9dLKHmsuEOU8SIAESIAESIAESIAESIAESIAESIAESIAESIAESIAESIAES+D4QoOT4fdhlrpEESIAESIAESIAESIAESIAESIAESIAESIAESIAESIAESKDZEaCI0+y2jBMmARIgARIgARIgARIgARIgARIgARIgARIgARIgARIgARL4PhD4f4k1vOQqI7i3AAAAAElFTkSuQmCC)"
      ]
    },
    {
      "cell_type": "markdown",
      "metadata": {
        "id": "rCz4xjUP6AZE"
      },
      "source": [
        "Python сначала пытается проверить метод `__iter__`, если не находит пытается воспользоваться `__getitem__`."
      ]
    },
    {
      "cell_type": "markdown",
      "metadata": {
        "id": "W3WCIruHLgCa"
      },
      "source": [
        "- `__getitem__` работают только для `int` ключей\n",
        "- `__iter__` - сослаться на какой-то другой итератор, как это делает list\n",
        "- `__next__` - самому описать логику возвращения следующего элемента"
      ]
    },
    {
      "cell_type": "markdown",
      "metadata": {
        "id": "d3B74fap7gpP"
      },
      "source": [
        "### Итерируемый объект"
      ]
    },
    {
      "cell_type": "markdown",
      "metadata": {
        "id": "pjw4ZxU-LVPz"
      },
      "source": [
        "Словарь итерируется по ключам"
      ]
    },
    {
      "cell_type": "markdown",
      "metadata": {
        "id": "HzNMuSavLYcT"
      },
      "source": [
        "Хотим свой словарь, который итерируется по значениям. Как сделать заготовку похожую на словарь и добавить к ней своё видение?\n",
        "\n",
        "Наследование!))\n",
        "\n",
        "\n",
        "```python\n",
        "class MyDict(dict):\n",
        "    def __init__(self, dict_):\n",
        "        super().__init__(dict_)\n",
        "```\n",
        "\n",
        "Полная копия словаря, которая ничем не отличается от встроенного словаря. Только названием класса"
      ]
    },
    {
      "cell_type": "code",
      "metadata": {
        "id": "UD-GteffLSAB",
        "colab": {
          "base_uri": "https://localhost:8080/"
        },
        "outputId": "a4d9f9d5-ab23-4374-cf7f-abc02d60869c"
      },
      "source": [
        "dict_ = {i: i ** 2 for i in range(10)}\n",
        "for key in dict_:\n",
        "    print(key)"
      ],
      "execution_count": null,
      "outputs": [
        {
          "output_type": "stream",
          "text": [
            "0\n",
            "1\n",
            "2\n",
            "3\n",
            "4\n",
            "5\n",
            "6\n",
            "7\n",
            "8\n",
            "9\n"
          ],
          "name": "stdout"
        }
      ]
    },
    {
      "cell_type": "code",
      "metadata": {
        "id": "rgOsN2WDLb-2"
      },
      "source": [
        "class MyDict(dict):\n",
        "    def __iter__(self): # -> iterator\n",
        "        return iter(self.values())"
      ],
      "execution_count": null,
      "outputs": []
    },
    {
      "cell_type": "code",
      "metadata": {
        "id": "SHQ6ovHhUxqj"
      },
      "source": [
        "dict_without_init = MyDict(dict_)"
      ],
      "execution_count": null,
      "outputs": []
    },
    {
      "cell_type": "code",
      "metadata": {
        "colab": {
          "base_uri": "https://localhost:8080/"
        },
        "id": "lDC65VaVU6yx",
        "outputId": "46498558-f030-4bf7-818a-3467a3f97d21"
      },
      "source": [
        "for item in dict_without_init:\n",
        "    print(item)\n"
      ],
      "execution_count": null,
      "outputs": [
        {
          "output_type": "stream",
          "text": [
            "0\n",
            "1\n",
            "4\n",
            "9\n",
            "16\n",
            "25\n",
            "36\n",
            "49\n",
            "64\n",
            "81\n"
          ],
          "name": "stdout"
        }
      ]
    },
    {
      "cell_type": "code",
      "metadata": {
        "colab": {
          "base_uri": "https://localhost:8080/"
        },
        "id": "sKl4H91eVgzU",
        "outputId": "4d9b5392-9246-4ebe-8e44-2787138f4488"
      },
      "source": [
        "print(type(dict_without_init.values()))"
      ],
      "execution_count": null,
      "outputs": [
        {
          "output_type": "stream",
          "text": [
            "<class 'dict_values'>\n"
          ],
          "name": "stdout"
        }
      ]
    },
    {
      "cell_type": "code",
      "metadata": {
        "colab": {
          "base_uri": "https://localhost:8080/"
        },
        "id": "xloo8RUwVlpQ",
        "outputId": "6835faa7-f876-41a3-8361-63a3202ff6a0"
      },
      "source": [
        "print(type(iter(dict_without_init.values())))"
      ],
      "execution_count": null,
      "outputs": [
        {
          "output_type": "stream",
          "text": [
            "<class 'dict_valueiterator'>\n"
          ],
          "name": "stdout"
        }
      ]
    },
    {
      "cell_type": "code",
      "metadata": {
        "colab": {
          "base_uri": "https://localhost:8080/"
        },
        "id": "4WLc0OCqVT4s",
        "outputId": "f23d5fbf-8c69-4db9-d7f2-d7ef133dce1c"
      },
      "source": [
        "dict_without_init.values()"
      ],
      "execution_count": null,
      "outputs": [
        {
          "output_type": "execute_result",
          "data": {
            "text/plain": [
              "dict_values([0, 1, 4, 9, 16, 25, 36, 49, 64, 81])"
            ]
          },
          "metadata": {
            "tags": []
          },
          "execution_count": 8
        }
      ]
    },
    {
      "cell_type": "code",
      "metadata": {
        "colab": {
          "base_uri": "https://localhost:8080/"
        },
        "id": "cnLV1E2YWkhB",
        "outputId": "88e35889-cf3f-4200-d521-d9270400d0de"
      },
      "source": [
        "iter(dict(dict_))"
      ],
      "execution_count": null,
      "outputs": [
        {
          "output_type": "execute_result",
          "data": {
            "text/plain": [
              "<dict_keyiterator at 0x7f539be3aea8>"
            ]
          },
          "metadata": {
            "tags": []
          },
          "execution_count": 20
        }
      ]
    },
    {
      "cell_type": "markdown",
      "metadata": {
        "id": "bfl6K0mn6gWi"
      },
      "source": [
        "В данном случае мы не риализуем логику обхода элементов, мы возвращаем итератор."
      ]
    },
    {
      "cell_type": "markdown",
      "metadata": {
        "id": "bTVyREmV7Q_2"
      },
      "source": [
        "Давайте попробуем реализовать итератор, тот объект у которого определен метод `__next__`, а значит и логика обхода."
      ]
    },
    {
      "cell_type": "markdown",
      "metadata": {
        "id": "E_-rXWN37mV5"
      },
      "source": [
        "###  Итератор"
      ]
    },
    {
      "cell_type": "markdown",
      "metadata": {
        "id": "p9DDEapY70oq"
      },
      "source": [
        "Файл по умолчанию итерируется по строкам. Хочу такой итератор файла, который будет считывать и возвращать по n символов."
      ]
    },
    {
      "cell_type": "markdown",
      "metadata": {
        "id": "vcpg265r8yj6"
      },
      "source": [
        "`f.read(n)` – операция, читающая с текущего места **n** символов и возвращающая прочитанную информацию.\n",
        "\n",
        "Что будет если дойти до конца файла с помощью функции read?\n"
      ]
    },
    {
      "cell_type": "code",
      "metadata": {
        "colab": {
          "base_uri": "https://localhost:8080/"
        },
        "id": "C7_yWbYPYSNb",
        "outputId": "c0b75105-8557-400d-885c-c8a25715e15b"
      },
      "source": [
        "FILENAME = 'test.txt'\n",
        "\n",
        "with open(FILENAME) as f:\n",
        "    for i in range(15):\n",
        "        print(repr(f.read(1)))"
      ],
      "execution_count": null,
      "outputs": [
        {
          "output_type": "stream",
          "text": [
            "'0'\n",
            "'1'\n",
            "'2'\n",
            "'3'\n",
            "'4'\n",
            "'\\n'\n",
            "'5'\n",
            "'6'\n",
            "'7'\n",
            "'8'\n",
            "'9'\n",
            "''\n",
            "''\n",
            "''\n",
            "''\n"
          ],
          "name": "stdout"
        }
      ]
    },
    {
      "cell_type": "code",
      "metadata": {
        "id": "EcU1K9sbR8lE"
      },
      "source": [
        "FILENAME = 'test.txt'\n",
        "\n",
        "\n",
        "class MyFile:\n",
        "    def __init__(self, filename, buf_size=1):\n",
        "        self.__filename = filename\n",
        "        self.__buf_size = buf_size\n",
        "\n",
        "    def __iter__(self): # -> iterator\n",
        "        # открыть файл\n",
        "        print(\"Вызван итератор\")\n",
        "        self.__file = open(self.__filename)\n",
        "        return self\n",
        "\n",
        "\n",
        "    def __next__(self):\n",
        "        print(\"Вызван next\")\n",
        "        buf = self.__file.read(self.__buf_size)\n",
        "        if buf:\n",
        "            return buf\n",
        "        else:\n",
        "            raise StopIteration() \n"
      ],
      "execution_count": null,
      "outputs": []
    },
    {
      "cell_type": "code",
      "metadata": {
        "id": "OV50eGjadNbC"
      },
      "source": [
        "class MyDict(dict):\n",
        "    def __iter__(self): # -> iterator\n",
        "        return iter(self.values())"
      ],
      "execution_count": null,
      "outputs": []
    },
    {
      "cell_type": "code",
      "metadata": {
        "id": "CpTTkyNwZ4uu"
      },
      "source": [
        "my_file = MyFile(FILENAME)"
      ],
      "execution_count": null,
      "outputs": []
    },
    {
      "cell_type": "code",
      "metadata": {
        "id": "T3KkonhiZ-Li",
        "colab": {
          "base_uri": "https://localhost:8080/"
        },
        "outputId": "d328517e-63c0-4308-d89c-60ea632e09b1"
      },
      "source": [
        "iter(my_file) is my_file"
      ],
      "execution_count": null,
      "outputs": [
        {
          "output_type": "stream",
          "text": [
            "Вызван итератор\n"
          ],
          "name": "stdout"
        },
        {
          "output_type": "execute_result",
          "data": {
            "text/plain": [
              "True"
            ]
          },
          "metadata": {
            "tags": []
          },
          "execution_count": 51
        }
      ]
    },
    {
      "cell_type": "code",
      "metadata": {
        "id": "pTCkwZ4eawTk",
        "colab": {
          "base_uri": "https://localhost:8080/"
        },
        "outputId": "a0c77085-fe4b-4a14-f924-060cddc5c67f"
      },
      "source": [
        "i = 0\n",
        "for char in my_file:\n",
        "    print(char)\n",
        "    i += 1\n",
        "    if i == 20:\n",
        "        break"
      ],
      "execution_count": null,
      "outputs": [
        {
          "output_type": "stream",
          "text": [
            "Вызван итератор\n",
            "Вызван next\n",
            "0\n",
            "Вызван next\n",
            "1\n",
            "Вызван next\n",
            "2\n",
            "Вызван next\n",
            "3\n",
            "Вызван next\n",
            "4\n",
            "Вызван next\n",
            "\n",
            "\n",
            "Вызван next\n",
            "5\n",
            "Вызван next\n",
            "6\n",
            "Вызван next\n",
            "7\n",
            "Вызван next\n",
            "8\n",
            "Вызван next\n",
            "9\n",
            "Вызван next\n"
          ],
          "name": "stdout"
        }
      ]
    },
    {
      "cell_type": "code",
      "metadata": {
        "id": "9OXfFj3mbQ7Y",
        "colab": {
          "base_uri": "https://localhost:8080/"
        },
        "outputId": "56008502-d6aa-4598-c14c-d00dc8381a2d"
      },
      "source": [
        "i = 0\n",
        "for char in my_file:\n",
        "    print(char)\n",
        "    i += 1\n",
        "    if i == 5:\n",
        "        break"
      ],
      "execution_count": null,
      "outputs": [
        {
          "output_type": "stream",
          "text": [
            "Вызван итератор\n",
            "Вызван next\n",
            "0\n",
            "Вызван next\n",
            "1\n",
            "Вызван next\n",
            "2\n",
            "Вызван next\n",
            "3\n",
            "Вызван next\n",
            "4\n"
          ],
          "name": "stdout"
        }
      ]
    },
    {
      "cell_type": "markdown",
      "metadata": {
        "id": "9lQNm1Kh9IB3"
      },
      "source": [
        "Вообще переопределять функцию `__next__` довольно не простое занятие, которое в основном заточено на использование внутреннего представления объекта."
      ]
    },
    {
      "cell_type": "code",
      "metadata": {
        "id": "EjhF7TphZDOW"
      },
      "source": [
        "class Count:\n",
        "    def __init__(self, start, step):\n",
        "        self.__start = start\n",
        "        self.__step = step\n",
        "\n",
        "    def __iter__(self):\n",
        "        \"\"\"Инициализируем начальные условия\"\"\"\n",
        "        self.__current_num = ...\n",
        "        ...\n",
        "\n",
        "    def __next__(self):\n",
        "        ..."
      ],
      "execution_count": null,
      "outputs": []
    },
    {
      "cell_type": "code",
      "metadata": {
        "id": "PZNbtsq3-Fw1"
      },
      "source": [
        "for num in Count(0, 1):\n",
        "    print(num)\n",
        "    if num > 10:\n",
        "        break"
      ],
      "execution_count": null,
      "outputs": []
    },
    {
      "cell_type": "markdown",
      "metadata": {
        "id": "AApbGUyd9l-5"
      },
      "source": [
        "Выглядит сложно и запутанно((( Вот бы функция умела внутри себя сохранять свой контекст, и при необходимости возвращать его... \n",
        "\n",
        "Ничего не напоминает?"
      ]
    },
    {
      "cell_type": "code",
      "metadata": {
        "id": "IHyvmZqI-ITm"
      },
      "source": [
        "# Функция-генератор"
      ],
      "execution_count": null,
      "outputs": []
    },
    {
      "cell_type": "markdown",
      "metadata": {
        "id": "GhV-JiWa-XSY"
      },
      "source": [
        "### Итерируемый LinkedList"
      ]
    },
    {
      "cell_type": "code",
      "metadata": {
        "id": "lozP95pb5HE2"
      },
      "source": [
        "# PyCharm"
      ],
      "execution_count": null,
      "outputs": []
    },
    {
      "cell_type": "markdown",
      "metadata": {
        "id": "BMr_vbw9BagG"
      },
      "source": [
        "# Объектно-ориентированное программирование (ООП) на языке Python. Время жизни объекта"
      ]
    },
    {
      "cell_type": "markdown",
      "metadata": {
        "id": "jRmMTez_BgnE"
      },
      "source": [
        "Время жизни объекта - это время с момента создания объекта до его уничтожения."
      ]
    },
    {
      "cell_type": "markdown",
      "metadata": {
        "id": "gTr3QhQ8Bhn0"
      },
      "source": [
        "Объект начинает существовать после успешного завершения `__init__`.\n",
        "\n",
        "\n",
        "```python\n",
        "class Glass:\n",
        "    def __init__(self, capacity_volume):\n",
        "        if not isinstance(capacity_volume, (int, float)):\n",
        "            raise TypeError('Capacity volume must be int or float')\n",
        "        if capacity_volume < 0:\n",
        "            raise ValueError('Capacity volume must be more then zero')\n",
        "        self.capacity_volume = capacity_volume```\n",
        "\n"
      ]
    },
    {
      "cell_type": "code",
      "metadata": {
        "id": "xE3o1_jzCDL4"
      },
      "source": [
        "glass = Glass(10) # OK\n",
        "glass = Glass() # TypeError: __init__() missing 1 required positional argument: 'capacity_volume'\n",
        "glass = Glass('Capacity') # TypeError: Capacity volume must be int or float\n",
        "glass = Glass(-50) # ValueError: Capacity volume must be more than zero"
      ],
      "execution_count": null,
      "outputs": []
    },
    {
      "cell_type": "markdown",
      "metadata": {
        "id": "sWQT2EbZBomZ"
      },
      "source": [
        "Только в первом случае объект glass стал существовать.\n",
        "\n",
        "В остальных случаях объект не сконструирован (такими объектом пользоваться нельзя)."
      ]
    },
    {
      "cell_type": "markdown",
      "metadata": {
        "id": "sKhPQ49cCJAI"
      },
      "source": [
        "Неверное проектирование __init__\n",
        "\n",
        "```python\n",
        "class Glass:\n",
        "    def __init__(self, capacity_volume):\n",
        "        if not isinstance(capacity_volume, (int, float)):\n",
        "            return\n",
        "        if capacity_volume < 0:\n",
        "            return\n",
        "        self.capacity_volume = capacity_volume\n",
        "```\n",
        "\n"
      ]
    },
    {
      "cell_type": "markdown",
      "metadata": {
        "id": "FDvYuzxICfLD"
      },
      "source": [
        "- В результате вызова __init__ объект может быть создан или не создан.\n",
        "- Пользователь Вашего класса определяет успешность создания объекта\n",
        "отсутствием исключений.\n",
        "- Если при создании объекта было выброшено исключение, то объектом пользоваться нельзя.\n",
        "- Если при создании объекта НЕ было выброшено исключение, то объектом пользоваться\n",
        "можно."
      ]
    },
    {
      "cell_type": "markdown",
      "metadata": {
        "id": "gMJD3UEZCqdn"
      },
      "source": [
        "## Уничтожение (деструкция) объекта"
      ]
    },
    {
      "cell_type": "markdown",
      "metadata": {
        "id": "KkCH9QQ8DC82"
      },
      "source": [
        "### Алгоритмы сборки мусора\n",
        "\n",
        "Стандартный интерпретатор питона (CPython) использует сразу два алгоритма, подсчет ссылок и generational garbage collector (далее GC), более известный как стандартный модуль gc из Python.\n",
        "\n",
        "Алгоритм подсчета ссылок очень простой и эффективный, но у него есть один большой недостаток. Он не умеет определять циклические ссылки. Именно из-за этого, в питоне существует дополнительный сборщик, именуемый поколенческий GC, который следит за объектами с потенциальными циклическими ссылками.\n",
        "\n",
        "В Python, алгоритм подсчета ссылок является фундаментальным и не может отключен, тогда как GC опционален и может быть отключен."
      ]
    },
    {
      "cell_type": "markdown",
      "metadata": {
        "id": "nHqvuQWBCu2L"
      },
      "source": [
        "Деструкция и уничтожение объекта в Python не регламентирована для разработчика,\n",
        "т.е. разработчик не может вручную удалить объект."
      ]
    },
    {
      "cell_type": "markdown",
      "metadata": {
        "id": "89MiozebCxBL"
      },
      "source": [
        "Разработчик может лишь удалить ссылку на объект, но уничтожение объекта будет выполнено\n",
        "сборщиком мусора."
      ]
    },
    {
      "cell_type": "markdown",
      "metadata": {
        "id": "jxYLDA_KDPv6"
      },
      "source": [
        "### Алгоритм подсчета ссылок\n"
      ]
    },
    {
      "cell_type": "markdown",
      "metadata": {
        "id": "S4lS0FmzDVsJ"
      },
      "source": [
        "Алгоритм подсчета ссылок это одна из самых простых техник для сборки мусора. Объекты удаляются как только на них больше нет ссылок.\n",
        "\n",
        "В Python, переменные не хранят значения, а выступают в роли ссылок на объекты. То есть когда вы присваивайте значение новой переменной, то сначала создается объект с этим значением, а уже потом переменная начинает ссылаться на него. На один объект может ссылаться множество переменных.\n"
      ]
    },
    {
      "cell_type": "markdown",
      "metadata": {
        "id": "PIN9mrv3DaZd"
      },
      "source": [
        "Примеры, когда количество ссылок увеличивается:\n",
        "\n",
        "- оператор присваивания\n",
        "- передача аргументов\n",
        "- конструция вида foo = bar (foo начинается ссылаться на тот же объект, что и bar)\n",
        "- вставка нового объекта в лист \n",
        "(увеличивается количество ссылок для объекта)"
      ]
    },
    {
      "cell_type": "markdown",
      "metadata": {
        "id": "1pqXgey9DlWH"
      },
      "source": [
        "`sys.getrefcount` функция для получения количества ссылкок на объект."
      ]
    },
    {
      "cell_type": "code",
      "metadata": {
        "id": "JhMNCMFuEQm_"
      },
      "source": [
        "import sys"
      ],
      "execution_count": null,
      "outputs": []
    },
    {
      "cell_type": "code",
      "metadata": {
        "id": "R5L5LC_ABdqs"
      },
      "source": [
        "a = 10345"
      ],
      "execution_count": null,
      "outputs": []
    },
    {
      "cell_type": "code",
      "metadata": {
        "colab": {
          "base_uri": "https://localhost:8080/"
        },
        "id": "-5108cg6EQI5",
        "outputId": "a7bac694-d7dd-452a-89ea-30973db22b8c"
      },
      "source": [
        "sys.getrefcount(a)"
      ],
      "execution_count": null,
      "outputs": [
        {
          "output_type": "execute_result",
          "data": {
            "text/plain": [
              "2"
            ]
          },
          "metadata": {
            "tags": []
          },
          "execution_count": 68
        }
      ]
    },
    {
      "cell_type": "code",
      "metadata": {
        "id": "3JA74eqZyIVI"
      },
      "source": [
        "b = a"
      ],
      "execution_count": null,
      "outputs": []
    },
    {
      "cell_type": "code",
      "metadata": {
        "id": "tPo7XZYLyJ9P",
        "colab": {
          "base_uri": "https://localhost:8080/"
        },
        "outputId": "ba374a64-02f3-45f0-d3e8-3f8b4b03aa21"
      },
      "source": [
        "sys.getrefcount(a)"
      ],
      "execution_count": null,
      "outputs": [
        {
          "output_type": "execute_result",
          "data": {
            "text/plain": [
              "3"
            ]
          },
          "metadata": {
            "tags": []
          },
          "execution_count": 70
        }
      ]
    },
    {
      "cell_type": "code",
      "metadata": {
        "id": "QAIjgDsnyMD7",
        "colab": {
          "base_uri": "https://localhost:8080/"
        },
        "outputId": "7c319e5e-923f-466c-96ee-f08ada2c073c"
      },
      "source": [
        "sys.getrefcount(b)"
      ],
      "execution_count": null,
      "outputs": [
        {
          "output_type": "execute_result",
          "data": {
            "text/plain": [
              "3"
            ]
          },
          "metadata": {
            "tags": []
          },
          "execution_count": 71
        }
      ]
    },
    {
      "cell_type": "code",
      "metadata": {
        "id": "4KhHBTe1yQfR"
      },
      "source": [
        "del a"
      ],
      "execution_count": null,
      "outputs": []
    },
    {
      "cell_type": "code",
      "metadata": {
        "id": "pkQNyYxlyTtA",
        "colab": {
          "base_uri": "https://localhost:8080/"
        },
        "outputId": "af20bb5a-90d3-4edf-9f32-0811e6e9fed3"
      },
      "source": [
        "sys.getrefcount(b)"
      ],
      "execution_count": null,
      "outputs": [
        {
          "output_type": "execute_result",
          "data": {
            "text/plain": [
              "2"
            ]
          },
          "metadata": {
            "tags": []
          },
          "execution_count": 73
        }
      ]
    },
    {
      "cell_type": "markdown",
      "metadata": {
        "id": "TWWu99MxyTKw"
      },
      "source": [
        ""
      ]
    },
    {
      "cell_type": "markdown",
      "metadata": {
        "id": "8pe0Z5pIEYyr"
      },
      "source": [
        "Почему 2 ссылки?? \n",
        "Переменная объявлена один раз...\n",
        "\n",
        "[Не забываем про документацию](https://docs.python.org/3/library/sys.html#sys.getrefcount)"
      ]
    },
    {
      "cell_type": "code",
      "metadata": {
        "colab": {
          "base_uri": "https://localhost:8080/"
        },
        "id": "gleJh4s1F7DJ",
        "outputId": "209978cd-c1d0-4057-ff23-1014675c9e4a"
      },
      "source": [
        "for i in range(260):\n",
        "    print(i, sys.getrefcount(i))"
      ],
      "execution_count": null,
      "outputs": [
        {
          "output_type": "stream",
          "text": [
            "0 9742\n",
            "1 8294\n",
            "2 2508\n",
            "3 1304\n",
            "4 1043\n",
            "5 662\n",
            "6 552\n",
            "7 363\n",
            "8 571\n",
            "9 339\n",
            "10 435\n",
            "11 261\n",
            "12 252\n",
            "13 125\n",
            "14 118\n",
            "15 140\n",
            "16 287\n",
            "17 123\n",
            "18 96\n",
            "19 110\n",
            "20 475\n",
            "21 122\n",
            "22 128\n",
            "23 122\n",
            "24 110\n",
            "25 83\n",
            "26 69\n",
            "27 70\n",
            "28 73\n",
            "29 75\n",
            "30 114\n",
            "31 90\n",
            "32 197\n",
            "33 61\n",
            "34 47\n",
            "35 75\n",
            "36 40\n",
            "37 62\n",
            "38 114\n",
            "39 118\n",
            "40 182\n",
            "41 37\n",
            "42 34\n",
            "43 38\n",
            "44 37\n",
            "45 40\n",
            "46 40\n",
            "47 40\n",
            "48 70\n",
            "49 57\n",
            "50 88\n",
            "51 49\n",
            "52 38\n",
            "53 165\n",
            "54 89\n",
            "55 36\n",
            "56 38\n",
            "57 49\n",
            "58 32\n",
            "59 38\n",
            "60 68\n",
            "61 35\n",
            "62 26\n",
            "63 35\n",
            "64 156\n",
            "65 45\n",
            "66 36\n",
            "67 33\n",
            "68 36\n",
            "69 25\n",
            "70 38\n",
            "71 35\n",
            "72 70\n",
            "73 35\n",
            "74 29\n",
            "75 37\n",
            "76 44\n",
            "77 31\n",
            "78 39\n",
            "79 36\n",
            "80 74\n",
            "81 32\n",
            "82 27\n",
            "83 21\n",
            "84 21\n",
            "85 24\n",
            "86 22\n",
            "87 20\n",
            "88 35\n",
            "89 28\n",
            "90 78\n",
            "91 30\n",
            "92 29\n",
            "93 29\n",
            "94 20\n",
            "95 146\n",
            "96 28\n",
            "97 44\n",
            "98 34\n",
            "99 26\n",
            "100 175\n",
            "101 45\n",
            "102 33\n",
            "103 34\n",
            "104 39\n",
            "105 39\n",
            "106 31\n",
            "107 33\n",
            "108 33\n",
            "109 20\n",
            "110 35\n",
            "111 38\n",
            "112 33\n",
            "113 35\n",
            "114 35\n",
            "115 36\n",
            "116 23\n",
            "117 41\n",
            "118 41\n",
            "119 29\n",
            "120 30\n",
            "121 22\n",
            "122 37\n",
            "123 22\n",
            "124 23\n",
            "125 27\n",
            "126 24\n",
            "127 51\n",
            "128 148\n",
            "129 23\n",
            "130 24\n",
            "131 17\n",
            "132 19\n",
            "133 13\n",
            "134 10\n",
            "135 122\n",
            "136 12\n",
            "137 13\n",
            "138 16\n",
            "139 13\n",
            "140 14\n",
            "141 12\n",
            "142 12\n",
            "143 13\n",
            "144 13\n",
            "145 11\n",
            "146 11\n",
            "147 12\n",
            "148 15\n",
            "149 11\n",
            "150 9\n",
            "151 11\n",
            "152 11\n",
            "153 11\n",
            "154 10\n",
            "155 10\n",
            "156 10\n",
            "157 10\n",
            "158 12\n",
            "159 8\n",
            "160 12\n",
            "161 16\n",
            "162 15\n",
            "163 15\n",
            "164 13\n",
            "165 15\n",
            "166 14\n",
            "167 14\n",
            "168 16\n",
            "169 19\n",
            "170 17\n",
            "171 13\n",
            "172 13\n",
            "173 15\n",
            "174 18\n",
            "175 125\n",
            "176 16\n",
            "177 13\n",
            "178 14\n",
            "179 12\n",
            "180 38\n",
            "181 20\n",
            "182 17\n",
            "183 13\n",
            "184 14\n",
            "185 14\n",
            "186 13\n",
            "187 14\n",
            "188 14\n",
            "189 12\n",
            "190 10\n",
            "191 14\n",
            "192 17\n",
            "193 13\n",
            "194 14\n",
            "195 14\n",
            "196 14\n",
            "197 13\n",
            "198 16\n",
            "199 11\n",
            "200 28\n",
            "201 13\n",
            "202 15\n",
            "203 13\n",
            "204 14\n",
            "205 31\n",
            "206 14\n",
            "207 14\n",
            "208 18\n",
            "209 12\n",
            "210 12\n",
            "211 11\n",
            "212 14\n",
            "213 14\n",
            "214 12\n",
            "215 123\n",
            "216 13\n",
            "217 13\n",
            "218 14\n",
            "219 13\n",
            "220 11\n",
            "221 11\n",
            "222 13\n",
            "223 13\n",
            "224 14\n",
            "225 13\n",
            "226 13\n",
            "227 11\n",
            "228 11\n",
            "229 20\n",
            "230 11\n",
            "231 10\n",
            "232 11\n",
            "233 11\n",
            "234 12\n",
            "235 13\n",
            "236 11\n",
            "237 10\n",
            "238 13\n",
            "239 11\n",
            "240 13\n",
            "241 13\n",
            "242 12\n",
            "243 14\n",
            "244 14\n",
            "245 12\n",
            "246 11\n",
            "247 13\n",
            "248 14\n",
            "249 13\n",
            "250 14\n",
            "251 15\n",
            "252 14\n",
            "253 13\n",
            "254 17\n",
            "255 209\n",
            "256 409\n",
            "257 3\n",
            "258 3\n",
            "259 3\n",
            "260 3\n",
            "261 3\n",
            "262 3\n",
            "263 3\n",
            "264 3\n",
            "265 3\n",
            "266 3\n",
            "267 3\n",
            "268 3\n",
            "269 3\n",
            "270 3\n",
            "271 3\n",
            "272 3\n",
            "273 3\n",
            "274 3\n",
            "275 3\n",
            "276 3\n",
            "277 3\n",
            "278 3\n",
            "279 3\n",
            "280 3\n",
            "281 3\n",
            "282 3\n",
            "283 3\n",
            "284 3\n",
            "285 3\n",
            "286 3\n",
            "287 3\n",
            "288 3\n",
            "289 3\n",
            "290 3\n",
            "291 3\n",
            "292 3\n",
            "293 3\n",
            "294 3\n",
            "295 3\n",
            "296 3\n",
            "297 3\n",
            "298 3\n",
            "299 3\n",
            "300 3\n",
            "301 3\n",
            "302 3\n",
            "303 3\n",
            "304 3\n",
            "305 3\n",
            "306 3\n",
            "307 3\n",
            "308 3\n",
            "309 3\n",
            "310 3\n",
            "311 3\n",
            "312 3\n",
            "313 3\n",
            "314 3\n",
            "315 3\n",
            "316 3\n",
            "317 3\n",
            "318 3\n",
            "319 3\n",
            "320 3\n",
            "321 3\n",
            "322 3\n",
            "323 3\n",
            "324 3\n",
            "325 3\n",
            "326 3\n",
            "327 3\n",
            "328 3\n",
            "329 3\n",
            "330 3\n",
            "331 3\n",
            "332 3\n",
            "333 3\n",
            "334 3\n",
            "335 3\n",
            "336 3\n",
            "337 3\n",
            "338 3\n",
            "339 3\n",
            "340 3\n",
            "341 3\n",
            "342 3\n",
            "343 3\n",
            "344 3\n",
            "345 3\n",
            "346 3\n",
            "347 3\n",
            "348 3\n",
            "349 3\n",
            "350 3\n",
            "351 3\n",
            "352 3\n",
            "353 3\n",
            "354 3\n",
            "355 3\n",
            "356 3\n",
            "357 3\n",
            "358 3\n",
            "359 3\n",
            "360 3\n",
            "361 3\n",
            "362 3\n",
            "363 3\n",
            "364 3\n",
            "365 3\n",
            "366 3\n",
            "367 3\n",
            "368 3\n",
            "369 3\n",
            "370 3\n",
            "371 3\n",
            "372 3\n",
            "373 3\n",
            "374 3\n",
            "375 3\n",
            "376 3\n",
            "377 3\n",
            "378 3\n",
            "379 3\n",
            "380 3\n",
            "381 3\n",
            "382 3\n",
            "383 3\n",
            "384 3\n",
            "385 3\n",
            "386 3\n",
            "387 3\n",
            "388 3\n",
            "389 3\n",
            "390 3\n",
            "391 3\n",
            "392 3\n",
            "393 3\n",
            "394 3\n",
            "395 3\n",
            "396 3\n",
            "397 3\n",
            "398 3\n",
            "399 3\n",
            "400 3\n",
            "401 3\n",
            "402 3\n",
            "403 3\n",
            "404 3\n",
            "405 3\n",
            "406 3\n",
            "407 3\n",
            "408 3\n",
            "409 3\n",
            "410 3\n",
            "411 3\n",
            "412 3\n",
            "413 3\n",
            "414 3\n",
            "415 3\n",
            "416 3\n",
            "417 3\n",
            "418 3\n",
            "419 3\n",
            "420 3\n",
            "421 3\n",
            "422 3\n",
            "423 3\n",
            "424 3\n",
            "425 3\n",
            "426 3\n",
            "427 3\n",
            "428 3\n",
            "429 3\n",
            "430 3\n",
            "431 3\n",
            "432 3\n",
            "433 3\n",
            "434 3\n",
            "435 3\n",
            "436 3\n",
            "437 3\n",
            "438 3\n",
            "439 3\n",
            "440 3\n",
            "441 3\n",
            "442 3\n",
            "443 3\n",
            "444 3\n",
            "445 3\n",
            "446 3\n",
            "447 3\n",
            "448 3\n",
            "449 3\n",
            "450 3\n",
            "451 3\n",
            "452 3\n",
            "453 3\n",
            "454 3\n",
            "455 3\n",
            "456 3\n",
            "457 3\n",
            "458 3\n",
            "459 3\n",
            "460 3\n",
            "461 3\n",
            "462 3\n",
            "463 3\n",
            "464 3\n",
            "465 3\n",
            "466 3\n",
            "467 3\n",
            "468 3\n",
            "469 3\n",
            "470 3\n",
            "471 3\n",
            "472 3\n",
            "473 3\n",
            "474 3\n",
            "475 3\n",
            "476 3\n",
            "477 3\n",
            "478 3\n",
            "479 3\n",
            "480 3\n",
            "481 3\n",
            "482 3\n",
            "483 3\n",
            "484 3\n",
            "485 3\n",
            "486 3\n",
            "487 3\n",
            "488 3\n",
            "489 3\n",
            "490 3\n",
            "491 3\n",
            "492 3\n",
            "493 3\n",
            "494 3\n",
            "495 3\n",
            "496 3\n",
            "497 3\n",
            "498 3\n",
            "499 3\n",
            "500 3\n",
            "501 3\n",
            "502 3\n",
            "503 3\n",
            "504 3\n",
            "505 3\n",
            "506 3\n",
            "507 3\n",
            "508 3\n",
            "509 3\n",
            "510 3\n",
            "511 3\n",
            "512 3\n",
            "513 3\n",
            "514 3\n",
            "515 3\n",
            "516 3\n",
            "517 3\n",
            "518 3\n",
            "519 3\n",
            "520 3\n",
            "521 3\n",
            "522 3\n",
            "523 3\n",
            "524 3\n",
            "525 3\n",
            "526 3\n",
            "527 3\n",
            "528 3\n",
            "529 3\n",
            "530 3\n",
            "531 3\n",
            "532 3\n",
            "533 3\n",
            "534 3\n",
            "535 3\n",
            "536 3\n",
            "537 3\n",
            "538 3\n",
            "539 3\n",
            "540 3\n",
            "541 3\n",
            "542 3\n",
            "543 3\n",
            "544 3\n",
            "545 3\n",
            "546 3\n",
            "547 3\n",
            "548 3\n",
            "549 3\n",
            "550 3\n",
            "551 3\n",
            "552 3\n",
            "553 3\n",
            "554 3\n",
            "555 3\n",
            "556 3\n",
            "557 3\n",
            "558 3\n",
            "559 3\n",
            "560 3\n",
            "561 3\n",
            "562 3\n",
            "563 3\n",
            "564 3\n",
            "565 3\n",
            "566 3\n",
            "567 3\n",
            "568 3\n",
            "569 3\n",
            "570 3\n",
            "571 3\n",
            "572 3\n",
            "573 3\n",
            "574 3\n",
            "575 3\n",
            "576 3\n",
            "577 3\n",
            "578 3\n",
            "579 3\n",
            "580 3\n",
            "581 3\n",
            "582 3\n",
            "583 3\n",
            "584 3\n",
            "585 3\n",
            "586 3\n",
            "587 3\n",
            "588 3\n",
            "589 3\n",
            "590 3\n",
            "591 3\n",
            "592 3\n",
            "593 3\n",
            "594 3\n",
            "595 3\n",
            "596 3\n",
            "597 3\n",
            "598 3\n",
            "599 3\n"
          ],
          "name": "stdout"
        }
      ]
    },
    {
      "cell_type": "markdown",
      "metadata": {
        "id": "GNrjz_Y5FA66"
      },
      "source": [
        "А теперь реализуем метод для очистки LinkedList"
      ]
    },
    {
      "cell_type": "markdown",
      "metadata": {
        "id": "W_W6C-u2E8Wq"
      },
      "source": [
        "### Циклические ссылки"
      ]
    },
    {
      "cell_type": "markdown",
      "metadata": {
        "id": "fZMrFS56FX_t"
      },
      "source": [
        "![image.png](data:image/png;base64,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)"
      ]
    },
    {
      "cell_type": "markdown",
      "metadata": {
        "id": "PJdFLMG9FaqP"
      },
      "source": [
        "- Два объекта A и B ссылаются друг на друга;\n",
        "- Счётчик ссылок на каждый из объектов больше нуля;\n",
        "- Объекты могут быть уничтожены, если запустится циклический сборщик мусора."
      ]
    },
    {
      "cell_type": "code",
      "metadata": {
        "id": "yZbPuHdiGmma"
      },
      "source": [
        "# DoubleLinkedNode"
      ],
      "execution_count": null,
      "outputs": []
    },
    {
      "cell_type": "markdown",
      "metadata": {
        "id": "2edS1M6AFmGH"
      },
      "source": [
        "Циклический сборщик мусора (Cyclic garbage collector, GC) - это сборщик мусора, который\n",
        "1. обнаруживает неиспользуемые\n",
        "циклически связанные объекты и\n",
        "2. уменьшает их счётчики ссылок до\n",
        "нуля."
      ]
    },
    {
      "cell_type": "markdown",
      "metadata": {
        "id": "C8Jq2fmmFsss"
      },
      "source": [
        "Со стороны прикладного программиста\n",
        "невозможно определить когда сборщик\n",
        "мусора удалит эти объекты."
      ]
    },
    {
      "cell_type": "code",
      "metadata": {
        "id": "VeD-5PTZFyif"
      },
      "source": [
        "import gc\n",
        "g.collect()"
      ],
      "execution_count": null,
      "outputs": []
    },
    {
      "cell_type": "code",
      "metadata": {
        "colab": {
          "base_uri": "https://localhost:8080/"
        },
        "id": "sdQZjlSwE6CB",
        "outputId": "a9656b1d-2bea-4eef-cf5b-1ca79d7f661b"
      },
      "source": [
        "from weakref import ref\n",
        "\n",
        "class A:\n",
        "    def __init__(self, a):\n",
        "        self.a = a\n",
        "        \n",
        "a = A(5)\n",
        "weak_a = ref(a)\n",
        "\n",
        "print(weak_a().a)"
      ],
      "execution_count": null,
      "outputs": [
        {
          "output_type": "stream",
          "text": [
            "5\n"
          ],
          "name": "stdout"
        }
      ]
    }
  ]
}