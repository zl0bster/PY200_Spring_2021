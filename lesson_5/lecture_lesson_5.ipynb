{
  "nbformat": 4,
  "nbformat_minor": 0,
  "metadata": {
    "colab": {
      "name": "lecture_lesson_5.ipynb",
      "provenance": [],
      "toc_visible": true,
      "authorship_tag": "ABX9TyMyikHLLkc79Xr0mpKM0zOV",
      "include_colab_link": true
    },
    "kernelspec": {
      "name": "python3",
      "display_name": "Python 3"
    }
  },
  "cells": [
    {
      "cell_type": "markdown",
      "metadata": {
        "id": "view-in-github",
        "colab_type": "text"
      },
      "source": [
        "<a href=\"https://colab.research.google.com/github/aeksei/PY200_Spring_2021/blob/master/lesson_5/lecture_lesson_5.ipynb\" target=\"_parent\"><img src=\"https://colab.research.google.com/assets/colab-badge.svg\" alt=\"Open In Colab\"/></a>"
      ]
    },
    {
      "cell_type": "markdown",
      "metadata": {
        "id": "h1wTd2zzkzuD"
      },
      "source": [
        "# UML"
      ]
    },
    {
      "cell_type": "markdown",
      "metadata": {
        "id": "6uvaDiqHdQYf"
      },
      "source": [
        "**UML** – унифицированный язык моделирования (Unified Modeling Language) – это система обозначений, которую можно применять для объектно-ориентированного анализа и проектирования.\n",
        "\n",
        "\n",
        "Его можно использовать для визуализации, спецификации, конструирования и документирования программных систем."
      ]
    },
    {
      "cell_type": "markdown",
      "metadata": {
        "id": "M2v7iNijdYds"
      },
      "source": [
        "Словарь UML включает три вида строительных блоков:\n",
        "\n",
        "- Диаграммы.\n",
        "- Сущности.\n",
        "- Взаимосвязи."
      ]
    },
    {
      "cell_type": "markdown",
      "metadata": {
        "id": "_ImraVGddujJ"
      },
      "source": [
        "**Сущности** – это абстракции, которые являются основными элементами модели, **взаимосвязи** соединяют их между собой, а **диаграммы** группируют представляющие интерес наборы сущностей."
      ]
    },
    {
      "cell_type": "markdown",
      "metadata": {
        "id": "i8Vlugptd4IV"
      },
      "source": [
        "Язык UML включает множество видов диаграмм, среди которых на первом месте — **диаграмма классов**, о которой будем говорить сегодня на занятии."
      ]
    },
    {
      "cell_type": "markdown",
      "metadata": {
        "id": "0pvomOcfeMJq"
      },
      "source": [
        "## Диаграммы классов"
      ]
    },
    {
      "cell_type": "markdown",
      "metadata": {
        "id": "A9D1Sjg1eSDe"
      },
      "source": [
        "Диаграммы классов показывают набор классов, интерфейсов, а также их взаимосвязи. Диаграммы этого вида чаще всего используются для моделирования объектно-ориентированных систем. Они предназначены для статического представления системы.\n",
        "\n",
        "Графическую и структурированную информацию всегда проще воспринимать. А с учетом стандартов UML, структуру вашего проекта смогут понять другие люди, которые конечно же знакомы с UML."
      ]
    },
    {
      "cell_type": "markdown",
      "metadata": {
        "id": "-N0QywDvbW5a"
      },
      "source": [
        "### Описание класса"
      ]
    },
    {
      "cell_type": "markdown",
      "metadata": {
        "id": "IUNIXWvzNJug"
      },
      "source": [
        "Класс — один из самых \"богатых\" элементов моделирования UML.\n",
        "Описание класса может включать множество различных элементов, и\n",
        "чтобы они не путались, в языке предусмотрено группирование элементов описания класса по секциям.\n",
        "\n",
        "Стандартных секций три:\n",
        "- секция имени;\n",
        "- секция атрибутов — содержит список описаний атрибутов;\n",
        "- секция методов — содержит список описаний методов класса."
      ]
    },
    {
      "cell_type": "markdown",
      "metadata": {
        "id": "ebqrlGXGPGsc"
      },
      "source": [
        "<img src=\"https://drive.google.com/uc?id=1wjD9aGv3hxnofZJA0r7-HozCQL5PSSEU\"/>"
      ]
    },
    {
      "cell_type": "markdown",
      "metadata": {
        "id": "EqWRmXg8PLZt"
      },
      "source": [
        "- **Символ `\"+\"`** обозначает атрибут с областью видимости типа общедоступный (public). Атрибут с этой областью видимости доступен или виден из любого другого класса.\n",
        "\n",
        "- **Символ `\"#\"`** обозначает атрибут с областью видимости типа защищенный (protected). Атрибут с этой областью видимости недоступен или невиден для всех классов, за исключением подклассов данного класса.\n",
        "\n",
        "-  **Символ `\"-\"`** обозначает атрибут с областью видимости типа закрытый (private). Атрибут с этой областью видимости недоступен или невиден для всех классов без исключения."
      ]
    },
    {
      "cell_type": "markdown",
      "metadata": {
        "id": "atbcD79qby6J"
      },
      "source": [
        "### Взаимосвязи"
      ]
    },
    {
      "cell_type": "markdown",
      "metadata": {
        "id": "z2g9ZnKkc-N5"
      },
      "source": [
        "Взаимосвязь — это особый тип логических отношений между сущностями, показанных на диаграммах классов и объектов. \n",
        "\n",
        "В UML представлены следующие виды отношений:"
      ]
    },
    {
      "cell_type": "markdown",
      "metadata": {
        "id": "_dmE8GYZb46D"
      },
      "source": [
        "![Взаимосвязи классов](https://upload.wikimedia.org/wikipedia/commons/thumb/7/77/Uml_classes_ru.svg/1024px-Uml_classes_ru.svg.png)"
      ]
    },
    {
      "cell_type": "markdown",
      "metadata": {
        "id": "xLhKzj0McjDy"
      },
      "source": [
        "#### **Наследование**"
      ]
    },
    {
      "cell_type": "markdown",
      "metadata": {
        "id": "w06RSjFYcy8Z"
      },
      "source": [
        "<img src=\"https://drive.google.com/uc?id=1FvsqzdW92p4-4dXOb4Xxhkcy-TIgMRQi\"/>"
      ]
    },
    {
      "cell_type": "markdown",
      "metadata": {
        "id": "fG7rWfRrhmKM"
      },
      "source": [
        "Наследование (или обобщение) показывает, что один из двух связанных классов является частной формой другого. \n",
        "\n",
        "Графически наследование представляется **линией с пустым треугольником** у родительского класса.\n",
        "\n",
        "Класс **`Фигура`** является родительским классом.\n",
        "\n",
        "Классы **`Треугольник`**, **`Прямоугольник`**, **`Круг`** являются дочерними классами.\n"
      ]
    },
    {
      "cell_type": "markdown",
      "metadata": {
        "id": "qYy06zN0ipV3"
      },
      "source": [
        "Атрибут **`название`** доступен у всех наследников класса **`Фигура`**.\n",
        "\n",
        "Классах **`Треугольник`**, **`Прямоугольник`**, **`Круг`** появляется метод **`площадь`**.\n",
        "\n",
        "В классе **`ПрямоугольныйТреугольник`** переопределяем метод **`площадь`**.\n",
        "\n"
      ]
    },
    {
      "cell_type": "markdown",
      "metadata": {
        "id": "sPveS_wJpVgp"
      },
      "source": [
        "#### **Реализация**"
      ]
    },
    {
      "cell_type": "markdown",
      "metadata": {
        "id": "B6QNK_lVpnlO"
      },
      "source": [
        "Для разбора взаимосвязи \"реализация\", поговорим о таком понятии как **абстрактный класс**.\n",
        "\n"
      ]
    },
    {
      "cell_type": "markdown",
      "metadata": {
        "id": "ZfYHpp_3rFWo"
      },
      "source": [
        "**Абстрактный класс** - это класс, в котором есть хотя бы один метод без реализации.\n",
        "\n",
        "Абстрактные классы предназначены\n",
        "для **описания** (отсутсвует реализация) интерфейса всех своих\n",
        "потомков."
      ]
    },
    {
      "cell_type": "markdown",
      "metadata": {
        "id": "01dbEYPasMNl"
      },
      "source": [
        "<img src=\"https://drive.google.com/uc?id=1jZTYvjuiZWvtASroEBO5loWuTTnmjhcy\"/>"
      ]
    },
    {
      "cell_type": "markdown",
      "metadata": {
        "id": "DzfLghFfsQeS"
      },
      "source": [
        "В UML диаграме абстрактный класс обозначается **курсивом**. \n",
        "\n",
        "Взаимосвязь при \"реализации\" указывается аналогично наследованию, только успользуется **пунктирная линия.**"
      ]
    },
    {
      "cell_type": "markdown",
      "metadata": {
        "id": "q5U4vjsHs2j2"
      },
      "source": [
        "С точки зрения Python абстрактные классы реализуются следующим образом:\n",
        "1. Наследование от класса **`ABC`** из встроенного модуля **`abc`**.\n",
        "2. Абстрактный метод декорируется декоратором **`abstractmethod`** из того же модуля."
      ]
    },
    {
      "cell_type": "code",
      "metadata": {
        "id": "BIAy30BthlmI"
      },
      "source": [
        "from abc import ABC, abstractmethod\n",
        "\n",
        "class Figure(ABC):\n",
        "    ...\n",
        "\n",
        "    @abstractmethod\n",
        "    def area(self):\n",
        "        ...\n",
        "\n",
        "\n",
        "class Triangle(Figure):\n",
        "    ..."
      ],
      "execution_count": null,
      "outputs": []
    },
    {
      "cell_type": "code",
      "metadata": {
        "colab": {
          "base_uri": "https://localhost:8080/",
          "height": 164
        },
        "id": "jn6KYJ4bu9GR",
        "outputId": "cf92e0f8-984f-4964-8ea5-983d219dbf05"
      },
      "source": [
        "t = Triangle()  # нельзя создать объект, не переопределив абстрактный метод"
      ],
      "execution_count": null,
      "outputs": [
        {
          "output_type": "error",
          "ename": "TypeError",
          "evalue": "ignored",
          "traceback": [
            "\u001b[0;31m---------------------------------------------------------------------------\u001b[0m",
            "\u001b[0;31mTypeError\u001b[0m                                 Traceback (most recent call last)",
            "\u001b[0;32m<ipython-input-11-93d43e54d338>\u001b[0m in \u001b[0;36m<module>\u001b[0;34m()\u001b[0m\n\u001b[0;32m----> 1\u001b[0;31m \u001b[0mt\u001b[0m \u001b[0;34m=\u001b[0m \u001b[0mTriangle\u001b[0m\u001b[0;34m(\u001b[0m\u001b[0;34m)\u001b[0m  \u001b[0;31m# нельзя создать объект, не переопределив абстрактный метод\u001b[0m\u001b[0;34m\u001b[0m\u001b[0;34m\u001b[0m\u001b[0m\n\u001b[0m",
            "\u001b[0;31mTypeError\u001b[0m: Can't instantiate abstract class Triangle with abstract methods area"
          ]
        }
      ]
    },
    {
      "cell_type": "markdown",
      "metadata": {
        "id": "a4Ouij1JuFHS"
      },
      "source": [
        "Предупреждение в IDE PyCharm, о том, что вы забыли определить абстрактный метод.\n",
        "<img src=\"https://drive.google.com/uc?id=1-CAjJ3q9lMqa75zNMOzAUI5p_-v3hJkp\"/>"
      ]
    },
    {
      "cell_type": "markdown",
      "metadata": {
        "id": "GJd9vszuvPKR"
      },
      "source": [
        "Назначение абстрактных классов - запрет\n",
        "создания объекты, у которых не переопределен абстрактный метод.\n",
        "\n",
        "Позволяет задекларировать какой-то абстрактный метод без реализации и пользоваться им при проектировании. А позже обязать других разработчиков  определить логику работы абстрактного метода."
      ]
    },
    {
      "cell_type": "markdown",
      "metadata": {
        "id": "ZchlG0Pj7gor"
      },
      "source": [
        "См. паттерн стратегия"
      ]
    },
    {
      "cell_type": "markdown",
      "metadata": {
        "id": "ERp1G2157l97"
      },
      "source": [
        "#### **Ассоциация**"
      ]
    },
    {
      "cell_type": "markdown",
      "metadata": {
        "id": "wrd_IxVR7t0J"
      },
      "source": [
        "Отношение ассоциации означает наличие атрибута, в котором будет храниться **ссылка** (ссылки) на объект (объекты) класса, в сторону которого направлена стрелка ассоциации.\n",
        "\n",
        "Графически представляется линие со стрелкой от независимого объекта к зависимому."
      ]
    },
    {
      "cell_type": "markdown",
      "metadata": {
        "id": "y0fPSj0P9Cy2"
      },
      "source": [
        "<img src=\"https://drive.google.com/uc?id=1y_KU65XMGL2APImVtAzR6DlNR9aqixPb\"/>"
      ]
    },
    {
      "cell_type": "markdown",
      "metadata": {
        "id": "1NKWmK9q7_JV"
      },
      "source": [
        "```python\n",
        "class Node:\n",
        "    def __init__(self, value: str, next_: 'Node'):\n",
        "        self.value = value\n",
        "        self.next = next_\n",
        "\n",
        "    @property\n",
        "    def next(self):\n",
        "        return self.__next  # self.__next - экземпляр класса Node\n",
        "\n",
        "    @next.setter\n",
        "    def next(self, next_: 'Node'):\n",
        "        # не обращаемся ни к каким методам и атрибутам, работаем с самим объектом (его ссылкой в памяти)\n",
        "        self.__next = next_  \n",
        "```"
      ]
    },
    {
      "cell_type": "markdown",
      "metadata": {
        "id": "xWtfMFVt-MWF"
      },
      "source": [
        "#### **Зависимость**"
      ]
    },
    {
      "cell_type": "markdown",
      "metadata": {
        "id": "kCMvz7bt-fCJ"
      },
      "source": [
        "Отношение зависимости свидетельствует об **обращении к атрибутам, методам** из объекта зависимого класса к объектам независимого класса.\n",
        "\n",
        "Зависимость – это связь использования, указывающая, что **изменение** спецификаций одной сущности **может повлиять** на другие сущности, которые используют ее.\n",
        "\n",
        "Графически представляется пунктирной линией, направленной к той сущности, от которой зависит еще одна."
      ]
    },
    {
      "cell_type": "markdown",
      "metadata": {
        "id": "WTImW28Y_5sd"
      },
      "source": [
        "<img src=\"https://drive.google.com/uc?id=13tsxCVJTJ016VxR473b8omWTOwxZ-yBm\"/>\n"
      ]
    },
    {
      "cell_type": "markdown",
      "metadata": {
        "id": "8BQt-RRRAvVD"
      },
      "source": [
        "```python\n",
        "class Node:\n",
        "    def __init__(self, value: str, name: str):\n",
        "        self.value = value\n",
        "        self.name = name\n",
        "\n",
        "    def get_value(self) -> str:\n",
        "        # обращаемся к методу объекта str\n",
        "        return self.value.upper() \n",
        "```"
      ]
    },
    {
      "cell_type": "markdown",
      "metadata": {
        "id": "AZJmIgETCsak"
      },
      "source": [
        "#### **Агрегация и композиция**"
      ]
    },
    {
      "cell_type": "markdown",
      "metadata": {
        "id": "eATOXOihDR6k"
      },
      "source": [
        "Отношения агрегации и композиции являются частными случаями ассоциации."
      ]
    },
    {
      "cell_type": "markdown",
      "metadata": {
        "id": "bJpkiDuHDDyH"
      },
      "source": [
        "Агрегация – особая разновидность ассоциации, представляющая структурную связь целого с его частями.\n",
        "\n",
        "Агрегация встречается, когда один класс является коллекцией или контейнером других. \n",
        "\n",
        "Причём, по умолчанию агрегацией называют агрегацию по ссылке, то есть когда время существования содержащихся классов не зависит от времени существования содержащего их класса. Если контейнер будет уничтожен, то его содержимое — нет.\n",
        "\n",
        "Графически агрегация представляется пустым ромбом на блоке класса \"контейнер\", и линией, идущей от этого ромба к классу \"содержимое контейнера\"."
      ]
    },
    {
      "cell_type": "markdown",
      "metadata": {
        "id": "Ki-B1bdRFAPX"
      },
      "source": [
        "<img src=\"https://drive.google.com/uc?id=1ME77SizcRLqJNooC5TeEV9eAR4awBMlf\"/>"
      ]
    },
    {
      "cell_type": "code",
      "metadata": {
        "id": "AxylfcM1FE6_"
      },
      "source": [
        "# класс для объектов содержимого контейнера list\n",
        "class Node:\n",
        "    def __init__(self, value):\n",
        "        self.value = value\n",
        "\n",
        "    def __repr__(self):\n",
        "        return f\"Node({self.value})\"\n",
        "\n",
        "    def __del__(self):\n",
        "        print(f\"Объект {repr(self)} удален\")"
      ],
      "execution_count": null,
      "outputs": []
    },
    {
      "cell_type": "code",
      "metadata": {
        "colab": {
          "base_uri": "https://localhost:8080/"
        },
        "id": "UNX6vrCrFsA_",
        "outputId": "26043185-4232-4e59-f65b-7fe6fb3b7c24"
      },
      "source": [
        "# Создаем объекты содержимое\n",
        "node_1 = Node(1)\n",
        "node_2 = Node(2)\n",
        "\n",
        "print(node_1)\n",
        "print(node_2)"
      ],
      "execution_count": null,
      "outputs": [
        {
          "output_type": "stream",
          "text": [
            "Node(1)\n",
            "Node(2)\n"
          ],
          "name": "stdout"
        }
      ]
    },
    {
      "cell_type": "code",
      "metadata": {
        "colab": {
          "base_uri": "https://localhost:8080/"
        },
        "id": "PVzy71pUF68P",
        "outputId": "e5c1b8f4-e52f-4c96-990d-9ac7c2a45da1"
      },
      "source": [
        "# Добавляем содержимое в контейнер\n",
        "list_ = [node_1] \n",
        "list_.append(node_2)\n",
        "\n",
        "print(list_)"
      ],
      "execution_count": null,
      "outputs": [
        {
          "output_type": "stream",
          "text": [
            "Объект Node(2) удален\n",
            "Объект Node(1) удален\n",
            "[Node(1), Node(2)]\n"
          ],
          "name": "stdout"
        }
      ]
    },
    {
      "cell_type": "code",
      "metadata": {
        "colab": {
          "base_uri": "https://localhost:8080/"
        },
        "id": "wyYroPcEGNeA",
        "outputId": "042fcdb2-c8fa-4b0e-d929-b5fd2c7d2aed"
      },
      "source": [
        "list_ = None\n",
        "\n",
        "print(node_1)\n",
        "print(node_2)"
      ],
      "execution_count": null,
      "outputs": [
        {
          "output_type": "stream",
          "text": [
            "Node(1)\n",
            "Node(2)\n"
          ],
          "name": "stdout"
        }
      ]
    },
    {
      "cell_type": "code",
      "metadata": {
        "id": "y9N4FhbxdkFS"
      },
      "source": [
        ""
      ],
      "execution_count": null,
      "outputs": []
    },
    {
      "cell_type": "markdown",
      "metadata": {
        "id": "CwKxEAhyFEgZ"
      },
      "source": [
        "Видим что после удаления контейнера **`list`** объекты класса **`Node`** продолжают своё существование. \n",
        "\n",
        "Это множественное сожержание объектов одного типа в другом, при учете что после удаления сожержимое продолжает жить - называется **агрегацией**."
      ]
    },
    {
      "cell_type": "markdown",
      "metadata": {
        "id": "lE6xQEBEFDx8"
      },
      "source": [
        "**Композиция** — более строгий вариант агрегации.\n",
        "\n",
        "**Композиция** – это форма агрегации с четко выраженными отношениями владения и совпадением времени жизни частей и целого. Композиция имеет жёсткую зависимость времени существования экземпляров класса контейнера и экземпляров содержащихся классов. \n",
        "\n",
        "Если контейнер будет уничтожен, то всё его содержимое будет также уничтожено.\n",
        "\n",
        "Графически представляется как и агрегация, но с закрашенным ромбиком."
      ]
    },
    {
      "cell_type": "markdown",
      "metadata": {
        "id": "3c8sNagILP06"
      },
      "source": [
        "<img src=\"https://drive.google.com/uc?id=1MQZlUImoky17UV_MYG8DbtP1eiHLTe6v\"/>"
      ]
    },
    {
      "cell_type": "code",
      "metadata": {
        "id": "6NbYg9WUI5R0"
      },
      "source": [
        "# класс для объектов содержимого контейнера list\n",
        "class Node:\n",
        "    def __init__(self, value: str, next_: 'Node' = None):\n",
        "        self.value = value\n",
        "        self.next = next_\n",
        " \n",
        "    @property\n",
        "    def next(self):\n",
        "        return self.__next\n",
        "\n",
        "    @next.setter\n",
        "    def next(self, next_: 'Node'):\n",
        "        self.__next = next_  \n",
        "\n",
        "    def __repr__(self):\n",
        "        return f\"Node({self.value})\"\n",
        "\n",
        "    def __del__(self):\n",
        "        print(f\"Объект {repr(self)} удален\")\n",
        "\n",
        "class LinkedList:\n",
        "    def __init__(self, data):\n",
        "        self.head = None  # Node\n",
        "        self.tail = None  # Node\n",
        "\n",
        "        for value in data:\n",
        "            self.append(value)\n",
        "\n",
        "    def append(self, value):\n",
        "        \"\"\"Добавление элемента в конец связного списка\"\"\"\n",
        "        append_node = Node(value)\n",
        "        if self.head is None:\n",
        "            self.head = self.tail = append_node\n",
        "        else:\n",
        "            self.tail.next = append_node\n",
        "            self.tail = append_node\n",
        "\n",
        "    def __del__(self):\n",
        "        print(f\"Объект {repr(self)} удален\")"
      ],
      "execution_count": null,
      "outputs": []
    },
    {
      "cell_type": "code",
      "metadata": {
        "colab": {
          "base_uri": "https://localhost:8080/"
        },
        "id": "_emJUQsYJ3D8",
        "outputId": "817b5872-b6ea-4556-a354-4dcd8ef68cfc"
      },
      "source": [
        "ll = LinkedList([1, 2, 3, 4, 5])\n",
        "\n",
        "print(ll)"
      ],
      "execution_count": null,
      "outputs": [
        {
          "output_type": "stream",
          "text": [
            "<__main__.LinkedList object at 0x7fd05984c5f8>\n"
          ],
          "name": "stdout"
        }
      ]
    },
    {
      "cell_type": "code",
      "metadata": {
        "colab": {
          "base_uri": "https://localhost:8080/"
        },
        "id": "b2wtIT9QKKaa",
        "outputId": "c0983e8b-252f-4d7e-a64c-d34b2ed948d0"
      },
      "source": [
        "ll = None"
      ],
      "execution_count": null,
      "outputs": [
        {
          "output_type": "stream",
          "text": [
            "Объект <__main__.LinkedList object at 0x7fd05984c5f8> удален\n",
            "Объект Node(1) удален\n",
            "Объект Node(2) удален\n",
            "Объект Node(3) удален\n",
            "Объект Node(4) удален\n",
            "Объект Node(5) удален\n"
          ],
          "name": "stdout"
        }
      ]
    },
    {
      "cell_type": "markdown",
      "metadata": {
        "id": "ZvLvZuS9Khxp"
      },
      "source": [
        "Уничнотежение контейнера повлекло за собой удаление его содержимого. Такое отношение называется агрегацией."
      ]
    },
    {
      "cell_type": "markdown",
      "metadata": {
        "id": "jmspYAA2kBbB"
      },
      "source": [
        "<img src=\"https://drive.google.com/uc?id=1Etf2jMh-KWxqa8Ekf9VSzmALQk35jSQy\"/>"
      ]
    },
    {
      "cell_type": "code",
      "metadata": {
        "id": "U8GnNljqbx1B"
      },
      "source": [
        "class Room:  # контейнер\n",
        "    ...\n",
        "\n",
        "\n",
        "class Wall:  # Композиция\n",
        "    ...\n",
        "\n",
        "\n",
        "class Table:  # Агрегация\n",
        "    ..."
      ],
      "execution_count": null,
      "outputs": []
    },
    {
      "cell_type": "code",
      "metadata": {
        "id": "x1UoJyyvdo99"
      },
      "source": [
        "# класс для объектов содержимого контейнера list\n",
        "class Node:\n",
        "    def __init__(self, value):\n",
        "        self.value = value\n",
        "\n",
        "    def __repr__(self):\n",
        "        return f\"Node({self.value})\"\n",
        "\n",
        "    def __del__(self):\n",
        "        print(f\"Объект {repr(self)} удален\")\n",
        "\n",
        "list_composition = [Node(1)]"
      ],
      "execution_count": null,
      "outputs": []
    },
    {
      "cell_type": "markdown",
      "metadata": {
        "id": "g_g-dB0rNYWU"
      },
      "source": [
        "# Паттерны"
      ]
    },
    {
      "cell_type": "markdown",
      "metadata": {
        "id": "bEyUhc-KHNls"
      },
      "source": [
        "## Итератор"
      ]
    },
    {
      "cell_type": "markdown",
      "metadata": {
        "id": "i9yIvICBIvm-"
      },
      "source": [
        "Итератор описывает:\n",
        "- интерфейс для доступа `__iter__`\n",
        "- интерфейс обхода элементов коллекции `__next__`"
      ]
    },
    {
      "cell_type": "markdown",
      "metadata": {
        "id": "VYZKHKI3JE6H"
      },
      "source": [
        "Конкретный итератор реализует алгоритм обхода какой-то конкретной коллекции. У одной коллекции может быть несколько одновременно работающих итераторов."
      ]
    },
    {
      "cell_type": "markdown",
      "metadata": {
        "id": "s-dk4rTYNolm"
      },
      "source": [
        "<img src=\"https://drive.google.com/uc?id=1gkJUQTsP0VmCtnmgacyH-Jia6mf4svKB\"/>"
      ]
    },
    {
      "cell_type": "code",
      "metadata": {
        "id": "ypHTXzeyIvDJ"
      },
      "source": [
        "class LinkedList:\n",
        "    class Node:\n",
        "        ...\n",
        "\n",
        "    ...\n",
        "\n",
        "    def __iter__(self):\n",
        "        return self.__value_iterator()\n",
        "    \n",
        "    def __value_iterator(self):\n",
        "        \"\"\"Функция-генератор\"\"\"\n",
        "        current_node = self.head\n",
        "        for _ in range(self.__len):\n",
        "            yield current_node.value\n",
        "            current_node = current_node.next"
      ],
      "execution_count": null,
      "outputs": []
    },
    {
      "cell_type": "markdown",
      "metadata": {
        "id": "ATsHdLIXIpQi"
      },
      "source": [
        "## Адаптер"
      ]
    },
    {
      "cell_type": "markdown",
      "metadata": {
        "id": "AP6frl04HOdF"
      },
      "source": [
        "https://refactoring.guru/ru/design-patterns/adapter"
      ]
    },
    {
      "cell_type": "code",
      "metadata": {
        "id": "-YXHH2VN128B"
      },
      "source": [
        "from typing import Any\n",
        "\n",
        "import numpy as np"
      ],
      "execution_count": null,
      "outputs": []
    },
    {
      "cell_type": "code",
      "metadata": {
        "id": "xgzoe4bF-Qdl"
      },
      "source": [
        "class ServerClass:\n",
        "    \"\"\"Код на стороне сервера менять не можем. Сервер выполняет вычисления очень быстро.\"\"\"\n",
        "\n",
        "    def find(self, data: list, value: Any) -> int:\n",
        "        return data.index(value)\n",
        "\n",
        "server = ServerClass()"
      ],
      "execution_count": null,
      "outputs": []
    },
    {
      "cell_type": "code",
      "metadata": {
        "colab": {
          "base_uri": "https://localhost:8080/"
        },
        "id": "ZPhpb3n518Ya",
        "outputId": "dc3d1f86-014e-42d2-b5cd-d8c907dc799d"
      },
      "source": [
        "# клиент\n",
        "list_ = [0, 1, 2, 3]\n",
        "\n",
        "print(server.find(list_, 1))"
      ],
      "execution_count": null,
      "outputs": [
        {
          "output_type": "stream",
          "text": [
            "1\n"
          ],
          "name": "stdout"
        }
      ]
    },
    {
      "cell_type": "markdown",
      "metadata": {
        "id": "uwBC_GQLAFge"
      },
      "source": [
        "Вдруг на клиенте добавляется возможность работы с numpy. "
      ]
    },
    {
      "cell_type": "code",
      "metadata": {
        "colab": {
          "base_uri": "https://localhost:8080/"
        },
        "id": "U7VFXdBW3liw",
        "outputId": "041242f2-272f-4dd6-f750-02e3c9ced522"
      },
      "source": [
        "np_array = np.array(list_)\n",
        "print(np_array)"
      ],
      "execution_count": null,
      "outputs": [
        {
          "output_type": "stream",
          "text": [
            "[0 1 2 3]\n"
          ],
          "name": "stdout"
        }
      ]
    },
    {
      "cell_type": "code",
      "metadata": {
        "id": "0E02lO6zmwZ4",
        "colab": {
          "base_uri": "https://localhost:8080/",
          "height": 283
        },
        "outputId": "ecd57925-7710-48df-ecd1-9afdca88a382"
      },
      "source": [
        "print(server.find(np_array, 1))"
      ],
      "execution_count": null,
      "outputs": [
        {
          "output_type": "error",
          "ename": "AttributeError",
          "evalue": "ignored",
          "traceback": [
            "\u001b[0;31m---------------------------------------------------------------------------\u001b[0m",
            "\u001b[0;31mAttributeError\u001b[0m                            Traceback (most recent call last)",
            "\u001b[0;32m<ipython-input-39-4c9d00c81a8b>\u001b[0m in \u001b[0;36m<module>\u001b[0;34m()\u001b[0m\n\u001b[0;32m----> 1\u001b[0;31m \u001b[0mprint\u001b[0m\u001b[0;34m(\u001b[0m\u001b[0mserver\u001b[0m\u001b[0;34m.\u001b[0m\u001b[0mfind\u001b[0m\u001b[0;34m(\u001b[0m\u001b[0mnp_array\u001b[0m\u001b[0;34m,\u001b[0m \u001b[0;36m1\u001b[0m\u001b[0;34m)\u001b[0m\u001b[0;34m)\u001b[0m\u001b[0;34m\u001b[0m\u001b[0;34m\u001b[0m\u001b[0m\n\u001b[0m",
            "\u001b[0;32m<ipython-input-34-9accf9d2cd21>\u001b[0m in \u001b[0;36mfind\u001b[0;34m(self, data, value)\u001b[0m\n\u001b[1;32m      3\u001b[0m \u001b[0;34m\u001b[0m\u001b[0m\n\u001b[1;32m      4\u001b[0m     \u001b[0;32mdef\u001b[0m \u001b[0mfind\u001b[0m\u001b[0;34m(\u001b[0m\u001b[0mself\u001b[0m\u001b[0;34m,\u001b[0m \u001b[0mdata\u001b[0m\u001b[0;34m:\u001b[0m \u001b[0mlist\u001b[0m\u001b[0;34m,\u001b[0m \u001b[0mvalue\u001b[0m\u001b[0;34m:\u001b[0m \u001b[0mAny\u001b[0m\u001b[0;34m)\u001b[0m \u001b[0;34m->\u001b[0m \u001b[0mint\u001b[0m\u001b[0;34m:\u001b[0m\u001b[0;34m\u001b[0m\u001b[0;34m\u001b[0m\u001b[0m\n\u001b[0;32m----> 5\u001b[0;31m         \u001b[0;32mreturn\u001b[0m \u001b[0mdata\u001b[0m\u001b[0;34m.\u001b[0m\u001b[0mindex\u001b[0m\u001b[0;34m(\u001b[0m\u001b[0mvalue\u001b[0m\u001b[0;34m)\u001b[0m\u001b[0;34m\u001b[0m\u001b[0;34m\u001b[0m\u001b[0m\n\u001b[0m\u001b[1;32m      6\u001b[0m \u001b[0;34m\u001b[0m\u001b[0m\n\u001b[1;32m      7\u001b[0m \u001b[0mserver\u001b[0m \u001b[0;34m=\u001b[0m \u001b[0mServerClass\u001b[0m\u001b[0;34m(\u001b[0m\u001b[0;34m)\u001b[0m\u001b[0;34m\u001b[0m\u001b[0;34m\u001b[0m\u001b[0m\n",
            "\u001b[0;31mAttributeError\u001b[0m: 'numpy.ndarray' object has no attribute 'index'"
          ]
        }
      ]
    },
    {
      "cell_type": "markdown",
      "metadata": {
        "id": "yvGcMRCLC5oW"
      },
      "source": [
        "Но сервер не может использовать этот класс напрямую, так как объект **не имеет понятный ему интерфейс**."
      ]
    },
    {
      "cell_type": "code",
      "metadata": {
        "id": "fVfLFUi15mpw"
      },
      "source": [
        "class NumpyAdapter:\n",
        "    def __init__(self, np_array: np.ndarray):\n",
        "        self.np_array = np_array\n",
        "\n",
        "    def index(self, value: Any) -> int:\n",
        "        \"\"\"Делаем для numpy массива возможность работы с методом index\"\"\"\n",
        "        for i, np_value in enumerate(self.np_array):\n",
        "            if np_value == value:\n",
        "                return i"
      ],
      "execution_count": null,
      "outputs": []
    },
    {
      "cell_type": "code",
      "metadata": {
        "colab": {
          "base_uri": "https://localhost:8080/"
        },
        "id": "0YbnFTBvB1G4",
        "outputId": "e22a8acc-f2dc-40b0-ae1a-0855215b2a74"
      },
      "source": [
        "np_array_adapter = NumpyAdapter(np.array(list_))\n",
        "print(server.find(np_array_adapter, 1))"
      ],
      "execution_count": null,
      "outputs": [
        {
          "output_type": "stream",
          "text": [
            "1\n"
          ],
          "name": "stdout"
        }
      ]
    },
    {
      "cell_type": "code",
      "metadata": {
        "id": "Wz5iDmNWEfcq"
      },
      "source": [
        "class DictAdapter(dict):\n",
        "    \n",
        "    def index(self, value: Any) -> int:\n",
        "        ..."
      ],
      "execution_count": null,
      "outputs": []
    },
    {
      "cell_type": "code",
      "metadata": {
        "id": "CkUtp5H-Ew78"
      },
      "source": [
        "np_array_adapter = NumpyAdapter(np.array(list_))\n",
        "print(server.find(np_array_adapter, 1))"
      ],
      "execution_count": null,
      "outputs": []
    },
    {
      "cell_type": "markdown",
      "metadata": {
        "id": "8PuCokonGjB5"
      },
      "source": [
        "<img src=\"https://drive.google.com/uc?id=1UpdfNyyed30dVj0bjo1TvVaK4vflzDkg\"/>"
      ]
    },
    {
      "cell_type": "markdown",
      "metadata": {
        "id": "EbriiWaCVOan"
      },
      "source": [
        "## Стратерия"
      ]
    },
    {
      "cell_type": "markdown",
      "metadata": {
        "id": "RA0Lruu-XG7A"
      },
      "source": [
        "**Стратегия** — это поведенческий паттерн проектирования, который определяет семейство схожих алгоритмов и помещает каждый из них в собственный класс, после чего алгоритмы можно взаимозаменять прямо во время исполнения программы."
      ]
    },
    {
      "cell_type": "markdown",
      "metadata": {
        "id": "UFK23gZ6bqIV"
      },
      "source": [
        "Паттерн Стратегия предлагает определить семейство схожих алгоритмов, которые часто изменяются или расширяются, и вынести их в **собственные классы**, называемые стратегиями.\n",
        "\n",
        "Вместо того, чтобы изначальный класс сам выполнял тот или иной алгоритм, он будет играть роль контекста, ссылаясь на одну из стратегий и делегируя ей выполнение работы. Чтобы сменить алгоритм, вам будет **достаточно подставить в контекст другой объект-стратегию**.\n",
        "\n",
        "Важно, чтобы **все стратегии имели общий интерфейс**. Используя этот интерфейс, контекст будет независимым от конкретных классов стратегий. С другой стороны, вы сможете изменять и добавлять новые виды алгоритмов, не трогая код контекста."
      ]
    },
    {
      "cell_type": "markdown",
      "metadata": {
        "id": "XC1iY1-6b2x5"
      },
      "source": [
        "<img src=\"https://drive.google.com/uc?id=1lodvnjBupuZO_h_lCLTte2ffM58zlYeE\"/>"
      ]
    },
    {
      "cell_type": "code",
      "metadata": {
        "id": "G_C-zMiQXHeX"
      },
      "source": [
        "from abc import ABC, abstractmethod\n",
        "\n",
        "\n",
        "class IStructureDriver(ABC):\n",
        "    @abstractmethod\n",
        "    def read(self) -> Iterable:\n",
        "        pass\n",
        "\n",
        "    @abstractmethod\n",
        "    def write(self, d: Iterable):\n",
        "        pass\n",
        "\n",
        "\n",
        "class LinkedListWithDriver(LinkedList):\n",
        "    def __init__(self, data, driver: IStructureDriver = None):\n",
        "        super().__init__(data)\n",
        "        self.__driver = driver\n",
        "\n",
        "    def write(self):\n",
        "        self.__driver.write(self)\n",
        "\n",
        "    def read(self):\n",
        "        self.clear()\n",
        "        for value in self.__driver.read():\n",
        "            self.append(value)"
      ],
      "execution_count": null,
      "outputs": []
    },
    {
      "cell_type": "markdown",
      "metadata": {
        "id": "4MqW_xQunglS"
      },
      "source": [
        "- Горячая замена алгоритмов на лету.\n",
        "- Изолирует код и данные алгоритмов от остальных классов.\n",
        "- Уход от наследования к делегированию"
      ]
    },
    {
      "cell_type": "markdown",
      "metadata": {
        "id": "-B6eXyKjVYT4"
      },
      "source": [
        "## Фабричный метод"
      ]
    },
    {
      "cell_type": "markdown",
      "metadata": {
        "id": "GnEpnJtPqpLI"
      },
      "source": [
        "**Фабричный метод** — это порождающий паттерн проектирования, который определяет общий интерфейс для создания объектов в суперклассе, позволяя подклассам изменять тип создаваемых объектов."
      ]
    },
    {
      "cell_type": "markdown",
      "metadata": {
        "id": "6RSAf_5EqjNE"
      },
      "source": [
        "Благодаря этому, код производства можно расширять, не трогая основной. \n",
        "\n",
        "Так, чтобы добавить поддержку нового продукта, вам нужно создать новый подкласс и определить в нём фабричный метод, возвращая оттуда экземпляр нового продукта."
      ]
    },
    {
      "cell_type": "markdown",
      "metadata": {
        "id": "pPp_8LXpnV2H"
      },
      "source": [
        "- Выделяет код производства продуктов в одно место, упрощая поддержку кода.\n",
        "- Упрощает добавление новых продуктов в программу."
      ]
    },
    {
      "cell_type": "code",
      "metadata": {
        "id": "HAS6F6rlVVwB"
      },
      "source": [
        ""
      ],
      "execution_count": null,
      "outputs": []
    }
  ]
}